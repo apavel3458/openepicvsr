{
 "cells": [
  {
   "cell_type": "code",
   "execution_count": 1,
   "id": "bec8ce0f",
   "metadata": {},
   "outputs": [],
   "source": [
    "import pandas as pd\n",
    "import numpy as np\n",
    "import plotly.express as px\n",
    "from lib.DrugUtil import flatten, DrugUtil\n",
    "\n",
    "import plotly.express as px\n",
    "from lib.FhirDataUtil import FhirDataUtil\n",
    "from lib.CCSDataUtil import CCSDataUtil\n",
    "from IPython.display import display, HTML\n",
    "\n",
    "\n",
    "def printmd(string):\n",
    "    display(string)\n",
    "\n",
    "%load_ext autoreload\n",
    "%autoreload 2\n",
    "\n",
    "pd.set_option('display.max_columns', 50)\n",
    "pd.set_option('display.max_rows', 500)\n",
    "pd.set_option('display.max_colwidth', None)\n",
    "\n",
    "_output_dir = 'output/'\n",
    "\n",
    "_rxnorm_file = \"input_static/RxTerms202203/RxTerms202203.txt\"\n",
    "_rxnorm_ingredients_file = \"input_static/RxTerms202203/RxTermsIngredients202203.txt\"\n",
    "_rxclass_file = \"input_static/_rxclass_2022-04-10.csv\"\n",
    "\n",
    "_ccs_demographics_file = \"input/ccs/ccs_demographics.csv\"\n",
    "_ccs_medications_file = \"input/ccs/ccs_medications.csv\"\n",
    "_ccs_conditions_file = \"input/ccs/ccs_conditions.csv\"\n",
    "\n",
    "_fhir_demographics_file = \"input/fhir_20230423/fhir_demographics.csv\"\n",
    "\n",
    "_cache_dir = 'cache/'"
   ]
  },
  {
   "cell_type": "code",
   "execution_count": 2,
   "id": "c579d7be",
   "metadata": {},
   "outputs": [
    {
     "name": "stdout",
     "output_type": "stream",
     "text": [
      "Reading rxclass file...\n",
      "Reading rxnorm file...\n",
      "Loaded demographics file with entries:  99064\n"
     ]
    },
    {
     "name": "stderr",
     "output_type": "stream",
     "text": [
      "/app/lib/CCSDataUtil.py:75: DtypeWarning: Columns (11,14,15) have mixed types. Specify dtype option on import or set low_memory=False.\n",
      "  self.demographics = pd.read_csv(ccs_demographics)\n"
     ]
    }
   ],
   "source": [
    "fhirUtil = FhirDataUtil()\n",
    "drugUtil = DrugUtil()\n",
    "drugUtil.load(rxnorm_file=_rxnorm_file,\n",
    "                        rxnorm_ingredients_file=_rxnorm_ingredients_file, \n",
    "                        rxclass_file=_rxclass_file)\n",
    "\n",
    "ccsUtil = CCSDataUtil(drugUtil)\n",
    "ccsUtil.load_demographics(_ccs_demographics_file)\n",
    "ccs_demo = ccsUtil.demographics\n",
    "\n",
    "fhirUtil.load_demographics(fhir_demographics_file=_fhir_demographics_file)\n",
    "fhir_demo = fhirUtil.demographics"
   ]
  },
  {
   "cell_type": "code",
   "execution_count": 3,
   "id": "31630b74",
   "metadata": {},
   "outputs": [
    {
     "data": {
      "text/plain": [
       "left_only     97508\n",
       "both           1555\n",
       "right_only       48\n",
       "Name: _merge, dtype: int64"
      ]
     },
     "execution_count": 3,
     "metadata": {},
     "output_type": "execute_result"
    }
   ],
   "source": [
    "\n",
    "ccs_demo.drop_duplicates('user_id').merge(fhir_demo.drop_duplicates('user_id'), on='user_id', how=\"outer\", indicator=True)['_merge'].value_counts()"
   ]
  },
  {
   "cell_type": "code",
   "execution_count": 23,
   "id": "204c30f8",
   "metadata": {},
   "outputs": [
    {
     "name": "stdout",
     "output_type": "stream",
     "text": [
      "loaded 0 records\n",
      "loaded 500000 records\n",
      "loaded 1000000 records\n",
      "loaded 1500000 records\n",
      "loaded 2000000 records\n",
      "loaded 2500000 records\n",
      "loaded 3000000 records\n",
      "loaded 3500000 records\n",
      "loaded 4000000 records\n",
      "loaded 4500000 records\n",
      "Total ccs_meds entries loaded: 296322\n"
     ]
    }
   ],
   "source": [
    "chunksize = 500000\n",
    "\n",
    "list_of_dataframes = []\n",
    "\n",
    "for chunk in pd.read_csv(_ccs_medications_file, chunksize=chunksize, low_memory=False):\n",
    "    # process your data frame here\n",
    "    # then add the current data frame into the list\n",
    "    print('loaded', len(list_of_dataframes)*chunksize, 'records')\n",
    "    chunk = chunk[chunk['user_id'].isin(fhir_demo['user_id'])]\n",
    "    list_of_dataframes.append(chunk)\n",
    "\n",
    "# if you want all the dataframes together, here it is\n",
    "ccs_meds = pd.concat(list_of_dataframes)\n",
    "\n",
    "print(\"Total ccs_meds entries loaded:\", len(ccs_meds))"
   ]
  },
  {
   "cell_type": "code",
   "execution_count": 5,
   "id": "6b71dc34",
   "metadata": {},
   "outputs": [
    {
     "name": "stdout",
     "output_type": "stream",
     "text": [
      "Selected users: 709\n",
      "Total Meds: 296322\n"
     ]
    }
   ],
   "source": [
    "# Select only the FHIR users\n",
    "ccs_meds = ccs_meds[ccs_meds['user_id'].isin(fhir_demo['user_id'])]\n",
    "ccs_meds[\"submitted_at\"] = pd.to_datetime(ccs_meds[\"submitted_at\"])\n",
    "print('Selected users:', ccs_meds['user_id'].nunique())\n",
    "print('Total Meds:', len(ccs_meds))"
   ]
  },
  {
   "cell_type": "code",
   "execution_count": 6,
   "id": "99e6a555",
   "metadata": {},
   "outputs": [
    {
     "name": "stdout",
     "output_type": "stream",
     "text": [
      "total meds after de-duplication: 6186\n"
     ]
    }
   ],
   "source": [
    "# De-duplicate by rxcui\n",
    "ccs_meds = ccs_meds[(~ccs_meds[['user_id', 'rxcui']].duplicated()) | ccs_meds['rxcui'].isna()]\n",
    "ccs_meds[\"submitted_at\"] = pd.to_datetime(ccs_meds[\"submitted_at\"])\n",
    "ccs_meds = ccs_meds.drop_duplicates(['user_id', 'medication_name'])\n",
    "print('total meds after de-duplication:', ccs_meds.shape[0])"
   ]
  },
  {
   "cell_type": "code",
   "execution_count": 7,
   "id": "962a56fb",
   "metadata": {},
   "outputs": [],
   "source": [
    "# Keep only latest entry for each user\n",
    "# latest_date_per_user = ccs_meds.groupby('user_id')['submitted_at'].max().reset_index()\n",
    "# ccs_meds = ccs_meds.merge(latest_date_per_user, on=['user_id', 'submitted_at'], how='inner')\n",
    "# ccs_meds = ccs_meds.drop_duplicates(['user_id', 'rxcui'])\n",
    "# print(\"Keeping only the latest set of entries for each user\", len(ccs_meds))"
   ]
  },
  {
   "cell_type": "code",
   "execution_count": 8,
   "id": "2bafd26f",
   "metadata": {
    "scrolled": true
   },
   "outputs": [
    {
     "data": {
      "text/plain": [
       "163156    2020-01-23\n",
       "19501     2020-01-23\n",
       "163153    2020-01-23\n",
       "163154    2020-01-23\n",
       "163155    2020-01-23\n",
       "             ...    \n",
       "4556823   2023-05-16\n",
       "2044994   2023-05-16\n",
       "4129453   2023-05-16\n",
       "3355537   2023-05-16\n",
       "1467033   2023-05-16\n",
       "Name: submitted_at, Length: 6186, dtype: datetime64[ns]"
      ]
     },
     "execution_count": 8,
     "metadata": {},
     "output_type": "execute_result"
    }
   ],
   "source": [
    "ccs_meds['submitted_at'].sort_values()"
   ]
  },
  {
   "cell_type": "code",
   "execution_count": 9,
   "id": "be5e886e",
   "metadata": {},
   "outputs": [
    {
     "data": {
      "text/plain": [
       "both          5322\n",
       "left_only     1246\n",
       "right_only       0\n",
       "Name: ingr_merge, dtype: int64"
      ]
     },
     "execution_count": 9,
     "metadata": {},
     "output_type": "execute_result"
    }
   ],
   "source": [
    "ccs_meds = ccs_meds.merge(drugUtil.rxnormIngr, right_on='RXCUI', left_on='rxcui', how='left', indicator='ingr_merge')\n",
    "ccs_meds = ccs_meds.rename(columns={'ING_RXCUI': 'ccs_ing_code', 'INGREDIENT': 'ccs_ing_name'})\n",
    "ccs_meds['ingr_merge'].value_counts()"
   ]
  },
  {
   "cell_type": "code",
   "execution_count": 10,
   "id": "5ffdf951",
   "metadata": {},
   "outputs": [
    {
     "name": "stdout",
     "output_type": "stream",
     "text": [
      "Number of custom entries: 1246\n"
     ]
    }
   ],
   "source": [
    "print('Number of custom entries:', len(ccs_meds[pd.isna(ccs_meds['ccs_ing_name'])]))"
   ]
  },
  {
   "cell_type": "code",
   "execution_count": 11,
   "id": "0459b301",
   "metadata": {},
   "outputs": [
    {
     "data": {
      "text/html": [
       "<div>\n",
       "<style scoped>\n",
       "    .dataframe tbody tr th:only-of-type {\n",
       "        vertical-align: middle;\n",
       "    }\n",
       "\n",
       "    .dataframe tbody tr th {\n",
       "        vertical-align: top;\n",
       "    }\n",
       "\n",
       "    .dataframe thead th {\n",
       "        text-align: right;\n",
       "    }\n",
       "</style>\n",
       "<table border=\"1\" class=\"dataframe\">\n",
       "  <thead>\n",
       "    <tr style=\"text-align: right;\">\n",
       "      <th></th>\n",
       "      <th>user_id</th>\n",
       "      <th>site</th>\n",
       "      <th>submitted_at</th>\n",
       "      <th>custom_entry</th>\n",
       "      <th>medication_name</th>\n",
       "      <th>brand_name</th>\n",
       "      <th>full_generic_name</th>\n",
       "      <th>product_name</th>\n",
       "      <th>sxdg_name</th>\n",
       "      <th>rxcui</th>\n",
       "      <th>generic_rxcui</th>\n",
       "      <th>sxdg_rxcui</th>\n",
       "      <th>route</th>\n",
       "      <th>dosage_form</th>\n",
       "      <th>strength</th>\n",
       "      <th>currently_taking</th>\n",
       "      <th>as_needed</th>\n",
       "      <th>frequency_number</th>\n",
       "      <th>frequency_every</th>\n",
       "      <th>frequency_unit</th>\n",
       "      <th>frequency_times_per_unit</th>\n",
       "      <th>variable_basis</th>\n",
       "      <th>reason</th>\n",
       "      <th>RXCUI</th>\n",
       "      <th>ccs_ing_name</th>\n",
       "      <th>ccs_ing_code</th>\n",
       "      <th>ingr_merge</th>\n",
       "    </tr>\n",
       "  </thead>\n",
       "  <tbody>\n",
       "    <tr>\n",
       "      <th>1</th>\n",
       "      <td>707</td>\n",
       "      <td>covid19</td>\n",
       "      <td>2023-04-04</td>\n",
       "      <td>False</td>\n",
       "      <td>BENADRYL (Oral Pill)</td>\n",
       "      <td>BENADRYL</td>\n",
       "      <td>diphenhydramine hydrochloride 25 MG Oral Capsule</td>\n",
       "      <td>diphenhydramine hydrochloride 25 MG Oral Capsule [Benadryl]</td>\n",
       "      <td>Benadryl Pill</td>\n",
       "      <td>1049910.0</td>\n",
       "      <td>1049909.0</td>\n",
       "      <td>1170149.0</td>\n",
       "      <td>Oral Pill</td>\n",
       "      <td>Oral Capsule</td>\n",
       "      <td>25 mg</td>\n",
       "      <td>True</td>\n",
       "      <td>True</td>\n",
       "      <td>0.0</td>\n",
       "      <td>0.0</td>\n",
       "      <td>hour</td>\n",
       "      <td>NaN</td>\n",
       "      <td>NaN</td>\n",
       "      <td>NaN</td>\n",
       "      <td>1049910.0</td>\n",
       "      <td>diphenhydramine</td>\n",
       "      <td>3498.0</td>\n",
       "      <td>both</td>\n",
       "    </tr>\n",
       "    <tr>\n",
       "      <th>2</th>\n",
       "      <td>707</td>\n",
       "      <td>covid19</td>\n",
       "      <td>2023-04-04</td>\n",
       "      <td>False</td>\n",
       "      <td>benadryl pill</td>\n",
       "      <td>BENADRYL</td>\n",
       "      <td>NaN</td>\n",
       "      <td>NaN</td>\n",
       "      <td>benadryl pill</td>\n",
       "      <td>NaN</td>\n",
       "      <td>NaN</td>\n",
       "      <td>1170149.0</td>\n",
       "      <td>Oral Pill</td>\n",
       "      <td>NaN</td>\n",
       "      <td>NaN</td>\n",
       "      <td>True</td>\n",
       "      <td>NaN</td>\n",
       "      <td>NaN</td>\n",
       "      <td>NaN</td>\n",
       "      <td>NaN</td>\n",
       "      <td>NaN</td>\n",
       "      <td>not known</td>\n",
       "      <td>allergies</td>\n",
       "      <td>NaN</td>\n",
       "      <td>NaN</td>\n",
       "      <td>NaN</td>\n",
       "      <td>left_only</td>\n",
       "    </tr>\n",
       "  </tbody>\n",
       "</table>\n",
       "</div>"
      ],
      "text/plain": [
       "   user_id     site submitted_at  custom_entry       medication_name  \\\n",
       "1      707  covid19   2023-04-04         False  BENADRYL (Oral Pill)   \n",
       "2      707  covid19   2023-04-04         False         benadryl pill   \n",
       "\n",
       "  brand_name                                 full_generic_name  \\\n",
       "1   BENADRYL  diphenhydramine hydrochloride 25 MG Oral Capsule   \n",
       "2   BENADRYL                                               NaN   \n",
       "\n",
       "                                                  product_name      sxdg_name  \\\n",
       "1  diphenhydramine hydrochloride 25 MG Oral Capsule [Benadryl]  Benadryl Pill   \n",
       "2                                                          NaN  benadryl pill   \n",
       "\n",
       "       rxcui  generic_rxcui  sxdg_rxcui      route   dosage_form strength  \\\n",
       "1  1049910.0      1049909.0   1170149.0  Oral Pill  Oral Capsule    25 mg   \n",
       "2        NaN            NaN   1170149.0  Oral Pill           NaN      NaN   \n",
       "\n",
       "   currently_taking as_needed  frequency_number  frequency_every  \\\n",
       "1              True      True               0.0              0.0   \n",
       "2              True       NaN               NaN              NaN   \n",
       "\n",
       "  frequency_unit frequency_times_per_unit variable_basis     reason  \\\n",
       "1           hour                      NaN            NaN        NaN   \n",
       "2            NaN                      NaN      not known  allergies   \n",
       "\n",
       "       RXCUI     ccs_ing_name  ccs_ing_code ingr_merge  \n",
       "1  1049910.0  diphenhydramine        3498.0       both  \n",
       "2        NaN              NaN           NaN  left_only  "
      ]
     },
     "execution_count": 11,
     "metadata": {},
     "output_type": "execute_result"
    }
   ],
   "source": [
    "ccs_meds[1:3]"
   ]
  },
  {
   "cell_type": "code",
   "execution_count": 12,
   "id": "a164872d",
   "metadata": {},
   "outputs": [
    {
     "data": {
      "text/html": [
       "Searched <b>ASPIRIN</b> found <b>aspirin</b>, added ingredients to <b>72</b> records"
      ],
      "text/plain": [
       "<IPython.core.display.HTML object>"
      ]
     },
     "metadata": {},
     "output_type": "display_data"
    },
    {
     "data": {
      "text/html": [
       "Searched <b>asprin</b> found <b>aspirin</b>, added ingredients to <b>3</b> records"
      ],
      "text/plain": [
       "<IPython.core.display.HTML object>"
      ]
     },
     "metadata": {},
     "output_type": "display_data"
    },
    {
     "data": {
      "text/html": [
       "Searched <b>thyroxine</b> found <b>levothyroxine</b>, added ingredients to <b>6</b> records"
      ],
      "text/plain": [
       "<IPython.core.display.HTML object>"
      ]
     },
     "metadata": {},
     "output_type": "display_data"
    },
    {
     "data": {
      "text/html": [
       "Searched <b>synthroid</b> found <b>levothyroxine</b>, added ingredients to <b>4</b> records"
      ],
      "text/plain": [
       "<IPython.core.display.HTML object>"
      ]
     },
     "metadata": {},
     "output_type": "display_data"
    },
    {
     "data": {
      "text/html": [
       "Searched <b>albuterol</b> found <b>albuterol</b>, added ingredients to <b>7</b> records"
      ],
      "text/plain": [
       "<IPython.core.display.HTML object>"
      ]
     },
     "metadata": {},
     "output_type": "display_data"
    },
    {
     "data": {
      "text/html": [
       "Searched <b>ventolin</b> found <b>albuterol</b>, added ingredients to <b>4</b> records"
      ],
      "text/plain": [
       "<IPython.core.display.HTML object>"
      ]
     },
     "metadata": {},
     "output_type": "display_data"
    },
    {
     "data": {
      "text/html": [
       "Searched <b>vitamin d</b> found <b>cholecalciferol</b>, added ingredients to <b>80</b> records"
      ],
      "text/plain": [
       "<IPython.core.display.HTML object>"
      ]
     },
     "metadata": {},
     "output_type": "display_data"
    },
    {
     "data": {
      "text/html": [
       "Searched <b>vitamin c</b> found <b>ascorbic acid</b>, added ingredients to <b>20</b> records"
      ],
      "text/plain": [
       "<IPython.core.display.HTML object>"
      ]
     },
     "metadata": {},
     "output_type": "display_data"
    },
    {
     "data": {
      "text/html": [
       "Searched <b>Ethinyl estradiol/Inert ingredients/Norgestimate</b> found <b>norgestimate</b>, added ingredients to <b>5</b> records"
      ],
      "text/plain": [
       "<IPython.core.display.HTML object>"
      ]
     },
     "metadata": {},
     "output_type": "display_data"
    }
   ],
   "source": [
    "# Here we add well-known misspellings for custom entries\n",
    "\n",
    "ccs_meds_p = ccs_meds\n",
    "\n",
    "mapping_dictionary = {\n",
    "         'ASPIRIN': 1191,\n",
    "         'asprin': 1191,\n",
    "         'thyroxine': 10582, \n",
    "         'synthroid': 10582,\n",
    "         'albuterol': 435, \n",
    "         'ventolin': 435,\n",
    "         'vitamin d': 2418,\n",
    "         'vitamin c': 1151,\n",
    "         'Ethinyl estradiol/Inert ingredients/Norgestimate': [4124, 31994]\n",
    "}\n",
    "\n",
    "def add_custom_ingredients(df_meds, mapping_dictionary, \n",
    "                           search_column=\"medication_name\",\n",
    "                           ing_rxcui_column=\"rxcui_ing\",\n",
    "                           ing_name_column=\"ing_name\", verbose=1):\n",
    "    # ADDS [INGREDIENT_LIIST] AND [ING_RXCUI_LIST] COLUMNS TO DF, USING COLUMN LABELED '\n",
    "    # df_meds = df with string column 'medication_name' <string> and 'custom_entry' <boolean>\n",
    "    # verbose - verbose level (0 = no verbose), (1 - partial verbose), (2 - max verbose for debugging)\n",
    "    for substring, ing_rxcui in mapping_dictionary.items():\n",
    "        if (not isinstance(ing_rxcui, list)): ing_rxcui = [ing_rxcui]\n",
    "        ing_rxcui_list = []\n",
    "        ing_name_list = []\n",
    "        for i in ing_rxcui:\n",
    "            rxcui, ing_name = drugUtil.findIngredientByRxcui(rxcui_ing=i)\n",
    "            if (ing_name == None):\n",
    "                print(f'Unable to find ing_rxcui {i} in rxnormIngr')\n",
    "            else:\n",
    "                ing_rxcui_list.append(rxcui)\n",
    "                ing_name_list.append(ing_name)\n",
    "        \n",
    "        if len(ing_rxcui_list) == 0: \n",
    "            print(f'NOT found {substring}, {ing_rxcui} records in ingredient database')\n",
    "            continue\n",
    "        \n",
    "        search_filter = df_meds[search_column].str.contains(substring, na=False, case=False) & df_meds.custom_entry == True\n",
    "        count = len(df_meds[search_filter])\n",
    "#         if verbose: print(f'Found {count} df_meds records matching {substring}')\n",
    "        df_meds.loc[search_filter, \n",
    "                    ing_name_column] = ','.join(ing_name_list)\n",
    "        df_meds.loc[search_filter, \n",
    "                    ing_rxcui_column] = ','.join(map(str, ing_rxcui_list))\n",
    "        if verbose > 0: display(HTML(f'Searched <b>{substring}</b> found <b>{ing_name}</b>, added ingredients to <b>{count}</b> records'))\n",
    "    return df_meds\n",
    "\n",
    "ccs_meds_p = add_custom_ingredients(ccs_meds_p, mapping_dictionary)\n",
    "\n",
    "# Convert to array for explode\n",
    "def unpack(x):\n",
    "    if pd.isna(x): return x\n",
    "    return x.split(',')\n",
    "ccs_meds_p['ing_name'] = ccs_meds_p['ing_name'].apply(unpack)\n",
    "ccs_meds_p['rxcui_ing'] = ccs_meds_p['rxcui_ing'].apply(unpack)\n",
    "\n",
    "ccs_meds_p = ccs_meds_p.explode(['rxcui_ing', 'ing_name'])\n",
    "\n",
    "ccs_meds_p['ccs_ing_code'] = ccs_meds_p['ccs_ing_code'].fillna(ccs_meds_p['rxcui_ing'])\n",
    "ccs_meds_p['ccs_ing_name'] = ccs_meds_p['ccs_ing_name'].fillna(ccs_meds_p['ing_name'])\n",
    "ccs_meds_p = ccs_meds_p.drop(['rxcui_ing', 'ing_name'], axis=1)\n",
    "ccs_meds = ccs_meds_p"
   ]
  },
  {
   "cell_type": "code",
   "execution_count": 13,
   "id": "20f7e417",
   "metadata": {},
   "outputs": [
    {
     "name": "stdout",
     "output_type": "stream",
     "text": [
      "number of nancodes: 1045\n"
     ]
    }
   ],
   "source": [
    "ccs_meds['idx'] = ccs_meds.index\n",
    "nancodes = ccs_meds[pd.isna(ccs_meds['ccs_ing_code'])]\n",
    "print('number of nancodes:', len(nancodes))"
   ]
  },
  {
   "cell_type": "code",
   "execution_count": 17,
   "id": "fd82fbd9",
   "metadata": {},
   "outputs": [
    {
     "name": "stdout",
     "output_type": "stream",
     "text": [
      "100 / 1045\n",
      "200 / 1045\n",
      "300 / 1045\n",
      "400 / 1045\n",
      "500 / 1045\n",
      "600 / 1045\n",
      "700 / 1045\n",
      "800 / 1045\n",
      "900 / 1045\n",
      "1000 / 1045\n"
     ]
    },
    {
     "name": "stderr",
     "output_type": "stream",
     "text": [
      "/app/lib/DrugUtil.py:362: SettingWithCopyWarning: \n",
      "A value is trying to be set on a copy of a slice from a DataFrame.\n",
      "Try using .loc[row_indexer,col_indexer] = value instead\n",
      "\n",
      "See the caveats in the documentation: https://pandas.pydata.org/pandas-docs/stable/user_guide/indexing.html#returning-a-view-versus-a-copy\n",
      "  df[[new_name_column, new_code_column]] = df[med_name_column].apply(self.search_ingredient_by_substring, max_distance=max_distance)\n"
     ]
    }
   ],
   "source": [
    "\n",
    "nancodes = drugUtil.add_ingredient_columns(nancodes, 'medication_name', new_code_column='ing_code', new_name_column='ing_name', max_distance=1)\n",
    "ccs_meds = ccs_meds.drop(['ing_code', 'ing_name'], axis=1) if 'ing_code' in ccs_meds else ccs_meds\n",
    "ccs_meds = ccs_meds.merge(nancodes[['idx','ing_code', 'ing_name']], on='idx', how='left')\n",
    "ccs_meds = ccs_meds.explode(['ing_code', 'ing_name'])\n",
    "ccs_meds['ccs_ing_code'] = ccs_meds['ccs_ing_code'].fillna(ccs_meds['ing_code'])\n",
    "ccs_meds['ccs_ing_name'] = ccs_meds['ccs_ing_name'].fillna(ccs_meds['ing_name'])\n"
   ]
  },
  {
   "cell_type": "code",
   "execution_count": 20,
   "id": "7640cfd6",
   "metadata": {},
   "outputs": [
    {
     "data": {
      "text/plain": [
       "162"
      ]
     },
     "execution_count": 20,
     "metadata": {},
     "output_type": "execute_result"
    }
   ],
   "source": [
    "ccs_meds[pd.isna(ccs_meds['ccs_ing_code'])].shape[0]"
   ]
  },
  {
   "cell_type": "code",
   "execution_count": 21,
   "id": "3a963ae3",
   "metadata": {},
   "outputs": [],
   "source": [
    "ccs_meds.to_csv(_cache_dir+'/ccs_meds_mapped.csv')"
   ]
  },
  {
   "cell_type": "code",
   "execution_count": null,
   "id": "87c31dd0",
   "metadata": {},
   "outputs": [],
   "source": []
  },
  {
   "cell_type": "code",
   "execution_count": 25,
   "id": "dac9b8ae",
   "metadata": {},
   "outputs": [
    {
     "data": {
      "text/html": [
       "<div>\n",
       "<style scoped>\n",
       "    .dataframe tbody tr th:only-of-type {\n",
       "        vertical-align: middle;\n",
       "    }\n",
       "\n",
       "    .dataframe tbody tr th {\n",
       "        vertical-align: top;\n",
       "    }\n",
       "\n",
       "    .dataframe thead th {\n",
       "        text-align: right;\n",
       "    }\n",
       "</style>\n",
       "<table border=\"1\" class=\"dataframe\">\n",
       "  <thead>\n",
       "    <tr style=\"text-align: right;\">\n",
       "      <th></th>\n",
       "      <th>user_id</th>\n",
       "      <th>evisit</th>\n",
       "      <th>dt</th>\n",
       "      <th>survey_version</th>\n",
       "      <th>sex</th>\n",
       "      <th>gender</th>\n",
       "      <th>gender_identity</th>\n",
       "      <th>race</th>\n",
       "      <th>asian</th>\n",
       "      <th>pacisland</th>\n",
       "      <th>ethnicity</th>\n",
       "      <th>hispanic</th>\n",
       "      <th>intro</th>\n",
       "      <th>ladder_image</th>\n",
       "      <th>ladder</th>\n",
       "      <th>education</th>\n",
       "      <th>race-1</th>\n",
       "      <th>race-2</th>\n",
       "      <th>race-4</th>\n",
       "      <th>race-5</th>\n",
       "      <th>race-3</th>\n",
       "      <th>race-6</th>\n",
       "      <th>race-7</th>\n",
       "      <th>gender-1</th>\n",
       "      <th>gender-2</th>\n",
       "      <th>gender-3</th>\n",
       "      <th>gender-4</th>\n",
       "      <th>gender-5</th>\n",
       "      <th>gender-6</th>\n",
       "      <th>gender-7</th>\n",
       "    </tr>\n",
       "  </thead>\n",
       "  <tbody>\n",
       "    <tr>\n",
       "      <th>60082</th>\n",
       "      <td>478439</td>\n",
       "      <td>1</td>\n",
       "      <td>2021-04-04 14:42:15</td>\n",
       "      <td>5</td>\n",
       "      <td>1.0</td>\n",
       "      <td>1</td>\n",
       "      <td>NaN</td>\n",
       "      <td>2</td>\n",
       "      <td>NaN</td>\n",
       "      <td>NaN</td>\n",
       "      <td>NaN</td>\n",
       "      <td>1.0</td>\n",
       "      <td>NaN</td>\n",
       "      <td>NaN</td>\n",
       "      <td>6</td>\n",
       "      <td>5.0</td>\n",
       "      <td>NaN</td>\n",
       "      <td>1.0</td>\n",
       "      <td>NaN</td>\n",
       "      <td>NaN</td>\n",
       "      <td>NaN</td>\n",
       "      <td>NaN</td>\n",
       "      <td>NaN</td>\n",
       "      <td>1.0</td>\n",
       "      <td>NaN</td>\n",
       "      <td>NaN</td>\n",
       "      <td>NaN</td>\n",
       "      <td>NaN</td>\n",
       "      <td>NaN</td>\n",
       "      <td>NaN</td>\n",
       "    </tr>\n",
       "  </tbody>\n",
       "</table>\n",
       "</div>"
      ],
      "text/plain": [
       "       user_id  evisit                   dt  survey_version  sex gender  \\\n",
       "60082   478439       1  2021-04-04 14:42:15               5  1.0      1   \n",
       "\n",
       "      gender_identity race  asian  pacisland  ethnicity hispanic  intro  \\\n",
       "60082             NaN    2    NaN        NaN        NaN      1.0    NaN   \n",
       "\n",
       "       ladder_image ladder education  race-1  race-2  race-4  race-5  race-3  \\\n",
       "60082           NaN      6       5.0     NaN     1.0     NaN     NaN     NaN   \n",
       "\n",
       "       race-6  race-7  gender-1  gender-2  gender-3  gender-4  gender-5  \\\n",
       "60082     NaN     NaN       1.0       NaN       NaN       NaN       NaN   \n",
       "\n",
       "       gender-6  gender-7  \n",
       "60082       NaN       NaN  "
      ]
     },
     "execution_count": 25,
     "metadata": {},
     "output_type": "execute_result"
    }
   ],
   "source": [
    "ccs_demo[ccs_demo['user_id'] == 478439]"
   ]
  },
  {
   "cell_type": "code",
   "execution_count": null,
   "id": "ea1e3e3c",
   "metadata": {},
   "outputs": [],
   "source": []
  }
 ],
 "metadata": {
  "kernelspec": {
   "display_name": "Python 3 (ipykernel)",
   "language": "python",
   "name": "python3"
  },
  "language_info": {
   "codemirror_mode": {
    "name": "ipython",
    "version": 3
   },
   "file_extension": ".py",
   "mimetype": "text/x-python",
   "name": "python",
   "nbconvert_exporter": "python",
   "pygments_lexer": "ipython3",
   "version": "3.9.16"
  }
 },
 "nbformat": 4,
 "nbformat_minor": 5
}
