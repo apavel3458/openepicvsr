{
 "cells": [
  {
   "cell_type": "code",
   "execution_count": 1,
   "id": "27747b0b",
   "metadata": {},
   "outputs": [],
   "source": [
    "import pandas as pd\n",
    "import numpy as np\n",
    "import matplotlib.pyplot as plt\n",
    "import plotly.express as px\n",
    "import datetime\n",
    "from sklearn.metrics import cohen_kappa_score\n",
    "from statsmodels.stats.inter_rater import fleiss_kappa, aggregate_raters\n",
    "\n",
    "# import plotly as plt\n",
    "\n",
    "pd.set_option('display.max_columns', 50)\n",
    "pd.set_option('display.max_rows', 500)\n",
    "pd.set_option('display.max_colwidth', None)\n"
   ]
  },
  {
   "cell_type": "code",
   "execution_count": 5,
   "id": "4fbaca02",
   "metadata": {},
   "outputs": [
    {
     "name": "stdout",
     "output_type": "stream",
     "text": [
      "Total FHIR encounters:  202618\n",
      "Total PCORNet encounters:  47001\n"
     ]
    }
   ],
   "source": [
    "fhir_enc_raw = pd.read_csv('input/fhir_20230423/fhir_encounters.csv')\n",
    "fhir_demo = pd.read_csv('input/fhir_20230423/fhir_demographics.csv')\n",
    "fhir_enc_raw['resource_id'] = fhir_enc_raw['id']\n",
    "pc_enc_raw = pd.read_csv('input/pcornet/encounter_fhir.csv')\n",
    "pc_demo = pd.read_csv('input/pcornet/demographic_fhir.csv')\n",
    "\n",
    "\n",
    "\n",
    "print(f'Total FHIR encounters: ', len(fhir_enc_raw))\n",
    "print(f'Total PCORNet encounters: ', len(pc_enc_raw))"
   ]
  },
  {
   "cell_type": "code",
   "execution_count": 15,
   "id": "64cfe743",
   "metadata": {},
   "outputs": [
    {
     "name": "stdout",
     "output_type": "stream",
     "text": [
      "Common Users to FHIR and PCORnet 618\n",
      "----- KEEPING ONLY USERS COMMON TO BOTH DATASETS ------\n",
      "Total FHIR encounters:  19961\n",
      "Total PCORNet encounters:  33396\n"
     ]
    }
   ],
   "source": [
    "# Limit only to users common to FHIR and PC\n",
    "# Code site IDs same way\n",
    "common_users = fhir_demo.drop_duplicates(\"user_id\").merge(pc_demo.drop_duplicates(\"user_id\"), on=\"user_id\", how=\"inner\")\n",
    "print('Common Users to FHIR and PCORnet', len(common_users))\n",
    "\n",
    "\n",
    "print(f'----- KEEPING ONLY USERS COMMON TO BOTH DATASETS ------')\n",
    "fhir_enc = fhir_enc_raw[fhir_enc_raw['user_id'].isin(common_users['user_id'])]\n",
    "fhir_enc = fhir_enc.drop_duplicates('resource_id')\n",
    "pc_enc = pc_enc_raw[pc_enc_raw['user_id'].isin(common_users['user_id'])]\n",
    "\n",
    "print(f'Total FHIR encounters: ', len(fhir_enc.drop_duplicates(['user_id', 'start'])))\n",
    "print(f'Total PCORNet encounters: ', len(pc_enc.drop_duplicates(['user_id','admit_date'])))\n",
    "\n",
    "\n",
    "####### THIS IS NOT SAVED"
   ]
  },
  {
   "cell_type": "code",
   "execution_count": null,
   "id": "012c854c",
   "metadata": {},
   "outputs": [],
   "source": []
  },
  {
   "cell_type": "code",
   "execution_count": 4,
   "id": "d504826f",
   "metadata": {},
   "outputs": [
    {
     "name": "stdout",
     "output_type": "stream",
     "text": [
      "Loaded 484 raw chart review encounters\n",
      "Filtered to 89 chart review encounters\n"
     ]
    },
    {
     "name": "stderr",
     "output_type": "stream",
     "text": [
      "/usr/local/lib/python3.9/site-packages/openpyxl/worksheet/_reader.py:329: UserWarning: Data Validation extension is not supported and will be removed\n",
      "  warn(msg)\n"
     ]
    }
   ],
   "source": [
    "exclude_visits = ['Abstract','Anesthesia Event','Patient Message', 'Orders Only', 'Documentation Only', 'Pre-admit (Canceled)','Surgery (Canceled)']\n",
    "cr_group_visits = {\n",
    "    'Admission (Discharged)': 'Admission',\n",
    "    'Cervical Spine Flexion and Extension Only': \"Imaging\",\n",
    "    'MR Cervical Spine with and without Contrast': 'Imaging',\n",
    "    'CT Cervical Spine without Contrast': 'Imaging',\n",
    "    'CT Chest without contrast': 'Imaging',\n",
    "    'XR EOS Whole Body (Spine + Leg Length)': 'Imaging',\n",
    "    'CT Angiogram Brain/Neck for Stroke (Includes 3D Post-Processing and perfusion)': 'Imaging',\n",
    "    'MR Prostate with and without Contrast': 'Imaging',\n",
    "    'MR 3D Prostate': 'Imaging',\n",
    "    'US Renal/Kidney': 'Imaging',\n",
    "    'MR Brain with and without Contrast': 'Imaging',\n",
    "    'US Neck/Parathyroid/Thyroud': 'Imaging',\n",
    "    'CT Cervical Spine Nerve Block 1 Level': 'Imaging',\n",
    "    'US Abdomen Limited': 'Imaging',\n",
    "    'XR Scoliosis Study 4 or 5 Views': 'Imaging'\n",
    "}\n",
    "xls = pd.ExcelFile('input/chart_review/Chart_Review1.1.xlsx')\n",
    "cr_enc_raw = pd.read_excel(xls, 'Encounters')\n",
    "print(f'Loaded {len(cr_enc_raw)} raw chart review encounters')\n",
    "cr_demo = pd.read_excel(xls, 'users_to_query')\n",
    "cr_enc = cr_enc_raw.copy()\n",
    "cr_enc['admit_date_d'] = pd.to_datetime(cr_enc['admit_date'])\n",
    "cr_enc = cr_enc[cr_enc['code_source'] == 'Chart Review Tab']\n",
    "cr_enc = cr_enc[~cr_enc['encounter_type'].isin(exclude_visits)]\n",
    "cr_enc['encounter_type'] = cr_enc['encounter_type'].replace(cr_group_visits)\n",
    "cr_enc = cr_enc.drop_duplicates()\n",
    "print(f'Filtered to {len(cr_enc)} chart review encounters')\n",
    "\n"
   ]
  },
  {
   "cell_type": "code",
   "execution_count": 27,
   "id": "95c45faf",
   "metadata": {},
   "outputs": [
    {
     "name": "stdout",
     "output_type": "stream",
     "text": [
      "Restricting to date ranges:  2021-01-01 2022-04-09\n",
      "Before (FHIR, PCORnet)  202618   47001\n",
      "After (FHIR, PCORnet)  109640   13249\n"
     ]
    }
   ],
   "source": [
    "# Convert dates to date-time --> suffix _d   and string suffix _s\n",
    "def conv_date(d):\n",
    "    if (pd.isnull(d)):\n",
    "        return d\n",
    "    else:\n",
    "        return d.date().strftime('%Y-%m-%d')\n",
    "        return d.tz_convert('US/Pacific').date().strftime('%Y-%m-%d') # format=\"%Y-%m-%dT%H:%M:%SZ\", \n",
    "fhir_enc_raw['start_time_d'] = pd.to_datetime(fhir_enc_raw['start'], errors=\"coerce\", utc=True).fillna(pd.to_datetime(fhir_enc_raw['start'], format=\"%Y-%m-%d\", errors=\"coerce\"))\n",
    "fhir_enc_raw['start_s'] = fhir_enc_raw['start_time_d'].apply(lambda x: conv_date(x))\n",
    "fhir_enc_raw['start_d'] = pd.to_datetime(fhir_enc_raw['start_s'])\n",
    "fhir_enc_raw['end_d'] = pd.to_datetime(fhir_enc_raw['end'], format=\"%Y-%m-%dT%H:%M:%SZ\", errors=\"coerce\").fillna(pd.to_datetime(fhir_enc_raw['end'], format=\"%Y-%m-%d\", errors=\"coerce\"))\n",
    "fhir_enc_raw['end_d'] = fhir_enc_raw['end_d'].apply(lambda x: x.date())\n",
    "pc_enc_raw['admit_date_d'] = pd.to_datetime(pc_enc_raw['admit_date'], format='%d%b%Y')\n",
    "pc_enc_raw['discharge_date_d'] = pd.to_datetime(pc_enc_raw['discharge_date'], format='%d%b%Y')\n",
    "\n",
    "# Convert PCORNet sites into same format as FHIR\n",
    "site_config = {\n",
    "    'UCSFHEALTHPARTN': 'openepic_shared_ucsf_health',\n",
    "    'UT1PARTNER': 'openepic_shared_university_of_utah_healthcare',\n",
    "    'NY1PARTNER': 'openepic_shared_nyu_langone_medical_center',\n",
    "    'SH2PARTNER': 'openepic_shared_sutter_health',\n",
    "    'OS2PARTNER': 'openepic_shared_ochsner_health_system',\n",
    "    'MF1PARTNER': 'openepic_shared_montefiore_medical_center',\n",
    "    'BA1PARTNER': 'openepic_shared_baylor_scott_white'\n",
    "}\n",
    "pc_enc_codes = {\n",
    "    \"AV\": \"Ambulatory Visit\",\n",
    "    \"ED\": \"Emergency Department\",\n",
    "    \"EI\": \"ED Admit to Inaptient\",\n",
    "    \"IP\": \"Inpatient Hospital Stay\",\n",
    "    \"IS\": \"Non-Acute Institutional Stay\",\n",
    "    \"OS\": \"Observation Stay\",\n",
    "    \"IC\": \"Institutional Professional Consult\",\n",
    "    \"TH\": \"Telehealth\",\n",
    "    \"OA\": \"Other Ambulatory Visit\",\n",
    "    \"NI\": \"No Information\",\n",
    "    \"UN\": \"Unknown\",\n",
    "    \"OT\": \"Other\"\n",
    "}\n",
    "pc_enc_raw['site'] = pc_enc_raw['siteid']\n",
    "pc_enc_raw = pc_enc_raw.replace({'site': site_config})\n",
    "pc_enc_raw = pc_enc_raw.replace({'enc_type': pc_enc_codes})\n",
    "pc_demo = pc_demo.replace({'siteid': site_config})\n",
    "\n",
    "# Restrict only to PCORNet and FHIR pulls. \n",
    "start_date = '2021-01-01'\n",
    "end_date = '2022-04-09'\n",
    "print(f'Restricting to date ranges: ', start_date, end_date)\n",
    "print(f'Before (FHIR, PCORnet) ', len(fhir_enc_raw), ' ', len(pc_enc_raw))\n",
    "fhir_enc_restricted_dates = fhir_enc_raw[fhir_enc_raw['start_d'].between(start_date, end_date)]\n",
    "pc_enc_restricted_dates = pc_enc_raw[pc_enc_raw['admit_date_d'].between(start_date, end_date)]\n",
    "\n",
    "print(f'After (FHIR, PCORnet) ', len(fhir_enc_restricted_dates), ' ', len(pc_enc_restricted_dates))\n"
   ]
  },
  {
   "cell_type": "code",
   "execution_count": null,
   "id": "4e2ecb4c",
   "metadata": {},
   "outputs": [],
   "source": []
  },
  {
   "cell_type": "code",
   "execution_count": 28,
   "id": "b429ea80",
   "metadata": {},
   "outputs": [
    {
     "data": {
      "image/png": "[encoded data removed]",
      "text/plain": [
       "<Figure size 640x480 with 1 Axes>"
      ]
     },
     "metadata": {},
     "output_type": "display_data"
    },
    {
     "data": {
      "text/plain": [
       "17868   2015-11-27\n",
       "41020   2015-11-30\n",
       "4984    2015-11-30\n",
       "40817   2015-11-30\n",
       "24610   2015-11-30\n",
       "           ...    \n",
       "10710   2022-04-08\n",
       "458     2022-04-08\n",
       "44417   2022-04-08\n",
       "10688   2022-04-09\n",
       "37654   2022-04-09\n",
       "Name: admit_date_d, Length: 47001, dtype: datetime64[ns]"
      ]
     },
     "execution_count": 28,
     "metadata": {},
     "output_type": "execute_result"
    }
   ],
   "source": [
    "years = pc_enc_raw['admit_date_d'].dt.year.value_counts().reset_index(name=\"Encounters\")\n",
    "plt.bar(years['index'], years['Encounters'])\n",
    "plt.title('Encounters by year from PCORnet')\n",
    "plt.ylabel('N Unique encounters')\n",
    "plt.xlabel('year recorded')\n",
    "plt.show()\n",
    "pc_enc_raw['admit_date_d'].dropna().sort_values()"
   ]
  },
  {
   "cell_type": "code",
   "execution_count": 29,
   "id": "506e1ff8",
   "metadata": {
    "scrolled": false
   },
   "outputs": [
    {
     "data": {
      "image/png": "[encoded data removed]",
      "text/plain": [
       "<Figure size 640x480 with 1 Axes>"
      ]
     },
     "metadata": {},
     "output_type": "display_data"
    },
    {
     "data": {
      "text/html": [
       "<div>\n",
       "<style scoped>\n",
       "    .dataframe tbody tr th:only-of-type {\n",
       "        vertical-align: middle;\n",
       "    }\n",
       "\n",
       "    .dataframe tbody tr th {\n",
       "        vertical-align: top;\n",
       "    }\n",
       "\n",
       "    .dataframe thead th {\n",
       "        text-align: right;\n",
       "    }\n",
       "</style>\n",
       "<table border=\"1\" class=\"dataframe\">\n",
       "  <thead>\n",
       "    <tr style=\"text-align: right;\">\n",
       "      <th></th>\n",
       "      <th>user_id</th>\n",
       "      <th>resource</th>\n",
       "      <th>provider</th>\n",
       "      <th>resourcetype</th>\n",
       "      <th>id</th>\n",
       "      <th>uploaded_date</th>\n",
       "      <th>reference</th>\n",
       "      <th>display</th>\n",
       "      <th>use</th>\n",
       "      <th>id_system</th>\n",
       "      <th>value</th>\n",
       "      <th>status</th>\n",
       "      <th>class_display</th>\n",
       "      <th>type_text</th>\n",
       "      <th>start</th>\n",
       "      <th>end</th>\n",
       "      <th>reference.1</th>\n",
       "      <th>display.1</th>\n",
       "      <th>resource_id</th>\n",
       "      <th>start_time_d</th>\n",
       "      <th>start_s</th>\n",
       "      <th>start_d</th>\n",
       "      <th>end_d</th>\n",
       "    </tr>\n",
       "  </thead>\n",
       "  <tbody>\n",
       "    <tr>\n",
       "      <th>8244</th>\n",
       "      <td>147821</td>\n",
       "      <td>encounter</td>\n",
       "      <td>openepic_shared_jefferson_health</td>\n",
       "      <td>Encounter</td>\n",
       "      <td>e1EYVvFDO8JsaScfdxg6TAA3</td>\n",
       "      <td>2022-10-17</td>\n",
       "      <td>Patient/eQbForz6er7IGbRm560D4qbhms0jp9mVjjSfjFOcu8n03</td>\n",
       "      <td>Wanger, Sarah</td>\n",
       "      <td>usual</td>\n",
       "      <td>urn:oid:1.2.840.114350.1.13.450.2.7.5.737384.613608</td>\n",
       "      <td>1734781445</td>\n",
       "      <td>finished</td>\n",
       "      <td>HOV</td>\n",
       "      <td>Hospital Encounter</td>\n",
       "      <td>2017-12-13T17:27:00Z</td>\n",
       "      <td>2021-01-25T22:37:00Z</td>\n",
       "      <td>Location/eS8qWmV5FUBlr4OCPHJcmPg3</td>\n",
       "      <td>THOMAS JEFFERSON UNIVERSITY</td>\n",
       "      <td>e1EYVvFDO8JsaScfdxg6TAA3</td>\n",
       "      <td>2017-12-13 17:27:00+00:00</td>\n",
       "      <td>2017-12-13</td>\n",
       "      <td>2017-12-13</td>\n",
       "      <td>2021-01-25</td>\n",
       "    </tr>\n",
       "    <tr>\n",
       "      <th>67216</th>\n",
       "      <td>147821</td>\n",
       "      <td>encounter</td>\n",
       "      <td>openepic_shared_jefferson_health</td>\n",
       "      <td>Encounter</td>\n",
       "      <td>e1EYVvFDO8JsaScfdxg6TAA3</td>\n",
       "      <td>2022-10-17</td>\n",
       "      <td>Patient/eQbForz6er7IGbRm560D4qbhms0jp9mVjjSfjFOcu8n03</td>\n",
       "      <td>Wanger, Sarah</td>\n",
       "      <td>usual</td>\n",
       "      <td>urn:oid:1.2.840.114350.1.13.450.2.7.3.698084.17</td>\n",
       "      <td>STAR1734781445</td>\n",
       "      <td>finished</td>\n",
       "      <td>HOV</td>\n",
       "      <td>Hospital Encounter</td>\n",
       "      <td>2017-12-13T17:27:00Z</td>\n",
       "      <td>2021-01-25T22:37:00Z</td>\n",
       "      <td>Location/eaFk83jbiVND9rs2i21xSdJXnSON2kPFxMn2AGrJrEew3</td>\n",
       "      <td>CONVERSION SCM JHA</td>\n",
       "      <td>e1EYVvFDO8JsaScfdxg6TAA3</td>\n",
       "      <td>2017-12-13 17:27:00+00:00</td>\n",
       "      <td>2017-12-13</td>\n",
       "      <td>2017-12-13</td>\n",
       "      <td>2021-01-25</td>\n",
       "    </tr>\n",
       "    <tr>\n",
       "      <th>102839</th>\n",
       "      <td>147821</td>\n",
       "      <td>encounter</td>\n",
       "      <td>openepic_shared_jefferson_health</td>\n",
       "      <td>Encounter</td>\n",
       "      <td>e1EYVvFDO8JsaScfdxg6TAA3</td>\n",
       "      <td>2022-10-17</td>\n",
       "      <td>Patient/eQbForz6er7IGbRm560D4qbhms0jp9mVjjSfjFOcu8n03</td>\n",
       "      <td>Wanger, Sarah</td>\n",
       "      <td>usual</td>\n",
       "      <td>urn:oid:1.2.840.114350.1.13.450.2.7.3.698084.8</td>\n",
       "      <td>96777215</td>\n",
       "      <td>finished</td>\n",
       "      <td>HOV</td>\n",
       "      <td>Hospital Encounter</td>\n",
       "      <td>2017-12-13T17:27:00Z</td>\n",
       "      <td>2021-01-25T22:37:00Z</td>\n",
       "      <td>Location/eS8qWmV5FUBlr4OCPHJcmPg3</td>\n",
       "      <td>THOMAS JEFFERSON UNIVERSITY</td>\n",
       "      <td>e1EYVvFDO8JsaScfdxg6TAA3</td>\n",
       "      <td>2017-12-13 17:27:00+00:00</td>\n",
       "      <td>2017-12-13</td>\n",
       "      <td>2017-12-13</td>\n",
       "      <td>2021-01-25</td>\n",
       "    </tr>\n",
       "    <tr>\n",
       "      <th>110461</th>\n",
       "      <td>147821</td>\n",
       "      <td>encounter</td>\n",
       "      <td>openepic_shared_jefferson_health</td>\n",
       "      <td>Encounter</td>\n",
       "      <td>e1EYVvFDO8JsaScfdxg6TAA3</td>\n",
       "      <td>2022-10-17</td>\n",
       "      <td>Patient/eQbForz6er7IGbRm560D4qbhms0jp9mVjjSfjFOcu8n03</td>\n",
       "      <td>Wanger, Sarah</td>\n",
       "      <td>usual</td>\n",
       "      <td>urn:oid:1.2.840.114350.1.13.450.2.7.3.698084.17</td>\n",
       "      <td>STAR1734781445</td>\n",
       "      <td>finished</td>\n",
       "      <td>HOV</td>\n",
       "      <td>Outpatient</td>\n",
       "      <td>2017-12-13T17:27:00Z</td>\n",
       "      <td>2021-01-25T22:37:00Z</td>\n",
       "      <td>Location/eS8qWmV5FUBlr4OCPHJcmPg3</td>\n",
       "      <td>THOMAS JEFFERSON UNIVERSITY</td>\n",
       "      <td>e1EYVvFDO8JsaScfdxg6TAA3</td>\n",
       "      <td>2017-12-13 17:27:00+00:00</td>\n",
       "      <td>2017-12-13</td>\n",
       "      <td>2017-12-13</td>\n",
       "      <td>2021-01-25</td>\n",
       "    </tr>\n",
       "    <tr>\n",
       "      <th>110462</th>\n",
       "      <td>147821</td>\n",
       "      <td>encounter</td>\n",
       "      <td>openepic_shared_jefferson_health</td>\n",
       "      <td>Encounter</td>\n",
       "      <td>e1EYVvFDO8JsaScfdxg6TAA3</td>\n",
       "      <td>2022-10-17</td>\n",
       "      <td>Patient/eQbForz6er7IGbRm560D4qbhms0jp9mVjjSfjFOcu8n03</td>\n",
       "      <td>Wanger, Sarah</td>\n",
       "      <td>usual</td>\n",
       "      <td>urn:oid:1.2.840.114350.1.13.450.2.7.5.737384.613608</td>\n",
       "      <td>1734781445</td>\n",
       "      <td>finished</td>\n",
       "      <td>HOV</td>\n",
       "      <td>Hospital Encounter</td>\n",
       "      <td>2017-12-13T17:27:00Z</td>\n",
       "      <td>2021-01-25T22:37:00Z</td>\n",
       "      <td>Location/eaFk83jbiVND9rs2i21xSdJXnSON2kPFxMn2AGrJrEew3</td>\n",
       "      <td>CONVERSION SCM JHA</td>\n",
       "      <td>e1EYVvFDO8JsaScfdxg6TAA3</td>\n",
       "      <td>2017-12-13 17:27:00+00:00</td>\n",
       "      <td>2017-12-13</td>\n",
       "      <td>2017-12-13</td>\n",
       "      <td>2021-01-25</td>\n",
       "    </tr>\n",
       "    <tr>\n",
       "      <th>...</th>\n",
       "      <td>...</td>\n",
       "      <td>...</td>\n",
       "      <td>...</td>\n",
       "      <td>...</td>\n",
       "      <td>...</td>\n",
       "      <td>...</td>\n",
       "      <td>...</td>\n",
       "      <td>...</td>\n",
       "      <td>...</td>\n",
       "      <td>...</td>\n",
       "      <td>...</td>\n",
       "      <td>...</td>\n",
       "      <td>...</td>\n",
       "      <td>...</td>\n",
       "      <td>...</td>\n",
       "      <td>...</td>\n",
       "      <td>...</td>\n",
       "      <td>...</td>\n",
       "      <td>...</td>\n",
       "      <td>...</td>\n",
       "      <td>...</td>\n",
       "      <td>...</td>\n",
       "      <td>...</td>\n",
       "    </tr>\n",
       "    <tr>\n",
       "      <th>55154</th>\n",
       "      <td>353198</td>\n",
       "      <td>encounter</td>\n",
       "      <td>openepic_shared_northshore_university_health_system</td>\n",
       "      <td>Encounter</td>\n",
       "      <td>eUOYCz7LkerCpohtqoYEg-Q3</td>\n",
       "      <td>2023-05-05</td>\n",
       "      <td>Patient/eh8sydCilYgMGnG4nuyYDwwayksyhZ1xeaVIh90VHvLg3</td>\n",
       "      <td>Harris, Pamela M</td>\n",
       "      <td>usual</td>\n",
       "      <td>urn:oid:1.2.840.114350.1.13.32.2.7.3.698084.17</td>\n",
       "      <td>397506080</td>\n",
       "      <td>planned</td>\n",
       "      <td>Preadmission</td>\n",
       "      <td>Outpatient Surgery</td>\n",
       "      <td>2023-10-27T12:25:00Z</td>\n",
       "      <td>2173-09-27T13:25:00Z</td>\n",
       "      <td>Location/eIywPq1.jeW-I7LBCQ6-LLQ3</td>\n",
       "      <td>NORTHSHORE UNIVERSITY HEALTHSYSTEM</td>\n",
       "      <td>eUOYCz7LkerCpohtqoYEg-Q3</td>\n",
       "      <td>2023-10-27 12:25:00+00:00</td>\n",
       "      <td>2023-10-27</td>\n",
       "      <td>2023-10-27</td>\n",
       "      <td>2173-09-27</td>\n",
       "    </tr>\n",
       "    <tr>\n",
       "      <th>20378</th>\n",
       "      <td>353198</td>\n",
       "      <td>encounter</td>\n",
       "      <td>openepic_shared_northshore_university_health_system</td>\n",
       "      <td>Encounter</td>\n",
       "      <td>eUOYCz7LkerCpohtqoYEg-Q3</td>\n",
       "      <td>2023-05-05</td>\n",
       "      <td>Patient/eh8sydCilYgMGnG4nuyYDwwayksyhZ1xeaVIh90VHvLg3</td>\n",
       "      <td>Harris, Pamela M</td>\n",
       "      <td>usual</td>\n",
       "      <td>urn:oid:1.2.840.114350.1.13.32.2.7.3.698084.17</td>\n",
       "      <td>397506080</td>\n",
       "      <td>planned</td>\n",
       "      <td>Preadmission</td>\n",
       "      <td>Outpatient Surgery</td>\n",
       "      <td>2023-10-27T12:25:00Z</td>\n",
       "      <td>2173-09-27T13:25:00Z</td>\n",
       "      <td>Location/eO04axlWmvJjaBBv.Bq0gZQ3</td>\n",
       "      <td>PERI-OPERATIVE SERVICES GLENBROOK</td>\n",
       "      <td>eUOYCz7LkerCpohtqoYEg-Q3</td>\n",
       "      <td>2023-10-27 12:25:00+00:00</td>\n",
       "      <td>2023-10-27</td>\n",
       "      <td>2023-10-27</td>\n",
       "      <td>2173-09-27</td>\n",
       "    </tr>\n",
       "    <tr>\n",
       "      <th>20379</th>\n",
       "      <td>353198</td>\n",
       "      <td>encounter</td>\n",
       "      <td>openepic_shared_northshore_university_health_system</td>\n",
       "      <td>Encounter</td>\n",
       "      <td>eUOYCz7LkerCpohtqoYEg-Q3</td>\n",
       "      <td>2023-05-05</td>\n",
       "      <td>Patient/eh8sydCilYgMGnG4nuyYDwwayksyhZ1xeaVIh90VHvLg3</td>\n",
       "      <td>Harris, Pamela M</td>\n",
       "      <td>usual</td>\n",
       "      <td>urn:oid:1.2.840.114350.1.13.32.2.7.3.698084.17</td>\n",
       "      <td>397506080</td>\n",
       "      <td>planned</td>\n",
       "      <td>Preadmission</td>\n",
       "      <td>Hospital Encounter</td>\n",
       "      <td>2023-10-27T12:25:00Z</td>\n",
       "      <td>2173-09-27T13:25:00Z</td>\n",
       "      <td>Location/eIywPq1.jeW-I7LBCQ6-LLQ3</td>\n",
       "      <td>NORTHSHORE UNIVERSITY HEALTHSYSTEM</td>\n",
       "      <td>eUOYCz7LkerCpohtqoYEg-Q3</td>\n",
       "      <td>2023-10-27 12:25:00+00:00</td>\n",
       "      <td>2023-10-27</td>\n",
       "      <td>2023-10-27</td>\n",
       "      <td>2173-09-27</td>\n",
       "    </tr>\n",
       "    <tr>\n",
       "      <th>16972</th>\n",
       "      <td>353198</td>\n",
       "      <td>encounter</td>\n",
       "      <td>openepic_shared_northshore_university_health_system</td>\n",
       "      <td>Encounter</td>\n",
       "      <td>eTtTbywOFccmlqTCrTcLL6A3</td>\n",
       "      <td>2023-05-05</td>\n",
       "      <td>Patient/eh8sydCilYgMGnG4nuyYDwwayksyhZ1xeaVIh90VHvLg3</td>\n",
       "      <td>Harris, Pamela M</td>\n",
       "      <td>usual</td>\n",
       "      <td>urn:oid:1.2.840.114350.1.13.32.2.7.3.698084.8</td>\n",
       "      <td>397052393</td>\n",
       "      <td>unknown</td>\n",
       "      <td>Surgery Case</td>\n",
       "      <td>Surgery</td>\n",
       "      <td>2023-10-27T12:25:00Z</td>\n",
       "      <td>2023-10-27T13:45:00Z</td>\n",
       "      <td>Location/eTuVuQyEqnJSqnUqNDQC0xUnnUCjd9.HBzrx0q82Zm8g3</td>\n",
       "      <td>GLENBROOK MAIN OR</td>\n",
       "      <td>eTtTbywOFccmlqTCrTcLL6A3</td>\n",
       "      <td>2023-10-27 12:25:00+00:00</td>\n",
       "      <td>2023-10-27</td>\n",
       "      <td>2023-10-27</td>\n",
       "      <td>2023-10-27</td>\n",
       "    </tr>\n",
       "    <tr>\n",
       "      <th>54321</th>\n",
       "      <td>353198</td>\n",
       "      <td>encounter</td>\n",
       "      <td>openepic_shared_northshore_university_health_system</td>\n",
       "      <td>Encounter</td>\n",
       "      <td>eUOYCz7LkerCpohtqoYEg-Q3</td>\n",
       "      <td>2023-05-05</td>\n",
       "      <td>Patient/eh8sydCilYgMGnG4nuyYDwwayksyhZ1xeaVIh90VHvLg3</td>\n",
       "      <td>Harris, Pamela M</td>\n",
       "      <td>usual</td>\n",
       "      <td>urn:oid:1.2.840.114350.1.13.32.2.7.3.698084.17</td>\n",
       "      <td>397506080</td>\n",
       "      <td>planned</td>\n",
       "      <td>Preadmission</td>\n",
       "      <td>Hospital Encounter</td>\n",
       "      <td>2023-10-27T12:25:00Z</td>\n",
       "      <td>2173-09-27T13:25:00Z</td>\n",
       "      <td>Location/eO04axlWmvJjaBBv.Bq0gZQ3</td>\n",
       "      <td>PERI-OPERATIVE SERVICES GLENBROOK</td>\n",
       "      <td>eUOYCz7LkerCpohtqoYEg-Q3</td>\n",
       "      <td>2023-10-27 12:25:00+00:00</td>\n",
       "      <td>2023-10-27</td>\n",
       "      <td>2023-10-27</td>\n",
       "      <td>2173-09-27</td>\n",
       "    </tr>\n",
       "  </tbody>\n",
       "</table>\n",
       "<p>201147 rows × 23 columns</p>\n",
       "</div>"
      ],
      "text/plain": [
       "        user_id   resource  \\\n",
       "8244     147821  encounter   \n",
       "67216    147821  encounter   \n",
       "102839   147821  encounter   \n",
       "110461   147821  encounter   \n",
       "110462   147821  encounter   \n",
       "...         ...        ...   \n",
       "55154    353198  encounter   \n",
       "20378    353198  encounter   \n",
       "20379    353198  encounter   \n",
       "16972    353198  encounter   \n",
       "54321    353198  encounter   \n",
       "\n",
       "                                                   provider resourcetype  \\\n",
       "8244                       openepic_shared_jefferson_health    Encounter   \n",
       "67216                      openepic_shared_jefferson_health    Encounter   \n",
       "102839                     openepic_shared_jefferson_health    Encounter   \n",
       "110461                     openepic_shared_jefferson_health    Encounter   \n",
       "110462                     openepic_shared_jefferson_health    Encounter   \n",
       "...                                                     ...          ...   \n",
       "55154   openepic_shared_northshore_university_health_system    Encounter   \n",
       "20378   openepic_shared_northshore_university_health_system    Encounter   \n",
       "20379   openepic_shared_northshore_university_health_system    Encounter   \n",
       "16972   openepic_shared_northshore_university_health_system    Encounter   \n",
       "54321   openepic_shared_northshore_university_health_system    Encounter   \n",
       "\n",
       "                              id uploaded_date  \\\n",
       "8244    e1EYVvFDO8JsaScfdxg6TAA3    2022-10-17   \n",
       "67216   e1EYVvFDO8JsaScfdxg6TAA3    2022-10-17   \n",
       "102839  e1EYVvFDO8JsaScfdxg6TAA3    2022-10-17   \n",
       "110461  e1EYVvFDO8JsaScfdxg6TAA3    2022-10-17   \n",
       "110462  e1EYVvFDO8JsaScfdxg6TAA3    2022-10-17   \n",
       "...                          ...           ...   \n",
       "55154   eUOYCz7LkerCpohtqoYEg-Q3    2023-05-05   \n",
       "20378   eUOYCz7LkerCpohtqoYEg-Q3    2023-05-05   \n",
       "20379   eUOYCz7LkerCpohtqoYEg-Q3    2023-05-05   \n",
       "16972   eTtTbywOFccmlqTCrTcLL6A3    2023-05-05   \n",
       "54321   eUOYCz7LkerCpohtqoYEg-Q3    2023-05-05   \n",
       "\n",
       "                                                    reference  \\\n",
       "8244    Patient/eQbForz6er7IGbRm560D4qbhms0jp9mVjjSfjFOcu8n03   \n",
       "67216   Patient/eQbForz6er7IGbRm560D4qbhms0jp9mVjjSfjFOcu8n03   \n",
       "102839  Patient/eQbForz6er7IGbRm560D4qbhms0jp9mVjjSfjFOcu8n03   \n",
       "110461  Patient/eQbForz6er7IGbRm560D4qbhms0jp9mVjjSfjFOcu8n03   \n",
       "110462  Patient/eQbForz6er7IGbRm560D4qbhms0jp9mVjjSfjFOcu8n03   \n",
       "...                                                       ...   \n",
       "55154   Patient/eh8sydCilYgMGnG4nuyYDwwayksyhZ1xeaVIh90VHvLg3   \n",
       "20378   Patient/eh8sydCilYgMGnG4nuyYDwwayksyhZ1xeaVIh90VHvLg3   \n",
       "20379   Patient/eh8sydCilYgMGnG4nuyYDwwayksyhZ1xeaVIh90VHvLg3   \n",
       "16972   Patient/eh8sydCilYgMGnG4nuyYDwwayksyhZ1xeaVIh90VHvLg3   \n",
       "54321   Patient/eh8sydCilYgMGnG4nuyYDwwayksyhZ1xeaVIh90VHvLg3   \n",
       "\n",
       "                 display    use  \\\n",
       "8244       Wanger, Sarah  usual   \n",
       "67216      Wanger, Sarah  usual   \n",
       "102839     Wanger, Sarah  usual   \n",
       "110461     Wanger, Sarah  usual   \n",
       "110462     Wanger, Sarah  usual   \n",
       "...                  ...    ...   \n",
       "55154   Harris, Pamela M  usual   \n",
       "20378   Harris, Pamela M  usual   \n",
       "20379   Harris, Pamela M  usual   \n",
       "16972   Harris, Pamela M  usual   \n",
       "54321   Harris, Pamela M  usual   \n",
       "\n",
       "                                                  id_system           value  \\\n",
       "8244    urn:oid:1.2.840.114350.1.13.450.2.7.5.737384.613608      1734781445   \n",
       "67216       urn:oid:1.2.840.114350.1.13.450.2.7.3.698084.17  STAR1734781445   \n",
       "102839       urn:oid:1.2.840.114350.1.13.450.2.7.3.698084.8        96777215   \n",
       "110461      urn:oid:1.2.840.114350.1.13.450.2.7.3.698084.17  STAR1734781445   \n",
       "110462  urn:oid:1.2.840.114350.1.13.450.2.7.5.737384.613608      1734781445   \n",
       "...                                                     ...             ...   \n",
       "55154        urn:oid:1.2.840.114350.1.13.32.2.7.3.698084.17       397506080   \n",
       "20378        urn:oid:1.2.840.114350.1.13.32.2.7.3.698084.17       397506080   \n",
       "20379        urn:oid:1.2.840.114350.1.13.32.2.7.3.698084.17       397506080   \n",
       "16972         urn:oid:1.2.840.114350.1.13.32.2.7.3.698084.8       397052393   \n",
       "54321        urn:oid:1.2.840.114350.1.13.32.2.7.3.698084.17       397506080   \n",
       "\n",
       "          status class_display           type_text                 start  \\\n",
       "8244    finished           HOV  Hospital Encounter  2017-12-13T17:27:00Z   \n",
       "67216   finished           HOV  Hospital Encounter  2017-12-13T17:27:00Z   \n",
       "102839  finished           HOV  Hospital Encounter  2017-12-13T17:27:00Z   \n",
       "110461  finished           HOV          Outpatient  2017-12-13T17:27:00Z   \n",
       "110462  finished           HOV  Hospital Encounter  2017-12-13T17:27:00Z   \n",
       "...          ...           ...                 ...                   ...   \n",
       "55154    planned  Preadmission  Outpatient Surgery  2023-10-27T12:25:00Z   \n",
       "20378    planned  Preadmission  Outpatient Surgery  2023-10-27T12:25:00Z   \n",
       "20379    planned  Preadmission  Hospital Encounter  2023-10-27T12:25:00Z   \n",
       "16972    unknown  Surgery Case             Surgery  2023-10-27T12:25:00Z   \n",
       "54321    planned  Preadmission  Hospital Encounter  2023-10-27T12:25:00Z   \n",
       "\n",
       "                         end  \\\n",
       "8244    2021-01-25T22:37:00Z   \n",
       "67216   2021-01-25T22:37:00Z   \n",
       "102839  2021-01-25T22:37:00Z   \n",
       "110461  2021-01-25T22:37:00Z   \n",
       "110462  2021-01-25T22:37:00Z   \n",
       "...                      ...   \n",
       "55154   2173-09-27T13:25:00Z   \n",
       "20378   2173-09-27T13:25:00Z   \n",
       "20379   2173-09-27T13:25:00Z   \n",
       "16972   2023-10-27T13:45:00Z   \n",
       "54321   2173-09-27T13:25:00Z   \n",
       "\n",
       "                                                   reference.1  \\\n",
       "8244                         Location/eS8qWmV5FUBlr4OCPHJcmPg3   \n",
       "67216   Location/eaFk83jbiVND9rs2i21xSdJXnSON2kPFxMn2AGrJrEew3   \n",
       "102839                       Location/eS8qWmV5FUBlr4OCPHJcmPg3   \n",
       "110461                       Location/eS8qWmV5FUBlr4OCPHJcmPg3   \n",
       "110462  Location/eaFk83jbiVND9rs2i21xSdJXnSON2kPFxMn2AGrJrEew3   \n",
       "...                                                        ...   \n",
       "55154                        Location/eIywPq1.jeW-I7LBCQ6-LLQ3   \n",
       "20378                        Location/eO04axlWmvJjaBBv.Bq0gZQ3   \n",
       "20379                        Location/eIywPq1.jeW-I7LBCQ6-LLQ3   \n",
       "16972   Location/eTuVuQyEqnJSqnUqNDQC0xUnnUCjd9.HBzrx0q82Zm8g3   \n",
       "54321                        Location/eO04axlWmvJjaBBv.Bq0gZQ3   \n",
       "\n",
       "                                 display.1               resource_id  \\\n",
       "8244           THOMAS JEFFERSON UNIVERSITY  e1EYVvFDO8JsaScfdxg6TAA3   \n",
       "67216                   CONVERSION SCM JHA  e1EYVvFDO8JsaScfdxg6TAA3   \n",
       "102839         THOMAS JEFFERSON UNIVERSITY  e1EYVvFDO8JsaScfdxg6TAA3   \n",
       "110461         THOMAS JEFFERSON UNIVERSITY  e1EYVvFDO8JsaScfdxg6TAA3   \n",
       "110462                  CONVERSION SCM JHA  e1EYVvFDO8JsaScfdxg6TAA3   \n",
       "...                                    ...                       ...   \n",
       "55154   NORTHSHORE UNIVERSITY HEALTHSYSTEM  eUOYCz7LkerCpohtqoYEg-Q3   \n",
       "20378    PERI-OPERATIVE SERVICES GLENBROOK  eUOYCz7LkerCpohtqoYEg-Q3   \n",
       "20379   NORTHSHORE UNIVERSITY HEALTHSYSTEM  eUOYCz7LkerCpohtqoYEg-Q3   \n",
       "16972                    GLENBROOK MAIN OR  eTtTbywOFccmlqTCrTcLL6A3   \n",
       "54321    PERI-OPERATIVE SERVICES GLENBROOK  eUOYCz7LkerCpohtqoYEg-Q3   \n",
       "\n",
       "                    start_time_d     start_s    start_d       end_d  \n",
       "8244   2017-12-13 17:27:00+00:00  2017-12-13 2017-12-13  2021-01-25  \n",
       "67216  2017-12-13 17:27:00+00:00  2017-12-13 2017-12-13  2021-01-25  \n",
       "102839 2017-12-13 17:27:00+00:00  2017-12-13 2017-12-13  2021-01-25  \n",
       "110461 2017-12-13 17:27:00+00:00  2017-12-13 2017-12-13  2021-01-25  \n",
       "110462 2017-12-13 17:27:00+00:00  2017-12-13 2017-12-13  2021-01-25  \n",
       "...                          ...         ...        ...         ...  \n",
       "55154  2023-10-27 12:25:00+00:00  2023-10-27 2023-10-27  2173-09-27  \n",
       "20378  2023-10-27 12:25:00+00:00  2023-10-27 2023-10-27  2173-09-27  \n",
       "20379  2023-10-27 12:25:00+00:00  2023-10-27 2023-10-27  2173-09-27  \n",
       "16972  2023-10-27 12:25:00+00:00  2023-10-27 2023-10-27  2023-10-27  \n",
       "54321  2023-10-27 12:25:00+00:00  2023-10-27 2023-10-27  2173-09-27  \n",
       "\n",
       "[201147 rows x 23 columns]"
      ]
     },
     "execution_count": 29,
     "metadata": {},
     "output_type": "execute_result"
    }
   ],
   "source": [
    "import matplotlib.pyplot as plt\n",
    "\n",
    "years = fhir_enc_raw['start_d'].dt.year.value_counts().reset_index(name=\"Encounters\")\n",
    "y = years[years['index'] <= 2023]\n",
    "bar = plt.bar(y['index'], y['Encounters'])\n",
    "plt.bar_label(bar)\n",
    "plt.title('Encounters by year from FHIR')\n",
    "plt.ylabel('N Unique Encounters')\n",
    "plt.show()\n",
    "fhir_enc_raw[fhir_enc_raw['start_d'] < '2024-01-01'].dropna().sort_values('start_d')"
   ]
  },
  {
   "cell_type": "code",
   "execution_count": 30,
   "id": "68ee84ba",
   "metadata": {},
   "outputs": [
    {
     "name": "stdout",
     "output_type": "stream",
     "text": [
      "Common Users to FHIR and PCORnet 618\n"
     ]
    }
   ],
   "source": []
  },
  {
   "cell_type": "code",
   "execution_count": 31,
   "id": "2a1878dc",
   "metadata": {},
   "outputs": [
    {
     "name": "stdout",
     "output_type": "stream",
     "text": [
      "----- KEEPING ONLY USERS COMMON TO BOTH DATASETS ------\n",
      "Total FHIR encounters:  12163\n",
      "Total PCORNet encounters:  13045\n"
     ]
    }
   ],
   "source": [
    "# Limit only to users common to FHIR and PC\n",
    "# Code site IDs same way\n",
    "common_users = fhir_demo.drop_duplicates(\"user_id\").merge(pc_demo.drop_duplicates(\"user_id\"), on=\"user_id\", how=\"inner\")\n",
    "print('Common Users to FHIR and PCORnet', len(common_users))\n",
    "\n",
    "\n",
    "print(f'----- KEEPING ONLY USERS COMMON TO BOTH DATASETS ------')\n",
    "fhir_enc = fhir_enc_restricted_dates[fhir_enc_restricted_dates['user_id'].isin(common_users['user_id'])]\n",
    "fhir_enc = fhir_enc.drop_duplicates('resource_id')\n",
    "pc_enc = pc_enc_restricted_dates[pc_enc_restricted_dates['user_id'].isin(common_users['user_id'])]\n",
    "\n",
    "print(f'Total FHIR encounters: ', len(fhir_enc))\n",
    "print(f'Total PCORNet encounters: ', len(pc_enc))\n"
   ]
  },
  {
   "cell_type": "code",
   "execution_count": 32,
   "id": "c1c8e36e",
   "metadata": {},
   "outputs": [
    {
     "name": "stdout",
     "output_type": "stream",
     "text": [
      "FHIR encounters:  12163  users: 585\n",
      "PCORNet encounters:  13045  users: 545\n",
      "-------- KEEPING ONLY SITES IN PCORNET -------\n",
      "FHIR encounters:  10608  users: 521\n",
      "-------- KEEPING ONLY ONE SITE PER USER (PCORNET SITE) -------\n",
      "FHIR encounters:  9203  users: 480\n"
     ]
    }
   ],
   "source": [
    "# get users common to both datasets\n",
    "print('FHIR encounters: ', len(fhir_enc), ' users:', len(fhir_enc.drop_duplicates(\"user_id\")))\n",
    "print('PCORNet encounters: ', len(pc_enc), ' users:', len(pc_enc.drop_duplicates(\"user_id\")))\n",
    "print(\"-------- KEEPING ONLY SITES IN PCORNET -------\")\n",
    "fhir_enc_pcsites = fhir_enc[fhir_enc['provider'].isin(site_config.values())]\n",
    "print('FHIR encounters: ', len(fhir_enc_pcsites), ' users:', len(fhir_enc_pcsites.drop_duplicates(\"user_id\")))\n",
    "print(\"-------- KEEPING ONLY ONE SITE PER USER (PCORNET SITE) -------\")\n",
    "common_records = fhir_enc_pcsites.merge(pc_demo, left_on=['provider', 'user_id'], right_on=['siteid', 'user_id'], how=\"inner\")\n",
    "fhir_enc_pcsites = fhir_enc_pcsites[fhir_enc_pcsites['resource_id'].isin(common_records['resource_id'])]\n",
    "print('FHIR encounters: ', len(fhir_enc_pcsites), ' users:', len(fhir_enc_pcsites.drop_duplicates(\"user_id\")))\n",
    "\n"
   ]
  },
  {
   "cell_type": "code",
   "execution_count": 33,
   "id": "be8f2c35",
   "metadata": {},
   "outputs": [
    {
     "name": "stdout",
     "output_type": "stream",
     "text": [
      "FHIR Unique FHIR Encounters from PC sites:  9203\n",
      "FHIR Unique PC Encounters:  13045\n"
     ]
    }
   ],
   "source": [
    "print('FHIR Unique FHIR Encounters from PC sites: ', len(fhir_enc_pcsites.drop_duplicates(\"resource_id\")))\n",
    "print('FHIR Unique PC Encounters: ', len(pc_enc))"
   ]
  },
  {
   "cell_type": "code",
   "execution_count": 192,
   "id": "1033f1f9",
   "metadata": {},
   "outputs": [
    {
     "name": "stderr",
     "output_type": "stream",
     "text": [
      "/tmp/ipykernel_33/4083688764.py:24: SettingWithCopyWarning:\n",
      "\n",
      "\n",
      "A value is trying to be set on a copy of a slice from a DataFrame.\n",
      "Try using .loc[row_indexer,col_indexer] = value instead\n",
      "\n",
      "See the caveats in the documentation: https://pandas.pydata.org/pandas-docs/stable/user_guide/indexing.html#returning-a-view-versus-a-copy\n",
      "\n"
     ]
    }
   ],
   "source": [
    "visit_type_config = {\n",
    "    'Telehealth': 'Telehealth',\n",
    "    'Ambulatory Visit': 'Outpatient',\n",
    "    'Observation Stay': 'Outpatient',\n",
    "    'Inpatient Hospital Stay': 'Inpatient',\n",
    "    'ED Admit to Inaptient': 'Inpatient',\n",
    "    'Emergency Department': 'Outpatient',\n",
    "    'Other Ambulatory Visit': 'Outpatient',\n",
    "    'Other': 'Exclude',\n",
    "    'No Information': 'Exclude',\n",
    "    \n",
    "    'Appointment': 'Outpatient',\n",
    "    'HOV': 'Outpatient',\n",
    "    'Support OP Encounter': 'Exclude',\n",
    "    'Discharge': 'Inpatient',\n",
    "    'Surgery Log': 'Exclude',\n",
    "    'Preadmission': 'Outpatient'\n",
    "    \n",
    "}\n",
    "fhir_telehealth_types = ['Telephone', 'Video Visit', 'E-visit']\n",
    "\n",
    "fhir_enc['type_fhir'] = fhir_enc['class_display'].replace(visit_type_config)\n",
    "fhir_enc.loc[fhir_enc['type_text'].isin(fhir_telehealth_types), 'type_fhir'] = 'Telehealth'\n",
    "pc_enc['type_pc'] = pc_enc['enc_type'].replace(visit_type_config)"
   ]
  },
  {
   "cell_type": "code",
   "execution_count": 193,
   "id": "d07eff43",
   "metadata": {},
   "outputs": [
    {
     "name": "stdout",
     "output_type": "stream",
     "text": [
      "Before Admit Date deduplication (PC, FHIR):  13045   9203\n",
      "After Admit Date deduplication (PC, FHIR):  13045   12163\n"
     ]
    }
   ],
   "source": [
    "print(f'Before Admit Date deduplication (PC, FHIR): ', len(pc_enc), ' ', len(fhir_enc_pcsites))\n",
    "\n",
    "# pc_enc_sd = pc_enc.drop_duplicates(subset=['user_id', 'admit_date'])\n",
    "# fhir_enc_sd = fhir_enc_pcsites.drop_duplicates(subset=['user_id', 'start'])\n",
    "\n",
    "pc_enc_sd = pc_enc\n",
    "fhir_enc_sd = fhir_enc\n",
    "\n",
    "print(f'After Admit Date deduplication (PC, FHIR): ', len(pc_enc_sd), ' ', len(fhir_enc_sd))"
   ]
  },
  {
   "cell_type": "markdown",
   "id": "8dd8e023",
   "metadata": {},
   "source": [
    "# General Review (FHIR/PC)"
   ]
  },
  {
   "cell_type": "code",
   "execution_count": 197,
   "id": "58a18084",
   "metadata": {},
   "outputs": [
    {
     "data": {
      "text/html": [
       "<div>\n",
       "<style scoped>\n",
       "    .dataframe tbody tr th:only-of-type {\n",
       "        vertical-align: middle;\n",
       "    }\n",
       "\n",
       "    .dataframe tbody tr th {\n",
       "        vertical-align: top;\n",
       "    }\n",
       "\n",
       "    .dataframe thead th {\n",
       "        text-align: right;\n",
       "    }\n",
       "</style>\n",
       "<table border=\"1\" class=\"dataframe\">\n",
       "  <thead>\n",
       "    <tr style=\"text-align: right;\">\n",
       "      <th></th>\n",
       "      <th>comparison</th>\n",
       "      <th>counts</th>\n",
       "    </tr>\n",
       "  </thead>\n",
       "  <tbody>\n",
       "    <tr>\n",
       "      <th>0</th>\n",
       "      <td>OpenEpic &amp; PCORnet</td>\n",
       "      <td>5838</td>\n",
       "    </tr>\n",
       "    <tr>\n",
       "      <th>1</th>\n",
       "      <td>OpenEpic Only</td>\n",
       "      <td>4398</td>\n",
       "    </tr>\n",
       "    <tr>\n",
       "      <th>2</th>\n",
       "      <td>PCORnet Only</td>\n",
       "      <td>3609</td>\n",
       "    </tr>\n",
       "  </tbody>\n",
       "</table>\n",
       "</div>"
      ],
      "text/plain": [
       "           comparison  counts\n",
       "0  OpenEpic & PCORnet    5838\n",
       "1       OpenEpic Only    4398\n",
       "2        PCORnet Only    3609"
      ]
     },
     "execution_count": 197,
     "metadata": {},
     "output_type": "execute_result"
    }
   ],
   "source": [
    "\n",
    "pc_events = pc_enc_sd.drop_duplicates(['user_id','admit_date'])\n",
    "fhir_events = fhir_enc_sd.drop_duplicates(['user_id','start_s'])\n",
    "m = fhir_events.merge(pc_events, left_on=['user_id', 'start_d'], right_on=['user_id', 'admit_date_d'], how=\"outer\", indicator=\"_merge\")\n",
    "m['_merge'] = m['_merge'].replace({'both': 'OpenEpic & PCORnet', 'left_only': 'OpenEpic Only', 'right_only': 'PCORnet Only'})\n",
    "counts = m['_merge'].value_counts().reset_index(name ='counts')\n",
    "counts = counts.rename(columns={'index': 'comparison'})\n",
    "counts"
   ]
  },
  {
   "cell_type": "code",
   "execution_count": 198,
   "id": "368acd60",
   "metadata": {},
   "outputs": [
    {
     "name": "stdout",
     "output_type": "stream",
     "text": [
      "Appointment             6307\n",
      "Support OP Encounter    2372\n",
      "HOV                     1251\n",
      "Discharge                284\n",
      "Surgery Log               20\n",
      "Preadmission               2\n",
      "Name: class_display, dtype: int64\n",
      "Office Visit                        1512\n",
      "Outpatient                          1172\n",
      "Telephone                           1105\n",
      "Refill                               897\n",
      "Elective                             657\n",
      "                                    ... \n",
      "Nm Rx Stress                           1\n",
      "Vaccine Imm/Inj                        1\n",
      "CT UROGRAM ABD/PELV W/WO IVC 3D        1\n",
      "CT Imaging Procedure                   1\n",
      "Bariatric Pre Op Nutrition Class       1\n",
      "Name: type_text, Length: 555, dtype: int64\n"
     ]
    }
   ],
   "source": [
    "print(fhir_events['class_display'].value_counts(dropna=False))\n",
    "print(fhir_events['type_text'].value_counts(dropna=False))"
   ]
  },
  {
   "cell_type": "code",
   "execution_count": 199,
   "id": "d055b590",
   "metadata": {},
   "outputs": [
    {
     "data": {
      "text/plain": [
       "Ambulatory Visit           4086\n",
       "Other Ambulatory Visit     3622\n",
       "Telehealth                 1210\n",
       "Other                       348\n",
       "Emergency Department         64\n",
       "Observation Stay             55\n",
       "No Information               31\n",
       "Inpatient Hospital Stay      28\n",
       "ED Admit to Inaptient         3\n",
       "Name: enc_type, dtype: int64"
      ]
     },
     "execution_count": 199,
     "metadata": {},
     "output_type": "execute_result"
    }
   ],
   "source": [
    "pc_events['enc_type'].value_counts(dropna=False)"
   ]
  },
  {
   "cell_type": "code",
   "execution_count": 200,
   "id": "82774eb0",
   "metadata": {},
   "outputs": [
    {
     "data": {
      "text/plain": [
       "Outpatient    10252\n",
       "Telehealth     2252\n",
       "Exclude         881\n",
       "NaN             332\n",
       "Inpatient       128\n",
       "Name: type, dtype: int64"
      ]
     },
     "execution_count": 200,
     "metadata": {},
     "output_type": "execute_result"
    }
   ],
   "source": [
    "m['type'] = m['type_pc']\n",
    "m['type'] = m['type'].fillna(m['type_fhir'])\n",
    "m.loc[m['type_pc']=='Exclude', 'type'] = m['type_fhir']\n",
    "counts = m['type'].value_counts(dropna=False)\n",
    "counts\n",
    "# m[m['type'] == 'Other']"
   ]
  },
  {
   "cell_type": "code",
   "execution_count": 185,
   "id": "bf3f6ee7",
   "metadata": {},
   "outputs": [
    {
     "data": {
      "text/html": [
       "<div>\n",
       "<style scoped>\n",
       "    .dataframe tbody tr th:only-of-type {\n",
       "        vertical-align: middle;\n",
       "    }\n",
       "\n",
       "    .dataframe tbody tr th {\n",
       "        vertical-align: top;\n",
       "    }\n",
       "\n",
       "    .dataframe thead th {\n",
       "        text-align: right;\n",
       "    }\n",
       "</style>\n",
       "<table border=\"1\" class=\"dataframe\">\n",
       "  <thead>\n",
       "    <tr style=\"text-align: right;\">\n",
       "      <th></th>\n",
       "      <th>type</th>\n",
       "      <th>source</th>\n",
       "      <th>counts</th>\n",
       "    </tr>\n",
       "  </thead>\n",
       "  <tbody>\n",
       "    <tr>\n",
       "      <th>0</th>\n",
       "      <td>Inpatient</td>\n",
       "      <td>OpenEpic Only</td>\n",
       "      <td>85</td>\n",
       "    </tr>\n",
       "    <tr>\n",
       "      <th>1</th>\n",
       "      <td>Inpatient</td>\n",
       "      <td>PCORnet Only</td>\n",
       "      <td>13</td>\n",
       "    </tr>\n",
       "    <tr>\n",
       "      <th>2</th>\n",
       "      <td>Inpatient</td>\n",
       "      <td>OpenEpic &amp; PCORnet</td>\n",
       "      <td>30</td>\n",
       "    </tr>\n",
       "    <tr>\n",
       "      <th>3</th>\n",
       "      <td>Outpatient</td>\n",
       "      <td>OpenEpic Only</td>\n",
       "      <td>2399</td>\n",
       "    </tr>\n",
       "    <tr>\n",
       "      <th>4</th>\n",
       "      <td>Outpatient</td>\n",
       "      <td>PCORnet Only</td>\n",
       "      <td>2757</td>\n",
       "    </tr>\n",
       "    <tr>\n",
       "      <th>5</th>\n",
       "      <td>Outpatient</td>\n",
       "      <td>OpenEpic &amp; PCORnet</td>\n",
       "      <td>5096</td>\n",
       "    </tr>\n",
       "    <tr>\n",
       "      <th>6</th>\n",
       "      <td>Telehealth</td>\n",
       "      <td>OpenEpic Only</td>\n",
       "      <td>1040</td>\n",
       "    </tr>\n",
       "    <tr>\n",
       "      <th>7</th>\n",
       "      <td>Telehealth</td>\n",
       "      <td>PCORnet Only</td>\n",
       "      <td>507</td>\n",
       "    </tr>\n",
       "    <tr>\n",
       "      <th>8</th>\n",
       "      <td>Telehealth</td>\n",
       "      <td>OpenEpic &amp; PCORnet</td>\n",
       "      <td>705</td>\n",
       "    </tr>\n",
       "  </tbody>\n",
       "</table>\n",
       "</div>"
      ],
      "text/plain": [
       "         type              source  counts\n",
       "0   Inpatient       OpenEpic Only      85\n",
       "1   Inpatient        PCORnet Only      13\n",
       "2   Inpatient  OpenEpic & PCORnet      30\n",
       "3  Outpatient       OpenEpic Only    2399\n",
       "4  Outpatient        PCORnet Only    2757\n",
       "5  Outpatient  OpenEpic & PCORnet    5096\n",
       "6  Telehealth       OpenEpic Only    1040\n",
       "7  Telehealth        PCORnet Only     507\n",
       "8  Telehealth  OpenEpic & PCORnet     705"
      ]
     },
     "execution_count": 185,
     "metadata": {},
     "output_type": "execute_result"
    }
   ],
   "source": [
    "m2 = m[m['type']!= 'Exclude']\n",
    "m2 = m2.reset_index()\n",
    "counts = m2.groupby(['type','_merge'])['index'].count().reset_index()\n",
    "counts = counts.rename(columns={'_merge':'source', 'index':'counts'})\n",
    "counts\n",
    "# counts['source_match'] = counts['_merge'].replace({'both': 'Agreement', 'left_only': 'FHIR Only', 'right_only': 'PC Only'})\n",
    "# counts[['type','source_match']]"
   ]
  },
  {
   "cell_type": "code",
   "execution_count": 186,
   "id": "641c6572",
   "metadata": {},
   "outputs": [
    {
     "data": {
      "application/vnd.plotly.v1+json": {
       "config": {
        "plotlyServerURL": "https://plot.ly"
       },
       "data": [
        {
         "alignmentgroup": "True",
         "bingroup": "x",
         "histfunc": "sum",
         "hovertemplate": "source=OpenEpic Only<br>Visit Type=%{x}<br>sum of counts=%{y}<extra></extra>",
         "legendgroup": "OpenEpic Only",
         "marker": {
          "color": "#636efa",
          "pattern": {
           "shape": ""
          }
         },
         "name": "OpenEpic Only",
         "offsetgroup": "OpenEpic Only",
         "orientation": "v",
         "showlegend": true,
         "texttemplate": "%{value}",
         "type": "histogram",
         "x": [
          "Inpatient",
          "Outpatient",
          "Telehealth"
         ],
         "xaxis": "x",
         "y": [
          85,
          2399,
          1040
         ],
         "yaxis": "y"
        },
        {
         "alignmentgroup": "True",
         "bingroup": "x",
         "histfunc": "sum",
         "hovertemplate": "source=PCORnet Only<br>Visit Type=%{x}<br>sum of counts=%{y}<extra></extra>",
         "legendgroup": "PCORnet Only",
         "marker": {
          "color": "#EF553B",
          "pattern": {
           "shape": ""
          }
         },
         "name": "PCORnet Only",
         "offsetgroup": "PCORnet Only",
         "orientation": "v",
         "showlegend": true,
         "texttemplate": "%{value}",
         "type": "histogram",
         "x": [
          "Inpatient",
          "Outpatient",
          "Telehealth"
         ],
         "xaxis": "x",
         "y": [
          13,
          2757,
          507
         ],
         "yaxis": "y"
        },
        {
         "alignmentgroup": "True",
         "bingroup": "x",
         "histfunc": "sum",
         "hovertemplate": "source=OpenEpic & PCORnet<br>Visit Type=%{x}<br>sum of counts=%{y}<extra></extra>",
         "legendgroup": "OpenEpic & PCORnet",
         "marker": {
          "color": "#00cc96",
          "pattern": {
           "shape": ""
          }
         },
         "name": "OpenEpic & PCORnet",
         "offsetgroup": "OpenEpic & PCORnet",
         "orientation": "v",
         "showlegend": true,
         "texttemplate": "%{value}",
         "type": "histogram",
         "x": [
          "Inpatient",
          "Outpatient",
          "Telehealth"
         ],
         "xaxis": "x",
         "y": [
          30,
          5096,
          705
         ],
         "yaxis": "y"
        }
       ],
       "layout": {
        "barmode": "group",
        "height": 500,
        "legend": {
         "title": {
          "text": "source"
         },
         "tracegroupgap": 0
        },
        "margin": {
         "t": 60
        },
        "template": {
         "data": {
          "bar": [
           {
            "error_x": {
             "color": "#2a3f5f"
            },
            "error_y": {
             "color": "#2a3f5f"
            },
            "marker": {
             "line": {
              "color": "#E5ECF6",
              "width": 0.5
             },
             "pattern": {
              "fillmode": "overlay",
              "size": 10,
              "solidity": 0.2
             }
            },
            "type": "bar"
           }
          ],
          "barpolar": [
           {
            "marker": {
             "line": {
              "color": "#E5ECF6",
              "width": 0.5
             },
             "pattern": {
              "fillmode": "overlay",
              "size": 10,
              "solidity": 0.2
             }
            },
            "type": "barpolar"
           }
          ],
          "carpet": [
           {
            "aaxis": {
             "endlinecolor": "#2a3f5f",
             "gridcolor": "white",
             "linecolor": "white",
             "minorgridcolor": "white",
             "startlinecolor": "#2a3f5f"
            },
            "baxis": {
             "endlinecolor": "#2a3f5f",
             "gridcolor": "white",
             "linecolor": "white",
             "minorgridcolor": "white",
             "startlinecolor": "#2a3f5f"
            },
            "type": "carpet"
           }
          ],
          "choropleth": [
           {
            "colorbar": {
             "outlinewidth": 0,
             "ticks": ""
            },
            "type": "choropleth"
           }
          ],
          "contour": [
           {
            "colorbar": {
             "outlinewidth": 0,
             "ticks": ""
            },
            "colorscale": [
             [
              0,
              "#0d0887"
             ],
             [
              0.1111111111111111,
              "#46039f"
             ],
             [
              0.2222222222222222,
              "#7201a8"
             ],
             [
              0.3333333333333333,
              "#9c179e"
             ],
             [
              0.4444444444444444,
              "#bd3786"
             ],
             [
              0.5555555555555556,
              "#d8576b"
             ],
             [
              0.6666666666666666,
              "#ed7953"
             ],
             [
              0.7777777777777778,
              "#fb9f3a"
             ],
             [
              0.8888888888888888,
              "#fdca26"
             ],
             [
              1,
              "#f0f921"
             ]
            ],
            "type": "contour"
           }
          ],
          "contourcarpet": [
           {
            "colorbar": {
             "outlinewidth": 0,
             "ticks": ""
            },
            "type": "contourcarpet"
           }
          ],
          "heatmap": [
           {
            "colorbar": {
             "outlinewidth": 0,
             "ticks": ""
            },
            "colorscale": [
             [
              0,
              "#0d0887"
             ],
             [
              0.1111111111111111,
              "#46039f"
             ],
             [
              0.2222222222222222,
              "#7201a8"
             ],
             [
              0.3333333333333333,
              "#9c179e"
             ],
             [
              0.4444444444444444,
              "#bd3786"
             ],
             [
              0.5555555555555556,
              "#d8576b"
             ],
             [
              0.6666666666666666,
              "#ed7953"
             ],
             [
              0.7777777777777778,
              "#fb9f3a"
             ],
             [
              0.8888888888888888,
              "#fdca26"
             ],
             [
              1,
              "#f0f921"
             ]
            ],
            "type": "heatmap"
           }
          ],
          "heatmapgl": [
           {
            "colorbar": {
             "outlinewidth": 0,
             "ticks": ""
            },
            "colorscale": [
             [
              0,
              "#0d0887"
             ],
             [
              0.1111111111111111,
              "#46039f"
             ],
             [
              0.2222222222222222,
              "#7201a8"
             ],
             [
              0.3333333333333333,
              "#9c179e"
             ],
             [
              0.4444444444444444,
              "#bd3786"
             ],
             [
              0.5555555555555556,
              "#d8576b"
             ],
             [
              0.6666666666666666,
              "#ed7953"
             ],
             [
              0.7777777777777778,
              "#fb9f3a"
             ],
             [
              0.8888888888888888,
              "#fdca26"
             ],
             [
              1,
              "#f0f921"
             ]
            ],
            "type": "heatmapgl"
           }
          ],
          "histogram": [
           {
            "marker": {
             "pattern": {
              "fillmode": "overlay",
              "size": 10,
              "solidity": 0.2
             }
            },
            "type": "histogram"
           }
          ],
          "histogram2d": [
           {
            "colorbar": {
             "outlinewidth": 0,
             "ticks": ""
            },
            "colorscale": [
             [
              0,
              "#0d0887"
             ],
             [
              0.1111111111111111,
              "#46039f"
             ],
             [
              0.2222222222222222,
              "#7201a8"
             ],
             [
              0.3333333333333333,
              "#9c179e"
             ],
             [
              0.4444444444444444,
              "#bd3786"
             ],
             [
              0.5555555555555556,
              "#d8576b"
             ],
             [
              0.6666666666666666,
              "#ed7953"
             ],
             [
              0.7777777777777778,
              "#fb9f3a"
             ],
             [
              0.8888888888888888,
              "#fdca26"
             ],
             [
              1,
              "#f0f921"
             ]
            ],
            "type": "histogram2d"
           }
          ],
          "histogram2dcontour": [
           {
            "colorbar": {
             "outlinewidth": 0,
             "ticks": ""
            },
            "colorscale": [
             [
              0,
              "#0d0887"
             ],
             [
              0.1111111111111111,
              "#46039f"
             ],
             [
              0.2222222222222222,
              "#7201a8"
             ],
             [
              0.3333333333333333,
              "#9c179e"
             ],
             [
              0.4444444444444444,
              "#bd3786"
             ],
             [
              0.5555555555555556,
              "#d8576b"
             ],
             [
              0.6666666666666666,
              "#ed7953"
             ],
             [
              0.7777777777777778,
              "#fb9f3a"
             ],
             [
              0.8888888888888888,
              "#fdca26"
             ],
             [
              1,
              "#f0f921"
             ]
            ],
            "type": "histogram2dcontour"
           }
          ],
          "mesh3d": [
           {
            "colorbar": {
             "outlinewidth": 0,
             "ticks": ""
            },
            "type": "mesh3d"
           }
          ],
          "parcoords": [
           {
            "line": {
             "colorbar": {
              "outlinewidth": 0,
              "ticks": ""
             }
            },
            "type": "parcoords"
           }
          ],
          "pie": [
           {
            "automargin": true,
            "type": "pie"
           }
          ],
          "scatter": [
           {
            "fillpattern": {
             "fillmode": "overlay",
             "size": 10,
             "solidity": 0.2
            },
            "type": "scatter"
           }
          ],
          "scatter3d": [
           {
            "line": {
             "colorbar": {
              "outlinewidth": 0,
              "ticks": ""
             }
            },
            "marker": {
             "colorbar": {
              "outlinewidth": 0,
              "ticks": ""
             }
            },
            "type": "scatter3d"
           }
          ],
          "scattercarpet": [
           {
            "marker": {
             "colorbar": {
              "outlinewidth": 0,
              "ticks": ""
             }
            },
            "type": "scattercarpet"
           }
          ],
          "scattergeo": [
           {
            "marker": {
             "colorbar": {
              "outlinewidth": 0,
              "ticks": ""
             }
            },
            "type": "scattergeo"
           }
          ],
          "scattergl": [
           {
            "marker": {
             "colorbar": {
              "outlinewidth": 0,
              "ticks": ""
             }
            },
            "type": "scattergl"
           }
          ],
          "scattermapbox": [
           {
            "marker": {
             "colorbar": {
              "outlinewidth": 0,
              "ticks": ""
             }
            },
            "type": "scattermapbox"
           }
          ],
          "scatterpolar": [
           {
            "marker": {
             "colorbar": {
              "outlinewidth": 0,
              "ticks": ""
             }
            },
            "type": "scatterpolar"
           }
          ],
          "scatterpolargl": [
           {
            "marker": {
             "colorbar": {
              "outlinewidth": 0,
              "ticks": ""
             }
            },
            "type": "scatterpolargl"
           }
          ],
          "scatterternary": [
           {
            "marker": {
             "colorbar": {
              "outlinewidth": 0,
              "ticks": ""
             }
            },
            "type": "scatterternary"
           }
          ],
          "surface": [
           {
            "colorbar": {
             "outlinewidth": 0,
             "ticks": ""
            },
            "colorscale": [
             [
              0,
              "#0d0887"
             ],
             [
              0.1111111111111111,
              "#46039f"
             ],
             [
              0.2222222222222222,
              "#7201a8"
             ],
             [
              0.3333333333333333,
              "#9c179e"
             ],
             [
              0.4444444444444444,
              "#bd3786"
             ],
             [
              0.5555555555555556,
              "#d8576b"
             ],
             [
              0.6666666666666666,
              "#ed7953"
             ],
             [
              0.7777777777777778,
              "#fb9f3a"
             ],
             [
              0.8888888888888888,
              "#fdca26"
             ],
             [
              1,
              "#f0f921"
             ]
            ],
            "type": "surface"
           }
          ],
          "table": [
           {
            "cells": {
             "fill": {
              "color": "#EBF0F8"
             },
             "line": {
              "color": "white"
             }
            },
            "header": {
             "fill": {
              "color": "#C8D4E3"
             },
             "line": {
              "color": "white"
             }
            },
            "type": "table"
           }
          ]
         },
         "layout": {
          "annotationdefaults": {
           "arrowcolor": "#2a3f5f",
           "arrowhead": 0,
           "arrowwidth": 1
          },
          "autotypenumbers": "strict",
          "coloraxis": {
           "colorbar": {
            "outlinewidth": 0,
            "ticks": ""
           }
          },
          "colorscale": {
           "diverging": [
            [
             0,
             "#8e0152"
            ],
            [
             0.1,
             "#c51b7d"
            ],
            [
             0.2,
             "#de77ae"
            ],
            [
             0.3,
             "#f1b6da"
            ],
            [
             0.4,
             "#fde0ef"
            ],
            [
             0.5,
             "#f7f7f7"
            ],
            [
             0.6,
             "#e6f5d0"
            ],
            [
             0.7,
             "#b8e186"
            ],
            [
             0.8,
             "#7fbc41"
            ],
            [
             0.9,
             "#4d9221"
            ],
            [
             1,
             "#276419"
            ]
           ],
           "sequential": [
            [
             0,
             "#0d0887"
            ],
            [
             0.1111111111111111,
             "#46039f"
            ],
            [
             0.2222222222222222,
             "#7201a8"
            ],
            [
             0.3333333333333333,
             "#9c179e"
            ],
            [
             0.4444444444444444,
             "#bd3786"
            ],
            [
             0.5555555555555556,
             "#d8576b"
            ],
            [
             0.6666666666666666,
             "#ed7953"
            ],
            [
             0.7777777777777778,
             "#fb9f3a"
            ],
            [
             0.8888888888888888,
             "#fdca26"
            ],
            [
             1,
             "#f0f921"
            ]
           ],
           "sequentialminus": [
            [
             0,
             "#0d0887"
            ],
            [
             0.1111111111111111,
             "#46039f"
            ],
            [
             0.2222222222222222,
             "#7201a8"
            ],
            [
             0.3333333333333333,
             "#9c179e"
            ],
            [
             0.4444444444444444,
             "#bd3786"
            ],
            [
             0.5555555555555556,
             "#d8576b"
            ],
            [
             0.6666666666666666,
             "#ed7953"
            ],
            [
             0.7777777777777778,
             "#fb9f3a"
            ],
            [
             0.8888888888888888,
             "#fdca26"
            ],
            [
             1,
             "#f0f921"
            ]
           ]
          },
          "colorway": [
           "#636efa",
           "#EF553B",
           "#00cc96",
           "#ab63fa",
           "#FFA15A",
           "#19d3f3",
           "#FF6692",
           "#B6E880",
           "#FF97FF",
           "#FECB52"
          ],
          "font": {
           "color": "#2a3f5f"
          },
          "geo": {
           "bgcolor": "white",
           "lakecolor": "white",
           "landcolor": "#E5ECF6",
           "showlakes": true,
           "showland": true,
           "subunitcolor": "white"
          },
          "hoverlabel": {
           "align": "left"
          },
          "hovermode": "closest",
          "mapbox": {
           "style": "light"
          },
          "paper_bgcolor": "white",
          "plot_bgcolor": "#E5ECF6",
          "polar": {
           "angularaxis": {
            "gridcolor": "white",
            "linecolor": "white",
            "ticks": ""
           },
           "bgcolor": "#E5ECF6",
           "radialaxis": {
            "gridcolor": "white",
            "linecolor": "white",
            "ticks": ""
           }
          },
          "scene": {
           "xaxis": {
            "backgroundcolor": "#E5ECF6",
            "gridcolor": "white",
            "gridwidth": 2,
            "linecolor": "white",
            "showbackground": true,
            "ticks": "",
            "zerolinecolor": "white"
           },
           "yaxis": {
            "backgroundcolor": "#E5ECF6",
            "gridcolor": "white",
            "gridwidth": 2,
            "linecolor": "white",
            "showbackground": true,
            "ticks": "",
            "zerolinecolor": "white"
           },
           "zaxis": {
            "backgroundcolor": "#E5ECF6",
            "gridcolor": "white",
            "gridwidth": 2,
            "linecolor": "white",
            "showbackground": true,
            "ticks": "",
            "zerolinecolor": "white"
           }
          },
          "shapedefaults": {
           "line": {
            "color": "#2a3f5f"
           }
          },
          "ternary": {
           "aaxis": {
            "gridcolor": "white",
            "linecolor": "white",
            "ticks": ""
           },
           "baxis": {
            "gridcolor": "white",
            "linecolor": "white",
            "ticks": ""
           },
           "bgcolor": "#E5ECF6",
           "caxis": {
            "gridcolor": "white",
            "linecolor": "white",
            "ticks": ""
           }
          },
          "title": {
           "x": 0.05
          },
          "xaxis": {
           "automargin": true,
           "gridcolor": "white",
           "linecolor": "white",
           "ticks": "",
           "title": {
            "standoff": 15
           },
           "zerolinecolor": "white",
           "zerolinewidth": 2
          },
          "yaxis": {
           "automargin": true,
           "gridcolor": "white",
           "linecolor": "white",
           "ticks": "",
           "title": {
            "standoff": 15
           },
           "zerolinecolor": "white",
           "zerolinewidth": 2
          }
         }
        },
        "width": 800,
        "xaxis": {
         "anchor": "y",
         "domain": [
          0,
          1
         ],
         "title": {
          "text": "Visit Type"
         }
        },
        "yaxis": {
         "anchor": "x",
         "domain": [
          0,
          1
         ],
         "title": {
          "text": "Encounters (N)"
         }
        }
       }
      },
      "text/html": [
       "<div>                            <div id=\"16ddcd2c-c9aa-4fb6-a524-37510d27c719\" class=\"plotly-graph-div\" style=\"height:500px; width:800px;\"></div>            <script type=\"text/javascript\">                require([\"plotly\"], function(Plotly) {                    window.PLOTLYENV=window.PLOTLYENV || {};                                    if (document.getElementById(\"16ddcd2c-c9aa-4fb6-a524-37510d27c719\")) {                    Plotly.newPlot(                        \"16ddcd2c-c9aa-4fb6-a524-37510d27c719\",                        [{\"alignmentgroup\":\"True\",\"bingroup\":\"x\",\"histfunc\":\"sum\",\"hovertemplate\":\"source=OpenEpic Only<br>Visit Type=%{x}<br>sum of counts=%{y}<extra></extra>\",\"legendgroup\":\"OpenEpic Only\",\"marker\":{\"color\":\"#636efa\",\"pattern\":{\"shape\":\"\"}},\"name\":\"OpenEpic Only\",\"offsetgroup\":\"OpenEpic Only\",\"orientation\":\"v\",\"showlegend\":true,\"texttemplate\":\"%{value}\",\"x\":[\"Inpatient\",\"Outpatient\",\"Telehealth\"],\"xaxis\":\"x\",\"y\":[85,2399,1040],\"yaxis\":\"y\",\"type\":\"histogram\"},{\"alignmentgroup\":\"True\",\"bingroup\":\"x\",\"histfunc\":\"sum\",\"hovertemplate\":\"source=PCORnet Only<br>Visit Type=%{x}<br>sum of counts=%{y}<extra></extra>\",\"legendgroup\":\"PCORnet Only\",\"marker\":{\"color\":\"#EF553B\",\"pattern\":{\"shape\":\"\"}},\"name\":\"PCORnet Only\",\"offsetgroup\":\"PCORnet Only\",\"orientation\":\"v\",\"showlegend\":true,\"texttemplate\":\"%{value}\",\"x\":[\"Inpatient\",\"Outpatient\",\"Telehealth\"],\"xaxis\":\"x\",\"y\":[13,2757,507],\"yaxis\":\"y\",\"type\":\"histogram\"},{\"alignmentgroup\":\"True\",\"bingroup\":\"x\",\"histfunc\":\"sum\",\"hovertemplate\":\"source=OpenEpic & PCORnet<br>Visit Type=%{x}<br>sum of counts=%{y}<extra></extra>\",\"legendgroup\":\"OpenEpic & PCORnet\",\"marker\":{\"color\":\"#00cc96\",\"pattern\":{\"shape\":\"\"}},\"name\":\"OpenEpic & PCORnet\",\"offsetgroup\":\"OpenEpic & PCORnet\",\"orientation\":\"v\",\"showlegend\":true,\"texttemplate\":\"%{value}\",\"x\":[\"Inpatient\",\"Outpatient\",\"Telehealth\"],\"xaxis\":\"x\",\"y\":[30,5096,705],\"yaxis\":\"y\",\"type\":\"histogram\"}],                        {\"template\":{\"data\":{\"histogram2dcontour\":[{\"type\":\"histogram2dcontour\",\"colorbar\":{\"outlinewidth\":0,\"ticks\":\"\"},\"colorscale\":[[0.0,\"#0d0887\"],[0.1111111111111111,\"#46039f\"],[0.2222222222222222,\"#7201a8\"],[0.3333333333333333,\"#9c179e\"],[0.4444444444444444,\"#bd3786\"],[0.5555555555555556,\"#d8576b\"],[0.6666666666666666,\"#ed7953\"],[0.7777777777777778,\"#fb9f3a\"],[0.8888888888888888,\"#fdca26\"],[1.0,\"#f0f921\"]]}],\"choropleth\":[{\"type\":\"choropleth\",\"colorbar\":{\"outlinewidth\":0,\"ticks\":\"\"}}],\"histogram2d\":[{\"type\":\"histogram2d\",\"colorbar\":{\"outlinewidth\":0,\"ticks\":\"\"},\"colorscale\":[[0.0,\"#0d0887\"],[0.1111111111111111,\"#46039f\"],[0.2222222222222222,\"#7201a8\"],[0.3333333333333333,\"#9c179e\"],[0.4444444444444444,\"#bd3786\"],[0.5555555555555556,\"#d8576b\"],[0.6666666666666666,\"#ed7953\"],[0.7777777777777778,\"#fb9f3a\"],[0.8888888888888888,\"#fdca26\"],[1.0,\"#f0f921\"]]}],\"heatmap\":[{\"type\":\"heatmap\",\"colorbar\":{\"outlinewidth\":0,\"ticks\":\"\"},\"colorscale\":[[0.0,\"#0d0887\"],[0.1111111111111111,\"#46039f\"],[0.2222222222222222,\"#7201a8\"],[0.3333333333333333,\"#9c179e\"],[0.4444444444444444,\"#bd3786\"],[0.5555555555555556,\"#d8576b\"],[0.6666666666666666,\"#ed7953\"],[0.7777777777777778,\"#fb9f3a\"],[0.8888888888888888,\"#fdca26\"],[1.0,\"#f0f921\"]]}],\"heatmapgl\":[{\"type\":\"heatmapgl\",\"colorbar\":{\"outlinewidth\":0,\"ticks\":\"\"},\"colorscale\":[[0.0,\"#0d0887\"],[0.1111111111111111,\"#46039f\"],[0.2222222222222222,\"#7201a8\"],[0.3333333333333333,\"#9c179e\"],[0.4444444444444444,\"#bd3786\"],[0.5555555555555556,\"#d8576b\"],[0.6666666666666666,\"#ed7953\"],[0.7777777777777778,\"#fb9f3a\"],[0.8888888888888888,\"#fdca26\"],[1.0,\"#f0f921\"]]}],\"contourcarpet\":[{\"type\":\"contourcarpet\",\"colorbar\":{\"outlinewidth\":0,\"ticks\":\"\"}}],\"contour\":[{\"type\":\"contour\",\"colorbar\":{\"outlinewidth\":0,\"ticks\":\"\"},\"colorscale\":[[0.0,\"#0d0887\"],[0.1111111111111111,\"#46039f\"],[0.2222222222222222,\"#7201a8\"],[0.3333333333333333,\"#9c179e\"],[0.4444444444444444,\"#bd3786\"],[0.5555555555555556,\"#d8576b\"],[0.6666666666666666,\"#ed7953\"],[0.7777777777777778,\"#fb9f3a\"],[0.8888888888888888,\"#fdca26\"],[1.0,\"#f0f921\"]]}],\"surface\":[{\"type\":\"surface\",\"colorbar\":{\"outlinewidth\":0,\"ticks\":\"\"},\"colorscale\":[[0.0,\"#0d0887\"],[0.1111111111111111,\"#46039f\"],[0.2222222222222222,\"#7201a8\"],[0.3333333333333333,\"#9c179e\"],[0.4444444444444444,\"#bd3786\"],[0.5555555555555556,\"#d8576b\"],[0.6666666666666666,\"#ed7953\"],[0.7777777777777778,\"#fb9f3a\"],[0.8888888888888888,\"#fdca26\"],[1.0,\"#f0f921\"]]}],\"mesh3d\":[{\"type\":\"mesh3d\",\"colorbar\":{\"outlinewidth\":0,\"ticks\":\"\"}}],\"scatter\":[{\"fillpattern\":{\"fillmode\":\"overlay\",\"size\":10,\"solidity\":0.2},\"type\":\"scatter\"}],\"parcoords\":[{\"type\":\"parcoords\",\"line\":{\"colorbar\":{\"outlinewidth\":0,\"ticks\":\"\"}}}],\"scatterpolargl\":[{\"type\":\"scatterpolargl\",\"marker\":{\"colorbar\":{\"outlinewidth\":0,\"ticks\":\"\"}}}],\"bar\":[{\"error_x\":{\"color\":\"#2a3f5f\"},\"error_y\":{\"color\":\"#2a3f5f\"},\"marker\":{\"line\":{\"color\":\"#E5ECF6\",\"width\":0.5},\"pattern\":{\"fillmode\":\"overlay\",\"size\":10,\"solidity\":0.2}},\"type\":\"bar\"}],\"scattergeo\":[{\"type\":\"scattergeo\",\"marker\":{\"colorbar\":{\"outlinewidth\":0,\"ticks\":\"\"}}}],\"scatterpolar\":[{\"type\":\"scatterpolar\",\"marker\":{\"colorbar\":{\"outlinewidth\":0,\"ticks\":\"\"}}}],\"histogram\":[{\"marker\":{\"pattern\":{\"fillmode\":\"overlay\",\"size\":10,\"solidity\":0.2}},\"type\":\"histogram\"}],\"scattergl\":[{\"type\":\"scattergl\",\"marker\":{\"colorbar\":{\"outlinewidth\":0,\"ticks\":\"\"}}}],\"scatter3d\":[{\"type\":\"scatter3d\",\"line\":{\"colorbar\":{\"outlinewidth\":0,\"ticks\":\"\"}},\"marker\":{\"colorbar\":{\"outlinewidth\":0,\"ticks\":\"\"}}}],\"scattermapbox\":[{\"type\":\"scattermapbox\",\"marker\":{\"colorbar\":{\"outlinewidth\":0,\"ticks\":\"\"}}}],\"scatterternary\":[{\"type\":\"scatterternary\",\"marker\":{\"colorbar\":{\"outlinewidth\":0,\"ticks\":\"\"}}}],\"scattercarpet\":[{\"type\":\"scattercarpet\",\"marker\":{\"colorbar\":{\"outlinewidth\":0,\"ticks\":\"\"}}}],\"carpet\":[{\"aaxis\":{\"endlinecolor\":\"#2a3f5f\",\"gridcolor\":\"white\",\"linecolor\":\"white\",\"minorgridcolor\":\"white\",\"startlinecolor\":\"#2a3f5f\"},\"baxis\":{\"endlinecolor\":\"#2a3f5f\",\"gridcolor\":\"white\",\"linecolor\":\"white\",\"minorgridcolor\":\"white\",\"startlinecolor\":\"#2a3f5f\"},\"type\":\"carpet\"}],\"table\":[{\"cells\":{\"fill\":{\"color\":\"#EBF0F8\"},\"line\":{\"color\":\"white\"}},\"header\":{\"fill\":{\"color\":\"#C8D4E3\"},\"line\":{\"color\":\"white\"}},\"type\":\"table\"}],\"barpolar\":[{\"marker\":{\"line\":{\"color\":\"#E5ECF6\",\"width\":0.5},\"pattern\":{\"fillmode\":\"overlay\",\"size\":10,\"solidity\":0.2}},\"type\":\"barpolar\"}],\"pie\":[{\"automargin\":true,\"type\":\"pie\"}]},\"layout\":{\"autotypenumbers\":\"strict\",\"colorway\":[\"#636efa\",\"#EF553B\",\"#00cc96\",\"#ab63fa\",\"#FFA15A\",\"#19d3f3\",\"#FF6692\",\"#B6E880\",\"#FF97FF\",\"#FECB52\"],\"font\":{\"color\":\"#2a3f5f\"},\"hovermode\":\"closest\",\"hoverlabel\":{\"align\":\"left\"},\"paper_bgcolor\":\"white\",\"plot_bgcolor\":\"#E5ECF6\",\"polar\":{\"bgcolor\":\"#E5ECF6\",\"angularaxis\":{\"gridcolor\":\"white\",\"linecolor\":\"white\",\"ticks\":\"\"},\"radialaxis\":{\"gridcolor\":\"white\",\"linecolor\":\"white\",\"ticks\":\"\"}},\"ternary\":{\"bgcolor\":\"#E5ECF6\",\"aaxis\":{\"gridcolor\":\"white\",\"linecolor\":\"white\",\"ticks\":\"\"},\"baxis\":{\"gridcolor\":\"white\",\"linecolor\":\"white\",\"ticks\":\"\"},\"caxis\":{\"gridcolor\":\"white\",\"linecolor\":\"white\",\"ticks\":\"\"}},\"coloraxis\":{\"colorbar\":{\"outlinewidth\":0,\"ticks\":\"\"}},\"colorscale\":{\"sequential\":[[0.0,\"#0d0887\"],[0.1111111111111111,\"#46039f\"],[0.2222222222222222,\"#7201a8\"],[0.3333333333333333,\"#9c179e\"],[0.4444444444444444,\"#bd3786\"],[0.5555555555555556,\"#d8576b\"],[0.6666666666666666,\"#ed7953\"],[0.7777777777777778,\"#fb9f3a\"],[0.8888888888888888,\"#fdca26\"],[1.0,\"#f0f921\"]],\"sequentialminus\":[[0.0,\"#0d0887\"],[0.1111111111111111,\"#46039f\"],[0.2222222222222222,\"#7201a8\"],[0.3333333333333333,\"#9c179e\"],[0.4444444444444444,\"#bd3786\"],[0.5555555555555556,\"#d8576b\"],[0.6666666666666666,\"#ed7953\"],[0.7777777777777778,\"#fb9f3a\"],[0.8888888888888888,\"#fdca26\"],[1.0,\"#f0f921\"]],\"diverging\":[[0,\"#8e0152\"],[0.1,\"#c51b7d\"],[0.2,\"#de77ae\"],[0.3,\"#f1b6da\"],[0.4,\"#fde0ef\"],[0.5,\"#f7f7f7\"],[0.6,\"#e6f5d0\"],[0.7,\"#b8e186\"],[0.8,\"#7fbc41\"],[0.9,\"#4d9221\"],[1,\"#276419\"]]},\"xaxis\":{\"gridcolor\":\"white\",\"linecolor\":\"white\",\"ticks\":\"\",\"title\":{\"standoff\":15},\"zerolinecolor\":\"white\",\"automargin\":true,\"zerolinewidth\":2},\"yaxis\":{\"gridcolor\":\"white\",\"linecolor\":\"white\",\"ticks\":\"\",\"title\":{\"standoff\":15},\"zerolinecolor\":\"white\",\"automargin\":true,\"zerolinewidth\":2},\"scene\":{\"xaxis\":{\"backgroundcolor\":\"#E5ECF6\",\"gridcolor\":\"white\",\"linecolor\":\"white\",\"showbackground\":true,\"ticks\":\"\",\"zerolinecolor\":\"white\",\"gridwidth\":2},\"yaxis\":{\"backgroundcolor\":\"#E5ECF6\",\"gridcolor\":\"white\",\"linecolor\":\"white\",\"showbackground\":true,\"ticks\":\"\",\"zerolinecolor\":\"white\",\"gridwidth\":2},\"zaxis\":{\"backgroundcolor\":\"#E5ECF6\",\"gridcolor\":\"white\",\"linecolor\":\"white\",\"showbackground\":true,\"ticks\":\"\",\"zerolinecolor\":\"white\",\"gridwidth\":2}},\"shapedefaults\":{\"line\":{\"color\":\"#2a3f5f\"}},\"annotationdefaults\":{\"arrowcolor\":\"#2a3f5f\",\"arrowhead\":0,\"arrowwidth\":1},\"geo\":{\"bgcolor\":\"white\",\"landcolor\":\"#E5ECF6\",\"subunitcolor\":\"white\",\"showland\":true,\"showlakes\":true,\"lakecolor\":\"white\"},\"title\":{\"x\":0.05},\"mapbox\":{\"style\":\"light\"}}},\"xaxis\":{\"anchor\":\"y\",\"domain\":[0.0,1.0],\"title\":{\"text\":\"Visit Type\"}},\"yaxis\":{\"anchor\":\"x\",\"domain\":[0.0,1.0],\"title\":{\"text\":\"Encounters (N)\"}},\"legend\":{\"title\":{\"text\":\"source\"},\"tracegroupgap\":0},\"margin\":{\"t\":60},\"barmode\":\"group\",\"height\":500,\"width\":800},                        {\"responsive\": true}                    ).then(function(){\n",
       "                            \n",
       "var gd = document.getElementById('16ddcd2c-c9aa-4fb6-a524-37510d27c719');\n",
       "var x = new MutationObserver(function (mutations, observer) {{\n",
       "        var display = window.getComputedStyle(gd).display;\n",
       "        if (!display || display === 'none') {{\n",
       "            console.log([gd, 'removed!']);\n",
       "            Plotly.purge(gd);\n",
       "            observer.disconnect();\n",
       "        }}\n",
       "}});\n",
       "\n",
       "// Listen for the removal of the full notebook cells\n",
       "var notebookContainer = gd.closest('#notebook-container');\n",
       "if (notebookContainer) {{\n",
       "    x.observe(notebookContainer, {childList: true});\n",
       "}}\n",
       "\n",
       "// Listen for the clearing of the current output cell\n",
       "var outputEl = gd.closest('.output');\n",
       "if (outputEl) {{\n",
       "    x.observe(outputEl, {childList: true});\n",
       "}}\n",
       "\n",
       "                        })                };                });            </script>        </div>"
      ]
     },
     "metadata": {},
     "output_type": "display_data"
    }
   ],
   "source": [
    "import plotly.express as px\n",
    "fig = px.histogram(counts, x=\"type\", y=\"counts\",\n",
    "             color='source', barmode='group', text_auto=True,\n",
    "            width=800, height=500,\n",
    "            labels={\n",
    "                     \"type\": \"Visit Type\",\n",
    "                     \"species\": \"Species of Iris\",\n",
    "                     \"FHIR\": \"OpenEpic\",\n",
    "                     \"Match\": \"vs. Chart Review\"\n",
    "                 },)\n",
    "fig.update_layout(\n",
    "    yaxis_title=\"Encounters (N)\"\n",
    ")\n",
    "\n",
    "fig.show()"
   ]
  },
  {
   "cell_type": "markdown",
   "id": "3cfda853",
   "metadata": {},
   "source": [
    "# General Review Agreement Analysis"
   ]
  },
  {
   "cell_type": "code",
   "execution_count": 150,
   "id": "df2ec920",
   "metadata": {},
   "outputs": [
    {
     "name": "stdout",
     "output_type": "stream",
     "text": [
      "kappa for Inpatient is -0.21385717050512865\n",
      "30\n",
      "kappa for Outpatient is -0.3337793789170187\n",
      "5096\n",
      "kappa for Telehealth is -0.43410321724425804\n",
      "705\n"
     ]
    }
   ],
   "source": [
    "types = ['Inpatient', 'Outpatient', 'Telehealth']\n",
    "m2['fhir_bin'] = ~m2['type_fhir'].isna()\n",
    "m2['pc_bin'] = ~m2['type_pc'].isna()\n",
    "for t in types:\n",
    "    subset = m2[m2['type'] == t]\n",
    "    k = cohen_kappa_score(subset['fhir_bin'], subset['pc_bin'])\n",
    "    print('kappa for', t, 'is', k)\n",
    "    print(subset[(subset['fhir_bin'] == 1) & (subset['pc_bin'] == 1)]['index'].count())"
   ]
  },
  {
   "cell_type": "markdown",
   "id": "90c17fe5",
   "metadata": {},
   "source": [
    "# Chart Review"
   ]
  },
  {
   "cell_type": "code",
   "execution_count": 77,
   "id": "47e9945f",
   "metadata": {},
   "outputs": [
    {
     "name": "stdout",
     "output_type": "stream",
     "text": [
      "Records before filtering for chart review users. FHIR: 8992 PC: 9447\n",
      "Records after filtering for chart review users. FHIR: 76 PC: 237\n"
     ]
    }
   ],
   "source": [
    "print(f'Records before filtering for chart review users. FHIR:', len(fhir_enc_sd), 'PC:', len(pc_enc_sd))\n",
    "fhir_enc_cr = fhir_enc_sd[fhir_enc_sd['provider'] == 'openepic_shared_ucsf_health']\n",
    "fhir_enc_cr = fhir_enc_cr[fhir_enc_cr['user_id'].isin(cr_demo['user_id'])]\n",
    "pc_enc_cr = pc_enc_sd[pc_enc_sd['site'] == 'openepic_shared_ucsf_health']\n",
    "pc_enc_cr = pc_enc_cr[pc_enc_cr['user_id'].isin(cr_demo['user_id'])]\n",
    "print(f'Records after filtering for chart review users. FHIR:', len(fhir_enc_cr), 'PC:', len(pc_enc_cr))\n"
   ]
  },
  {
   "cell_type": "code",
   "execution_count": 78,
   "id": "328b4650",
   "metadata": {},
   "outputs": [
    {
     "data": {
      "application/vnd.plotly.v1+json": {
       "config": {
        "plotlyServerURL": "https://plot.ly"
       },
       "data": [
        {
         "alignmentgroup": "True",
         "hovertemplate": "Encounter Identified By=%{x}<br>Counts=%{text}<extra></extra>",
         "legendgroup": "",
         "marker": {
          "color": "#636efa",
          "pattern": {
           "shape": ""
          }
         },
         "name": "",
         "offsetgroup": "",
         "orientation": "v",
         "showlegend": false,
         "text": [
          156,
          81,
          1
         ],
         "textposition": "auto",
         "type": "bar",
         "x": [
          "PCORNet Only",
          "Both",
          "Chart Review Only"
         ],
         "xaxis": "x",
         "y": [
          156,
          81,
          1
         ],
         "yaxis": "y"
        }
       ],
       "layout": {
        "barmode": "relative",
        "height": 600,
        "legend": {
         "tracegroupgap": 0
        },
        "template": {
         "data": {
          "bar": [
           {
            "error_x": {
             "color": "#2a3f5f"
            },
            "error_y": {
             "color": "#2a3f5f"
            },
            "marker": {
             "line": {
              "color": "#E5ECF6",
              "width": 0.5
             },
             "pattern": {
              "fillmode": "overlay",
              "size": 10,
              "solidity": 0.2
             }
            },
            "type": "bar"
           }
          ],
          "barpolar": [
           {
            "marker": {
             "line": {
              "color": "#E5ECF6",
              "width": 0.5
             },
             "pattern": {
              "fillmode": "overlay",
              "size": 10,
              "solidity": 0.2
             }
            },
            "type": "barpolar"
           }
          ],
          "carpet": [
           {
            "aaxis": {
             "endlinecolor": "#2a3f5f",
             "gridcolor": "white",
             "linecolor": "white",
             "minorgridcolor": "white",
             "startlinecolor": "#2a3f5f"
            },
            "baxis": {
             "endlinecolor": "#2a3f5f",
             "gridcolor": "white",
             "linecolor": "white",
             "minorgridcolor": "white",
             "startlinecolor": "#2a3f5f"
            },
            "type": "carpet"
           }
          ],
          "choropleth": [
           {
            "colorbar": {
             "outlinewidth": 0,
             "ticks": ""
            },
            "type": "choropleth"
           }
          ],
          "contour": [
           {
            "colorbar": {
             "outlinewidth": 0,
             "ticks": ""
            },
            "colorscale": [
             [
              0,
              "#0d0887"
             ],
             [
              0.1111111111111111,
              "#46039f"
             ],
             [
              0.2222222222222222,
              "#7201a8"
             ],
             [
              0.3333333333333333,
              "#9c179e"
             ],
             [
              0.4444444444444444,
              "#bd3786"
             ],
             [
              0.5555555555555556,
              "#d8576b"
             ],
             [
              0.6666666666666666,
              "#ed7953"
             ],
             [
              0.7777777777777778,
              "#fb9f3a"
             ],
             [
              0.8888888888888888,
              "#fdca26"
             ],
             [
              1,
              "#f0f921"
             ]
            ],
            "type": "contour"
           }
          ],
          "contourcarpet": [
           {
            "colorbar": {
             "outlinewidth": 0,
             "ticks": ""
            },
            "type": "contourcarpet"
           }
          ],
          "heatmap": [
           {
            "colorbar": {
             "outlinewidth": 0,
             "ticks": ""
            },
            "colorscale": [
             [
              0,
              "#0d0887"
             ],
             [
              0.1111111111111111,
              "#46039f"
             ],
             [
              0.2222222222222222,
              "#7201a8"
             ],
             [
              0.3333333333333333,
              "#9c179e"
             ],
             [
              0.4444444444444444,
              "#bd3786"
             ],
             [
              0.5555555555555556,
              "#d8576b"
             ],
             [
              0.6666666666666666,
              "#ed7953"
             ],
             [
              0.7777777777777778,
              "#fb9f3a"
             ],
             [
              0.8888888888888888,
              "#fdca26"
             ],
             [
              1,
              "#f0f921"
             ]
            ],
            "type": "heatmap"
           }
          ],
          "heatmapgl": [
           {
            "colorbar": {
             "outlinewidth": 0,
             "ticks": ""
            },
            "colorscale": [
             [
              0,
              "#0d0887"
             ],
             [
              0.1111111111111111,
              "#46039f"
             ],
             [
              0.2222222222222222,
              "#7201a8"
             ],
             [
              0.3333333333333333,
              "#9c179e"
             ],
             [
              0.4444444444444444,
              "#bd3786"
             ],
             [
              0.5555555555555556,
              "#d8576b"
             ],
             [
              0.6666666666666666,
              "#ed7953"
             ],
             [
              0.7777777777777778,
              "#fb9f3a"
             ],
             [
              0.8888888888888888,
              "#fdca26"
             ],
             [
              1,
              "#f0f921"
             ]
            ],
            "type": "heatmapgl"
           }
          ],
          "histogram": [
           {
            "marker": {
             "pattern": {
              "fillmode": "overlay",
              "size": 10,
              "solidity": 0.2
             }
            },
            "type": "histogram"
           }
          ],
          "histogram2d": [
           {
            "colorbar": {
             "outlinewidth": 0,
             "ticks": ""
            },
            "colorscale": [
             [
              0,
              "#0d0887"
             ],
             [
              0.1111111111111111,
              "#46039f"
             ],
             [
              0.2222222222222222,
              "#7201a8"
             ],
             [
              0.3333333333333333,
              "#9c179e"
             ],
             [
              0.4444444444444444,
              "#bd3786"
             ],
             [
              0.5555555555555556,
              "#d8576b"
             ],
             [
              0.6666666666666666,
              "#ed7953"
             ],
             [
              0.7777777777777778,
              "#fb9f3a"
             ],
             [
              0.8888888888888888,
              "#fdca26"
             ],
             [
              1,
              "#f0f921"
             ]
            ],
            "type": "histogram2d"
           }
          ],
          "histogram2dcontour": [
           {
            "colorbar": {
             "outlinewidth": 0,
             "ticks": ""
            },
            "colorscale": [
             [
              0,
              "#0d0887"
             ],
             [
              0.1111111111111111,
              "#46039f"
             ],
             [
              0.2222222222222222,
              "#7201a8"
             ],
             [
              0.3333333333333333,
              "#9c179e"
             ],
             [
              0.4444444444444444,
              "#bd3786"
             ],
             [
              0.5555555555555556,
              "#d8576b"
             ],
             [
              0.6666666666666666,
              "#ed7953"
             ],
             [
              0.7777777777777778,
              "#fb9f3a"
             ],
             [
              0.8888888888888888,
              "#fdca26"
             ],
             [
              1,
              "#f0f921"
             ]
            ],
            "type": "histogram2dcontour"
           }
          ],
          "mesh3d": [
           {
            "colorbar": {
             "outlinewidth": 0,
             "ticks": ""
            },
            "type": "mesh3d"
           }
          ],
          "parcoords": [
           {
            "line": {
             "colorbar": {
              "outlinewidth": 0,
              "ticks": ""
             }
            },
            "type": "parcoords"
           }
          ],
          "pie": [
           {
            "automargin": true,
            "type": "pie"
           }
          ],
          "scatter": [
           {
            "fillpattern": {
             "fillmode": "overlay",
             "size": 10,
             "solidity": 0.2
            },
            "type": "scatter"
           }
          ],
          "scatter3d": [
           {
            "line": {
             "colorbar": {
              "outlinewidth": 0,
              "ticks": ""
             }
            },
            "marker": {
             "colorbar": {
              "outlinewidth": 0,
              "ticks": ""
             }
            },
            "type": "scatter3d"
           }
          ],
          "scattercarpet": [
           {
            "marker": {
             "colorbar": {
              "outlinewidth": 0,
              "ticks": ""
             }
            },
            "type": "scattercarpet"
           }
          ],
          "scattergeo": [
           {
            "marker": {
             "colorbar": {
              "outlinewidth": 0,
              "ticks": ""
             }
            },
            "type": "scattergeo"
           }
          ],
          "scattergl": [
           {
            "marker": {
             "colorbar": {
              "outlinewidth": 0,
              "ticks": ""
             }
            },
            "type": "scattergl"
           }
          ],
          "scattermapbox": [
           {
            "marker": {
             "colorbar": {
              "outlinewidth": 0,
              "ticks": ""
             }
            },
            "type": "scattermapbox"
           }
          ],
          "scatterpolar": [
           {
            "marker": {
             "colorbar": {
              "outlinewidth": 0,
              "ticks": ""
             }
            },
            "type": "scatterpolar"
           }
          ],
          "scatterpolargl": [
           {
            "marker": {
             "colorbar": {
              "outlinewidth": 0,
              "ticks": ""
             }
            },
            "type": "scatterpolargl"
           }
          ],
          "scatterternary": [
           {
            "marker": {
             "colorbar": {
              "outlinewidth": 0,
              "ticks": ""
             }
            },
            "type": "scatterternary"
           }
          ],
          "surface": [
           {
            "colorbar": {
             "outlinewidth": 0,
             "ticks": ""
            },
            "colorscale": [
             [
              0,
              "#0d0887"
             ],
             [
              0.1111111111111111,
              "#46039f"
             ],
             [
              0.2222222222222222,
              "#7201a8"
             ],
             [
              0.3333333333333333,
              "#9c179e"
             ],
             [
              0.4444444444444444,
              "#bd3786"
             ],
             [
              0.5555555555555556,
              "#d8576b"
             ],
             [
              0.6666666666666666,
              "#ed7953"
             ],
             [
              0.7777777777777778,
              "#fb9f3a"
             ],
             [
              0.8888888888888888,
              "#fdca26"
             ],
             [
              1,
              "#f0f921"
             ]
            ],
            "type": "surface"
           }
          ],
          "table": [
           {
            "cells": {
             "fill": {
              "color": "#EBF0F8"
             },
             "line": {
              "color": "white"
             }
            },
            "header": {
             "fill": {
              "color": "#C8D4E3"
             },
             "line": {
              "color": "white"
             }
            },
            "type": "table"
           }
          ]
         },
         "layout": {
          "annotationdefaults": {
           "arrowcolor": "#2a3f5f",
           "arrowhead": 0,
           "arrowwidth": 1
          },
          "autotypenumbers": "strict",
          "coloraxis": {
           "colorbar": {
            "outlinewidth": 0,
            "ticks": ""
           }
          },
          "colorscale": {
           "diverging": [
            [
             0,
             "#8e0152"
            ],
            [
             0.1,
             "#c51b7d"
            ],
            [
             0.2,
             "#de77ae"
            ],
            [
             0.3,
             "#f1b6da"
            ],
            [
             0.4,
             "#fde0ef"
            ],
            [
             0.5,
             "#f7f7f7"
            ],
            [
             0.6,
             "#e6f5d0"
            ],
            [
             0.7,
             "#b8e186"
            ],
            [
             0.8,
             "#7fbc41"
            ],
            [
             0.9,
             "#4d9221"
            ],
            [
             1,
             "#276419"
            ]
           ],
           "sequential": [
            [
             0,
             "#0d0887"
            ],
            [
             0.1111111111111111,
             "#46039f"
            ],
            [
             0.2222222222222222,
             "#7201a8"
            ],
            [
             0.3333333333333333,
             "#9c179e"
            ],
            [
             0.4444444444444444,
             "#bd3786"
            ],
            [
             0.5555555555555556,
             "#d8576b"
            ],
            [
             0.6666666666666666,
             "#ed7953"
            ],
            [
             0.7777777777777778,
             "#fb9f3a"
            ],
            [
             0.8888888888888888,
             "#fdca26"
            ],
            [
             1,
             "#f0f921"
            ]
           ],
           "sequentialminus": [
            [
             0,
             "#0d0887"
            ],
            [
             0.1111111111111111,
             "#46039f"
            ],
            [
             0.2222222222222222,
             "#7201a8"
            ],
            [
             0.3333333333333333,
             "#9c179e"
            ],
            [
             0.4444444444444444,
             "#bd3786"
            ],
            [
             0.5555555555555556,
             "#d8576b"
            ],
            [
             0.6666666666666666,
             "#ed7953"
            ],
            [
             0.7777777777777778,
             "#fb9f3a"
            ],
            [
             0.8888888888888888,
             "#fdca26"
            ],
            [
             1,
             "#f0f921"
            ]
           ]
          },
          "colorway": [
           "#636efa",
           "#EF553B",
           "#00cc96",
           "#ab63fa",
           "#FFA15A",
           "#19d3f3",
           "#FF6692",
           "#B6E880",
           "#FF97FF",
           "#FECB52"
          ],
          "font": {
           "color": "#2a3f5f"
          },
          "geo": {
           "bgcolor": "white",
           "lakecolor": "white",
           "landcolor": "#E5ECF6",
           "showlakes": true,
           "showland": true,
           "subunitcolor": "white"
          },
          "hoverlabel": {
           "align": "left"
          },
          "hovermode": "closest",
          "mapbox": {
           "style": "light"
          },
          "paper_bgcolor": "white",
          "plot_bgcolor": "#E5ECF6",
          "polar": {
           "angularaxis": {
            "gridcolor": "white",
            "linecolor": "white",
            "ticks": ""
           },
           "bgcolor": "#E5ECF6",
           "radialaxis": {
            "gridcolor": "white",
            "linecolor": "white",
            "ticks": ""
           }
          },
          "scene": {
           "xaxis": {
            "backgroundcolor": "#E5ECF6",
            "gridcolor": "white",
            "gridwidth": 2,
            "linecolor": "white",
            "showbackground": true,
            "ticks": "",
            "zerolinecolor": "white"
           },
           "yaxis": {
            "backgroundcolor": "#E5ECF6",
            "gridcolor": "white",
            "gridwidth": 2,
            "linecolor": "white",
            "showbackground": true,
            "ticks": "",
            "zerolinecolor": "white"
           },
           "zaxis": {
            "backgroundcolor": "#E5ECF6",
            "gridcolor": "white",
            "gridwidth": 2,
            "linecolor": "white",
            "showbackground": true,
            "ticks": "",
            "zerolinecolor": "white"
           }
          },
          "shapedefaults": {
           "line": {
            "color": "#2a3f5f"
           }
          },
          "ternary": {
           "aaxis": {
            "gridcolor": "white",
            "linecolor": "white",
            "ticks": ""
           },
           "baxis": {
            "gridcolor": "white",
            "linecolor": "white",
            "ticks": ""
           },
           "bgcolor": "#E5ECF6",
           "caxis": {
            "gridcolor": "white",
            "linecolor": "white",
            "ticks": ""
           }
          },
          "title": {
           "x": 0.05
          },
          "xaxis": {
           "automargin": true,
           "gridcolor": "white",
           "linecolor": "white",
           "ticks": "",
           "title": {
            "standoff": 15
           },
           "zerolinecolor": "white",
           "zerolinewidth": 2
          },
          "yaxis": {
           "automargin": true,
           "gridcolor": "white",
           "linecolor": "white",
           "ticks": "",
           "title": {
            "standoff": 15
           },
           "zerolinecolor": "white",
           "zerolinewidth": 2
          }
         }
        },
        "title": {
         "text": "Encounters identified in source"
        },
        "width": 500,
        "xaxis": {
         "anchor": "y",
         "domain": [
          0,
          1
         ],
         "title": {
          "text": "Encounter Identified By"
         }
        },
        "yaxis": {
         "anchor": "x",
         "domain": [
          0,
          1
         ],
         "title": {
          "text": "Counts"
         }
        }
       }
      },
      "text/html": [
       "<div>                            <div id=\"83c1fd2f-cffb-4e05-b03a-6a339d085a78\" class=\"plotly-graph-div\" style=\"height:600px; width:500px;\"></div>            <script type=\"text/javascript\">                require([\"plotly\"], function(Plotly) {                    window.PLOTLYENV=window.PLOTLYENV || {};                                    if (document.getElementById(\"83c1fd2f-cffb-4e05-b03a-6a339d085a78\")) {                    Plotly.newPlot(                        \"83c1fd2f-cffb-4e05-b03a-6a339d085a78\",                        [{\"alignmentgroup\":\"True\",\"hovertemplate\":\"Encounter Identified By=%{x}<br>Counts=%{text}<extra></extra>\",\"legendgroup\":\"\",\"marker\":{\"color\":\"#636efa\",\"pattern\":{\"shape\":\"\"}},\"name\":\"\",\"offsetgroup\":\"\",\"orientation\":\"v\",\"showlegend\":false,\"text\":[156.0,81.0,1.0],\"textposition\":\"auto\",\"x\":[\"PCORNet Only\",\"Both\",\"Chart Review Only\"],\"xaxis\":\"x\",\"y\":[156,81,1],\"yaxis\":\"y\",\"type\":\"bar\"}],                        {\"template\":{\"data\":{\"histogram2dcontour\":[{\"type\":\"histogram2dcontour\",\"colorbar\":{\"outlinewidth\":0,\"ticks\":\"\"},\"colorscale\":[[0.0,\"#0d0887\"],[0.1111111111111111,\"#46039f\"],[0.2222222222222222,\"#7201a8\"],[0.3333333333333333,\"#9c179e\"],[0.4444444444444444,\"#bd3786\"],[0.5555555555555556,\"#d8576b\"],[0.6666666666666666,\"#ed7953\"],[0.7777777777777778,\"#fb9f3a\"],[0.8888888888888888,\"#fdca26\"],[1.0,\"#f0f921\"]]}],\"choropleth\":[{\"type\":\"choropleth\",\"colorbar\":{\"outlinewidth\":0,\"ticks\":\"\"}}],\"histogram2d\":[{\"type\":\"histogram2d\",\"colorbar\":{\"outlinewidth\":0,\"ticks\":\"\"},\"colorscale\":[[0.0,\"#0d0887\"],[0.1111111111111111,\"#46039f\"],[0.2222222222222222,\"#7201a8\"],[0.3333333333333333,\"#9c179e\"],[0.4444444444444444,\"#bd3786\"],[0.5555555555555556,\"#d8576b\"],[0.6666666666666666,\"#ed7953\"],[0.7777777777777778,\"#fb9f3a\"],[0.8888888888888888,\"#fdca26\"],[1.0,\"#f0f921\"]]}],\"heatmap\":[{\"type\":\"heatmap\",\"colorbar\":{\"outlinewidth\":0,\"ticks\":\"\"},\"colorscale\":[[0.0,\"#0d0887\"],[0.1111111111111111,\"#46039f\"],[0.2222222222222222,\"#7201a8\"],[0.3333333333333333,\"#9c179e\"],[0.4444444444444444,\"#bd3786\"],[0.5555555555555556,\"#d8576b\"],[0.6666666666666666,\"#ed7953\"],[0.7777777777777778,\"#fb9f3a\"],[0.8888888888888888,\"#fdca26\"],[1.0,\"#f0f921\"]]}],\"heatmapgl\":[{\"type\":\"heatmapgl\",\"colorbar\":{\"outlinewidth\":0,\"ticks\":\"\"},\"colorscale\":[[0.0,\"#0d0887\"],[0.1111111111111111,\"#46039f\"],[0.2222222222222222,\"#7201a8\"],[0.3333333333333333,\"#9c179e\"],[0.4444444444444444,\"#bd3786\"],[0.5555555555555556,\"#d8576b\"],[0.6666666666666666,\"#ed7953\"],[0.7777777777777778,\"#fb9f3a\"],[0.8888888888888888,\"#fdca26\"],[1.0,\"#f0f921\"]]}],\"contourcarpet\":[{\"type\":\"contourcarpet\",\"colorbar\":{\"outlinewidth\":0,\"ticks\":\"\"}}],\"contour\":[{\"type\":\"contour\",\"colorbar\":{\"outlinewidth\":0,\"ticks\":\"\"},\"colorscale\":[[0.0,\"#0d0887\"],[0.1111111111111111,\"#46039f\"],[0.2222222222222222,\"#7201a8\"],[0.3333333333333333,\"#9c179e\"],[0.4444444444444444,\"#bd3786\"],[0.5555555555555556,\"#d8576b\"],[0.6666666666666666,\"#ed7953\"],[0.7777777777777778,\"#fb9f3a\"],[0.8888888888888888,\"#fdca26\"],[1.0,\"#f0f921\"]]}],\"surface\":[{\"type\":\"surface\",\"colorbar\":{\"outlinewidth\":0,\"ticks\":\"\"},\"colorscale\":[[0.0,\"#0d0887\"],[0.1111111111111111,\"#46039f\"],[0.2222222222222222,\"#7201a8\"],[0.3333333333333333,\"#9c179e\"],[0.4444444444444444,\"#bd3786\"],[0.5555555555555556,\"#d8576b\"],[0.6666666666666666,\"#ed7953\"],[0.7777777777777778,\"#fb9f3a\"],[0.8888888888888888,\"#fdca26\"],[1.0,\"#f0f921\"]]}],\"mesh3d\":[{\"type\":\"mesh3d\",\"colorbar\":{\"outlinewidth\":0,\"ticks\":\"\"}}],\"scatter\":[{\"fillpattern\":{\"fillmode\":\"overlay\",\"size\":10,\"solidity\":0.2},\"type\":\"scatter\"}],\"parcoords\":[{\"type\":\"parcoords\",\"line\":{\"colorbar\":{\"outlinewidth\":0,\"ticks\":\"\"}}}],\"scatterpolargl\":[{\"type\":\"scatterpolargl\",\"marker\":{\"colorbar\":{\"outlinewidth\":0,\"ticks\":\"\"}}}],\"bar\":[{\"error_x\":{\"color\":\"#2a3f5f\"},\"error_y\":{\"color\":\"#2a3f5f\"},\"marker\":{\"line\":{\"color\":\"#E5ECF6\",\"width\":0.5},\"pattern\":{\"fillmode\":\"overlay\",\"size\":10,\"solidity\":0.2}},\"type\":\"bar\"}],\"scattergeo\":[{\"type\":\"scattergeo\",\"marker\":{\"colorbar\":{\"outlinewidth\":0,\"ticks\":\"\"}}}],\"scatterpolar\":[{\"type\":\"scatterpolar\",\"marker\":{\"colorbar\":{\"outlinewidth\":0,\"ticks\":\"\"}}}],\"histogram\":[{\"marker\":{\"pattern\":{\"fillmode\":\"overlay\",\"size\":10,\"solidity\":0.2}},\"type\":\"histogram\"}],\"scattergl\":[{\"type\":\"scattergl\",\"marker\":{\"colorbar\":{\"outlinewidth\":0,\"ticks\":\"\"}}}],\"scatter3d\":[{\"type\":\"scatter3d\",\"line\":{\"colorbar\":{\"outlinewidth\":0,\"ticks\":\"\"}},\"marker\":{\"colorbar\":{\"outlinewidth\":0,\"ticks\":\"\"}}}],\"scattermapbox\":[{\"type\":\"scattermapbox\",\"marker\":{\"colorbar\":{\"outlinewidth\":0,\"ticks\":\"\"}}}],\"scatterternary\":[{\"type\":\"scatterternary\",\"marker\":{\"colorbar\":{\"outlinewidth\":0,\"ticks\":\"\"}}}],\"scattercarpet\":[{\"type\":\"scattercarpet\",\"marker\":{\"colorbar\":{\"outlinewidth\":0,\"ticks\":\"\"}}}],\"carpet\":[{\"aaxis\":{\"endlinecolor\":\"#2a3f5f\",\"gridcolor\":\"white\",\"linecolor\":\"white\",\"minorgridcolor\":\"white\",\"startlinecolor\":\"#2a3f5f\"},\"baxis\":{\"endlinecolor\":\"#2a3f5f\",\"gridcolor\":\"white\",\"linecolor\":\"white\",\"minorgridcolor\":\"white\",\"startlinecolor\":\"#2a3f5f\"},\"type\":\"carpet\"}],\"table\":[{\"cells\":{\"fill\":{\"color\":\"#EBF0F8\"},\"line\":{\"color\":\"white\"}},\"header\":{\"fill\":{\"color\":\"#C8D4E3\"},\"line\":{\"color\":\"white\"}},\"type\":\"table\"}],\"barpolar\":[{\"marker\":{\"line\":{\"color\":\"#E5ECF6\",\"width\":0.5},\"pattern\":{\"fillmode\":\"overlay\",\"size\":10,\"solidity\":0.2}},\"type\":\"barpolar\"}],\"pie\":[{\"automargin\":true,\"type\":\"pie\"}]},\"layout\":{\"autotypenumbers\":\"strict\",\"colorway\":[\"#636efa\",\"#EF553B\",\"#00cc96\",\"#ab63fa\",\"#FFA15A\",\"#19d3f3\",\"#FF6692\",\"#B6E880\",\"#FF97FF\",\"#FECB52\"],\"font\":{\"color\":\"#2a3f5f\"},\"hovermode\":\"closest\",\"hoverlabel\":{\"align\":\"left\"},\"paper_bgcolor\":\"white\",\"plot_bgcolor\":\"#E5ECF6\",\"polar\":{\"bgcolor\":\"#E5ECF6\",\"angularaxis\":{\"gridcolor\":\"white\",\"linecolor\":\"white\",\"ticks\":\"\"},\"radialaxis\":{\"gridcolor\":\"white\",\"linecolor\":\"white\",\"ticks\":\"\"}},\"ternary\":{\"bgcolor\":\"#E5ECF6\",\"aaxis\":{\"gridcolor\":\"white\",\"linecolor\":\"white\",\"ticks\":\"\"},\"baxis\":{\"gridcolor\":\"white\",\"linecolor\":\"white\",\"ticks\":\"\"},\"caxis\":{\"gridcolor\":\"white\",\"linecolor\":\"white\",\"ticks\":\"\"}},\"coloraxis\":{\"colorbar\":{\"outlinewidth\":0,\"ticks\":\"\"}},\"colorscale\":{\"sequential\":[[0.0,\"#0d0887\"],[0.1111111111111111,\"#46039f\"],[0.2222222222222222,\"#7201a8\"],[0.3333333333333333,\"#9c179e\"],[0.4444444444444444,\"#bd3786\"],[0.5555555555555556,\"#d8576b\"],[0.6666666666666666,\"#ed7953\"],[0.7777777777777778,\"#fb9f3a\"],[0.8888888888888888,\"#fdca26\"],[1.0,\"#f0f921\"]],\"sequentialminus\":[[0.0,\"#0d0887\"],[0.1111111111111111,\"#46039f\"],[0.2222222222222222,\"#7201a8\"],[0.3333333333333333,\"#9c179e\"],[0.4444444444444444,\"#bd3786\"],[0.5555555555555556,\"#d8576b\"],[0.6666666666666666,\"#ed7953\"],[0.7777777777777778,\"#fb9f3a\"],[0.8888888888888888,\"#fdca26\"],[1.0,\"#f0f921\"]],\"diverging\":[[0,\"#8e0152\"],[0.1,\"#c51b7d\"],[0.2,\"#de77ae\"],[0.3,\"#f1b6da\"],[0.4,\"#fde0ef\"],[0.5,\"#f7f7f7\"],[0.6,\"#e6f5d0\"],[0.7,\"#b8e186\"],[0.8,\"#7fbc41\"],[0.9,\"#4d9221\"],[1,\"#276419\"]]},\"xaxis\":{\"gridcolor\":\"white\",\"linecolor\":\"white\",\"ticks\":\"\",\"title\":{\"standoff\":15},\"zerolinecolor\":\"white\",\"automargin\":true,\"zerolinewidth\":2},\"yaxis\":{\"gridcolor\":\"white\",\"linecolor\":\"white\",\"ticks\":\"\",\"title\":{\"standoff\":15},\"zerolinecolor\":\"white\",\"automargin\":true,\"zerolinewidth\":2},\"scene\":{\"xaxis\":{\"backgroundcolor\":\"#E5ECF6\",\"gridcolor\":\"white\",\"linecolor\":\"white\",\"showbackground\":true,\"ticks\":\"\",\"zerolinecolor\":\"white\",\"gridwidth\":2},\"yaxis\":{\"backgroundcolor\":\"#E5ECF6\",\"gridcolor\":\"white\",\"linecolor\":\"white\",\"showbackground\":true,\"ticks\":\"\",\"zerolinecolor\":\"white\",\"gridwidth\":2},\"zaxis\":{\"backgroundcolor\":\"#E5ECF6\",\"gridcolor\":\"white\",\"linecolor\":\"white\",\"showbackground\":true,\"ticks\":\"\",\"zerolinecolor\":\"white\",\"gridwidth\":2}},\"shapedefaults\":{\"line\":{\"color\":\"#2a3f5f\"}},\"annotationdefaults\":{\"arrowcolor\":\"#2a3f5f\",\"arrowhead\":0,\"arrowwidth\":1},\"geo\":{\"bgcolor\":\"white\",\"landcolor\":\"#E5ECF6\",\"subunitcolor\":\"white\",\"showland\":true,\"showlakes\":true,\"lakecolor\":\"white\"},\"title\":{\"x\":0.05},\"mapbox\":{\"style\":\"light\"}}},\"xaxis\":{\"anchor\":\"y\",\"domain\":[0.0,1.0],\"title\":{\"text\":\"Encounter Identified By\"}},\"yaxis\":{\"anchor\":\"x\",\"domain\":[0.0,1.0],\"title\":{\"text\":\"Counts\"}},\"legend\":{\"tracegroupgap\":0},\"title\":{\"text\":\"Encounters identified in source\"},\"barmode\":\"relative\",\"height\":600,\"width\":500},                        {\"responsive\": true}                    ).then(function(){\n",
       "                            \n",
       "var gd = document.getElementById('83c1fd2f-cffb-4e05-b03a-6a339d085a78');\n",
       "var x = new MutationObserver(function (mutations, observer) {{\n",
       "        var display = window.getComputedStyle(gd).display;\n",
       "        if (!display || display === 'none') {{\n",
       "            console.log([gd, 'removed!']);\n",
       "            Plotly.purge(gd);\n",
       "            observer.disconnect();\n",
       "        }}\n",
       "}});\n",
       "\n",
       "// Listen for the removal of the full notebook cells\n",
       "var notebookContainer = gd.closest('#notebook-container');\n",
       "if (notebookContainer) {{\n",
       "    x.observe(notebookContainer, {childList: true});\n",
       "}}\n",
       "\n",
       "// Listen for the clearing of the current output cell\n",
       "var outputEl = gd.closest('.output');\n",
       "if (outputEl) {{\n",
       "    x.observe(outputEl, {childList: true});\n",
       "}}\n",
       "\n",
       "                        })                };                });            </script>        </div>"
      ]
     },
     "metadata": {},
     "output_type": "display_data"
    }
   ],
   "source": [
    "p = pc_enc_cr.drop_duplicates(subset=['user_id', 'admit_date_d'])\n",
    "c = cr_enc.drop_duplicates(subset=['user_id', 'admit_date_d'])\n",
    "m = p.merge(c, on=['user_id', 'admit_date_d'], how='outer', indicator=True)\n",
    "counts = m['_merge'].value_counts(dropna=False).reset_index(name=\"Counts\")\n",
    "counts = counts.rename(columns={'index': 'Encounter Identified By'})\n",
    "counts['Encounter Identified By'] = counts['Encounter Identified By'].replace({'left_only': 'PCORNet Only', 'both': 'Both', 'right_only': 'Chart Review Only'})\n",
    "fig = px.bar(counts, x=\"Encounter Identified By\", y='Counts', text='Counts', title=\"Encounters identified in source\")\n",
    "fig.update_layout(height=600, width=500)\n",
    "fig.show()\n"
   ]
  },
  {
   "cell_type": "code",
   "execution_count": 79,
   "id": "251526fd",
   "metadata": {},
   "outputs": [
    {
     "data": {
      "application/vnd.plotly.v1+json": {
       "config": {
        "plotlyServerURL": "https://plot.ly"
       },
       "data": [
        {
         "alignmentgroup": "True",
         "hovertemplate": "Encounter Identified By=%{x}<br>Counts=%{text}<extra></extra>",
         "legendgroup": "",
         "marker": {
          "color": "#636efa",
          "pattern": {
           "shape": ""
          }
         },
         "name": "",
         "offsetgroup": "",
         "orientation": "v",
         "showlegend": false,
         "text": [
          55,
          27,
          11
         ],
         "textposition": "auto",
         "type": "bar",
         "x": [
          "Both",
          "Chart Review Only",
          "FHIR Only"
         ],
         "xaxis": "x",
         "y": [
          55,
          27,
          11
         ],
         "yaxis": "y"
        }
       ],
       "layout": {
        "barmode": "relative",
        "height": 600,
        "legend": {
         "tracegroupgap": 0
        },
        "template": {
         "data": {
          "bar": [
           {
            "error_x": {
             "color": "#2a3f5f"
            },
            "error_y": {
             "color": "#2a3f5f"
            },
            "marker": {
             "line": {
              "color": "#E5ECF6",
              "width": 0.5
             },
             "pattern": {
              "fillmode": "overlay",
              "size": 10,
              "solidity": 0.2
             }
            },
            "type": "bar"
           }
          ],
          "barpolar": [
           {
            "marker": {
             "line": {
              "color": "#E5ECF6",
              "width": 0.5
             },
             "pattern": {
              "fillmode": "overlay",
              "size": 10,
              "solidity": 0.2
             }
            },
            "type": "barpolar"
           }
          ],
          "carpet": [
           {
            "aaxis": {
             "endlinecolor": "#2a3f5f",
             "gridcolor": "white",
             "linecolor": "white",
             "minorgridcolor": "white",
             "startlinecolor": "#2a3f5f"
            },
            "baxis": {
             "endlinecolor": "#2a3f5f",
             "gridcolor": "white",
             "linecolor": "white",
             "minorgridcolor": "white",
             "startlinecolor": "#2a3f5f"
            },
            "type": "carpet"
           }
          ],
          "choropleth": [
           {
            "colorbar": {
             "outlinewidth": 0,
             "ticks": ""
            },
            "type": "choropleth"
           }
          ],
          "contour": [
           {
            "colorbar": {
             "outlinewidth": 0,
             "ticks": ""
            },
            "colorscale": [
             [
              0,
              "#0d0887"
             ],
             [
              0.1111111111111111,
              "#46039f"
             ],
             [
              0.2222222222222222,
              "#7201a8"
             ],
             [
              0.3333333333333333,
              "#9c179e"
             ],
             [
              0.4444444444444444,
              "#bd3786"
             ],
             [
              0.5555555555555556,
              "#d8576b"
             ],
             [
              0.6666666666666666,
              "#ed7953"
             ],
             [
              0.7777777777777778,
              "#fb9f3a"
             ],
             [
              0.8888888888888888,
              "#fdca26"
             ],
             [
              1,
              "#f0f921"
             ]
            ],
            "type": "contour"
           }
          ],
          "contourcarpet": [
           {
            "colorbar": {
             "outlinewidth": 0,
             "ticks": ""
            },
            "type": "contourcarpet"
           }
          ],
          "heatmap": [
           {
            "colorbar": {
             "outlinewidth": 0,
             "ticks": ""
            },
            "colorscale": [
             [
              0,
              "#0d0887"
             ],
             [
              0.1111111111111111,
              "#46039f"
             ],
             [
              0.2222222222222222,
              "#7201a8"
             ],
             [
              0.3333333333333333,
              "#9c179e"
             ],
             [
              0.4444444444444444,
              "#bd3786"
             ],
             [
              0.5555555555555556,
              "#d8576b"
             ],
             [
              0.6666666666666666,
              "#ed7953"
             ],
             [
              0.7777777777777778,
              "#fb9f3a"
             ],
             [
              0.8888888888888888,
              "#fdca26"
             ],
             [
              1,
              "#f0f921"
             ]
            ],
            "type": "heatmap"
           }
          ],
          "heatmapgl": [
           {
            "colorbar": {
             "outlinewidth": 0,
             "ticks": ""
            },
            "colorscale": [
             [
              0,
              "#0d0887"
             ],
             [
              0.1111111111111111,
              "#46039f"
             ],
             [
              0.2222222222222222,
              "#7201a8"
             ],
             [
              0.3333333333333333,
              "#9c179e"
             ],
             [
              0.4444444444444444,
              "#bd3786"
             ],
             [
              0.5555555555555556,
              "#d8576b"
             ],
             [
              0.6666666666666666,
              "#ed7953"
             ],
             [
              0.7777777777777778,
              "#fb9f3a"
             ],
             [
              0.8888888888888888,
              "#fdca26"
             ],
             [
              1,
              "#f0f921"
             ]
            ],
            "type": "heatmapgl"
           }
          ],
          "histogram": [
           {
            "marker": {
             "pattern": {
              "fillmode": "overlay",
              "size": 10,
              "solidity": 0.2
             }
            },
            "type": "histogram"
           }
          ],
          "histogram2d": [
           {
            "colorbar": {
             "outlinewidth": 0,
             "ticks": ""
            },
            "colorscale": [
             [
              0,
              "#0d0887"
             ],
             [
              0.1111111111111111,
              "#46039f"
             ],
             [
              0.2222222222222222,
              "#7201a8"
             ],
             [
              0.3333333333333333,
              "#9c179e"
             ],
             [
              0.4444444444444444,
              "#bd3786"
             ],
             [
              0.5555555555555556,
              "#d8576b"
             ],
             [
              0.6666666666666666,
              "#ed7953"
             ],
             [
              0.7777777777777778,
              "#fb9f3a"
             ],
             [
              0.8888888888888888,
              "#fdca26"
             ],
             [
              1,
              "#f0f921"
             ]
            ],
            "type": "histogram2d"
           }
          ],
          "histogram2dcontour": [
           {
            "colorbar": {
             "outlinewidth": 0,
             "ticks": ""
            },
            "colorscale": [
             [
              0,
              "#0d0887"
             ],
             [
              0.1111111111111111,
              "#46039f"
             ],
             [
              0.2222222222222222,
              "#7201a8"
             ],
             [
              0.3333333333333333,
              "#9c179e"
             ],
             [
              0.4444444444444444,
              "#bd3786"
             ],
             [
              0.5555555555555556,
              "#d8576b"
             ],
             [
              0.6666666666666666,
              "#ed7953"
             ],
             [
              0.7777777777777778,
              "#fb9f3a"
             ],
             [
              0.8888888888888888,
              "#fdca26"
             ],
             [
              1,
              "#f0f921"
             ]
            ],
            "type": "histogram2dcontour"
           }
          ],
          "mesh3d": [
           {
            "colorbar": {
             "outlinewidth": 0,
             "ticks": ""
            },
            "type": "mesh3d"
           }
          ],
          "parcoords": [
           {
            "line": {
             "colorbar": {
              "outlinewidth": 0,
              "ticks": ""
             }
            },
            "type": "parcoords"
           }
          ],
          "pie": [
           {
            "automargin": true,
            "type": "pie"
           }
          ],
          "scatter": [
           {
            "fillpattern": {
             "fillmode": "overlay",
             "size": 10,
             "solidity": 0.2
            },
            "type": "scatter"
           }
          ],
          "scatter3d": [
           {
            "line": {
             "colorbar": {
              "outlinewidth": 0,
              "ticks": ""
             }
            },
            "marker": {
             "colorbar": {
              "outlinewidth": 0,
              "ticks": ""
             }
            },
            "type": "scatter3d"
           }
          ],
          "scattercarpet": [
           {
            "marker": {
             "colorbar": {
              "outlinewidth": 0,
              "ticks": ""
             }
            },
            "type": "scattercarpet"
           }
          ],
          "scattergeo": [
           {
            "marker": {
             "colorbar": {
              "outlinewidth": 0,
              "ticks": ""
             }
            },
            "type": "scattergeo"
           }
          ],
          "scattergl": [
           {
            "marker": {
             "colorbar": {
              "outlinewidth": 0,
              "ticks": ""
             }
            },
            "type": "scattergl"
           }
          ],
          "scattermapbox": [
           {
            "marker": {
             "colorbar": {
              "outlinewidth": 0,
              "ticks": ""
             }
            },
            "type": "scattermapbox"
           }
          ],
          "scatterpolar": [
           {
            "marker": {
             "colorbar": {
              "outlinewidth": 0,
              "ticks": ""
             }
            },
            "type": "scatterpolar"
           }
          ],
          "scatterpolargl": [
           {
            "marker": {
             "colorbar": {
              "outlinewidth": 0,
              "ticks": ""
             }
            },
            "type": "scatterpolargl"
           }
          ],
          "scatterternary": [
           {
            "marker": {
             "colorbar": {
              "outlinewidth": 0,
              "ticks": ""
             }
            },
            "type": "scatterternary"
           }
          ],
          "surface": [
           {
            "colorbar": {
             "outlinewidth": 0,
             "ticks": ""
            },
            "colorscale": [
             [
              0,
              "#0d0887"
             ],
             [
              0.1111111111111111,
              "#46039f"
             ],
             [
              0.2222222222222222,
              "#7201a8"
             ],
             [
              0.3333333333333333,
              "#9c179e"
             ],
             [
              0.4444444444444444,
              "#bd3786"
             ],
             [
              0.5555555555555556,
              "#d8576b"
             ],
             [
              0.6666666666666666,
              "#ed7953"
             ],
             [
              0.7777777777777778,
              "#fb9f3a"
             ],
             [
              0.8888888888888888,
              "#fdca26"
             ],
             [
              1,
              "#f0f921"
             ]
            ],
            "type": "surface"
           }
          ],
          "table": [
           {
            "cells": {
             "fill": {
              "color": "#EBF0F8"
             },
             "line": {
              "color": "white"
             }
            },
            "header": {
             "fill": {
              "color": "#C8D4E3"
             },
             "line": {
              "color": "white"
             }
            },
            "type": "table"
           }
          ]
         },
         "layout": {
          "annotationdefaults": {
           "arrowcolor": "#2a3f5f",
           "arrowhead": 0,
           "arrowwidth": 1
          },
          "autotypenumbers": "strict",
          "coloraxis": {
           "colorbar": {
            "outlinewidth": 0,
            "ticks": ""
           }
          },
          "colorscale": {
           "diverging": [
            [
             0,
             "#8e0152"
            ],
            [
             0.1,
             "#c51b7d"
            ],
            [
             0.2,
             "#de77ae"
            ],
            [
             0.3,
             "#f1b6da"
            ],
            [
             0.4,
             "#fde0ef"
            ],
            [
             0.5,
             "#f7f7f7"
            ],
            [
             0.6,
             "#e6f5d0"
            ],
            [
             0.7,
             "#b8e186"
            ],
            [
             0.8,
             "#7fbc41"
            ],
            [
             0.9,
             "#4d9221"
            ],
            [
             1,
             "#276419"
            ]
           ],
           "sequential": [
            [
             0,
             "#0d0887"
            ],
            [
             0.1111111111111111,
             "#46039f"
            ],
            [
             0.2222222222222222,
             "#7201a8"
            ],
            [
             0.3333333333333333,
             "#9c179e"
            ],
            [
             0.4444444444444444,
             "#bd3786"
            ],
            [
             0.5555555555555556,
             "#d8576b"
            ],
            [
             0.6666666666666666,
             "#ed7953"
            ],
            [
             0.7777777777777778,
             "#fb9f3a"
            ],
            [
             0.8888888888888888,
             "#fdca26"
            ],
            [
             1,
             "#f0f921"
            ]
           ],
           "sequentialminus": [
            [
             0,
             "#0d0887"
            ],
            [
             0.1111111111111111,
             "#46039f"
            ],
            [
             0.2222222222222222,
             "#7201a8"
            ],
            [
             0.3333333333333333,
             "#9c179e"
            ],
            [
             0.4444444444444444,
             "#bd3786"
            ],
            [
             0.5555555555555556,
             "#d8576b"
            ],
            [
             0.6666666666666666,
             "#ed7953"
            ],
            [
             0.7777777777777778,
             "#fb9f3a"
            ],
            [
             0.8888888888888888,
             "#fdca26"
            ],
            [
             1,
             "#f0f921"
            ]
           ]
          },
          "colorway": [
           "#636efa",
           "#EF553B",
           "#00cc96",
           "#ab63fa",
           "#FFA15A",
           "#19d3f3",
           "#FF6692",
           "#B6E880",
           "#FF97FF",
           "#FECB52"
          ],
          "font": {
           "color": "#2a3f5f"
          },
          "geo": {
           "bgcolor": "white",
           "lakecolor": "white",
           "landcolor": "#E5ECF6",
           "showlakes": true,
           "showland": true,
           "subunitcolor": "white"
          },
          "hoverlabel": {
           "align": "left"
          },
          "hovermode": "closest",
          "mapbox": {
           "style": "light"
          },
          "paper_bgcolor": "white",
          "plot_bgcolor": "#E5ECF6",
          "polar": {
           "angularaxis": {
            "gridcolor": "white",
            "linecolor": "white",
            "ticks": ""
           },
           "bgcolor": "#E5ECF6",
           "radialaxis": {
            "gridcolor": "white",
            "linecolor": "white",
            "ticks": ""
           }
          },
          "scene": {
           "xaxis": {
            "backgroundcolor": "#E5ECF6",
            "gridcolor": "white",
            "gridwidth": 2,
            "linecolor": "white",
            "showbackground": true,
            "ticks": "",
            "zerolinecolor": "white"
           },
           "yaxis": {
            "backgroundcolor": "#E5ECF6",
            "gridcolor": "white",
            "gridwidth": 2,
            "linecolor": "white",
            "showbackground": true,
            "ticks": "",
            "zerolinecolor": "white"
           },
           "zaxis": {
            "backgroundcolor": "#E5ECF6",
            "gridcolor": "white",
            "gridwidth": 2,
            "linecolor": "white",
            "showbackground": true,
            "ticks": "",
            "zerolinecolor": "white"
           }
          },
          "shapedefaults": {
           "line": {
            "color": "#2a3f5f"
           }
          },
          "ternary": {
           "aaxis": {
            "gridcolor": "white",
            "linecolor": "white",
            "ticks": ""
           },
           "baxis": {
            "gridcolor": "white",
            "linecolor": "white",
            "ticks": ""
           },
           "bgcolor": "#E5ECF6",
           "caxis": {
            "gridcolor": "white",
            "linecolor": "white",
            "ticks": ""
           }
          },
          "title": {
           "x": 0.05
          },
          "xaxis": {
           "automargin": true,
           "gridcolor": "white",
           "linecolor": "white",
           "ticks": "",
           "title": {
            "standoff": 15
           },
           "zerolinecolor": "white",
           "zerolinewidth": 2
          },
          "yaxis": {
           "automargin": true,
           "gridcolor": "white",
           "linecolor": "white",
           "ticks": "",
           "title": {
            "standoff": 15
           },
           "zerolinecolor": "white",
           "zerolinewidth": 2
          }
         }
        },
        "title": {
         "text": "Encounters identified in source"
        },
        "width": 500,
        "xaxis": {
         "anchor": "y",
         "domain": [
          0,
          1
         ],
         "title": {
          "text": "Encounter Identified By"
         }
        },
        "yaxis": {
         "anchor": "x",
         "domain": [
          0,
          1
         ],
         "title": {
          "text": "Counts"
         }
        }
       }
      },
      "text/html": [
       "<div>                            <div id=\"f0b969d4-cdee-4ab7-b994-7ebba76f7b57\" class=\"plotly-graph-div\" style=\"height:600px; width:500px;\"></div>            <script type=\"text/javascript\">                require([\"plotly\"], function(Plotly) {                    window.PLOTLYENV=window.PLOTLYENV || {};                                    if (document.getElementById(\"f0b969d4-cdee-4ab7-b994-7ebba76f7b57\")) {                    Plotly.newPlot(                        \"f0b969d4-cdee-4ab7-b994-7ebba76f7b57\",                        [{\"alignmentgroup\":\"True\",\"hovertemplate\":\"Encounter Identified By=%{x}<br>Counts=%{text}<extra></extra>\",\"legendgroup\":\"\",\"marker\":{\"color\":\"#636efa\",\"pattern\":{\"shape\":\"\"}},\"name\":\"\",\"offsetgroup\":\"\",\"orientation\":\"v\",\"showlegend\":false,\"text\":[55.0,27.0,11.0],\"textposition\":\"auto\",\"x\":[\"Both\",\"Chart Review Only\",\"FHIR Only\"],\"xaxis\":\"x\",\"y\":[55,27,11],\"yaxis\":\"y\",\"type\":\"bar\"}],                        {\"template\":{\"data\":{\"histogram2dcontour\":[{\"type\":\"histogram2dcontour\",\"colorbar\":{\"outlinewidth\":0,\"ticks\":\"\"},\"colorscale\":[[0.0,\"#0d0887\"],[0.1111111111111111,\"#46039f\"],[0.2222222222222222,\"#7201a8\"],[0.3333333333333333,\"#9c179e\"],[0.4444444444444444,\"#bd3786\"],[0.5555555555555556,\"#d8576b\"],[0.6666666666666666,\"#ed7953\"],[0.7777777777777778,\"#fb9f3a\"],[0.8888888888888888,\"#fdca26\"],[1.0,\"#f0f921\"]]}],\"choropleth\":[{\"type\":\"choropleth\",\"colorbar\":{\"outlinewidth\":0,\"ticks\":\"\"}}],\"histogram2d\":[{\"type\":\"histogram2d\",\"colorbar\":{\"outlinewidth\":0,\"ticks\":\"\"},\"colorscale\":[[0.0,\"#0d0887\"],[0.1111111111111111,\"#46039f\"],[0.2222222222222222,\"#7201a8\"],[0.3333333333333333,\"#9c179e\"],[0.4444444444444444,\"#bd3786\"],[0.5555555555555556,\"#d8576b\"],[0.6666666666666666,\"#ed7953\"],[0.7777777777777778,\"#fb9f3a\"],[0.8888888888888888,\"#fdca26\"],[1.0,\"#f0f921\"]]}],\"heatmap\":[{\"type\":\"heatmap\",\"colorbar\":{\"outlinewidth\":0,\"ticks\":\"\"},\"colorscale\":[[0.0,\"#0d0887\"],[0.1111111111111111,\"#46039f\"],[0.2222222222222222,\"#7201a8\"],[0.3333333333333333,\"#9c179e\"],[0.4444444444444444,\"#bd3786\"],[0.5555555555555556,\"#d8576b\"],[0.6666666666666666,\"#ed7953\"],[0.7777777777777778,\"#fb9f3a\"],[0.8888888888888888,\"#fdca26\"],[1.0,\"#f0f921\"]]}],\"heatmapgl\":[{\"type\":\"heatmapgl\",\"colorbar\":{\"outlinewidth\":0,\"ticks\":\"\"},\"colorscale\":[[0.0,\"#0d0887\"],[0.1111111111111111,\"#46039f\"],[0.2222222222222222,\"#7201a8\"],[0.3333333333333333,\"#9c179e\"],[0.4444444444444444,\"#bd3786\"],[0.5555555555555556,\"#d8576b\"],[0.6666666666666666,\"#ed7953\"],[0.7777777777777778,\"#fb9f3a\"],[0.8888888888888888,\"#fdca26\"],[1.0,\"#f0f921\"]]}],\"contourcarpet\":[{\"type\":\"contourcarpet\",\"colorbar\":{\"outlinewidth\":0,\"ticks\":\"\"}}],\"contour\":[{\"type\":\"contour\",\"colorbar\":{\"outlinewidth\":0,\"ticks\":\"\"},\"colorscale\":[[0.0,\"#0d0887\"],[0.1111111111111111,\"#46039f\"],[0.2222222222222222,\"#7201a8\"],[0.3333333333333333,\"#9c179e\"],[0.4444444444444444,\"#bd3786\"],[0.5555555555555556,\"#d8576b\"],[0.6666666666666666,\"#ed7953\"],[0.7777777777777778,\"#fb9f3a\"],[0.8888888888888888,\"#fdca26\"],[1.0,\"#f0f921\"]]}],\"surface\":[{\"type\":\"surface\",\"colorbar\":{\"outlinewidth\":0,\"ticks\":\"\"},\"colorscale\":[[0.0,\"#0d0887\"],[0.1111111111111111,\"#46039f\"],[0.2222222222222222,\"#7201a8\"],[0.3333333333333333,\"#9c179e\"],[0.4444444444444444,\"#bd3786\"],[0.5555555555555556,\"#d8576b\"],[0.6666666666666666,\"#ed7953\"],[0.7777777777777778,\"#fb9f3a\"],[0.8888888888888888,\"#fdca26\"],[1.0,\"#f0f921\"]]}],\"mesh3d\":[{\"type\":\"mesh3d\",\"colorbar\":{\"outlinewidth\":0,\"ticks\":\"\"}}],\"scatter\":[{\"fillpattern\":{\"fillmode\":\"overlay\",\"size\":10,\"solidity\":0.2},\"type\":\"scatter\"}],\"parcoords\":[{\"type\":\"parcoords\",\"line\":{\"colorbar\":{\"outlinewidth\":0,\"ticks\":\"\"}}}],\"scatterpolargl\":[{\"type\":\"scatterpolargl\",\"marker\":{\"colorbar\":{\"outlinewidth\":0,\"ticks\":\"\"}}}],\"bar\":[{\"error_x\":{\"color\":\"#2a3f5f\"},\"error_y\":{\"color\":\"#2a3f5f\"},\"marker\":{\"line\":{\"color\":\"#E5ECF6\",\"width\":0.5},\"pattern\":{\"fillmode\":\"overlay\",\"size\":10,\"solidity\":0.2}},\"type\":\"bar\"}],\"scattergeo\":[{\"type\":\"scattergeo\",\"marker\":{\"colorbar\":{\"outlinewidth\":0,\"ticks\":\"\"}}}],\"scatterpolar\":[{\"type\":\"scatterpolar\",\"marker\":{\"colorbar\":{\"outlinewidth\":0,\"ticks\":\"\"}}}],\"histogram\":[{\"marker\":{\"pattern\":{\"fillmode\":\"overlay\",\"size\":10,\"solidity\":0.2}},\"type\":\"histogram\"}],\"scattergl\":[{\"type\":\"scattergl\",\"marker\":{\"colorbar\":{\"outlinewidth\":0,\"ticks\":\"\"}}}],\"scatter3d\":[{\"type\":\"scatter3d\",\"line\":{\"colorbar\":{\"outlinewidth\":0,\"ticks\":\"\"}},\"marker\":{\"colorbar\":{\"outlinewidth\":0,\"ticks\":\"\"}}}],\"scattermapbox\":[{\"type\":\"scattermapbox\",\"marker\":{\"colorbar\":{\"outlinewidth\":0,\"ticks\":\"\"}}}],\"scatterternary\":[{\"type\":\"scatterternary\",\"marker\":{\"colorbar\":{\"outlinewidth\":0,\"ticks\":\"\"}}}],\"scattercarpet\":[{\"type\":\"scattercarpet\",\"marker\":{\"colorbar\":{\"outlinewidth\":0,\"ticks\":\"\"}}}],\"carpet\":[{\"aaxis\":{\"endlinecolor\":\"#2a3f5f\",\"gridcolor\":\"white\",\"linecolor\":\"white\",\"minorgridcolor\":\"white\",\"startlinecolor\":\"#2a3f5f\"},\"baxis\":{\"endlinecolor\":\"#2a3f5f\",\"gridcolor\":\"white\",\"linecolor\":\"white\",\"minorgridcolor\":\"white\",\"startlinecolor\":\"#2a3f5f\"},\"type\":\"carpet\"}],\"table\":[{\"cells\":{\"fill\":{\"color\":\"#EBF0F8\"},\"line\":{\"color\":\"white\"}},\"header\":{\"fill\":{\"color\":\"#C8D4E3\"},\"line\":{\"color\":\"white\"}},\"type\":\"table\"}],\"barpolar\":[{\"marker\":{\"line\":{\"color\":\"#E5ECF6\",\"width\":0.5},\"pattern\":{\"fillmode\":\"overlay\",\"size\":10,\"solidity\":0.2}},\"type\":\"barpolar\"}],\"pie\":[{\"automargin\":true,\"type\":\"pie\"}]},\"layout\":{\"autotypenumbers\":\"strict\",\"colorway\":[\"#636efa\",\"#EF553B\",\"#00cc96\",\"#ab63fa\",\"#FFA15A\",\"#19d3f3\",\"#FF6692\",\"#B6E880\",\"#FF97FF\",\"#FECB52\"],\"font\":{\"color\":\"#2a3f5f\"},\"hovermode\":\"closest\",\"hoverlabel\":{\"align\":\"left\"},\"paper_bgcolor\":\"white\",\"plot_bgcolor\":\"#E5ECF6\",\"polar\":{\"bgcolor\":\"#E5ECF6\",\"angularaxis\":{\"gridcolor\":\"white\",\"linecolor\":\"white\",\"ticks\":\"\"},\"radialaxis\":{\"gridcolor\":\"white\",\"linecolor\":\"white\",\"ticks\":\"\"}},\"ternary\":{\"bgcolor\":\"#E5ECF6\",\"aaxis\":{\"gridcolor\":\"white\",\"linecolor\":\"white\",\"ticks\":\"\"},\"baxis\":{\"gridcolor\":\"white\",\"linecolor\":\"white\",\"ticks\":\"\"},\"caxis\":{\"gridcolor\":\"white\",\"linecolor\":\"white\",\"ticks\":\"\"}},\"coloraxis\":{\"colorbar\":{\"outlinewidth\":0,\"ticks\":\"\"}},\"colorscale\":{\"sequential\":[[0.0,\"#0d0887\"],[0.1111111111111111,\"#46039f\"],[0.2222222222222222,\"#7201a8\"],[0.3333333333333333,\"#9c179e\"],[0.4444444444444444,\"#bd3786\"],[0.5555555555555556,\"#d8576b\"],[0.6666666666666666,\"#ed7953\"],[0.7777777777777778,\"#fb9f3a\"],[0.8888888888888888,\"#fdca26\"],[1.0,\"#f0f921\"]],\"sequentialminus\":[[0.0,\"#0d0887\"],[0.1111111111111111,\"#46039f\"],[0.2222222222222222,\"#7201a8\"],[0.3333333333333333,\"#9c179e\"],[0.4444444444444444,\"#bd3786\"],[0.5555555555555556,\"#d8576b\"],[0.6666666666666666,\"#ed7953\"],[0.7777777777777778,\"#fb9f3a\"],[0.8888888888888888,\"#fdca26\"],[1.0,\"#f0f921\"]],\"diverging\":[[0,\"#8e0152\"],[0.1,\"#c51b7d\"],[0.2,\"#de77ae\"],[0.3,\"#f1b6da\"],[0.4,\"#fde0ef\"],[0.5,\"#f7f7f7\"],[0.6,\"#e6f5d0\"],[0.7,\"#b8e186\"],[0.8,\"#7fbc41\"],[0.9,\"#4d9221\"],[1,\"#276419\"]]},\"xaxis\":{\"gridcolor\":\"white\",\"linecolor\":\"white\",\"ticks\":\"\",\"title\":{\"standoff\":15},\"zerolinecolor\":\"white\",\"automargin\":true,\"zerolinewidth\":2},\"yaxis\":{\"gridcolor\":\"white\",\"linecolor\":\"white\",\"ticks\":\"\",\"title\":{\"standoff\":15},\"zerolinecolor\":\"white\",\"automargin\":true,\"zerolinewidth\":2},\"scene\":{\"xaxis\":{\"backgroundcolor\":\"#E5ECF6\",\"gridcolor\":\"white\",\"linecolor\":\"white\",\"showbackground\":true,\"ticks\":\"\",\"zerolinecolor\":\"white\",\"gridwidth\":2},\"yaxis\":{\"backgroundcolor\":\"#E5ECF6\",\"gridcolor\":\"white\",\"linecolor\":\"white\",\"showbackground\":true,\"ticks\":\"\",\"zerolinecolor\":\"white\",\"gridwidth\":2},\"zaxis\":{\"backgroundcolor\":\"#E5ECF6\",\"gridcolor\":\"white\",\"linecolor\":\"white\",\"showbackground\":true,\"ticks\":\"\",\"zerolinecolor\":\"white\",\"gridwidth\":2}},\"shapedefaults\":{\"line\":{\"color\":\"#2a3f5f\"}},\"annotationdefaults\":{\"arrowcolor\":\"#2a3f5f\",\"arrowhead\":0,\"arrowwidth\":1},\"geo\":{\"bgcolor\":\"white\",\"landcolor\":\"#E5ECF6\",\"subunitcolor\":\"white\",\"showland\":true,\"showlakes\":true,\"lakecolor\":\"white\"},\"title\":{\"x\":0.05},\"mapbox\":{\"style\":\"light\"}}},\"xaxis\":{\"anchor\":\"y\",\"domain\":[0.0,1.0],\"title\":{\"text\":\"Encounter Identified By\"}},\"yaxis\":{\"anchor\":\"x\",\"domain\":[0.0,1.0],\"title\":{\"text\":\"Counts\"}},\"legend\":{\"tracegroupgap\":0},\"title\":{\"text\":\"Encounters identified in source\"},\"barmode\":\"relative\",\"height\":600,\"width\":500},                        {\"responsive\": true}                    ).then(function(){\n",
       "                            \n",
       "var gd = document.getElementById('f0b969d4-cdee-4ab7-b994-7ebba76f7b57');\n",
       "var x = new MutationObserver(function (mutations, observer) {{\n",
       "        var display = window.getComputedStyle(gd).display;\n",
       "        if (!display || display === 'none') {{\n",
       "            console.log([gd, 'removed!']);\n",
       "            Plotly.purge(gd);\n",
       "            observer.disconnect();\n",
       "        }}\n",
       "}});\n",
       "\n",
       "// Listen for the removal of the full notebook cells\n",
       "var notebookContainer = gd.closest('#notebook-container');\n",
       "if (notebookContainer) {{\n",
       "    x.observe(notebookContainer, {childList: true});\n",
       "}}\n",
       "\n",
       "// Listen for the clearing of the current output cell\n",
       "var outputEl = gd.closest('.output');\n",
       "if (outputEl) {{\n",
       "    x.observe(outputEl, {childList: true});\n",
       "}}\n",
       "\n",
       "                        })                };                });            </script>        </div>"
      ]
     },
     "metadata": {},
     "output_type": "display_data"
    }
   ],
   "source": [
    "f = fhir_enc_cr.drop_duplicates(subset=['user_id', 'start_d'])\n",
    "c = cr_enc.drop_duplicates(subset=['user_id', 'admit_date_d'])\n",
    "m = f.merge(c, left_on=['user_id', 'start_d'], right_on=['user_id', 'admit_date_d'], how='outer', indicator=True)\n",
    "m['_merge'].value_counts(dropna=False)\n",
    "counts = m['_merge'].value_counts(dropna=False).reset_index(name=\"Counts\")\n",
    "counts = counts.rename(columns={'index': 'Encounter Identified By'})\n",
    "counts['Encounter Identified By'] = counts['Encounter Identified By'].replace({'left_only': 'FHIR Only', 'both': 'Both', 'right_only': 'Chart Review Only'})\n",
    "fig = px.bar(counts, x=\"Encounter Identified By\", y='Counts', text='Counts', title=\"Encounters identified in source\")\n",
    "fig.update_layout(height=600, width=500)\n",
    "fig.show()\n"
   ]
  },
  {
   "cell_type": "code",
   "execution_count": 70,
   "id": "2d5eb540",
   "metadata": {
    "scrolled": false
   },
   "outputs": [
    {
     "ename": "KeyError",
     "evalue": "'encounter_type'",
     "output_type": "error",
     "traceback": [
      "\u001b[0;31m---------------------------------------------------------------------------\u001b[0m",
      "\u001b[0;31mKeyError\u001b[0m                                  Traceback (most recent call last)",
      "File \u001b[0;32m/usr/local/lib/python3.9/site-packages/pandas/core/indexes/base.py:3802\u001b[0m, in \u001b[0;36mIndex.get_loc\u001b[0;34m(self, key, method, tolerance)\u001b[0m\n\u001b[1;32m   3801\u001b[0m \u001b[38;5;28;01mtry\u001b[39;00m:\n\u001b[0;32m-> 3802\u001b[0m     \u001b[38;5;28;01mreturn\u001b[39;00m \u001b[38;5;28;43mself\u001b[39;49m\u001b[38;5;241;43m.\u001b[39;49m\u001b[43m_engine\u001b[49m\u001b[38;5;241;43m.\u001b[39;49m\u001b[43mget_loc\u001b[49m\u001b[43m(\u001b[49m\u001b[43mcasted_key\u001b[49m\u001b[43m)\u001b[49m\n\u001b[1;32m   3803\u001b[0m \u001b[38;5;28;01mexcept\u001b[39;00m \u001b[38;5;167;01mKeyError\u001b[39;00m \u001b[38;5;28;01mas\u001b[39;00m err:\n",
      "File \u001b[0;32m/usr/local/lib/python3.9/site-packages/pandas/_libs/index.pyx:138\u001b[0m, in \u001b[0;36mpandas._libs.index.IndexEngine.get_loc\u001b[0;34m()\u001b[0m\n",
      "File \u001b[0;32m/usr/local/lib/python3.9/site-packages/pandas/_libs/index.pyx:165\u001b[0m, in \u001b[0;36mpandas._libs.index.IndexEngine.get_loc\u001b[0;34m()\u001b[0m\n",
      "File \u001b[0;32mpandas/_libs/hashtable_class_helper.pxi:5745\u001b[0m, in \u001b[0;36mpandas._libs.hashtable.PyObjectHashTable.get_item\u001b[0;34m()\u001b[0m\n",
      "File \u001b[0;32mpandas/_libs/hashtable_class_helper.pxi:5753\u001b[0m, in \u001b[0;36mpandas._libs.hashtable.PyObjectHashTable.get_item\u001b[0;34m()\u001b[0m\n",
      "\u001b[0;31mKeyError\u001b[0m: 'encounter_type'",
      "\nThe above exception was the direct cause of the following exception:\n",
      "\u001b[0;31mKeyError\u001b[0m                                  Traceback (most recent call last)",
      "Cell \u001b[0;32mIn[70], line 6\u001b[0m\n\u001b[1;32m      4\u001b[0m         \u001b[38;5;28;01mreturn\u001b[39;00m \u001b[38;5;124m'\u001b[39m\u001b[38;5;124mOther\u001b[39m\u001b[38;5;124m'\u001b[39m\n\u001b[1;32m      5\u001b[0m     \u001b[38;5;28;01mreturn\u001b[39;00m r\n\u001b[0;32m----> 6\u001b[0m m[\u001b[38;5;124m'\u001b[39m\u001b[38;5;124mencounter_type\u001b[39m\u001b[38;5;124m'\u001b[39m] \u001b[38;5;241m=\u001b[39m \u001b[43mm\u001b[49m\u001b[43m[\u001b[49m\u001b[38;5;124;43m'\u001b[39;49m\u001b[38;5;124;43mencounter_type\u001b[39;49m\u001b[38;5;124;43m'\u001b[39;49m\u001b[43m]\u001b[49m\u001b[38;5;241m.\u001b[39mapply(encounterFilter)\n\u001b[1;32m      7\u001b[0m counts \u001b[38;5;241m=\u001b[39m m[m[\u001b[38;5;124m'\u001b[39m\u001b[38;5;124m_merge\u001b[39m\u001b[38;5;124m'\u001b[39m] \u001b[38;5;241m==\u001b[39m \u001b[38;5;124m'\u001b[39m\u001b[38;5;124mboth\u001b[39m\u001b[38;5;124m'\u001b[39m][\u001b[38;5;124m'\u001b[39m\u001b[38;5;124mencounter_type\u001b[39m\u001b[38;5;124m'\u001b[39m]\u001b[38;5;241m.\u001b[39mvalue_counts(dropna\u001b[38;5;241m=\u001b[39m\u001b[38;5;28;01mFalse\u001b[39;00m)\u001b[38;5;241m.\u001b[39mreset_index(name\u001b[38;5;241m=\u001b[39m\u001b[38;5;124m'\u001b[39m\u001b[38;5;124mAgreement\u001b[39m\u001b[38;5;124m'\u001b[39m)\n\u001b[1;32m      8\u001b[0m total \u001b[38;5;241m=\u001b[39m c[\u001b[38;5;124m'\u001b[39m\u001b[38;5;124mencounter_type\u001b[39m\u001b[38;5;124m'\u001b[39m]\u001b[38;5;241m.\u001b[39mapply(encounterFilter)\u001b[38;5;241m.\u001b[39mvalue_counts(dropna\u001b[38;5;241m=\u001b[39m\u001b[38;5;28;01mFalse\u001b[39;00m)\u001b[38;5;241m.\u001b[39mreset_index(name\u001b[38;5;241m=\u001b[39m\u001b[38;5;124m'\u001b[39m\u001b[38;5;124mtotal\u001b[39m\u001b[38;5;124m'\u001b[39m)\n",
      "File \u001b[0;32m/usr/local/lib/python3.9/site-packages/pandas/core/frame.py:3807\u001b[0m, in \u001b[0;36mDataFrame.__getitem__\u001b[0;34m(self, key)\u001b[0m\n\u001b[1;32m   3805\u001b[0m \u001b[38;5;28;01mif\u001b[39;00m \u001b[38;5;28mself\u001b[39m\u001b[38;5;241m.\u001b[39mcolumns\u001b[38;5;241m.\u001b[39mnlevels \u001b[38;5;241m>\u001b[39m \u001b[38;5;241m1\u001b[39m:\n\u001b[1;32m   3806\u001b[0m     \u001b[38;5;28;01mreturn\u001b[39;00m \u001b[38;5;28mself\u001b[39m\u001b[38;5;241m.\u001b[39m_getitem_multilevel(key)\n\u001b[0;32m-> 3807\u001b[0m indexer \u001b[38;5;241m=\u001b[39m \u001b[38;5;28;43mself\u001b[39;49m\u001b[38;5;241;43m.\u001b[39;49m\u001b[43mcolumns\u001b[49m\u001b[38;5;241;43m.\u001b[39;49m\u001b[43mget_loc\u001b[49m\u001b[43m(\u001b[49m\u001b[43mkey\u001b[49m\u001b[43m)\u001b[49m\n\u001b[1;32m   3808\u001b[0m \u001b[38;5;28;01mif\u001b[39;00m is_integer(indexer):\n\u001b[1;32m   3809\u001b[0m     indexer \u001b[38;5;241m=\u001b[39m [indexer]\n",
      "File \u001b[0;32m/usr/local/lib/python3.9/site-packages/pandas/core/indexes/base.py:3804\u001b[0m, in \u001b[0;36mIndex.get_loc\u001b[0;34m(self, key, method, tolerance)\u001b[0m\n\u001b[1;32m   3802\u001b[0m     \u001b[38;5;28;01mreturn\u001b[39;00m \u001b[38;5;28mself\u001b[39m\u001b[38;5;241m.\u001b[39m_engine\u001b[38;5;241m.\u001b[39mget_loc(casted_key)\n\u001b[1;32m   3803\u001b[0m \u001b[38;5;28;01mexcept\u001b[39;00m \u001b[38;5;167;01mKeyError\u001b[39;00m \u001b[38;5;28;01mas\u001b[39;00m err:\n\u001b[0;32m-> 3804\u001b[0m     \u001b[38;5;28;01mraise\u001b[39;00m \u001b[38;5;167;01mKeyError\u001b[39;00m(key) \u001b[38;5;28;01mfrom\u001b[39;00m \u001b[38;5;21;01merr\u001b[39;00m\n\u001b[1;32m   3805\u001b[0m \u001b[38;5;28;01mexcept\u001b[39;00m \u001b[38;5;167;01mTypeError\u001b[39;00m:\n\u001b[1;32m   3806\u001b[0m     \u001b[38;5;66;03m# If we have a listlike key, _check_indexing_error will raise\u001b[39;00m\n\u001b[1;32m   3807\u001b[0m     \u001b[38;5;66;03m#  InvalidIndexError. Otherwise we fall through and re-raise\u001b[39;00m\n\u001b[1;32m   3808\u001b[0m     \u001b[38;5;66;03m#  the TypeError.\u001b[39;00m\n\u001b[1;32m   3809\u001b[0m     \u001b[38;5;28mself\u001b[39m\u001b[38;5;241m.\u001b[39m_check_indexing_error(key)\n",
      "\u001b[0;31mKeyError\u001b[0m: 'encounter_type'"
     ]
    }
   ],
   "source": [
    "other_visits = ['XR Scoliosis Study 4 or 5 Views']\n",
    "def encounterFilter(r):\n",
    "    if r in other_visits:\n",
    "        return 'Other'\n",
    "    return r\n",
    "m['encounter_type'] = m['encounter_type'].apply(encounterFilter)\n",
    "counts = m[m['_merge'] == 'both']['encounter_type'].value_counts(dropna=False).reset_index(name='Agreement')\n",
    "total = c['encounter_type'].apply(encounterFilter).value_counts(dropna=False).reset_index(name='total')\n",
    "counts_all = counts.merge(total, on='index', how='right')\n",
    "counts_all = counts_all.rename(columns={'index': 'Visit Type'})\n",
    "counts_all = counts_all.fillna(0)\n",
    "counts_all = counts_all\n",
    "\n",
    "counts_all['Missed'] = counts_all['total']-counts_all['Agreement']\n",
    "import plotly.express as px\n",
    "\n",
    "\n",
    "fig = px.bar(counts_all, x=\"Visit Type\", y=[\"Agreement\", \"Missed\"], color='Counts', title=\"FHIR Encounters vs. Chart Review\")\n",
    "fig.update_layout(height=800, width=1000)\n",
    "fig.update_yaxes(title='Encounter Count, N')\n",
    "fig.show()\n",
    "counts_all"
   ]
  },
  {
   "cell_type": "code",
   "execution_count": 81,
   "id": "92315ff5",
   "metadata": {},
   "outputs": [
    {
     "ename": "KeyError",
     "evalue": "'enc_type'",
     "output_type": "error",
     "traceback": [
      "\u001b[0;31m---------------------------------------------------------------------------\u001b[0m",
      "\u001b[0;31mKeyError\u001b[0m                                  Traceback (most recent call last)",
      "Cell \u001b[0;32mIn[81], line 1\u001b[0m\n\u001b[0;32m----> 1\u001b[0m \u001b[43mm\u001b[49m\u001b[38;5;241;43m.\u001b[39;49m\u001b[43mgroupby\u001b[49m\u001b[43m(\u001b[49m\u001b[43m[\u001b[49m\u001b[38;5;124;43m'\u001b[39;49m\u001b[38;5;124;43mencounter_type\u001b[39;49m\u001b[38;5;124;43m'\u001b[39;49m\u001b[43m,\u001b[49m\u001b[43m \u001b[49m\u001b[38;5;124;43m'\u001b[39;49m\u001b[38;5;124;43menc_type\u001b[39;49m\u001b[38;5;124;43m'\u001b[39;49m\u001b[43m]\u001b[49m\u001b[43m)\u001b[49m\u001b[38;5;241m.\u001b[39msize()\u001b[38;5;241m.\u001b[39munstack(fill_value\u001b[38;5;241m=\u001b[39m\u001b[38;5;241m0\u001b[39m)\n",
      "File \u001b[0;32m/usr/local/lib/python3.9/site-packages/pandas/core/frame.py:8402\u001b[0m, in \u001b[0;36mDataFrame.groupby\u001b[0;34m(self, by, axis, level, as_index, sort, group_keys, squeeze, observed, dropna)\u001b[0m\n\u001b[1;32m   8399\u001b[0m     \u001b[38;5;28;01mraise\u001b[39;00m \u001b[38;5;167;01mTypeError\u001b[39;00m(\u001b[38;5;124m\"\u001b[39m\u001b[38;5;124mYou have to supply one of \u001b[39m\u001b[38;5;124m'\u001b[39m\u001b[38;5;124mby\u001b[39m\u001b[38;5;124m'\u001b[39m\u001b[38;5;124m and \u001b[39m\u001b[38;5;124m'\u001b[39m\u001b[38;5;124mlevel\u001b[39m\u001b[38;5;124m'\u001b[39m\u001b[38;5;124m\"\u001b[39m)\n\u001b[1;32m   8400\u001b[0m axis \u001b[38;5;241m=\u001b[39m \u001b[38;5;28mself\u001b[39m\u001b[38;5;241m.\u001b[39m_get_axis_number(axis)\n\u001b[0;32m-> 8402\u001b[0m \u001b[38;5;28;01mreturn\u001b[39;00m \u001b[43mDataFrameGroupBy\u001b[49m\u001b[43m(\u001b[49m\n\u001b[1;32m   8403\u001b[0m \u001b[43m    \u001b[49m\u001b[43mobj\u001b[49m\u001b[38;5;241;43m=\u001b[39;49m\u001b[38;5;28;43mself\u001b[39;49m\u001b[43m,\u001b[49m\n\u001b[1;32m   8404\u001b[0m \u001b[43m    \u001b[49m\u001b[43mkeys\u001b[49m\u001b[38;5;241;43m=\u001b[39;49m\u001b[43mby\u001b[49m\u001b[43m,\u001b[49m\n\u001b[1;32m   8405\u001b[0m \u001b[43m    \u001b[49m\u001b[43maxis\u001b[49m\u001b[38;5;241;43m=\u001b[39;49m\u001b[43maxis\u001b[49m\u001b[43m,\u001b[49m\n\u001b[1;32m   8406\u001b[0m \u001b[43m    \u001b[49m\u001b[43mlevel\u001b[49m\u001b[38;5;241;43m=\u001b[39;49m\u001b[43mlevel\u001b[49m\u001b[43m,\u001b[49m\n\u001b[1;32m   8407\u001b[0m \u001b[43m    \u001b[49m\u001b[43mas_index\u001b[49m\u001b[38;5;241;43m=\u001b[39;49m\u001b[43mas_index\u001b[49m\u001b[43m,\u001b[49m\n\u001b[1;32m   8408\u001b[0m \u001b[43m    \u001b[49m\u001b[43msort\u001b[49m\u001b[38;5;241;43m=\u001b[39;49m\u001b[43msort\u001b[49m\u001b[43m,\u001b[49m\n\u001b[1;32m   8409\u001b[0m \u001b[43m    \u001b[49m\u001b[43mgroup_keys\u001b[49m\u001b[38;5;241;43m=\u001b[39;49m\u001b[43mgroup_keys\u001b[49m\u001b[43m,\u001b[49m\n\u001b[1;32m   8410\u001b[0m \u001b[43m    \u001b[49m\u001b[43msqueeze\u001b[49m\u001b[38;5;241;43m=\u001b[39;49m\u001b[43msqueeze\u001b[49m\u001b[43m,\u001b[49m\n\u001b[1;32m   8411\u001b[0m \u001b[43m    \u001b[49m\u001b[43mobserved\u001b[49m\u001b[38;5;241;43m=\u001b[39;49m\u001b[43mobserved\u001b[49m\u001b[43m,\u001b[49m\n\u001b[1;32m   8412\u001b[0m \u001b[43m    \u001b[49m\u001b[43mdropna\u001b[49m\u001b[38;5;241;43m=\u001b[39;49m\u001b[43mdropna\u001b[49m\u001b[43m,\u001b[49m\n\u001b[1;32m   8413\u001b[0m \u001b[43m\u001b[49m\u001b[43m)\u001b[49m\n",
      "File \u001b[0;32m/usr/local/lib/python3.9/site-packages/pandas/core/groupby/groupby.py:965\u001b[0m, in \u001b[0;36mGroupBy.__init__\u001b[0;34m(self, obj, keys, axis, level, grouper, exclusions, selection, as_index, sort, group_keys, squeeze, observed, mutated, dropna)\u001b[0m\n\u001b[1;32m    962\u001b[0m \u001b[38;5;28;01mif\u001b[39;00m grouper \u001b[38;5;129;01mis\u001b[39;00m \u001b[38;5;28;01mNone\u001b[39;00m:\n\u001b[1;32m    963\u001b[0m     \u001b[38;5;28;01mfrom\u001b[39;00m \u001b[38;5;21;01mpandas\u001b[39;00m\u001b[38;5;21;01m.\u001b[39;00m\u001b[38;5;21;01mcore\u001b[39;00m\u001b[38;5;21;01m.\u001b[39;00m\u001b[38;5;21;01mgroupby\u001b[39;00m\u001b[38;5;21;01m.\u001b[39;00m\u001b[38;5;21;01mgrouper\u001b[39;00m \u001b[38;5;28;01mimport\u001b[39;00m get_grouper\n\u001b[0;32m--> 965\u001b[0m     grouper, exclusions, obj \u001b[38;5;241m=\u001b[39m \u001b[43mget_grouper\u001b[49m\u001b[43m(\u001b[49m\n\u001b[1;32m    966\u001b[0m \u001b[43m        \u001b[49m\u001b[43mobj\u001b[49m\u001b[43m,\u001b[49m\n\u001b[1;32m    967\u001b[0m \u001b[43m        \u001b[49m\u001b[43mkeys\u001b[49m\u001b[43m,\u001b[49m\n\u001b[1;32m    968\u001b[0m \u001b[43m        \u001b[49m\u001b[43maxis\u001b[49m\u001b[38;5;241;43m=\u001b[39;49m\u001b[43maxis\u001b[49m\u001b[43m,\u001b[49m\n\u001b[1;32m    969\u001b[0m \u001b[43m        \u001b[49m\u001b[43mlevel\u001b[49m\u001b[38;5;241;43m=\u001b[39;49m\u001b[43mlevel\u001b[49m\u001b[43m,\u001b[49m\n\u001b[1;32m    970\u001b[0m \u001b[43m        \u001b[49m\u001b[43msort\u001b[49m\u001b[38;5;241;43m=\u001b[39;49m\u001b[43msort\u001b[49m\u001b[43m,\u001b[49m\n\u001b[1;32m    971\u001b[0m \u001b[43m        \u001b[49m\u001b[43mobserved\u001b[49m\u001b[38;5;241;43m=\u001b[39;49m\u001b[43mobserved\u001b[49m\u001b[43m,\u001b[49m\n\u001b[1;32m    972\u001b[0m \u001b[43m        \u001b[49m\u001b[43mmutated\u001b[49m\u001b[38;5;241;43m=\u001b[39;49m\u001b[38;5;28;43mself\u001b[39;49m\u001b[38;5;241;43m.\u001b[39;49m\u001b[43mmutated\u001b[49m\u001b[43m,\u001b[49m\n\u001b[1;32m    973\u001b[0m \u001b[43m        \u001b[49m\u001b[43mdropna\u001b[49m\u001b[38;5;241;43m=\u001b[39;49m\u001b[38;5;28;43mself\u001b[39;49m\u001b[38;5;241;43m.\u001b[39;49m\u001b[43mdropna\u001b[49m\u001b[43m,\u001b[49m\n\u001b[1;32m    974\u001b[0m \u001b[43m    \u001b[49m\u001b[43m)\u001b[49m\n\u001b[1;32m    976\u001b[0m \u001b[38;5;28mself\u001b[39m\u001b[38;5;241m.\u001b[39mobj \u001b[38;5;241m=\u001b[39m obj\n\u001b[1;32m    977\u001b[0m \u001b[38;5;28mself\u001b[39m\u001b[38;5;241m.\u001b[39maxis \u001b[38;5;241m=\u001b[39m obj\u001b[38;5;241m.\u001b[39m_get_axis_number(axis)\n",
      "File \u001b[0;32m/usr/local/lib/python3.9/site-packages/pandas/core/groupby/grouper.py:888\u001b[0m, in \u001b[0;36mget_grouper\u001b[0;34m(obj, key, axis, level, sort, observed, mutated, validate, dropna)\u001b[0m\n\u001b[1;32m    886\u001b[0m         in_axis, level, gpr \u001b[38;5;241m=\u001b[39m \u001b[38;5;28;01mFalse\u001b[39;00m, gpr, \u001b[38;5;28;01mNone\u001b[39;00m\n\u001b[1;32m    887\u001b[0m     \u001b[38;5;28;01melse\u001b[39;00m:\n\u001b[0;32m--> 888\u001b[0m         \u001b[38;5;28;01mraise\u001b[39;00m \u001b[38;5;167;01mKeyError\u001b[39;00m(gpr)\n\u001b[1;32m    889\u001b[0m \u001b[38;5;28;01melif\u001b[39;00m \u001b[38;5;28misinstance\u001b[39m(gpr, Grouper) \u001b[38;5;129;01mand\u001b[39;00m gpr\u001b[38;5;241m.\u001b[39mkey \u001b[38;5;129;01mis\u001b[39;00m \u001b[38;5;129;01mnot\u001b[39;00m \u001b[38;5;28;01mNone\u001b[39;00m:\n\u001b[1;32m    890\u001b[0m     \u001b[38;5;66;03m# Add key to exclusions\u001b[39;00m\n\u001b[1;32m    891\u001b[0m     exclusions\u001b[38;5;241m.\u001b[39madd(gpr\u001b[38;5;241m.\u001b[39mkey)\n",
      "\u001b[0;31mKeyError\u001b[0m: 'enc_type'"
     ]
    }
   ],
   "source": [
    "m.groupby(['encounter_type', 'enc_type']).size().unstack(fill_value=0)"
   ]
  },
  {
   "cell_type": "code",
   "execution_count": 59,
   "id": "a1231647",
   "metadata": {},
   "outputs": [
    {
     "data": {
      "text/html": [
       "<div>\n",
       "<style scoped>\n",
       "    .dataframe tbody tr th:only-of-type {\n",
       "        vertical-align: middle;\n",
       "    }\n",
       "\n",
       "    .dataframe tbody tr th {\n",
       "        vertical-align: top;\n",
       "    }\n",
       "\n",
       "    .dataframe thead th {\n",
       "        text-align: right;\n",
       "    }\n",
       "</style>\n",
       "<table border=\"1\" class=\"dataframe\">\n",
       "  <thead>\n",
       "    <tr style=\"text-align: right;\">\n",
       "      <th></th>\n",
       "      <th>user_id</th>\n",
       "      <th>resource</th>\n",
       "      <th>provider</th>\n",
       "      <th>resourcetype</th>\n",
       "      <th>id</th>\n",
       "      <th>uploaded_date</th>\n",
       "      <th>reference</th>\n",
       "      <th>display</th>\n",
       "      <th>use</th>\n",
       "      <th>id_system</th>\n",
       "      <th>value</th>\n",
       "      <th>status</th>\n",
       "      <th>class_display</th>\n",
       "      <th>type_text</th>\n",
       "      <th>start</th>\n",
       "      <th>end</th>\n",
       "      <th>reference.1</th>\n",
       "      <th>display.1</th>\n",
       "      <th>resource_id</th>\n",
       "      <th>start_time_d</th>\n",
       "      <th>start_s</th>\n",
       "      <th>start_d</th>\n",
       "      <th>end_d</th>\n",
       "    </tr>\n",
       "  </thead>\n",
       "  <tbody>\n",
       "    <tr>\n",
       "      <th>168404</th>\n",
       "      <td>465182</td>\n",
       "      <td>encounter</td>\n",
       "      <td>openepic_shared_sutter_health</td>\n",
       "      <td>Encounter</td>\n",
       "      <td>eA47CZKxN6KOcnco3KHCLyQ3</td>\n",
       "      <td>2022-10-09</td>\n",
       "      <td>Patient/e.SVrRpOEXjMrctGI.3bW5w3</td>\n",
       "      <td>Cohn, Allen</td>\n",
       "      <td>usual</td>\n",
       "      <td>urn:oid:1.2.840.114350.1.13.76.2.7.3.698084.8</td>\n",
       "      <td>1073311084</td>\n",
       "      <td>finished</td>\n",
       "      <td>HOV</td>\n",
       "      <td>Outpatient</td>\n",
       "      <td>2021-01-04T18:23:16Z</td>\n",
       "      <td>2021-01-05T07:59:00Z</td>\n",
       "      <td>Location/e1a3.D7yMzJITc6VMHf.ZfqxJZdF7ph65rctjKOychxo3</td>\n",
       "      <td>CPMC Van Ness Campus Lab Draw Site 2100 Webster</td>\n",
       "      <td>eA47CZKxN6KOcnco3KHCLyQ3</td>\n",
       "      <td>2021-01-04 18:23:16+00:00</td>\n",
       "      <td>2021-01-04</td>\n",
       "      <td>2021-01-04</td>\n",
       "      <td>2021-01-05</td>\n",
       "    </tr>\n",
       "    <tr>\n",
       "      <th>169562</th>\n",
       "      <td>465182</td>\n",
       "      <td>encounter</td>\n",
       "      <td>openepic_shared_sutter_health</td>\n",
       "      <td>Encounter</td>\n",
       "      <td>eA47CZKxN6KOcnco3KHCLyQ3</td>\n",
       "      <td>2022-10-09</td>\n",
       "      <td>Patient/e.SVrRpOEXjMrctGI.3bW5w3</td>\n",
       "      <td>Cohn, Allen</td>\n",
       "      <td>usual</td>\n",
       "      <td>urn:oid:1.2.840.114350.1.13.76.2.7.3.698084.8</td>\n",
       "      <td>1073311084</td>\n",
       "      <td>finished</td>\n",
       "      <td>HOV</td>\n",
       "      <td>Elective</td>\n",
       "      <td>2021-01-04T18:23:16Z</td>\n",
       "      <td>2021-01-05T07:59:00Z</td>\n",
       "      <td>Location/e1a3.D7yMzJITc6VMHf.ZfqxJZdF7ph65rctjKOychxo3</td>\n",
       "      <td>CPMC Van Ness Campus Lab Draw Site 2100 Webster</td>\n",
       "      <td>eA47CZKxN6KOcnco3KHCLyQ3</td>\n",
       "      <td>2021-01-04 18:23:16+00:00</td>\n",
       "      <td>2021-01-04</td>\n",
       "      <td>2021-01-04</td>\n",
       "      <td>2021-01-05</td>\n",
       "    </tr>\n",
       "    <tr>\n",
       "      <th>169563</th>\n",
       "      <td>465182</td>\n",
       "      <td>encounter</td>\n",
       "      <td>openepic_shared_sutter_health</td>\n",
       "      <td>Encounter</td>\n",
       "      <td>eA47CZKxN6KOcnco3KHCLyQ3</td>\n",
       "      <td>2022-10-09</td>\n",
       "      <td>Patient/e.SVrRpOEXjMrctGI.3bW5w3</td>\n",
       "      <td>Cohn, Allen</td>\n",
       "      <td>usual</td>\n",
       "      <td>urn:oid:1.2.840.114350.1.13.76.2.7.3.698084.8</td>\n",
       "      <td>1073311084</td>\n",
       "      <td>finished</td>\n",
       "      <td>HOV</td>\n",
       "      <td>Lab</td>\n",
       "      <td>2021-01-04T18:23:16Z</td>\n",
       "      <td>2021-01-05T07:59:00Z</td>\n",
       "      <td>Location/e-2yRijoQ0PTgRzoeQ.5pcA3</td>\n",
       "      <td>WEST BAY REGION ACUTE CARE SERVICES</td>\n",
       "      <td>eA47CZKxN6KOcnco3KHCLyQ3</td>\n",
       "      <td>2021-01-04 18:23:16+00:00</td>\n",
       "      <td>2021-01-04</td>\n",
       "      <td>2021-01-04</td>\n",
       "      <td>2021-01-05</td>\n",
       "    </tr>\n",
       "    <tr>\n",
       "      <th>169564</th>\n",
       "      <td>465182</td>\n",
       "      <td>encounter</td>\n",
       "      <td>openepic_shared_sutter_health</td>\n",
       "      <td>Encounter</td>\n",
       "      <td>eA47CZKxN6KOcnco3KHCLyQ3</td>\n",
       "      <td>2022-10-09</td>\n",
       "      <td>Patient/e.SVrRpOEXjMrctGI.3bW5w3</td>\n",
       "      <td>Cohn, Allen</td>\n",
       "      <td>usual</td>\n",
       "      <td>urn:oid:1.2.840.114350.1.13.76.2.7.3.698084.8</td>\n",
       "      <td>1073311084</td>\n",
       "      <td>finished</td>\n",
       "      <td>HOV</td>\n",
       "      <td>Elective</td>\n",
       "      <td>2021-01-04T18:23:16Z</td>\n",
       "      <td>2021-01-05T07:59:00Z</td>\n",
       "      <td>Location/e-2yRijoQ0PTgRzoeQ.5pcA3</td>\n",
       "      <td>WEST BAY REGION ACUTE CARE SERVICES</td>\n",
       "      <td>eA47CZKxN6KOcnco3KHCLyQ3</td>\n",
       "      <td>2021-01-04 18:23:16+00:00</td>\n",
       "      <td>2021-01-04</td>\n",
       "      <td>2021-01-04</td>\n",
       "      <td>2021-01-05</td>\n",
       "    </tr>\n",
       "    <tr>\n",
       "      <th>92825</th>\n",
       "      <td>465182</td>\n",
       "      <td>encounter</td>\n",
       "      <td>openepic_shared_sutter_health</td>\n",
       "      <td>Encounter</td>\n",
       "      <td>eA47CZKxN6KOcnco3KHCLyQ3</td>\n",
       "      <td>2022-10-09</td>\n",
       "      <td>Patient/e.SVrRpOEXjMrctGI.3bW5w3</td>\n",
       "      <td>Cohn, Allen</td>\n",
       "      <td>usual</td>\n",
       "      <td>urn:oid:1.2.840.114350.1.13.76.2.7.3.698084.8</td>\n",
       "      <td>1073311084</td>\n",
       "      <td>finished</td>\n",
       "      <td>HOV</td>\n",
       "      <td>Outpatient</td>\n",
       "      <td>2021-01-04T18:23:16Z</td>\n",
       "      <td>2021-01-05T07:59:00Z</td>\n",
       "      <td>Location/e-2yRijoQ0PTgRzoeQ.5pcA3</td>\n",
       "      <td>WEST BAY REGION ACUTE CARE SERVICES</td>\n",
       "      <td>eA47CZKxN6KOcnco3KHCLyQ3</td>\n",
       "      <td>2021-01-04 18:23:16+00:00</td>\n",
       "      <td>2021-01-04</td>\n",
       "      <td>2021-01-04</td>\n",
       "      <td>2021-01-05</td>\n",
       "    </tr>\n",
       "    <tr>\n",
       "      <th>181714</th>\n",
       "      <td>465182</td>\n",
       "      <td>encounter</td>\n",
       "      <td>openepic_shared_sutter_health</td>\n",
       "      <td>Encounter</td>\n",
       "      <td>eA47CZKxN6KOcnco3KHCLyQ3</td>\n",
       "      <td>2022-10-09</td>\n",
       "      <td>Patient/e.SVrRpOEXjMrctGI.3bW5w3</td>\n",
       "      <td>Cohn, Allen</td>\n",
       "      <td>usual</td>\n",
       "      <td>urn:oid:1.2.840.114350.1.13.76.2.7.3.698084.8</td>\n",
       "      <td>1073311084</td>\n",
       "      <td>finished</td>\n",
       "      <td>HOV</td>\n",
       "      <td>Hospital Encounter</td>\n",
       "      <td>2021-01-04T18:23:16Z</td>\n",
       "      <td>2021-01-05T07:59:00Z</td>\n",
       "      <td>Location/e-2yRijoQ0PTgRzoeQ.5pcA3</td>\n",
       "      <td>WEST BAY REGION ACUTE CARE SERVICES</td>\n",
       "      <td>eA47CZKxN6KOcnco3KHCLyQ3</td>\n",
       "      <td>2021-01-04 18:23:16+00:00</td>\n",
       "      <td>2021-01-04</td>\n",
       "      <td>2021-01-04</td>\n",
       "      <td>2021-01-05</td>\n",
       "    </tr>\n",
       "    <tr>\n",
       "      <th>181713</th>\n",
       "      <td>465182</td>\n",
       "      <td>encounter</td>\n",
       "      <td>openepic_shared_sutter_health</td>\n",
       "      <td>Encounter</td>\n",
       "      <td>eA47CZKxN6KOcnco3KHCLyQ3</td>\n",
       "      <td>2022-10-09</td>\n",
       "      <td>Patient/e.SVrRpOEXjMrctGI.3bW5w3</td>\n",
       "      <td>Cohn, Allen</td>\n",
       "      <td>usual</td>\n",
       "      <td>urn:oid:1.2.840.114350.1.13.76.2.7.3.698084.8</td>\n",
       "      <td>1073311084</td>\n",
       "      <td>finished</td>\n",
       "      <td>HOV</td>\n",
       "      <td>Lab</td>\n",
       "      <td>2021-01-04T18:23:16Z</td>\n",
       "      <td>2021-01-05T07:59:00Z</td>\n",
       "      <td>Location/e1a3.D7yMzJITc6VMHf.ZfqxJZdF7ph65rctjKOychxo3</td>\n",
       "      <td>CPMC Van Ness Campus Lab Draw Site 2100 Webster</td>\n",
       "      <td>eA47CZKxN6KOcnco3KHCLyQ3</td>\n",
       "      <td>2021-01-04 18:23:16+00:00</td>\n",
       "      <td>2021-01-04</td>\n",
       "      <td>2021-01-04</td>\n",
       "      <td>2021-01-05</td>\n",
       "    </tr>\n",
       "    <tr>\n",
       "      <th>92824</th>\n",
       "      <td>465182</td>\n",
       "      <td>encounter</td>\n",
       "      <td>openepic_shared_sutter_health</td>\n",
       "      <td>Encounter</td>\n",
       "      <td>eA47CZKxN6KOcnco3KHCLyQ3</td>\n",
       "      <td>2022-10-09</td>\n",
       "      <td>Patient/e.SVrRpOEXjMrctGI.3bW5w3</td>\n",
       "      <td>Cohn, Allen</td>\n",
       "      <td>usual</td>\n",
       "      <td>urn:oid:1.2.840.114350.1.13.76.2.7.3.698084.8</td>\n",
       "      <td>1073311084</td>\n",
       "      <td>finished</td>\n",
       "      <td>HOV</td>\n",
       "      <td>Hospital Encounter</td>\n",
       "      <td>2021-01-04T18:23:16Z</td>\n",
       "      <td>2021-01-05T07:59:00Z</td>\n",
       "      <td>Location/e1a3.D7yMzJITc6VMHf.ZfqxJZdF7ph65rctjKOychxo3</td>\n",
       "      <td>CPMC Van Ness Campus Lab Draw Site 2100 Webster</td>\n",
       "      <td>eA47CZKxN6KOcnco3KHCLyQ3</td>\n",
       "      <td>2021-01-04 18:23:16+00:00</td>\n",
       "      <td>2021-01-04</td>\n",
       "      <td>2021-01-04</td>\n",
       "      <td>2021-01-05</td>\n",
       "    </tr>\n",
       "    <tr>\n",
       "      <th>169560</th>\n",
       "      <td>465182</td>\n",
       "      <td>encounter</td>\n",
       "      <td>openepic_shared_sutter_health</td>\n",
       "      <td>Encounter</td>\n",
       "      <td>eVu68Wir4jVDE-mCXTPvevQ3</td>\n",
       "      <td>2022-10-09</td>\n",
       "      <td>Patient/e.SVrRpOEXjMrctGI.3bW5w3</td>\n",
       "      <td>Cohn, Allen</td>\n",
       "      <td>usual</td>\n",
       "      <td>urn:oid:1.2.840.114350.1.13.76.2.7.3.698084.8</td>\n",
       "      <td>1094410342</td>\n",
       "      <td>finished</td>\n",
       "      <td>HOV</td>\n",
       "      <td>Hospital Encounter</td>\n",
       "      <td>2021-04-15T20:04:44Z</td>\n",
       "      <td>2021-04-16T06:59:00Z</td>\n",
       "      <td>Location/e1a3.D7yMzJITc6VMHf.ZfuKPP6VECqzNPgPKNVX0ORo3</td>\n",
       "      <td>CPMC Van Ness Campus Lab Draw Site MOB 1100 Van Ness Avenue</td>\n",
       "      <td>eVu68Wir4jVDE-mCXTPvevQ3</td>\n",
       "      <td>2021-04-15 20:04:44+00:00</td>\n",
       "      <td>2021-04-15</td>\n",
       "      <td>2021-04-15</td>\n",
       "      <td>2021-04-16</td>\n",
       "    </tr>\n",
       "    <tr>\n",
       "      <th>169561</th>\n",
       "      <td>465182</td>\n",
       "      <td>encounter</td>\n",
       "      <td>openepic_shared_sutter_health</td>\n",
       "      <td>Encounter</td>\n",
       "      <td>eVu68Wir4jVDE-mCXTPvevQ3</td>\n",
       "      <td>2022-10-09</td>\n",
       "      <td>Patient/e.SVrRpOEXjMrctGI.3bW5w3</td>\n",
       "      <td>Cohn, Allen</td>\n",
       "      <td>usual</td>\n",
       "      <td>urn:oid:1.2.840.114350.1.13.76.2.7.3.698084.8</td>\n",
       "      <td>1094410342</td>\n",
       "      <td>finished</td>\n",
       "      <td>HOV</td>\n",
       "      <td>Hospital Encounter</td>\n",
       "      <td>2021-04-15T20:04:44Z</td>\n",
       "      <td>2021-04-16T06:59:00Z</td>\n",
       "      <td>Location/e-2yRijoQ0PTgRzoeQ.5pcA3</td>\n",
       "      <td>WEST BAY REGION ACUTE CARE SERVICES</td>\n",
       "      <td>eVu68Wir4jVDE-mCXTPvevQ3</td>\n",
       "      <td>2021-04-15 20:04:44+00:00</td>\n",
       "      <td>2021-04-15</td>\n",
       "      <td>2021-04-15</td>\n",
       "      <td>2021-04-16</td>\n",
       "    </tr>\n",
       "    <tr>\n",
       "      <th>142498</th>\n",
       "      <td>465182</td>\n",
       "      <td>encounter</td>\n",
       "      <td>openepic_shared_sutter_health</td>\n",
       "      <td>Encounter</td>\n",
       "      <td>eVu68Wir4jVDE-mCXTPvevQ3</td>\n",
       "      <td>2022-10-09</td>\n",
       "      <td>Patient/e.SVrRpOEXjMrctGI.3bW5w3</td>\n",
       "      <td>Cohn, Allen</td>\n",
       "      <td>usual</td>\n",
       "      <td>urn:oid:1.2.840.114350.1.13.76.2.7.3.698084.8</td>\n",
       "      <td>1094410342</td>\n",
       "      <td>finished</td>\n",
       "      <td>HOV</td>\n",
       "      <td>Lab</td>\n",
       "      <td>2021-04-15T20:04:44Z</td>\n",
       "      <td>2021-04-16T06:59:00Z</td>\n",
       "      <td>Location/e-2yRijoQ0PTgRzoeQ.5pcA3</td>\n",
       "      <td>WEST BAY REGION ACUTE CARE SERVICES</td>\n",
       "      <td>eVu68Wir4jVDE-mCXTPvevQ3</td>\n",
       "      <td>2021-04-15 20:04:44+00:00</td>\n",
       "      <td>2021-04-15</td>\n",
       "      <td>2021-04-15</td>\n",
       "      <td>2021-04-16</td>\n",
       "    </tr>\n",
       "    <tr>\n",
       "      <th>142497</th>\n",
       "      <td>465182</td>\n",
       "      <td>encounter</td>\n",
       "      <td>openepic_shared_sutter_health</td>\n",
       "      <td>Encounter</td>\n",
       "      <td>eVu68Wir4jVDE-mCXTPvevQ3</td>\n",
       "      <td>2022-10-09</td>\n",
       "      <td>Patient/e.SVrRpOEXjMrctGI.3bW5w3</td>\n",
       "      <td>Cohn, Allen</td>\n",
       "      <td>usual</td>\n",
       "      <td>urn:oid:1.2.840.114350.1.13.76.2.7.3.698084.8</td>\n",
       "      <td>1094410342</td>\n",
       "      <td>finished</td>\n",
       "      <td>HOV</td>\n",
       "      <td>Outpatient</td>\n",
       "      <td>2021-04-15T20:04:44Z</td>\n",
       "      <td>2021-04-16T06:59:00Z</td>\n",
       "      <td>Location/e-2yRijoQ0PTgRzoeQ.5pcA3</td>\n",
       "      <td>WEST BAY REGION ACUTE CARE SERVICES</td>\n",
       "      <td>eVu68Wir4jVDE-mCXTPvevQ3</td>\n",
       "      <td>2021-04-15 20:04:44+00:00</td>\n",
       "      <td>2021-04-15</td>\n",
       "      <td>2021-04-15</td>\n",
       "      <td>2021-04-16</td>\n",
       "    </tr>\n",
       "    <tr>\n",
       "      <th>92823</th>\n",
       "      <td>465182</td>\n",
       "      <td>encounter</td>\n",
       "      <td>openepic_shared_sutter_health</td>\n",
       "      <td>Encounter</td>\n",
       "      <td>eVu68Wir4jVDE-mCXTPvevQ3</td>\n",
       "      <td>2022-10-09</td>\n",
       "      <td>Patient/e.SVrRpOEXjMrctGI.3bW5w3</td>\n",
       "      <td>Cohn, Allen</td>\n",
       "      <td>usual</td>\n",
       "      <td>urn:oid:1.2.840.114350.1.13.76.2.7.3.698084.8</td>\n",
       "      <td>1094410342</td>\n",
       "      <td>finished</td>\n",
       "      <td>HOV</td>\n",
       "      <td>Elective</td>\n",
       "      <td>2021-04-15T20:04:44Z</td>\n",
       "      <td>2021-04-16T06:59:00Z</td>\n",
       "      <td>Location/e-2yRijoQ0PTgRzoeQ.5pcA3</td>\n",
       "      <td>WEST BAY REGION ACUTE CARE SERVICES</td>\n",
       "      <td>eVu68Wir4jVDE-mCXTPvevQ3</td>\n",
       "      <td>2021-04-15 20:04:44+00:00</td>\n",
       "      <td>2021-04-15</td>\n",
       "      <td>2021-04-15</td>\n",
       "      <td>2021-04-16</td>\n",
       "    </tr>\n",
       "    <tr>\n",
       "      <th>92822</th>\n",
       "      <td>465182</td>\n",
       "      <td>encounter</td>\n",
       "      <td>openepic_shared_sutter_health</td>\n",
       "      <td>Encounter</td>\n",
       "      <td>eVu68Wir4jVDE-mCXTPvevQ3</td>\n",
       "      <td>2022-10-09</td>\n",
       "      <td>Patient/e.SVrRpOEXjMrctGI.3bW5w3</td>\n",
       "      <td>Cohn, Allen</td>\n",
       "      <td>usual</td>\n",
       "      <td>urn:oid:1.2.840.114350.1.13.76.2.7.3.698084.8</td>\n",
       "      <td>1094410342</td>\n",
       "      <td>finished</td>\n",
       "      <td>HOV</td>\n",
       "      <td>Lab</td>\n",
       "      <td>2021-04-15T20:04:44Z</td>\n",
       "      <td>2021-04-16T06:59:00Z</td>\n",
       "      <td>Location/e1a3.D7yMzJITc6VMHf.ZfuKPP6VECqzNPgPKNVX0ORo3</td>\n",
       "      <td>CPMC Van Ness Campus Lab Draw Site MOB 1100 Van Ness Avenue</td>\n",
       "      <td>eVu68Wir4jVDE-mCXTPvevQ3</td>\n",
       "      <td>2021-04-15 20:04:44+00:00</td>\n",
       "      <td>2021-04-15</td>\n",
       "      <td>2021-04-15</td>\n",
       "      <td>2021-04-16</td>\n",
       "    </tr>\n",
       "    <tr>\n",
       "      <th>92821</th>\n",
       "      <td>465182</td>\n",
       "      <td>encounter</td>\n",
       "      <td>openepic_shared_sutter_health</td>\n",
       "      <td>Encounter</td>\n",
       "      <td>eVu68Wir4jVDE-mCXTPvevQ3</td>\n",
       "      <td>2022-10-09</td>\n",
       "      <td>Patient/e.SVrRpOEXjMrctGI.3bW5w3</td>\n",
       "      <td>Cohn, Allen</td>\n",
       "      <td>usual</td>\n",
       "      <td>urn:oid:1.2.840.114350.1.13.76.2.7.3.698084.8</td>\n",
       "      <td>1094410342</td>\n",
       "      <td>finished</td>\n",
       "      <td>HOV</td>\n",
       "      <td>Outpatient</td>\n",
       "      <td>2021-04-15T20:04:44Z</td>\n",
       "      <td>2021-04-16T06:59:00Z</td>\n",
       "      <td>Location/e1a3.D7yMzJITc6VMHf.ZfuKPP6VECqzNPgPKNVX0ORo3</td>\n",
       "      <td>CPMC Van Ness Campus Lab Draw Site MOB 1100 Van Ness Avenue</td>\n",
       "      <td>eVu68Wir4jVDE-mCXTPvevQ3</td>\n",
       "      <td>2021-04-15 20:04:44+00:00</td>\n",
       "      <td>2021-04-15</td>\n",
       "      <td>2021-04-15</td>\n",
       "      <td>2021-04-16</td>\n",
       "    </tr>\n",
       "    <tr>\n",
       "      <th>185335</th>\n",
       "      <td>465182</td>\n",
       "      <td>encounter</td>\n",
       "      <td>openepic_shared_sutter_health</td>\n",
       "      <td>Encounter</td>\n",
       "      <td>eVu68Wir4jVDE-mCXTPvevQ3</td>\n",
       "      <td>2022-10-09</td>\n",
       "      <td>Patient/e.SVrRpOEXjMrctGI.3bW5w3</td>\n",
       "      <td>Cohn, Allen</td>\n",
       "      <td>usual</td>\n",
       "      <td>urn:oid:1.2.840.114350.1.13.76.2.7.3.698084.8</td>\n",
       "      <td>1094410342</td>\n",
       "      <td>finished</td>\n",
       "      <td>HOV</td>\n",
       "      <td>Elective</td>\n",
       "      <td>2021-04-15T20:04:44Z</td>\n",
       "      <td>2021-04-16T06:59:00Z</td>\n",
       "      <td>Location/e1a3.D7yMzJITc6VMHf.ZfuKPP6VECqzNPgPKNVX0ORo3</td>\n",
       "      <td>CPMC Van Ness Campus Lab Draw Site MOB 1100 Van Ness Avenue</td>\n",
       "      <td>eVu68Wir4jVDE-mCXTPvevQ3</td>\n",
       "      <td>2021-04-15 20:04:44+00:00</td>\n",
       "      <td>2021-04-15</td>\n",
       "      <td>2021-04-15</td>\n",
       "      <td>2021-04-16</td>\n",
       "    </tr>\n",
       "    <tr>\n",
       "      <th>185334</th>\n",
       "      <td>465182</td>\n",
       "      <td>encounter</td>\n",
       "      <td>openepic_shared_sutter_health</td>\n",
       "      <td>Encounter</td>\n",
       "      <td>eL-xWD2u-robzftIMdAbJxg3</td>\n",
       "      <td>2022-10-09</td>\n",
       "      <td>Patient/e.SVrRpOEXjMrctGI.3bW5w3</td>\n",
       "      <td>Cohn, Allen</td>\n",
       "      <td>usual</td>\n",
       "      <td>urn:oid:1.2.840.114350.1.13.76.2.7.3.698084.8</td>\n",
       "      <td>1093828500</td>\n",
       "      <td>finished</td>\n",
       "      <td>HOV</td>\n",
       "      <td>Hospital Encounter</td>\n",
       "      <td>2021-04-19T16:47:31Z</td>\n",
       "      <td>2021-04-20T06:59:00Z</td>\n",
       "      <td>Location/egKeHLVY3ulbxQxSwbF0iiwfUMlmgT73oxSpVjd7uGLs3</td>\n",
       "      <td>CPMC Mission Bernal Campus Pulmonary Function Lab</td>\n",
       "      <td>eL-xWD2u-robzftIMdAbJxg3</td>\n",
       "      <td>2021-04-19 16:47:31+00:00</td>\n",
       "      <td>2021-04-19</td>\n",
       "      <td>2021-04-19</td>\n",
       "      <td>2021-04-20</td>\n",
       "    </tr>\n",
       "    <tr>\n",
       "      <th>92820</th>\n",
       "      <td>465182</td>\n",
       "      <td>encounter</td>\n",
       "      <td>openepic_shared_sutter_health</td>\n",
       "      <td>Encounter</td>\n",
       "      <td>eL-xWD2u-robzftIMdAbJxg3</td>\n",
       "      <td>2022-10-09</td>\n",
       "      <td>Patient/e.SVrRpOEXjMrctGI.3bW5w3</td>\n",
       "      <td>Cohn, Allen</td>\n",
       "      <td>usual</td>\n",
       "      <td>urn:oid:1.2.840.114350.1.13.76.2.7.3.698084.8</td>\n",
       "      <td>1093828500</td>\n",
       "      <td>finished</td>\n",
       "      <td>HOV</td>\n",
       "      <td>Elective</td>\n",
       "      <td>2021-04-19T16:47:31Z</td>\n",
       "      <td>2021-04-20T06:59:00Z</td>\n",
       "      <td>Location/e-2yRijoQ0PTgRzoeQ.5pcA3</td>\n",
       "      <td>WEST BAY REGION ACUTE CARE SERVICES</td>\n",
       "      <td>eL-xWD2u-robzftIMdAbJxg3</td>\n",
       "      <td>2021-04-19 16:47:31+00:00</td>\n",
       "      <td>2021-04-19</td>\n",
       "      <td>2021-04-19</td>\n",
       "      <td>2021-04-20</td>\n",
       "    </tr>\n",
       "    <tr>\n",
       "      <th>181711</th>\n",
       "      <td>465182</td>\n",
       "      <td>encounter</td>\n",
       "      <td>openepic_shared_sutter_health</td>\n",
       "      <td>Encounter</td>\n",
       "      <td>eL-xWD2u-robzftIMdAbJxg3</td>\n",
       "      <td>2022-10-09</td>\n",
       "      <td>Patient/e.SVrRpOEXjMrctGI.3bW5w3</td>\n",
       "      <td>Cohn, Allen</td>\n",
       "      <td>usual</td>\n",
       "      <td>urn:oid:1.2.840.114350.1.13.76.2.7.3.698084.8</td>\n",
       "      <td>1093828500</td>\n",
       "      <td>finished</td>\n",
       "      <td>HOV</td>\n",
       "      <td>Pft With Bd</td>\n",
       "      <td>2021-04-19T16:47:31Z</td>\n",
       "      <td>2021-04-20T06:59:00Z</td>\n",
       "      <td>Location/egKeHLVY3ulbxQxSwbF0iiwfUMlmgT73oxSpVjd7uGLs3</td>\n",
       "      <td>CPMC Mission Bernal Campus Pulmonary Function Lab</td>\n",
       "      <td>eL-xWD2u-robzftIMdAbJxg3</td>\n",
       "      <td>2021-04-19 16:47:31+00:00</td>\n",
       "      <td>2021-04-19</td>\n",
       "      <td>2021-04-19</td>\n",
       "      <td>2021-04-20</td>\n",
       "    </tr>\n",
       "    <tr>\n",
       "      <th>181712</th>\n",
       "      <td>465182</td>\n",
       "      <td>encounter</td>\n",
       "      <td>openepic_shared_sutter_health</td>\n",
       "      <td>Encounter</td>\n",
       "      <td>eL-xWD2u-robzftIMdAbJxg3</td>\n",
       "      <td>2022-10-09</td>\n",
       "      <td>Patient/e.SVrRpOEXjMrctGI.3bW5w3</td>\n",
       "      <td>Cohn, Allen</td>\n",
       "      <td>usual</td>\n",
       "      <td>urn:oid:1.2.840.114350.1.13.76.2.7.3.698084.8</td>\n",
       "      <td>1093828500</td>\n",
       "      <td>finished</td>\n",
       "      <td>HOV</td>\n",
       "      <td>Elective</td>\n",
       "      <td>2021-04-19T16:47:31Z</td>\n",
       "      <td>2021-04-20T06:59:00Z</td>\n",
       "      <td>Location/egKeHLVY3ulbxQxSwbF0iiwfUMlmgT73oxSpVjd7uGLs3</td>\n",
       "      <td>CPMC Mission Bernal Campus Pulmonary Function Lab</td>\n",
       "      <td>eL-xWD2u-robzftIMdAbJxg3</td>\n",
       "      <td>2021-04-19 16:47:31+00:00</td>\n",
       "      <td>2021-04-19</td>\n",
       "      <td>2021-04-19</td>\n",
       "      <td>2021-04-20</td>\n",
       "    </tr>\n",
       "    <tr>\n",
       "      <th>81809</th>\n",
       "      <td>465182</td>\n",
       "      <td>encounter</td>\n",
       "      <td>openepic_shared_sutter_health</td>\n",
       "      <td>Encounter</td>\n",
       "      <td>eL-xWD2u-robzftIMdAbJxg3</td>\n",
       "      <td>2022-10-09</td>\n",
       "      <td>Patient/e.SVrRpOEXjMrctGI.3bW5w3</td>\n",
       "      <td>Cohn, Allen</td>\n",
       "      <td>usual</td>\n",
       "      <td>urn:oid:1.2.840.114350.1.13.76.2.7.3.698084.8</td>\n",
       "      <td>1093828500</td>\n",
       "      <td>finished</td>\n",
       "      <td>HOV</td>\n",
       "      <td>Outpatient</td>\n",
       "      <td>2021-04-19T16:47:31Z</td>\n",
       "      <td>2021-04-20T06:59:00Z</td>\n",
       "      <td>Location/egKeHLVY3ulbxQxSwbF0iiwfUMlmgT73oxSpVjd7uGLs3</td>\n",
       "      <td>CPMC Mission Bernal Campus Pulmonary Function Lab</td>\n",
       "      <td>eL-xWD2u-robzftIMdAbJxg3</td>\n",
       "      <td>2021-04-19 16:47:31+00:00</td>\n",
       "      <td>2021-04-19</td>\n",
       "      <td>2021-04-19</td>\n",
       "      <td>2021-04-20</td>\n",
       "    </tr>\n",
       "    <tr>\n",
       "      <th>81810</th>\n",
       "      <td>465182</td>\n",
       "      <td>encounter</td>\n",
       "      <td>openepic_shared_sutter_health</td>\n",
       "      <td>Encounter</td>\n",
       "      <td>eL-xWD2u-robzftIMdAbJxg3</td>\n",
       "      <td>2022-10-09</td>\n",
       "      <td>Patient/e.SVrRpOEXjMrctGI.3bW5w3</td>\n",
       "      <td>Cohn, Allen</td>\n",
       "      <td>usual</td>\n",
       "      <td>urn:oid:1.2.840.114350.1.13.76.2.7.3.698084.8</td>\n",
       "      <td>1093828500</td>\n",
       "      <td>finished</td>\n",
       "      <td>HOV</td>\n",
       "      <td>Hospital Encounter</td>\n",
       "      <td>2021-04-19T16:47:31Z</td>\n",
       "      <td>2021-04-20T06:59:00Z</td>\n",
       "      <td>Location/e-2yRijoQ0PTgRzoeQ.5pcA3</td>\n",
       "      <td>WEST BAY REGION ACUTE CARE SERVICES</td>\n",
       "      <td>eL-xWD2u-robzftIMdAbJxg3</td>\n",
       "      <td>2021-04-19 16:47:31+00:00</td>\n",
       "      <td>2021-04-19</td>\n",
       "      <td>2021-04-19</td>\n",
       "      <td>2021-04-20</td>\n",
       "    </tr>\n",
       "    <tr>\n",
       "      <th>100974</th>\n",
       "      <td>465182</td>\n",
       "      <td>encounter</td>\n",
       "      <td>openepic_shared_sutter_health</td>\n",
       "      <td>Encounter</td>\n",
       "      <td>eL-xWD2u-robzftIMdAbJxg3</td>\n",
       "      <td>2022-10-09</td>\n",
       "      <td>Patient/e.SVrRpOEXjMrctGI.3bW5w3</td>\n",
       "      <td>Cohn, Allen</td>\n",
       "      <td>usual</td>\n",
       "      <td>urn:oid:1.2.840.114350.1.13.76.2.7.3.698084.8</td>\n",
       "      <td>1093828500</td>\n",
       "      <td>finished</td>\n",
       "      <td>HOV</td>\n",
       "      <td>Pft With Bd</td>\n",
       "      <td>2021-04-19T16:47:31Z</td>\n",
       "      <td>2021-04-20T06:59:00Z</td>\n",
       "      <td>Location/e-2yRijoQ0PTgRzoeQ.5pcA3</td>\n",
       "      <td>WEST BAY REGION ACUTE CARE SERVICES</td>\n",
       "      <td>eL-xWD2u-robzftIMdAbJxg3</td>\n",
       "      <td>2021-04-19 16:47:31+00:00</td>\n",
       "      <td>2021-04-19</td>\n",
       "      <td>2021-04-19</td>\n",
       "      <td>2021-04-20</td>\n",
       "    </tr>\n",
       "    <tr>\n",
       "      <th>100973</th>\n",
       "      <td>465182</td>\n",
       "      <td>encounter</td>\n",
       "      <td>openepic_shared_sutter_health</td>\n",
       "      <td>Encounter</td>\n",
       "      <td>eL-xWD2u-robzftIMdAbJxg3</td>\n",
       "      <td>2022-10-09</td>\n",
       "      <td>Patient/e.SVrRpOEXjMrctGI.3bW5w3</td>\n",
       "      <td>Cohn, Allen</td>\n",
       "      <td>usual</td>\n",
       "      <td>urn:oid:1.2.840.114350.1.13.76.2.7.3.698084.8</td>\n",
       "      <td>1093828500</td>\n",
       "      <td>finished</td>\n",
       "      <td>HOV</td>\n",
       "      <td>Outpatient</td>\n",
       "      <td>2021-04-19T16:47:31Z</td>\n",
       "      <td>2021-04-20T06:59:00Z</td>\n",
       "      <td>Location/e-2yRijoQ0PTgRzoeQ.5pcA3</td>\n",
       "      <td>WEST BAY REGION ACUTE CARE SERVICES</td>\n",
       "      <td>eL-xWD2u-robzftIMdAbJxg3</td>\n",
       "      <td>2021-04-19 16:47:31+00:00</td>\n",
       "      <td>2021-04-19</td>\n",
       "      <td>2021-04-19</td>\n",
       "      <td>2021-04-20</td>\n",
       "    </tr>\n",
       "    <tr>\n",
       "      <th>92818</th>\n",
       "      <td>465182</td>\n",
       "      <td>encounter</td>\n",
       "      <td>openepic_shared_sutter_health</td>\n",
       "      <td>Encounter</td>\n",
       "      <td>e6Mx.R6h2UiUewW6WQGggzA3</td>\n",
       "      <td>2022-10-09</td>\n",
       "      <td>Patient/e.SVrRpOEXjMrctGI.3bW5w3</td>\n",
       "      <td>Cohn, Allen</td>\n",
       "      <td>usual</td>\n",
       "      <td>urn:oid:1.2.840.114350.1.13.76.2.7.3.698084.8</td>\n",
       "      <td>1105275942</td>\n",
       "      <td>finished</td>\n",
       "      <td>HOV</td>\n",
       "      <td>Lab</td>\n",
       "      <td>2021-06-11T23:03:18Z</td>\n",
       "      <td>2021-06-12T06:59:00Z</td>\n",
       "      <td>Location/e1a3.D7yMzJITc6VMHf.ZfuKPP6VECqzNPgPKNVX0ORo3</td>\n",
       "      <td>CPMC Van Ness Campus Lab Draw Site MOB 1100 Van Ness Avenue</td>\n",
       "      <td>e6Mx.R6h2UiUewW6WQGggzA3</td>\n",
       "      <td>2021-06-11 23:03:18+00:00</td>\n",
       "      <td>2021-06-11</td>\n",
       "      <td>2021-06-11</td>\n",
       "      <td>2021-06-12</td>\n",
       "    </tr>\n",
       "    <tr>\n",
       "      <th>169559</th>\n",
       "      <td>465182</td>\n",
       "      <td>encounter</td>\n",
       "      <td>openepic_shared_sutter_health</td>\n",
       "      <td>Encounter</td>\n",
       "      <td>e6Mx.R6h2UiUewW6WQGggzA3</td>\n",
       "      <td>2022-10-09</td>\n",
       "      <td>Patient/e.SVrRpOEXjMrctGI.3bW5w3</td>\n",
       "      <td>Cohn, Allen</td>\n",
       "      <td>usual</td>\n",
       "      <td>urn:oid:1.2.840.114350.1.13.76.2.7.3.698084.8</td>\n",
       "      <td>1105275942</td>\n",
       "      <td>finished</td>\n",
       "      <td>HOV</td>\n",
       "      <td>Outpatient</td>\n",
       "      <td>2021-06-11T23:03:18Z</td>\n",
       "      <td>2021-06-12T06:59:00Z</td>\n",
       "      <td>Location/e-2yRijoQ0PTgRzoeQ.5pcA3</td>\n",
       "      <td>WEST BAY REGION ACUTE CARE SERVICES</td>\n",
       "      <td>e6Mx.R6h2UiUewW6WQGggzA3</td>\n",
       "      <td>2021-06-11 23:03:18+00:00</td>\n",
       "      <td>2021-06-11</td>\n",
       "      <td>2021-06-11</td>\n",
       "      <td>2021-06-12</td>\n",
       "    </tr>\n",
       "    <tr>\n",
       "      <th>185333</th>\n",
       "      <td>465182</td>\n",
       "      <td>encounter</td>\n",
       "      <td>openepic_shared_sutter_health</td>\n",
       "      <td>Encounter</td>\n",
       "      <td>e6Mx.R6h2UiUewW6WQGggzA3</td>\n",
       "      <td>2022-10-09</td>\n",
       "      <td>Patient/e.SVrRpOEXjMrctGI.3bW5w3</td>\n",
       "      <td>Cohn, Allen</td>\n",
       "      <td>usual</td>\n",
       "      <td>urn:oid:1.2.840.114350.1.13.76.2.7.3.698084.8</td>\n",
       "      <td>1105275942</td>\n",
       "      <td>finished</td>\n",
       "      <td>HOV</td>\n",
       "      <td>Elective</td>\n",
       "      <td>2021-06-11T23:03:18Z</td>\n",
       "      <td>2021-06-12T06:59:00Z</td>\n",
       "      <td>Location/e1a3.D7yMzJITc6VMHf.ZfuKPP6VECqzNPgPKNVX0ORo3</td>\n",
       "      <td>CPMC Van Ness Campus Lab Draw Site MOB 1100 Van Ness Avenue</td>\n",
       "      <td>e6Mx.R6h2UiUewW6WQGggzA3</td>\n",
       "      <td>2021-06-11 23:03:18+00:00</td>\n",
       "      <td>2021-06-11</td>\n",
       "      <td>2021-06-11</td>\n",
       "      <td>2021-06-12</td>\n",
       "    </tr>\n",
       "    <tr>\n",
       "      <th>142496</th>\n",
       "      <td>465182</td>\n",
       "      <td>encounter</td>\n",
       "      <td>openepic_shared_sutter_health</td>\n",
       "      <td>Encounter</td>\n",
       "      <td>e6Mx.R6h2UiUewW6WQGggzA3</td>\n",
       "      <td>2022-10-09</td>\n",
       "      <td>Patient/e.SVrRpOEXjMrctGI.3bW5w3</td>\n",
       "      <td>Cohn, Allen</td>\n",
       "      <td>usual</td>\n",
       "      <td>urn:oid:1.2.840.114350.1.13.76.2.7.3.698084.8</td>\n",
       "      <td>1105275942</td>\n",
       "      <td>finished</td>\n",
       "      <td>HOV</td>\n",
       "      <td>Lab</td>\n",
       "      <td>2021-06-11T23:03:18Z</td>\n",
       "      <td>2021-06-12T06:59:00Z</td>\n",
       "      <td>Location/e-2yRijoQ0PTgRzoeQ.5pcA3</td>\n",
       "      <td>WEST BAY REGION ACUTE CARE SERVICES</td>\n",
       "      <td>e6Mx.R6h2UiUewW6WQGggzA3</td>\n",
       "      <td>2021-06-11 23:03:18+00:00</td>\n",
       "      <td>2021-06-11</td>\n",
       "      <td>2021-06-11</td>\n",
       "      <td>2021-06-12</td>\n",
       "    </tr>\n",
       "    <tr>\n",
       "      <th>100972</th>\n",
       "      <td>465182</td>\n",
       "      <td>encounter</td>\n",
       "      <td>openepic_shared_sutter_health</td>\n",
       "      <td>Encounter</td>\n",
       "      <td>e6Mx.R6h2UiUewW6WQGggzA3</td>\n",
       "      <td>2022-10-09</td>\n",
       "      <td>Patient/e.SVrRpOEXjMrctGI.3bW5w3</td>\n",
       "      <td>Cohn, Allen</td>\n",
       "      <td>usual</td>\n",
       "      <td>urn:oid:1.2.840.114350.1.13.76.2.7.3.698084.8</td>\n",
       "      <td>1105275942</td>\n",
       "      <td>finished</td>\n",
       "      <td>HOV</td>\n",
       "      <td>Hospital Encounter</td>\n",
       "      <td>2021-06-11T23:03:18Z</td>\n",
       "      <td>2021-06-12T06:59:00Z</td>\n",
       "      <td>Location/e1a3.D7yMzJITc6VMHf.ZfuKPP6VECqzNPgPKNVX0ORo3</td>\n",
       "      <td>CPMC Van Ness Campus Lab Draw Site MOB 1100 Van Ness Avenue</td>\n",
       "      <td>e6Mx.R6h2UiUewW6WQGggzA3</td>\n",
       "      <td>2021-06-11 23:03:18+00:00</td>\n",
       "      <td>2021-06-11</td>\n",
       "      <td>2021-06-11</td>\n",
       "      <td>2021-06-12</td>\n",
       "    </tr>\n",
       "    <tr>\n",
       "      <th>181624</th>\n",
       "      <td>465182</td>\n",
       "      <td>encounter</td>\n",
       "      <td>openepic_shared_sutter_health</td>\n",
       "      <td>Encounter</td>\n",
       "      <td>e6Mx.R6h2UiUewW6WQGggzA3</td>\n",
       "      <td>2022-10-09</td>\n",
       "      <td>Patient/e.SVrRpOEXjMrctGI.3bW5w3</td>\n",
       "      <td>Cohn, Allen</td>\n",
       "      <td>usual</td>\n",
       "      <td>urn:oid:1.2.840.114350.1.13.76.2.7.3.698084.8</td>\n",
       "      <td>1105275942</td>\n",
       "      <td>finished</td>\n",
       "      <td>HOV</td>\n",
       "      <td>Outpatient</td>\n",
       "      <td>2021-06-11T23:03:18Z</td>\n",
       "      <td>2021-06-12T06:59:00Z</td>\n",
       "      <td>Location/e1a3.D7yMzJITc6VMHf.ZfuKPP6VECqzNPgPKNVX0ORo3</td>\n",
       "      <td>CPMC Van Ness Campus Lab Draw Site MOB 1100 Van Ness Avenue</td>\n",
       "      <td>e6Mx.R6h2UiUewW6WQGggzA3</td>\n",
       "      <td>2021-06-11 23:03:18+00:00</td>\n",
       "      <td>2021-06-11</td>\n",
       "      <td>2021-06-11</td>\n",
       "      <td>2021-06-12</td>\n",
       "    </tr>\n",
       "    <tr>\n",
       "      <th>92819</th>\n",
       "      <td>465182</td>\n",
       "      <td>encounter</td>\n",
       "      <td>openepic_shared_sutter_health</td>\n",
       "      <td>Encounter</td>\n",
       "      <td>e6Mx.R6h2UiUewW6WQGggzA3</td>\n",
       "      <td>2022-10-09</td>\n",
       "      <td>Patient/e.SVrRpOEXjMrctGI.3bW5w3</td>\n",
       "      <td>Cohn, Allen</td>\n",
       "      <td>usual</td>\n",
       "      <td>urn:oid:1.2.840.114350.1.13.76.2.7.3.698084.8</td>\n",
       "      <td>1105275942</td>\n",
       "      <td>finished</td>\n",
       "      <td>HOV</td>\n",
       "      <td>Elective</td>\n",
       "      <td>2021-06-11T23:03:18Z</td>\n",
       "      <td>2021-06-12T06:59:00Z</td>\n",
       "      <td>Location/e-2yRijoQ0PTgRzoeQ.5pcA3</td>\n",
       "      <td>WEST BAY REGION ACUTE CARE SERVICES</td>\n",
       "      <td>e6Mx.R6h2UiUewW6WQGggzA3</td>\n",
       "      <td>2021-06-11 23:03:18+00:00</td>\n",
       "      <td>2021-06-11</td>\n",
       "      <td>2021-06-11</td>\n",
       "      <td>2021-06-12</td>\n",
       "    </tr>\n",
       "    <tr>\n",
       "      <th>181625</th>\n",
       "      <td>465182</td>\n",
       "      <td>encounter</td>\n",
       "      <td>openepic_shared_sutter_health</td>\n",
       "      <td>Encounter</td>\n",
       "      <td>e6Mx.R6h2UiUewW6WQGggzA3</td>\n",
       "      <td>2022-10-09</td>\n",
       "      <td>Patient/e.SVrRpOEXjMrctGI.3bW5w3</td>\n",
       "      <td>Cohn, Allen</td>\n",
       "      <td>usual</td>\n",
       "      <td>urn:oid:1.2.840.114350.1.13.76.2.7.3.698084.8</td>\n",
       "      <td>1105275942</td>\n",
       "      <td>finished</td>\n",
       "      <td>HOV</td>\n",
       "      <td>Hospital Encounter</td>\n",
       "      <td>2021-06-11T23:03:18Z</td>\n",
       "      <td>2021-06-12T06:59:00Z</td>\n",
       "      <td>Location/e-2yRijoQ0PTgRzoeQ.5pcA3</td>\n",
       "      <td>WEST BAY REGION ACUTE CARE SERVICES</td>\n",
       "      <td>e6Mx.R6h2UiUewW6WQGggzA3</td>\n",
       "      <td>2021-06-11 23:03:18+00:00</td>\n",
       "      <td>2021-06-11</td>\n",
       "      <td>2021-06-11</td>\n",
       "      <td>2021-06-12</td>\n",
       "    </tr>\n",
       "    <tr>\n",
       "      <th>81807</th>\n",
       "      <td>465182</td>\n",
       "      <td>encounter</td>\n",
       "      <td>openepic_shared_sutter_health</td>\n",
       "      <td>Encounter</td>\n",
       "      <td>eF-elTwbXU7J3JUpROp1I0Q3</td>\n",
       "      <td>2022-10-09</td>\n",
       "      <td>Patient/e.SVrRpOEXjMrctGI.3bW5w3</td>\n",
       "      <td>Cohn, Allen</td>\n",
       "      <td>usual</td>\n",
       "      <td>urn:oid:1.2.840.114350.1.13.76.2.7.3.698084.8</td>\n",
       "      <td>1106100786</td>\n",
       "      <td>finished</td>\n",
       "      <td>HOV</td>\n",
       "      <td>Elective</td>\n",
       "      <td>2021-06-18T21:48:35Z</td>\n",
       "      <td>2021-06-19T06:59:00Z</td>\n",
       "      <td>Location/e9.T1n-AhKdL5kUkKgW1XGIGuRxtzT32Sby5otR3Szs43</td>\n",
       "      <td>CPMC Davies Campus Cardio Services Echo EKG</td>\n",
       "      <td>eF-elTwbXU7J3JUpROp1I0Q3</td>\n",
       "      <td>2021-06-18 21:48:35+00:00</td>\n",
       "      <td>2021-06-18</td>\n",
       "      <td>2021-06-18</td>\n",
       "      <td>2021-06-19</td>\n",
       "    </tr>\n",
       "    <tr>\n",
       "      <th>92817</th>\n",
       "      <td>465182</td>\n",
       "      <td>encounter</td>\n",
       "      <td>openepic_shared_sutter_health</td>\n",
       "      <td>Encounter</td>\n",
       "      <td>eF-elTwbXU7J3JUpROp1I0Q3</td>\n",
       "      <td>2022-10-09</td>\n",
       "      <td>Patient/e.SVrRpOEXjMrctGI.3bW5w3</td>\n",
       "      <td>Cohn, Allen</td>\n",
       "      <td>usual</td>\n",
       "      <td>urn:oid:1.2.840.114350.1.13.76.2.7.3.698084.8</td>\n",
       "      <td>1106100786</td>\n",
       "      <td>finished</td>\n",
       "      <td>HOV</td>\n",
       "      <td>Elective</td>\n",
       "      <td>2021-06-18T21:48:35Z</td>\n",
       "      <td>2021-06-19T06:59:00Z</td>\n",
       "      <td>Location/e-2yRijoQ0PTgRzoeQ.5pcA3</td>\n",
       "      <td>WEST BAY REGION ACUTE CARE SERVICES</td>\n",
       "      <td>eF-elTwbXU7J3JUpROp1I0Q3</td>\n",
       "      <td>2021-06-18 21:48:35+00:00</td>\n",
       "      <td>2021-06-18</td>\n",
       "      <td>2021-06-18</td>\n",
       "      <td>2021-06-19</td>\n",
       "    </tr>\n",
       "    <tr>\n",
       "      <th>168403</th>\n",
       "      <td>465182</td>\n",
       "      <td>encounter</td>\n",
       "      <td>openepic_shared_sutter_health</td>\n",
       "      <td>Encounter</td>\n",
       "      <td>eF-elTwbXU7J3JUpROp1I0Q3</td>\n",
       "      <td>2022-10-09</td>\n",
       "      <td>Patient/e.SVrRpOEXjMrctGI.3bW5w3</td>\n",
       "      <td>Cohn, Allen</td>\n",
       "      <td>usual</td>\n",
       "      <td>urn:oid:1.2.840.114350.1.13.76.2.7.3.698084.8</td>\n",
       "      <td>1106100786</td>\n",
       "      <td>finished</td>\n",
       "      <td>HOV</td>\n",
       "      <td>Outpatient</td>\n",
       "      <td>2021-06-18T21:48:35Z</td>\n",
       "      <td>2021-06-19T06:59:00Z</td>\n",
       "      <td>Location/e9.T1n-AhKdL5kUkKgW1XGIGuRxtzT32Sby5otR3Szs43</td>\n",
       "      <td>CPMC Davies Campus Cardio Services Echo EKG</td>\n",
       "      <td>eF-elTwbXU7J3JUpROp1I0Q3</td>\n",
       "      <td>2021-06-18 21:48:35+00:00</td>\n",
       "      <td>2021-06-18</td>\n",
       "      <td>2021-06-18</td>\n",
       "      <td>2021-06-19</td>\n",
       "    </tr>\n",
       "    <tr>\n",
       "      <th>81808</th>\n",
       "      <td>465182</td>\n",
       "      <td>encounter</td>\n",
       "      <td>openepic_shared_sutter_health</td>\n",
       "      <td>Encounter</td>\n",
       "      <td>eF-elTwbXU7J3JUpROp1I0Q3</td>\n",
       "      <td>2022-10-09</td>\n",
       "      <td>Patient/e.SVrRpOEXjMrctGI.3bW5w3</td>\n",
       "      <td>Cohn, Allen</td>\n",
       "      <td>usual</td>\n",
       "      <td>urn:oid:1.2.840.114350.1.13.76.2.7.3.698084.8</td>\n",
       "      <td>1106100786</td>\n",
       "      <td>finished</td>\n",
       "      <td>HOV</td>\n",
       "      <td>Hospital Encounter</td>\n",
       "      <td>2021-06-18T21:48:35Z</td>\n",
       "      <td>2021-06-19T06:59:00Z</td>\n",
       "      <td>Location/e-2yRijoQ0PTgRzoeQ.5pcA3</td>\n",
       "      <td>WEST BAY REGION ACUTE CARE SERVICES</td>\n",
       "      <td>eF-elTwbXU7J3JUpROp1I0Q3</td>\n",
       "      <td>2021-06-18 21:48:35+00:00</td>\n",
       "      <td>2021-06-18</td>\n",
       "      <td>2021-06-18</td>\n",
       "      <td>2021-06-19</td>\n",
       "    </tr>\n",
       "    <tr>\n",
       "      <th>169360</th>\n",
       "      <td>465182</td>\n",
       "      <td>encounter</td>\n",
       "      <td>openepic_shared_sutter_health</td>\n",
       "      <td>Encounter</td>\n",
       "      <td>eF-elTwbXU7J3JUpROp1I0Q3</td>\n",
       "      <td>2022-10-09</td>\n",
       "      <td>Patient/e.SVrRpOEXjMrctGI.3bW5w3</td>\n",
       "      <td>Cohn, Allen</td>\n",
       "      <td>usual</td>\n",
       "      <td>urn:oid:1.2.840.114350.1.13.76.2.7.3.698084.8</td>\n",
       "      <td>1106100786</td>\n",
       "      <td>finished</td>\n",
       "      <td>HOV</td>\n",
       "      <td>Outpatient</td>\n",
       "      <td>2021-06-18T21:48:35Z</td>\n",
       "      <td>2021-06-19T06:59:00Z</td>\n",
       "      <td>Location/e-2yRijoQ0PTgRzoeQ.5pcA3</td>\n",
       "      <td>WEST BAY REGION ACUTE CARE SERVICES</td>\n",
       "      <td>eF-elTwbXU7J3JUpROp1I0Q3</td>\n",
       "      <td>2021-06-18 21:48:35+00:00</td>\n",
       "      <td>2021-06-18</td>\n",
       "      <td>2021-06-18</td>\n",
       "      <td>2021-06-19</td>\n",
       "    </tr>\n",
       "    <tr>\n",
       "      <th>185332</th>\n",
       "      <td>465182</td>\n",
       "      <td>encounter</td>\n",
       "      <td>openepic_shared_sutter_health</td>\n",
       "      <td>Encounter</td>\n",
       "      <td>eF-elTwbXU7J3JUpROp1I0Q3</td>\n",
       "      <td>2022-10-09</td>\n",
       "      <td>Patient/e.SVrRpOEXjMrctGI.3bW5w3</td>\n",
       "      <td>Cohn, Allen</td>\n",
       "      <td>usual</td>\n",
       "      <td>urn:oid:1.2.840.114350.1.13.76.2.7.3.698084.8</td>\n",
       "      <td>1106100786</td>\n",
       "      <td>finished</td>\n",
       "      <td>HOV</td>\n",
       "      <td>Transthoracic Echo W Doppler</td>\n",
       "      <td>2021-06-18T21:48:35Z</td>\n",
       "      <td>2021-06-19T06:59:00Z</td>\n",
       "      <td>Location/e9.T1n-AhKdL5kUkKgW1XGIGuRxtzT32Sby5otR3Szs43</td>\n",
       "      <td>CPMC Davies Campus Cardio Services Echo EKG</td>\n",
       "      <td>eF-elTwbXU7J3JUpROp1I0Q3</td>\n",
       "      <td>2021-06-18 21:48:35+00:00</td>\n",
       "      <td>2021-06-18</td>\n",
       "      <td>2021-06-18</td>\n",
       "      <td>2021-06-19</td>\n",
       "    </tr>\n",
       "    <tr>\n",
       "      <th>100971</th>\n",
       "      <td>465182</td>\n",
       "      <td>encounter</td>\n",
       "      <td>openepic_shared_sutter_health</td>\n",
       "      <td>Encounter</td>\n",
       "      <td>eF-elTwbXU7J3JUpROp1I0Q3</td>\n",
       "      <td>2022-10-09</td>\n",
       "      <td>Patient/e.SVrRpOEXjMrctGI.3bW5w3</td>\n",
       "      <td>Cohn, Allen</td>\n",
       "      <td>usual</td>\n",
       "      <td>urn:oid:1.2.840.114350.1.13.76.2.7.3.698084.8</td>\n",
       "      <td>1106100786</td>\n",
       "      <td>finished</td>\n",
       "      <td>HOV</td>\n",
       "      <td>Transthoracic Echo W Doppler</td>\n",
       "      <td>2021-06-18T21:48:35Z</td>\n",
       "      <td>2021-06-19T06:59:00Z</td>\n",
       "      <td>Location/e-2yRijoQ0PTgRzoeQ.5pcA3</td>\n",
       "      <td>WEST BAY REGION ACUTE CARE SERVICES</td>\n",
       "      <td>eF-elTwbXU7J3JUpROp1I0Q3</td>\n",
       "      <td>2021-06-18 21:48:35+00:00</td>\n",
       "      <td>2021-06-18</td>\n",
       "      <td>2021-06-18</td>\n",
       "      <td>2021-06-19</td>\n",
       "    </tr>\n",
       "    <tr>\n",
       "      <th>185331</th>\n",
       "      <td>465182</td>\n",
       "      <td>encounter</td>\n",
       "      <td>openepic_shared_sutter_health</td>\n",
       "      <td>Encounter</td>\n",
       "      <td>eF-elTwbXU7J3JUpROp1I0Q3</td>\n",
       "      <td>2022-10-09</td>\n",
       "      <td>Patient/e.SVrRpOEXjMrctGI.3bW5w3</td>\n",
       "      <td>Cohn, Allen</td>\n",
       "      <td>usual</td>\n",
       "      <td>urn:oid:1.2.840.114350.1.13.76.2.7.3.698084.8</td>\n",
       "      <td>1106100786</td>\n",
       "      <td>finished</td>\n",
       "      <td>HOV</td>\n",
       "      <td>Hospital Encounter</td>\n",
       "      <td>2021-06-18T21:48:35Z</td>\n",
       "      <td>2021-06-19T06:59:00Z</td>\n",
       "      <td>Location/e9.T1n-AhKdL5kUkKgW1XGIGuRxtzT32Sby5otR3Szs43</td>\n",
       "      <td>CPMC Davies Campus Cardio Services Echo EKG</td>\n",
       "      <td>eF-elTwbXU7J3JUpROp1I0Q3</td>\n",
       "      <td>2021-06-18 21:48:35+00:00</td>\n",
       "      <td>2021-06-18</td>\n",
       "      <td>2021-06-18</td>\n",
       "      <td>2021-06-19</td>\n",
       "    </tr>\n",
       "    <tr>\n",
       "      <th>92816</th>\n",
       "      <td>465182</td>\n",
       "      <td>encounter</td>\n",
       "      <td>openepic_shared_sutter_health</td>\n",
       "      <td>Encounter</td>\n",
       "      <td>eKW.qa9FCenjDi7W1MgSbpw3</td>\n",
       "      <td>2022-10-09</td>\n",
       "      <td>Patient/e.SVrRpOEXjMrctGI.3bW5w3</td>\n",
       "      <td>Cohn, Allen</td>\n",
       "      <td>usual</td>\n",
       "      <td>urn:oid:1.2.840.114350.1.13.76.2.7.3.698084.8</td>\n",
       "      <td>1109050523</td>\n",
       "      <td>finished</td>\n",
       "      <td>HOV</td>\n",
       "      <td>Hospital Encounter</td>\n",
       "      <td>2021-07-21T18:54:51Z</td>\n",
       "      <td>2021-07-22T06:59:00Z</td>\n",
       "      <td>Location/e-2yRijoQ0PTgRzoeQ.5pcA3</td>\n",
       "      <td>WEST BAY REGION ACUTE CARE SERVICES</td>\n",
       "      <td>eKW.qa9FCenjDi7W1MgSbpw3</td>\n",
       "      <td>2021-07-21 18:54:51+00:00</td>\n",
       "      <td>2021-07-21</td>\n",
       "      <td>2021-07-21</td>\n",
       "      <td>2021-07-22</td>\n",
       "    </tr>\n",
       "    <tr>\n",
       "      <th>92815</th>\n",
       "      <td>465182</td>\n",
       "      <td>encounter</td>\n",
       "      <td>openepic_shared_sutter_health</td>\n",
       "      <td>Encounter</td>\n",
       "      <td>eKW.qa9FCenjDi7W1MgSbpw3</td>\n",
       "      <td>2022-10-09</td>\n",
       "      <td>Patient/e.SVrRpOEXjMrctGI.3bW5w3</td>\n",
       "      <td>Cohn, Allen</td>\n",
       "      <td>usual</td>\n",
       "      <td>urn:oid:1.2.840.114350.1.13.76.2.7.3.698084.8</td>\n",
       "      <td>1109050523</td>\n",
       "      <td>finished</td>\n",
       "      <td>HOV</td>\n",
       "      <td>Hospital Encounter</td>\n",
       "      <td>2021-07-21T18:54:51Z</td>\n",
       "      <td>2021-07-22T06:59:00Z</td>\n",
       "      <td>Location/egKeHLVY3ulbxQxSwbF0iiwfUMlmgT73oxSpVjd7uGLs3</td>\n",
       "      <td>CPMC Mission Bernal Campus Pulmonary Function Lab</td>\n",
       "      <td>eKW.qa9FCenjDi7W1MgSbpw3</td>\n",
       "      <td>2021-07-21 18:54:51+00:00</td>\n",
       "      <td>2021-07-21</td>\n",
       "      <td>2021-07-21</td>\n",
       "      <td>2021-07-22</td>\n",
       "    </tr>\n",
       "    <tr>\n",
       "      <th>142166</th>\n",
       "      <td>465182</td>\n",
       "      <td>encounter</td>\n",
       "      <td>openepic_shared_sutter_health</td>\n",
       "      <td>Encounter</td>\n",
       "      <td>eKW.qa9FCenjDi7W1MgSbpw3</td>\n",
       "      <td>2022-10-09</td>\n",
       "      <td>Patient/e.SVrRpOEXjMrctGI.3bW5w3</td>\n",
       "      <td>Cohn, Allen</td>\n",
       "      <td>usual</td>\n",
       "      <td>urn:oid:1.2.840.114350.1.13.76.2.7.3.698084.8</td>\n",
       "      <td>1109050523</td>\n",
       "      <td>finished</td>\n",
       "      <td>HOV</td>\n",
       "      <td>Mvo2 With Spirometry</td>\n",
       "      <td>2021-07-21T18:54:51Z</td>\n",
       "      <td>2021-07-22T06:59:00Z</td>\n",
       "      <td>Location/e-2yRijoQ0PTgRzoeQ.5pcA3</td>\n",
       "      <td>WEST BAY REGION ACUTE CARE SERVICES</td>\n",
       "      <td>eKW.qa9FCenjDi7W1MgSbpw3</td>\n",
       "      <td>2021-07-21 18:54:51+00:00</td>\n",
       "      <td>2021-07-21</td>\n",
       "      <td>2021-07-21</td>\n",
       "      <td>2021-07-22</td>\n",
       "    </tr>\n",
       "    <tr>\n",
       "      <th>142165</th>\n",
       "      <td>465182</td>\n",
       "      <td>encounter</td>\n",
       "      <td>openepic_shared_sutter_health</td>\n",
       "      <td>Encounter</td>\n",
       "      <td>eKW.qa9FCenjDi7W1MgSbpw3</td>\n",
       "      <td>2022-10-09</td>\n",
       "      <td>Patient/e.SVrRpOEXjMrctGI.3bW5w3</td>\n",
       "      <td>Cohn, Allen</td>\n",
       "      <td>usual</td>\n",
       "      <td>urn:oid:1.2.840.114350.1.13.76.2.7.3.698084.8</td>\n",
       "      <td>1109050523</td>\n",
       "      <td>finished</td>\n",
       "      <td>HOV</td>\n",
       "      <td>Outpatient</td>\n",
       "      <td>2021-07-21T18:54:51Z</td>\n",
       "      <td>2021-07-22T06:59:00Z</td>\n",
       "      <td>Location/egKeHLVY3ulbxQxSwbF0iiwfUMlmgT73oxSpVjd7uGLs3</td>\n",
       "      <td>CPMC Mission Bernal Campus Pulmonary Function Lab</td>\n",
       "      <td>eKW.qa9FCenjDi7W1MgSbpw3</td>\n",
       "      <td>2021-07-21 18:54:51+00:00</td>\n",
       "      <td>2021-07-21</td>\n",
       "      <td>2021-07-21</td>\n",
       "      <td>2021-07-22</td>\n",
       "    </tr>\n",
       "    <tr>\n",
       "      <th>181623</th>\n",
       "      <td>465182</td>\n",
       "      <td>encounter</td>\n",
       "      <td>openepic_shared_sutter_health</td>\n",
       "      <td>Encounter</td>\n",
       "      <td>eKW.qa9FCenjDi7W1MgSbpw3</td>\n",
       "      <td>2022-10-09</td>\n",
       "      <td>Patient/e.SVrRpOEXjMrctGI.3bW5w3</td>\n",
       "      <td>Cohn, Allen</td>\n",
       "      <td>usual</td>\n",
       "      <td>urn:oid:1.2.840.114350.1.13.76.2.7.3.698084.8</td>\n",
       "      <td>1109050523</td>\n",
       "      <td>finished</td>\n",
       "      <td>HOV</td>\n",
       "      <td>Elective</td>\n",
       "      <td>2021-07-21T18:54:51Z</td>\n",
       "      <td>2021-07-22T06:59:00Z</td>\n",
       "      <td>Location/egKeHLVY3ulbxQxSwbF0iiwfUMlmgT73oxSpVjd7uGLs3</td>\n",
       "      <td>CPMC Mission Bernal Campus Pulmonary Function Lab</td>\n",
       "      <td>eKW.qa9FCenjDi7W1MgSbpw3</td>\n",
       "      <td>2021-07-21 18:54:51+00:00</td>\n",
       "      <td>2021-07-21</td>\n",
       "      <td>2021-07-21</td>\n",
       "      <td>2021-07-22</td>\n",
       "    </tr>\n",
       "    <tr>\n",
       "      <th>181622</th>\n",
       "      <td>465182</td>\n",
       "      <td>encounter</td>\n",
       "      <td>openepic_shared_sutter_health</td>\n",
       "      <td>Encounter</td>\n",
       "      <td>eKW.qa9FCenjDi7W1MgSbpw3</td>\n",
       "      <td>2022-10-09</td>\n",
       "      <td>Patient/e.SVrRpOEXjMrctGI.3bW5w3</td>\n",
       "      <td>Cohn, Allen</td>\n",
       "      <td>usual</td>\n",
       "      <td>urn:oid:1.2.840.114350.1.13.76.2.7.3.698084.8</td>\n",
       "      <td>1109050523</td>\n",
       "      <td>finished</td>\n",
       "      <td>HOV</td>\n",
       "      <td>Mvo2 With Spirometry</td>\n",
       "      <td>2021-07-21T18:54:51Z</td>\n",
       "      <td>2021-07-22T06:59:00Z</td>\n",
       "      <td>Location/egKeHLVY3ulbxQxSwbF0iiwfUMlmgT73oxSpVjd7uGLs3</td>\n",
       "      <td>CPMC Mission Bernal Campus Pulmonary Function Lab</td>\n",
       "      <td>eKW.qa9FCenjDi7W1MgSbpw3</td>\n",
       "      <td>2021-07-21 18:54:51+00:00</td>\n",
       "      <td>2021-07-21</td>\n",
       "      <td>2021-07-21</td>\n",
       "      <td>2021-07-22</td>\n",
       "    </tr>\n",
       "    <tr>\n",
       "      <th>168402</th>\n",
       "      <td>465182</td>\n",
       "      <td>encounter</td>\n",
       "      <td>openepic_shared_sutter_health</td>\n",
       "      <td>Encounter</td>\n",
       "      <td>eKW.qa9FCenjDi7W1MgSbpw3</td>\n",
       "      <td>2022-10-09</td>\n",
       "      <td>Patient/e.SVrRpOEXjMrctGI.3bW5w3</td>\n",
       "      <td>Cohn, Allen</td>\n",
       "      <td>usual</td>\n",
       "      <td>urn:oid:1.2.840.114350.1.13.76.2.7.3.698084.8</td>\n",
       "      <td>1109050523</td>\n",
       "      <td>finished</td>\n",
       "      <td>HOV</td>\n",
       "      <td>Outpatient</td>\n",
       "      <td>2021-07-21T18:54:51Z</td>\n",
       "      <td>2021-07-22T06:59:00Z</td>\n",
       "      <td>Location/e-2yRijoQ0PTgRzoeQ.5pcA3</td>\n",
       "      <td>WEST BAY REGION ACUTE CARE SERVICES</td>\n",
       "      <td>eKW.qa9FCenjDi7W1MgSbpw3</td>\n",
       "      <td>2021-07-21 18:54:51+00:00</td>\n",
       "      <td>2021-07-21</td>\n",
       "      <td>2021-07-21</td>\n",
       "      <td>2021-07-22</td>\n",
       "    </tr>\n",
       "    <tr>\n",
       "      <th>169359</th>\n",
       "      <td>465182</td>\n",
       "      <td>encounter</td>\n",
       "      <td>openepic_shared_sutter_health</td>\n",
       "      <td>Encounter</td>\n",
       "      <td>eKW.qa9FCenjDi7W1MgSbpw3</td>\n",
       "      <td>2022-10-09</td>\n",
       "      <td>Patient/e.SVrRpOEXjMrctGI.3bW5w3</td>\n",
       "      <td>Cohn, Allen</td>\n",
       "      <td>usual</td>\n",
       "      <td>urn:oid:1.2.840.114350.1.13.76.2.7.3.698084.8</td>\n",
       "      <td>1109050523</td>\n",
       "      <td>finished</td>\n",
       "      <td>HOV</td>\n",
       "      <td>Elective</td>\n",
       "      <td>2021-07-21T18:54:51Z</td>\n",
       "      <td>2021-07-22T06:59:00Z</td>\n",
       "      <td>Location/e-2yRijoQ0PTgRzoeQ.5pcA3</td>\n",
       "      <td>WEST BAY REGION ACUTE CARE SERVICES</td>\n",
       "      <td>eKW.qa9FCenjDi7W1MgSbpw3</td>\n",
       "      <td>2021-07-21 18:54:51+00:00</td>\n",
       "      <td>2021-07-21</td>\n",
       "      <td>2021-07-21</td>\n",
       "      <td>2021-07-22</td>\n",
       "    </tr>\n",
       "    <tr>\n",
       "      <th>181620</th>\n",
       "      <td>465182</td>\n",
       "      <td>encounter</td>\n",
       "      <td>openepic_shared_sutter_health</td>\n",
       "      <td>Encounter</td>\n",
       "      <td>ekys8nRWdQHVfCiZSXthxTw3</td>\n",
       "      <td>2022-10-09</td>\n",
       "      <td>Patient/e.SVrRpOEXjMrctGI.3bW5w3</td>\n",
       "      <td>Cohn, Allen</td>\n",
       "      <td>usual</td>\n",
       "      <td>urn:oid:1.2.840.114350.1.13.76.2.7.3.698084.8</td>\n",
       "      <td>1113810072</td>\n",
       "      <td>finished</td>\n",
       "      <td>HOV</td>\n",
       "      <td>Elective</td>\n",
       "      <td>2021-07-28T17:44:54Z</td>\n",
       "      <td>2021-07-29T06:59:00Z</td>\n",
       "      <td>Location/e-2yRijoQ0PTgRzoeQ.5pcA3</td>\n",
       "      <td>WEST BAY REGION ACUTE CARE SERVICES</td>\n",
       "      <td>ekys8nRWdQHVfCiZSXthxTw3</td>\n",
       "      <td>2021-07-28 17:44:54+00:00</td>\n",
       "      <td>2021-07-28</td>\n",
       "      <td>2021-07-28</td>\n",
       "      <td>2021-07-29</td>\n",
       "    </tr>\n",
       "    <tr>\n",
       "      <th>185328</th>\n",
       "      <td>465182</td>\n",
       "      <td>encounter</td>\n",
       "      <td>openepic_shared_sutter_health</td>\n",
       "      <td>Encounter</td>\n",
       "      <td>ekys8nRWdQHVfCiZSXthxTw3</td>\n",
       "      <td>2022-10-09</td>\n",
       "      <td>Patient/e.SVrRpOEXjMrctGI.3bW5w3</td>\n",
       "      <td>Cohn, Allen</td>\n",
       "      <td>usual</td>\n",
       "      <td>urn:oid:1.2.840.114350.1.13.76.2.7.3.698084.8</td>\n",
       "      <td>1113810072</td>\n",
       "      <td>finished</td>\n",
       "      <td>HOV</td>\n",
       "      <td>Cta Chest Wwo Contrast</td>\n",
       "      <td>2021-07-28T17:44:54Z</td>\n",
       "      <td>2021-07-29T06:59:00Z</td>\n",
       "      <td>Location/e-2yRijoQ0PTgRzoeQ.5pcA3</td>\n",
       "      <td>WEST BAY REGION ACUTE CARE SERVICES</td>\n",
       "      <td>ekys8nRWdQHVfCiZSXthxTw3</td>\n",
       "      <td>2021-07-28 17:44:54+00:00</td>\n",
       "      <td>2021-07-28</td>\n",
       "      <td>2021-07-28</td>\n",
       "      <td>2021-07-29</td>\n",
       "    </tr>\n",
       "    <tr>\n",
       "      <th>181619</th>\n",
       "      <td>465182</td>\n",
       "      <td>encounter</td>\n",
       "      <td>openepic_shared_sutter_health</td>\n",
       "      <td>Encounter</td>\n",
       "      <td>ekys8nRWdQHVfCiZSXthxTw3</td>\n",
       "      <td>2022-10-09</td>\n",
       "      <td>Patient/e.SVrRpOEXjMrctGI.3bW5w3</td>\n",
       "      <td>Cohn, Allen</td>\n",
       "      <td>usual</td>\n",
       "      <td>urn:oid:1.2.840.114350.1.13.76.2.7.3.698084.8</td>\n",
       "      <td>1113810072</td>\n",
       "      <td>finished</td>\n",
       "      <td>HOV</td>\n",
       "      <td>Hospital Encounter</td>\n",
       "      <td>2021-07-28T17:44:54Z</td>\n",
       "      <td>2021-07-29T06:59:00Z</td>\n",
       "      <td>Location/e1a3.D7yMzJITc6VMHf.ZftFchIgfCXiDpAsIqc3xxP03</td>\n",
       "      <td>CPMC Van Ness Campus CT</td>\n",
       "      <td>ekys8nRWdQHVfCiZSXthxTw3</td>\n",
       "      <td>2021-07-28 17:44:54+00:00</td>\n",
       "      <td>2021-07-28</td>\n",
       "      <td>2021-07-28</td>\n",
       "      <td>2021-07-29</td>\n",
       "    </tr>\n",
       "    <tr>\n",
       "      <th>168399</th>\n",
       "      <td>465182</td>\n",
       "      <td>encounter</td>\n",
       "      <td>openepic_shared_sutter_health</td>\n",
       "      <td>Encounter</td>\n",
       "      <td>ekys8nRWdQHVfCiZSXthxTw3</td>\n",
       "      <td>2022-10-09</td>\n",
       "      <td>Patient/e.SVrRpOEXjMrctGI.3bW5w3</td>\n",
       "      <td>Cohn, Allen</td>\n",
       "      <td>usual</td>\n",
       "      <td>urn:oid:1.2.840.114350.1.13.76.2.7.3.698084.8</td>\n",
       "      <td>1113810072</td>\n",
       "      <td>finished</td>\n",
       "      <td>HOV</td>\n",
       "      <td>Hospital Encounter</td>\n",
       "      <td>2021-07-28T17:44:54Z</td>\n",
       "      <td>2021-07-29T06:59:00Z</td>\n",
       "      <td>Location/e-2yRijoQ0PTgRzoeQ.5pcA3</td>\n",
       "      <td>WEST BAY REGION ACUTE CARE SERVICES</td>\n",
       "      <td>ekys8nRWdQHVfCiZSXthxTw3</td>\n",
       "      <td>2021-07-28 17:44:54+00:00</td>\n",
       "      <td>2021-07-28</td>\n",
       "      <td>2021-07-28</td>\n",
       "      <td>2021-07-29</td>\n",
       "    </tr>\n",
       "    <tr>\n",
       "      <th>142163</th>\n",
       "      <td>465182</td>\n",
       "      <td>encounter</td>\n",
       "      <td>openepic_shared_sutter_health</td>\n",
       "      <td>Encounter</td>\n",
       "      <td>ekys8nRWdQHVfCiZSXthxTw3</td>\n",
       "      <td>2022-10-09</td>\n",
       "      <td>Patient/e.SVrRpOEXjMrctGI.3bW5w3</td>\n",
       "      <td>Cohn, Allen</td>\n",
       "      <td>usual</td>\n",
       "      <td>urn:oid:1.2.840.114350.1.13.76.2.7.3.698084.8</td>\n",
       "      <td>1113810072</td>\n",
       "      <td>finished</td>\n",
       "      <td>HOV</td>\n",
       "      <td>Cta Chest Wwo Contrast</td>\n",
       "      <td>2021-07-28T17:44:54Z</td>\n",
       "      <td>2021-07-29T06:59:00Z</td>\n",
       "      <td>Location/e1a3.D7yMzJITc6VMHf.ZftFchIgfCXiDpAsIqc3xxP03</td>\n",
       "      <td>CPMC Van Ness Campus CT</td>\n",
       "      <td>ekys8nRWdQHVfCiZSXthxTw3</td>\n",
       "      <td>2021-07-28 17:44:54+00:00</td>\n",
       "      <td>2021-07-28</td>\n",
       "      <td>2021-07-28</td>\n",
       "      <td>2021-07-29</td>\n",
       "    </tr>\n",
       "    <tr>\n",
       "      <th>100968</th>\n",
       "      <td>465182</td>\n",
       "      <td>encounter</td>\n",
       "      <td>openepic_shared_sutter_health</td>\n",
       "      <td>Encounter</td>\n",
       "      <td>ekys8nRWdQHVfCiZSXthxTw3</td>\n",
       "      <td>2022-10-09</td>\n",
       "      <td>Patient/e.SVrRpOEXjMrctGI.3bW5w3</td>\n",
       "      <td>Cohn, Allen</td>\n",
       "      <td>usual</td>\n",
       "      <td>urn:oid:1.2.840.114350.1.13.76.2.7.3.698084.8</td>\n",
       "      <td>1113810072</td>\n",
       "      <td>finished</td>\n",
       "      <td>HOV</td>\n",
       "      <td>Outpatient</td>\n",
       "      <td>2021-07-28T17:44:54Z</td>\n",
       "      <td>2021-07-29T06:59:00Z</td>\n",
       "      <td>Location/e1a3.D7yMzJITc6VMHf.ZftFchIgfCXiDpAsIqc3xxP03</td>\n",
       "      <td>CPMC Van Ness Campus CT</td>\n",
       "      <td>ekys8nRWdQHVfCiZSXthxTw3</td>\n",
       "      <td>2021-07-28 17:44:54+00:00</td>\n",
       "      <td>2021-07-28</td>\n",
       "      <td>2021-07-28</td>\n",
       "      <td>2021-07-29</td>\n",
       "    </tr>\n",
       "    <tr>\n",
       "      <th>100969</th>\n",
       "      <td>465182</td>\n",
       "      <td>encounter</td>\n",
       "      <td>openepic_shared_sutter_health</td>\n",
       "      <td>Encounter</td>\n",
       "      <td>ekys8nRWdQHVfCiZSXthxTw3</td>\n",
       "      <td>2022-10-09</td>\n",
       "      <td>Patient/e.SVrRpOEXjMrctGI.3bW5w3</td>\n",
       "      <td>Cohn, Allen</td>\n",
       "      <td>usual</td>\n",
       "      <td>urn:oid:1.2.840.114350.1.13.76.2.7.3.698084.8</td>\n",
       "      <td>1113810072</td>\n",
       "      <td>finished</td>\n",
       "      <td>HOV</td>\n",
       "      <td>Elective</td>\n",
       "      <td>2021-07-28T17:44:54Z</td>\n",
       "      <td>2021-07-29T06:59:00Z</td>\n",
       "      <td>Location/e1a3.D7yMzJITc6VMHf.ZftFchIgfCXiDpAsIqc3xxP03</td>\n",
       "      <td>CPMC Van Ness Campus CT</td>\n",
       "      <td>ekys8nRWdQHVfCiZSXthxTw3</td>\n",
       "      <td>2021-07-28 17:44:54+00:00</td>\n",
       "      <td>2021-07-28</td>\n",
       "      <td>2021-07-28</td>\n",
       "      <td>2021-07-29</td>\n",
       "    </tr>\n",
       "    <tr>\n",
       "      <th>100970</th>\n",
       "      <td>465182</td>\n",
       "      <td>encounter</td>\n",
       "      <td>openepic_shared_sutter_health</td>\n",
       "      <td>Encounter</td>\n",
       "      <td>ekys8nRWdQHVfCiZSXthxTw3</td>\n",
       "      <td>2022-10-09</td>\n",
       "      <td>Patient/e.SVrRpOEXjMrctGI.3bW5w3</td>\n",
       "      <td>Cohn, Allen</td>\n",
       "      <td>usual</td>\n",
       "      <td>urn:oid:1.2.840.114350.1.13.76.2.7.3.698084.8</td>\n",
       "      <td>1113810072</td>\n",
       "      <td>finished</td>\n",
       "      <td>HOV</td>\n",
       "      <td>Outpatient</td>\n",
       "      <td>2021-07-28T17:44:54Z</td>\n",
       "      <td>2021-07-29T06:59:00Z</td>\n",
       "      <td>Location/e-2yRijoQ0PTgRzoeQ.5pcA3</td>\n",
       "      <td>WEST BAY REGION ACUTE CARE SERVICES</td>\n",
       "      <td>ekys8nRWdQHVfCiZSXthxTw3</td>\n",
       "      <td>2021-07-28 17:44:54+00:00</td>\n",
       "      <td>2021-07-28</td>\n",
       "      <td>2021-07-28</td>\n",
       "      <td>2021-07-29</td>\n",
       "    </tr>\n",
       "    <tr>\n",
       "      <th>181621</th>\n",
       "      <td>465182</td>\n",
       "      <td>encounter</td>\n",
       "      <td>openepic_shared_sutter_health</td>\n",
       "      <td>Encounter</td>\n",
       "      <td>eNh7JVOOWn3y7ozXFTtcZFg3</td>\n",
       "      <td>2022-10-09</td>\n",
       "      <td>Patient/e.SVrRpOEXjMrctGI.3bW5w3</td>\n",
       "      <td>Cohn, Allen</td>\n",
       "      <td>usual</td>\n",
       "      <td>urn:oid:1.2.840.114350.1.13.76.2.7.3.698084.8</td>\n",
       "      <td>1113673822</td>\n",
       "      <td>finished</td>\n",
       "      <td>HOV</td>\n",
       "      <td>Outpatient</td>\n",
       "      <td>2021-07-29T06:59:00Z</td>\n",
       "      <td>2021-07-29T06:59:00Z</td>\n",
       "      <td>Location/e1a3.D7yMzJITc6VMHf.ZftFchIgfCXiDpAsIqc3xxP03</td>\n",
       "      <td>CPMC Van Ness Campus CT</td>\n",
       "      <td>eNh7JVOOWn3y7ozXFTtcZFg3</td>\n",
       "      <td>2021-07-29 06:59:00+00:00</td>\n",
       "      <td>2021-07-28</td>\n",
       "      <td>2021-07-28</td>\n",
       "      <td>2021-07-29</td>\n",
       "    </tr>\n",
       "    <tr>\n",
       "      <th>81806</th>\n",
       "      <td>465182</td>\n",
       "      <td>encounter</td>\n",
       "      <td>openepic_shared_sutter_health</td>\n",
       "      <td>Encounter</td>\n",
       "      <td>eNh7JVOOWn3y7ozXFTtcZFg3</td>\n",
       "      <td>2022-10-09</td>\n",
       "      <td>Patient/e.SVrRpOEXjMrctGI.3bW5w3</td>\n",
       "      <td>Cohn, Allen</td>\n",
       "      <td>usual</td>\n",
       "      <td>urn:oid:1.2.840.114350.1.13.76.2.7.3.698084.8</td>\n",
       "      <td>1113673822</td>\n",
       "      <td>finished</td>\n",
       "      <td>HOV</td>\n",
       "      <td>Hospital Encounter</td>\n",
       "      <td>2021-07-29T06:59:00Z</td>\n",
       "      <td>2021-07-29T06:59:00Z</td>\n",
       "      <td>Location/e1a3.D7yMzJITc6VMHf.ZftFchIgfCXiDpAsIqc3xxP03</td>\n",
       "      <td>CPMC Van Ness Campus CT</td>\n",
       "      <td>eNh7JVOOWn3y7ozXFTtcZFg3</td>\n",
       "      <td>2021-07-29 06:59:00+00:00</td>\n",
       "      <td>2021-07-28</td>\n",
       "      <td>2021-07-28</td>\n",
       "      <td>2021-07-29</td>\n",
       "    </tr>\n",
       "    <tr>\n",
       "      <th>169358</th>\n",
       "      <td>465182</td>\n",
       "      <td>encounter</td>\n",
       "      <td>openepic_shared_sutter_health</td>\n",
       "      <td>Encounter</td>\n",
       "      <td>eNh7JVOOWn3y7ozXFTtcZFg3</td>\n",
       "      <td>2022-10-09</td>\n",
       "      <td>Patient/e.SVrRpOEXjMrctGI.3bW5w3</td>\n",
       "      <td>Cohn, Allen</td>\n",
       "      <td>usual</td>\n",
       "      <td>urn:oid:1.2.840.114350.1.13.76.2.7.3.698084.8</td>\n",
       "      <td>1113673822</td>\n",
       "      <td>finished</td>\n",
       "      <td>HOV</td>\n",
       "      <td>Cta Chest Wwo Contrast</td>\n",
       "      <td>2021-07-29T06:59:00Z</td>\n",
       "      <td>2021-07-29T06:59:00Z</td>\n",
       "      <td>Location/e1a3.D7yMzJITc6VMHf.ZftFchIgfCXiDpAsIqc3xxP03</td>\n",
       "      <td>CPMC Van Ness Campus CT</td>\n",
       "      <td>eNh7JVOOWn3y7ozXFTtcZFg3</td>\n",
       "      <td>2021-07-29 06:59:00+00:00</td>\n",
       "      <td>2021-07-28</td>\n",
       "      <td>2021-07-28</td>\n",
       "      <td>2021-07-29</td>\n",
       "    </tr>\n",
       "    <tr>\n",
       "      <th>168401</th>\n",
       "      <td>465182</td>\n",
       "      <td>encounter</td>\n",
       "      <td>openepic_shared_sutter_health</td>\n",
       "      <td>Encounter</td>\n",
       "      <td>eNh7JVOOWn3y7ozXFTtcZFg3</td>\n",
       "      <td>2022-10-09</td>\n",
       "      <td>Patient/e.SVrRpOEXjMrctGI.3bW5w3</td>\n",
       "      <td>Cohn, Allen</td>\n",
       "      <td>usual</td>\n",
       "      <td>urn:oid:1.2.840.114350.1.13.76.2.7.3.698084.8</td>\n",
       "      <td>1113673822</td>\n",
       "      <td>finished</td>\n",
       "      <td>HOV</td>\n",
       "      <td>Elective</td>\n",
       "      <td>2021-07-29T06:59:00Z</td>\n",
       "      <td>2021-07-29T06:59:00Z</td>\n",
       "      <td>Location/e-2yRijoQ0PTgRzoeQ.5pcA3</td>\n",
       "      <td>WEST BAY REGION ACUTE CARE SERVICES</td>\n",
       "      <td>eNh7JVOOWn3y7ozXFTtcZFg3</td>\n",
       "      <td>2021-07-29 06:59:00+00:00</td>\n",
       "      <td>2021-07-28</td>\n",
       "      <td>2021-07-28</td>\n",
       "      <td>2021-07-29</td>\n",
       "    </tr>\n",
       "    <tr>\n",
       "      <th>168400</th>\n",
       "      <td>465182</td>\n",
       "      <td>encounter</td>\n",
       "      <td>openepic_shared_sutter_health</td>\n",
       "      <td>Encounter</td>\n",
       "      <td>eNh7JVOOWn3y7ozXFTtcZFg3</td>\n",
       "      <td>2022-10-09</td>\n",
       "      <td>Patient/e.SVrRpOEXjMrctGI.3bW5w3</td>\n",
       "      <td>Cohn, Allen</td>\n",
       "      <td>usual</td>\n",
       "      <td>urn:oid:1.2.840.114350.1.13.76.2.7.3.698084.8</td>\n",
       "      <td>1113673822</td>\n",
       "      <td>finished</td>\n",
       "      <td>HOV</td>\n",
       "      <td>Outpatient</td>\n",
       "      <td>2021-07-29T06:59:00Z</td>\n",
       "      <td>2021-07-29T06:59:00Z</td>\n",
       "      <td>Location/e-2yRijoQ0PTgRzoeQ.5pcA3</td>\n",
       "      <td>WEST BAY REGION ACUTE CARE SERVICES</td>\n",
       "      <td>eNh7JVOOWn3y7ozXFTtcZFg3</td>\n",
       "      <td>2021-07-29 06:59:00+00:00</td>\n",
       "      <td>2021-07-28</td>\n",
       "      <td>2021-07-28</td>\n",
       "      <td>2021-07-29</td>\n",
       "    </tr>\n",
       "    <tr>\n",
       "      <th>185330</th>\n",
       "      <td>465182</td>\n",
       "      <td>encounter</td>\n",
       "      <td>openepic_shared_sutter_health</td>\n",
       "      <td>Encounter</td>\n",
       "      <td>eNh7JVOOWn3y7ozXFTtcZFg3</td>\n",
       "      <td>2022-10-09</td>\n",
       "      <td>Patient/e.SVrRpOEXjMrctGI.3bW5w3</td>\n",
       "      <td>Cohn, Allen</td>\n",
       "      <td>usual</td>\n",
       "      <td>urn:oid:1.2.840.114350.1.13.76.2.7.3.698084.8</td>\n",
       "      <td>1113673822</td>\n",
       "      <td>finished</td>\n",
       "      <td>HOV</td>\n",
       "      <td>Hospital Encounter</td>\n",
       "      <td>2021-07-29T06:59:00Z</td>\n",
       "      <td>2021-07-29T06:59:00Z</td>\n",
       "      <td>Location/e-2yRijoQ0PTgRzoeQ.5pcA3</td>\n",
       "      <td>WEST BAY REGION ACUTE CARE SERVICES</td>\n",
       "      <td>eNh7JVOOWn3y7ozXFTtcZFg3</td>\n",
       "      <td>2021-07-29 06:59:00+00:00</td>\n",
       "      <td>2021-07-28</td>\n",
       "      <td>2021-07-28</td>\n",
       "      <td>2021-07-29</td>\n",
       "    </tr>\n",
       "    <tr>\n",
       "      <th>185329</th>\n",
       "      <td>465182</td>\n",
       "      <td>encounter</td>\n",
       "      <td>openepic_shared_sutter_health</td>\n",
       "      <td>Encounter</td>\n",
       "      <td>eNh7JVOOWn3y7ozXFTtcZFg3</td>\n",
       "      <td>2022-10-09</td>\n",
       "      <td>Patient/e.SVrRpOEXjMrctGI.3bW5w3</td>\n",
       "      <td>Cohn, Allen</td>\n",
       "      <td>usual</td>\n",
       "      <td>urn:oid:1.2.840.114350.1.13.76.2.7.3.698084.8</td>\n",
       "      <td>1113673822</td>\n",
       "      <td>finished</td>\n",
       "      <td>HOV</td>\n",
       "      <td>Elective</td>\n",
       "      <td>2021-07-29T06:59:00Z</td>\n",
       "      <td>2021-07-29T06:59:00Z</td>\n",
       "      <td>Location/e1a3.D7yMzJITc6VMHf.ZftFchIgfCXiDpAsIqc3xxP03</td>\n",
       "      <td>CPMC Van Ness Campus CT</td>\n",
       "      <td>eNh7JVOOWn3y7ozXFTtcZFg3</td>\n",
       "      <td>2021-07-29 06:59:00+00:00</td>\n",
       "      <td>2021-07-28</td>\n",
       "      <td>2021-07-28</td>\n",
       "      <td>2021-07-29</td>\n",
       "    </tr>\n",
       "    <tr>\n",
       "      <th>142164</th>\n",
       "      <td>465182</td>\n",
       "      <td>encounter</td>\n",
       "      <td>openepic_shared_sutter_health</td>\n",
       "      <td>Encounter</td>\n",
       "      <td>eNh7JVOOWn3y7ozXFTtcZFg3</td>\n",
       "      <td>2022-10-09</td>\n",
       "      <td>Patient/e.SVrRpOEXjMrctGI.3bW5w3</td>\n",
       "      <td>Cohn, Allen</td>\n",
       "      <td>usual</td>\n",
       "      <td>urn:oid:1.2.840.114350.1.13.76.2.7.3.698084.8</td>\n",
       "      <td>1113673822</td>\n",
       "      <td>finished</td>\n",
       "      <td>HOV</td>\n",
       "      <td>Cta Chest Wwo Contrast</td>\n",
       "      <td>2021-07-29T06:59:00Z</td>\n",
       "      <td>2021-07-29T06:59:00Z</td>\n",
       "      <td>Location/e-2yRijoQ0PTgRzoeQ.5pcA3</td>\n",
       "      <td>WEST BAY REGION ACUTE CARE SERVICES</td>\n",
       "      <td>eNh7JVOOWn3y7ozXFTtcZFg3</td>\n",
       "      <td>2021-07-29 06:59:00+00:00</td>\n",
       "      <td>2021-07-28</td>\n",
       "      <td>2021-07-28</td>\n",
       "      <td>2021-07-29</td>\n",
       "    </tr>\n",
       "    <tr>\n",
       "      <th>92814</th>\n",
       "      <td>465182</td>\n",
       "      <td>encounter</td>\n",
       "      <td>openepic_shared_sutter_health</td>\n",
       "      <td>Encounter</td>\n",
       "      <td>eLt8K2eIuf0gzZLbe9ZLy7g3</td>\n",
       "      <td>2022-10-09</td>\n",
       "      <td>Patient/e.SVrRpOEXjMrctGI.3bW5w3</td>\n",
       "      <td>Cohn, Allen</td>\n",
       "      <td>usual</td>\n",
       "      <td>urn:oid:1.2.840.114350.1.13.76.2.7.3.698084.8</td>\n",
       "      <td>1114198666</td>\n",
       "      <td>finished</td>\n",
       "      <td>HOV</td>\n",
       "      <td>Elective</td>\n",
       "      <td>2021-08-03T15:50:15Z</td>\n",
       "      <td>2021-08-04T06:59:00Z</td>\n",
       "      <td>Location/e1a3.D7yMzJITc6VMHf.ZfqRYNMvN0OrFFXfXM9JUHSo3</td>\n",
       "      <td>CPMC Van Ness Campus Nuclear Medicine</td>\n",
       "      <td>eLt8K2eIuf0gzZLbe9ZLy7g3</td>\n",
       "      <td>2021-08-03 15:50:15+00:00</td>\n",
       "      <td>2021-08-03</td>\n",
       "      <td>2021-08-03</td>\n",
       "      <td>2021-08-04</td>\n",
       "    </tr>\n",
       "    <tr>\n",
       "      <th>169355</th>\n",
       "      <td>465182</td>\n",
       "      <td>encounter</td>\n",
       "      <td>openepic_shared_sutter_health</td>\n",
       "      <td>Encounter</td>\n",
       "      <td>eLt8K2eIuf0gzZLbe9ZLy7g3</td>\n",
       "      <td>2022-10-09</td>\n",
       "      <td>Patient/e.SVrRpOEXjMrctGI.3bW5w3</td>\n",
       "      <td>Cohn, Allen</td>\n",
       "      <td>usual</td>\n",
       "      <td>urn:oid:1.2.840.114350.1.13.76.2.7.3.698084.8</td>\n",
       "      <td>1114198666</td>\n",
       "      <td>finished</td>\n",
       "      <td>HOV</td>\n",
       "      <td>Hospital Encounter</td>\n",
       "      <td>2021-08-03T15:50:15Z</td>\n",
       "      <td>2021-08-04T06:59:00Z</td>\n",
       "      <td>Location/e-2yRijoQ0PTgRzoeQ.5pcA3</td>\n",
       "      <td>WEST BAY REGION ACUTE CARE SERVICES</td>\n",
       "      <td>eLt8K2eIuf0gzZLbe9ZLy7g3</td>\n",
       "      <td>2021-08-03 15:50:15+00:00</td>\n",
       "      <td>2021-08-03</td>\n",
       "      <td>2021-08-03</td>\n",
       "      <td>2021-08-04</td>\n",
       "    </tr>\n",
       "    <tr>\n",
       "      <th>181618</th>\n",
       "      <td>465182</td>\n",
       "      <td>encounter</td>\n",
       "      <td>openepic_shared_sutter_health</td>\n",
       "      <td>Encounter</td>\n",
       "      <td>eLt8K2eIuf0gzZLbe9ZLy7g3</td>\n",
       "      <td>2022-10-09</td>\n",
       "      <td>Patient/e.SVrRpOEXjMrctGI.3bW5w3</td>\n",
       "      <td>Cohn, Allen</td>\n",
       "      <td>usual</td>\n",
       "      <td>urn:oid:1.2.840.114350.1.13.76.2.7.3.698084.8</td>\n",
       "      <td>1114198666</td>\n",
       "      <td>finished</td>\n",
       "      <td>HOV</td>\n",
       "      <td>Nm Lung Vent/Perf</td>\n",
       "      <td>2021-08-03T15:50:15Z</td>\n",
       "      <td>2021-08-04T06:59:00Z</td>\n",
       "      <td>Location/e1a3.D7yMzJITc6VMHf.ZfqRYNMvN0OrFFXfXM9JUHSo3</td>\n",
       "      <td>CPMC Van Ness Campus Nuclear Medicine</td>\n",
       "      <td>eLt8K2eIuf0gzZLbe9ZLy7g3</td>\n",
       "      <td>2021-08-03 15:50:15+00:00</td>\n",
       "      <td>2021-08-03</td>\n",
       "      <td>2021-08-03</td>\n",
       "      <td>2021-08-04</td>\n",
       "    </tr>\n",
       "    <tr>\n",
       "      <th>169356</th>\n",
       "      <td>465182</td>\n",
       "      <td>encounter</td>\n",
       "      <td>openepic_shared_sutter_health</td>\n",
       "      <td>Encounter</td>\n",
       "      <td>eLt8K2eIuf0gzZLbe9ZLy7g3</td>\n",
       "      <td>2022-10-09</td>\n",
       "      <td>Patient/e.SVrRpOEXjMrctGI.3bW5w3</td>\n",
       "      <td>Cohn, Allen</td>\n",
       "      <td>usual</td>\n",
       "      <td>urn:oid:1.2.840.114350.1.13.76.2.7.3.698084.8</td>\n",
       "      <td>1114198666</td>\n",
       "      <td>finished</td>\n",
       "      <td>HOV</td>\n",
       "      <td>Nm Lung Vent/Perf</td>\n",
       "      <td>2021-08-03T15:50:15Z</td>\n",
       "      <td>2021-08-04T06:59:00Z</td>\n",
       "      <td>Location/e-2yRijoQ0PTgRzoeQ.5pcA3</td>\n",
       "      <td>WEST BAY REGION ACUTE CARE SERVICES</td>\n",
       "      <td>eLt8K2eIuf0gzZLbe9ZLy7g3</td>\n",
       "      <td>2021-08-03 15:50:15+00:00</td>\n",
       "      <td>2021-08-03</td>\n",
       "      <td>2021-08-03</td>\n",
       "      <td>2021-08-04</td>\n",
       "    </tr>\n",
       "    <tr>\n",
       "      <th>169357</th>\n",
       "      <td>465182</td>\n",
       "      <td>encounter</td>\n",
       "      <td>openepic_shared_sutter_health</td>\n",
       "      <td>Encounter</td>\n",
       "      <td>eLt8K2eIuf0gzZLbe9ZLy7g3</td>\n",
       "      <td>2022-10-09</td>\n",
       "      <td>Patient/e.SVrRpOEXjMrctGI.3bW5w3</td>\n",
       "      <td>Cohn, Allen</td>\n",
       "      <td>usual</td>\n",
       "      <td>urn:oid:1.2.840.114350.1.13.76.2.7.3.698084.8</td>\n",
       "      <td>1114198666</td>\n",
       "      <td>finished</td>\n",
       "      <td>HOV</td>\n",
       "      <td>Elective</td>\n",
       "      <td>2021-08-03T15:50:15Z</td>\n",
       "      <td>2021-08-04T06:59:00Z</td>\n",
       "      <td>Location/e-2yRijoQ0PTgRzoeQ.5pcA3</td>\n",
       "      <td>WEST BAY REGION ACUTE CARE SERVICES</td>\n",
       "      <td>eLt8K2eIuf0gzZLbe9ZLy7g3</td>\n",
       "      <td>2021-08-03 15:50:15+00:00</td>\n",
       "      <td>2021-08-03</td>\n",
       "      <td>2021-08-03</td>\n",
       "      <td>2021-08-04</td>\n",
       "    </tr>\n",
       "    <tr>\n",
       "      <th>168398</th>\n",
       "      <td>465182</td>\n",
       "      <td>encounter</td>\n",
       "      <td>openepic_shared_sutter_health</td>\n",
       "      <td>Encounter</td>\n",
       "      <td>eLt8K2eIuf0gzZLbe9ZLy7g3</td>\n",
       "      <td>2022-10-09</td>\n",
       "      <td>Patient/e.SVrRpOEXjMrctGI.3bW5w3</td>\n",
       "      <td>Cohn, Allen</td>\n",
       "      <td>usual</td>\n",
       "      <td>urn:oid:1.2.840.114350.1.13.76.2.7.3.698084.8</td>\n",
       "      <td>1114198666</td>\n",
       "      <td>finished</td>\n",
       "      <td>HOV</td>\n",
       "      <td>Outpatient</td>\n",
       "      <td>2021-08-03T15:50:15Z</td>\n",
       "      <td>2021-08-04T06:59:00Z</td>\n",
       "      <td>Location/e-2yRijoQ0PTgRzoeQ.5pcA3</td>\n",
       "      <td>WEST BAY REGION ACUTE CARE SERVICES</td>\n",
       "      <td>eLt8K2eIuf0gzZLbe9ZLy7g3</td>\n",
       "      <td>2021-08-03 15:50:15+00:00</td>\n",
       "      <td>2021-08-03</td>\n",
       "      <td>2021-08-03</td>\n",
       "      <td>2021-08-04</td>\n",
       "    </tr>\n",
       "    <tr>\n",
       "      <th>181617</th>\n",
       "      <td>465182</td>\n",
       "      <td>encounter</td>\n",
       "      <td>openepic_shared_sutter_health</td>\n",
       "      <td>Encounter</td>\n",
       "      <td>eLt8K2eIuf0gzZLbe9ZLy7g3</td>\n",
       "      <td>2022-10-09</td>\n",
       "      <td>Patient/e.SVrRpOEXjMrctGI.3bW5w3</td>\n",
       "      <td>Cohn, Allen</td>\n",
       "      <td>usual</td>\n",
       "      <td>urn:oid:1.2.840.114350.1.13.76.2.7.3.698084.8</td>\n",
       "      <td>1114198666</td>\n",
       "      <td>finished</td>\n",
       "      <td>HOV</td>\n",
       "      <td>Outpatient</td>\n",
       "      <td>2021-08-03T15:50:15Z</td>\n",
       "      <td>2021-08-04T06:59:00Z</td>\n",
       "      <td>Location/e1a3.D7yMzJITc6VMHf.ZfqRYNMvN0OrFFXfXM9JUHSo3</td>\n",
       "      <td>CPMC Van Ness Campus Nuclear Medicine</td>\n",
       "      <td>eLt8K2eIuf0gzZLbe9ZLy7g3</td>\n",
       "      <td>2021-08-03 15:50:15+00:00</td>\n",
       "      <td>2021-08-03</td>\n",
       "      <td>2021-08-03</td>\n",
       "      <td>2021-08-04</td>\n",
       "    </tr>\n",
       "    <tr>\n",
       "      <th>168397</th>\n",
       "      <td>465182</td>\n",
       "      <td>encounter</td>\n",
       "      <td>openepic_shared_sutter_health</td>\n",
       "      <td>Encounter</td>\n",
       "      <td>eLt8K2eIuf0gzZLbe9ZLy7g3</td>\n",
       "      <td>2022-10-09</td>\n",
       "      <td>Patient/e.SVrRpOEXjMrctGI.3bW5w3</td>\n",
       "      <td>Cohn, Allen</td>\n",
       "      <td>usual</td>\n",
       "      <td>urn:oid:1.2.840.114350.1.13.76.2.7.3.698084.8</td>\n",
       "      <td>1114198666</td>\n",
       "      <td>finished</td>\n",
       "      <td>HOV</td>\n",
       "      <td>Hospital Encounter</td>\n",
       "      <td>2021-08-03T15:50:15Z</td>\n",
       "      <td>2021-08-04T06:59:00Z</td>\n",
       "      <td>Location/e1a3.D7yMzJITc6VMHf.ZfqRYNMvN0OrFFXfXM9JUHSo3</td>\n",
       "      <td>CPMC Van Ness Campus Nuclear Medicine</td>\n",
       "      <td>eLt8K2eIuf0gzZLbe9ZLy7g3</td>\n",
       "      <td>2021-08-03 15:50:15+00:00</td>\n",
       "      <td>2021-08-03</td>\n",
       "      <td>2021-08-03</td>\n",
       "      <td>2021-08-04</td>\n",
       "    </tr>\n",
       "    <tr>\n",
       "      <th>142162</th>\n",
       "      <td>465182</td>\n",
       "      <td>encounter</td>\n",
       "      <td>openepic_shared_sutter_health</td>\n",
       "      <td>Encounter</td>\n",
       "      <td>eRHcB1ExGNvLOwvKNutyGQw3</td>\n",
       "      <td>2022-10-09</td>\n",
       "      <td>Patient/e.SVrRpOEXjMrctGI.3bW5w3</td>\n",
       "      <td>Cohn, Allen</td>\n",
       "      <td>usual</td>\n",
       "      <td>urn:oid:1.2.840.114350.1.13.76.2.7.3.698084.8</td>\n",
       "      <td>1128924261</td>\n",
       "      <td>finished</td>\n",
       "      <td>Support OP Encounter</td>\n",
       "      <td>Telephone</td>\n",
       "      <td>2021-10-13</td>\n",
       "      <td>2021-10-13</td>\n",
       "      <td>Location/eiN6qC8YnZ1Eoewn7H99opA3</td>\n",
       "      <td>Sutter Cardiology, San Francisco</td>\n",
       "      <td>eRHcB1ExGNvLOwvKNutyGQw3</td>\n",
       "      <td>2021-10-13 00:00:00+00:00</td>\n",
       "      <td>2021-10-12</td>\n",
       "      <td>2021-10-12</td>\n",
       "      <td>2021-10-13</td>\n",
       "    </tr>\n",
       "    <tr>\n",
       "      <th>181616</th>\n",
       "      <td>465182</td>\n",
       "      <td>encounter</td>\n",
       "      <td>openepic_shared_sutter_health</td>\n",
       "      <td>Encounter</td>\n",
       "      <td>ekj6UncBy.MlpOEzAWEpIKw3</td>\n",
       "      <td>2022-10-09</td>\n",
       "      <td>Patient/e.SVrRpOEXjMrctGI.3bW5w3</td>\n",
       "      <td>Cohn, Allen</td>\n",
       "      <td>usual</td>\n",
       "      <td>urn:oid:1.2.840.114350.1.13.76.2.7.3.698084.8</td>\n",
       "      <td>1132716016</td>\n",
       "      <td>finished</td>\n",
       "      <td>Support OP Encounter</td>\n",
       "      <td>Telephone</td>\n",
       "      <td>2021-11-02</td>\n",
       "      <td>2021-11-02</td>\n",
       "      <td>Location/eiN6qC8YnZ1Eoewn7H99opA3</td>\n",
       "      <td>Sutter Cardiology, San Francisco</td>\n",
       "      <td>ekj6UncBy.MlpOEzAWEpIKw3</td>\n",
       "      <td>2021-11-02 00:00:00+00:00</td>\n",
       "      <td>2021-11-01</td>\n",
       "      <td>2021-11-01</td>\n",
       "      <td>2021-11-02</td>\n",
       "    </tr>\n",
       "    <tr>\n",
       "      <th>181615</th>\n",
       "      <td>465182</td>\n",
       "      <td>encounter</td>\n",
       "      <td>openepic_shared_sutter_health</td>\n",
       "      <td>Encounter</td>\n",
       "      <td>eTy4hzRFikcA9jeOIaVcStQ3</td>\n",
       "      <td>2022-10-09</td>\n",
       "      <td>Patient/e.SVrRpOEXjMrctGI.3bW5w3</td>\n",
       "      <td>Cohn, Allen</td>\n",
       "      <td>usual</td>\n",
       "      <td>urn:oid:1.2.840.114350.1.13.76.2.7.3.698084.8</td>\n",
       "      <td>1129797635</td>\n",
       "      <td>finished</td>\n",
       "      <td>Appointment</td>\n",
       "      <td>New Patient Consult</td>\n",
       "      <td>2021-11-03T17:20:00Z</td>\n",
       "      <td>2021-11-03T18:00:00Z</td>\n",
       "      <td>Location/eiN6qC8YnZ1Eoewn7H99opA3</td>\n",
       "      <td>Sutter Cardiology, San Francisco</td>\n",
       "      <td>eTy4hzRFikcA9jeOIaVcStQ3</td>\n",
       "      <td>2021-11-03 17:20:00+00:00</td>\n",
       "      <td>2021-11-03</td>\n",
       "      <td>2021-11-03</td>\n",
       "      <td>2021-11-03</td>\n",
       "    </tr>\n",
       "    <tr>\n",
       "      <th>168396</th>\n",
       "      <td>465182</td>\n",
       "      <td>encounter</td>\n",
       "      <td>openepic_shared_sutter_health</td>\n",
       "      <td>Encounter</td>\n",
       "      <td>eTy4hzRFikcA9jeOIaVcStQ3</td>\n",
       "      <td>2022-10-09</td>\n",
       "      <td>Patient/e.SVrRpOEXjMrctGI.3bW5w3</td>\n",
       "      <td>Cohn, Allen</td>\n",
       "      <td>usual</td>\n",
       "      <td>urn:oid:1.2.840.114350.1.13.76.2.7.3.698084.8</td>\n",
       "      <td>1129797635</td>\n",
       "      <td>finished</td>\n",
       "      <td>Appointment</td>\n",
       "      <td>Office Visit</td>\n",
       "      <td>2021-11-03T17:20:00Z</td>\n",
       "      <td>2021-11-03T18:00:00Z</td>\n",
       "      <td>Location/eiN6qC8YnZ1Eoewn7H99opA3</td>\n",
       "      <td>Sutter Cardiology, San Francisco</td>\n",
       "      <td>eTy4hzRFikcA9jeOIaVcStQ3</td>\n",
       "      <td>2021-11-03 17:20:00+00:00</td>\n",
       "      <td>2021-11-03</td>\n",
       "      <td>2021-11-03</td>\n",
       "      <td>2021-11-03</td>\n",
       "    </tr>\n",
       "    <tr>\n",
       "      <th>92813</th>\n",
       "      <td>465182</td>\n",
       "      <td>encounter</td>\n",
       "      <td>openepic_shared_sutter_health</td>\n",
       "      <td>Encounter</td>\n",
       "      <td>ebp1kIVaE3xrWex4Q-HG.Rw3</td>\n",
       "      <td>2022-10-09</td>\n",
       "      <td>Patient/e.SVrRpOEXjMrctGI.3bW5w3</td>\n",
       "      <td>Cohn, Allen</td>\n",
       "      <td>usual</td>\n",
       "      <td>urn:oid:1.2.840.114350.1.13.76.2.7.3.698084.8</td>\n",
       "      <td>1133314469</td>\n",
       "      <td>finished</td>\n",
       "      <td>Support OP Encounter</td>\n",
       "      <td>Telephone</td>\n",
       "      <td>2021-11-04</td>\n",
       "      <td>2021-11-04</td>\n",
       "      <td>Location/eHzfLhgDP4jbUeQq-uEBdtQ3</td>\n",
       "      <td>SPMF Cardiovascular Medicine</td>\n",
       "      <td>ebp1kIVaE3xrWex4Q-HG.Rw3</td>\n",
       "      <td>2021-11-04 00:00:00+00:00</td>\n",
       "      <td>2021-11-03</td>\n",
       "      <td>2021-11-03</td>\n",
       "      <td>2021-11-04</td>\n",
       "    </tr>\n",
       "    <tr>\n",
       "      <th>185327</th>\n",
       "      <td>465182</td>\n",
       "      <td>encounter</td>\n",
       "      <td>openepic_shared_sutter_health</td>\n",
       "      <td>Encounter</td>\n",
       "      <td>e7nkRQJK9oxpwWk6mJrH6jA3</td>\n",
       "      <td>2022-10-09</td>\n",
       "      <td>Patient/e.SVrRpOEXjMrctGI.3bW5w3</td>\n",
       "      <td>Cohn, Allen</td>\n",
       "      <td>usual</td>\n",
       "      <td>urn:oid:1.2.840.114350.1.13.76.2.7.3.698084.8</td>\n",
       "      <td>1133495903</td>\n",
       "      <td>finished</td>\n",
       "      <td>Support OP Encounter</td>\n",
       "      <td>Telephone</td>\n",
       "      <td>2021-11-05</td>\n",
       "      <td>2021-11-05</td>\n",
       "      <td>Location/eHzfLhgDP4jbUeQq-uEBdtQ3</td>\n",
       "      <td>SPMF Cardiovascular Medicine</td>\n",
       "      <td>e7nkRQJK9oxpwWk6mJrH6jA3</td>\n",
       "      <td>2021-11-05 00:00:00+00:00</td>\n",
       "      <td>2021-11-04</td>\n",
       "      <td>2021-11-04</td>\n",
       "      <td>2021-11-05</td>\n",
       "    </tr>\n",
       "    <tr>\n",
       "      <th>100967</th>\n",
       "      <td>465182</td>\n",
       "      <td>encounter</td>\n",
       "      <td>openepic_shared_sutter_health</td>\n",
       "      <td>Encounter</td>\n",
       "      <td>ee302ZYUl116JUoXAPp9xMA3</td>\n",
       "      <td>2022-10-09</td>\n",
       "      <td>Patient/e.SVrRpOEXjMrctGI.3bW5w3</td>\n",
       "      <td>Cohn, Allen</td>\n",
       "      <td>usual</td>\n",
       "      <td>urn:oid:1.2.840.114350.1.13.76.2.7.3.698084.8</td>\n",
       "      <td>1141808461</td>\n",
       "      <td>finished</td>\n",
       "      <td>Support OP Encounter</td>\n",
       "      <td>Telephone</td>\n",
       "      <td>2021-12-21</td>\n",
       "      <td>2021-12-21</td>\n",
       "      <td>Location/eiN6qC8YnZ1Eoewn7H99opA3</td>\n",
       "      <td>Sutter Cardiology, San Francisco</td>\n",
       "      <td>ee302ZYUl116JUoXAPp9xMA3</td>\n",
       "      <td>2021-12-21 00:00:00+00:00</td>\n",
       "      <td>2021-12-20</td>\n",
       "      <td>2021-12-20</td>\n",
       "      <td>2021-12-21</td>\n",
       "    </tr>\n",
       "    <tr>\n",
       "      <th>81805</th>\n",
       "      <td>465182</td>\n",
       "      <td>encounter</td>\n",
       "      <td>openepic_shared_sutter_health</td>\n",
       "      <td>Encounter</td>\n",
       "      <td>eBmy3LOnT1co7Jd9Lp-0OIQ3</td>\n",
       "      <td>2022-10-09</td>\n",
       "      <td>Patient/e.SVrRpOEXjMrctGI.3bW5w3</td>\n",
       "      <td>Cohn, Allen</td>\n",
       "      <td>usual</td>\n",
       "      <td>urn:oid:1.2.840.114350.1.13.76.2.7.3.698084.8</td>\n",
       "      <td>1137495343</td>\n",
       "      <td>finished</td>\n",
       "      <td>Appointment</td>\n",
       "      <td>Established Patient Return</td>\n",
       "      <td>2021-12-22T18:40:00Z</td>\n",
       "      <td>2021-12-22T19:00:00Z</td>\n",
       "      <td>Location/eiN6qC8YnZ1Eoewn7H99opA3</td>\n",
       "      <td>Sutter Cardiology, San Francisco</td>\n",
       "      <td>eBmy3LOnT1co7Jd9Lp-0OIQ3</td>\n",
       "      <td>2021-12-22 18:40:00+00:00</td>\n",
       "      <td>2021-12-22</td>\n",
       "      <td>2021-12-22</td>\n",
       "      <td>2021-12-22</td>\n",
       "    </tr>\n",
       "    <tr>\n",
       "      <th>100966</th>\n",
       "      <td>465182</td>\n",
       "      <td>encounter</td>\n",
       "      <td>openepic_shared_sutter_health</td>\n",
       "      <td>Encounter</td>\n",
       "      <td>eBmy3LOnT1co7Jd9Lp-0OIQ3</td>\n",
       "      <td>2022-10-09</td>\n",
       "      <td>Patient/e.SVrRpOEXjMrctGI.3bW5w3</td>\n",
       "      <td>Cohn, Allen</td>\n",
       "      <td>usual</td>\n",
       "      <td>urn:oid:1.2.840.114350.1.13.76.2.7.3.698084.8</td>\n",
       "      <td>1137495343</td>\n",
       "      <td>finished</td>\n",
       "      <td>Appointment</td>\n",
       "      <td>Office Visit</td>\n",
       "      <td>2021-12-22T18:40:00Z</td>\n",
       "      <td>2021-12-22T19:00:00Z</td>\n",
       "      <td>Location/eiN6qC8YnZ1Eoewn7H99opA3</td>\n",
       "      <td>Sutter Cardiology, San Francisco</td>\n",
       "      <td>eBmy3LOnT1co7Jd9Lp-0OIQ3</td>\n",
       "      <td>2021-12-22 18:40:00+00:00</td>\n",
       "      <td>2021-12-22</td>\n",
       "      <td>2021-12-22</td>\n",
       "      <td>2021-12-22</td>\n",
       "    </tr>\n",
       "    <tr>\n",
       "      <th>185326</th>\n",
       "      <td>465182</td>\n",
       "      <td>encounter</td>\n",
       "      <td>openepic_shared_sutter_health</td>\n",
       "      <td>Encounter</td>\n",
       "      <td>e6MHzKWg5ji8FWGYnf-ngBw3</td>\n",
       "      <td>2022-10-09</td>\n",
       "      <td>Patient/e.SVrRpOEXjMrctGI.3bW5w3</td>\n",
       "      <td>Cohn, Allen</td>\n",
       "      <td>usual</td>\n",
       "      <td>urn:oid:1.2.840.114350.1.13.76.2.7.3.698084.8</td>\n",
       "      <td>1147010952</td>\n",
       "      <td>finished</td>\n",
       "      <td>Support OP Encounter</td>\n",
       "      <td>Refill</td>\n",
       "      <td>2022-01-18</td>\n",
       "      <td>2022-01-18</td>\n",
       "      <td>Location/eiN6qC8YnZ1Eoewn7H99opA3</td>\n",
       "      <td>Sutter Cardiology, San Francisco</td>\n",
       "      <td>e6MHzKWg5ji8FWGYnf-ngBw3</td>\n",
       "      <td>2022-01-18 00:00:00+00:00</td>\n",
       "      <td>2022-01-17</td>\n",
       "      <td>2022-01-17</td>\n",
       "      <td>2022-01-18</td>\n",
       "    </tr>\n",
       "    <tr>\n",
       "      <th>81804</th>\n",
       "      <td>465182</td>\n",
       "      <td>encounter</td>\n",
       "      <td>openepic_shared_sutter_health</td>\n",
       "      <td>Encounter</td>\n",
       "      <td>eC7sVKjuIUk4b5vrzR6eepQ3</td>\n",
       "      <td>2022-10-09</td>\n",
       "      <td>Patient/e.SVrRpOEXjMrctGI.3bW5w3</td>\n",
       "      <td>Cohn, Allen</td>\n",
       "      <td>usual</td>\n",
       "      <td>urn:oid:1.2.840.114350.1.13.76.2.7.3.698084.8</td>\n",
       "      <td>1180528698</td>\n",
       "      <td>finished</td>\n",
       "      <td>HOV</td>\n",
       "      <td>Elective</td>\n",
       "      <td>2022-07-01T19:05:48Z</td>\n",
       "      <td>2022-07-02T06:59:00Z</td>\n",
       "      <td>Location/ekdP6uri7jiVIkavEdSAHbyTpqVhDR8n7uPx9uRRMN2Q3</td>\n",
       "      <td>CPMC Pacific Campus Radiology MOB</td>\n",
       "      <td>eC7sVKjuIUk4b5vrzR6eepQ3</td>\n",
       "      <td>2022-07-01 19:05:48+00:00</td>\n",
       "      <td>2022-07-01</td>\n",
       "      <td>2022-07-01</td>\n",
       "      <td>2022-07-02</td>\n",
       "    </tr>\n",
       "    <tr>\n",
       "      <th>92810</th>\n",
       "      <td>465182</td>\n",
       "      <td>encounter</td>\n",
       "      <td>openepic_shared_sutter_health</td>\n",
       "      <td>Encounter</td>\n",
       "      <td>eC7sVKjuIUk4b5vrzR6eepQ3</td>\n",
       "      <td>2022-10-09</td>\n",
       "      <td>Patient/e.SVrRpOEXjMrctGI.3bW5w3</td>\n",
       "      <td>Cohn, Allen</td>\n",
       "      <td>usual</td>\n",
       "      <td>urn:oid:1.2.840.114350.1.13.76.2.7.3.698084.8</td>\n",
       "      <td>1180528698</td>\n",
       "      <td>finished</td>\n",
       "      <td>HOV</td>\n",
       "      <td>Xr General 15</td>\n",
       "      <td>2022-07-01T19:05:48Z</td>\n",
       "      <td>2022-07-02T06:59:00Z</td>\n",
       "      <td>Location/ekdP6uri7jiVIkavEdSAHbyTpqVhDR8n7uPx9uRRMN2Q3</td>\n",
       "      <td>CPMC Pacific Campus Radiology MOB</td>\n",
       "      <td>eC7sVKjuIUk4b5vrzR6eepQ3</td>\n",
       "      <td>2022-07-01 19:05:48+00:00</td>\n",
       "      <td>2022-07-01</td>\n",
       "      <td>2022-07-01</td>\n",
       "      <td>2022-07-02</td>\n",
       "    </tr>\n",
       "    <tr>\n",
       "      <th>92811</th>\n",
       "      <td>465182</td>\n",
       "      <td>encounter</td>\n",
       "      <td>openepic_shared_sutter_health</td>\n",
       "      <td>Encounter</td>\n",
       "      <td>eC7sVKjuIUk4b5vrzR6eepQ3</td>\n",
       "      <td>2022-10-09</td>\n",
       "      <td>Patient/e.SVrRpOEXjMrctGI.3bW5w3</td>\n",
       "      <td>Cohn, Allen</td>\n",
       "      <td>usual</td>\n",
       "      <td>urn:oid:1.2.840.114350.1.13.76.2.7.3.698084.8</td>\n",
       "      <td>1180528698</td>\n",
       "      <td>finished</td>\n",
       "      <td>HOV</td>\n",
       "      <td>Outpatient</td>\n",
       "      <td>2022-07-01T19:05:48Z</td>\n",
       "      <td>2022-07-02T06:59:00Z</td>\n",
       "      <td>Location/e-2yRijoQ0PTgRzoeQ.5pcA3</td>\n",
       "      <td>WEST BAY REGION ACUTE CARE SERVICES</td>\n",
       "      <td>eC7sVKjuIUk4b5vrzR6eepQ3</td>\n",
       "      <td>2022-07-01 19:05:48+00:00</td>\n",
       "      <td>2022-07-01</td>\n",
       "      <td>2022-07-01</td>\n",
       "      <td>2022-07-02</td>\n",
       "    </tr>\n",
       "    <tr>\n",
       "      <th>92812</th>\n",
       "      <td>465182</td>\n",
       "      <td>encounter</td>\n",
       "      <td>openepic_shared_sutter_health</td>\n",
       "      <td>Encounter</td>\n",
       "      <td>eC7sVKjuIUk4b5vrzR6eepQ3</td>\n",
       "      <td>2022-10-09</td>\n",
       "      <td>Patient/e.SVrRpOEXjMrctGI.3bW5w3</td>\n",
       "      <td>Cohn, Allen</td>\n",
       "      <td>usual</td>\n",
       "      <td>urn:oid:1.2.840.114350.1.13.76.2.7.3.698084.8</td>\n",
       "      <td>1180528698</td>\n",
       "      <td>finished</td>\n",
       "      <td>HOV</td>\n",
       "      <td>Xr General 15</td>\n",
       "      <td>2022-07-01T19:05:48Z</td>\n",
       "      <td>2022-07-02T06:59:00Z</td>\n",
       "      <td>Location/e-2yRijoQ0PTgRzoeQ.5pcA3</td>\n",
       "      <td>WEST BAY REGION ACUTE CARE SERVICES</td>\n",
       "      <td>eC7sVKjuIUk4b5vrzR6eepQ3</td>\n",
       "      <td>2022-07-01 19:05:48+00:00</td>\n",
       "      <td>2022-07-01</td>\n",
       "      <td>2022-07-01</td>\n",
       "      <td>2022-07-02</td>\n",
       "    </tr>\n",
       "    <tr>\n",
       "      <th>181614</th>\n",
       "      <td>465182</td>\n",
       "      <td>encounter</td>\n",
       "      <td>openepic_shared_sutter_health</td>\n",
       "      <td>Encounter</td>\n",
       "      <td>eC7sVKjuIUk4b5vrzR6eepQ3</td>\n",
       "      <td>2022-10-09</td>\n",
       "      <td>Patient/e.SVrRpOEXjMrctGI.3bW5w3</td>\n",
       "      <td>Cohn, Allen</td>\n",
       "      <td>usual</td>\n",
       "      <td>urn:oid:1.2.840.114350.1.13.76.2.7.3.698084.8</td>\n",
       "      <td>1180528698</td>\n",
       "      <td>finished</td>\n",
       "      <td>HOV</td>\n",
       "      <td>Elective</td>\n",
       "      <td>2022-07-01T19:05:48Z</td>\n",
       "      <td>2022-07-02T06:59:00Z</td>\n",
       "      <td>Location/e-2yRijoQ0PTgRzoeQ.5pcA3</td>\n",
       "      <td>WEST BAY REGION ACUTE CARE SERVICES</td>\n",
       "      <td>eC7sVKjuIUk4b5vrzR6eepQ3</td>\n",
       "      <td>2022-07-01 19:05:48+00:00</td>\n",
       "      <td>2022-07-01</td>\n",
       "      <td>2022-07-01</td>\n",
       "      <td>2022-07-02</td>\n",
       "    </tr>\n",
       "    <tr>\n",
       "      <th>142161</th>\n",
       "      <td>465182</td>\n",
       "      <td>encounter</td>\n",
       "      <td>openepic_shared_sutter_health</td>\n",
       "      <td>Encounter</td>\n",
       "      <td>eC7sVKjuIUk4b5vrzR6eepQ3</td>\n",
       "      <td>2022-10-09</td>\n",
       "      <td>Patient/e.SVrRpOEXjMrctGI.3bW5w3</td>\n",
       "      <td>Cohn, Allen</td>\n",
       "      <td>usual</td>\n",
       "      <td>urn:oid:1.2.840.114350.1.13.76.2.7.3.698084.8</td>\n",
       "      <td>1180528698</td>\n",
       "      <td>finished</td>\n",
       "      <td>HOV</td>\n",
       "      <td>Hospital Encounter</td>\n",
       "      <td>2022-07-01T19:05:48Z</td>\n",
       "      <td>2022-07-02T06:59:00Z</td>\n",
       "      <td>Location/e-2yRijoQ0PTgRzoeQ.5pcA3</td>\n",
       "      <td>WEST BAY REGION ACUTE CARE SERVICES</td>\n",
       "      <td>eC7sVKjuIUk4b5vrzR6eepQ3</td>\n",
       "      <td>2022-07-01 19:05:48+00:00</td>\n",
       "      <td>2022-07-01</td>\n",
       "      <td>2022-07-01</td>\n",
       "      <td>2022-07-02</td>\n",
       "    </tr>\n",
       "    <tr>\n",
       "      <th>185325</th>\n",
       "      <td>465182</td>\n",
       "      <td>encounter</td>\n",
       "      <td>openepic_shared_sutter_health</td>\n",
       "      <td>Encounter</td>\n",
       "      <td>eC7sVKjuIUk4b5vrzR6eepQ3</td>\n",
       "      <td>2022-10-09</td>\n",
       "      <td>Patient/e.SVrRpOEXjMrctGI.3bW5w3</td>\n",
       "      <td>Cohn, Allen</td>\n",
       "      <td>usual</td>\n",
       "      <td>urn:oid:1.2.840.114350.1.13.76.2.7.3.698084.8</td>\n",
       "      <td>1180528698</td>\n",
       "      <td>finished</td>\n",
       "      <td>HOV</td>\n",
       "      <td>Hospital Encounter</td>\n",
       "      <td>2022-07-01T19:05:48Z</td>\n",
       "      <td>2022-07-02T06:59:00Z</td>\n",
       "      <td>Location/ekdP6uri7jiVIkavEdSAHbyTpqVhDR8n7uPx9uRRMN2Q3</td>\n",
       "      <td>CPMC Pacific Campus Radiology MOB</td>\n",
       "      <td>eC7sVKjuIUk4b5vrzR6eepQ3</td>\n",
       "      <td>2022-07-01 19:05:48+00:00</td>\n",
       "      <td>2022-07-01</td>\n",
       "      <td>2022-07-01</td>\n",
       "      <td>2022-07-02</td>\n",
       "    </tr>\n",
       "    <tr>\n",
       "      <th>81803</th>\n",
       "      <td>465182</td>\n",
       "      <td>encounter</td>\n",
       "      <td>openepic_shared_sutter_health</td>\n",
       "      <td>Encounter</td>\n",
       "      <td>eC7sVKjuIUk4b5vrzR6eepQ3</td>\n",
       "      <td>2022-10-09</td>\n",
       "      <td>Patient/e.SVrRpOEXjMrctGI.3bW5w3</td>\n",
       "      <td>Cohn, Allen</td>\n",
       "      <td>usual</td>\n",
       "      <td>urn:oid:1.2.840.114350.1.13.76.2.7.3.698084.8</td>\n",
       "      <td>1180528698</td>\n",
       "      <td>finished</td>\n",
       "      <td>HOV</td>\n",
       "      <td>Outpatient</td>\n",
       "      <td>2022-07-01T19:05:48Z</td>\n",
       "      <td>2022-07-02T06:59:00Z</td>\n",
       "      <td>Location/ekdP6uri7jiVIkavEdSAHbyTpqVhDR8n7uPx9uRRMN2Q3</td>\n",
       "      <td>CPMC Pacific Campus Radiology MOB</td>\n",
       "      <td>eC7sVKjuIUk4b5vrzR6eepQ3</td>\n",
       "      <td>2022-07-01 19:05:48+00:00</td>\n",
       "      <td>2022-07-01</td>\n",
       "      <td>2022-07-01</td>\n",
       "      <td>2022-07-02</td>\n",
       "    </tr>\n",
       "    <tr>\n",
       "      <th>185324</th>\n",
       "      <td>465182</td>\n",
       "      <td>encounter</td>\n",
       "      <td>openepic_shared_sutter_health</td>\n",
       "      <td>Encounter</td>\n",
       "      <td>eRgXSF5BC5-AbJMZpRZ5NMg3</td>\n",
       "      <td>2022-10-09</td>\n",
       "      <td>Patient/e.SVrRpOEXjMrctGI.3bW5w3</td>\n",
       "      <td>Cohn, Allen</td>\n",
       "      <td>usual</td>\n",
       "      <td>urn:oid:1.2.840.114350.1.13.76.2.7.3.698084.8</td>\n",
       "      <td>1195737350</td>\n",
       "      <td>finished</td>\n",
       "      <td>Appointment</td>\n",
       "      <td>Immunization Clinic</td>\n",
       "      <td>2022-09-27T22:30:00Z</td>\n",
       "      <td>2022-09-27T22:45:00Z</td>\n",
       "      <td>Location/eXrhVmC8yKUUg-iCJetjM0Q3</td>\n",
       "      <td>Family Medicine 3838 California</td>\n",
       "      <td>eRgXSF5BC5-AbJMZpRZ5NMg3</td>\n",
       "      <td>2022-09-27 22:30:00+00:00</td>\n",
       "      <td>2022-09-27</td>\n",
       "      <td>2022-09-27</td>\n",
       "      <td>2022-09-27</td>\n",
       "    </tr>\n",
       "    <tr>\n",
       "      <th>181613</th>\n",
       "      <td>465182</td>\n",
       "      <td>encounter</td>\n",
       "      <td>openepic_shared_sutter_health</td>\n",
       "      <td>Encounter</td>\n",
       "      <td>eRgXSF5BC5-AbJMZpRZ5NMg3</td>\n",
       "      <td>2022-10-09</td>\n",
       "      <td>Patient/e.SVrRpOEXjMrctGI.3bW5w3</td>\n",
       "      <td>Cohn, Allen</td>\n",
       "      <td>usual</td>\n",
       "      <td>urn:oid:1.2.840.114350.1.13.76.2.7.3.698084.8</td>\n",
       "      <td>1195737350</td>\n",
       "      <td>finished</td>\n",
       "      <td>Appointment</td>\n",
       "      <td>COVID19 Moderna Bivalent Booster</td>\n",
       "      <td>2022-09-27T22:30:00Z</td>\n",
       "      <td>2022-09-27T22:45:00Z</td>\n",
       "      <td>Location/eXrhVmC8yKUUg-iCJetjM0Q3</td>\n",
       "      <td>Family Medicine 3838 California</td>\n",
       "      <td>eRgXSF5BC5-AbJMZpRZ5NMg3</td>\n",
       "      <td>2022-09-27 22:30:00+00:00</td>\n",
       "      <td>2022-09-27</td>\n",
       "      <td>2022-09-27</td>\n",
       "      <td>2022-09-27</td>\n",
       "    </tr>\n",
       "  </tbody>\n",
       "</table>\n",
       "</div>"
      ],
      "text/plain": [
       "        user_id   resource                       provider resourcetype  \\\n",
       "168404   465182  encounter  openepic_shared_sutter_health    Encounter   \n",
       "169562   465182  encounter  openepic_shared_sutter_health    Encounter   \n",
       "169563   465182  encounter  openepic_shared_sutter_health    Encounter   \n",
       "169564   465182  encounter  openepic_shared_sutter_health    Encounter   \n",
       "92825    465182  encounter  openepic_shared_sutter_health    Encounter   \n",
       "181714   465182  encounter  openepic_shared_sutter_health    Encounter   \n",
       "181713   465182  encounter  openepic_shared_sutter_health    Encounter   \n",
       "92824    465182  encounter  openepic_shared_sutter_health    Encounter   \n",
       "169560   465182  encounter  openepic_shared_sutter_health    Encounter   \n",
       "169561   465182  encounter  openepic_shared_sutter_health    Encounter   \n",
       "142498   465182  encounter  openepic_shared_sutter_health    Encounter   \n",
       "142497   465182  encounter  openepic_shared_sutter_health    Encounter   \n",
       "92823    465182  encounter  openepic_shared_sutter_health    Encounter   \n",
       "92822    465182  encounter  openepic_shared_sutter_health    Encounter   \n",
       "92821    465182  encounter  openepic_shared_sutter_health    Encounter   \n",
       "185335   465182  encounter  openepic_shared_sutter_health    Encounter   \n",
       "185334   465182  encounter  openepic_shared_sutter_health    Encounter   \n",
       "92820    465182  encounter  openepic_shared_sutter_health    Encounter   \n",
       "181711   465182  encounter  openepic_shared_sutter_health    Encounter   \n",
       "181712   465182  encounter  openepic_shared_sutter_health    Encounter   \n",
       "81809    465182  encounter  openepic_shared_sutter_health    Encounter   \n",
       "81810    465182  encounter  openepic_shared_sutter_health    Encounter   \n",
       "100974   465182  encounter  openepic_shared_sutter_health    Encounter   \n",
       "100973   465182  encounter  openepic_shared_sutter_health    Encounter   \n",
       "92818    465182  encounter  openepic_shared_sutter_health    Encounter   \n",
       "169559   465182  encounter  openepic_shared_sutter_health    Encounter   \n",
       "185333   465182  encounter  openepic_shared_sutter_health    Encounter   \n",
       "142496   465182  encounter  openepic_shared_sutter_health    Encounter   \n",
       "100972   465182  encounter  openepic_shared_sutter_health    Encounter   \n",
       "181624   465182  encounter  openepic_shared_sutter_health    Encounter   \n",
       "92819    465182  encounter  openepic_shared_sutter_health    Encounter   \n",
       "181625   465182  encounter  openepic_shared_sutter_health    Encounter   \n",
       "81807    465182  encounter  openepic_shared_sutter_health    Encounter   \n",
       "92817    465182  encounter  openepic_shared_sutter_health    Encounter   \n",
       "168403   465182  encounter  openepic_shared_sutter_health    Encounter   \n",
       "81808    465182  encounter  openepic_shared_sutter_health    Encounter   \n",
       "169360   465182  encounter  openepic_shared_sutter_health    Encounter   \n",
       "185332   465182  encounter  openepic_shared_sutter_health    Encounter   \n",
       "100971   465182  encounter  openepic_shared_sutter_health    Encounter   \n",
       "185331   465182  encounter  openepic_shared_sutter_health    Encounter   \n",
       "92816    465182  encounter  openepic_shared_sutter_health    Encounter   \n",
       "92815    465182  encounter  openepic_shared_sutter_health    Encounter   \n",
       "142166   465182  encounter  openepic_shared_sutter_health    Encounter   \n",
       "142165   465182  encounter  openepic_shared_sutter_health    Encounter   \n",
       "181623   465182  encounter  openepic_shared_sutter_health    Encounter   \n",
       "181622   465182  encounter  openepic_shared_sutter_health    Encounter   \n",
       "168402   465182  encounter  openepic_shared_sutter_health    Encounter   \n",
       "169359   465182  encounter  openepic_shared_sutter_health    Encounter   \n",
       "181620   465182  encounter  openepic_shared_sutter_health    Encounter   \n",
       "185328   465182  encounter  openepic_shared_sutter_health    Encounter   \n",
       "181619   465182  encounter  openepic_shared_sutter_health    Encounter   \n",
       "168399   465182  encounter  openepic_shared_sutter_health    Encounter   \n",
       "142163   465182  encounter  openepic_shared_sutter_health    Encounter   \n",
       "100968   465182  encounter  openepic_shared_sutter_health    Encounter   \n",
       "100969   465182  encounter  openepic_shared_sutter_health    Encounter   \n",
       "100970   465182  encounter  openepic_shared_sutter_health    Encounter   \n",
       "181621   465182  encounter  openepic_shared_sutter_health    Encounter   \n",
       "81806    465182  encounter  openepic_shared_sutter_health    Encounter   \n",
       "169358   465182  encounter  openepic_shared_sutter_health    Encounter   \n",
       "168401   465182  encounter  openepic_shared_sutter_health    Encounter   \n",
       "168400   465182  encounter  openepic_shared_sutter_health    Encounter   \n",
       "185330   465182  encounter  openepic_shared_sutter_health    Encounter   \n",
       "185329   465182  encounter  openepic_shared_sutter_health    Encounter   \n",
       "142164   465182  encounter  openepic_shared_sutter_health    Encounter   \n",
       "92814    465182  encounter  openepic_shared_sutter_health    Encounter   \n",
       "169355   465182  encounter  openepic_shared_sutter_health    Encounter   \n",
       "181618   465182  encounter  openepic_shared_sutter_health    Encounter   \n",
       "169356   465182  encounter  openepic_shared_sutter_health    Encounter   \n",
       "169357   465182  encounter  openepic_shared_sutter_health    Encounter   \n",
       "168398   465182  encounter  openepic_shared_sutter_health    Encounter   \n",
       "181617   465182  encounter  openepic_shared_sutter_health    Encounter   \n",
       "168397   465182  encounter  openepic_shared_sutter_health    Encounter   \n",
       "142162   465182  encounter  openepic_shared_sutter_health    Encounter   \n",
       "181616   465182  encounter  openepic_shared_sutter_health    Encounter   \n",
       "181615   465182  encounter  openepic_shared_sutter_health    Encounter   \n",
       "168396   465182  encounter  openepic_shared_sutter_health    Encounter   \n",
       "92813    465182  encounter  openepic_shared_sutter_health    Encounter   \n",
       "185327   465182  encounter  openepic_shared_sutter_health    Encounter   \n",
       "100967   465182  encounter  openepic_shared_sutter_health    Encounter   \n",
       "81805    465182  encounter  openepic_shared_sutter_health    Encounter   \n",
       "100966   465182  encounter  openepic_shared_sutter_health    Encounter   \n",
       "185326   465182  encounter  openepic_shared_sutter_health    Encounter   \n",
       "81804    465182  encounter  openepic_shared_sutter_health    Encounter   \n",
       "92810    465182  encounter  openepic_shared_sutter_health    Encounter   \n",
       "92811    465182  encounter  openepic_shared_sutter_health    Encounter   \n",
       "92812    465182  encounter  openepic_shared_sutter_health    Encounter   \n",
       "181614   465182  encounter  openepic_shared_sutter_health    Encounter   \n",
       "142161   465182  encounter  openepic_shared_sutter_health    Encounter   \n",
       "185325   465182  encounter  openepic_shared_sutter_health    Encounter   \n",
       "81803    465182  encounter  openepic_shared_sutter_health    Encounter   \n",
       "185324   465182  encounter  openepic_shared_sutter_health    Encounter   \n",
       "181613   465182  encounter  openepic_shared_sutter_health    Encounter   \n",
       "\n",
       "                              id uploaded_date  \\\n",
       "168404  eA47CZKxN6KOcnco3KHCLyQ3    2022-10-09   \n",
       "169562  eA47CZKxN6KOcnco3KHCLyQ3    2022-10-09   \n",
       "169563  eA47CZKxN6KOcnco3KHCLyQ3    2022-10-09   \n",
       "169564  eA47CZKxN6KOcnco3KHCLyQ3    2022-10-09   \n",
       "92825   eA47CZKxN6KOcnco3KHCLyQ3    2022-10-09   \n",
       "181714  eA47CZKxN6KOcnco3KHCLyQ3    2022-10-09   \n",
       "181713  eA47CZKxN6KOcnco3KHCLyQ3    2022-10-09   \n",
       "92824   eA47CZKxN6KOcnco3KHCLyQ3    2022-10-09   \n",
       "169560  eVu68Wir4jVDE-mCXTPvevQ3    2022-10-09   \n",
       "169561  eVu68Wir4jVDE-mCXTPvevQ3    2022-10-09   \n",
       "142498  eVu68Wir4jVDE-mCXTPvevQ3    2022-10-09   \n",
       "142497  eVu68Wir4jVDE-mCXTPvevQ3    2022-10-09   \n",
       "92823   eVu68Wir4jVDE-mCXTPvevQ3    2022-10-09   \n",
       "92822   eVu68Wir4jVDE-mCXTPvevQ3    2022-10-09   \n",
       "92821   eVu68Wir4jVDE-mCXTPvevQ3    2022-10-09   \n",
       "185335  eVu68Wir4jVDE-mCXTPvevQ3    2022-10-09   \n",
       "185334  eL-xWD2u-robzftIMdAbJxg3    2022-10-09   \n",
       "92820   eL-xWD2u-robzftIMdAbJxg3    2022-10-09   \n",
       "181711  eL-xWD2u-robzftIMdAbJxg3    2022-10-09   \n",
       "181712  eL-xWD2u-robzftIMdAbJxg3    2022-10-09   \n",
       "81809   eL-xWD2u-robzftIMdAbJxg3    2022-10-09   \n",
       "81810   eL-xWD2u-robzftIMdAbJxg3    2022-10-09   \n",
       "100974  eL-xWD2u-robzftIMdAbJxg3    2022-10-09   \n",
       "100973  eL-xWD2u-robzftIMdAbJxg3    2022-10-09   \n",
       "92818   e6Mx.R6h2UiUewW6WQGggzA3    2022-10-09   \n",
       "169559  e6Mx.R6h2UiUewW6WQGggzA3    2022-10-09   \n",
       "185333  e6Mx.R6h2UiUewW6WQGggzA3    2022-10-09   \n",
       "142496  e6Mx.R6h2UiUewW6WQGggzA3    2022-10-09   \n",
       "100972  e6Mx.R6h2UiUewW6WQGggzA3    2022-10-09   \n",
       "181624  e6Mx.R6h2UiUewW6WQGggzA3    2022-10-09   \n",
       "92819   e6Mx.R6h2UiUewW6WQGggzA3    2022-10-09   \n",
       "181625  e6Mx.R6h2UiUewW6WQGggzA3    2022-10-09   \n",
       "81807   eF-elTwbXU7J3JUpROp1I0Q3    2022-10-09   \n",
       "92817   eF-elTwbXU7J3JUpROp1I0Q3    2022-10-09   \n",
       "168403  eF-elTwbXU7J3JUpROp1I0Q3    2022-10-09   \n",
       "81808   eF-elTwbXU7J3JUpROp1I0Q3    2022-10-09   \n",
       "169360  eF-elTwbXU7J3JUpROp1I0Q3    2022-10-09   \n",
       "185332  eF-elTwbXU7J3JUpROp1I0Q3    2022-10-09   \n",
       "100971  eF-elTwbXU7J3JUpROp1I0Q3    2022-10-09   \n",
       "185331  eF-elTwbXU7J3JUpROp1I0Q3    2022-10-09   \n",
       "92816   eKW.qa9FCenjDi7W1MgSbpw3    2022-10-09   \n",
       "92815   eKW.qa9FCenjDi7W1MgSbpw3    2022-10-09   \n",
       "142166  eKW.qa9FCenjDi7W1MgSbpw3    2022-10-09   \n",
       "142165  eKW.qa9FCenjDi7W1MgSbpw3    2022-10-09   \n",
       "181623  eKW.qa9FCenjDi7W1MgSbpw3    2022-10-09   \n",
       "181622  eKW.qa9FCenjDi7W1MgSbpw3    2022-10-09   \n",
       "168402  eKW.qa9FCenjDi7W1MgSbpw3    2022-10-09   \n",
       "169359  eKW.qa9FCenjDi7W1MgSbpw3    2022-10-09   \n",
       "181620  ekys8nRWdQHVfCiZSXthxTw3    2022-10-09   \n",
       "185328  ekys8nRWdQHVfCiZSXthxTw3    2022-10-09   \n",
       "181619  ekys8nRWdQHVfCiZSXthxTw3    2022-10-09   \n",
       "168399  ekys8nRWdQHVfCiZSXthxTw3    2022-10-09   \n",
       "142163  ekys8nRWdQHVfCiZSXthxTw3    2022-10-09   \n",
       "100968  ekys8nRWdQHVfCiZSXthxTw3    2022-10-09   \n",
       "100969  ekys8nRWdQHVfCiZSXthxTw3    2022-10-09   \n",
       "100970  ekys8nRWdQHVfCiZSXthxTw3    2022-10-09   \n",
       "181621  eNh7JVOOWn3y7ozXFTtcZFg3    2022-10-09   \n",
       "81806   eNh7JVOOWn3y7ozXFTtcZFg3    2022-10-09   \n",
       "169358  eNh7JVOOWn3y7ozXFTtcZFg3    2022-10-09   \n",
       "168401  eNh7JVOOWn3y7ozXFTtcZFg3    2022-10-09   \n",
       "168400  eNh7JVOOWn3y7ozXFTtcZFg3    2022-10-09   \n",
       "185330  eNh7JVOOWn3y7ozXFTtcZFg3    2022-10-09   \n",
       "185329  eNh7JVOOWn3y7ozXFTtcZFg3    2022-10-09   \n",
       "142164  eNh7JVOOWn3y7ozXFTtcZFg3    2022-10-09   \n",
       "92814   eLt8K2eIuf0gzZLbe9ZLy7g3    2022-10-09   \n",
       "169355  eLt8K2eIuf0gzZLbe9ZLy7g3    2022-10-09   \n",
       "181618  eLt8K2eIuf0gzZLbe9ZLy7g3    2022-10-09   \n",
       "169356  eLt8K2eIuf0gzZLbe9ZLy7g3    2022-10-09   \n",
       "169357  eLt8K2eIuf0gzZLbe9ZLy7g3    2022-10-09   \n",
       "168398  eLt8K2eIuf0gzZLbe9ZLy7g3    2022-10-09   \n",
       "181617  eLt8K2eIuf0gzZLbe9ZLy7g3    2022-10-09   \n",
       "168397  eLt8K2eIuf0gzZLbe9ZLy7g3    2022-10-09   \n",
       "142162  eRHcB1ExGNvLOwvKNutyGQw3    2022-10-09   \n",
       "181616  ekj6UncBy.MlpOEzAWEpIKw3    2022-10-09   \n",
       "181615  eTy4hzRFikcA9jeOIaVcStQ3    2022-10-09   \n",
       "168396  eTy4hzRFikcA9jeOIaVcStQ3    2022-10-09   \n",
       "92813   ebp1kIVaE3xrWex4Q-HG.Rw3    2022-10-09   \n",
       "185327  e7nkRQJK9oxpwWk6mJrH6jA3    2022-10-09   \n",
       "100967  ee302ZYUl116JUoXAPp9xMA3    2022-10-09   \n",
       "81805   eBmy3LOnT1co7Jd9Lp-0OIQ3    2022-10-09   \n",
       "100966  eBmy3LOnT1co7Jd9Lp-0OIQ3    2022-10-09   \n",
       "185326  e6MHzKWg5ji8FWGYnf-ngBw3    2022-10-09   \n",
       "81804   eC7sVKjuIUk4b5vrzR6eepQ3    2022-10-09   \n",
       "92810   eC7sVKjuIUk4b5vrzR6eepQ3    2022-10-09   \n",
       "92811   eC7sVKjuIUk4b5vrzR6eepQ3    2022-10-09   \n",
       "92812   eC7sVKjuIUk4b5vrzR6eepQ3    2022-10-09   \n",
       "181614  eC7sVKjuIUk4b5vrzR6eepQ3    2022-10-09   \n",
       "142161  eC7sVKjuIUk4b5vrzR6eepQ3    2022-10-09   \n",
       "185325  eC7sVKjuIUk4b5vrzR6eepQ3    2022-10-09   \n",
       "81803   eC7sVKjuIUk4b5vrzR6eepQ3    2022-10-09   \n",
       "185324  eRgXSF5BC5-AbJMZpRZ5NMg3    2022-10-09   \n",
       "181613  eRgXSF5BC5-AbJMZpRZ5NMg3    2022-10-09   \n",
       "\n",
       "                               reference      display    use  \\\n",
       "168404  Patient/e.SVrRpOEXjMrctGI.3bW5w3  Cohn, Allen  usual   \n",
       "169562  Patient/e.SVrRpOEXjMrctGI.3bW5w3  Cohn, Allen  usual   \n",
       "169563  Patient/e.SVrRpOEXjMrctGI.3bW5w3  Cohn, Allen  usual   \n",
       "169564  Patient/e.SVrRpOEXjMrctGI.3bW5w3  Cohn, Allen  usual   \n",
       "92825   Patient/e.SVrRpOEXjMrctGI.3bW5w3  Cohn, Allen  usual   \n",
       "181714  Patient/e.SVrRpOEXjMrctGI.3bW5w3  Cohn, Allen  usual   \n",
       "181713  Patient/e.SVrRpOEXjMrctGI.3bW5w3  Cohn, Allen  usual   \n",
       "92824   Patient/e.SVrRpOEXjMrctGI.3bW5w3  Cohn, Allen  usual   \n",
       "169560  Patient/e.SVrRpOEXjMrctGI.3bW5w3  Cohn, Allen  usual   \n",
       "169561  Patient/e.SVrRpOEXjMrctGI.3bW5w3  Cohn, Allen  usual   \n",
       "142498  Patient/e.SVrRpOEXjMrctGI.3bW5w3  Cohn, Allen  usual   \n",
       "142497  Patient/e.SVrRpOEXjMrctGI.3bW5w3  Cohn, Allen  usual   \n",
       "92823   Patient/e.SVrRpOEXjMrctGI.3bW5w3  Cohn, Allen  usual   \n",
       "92822   Patient/e.SVrRpOEXjMrctGI.3bW5w3  Cohn, Allen  usual   \n",
       "92821   Patient/e.SVrRpOEXjMrctGI.3bW5w3  Cohn, Allen  usual   \n",
       "185335  Patient/e.SVrRpOEXjMrctGI.3bW5w3  Cohn, Allen  usual   \n",
       "185334  Patient/e.SVrRpOEXjMrctGI.3bW5w3  Cohn, Allen  usual   \n",
       "92820   Patient/e.SVrRpOEXjMrctGI.3bW5w3  Cohn, Allen  usual   \n",
       "181711  Patient/e.SVrRpOEXjMrctGI.3bW5w3  Cohn, Allen  usual   \n",
       "181712  Patient/e.SVrRpOEXjMrctGI.3bW5w3  Cohn, Allen  usual   \n",
       "81809   Patient/e.SVrRpOEXjMrctGI.3bW5w3  Cohn, Allen  usual   \n",
       "81810   Patient/e.SVrRpOEXjMrctGI.3bW5w3  Cohn, Allen  usual   \n",
       "100974  Patient/e.SVrRpOEXjMrctGI.3bW5w3  Cohn, Allen  usual   \n",
       "100973  Patient/e.SVrRpOEXjMrctGI.3bW5w3  Cohn, Allen  usual   \n",
       "92818   Patient/e.SVrRpOEXjMrctGI.3bW5w3  Cohn, Allen  usual   \n",
       "169559  Patient/e.SVrRpOEXjMrctGI.3bW5w3  Cohn, Allen  usual   \n",
       "185333  Patient/e.SVrRpOEXjMrctGI.3bW5w3  Cohn, Allen  usual   \n",
       "142496  Patient/e.SVrRpOEXjMrctGI.3bW5w3  Cohn, Allen  usual   \n",
       "100972  Patient/e.SVrRpOEXjMrctGI.3bW5w3  Cohn, Allen  usual   \n",
       "181624  Patient/e.SVrRpOEXjMrctGI.3bW5w3  Cohn, Allen  usual   \n",
       "92819   Patient/e.SVrRpOEXjMrctGI.3bW5w3  Cohn, Allen  usual   \n",
       "181625  Patient/e.SVrRpOEXjMrctGI.3bW5w3  Cohn, Allen  usual   \n",
       "81807   Patient/e.SVrRpOEXjMrctGI.3bW5w3  Cohn, Allen  usual   \n",
       "92817   Patient/e.SVrRpOEXjMrctGI.3bW5w3  Cohn, Allen  usual   \n",
       "168403  Patient/e.SVrRpOEXjMrctGI.3bW5w3  Cohn, Allen  usual   \n",
       "81808   Patient/e.SVrRpOEXjMrctGI.3bW5w3  Cohn, Allen  usual   \n",
       "169360  Patient/e.SVrRpOEXjMrctGI.3bW5w3  Cohn, Allen  usual   \n",
       "185332  Patient/e.SVrRpOEXjMrctGI.3bW5w3  Cohn, Allen  usual   \n",
       "100971  Patient/e.SVrRpOEXjMrctGI.3bW5w3  Cohn, Allen  usual   \n",
       "185331  Patient/e.SVrRpOEXjMrctGI.3bW5w3  Cohn, Allen  usual   \n",
       "92816   Patient/e.SVrRpOEXjMrctGI.3bW5w3  Cohn, Allen  usual   \n",
       "92815   Patient/e.SVrRpOEXjMrctGI.3bW5w3  Cohn, Allen  usual   \n",
       "142166  Patient/e.SVrRpOEXjMrctGI.3bW5w3  Cohn, Allen  usual   \n",
       "142165  Patient/e.SVrRpOEXjMrctGI.3bW5w3  Cohn, Allen  usual   \n",
       "181623  Patient/e.SVrRpOEXjMrctGI.3bW5w3  Cohn, Allen  usual   \n",
       "181622  Patient/e.SVrRpOEXjMrctGI.3bW5w3  Cohn, Allen  usual   \n",
       "168402  Patient/e.SVrRpOEXjMrctGI.3bW5w3  Cohn, Allen  usual   \n",
       "169359  Patient/e.SVrRpOEXjMrctGI.3bW5w3  Cohn, Allen  usual   \n",
       "181620  Patient/e.SVrRpOEXjMrctGI.3bW5w3  Cohn, Allen  usual   \n",
       "185328  Patient/e.SVrRpOEXjMrctGI.3bW5w3  Cohn, Allen  usual   \n",
       "181619  Patient/e.SVrRpOEXjMrctGI.3bW5w3  Cohn, Allen  usual   \n",
       "168399  Patient/e.SVrRpOEXjMrctGI.3bW5w3  Cohn, Allen  usual   \n",
       "142163  Patient/e.SVrRpOEXjMrctGI.3bW5w3  Cohn, Allen  usual   \n",
       "100968  Patient/e.SVrRpOEXjMrctGI.3bW5w3  Cohn, Allen  usual   \n",
       "100969  Patient/e.SVrRpOEXjMrctGI.3bW5w3  Cohn, Allen  usual   \n",
       "100970  Patient/e.SVrRpOEXjMrctGI.3bW5w3  Cohn, Allen  usual   \n",
       "181621  Patient/e.SVrRpOEXjMrctGI.3bW5w3  Cohn, Allen  usual   \n",
       "81806   Patient/e.SVrRpOEXjMrctGI.3bW5w3  Cohn, Allen  usual   \n",
       "169358  Patient/e.SVrRpOEXjMrctGI.3bW5w3  Cohn, Allen  usual   \n",
       "168401  Patient/e.SVrRpOEXjMrctGI.3bW5w3  Cohn, Allen  usual   \n",
       "168400  Patient/e.SVrRpOEXjMrctGI.3bW5w3  Cohn, Allen  usual   \n",
       "185330  Patient/e.SVrRpOEXjMrctGI.3bW5w3  Cohn, Allen  usual   \n",
       "185329  Patient/e.SVrRpOEXjMrctGI.3bW5w3  Cohn, Allen  usual   \n",
       "142164  Patient/e.SVrRpOEXjMrctGI.3bW5w3  Cohn, Allen  usual   \n",
       "92814   Patient/e.SVrRpOEXjMrctGI.3bW5w3  Cohn, Allen  usual   \n",
       "169355  Patient/e.SVrRpOEXjMrctGI.3bW5w3  Cohn, Allen  usual   \n",
       "181618  Patient/e.SVrRpOEXjMrctGI.3bW5w3  Cohn, Allen  usual   \n",
       "169356  Patient/e.SVrRpOEXjMrctGI.3bW5w3  Cohn, Allen  usual   \n",
       "169357  Patient/e.SVrRpOEXjMrctGI.3bW5w3  Cohn, Allen  usual   \n",
       "168398  Patient/e.SVrRpOEXjMrctGI.3bW5w3  Cohn, Allen  usual   \n",
       "181617  Patient/e.SVrRpOEXjMrctGI.3bW5w3  Cohn, Allen  usual   \n",
       "168397  Patient/e.SVrRpOEXjMrctGI.3bW5w3  Cohn, Allen  usual   \n",
       "142162  Patient/e.SVrRpOEXjMrctGI.3bW5w3  Cohn, Allen  usual   \n",
       "181616  Patient/e.SVrRpOEXjMrctGI.3bW5w3  Cohn, Allen  usual   \n",
       "181615  Patient/e.SVrRpOEXjMrctGI.3bW5w3  Cohn, Allen  usual   \n",
       "168396  Patient/e.SVrRpOEXjMrctGI.3bW5w3  Cohn, Allen  usual   \n",
       "92813   Patient/e.SVrRpOEXjMrctGI.3bW5w3  Cohn, Allen  usual   \n",
       "185327  Patient/e.SVrRpOEXjMrctGI.3bW5w3  Cohn, Allen  usual   \n",
       "100967  Patient/e.SVrRpOEXjMrctGI.3bW5w3  Cohn, Allen  usual   \n",
       "81805   Patient/e.SVrRpOEXjMrctGI.3bW5w3  Cohn, Allen  usual   \n",
       "100966  Patient/e.SVrRpOEXjMrctGI.3bW5w3  Cohn, Allen  usual   \n",
       "185326  Patient/e.SVrRpOEXjMrctGI.3bW5w3  Cohn, Allen  usual   \n",
       "81804   Patient/e.SVrRpOEXjMrctGI.3bW5w3  Cohn, Allen  usual   \n",
       "92810   Patient/e.SVrRpOEXjMrctGI.3bW5w3  Cohn, Allen  usual   \n",
       "92811   Patient/e.SVrRpOEXjMrctGI.3bW5w3  Cohn, Allen  usual   \n",
       "92812   Patient/e.SVrRpOEXjMrctGI.3bW5w3  Cohn, Allen  usual   \n",
       "181614  Patient/e.SVrRpOEXjMrctGI.3bW5w3  Cohn, Allen  usual   \n",
       "142161  Patient/e.SVrRpOEXjMrctGI.3bW5w3  Cohn, Allen  usual   \n",
       "185325  Patient/e.SVrRpOEXjMrctGI.3bW5w3  Cohn, Allen  usual   \n",
       "81803   Patient/e.SVrRpOEXjMrctGI.3bW5w3  Cohn, Allen  usual   \n",
       "185324  Patient/e.SVrRpOEXjMrctGI.3bW5w3  Cohn, Allen  usual   \n",
       "181613  Patient/e.SVrRpOEXjMrctGI.3bW5w3  Cohn, Allen  usual   \n",
       "\n",
       "                                            id_system       value    status  \\\n",
       "168404  urn:oid:1.2.840.114350.1.13.76.2.7.3.698084.8  1073311084  finished   \n",
       "169562  urn:oid:1.2.840.114350.1.13.76.2.7.3.698084.8  1073311084  finished   \n",
       "169563  urn:oid:1.2.840.114350.1.13.76.2.7.3.698084.8  1073311084  finished   \n",
       "169564  urn:oid:1.2.840.114350.1.13.76.2.7.3.698084.8  1073311084  finished   \n",
       "92825   urn:oid:1.2.840.114350.1.13.76.2.7.3.698084.8  1073311084  finished   \n",
       "181714  urn:oid:1.2.840.114350.1.13.76.2.7.3.698084.8  1073311084  finished   \n",
       "181713  urn:oid:1.2.840.114350.1.13.76.2.7.3.698084.8  1073311084  finished   \n",
       "92824   urn:oid:1.2.840.114350.1.13.76.2.7.3.698084.8  1073311084  finished   \n",
       "169560  urn:oid:1.2.840.114350.1.13.76.2.7.3.698084.8  1094410342  finished   \n",
       "169561  urn:oid:1.2.840.114350.1.13.76.2.7.3.698084.8  1094410342  finished   \n",
       "142498  urn:oid:1.2.840.114350.1.13.76.2.7.3.698084.8  1094410342  finished   \n",
       "142497  urn:oid:1.2.840.114350.1.13.76.2.7.3.698084.8  1094410342  finished   \n",
       "92823   urn:oid:1.2.840.114350.1.13.76.2.7.3.698084.8  1094410342  finished   \n",
       "92822   urn:oid:1.2.840.114350.1.13.76.2.7.3.698084.8  1094410342  finished   \n",
       "92821   urn:oid:1.2.840.114350.1.13.76.2.7.3.698084.8  1094410342  finished   \n",
       "185335  urn:oid:1.2.840.114350.1.13.76.2.7.3.698084.8  1094410342  finished   \n",
       "185334  urn:oid:1.2.840.114350.1.13.76.2.7.3.698084.8  1093828500  finished   \n",
       "92820   urn:oid:1.2.840.114350.1.13.76.2.7.3.698084.8  1093828500  finished   \n",
       "181711  urn:oid:1.2.840.114350.1.13.76.2.7.3.698084.8  1093828500  finished   \n",
       "181712  urn:oid:1.2.840.114350.1.13.76.2.7.3.698084.8  1093828500  finished   \n",
       "81809   urn:oid:1.2.840.114350.1.13.76.2.7.3.698084.8  1093828500  finished   \n",
       "81810   urn:oid:1.2.840.114350.1.13.76.2.7.3.698084.8  1093828500  finished   \n",
       "100974  urn:oid:1.2.840.114350.1.13.76.2.7.3.698084.8  1093828500  finished   \n",
       "100973  urn:oid:1.2.840.114350.1.13.76.2.7.3.698084.8  1093828500  finished   \n",
       "92818   urn:oid:1.2.840.114350.1.13.76.2.7.3.698084.8  1105275942  finished   \n",
       "169559  urn:oid:1.2.840.114350.1.13.76.2.7.3.698084.8  1105275942  finished   \n",
       "185333  urn:oid:1.2.840.114350.1.13.76.2.7.3.698084.8  1105275942  finished   \n",
       "142496  urn:oid:1.2.840.114350.1.13.76.2.7.3.698084.8  1105275942  finished   \n",
       "100972  urn:oid:1.2.840.114350.1.13.76.2.7.3.698084.8  1105275942  finished   \n",
       "181624  urn:oid:1.2.840.114350.1.13.76.2.7.3.698084.8  1105275942  finished   \n",
       "92819   urn:oid:1.2.840.114350.1.13.76.2.7.3.698084.8  1105275942  finished   \n",
       "181625  urn:oid:1.2.840.114350.1.13.76.2.7.3.698084.8  1105275942  finished   \n",
       "81807   urn:oid:1.2.840.114350.1.13.76.2.7.3.698084.8  1106100786  finished   \n",
       "92817   urn:oid:1.2.840.114350.1.13.76.2.7.3.698084.8  1106100786  finished   \n",
       "168403  urn:oid:1.2.840.114350.1.13.76.2.7.3.698084.8  1106100786  finished   \n",
       "81808   urn:oid:1.2.840.114350.1.13.76.2.7.3.698084.8  1106100786  finished   \n",
       "169360  urn:oid:1.2.840.114350.1.13.76.2.7.3.698084.8  1106100786  finished   \n",
       "185332  urn:oid:1.2.840.114350.1.13.76.2.7.3.698084.8  1106100786  finished   \n",
       "100971  urn:oid:1.2.840.114350.1.13.76.2.7.3.698084.8  1106100786  finished   \n",
       "185331  urn:oid:1.2.840.114350.1.13.76.2.7.3.698084.8  1106100786  finished   \n",
       "92816   urn:oid:1.2.840.114350.1.13.76.2.7.3.698084.8  1109050523  finished   \n",
       "92815   urn:oid:1.2.840.114350.1.13.76.2.7.3.698084.8  1109050523  finished   \n",
       "142166  urn:oid:1.2.840.114350.1.13.76.2.7.3.698084.8  1109050523  finished   \n",
       "142165  urn:oid:1.2.840.114350.1.13.76.2.7.3.698084.8  1109050523  finished   \n",
       "181623  urn:oid:1.2.840.114350.1.13.76.2.7.3.698084.8  1109050523  finished   \n",
       "181622  urn:oid:1.2.840.114350.1.13.76.2.7.3.698084.8  1109050523  finished   \n",
       "168402  urn:oid:1.2.840.114350.1.13.76.2.7.3.698084.8  1109050523  finished   \n",
       "169359  urn:oid:1.2.840.114350.1.13.76.2.7.3.698084.8  1109050523  finished   \n",
       "181620  urn:oid:1.2.840.114350.1.13.76.2.7.3.698084.8  1113810072  finished   \n",
       "185328  urn:oid:1.2.840.114350.1.13.76.2.7.3.698084.8  1113810072  finished   \n",
       "181619  urn:oid:1.2.840.114350.1.13.76.2.7.3.698084.8  1113810072  finished   \n",
       "168399  urn:oid:1.2.840.114350.1.13.76.2.7.3.698084.8  1113810072  finished   \n",
       "142163  urn:oid:1.2.840.114350.1.13.76.2.7.3.698084.8  1113810072  finished   \n",
       "100968  urn:oid:1.2.840.114350.1.13.76.2.7.3.698084.8  1113810072  finished   \n",
       "100969  urn:oid:1.2.840.114350.1.13.76.2.7.3.698084.8  1113810072  finished   \n",
       "100970  urn:oid:1.2.840.114350.1.13.76.2.7.3.698084.8  1113810072  finished   \n",
       "181621  urn:oid:1.2.840.114350.1.13.76.2.7.3.698084.8  1113673822  finished   \n",
       "81806   urn:oid:1.2.840.114350.1.13.76.2.7.3.698084.8  1113673822  finished   \n",
       "169358  urn:oid:1.2.840.114350.1.13.76.2.7.3.698084.8  1113673822  finished   \n",
       "168401  urn:oid:1.2.840.114350.1.13.76.2.7.3.698084.8  1113673822  finished   \n",
       "168400  urn:oid:1.2.840.114350.1.13.76.2.7.3.698084.8  1113673822  finished   \n",
       "185330  urn:oid:1.2.840.114350.1.13.76.2.7.3.698084.8  1113673822  finished   \n",
       "185329  urn:oid:1.2.840.114350.1.13.76.2.7.3.698084.8  1113673822  finished   \n",
       "142164  urn:oid:1.2.840.114350.1.13.76.2.7.3.698084.8  1113673822  finished   \n",
       "92814   urn:oid:1.2.840.114350.1.13.76.2.7.3.698084.8  1114198666  finished   \n",
       "169355  urn:oid:1.2.840.114350.1.13.76.2.7.3.698084.8  1114198666  finished   \n",
       "181618  urn:oid:1.2.840.114350.1.13.76.2.7.3.698084.8  1114198666  finished   \n",
       "169356  urn:oid:1.2.840.114350.1.13.76.2.7.3.698084.8  1114198666  finished   \n",
       "169357  urn:oid:1.2.840.114350.1.13.76.2.7.3.698084.8  1114198666  finished   \n",
       "168398  urn:oid:1.2.840.114350.1.13.76.2.7.3.698084.8  1114198666  finished   \n",
       "181617  urn:oid:1.2.840.114350.1.13.76.2.7.3.698084.8  1114198666  finished   \n",
       "168397  urn:oid:1.2.840.114350.1.13.76.2.7.3.698084.8  1114198666  finished   \n",
       "142162  urn:oid:1.2.840.114350.1.13.76.2.7.3.698084.8  1128924261  finished   \n",
       "181616  urn:oid:1.2.840.114350.1.13.76.2.7.3.698084.8  1132716016  finished   \n",
       "181615  urn:oid:1.2.840.114350.1.13.76.2.7.3.698084.8  1129797635  finished   \n",
       "168396  urn:oid:1.2.840.114350.1.13.76.2.7.3.698084.8  1129797635  finished   \n",
       "92813   urn:oid:1.2.840.114350.1.13.76.2.7.3.698084.8  1133314469  finished   \n",
       "185327  urn:oid:1.2.840.114350.1.13.76.2.7.3.698084.8  1133495903  finished   \n",
       "100967  urn:oid:1.2.840.114350.1.13.76.2.7.3.698084.8  1141808461  finished   \n",
       "81805   urn:oid:1.2.840.114350.1.13.76.2.7.3.698084.8  1137495343  finished   \n",
       "100966  urn:oid:1.2.840.114350.1.13.76.2.7.3.698084.8  1137495343  finished   \n",
       "185326  urn:oid:1.2.840.114350.1.13.76.2.7.3.698084.8  1147010952  finished   \n",
       "81804   urn:oid:1.2.840.114350.1.13.76.2.7.3.698084.8  1180528698  finished   \n",
       "92810   urn:oid:1.2.840.114350.1.13.76.2.7.3.698084.8  1180528698  finished   \n",
       "92811   urn:oid:1.2.840.114350.1.13.76.2.7.3.698084.8  1180528698  finished   \n",
       "92812   urn:oid:1.2.840.114350.1.13.76.2.7.3.698084.8  1180528698  finished   \n",
       "181614  urn:oid:1.2.840.114350.1.13.76.2.7.3.698084.8  1180528698  finished   \n",
       "142161  urn:oid:1.2.840.114350.1.13.76.2.7.3.698084.8  1180528698  finished   \n",
       "185325  urn:oid:1.2.840.114350.1.13.76.2.7.3.698084.8  1180528698  finished   \n",
       "81803   urn:oid:1.2.840.114350.1.13.76.2.7.3.698084.8  1180528698  finished   \n",
       "185324  urn:oid:1.2.840.114350.1.13.76.2.7.3.698084.8  1195737350  finished   \n",
       "181613  urn:oid:1.2.840.114350.1.13.76.2.7.3.698084.8  1195737350  finished   \n",
       "\n",
       "               class_display                         type_text  \\\n",
       "168404                   HOV                        Outpatient   \n",
       "169562                   HOV                          Elective   \n",
       "169563                   HOV                               Lab   \n",
       "169564                   HOV                          Elective   \n",
       "92825                    HOV                        Outpatient   \n",
       "181714                   HOV                Hospital Encounter   \n",
       "181713                   HOV                               Lab   \n",
       "92824                    HOV                Hospital Encounter   \n",
       "169560                   HOV                Hospital Encounter   \n",
       "169561                   HOV                Hospital Encounter   \n",
       "142498                   HOV                               Lab   \n",
       "142497                   HOV                        Outpatient   \n",
       "92823                    HOV                          Elective   \n",
       "92822                    HOV                               Lab   \n",
       "92821                    HOV                        Outpatient   \n",
       "185335                   HOV                          Elective   \n",
       "185334                   HOV                Hospital Encounter   \n",
       "92820                    HOV                          Elective   \n",
       "181711                   HOV                       Pft With Bd   \n",
       "181712                   HOV                          Elective   \n",
       "81809                    HOV                        Outpatient   \n",
       "81810                    HOV                Hospital Encounter   \n",
       "100974                   HOV                       Pft With Bd   \n",
       "100973                   HOV                        Outpatient   \n",
       "92818                    HOV                               Lab   \n",
       "169559                   HOV                        Outpatient   \n",
       "185333                   HOV                          Elective   \n",
       "142496                   HOV                               Lab   \n",
       "100972                   HOV                Hospital Encounter   \n",
       "181624                   HOV                        Outpatient   \n",
       "92819                    HOV                          Elective   \n",
       "181625                   HOV                Hospital Encounter   \n",
       "81807                    HOV                          Elective   \n",
       "92817                    HOV                          Elective   \n",
       "168403                   HOV                        Outpatient   \n",
       "81808                    HOV                Hospital Encounter   \n",
       "169360                   HOV                        Outpatient   \n",
       "185332                   HOV      Transthoracic Echo W Doppler   \n",
       "100971                   HOV      Transthoracic Echo W Doppler   \n",
       "185331                   HOV                Hospital Encounter   \n",
       "92816                    HOV                Hospital Encounter   \n",
       "92815                    HOV                Hospital Encounter   \n",
       "142166                   HOV              Mvo2 With Spirometry   \n",
       "142165                   HOV                        Outpatient   \n",
       "181623                   HOV                          Elective   \n",
       "181622                   HOV              Mvo2 With Spirometry   \n",
       "168402                   HOV                        Outpatient   \n",
       "169359                   HOV                          Elective   \n",
       "181620                   HOV                          Elective   \n",
       "185328                   HOV            Cta Chest Wwo Contrast   \n",
       "181619                   HOV                Hospital Encounter   \n",
       "168399                   HOV                Hospital Encounter   \n",
       "142163                   HOV            Cta Chest Wwo Contrast   \n",
       "100968                   HOV                        Outpatient   \n",
       "100969                   HOV                          Elective   \n",
       "100970                   HOV                        Outpatient   \n",
       "181621                   HOV                        Outpatient   \n",
       "81806                    HOV                Hospital Encounter   \n",
       "169358                   HOV            Cta Chest Wwo Contrast   \n",
       "168401                   HOV                          Elective   \n",
       "168400                   HOV                        Outpatient   \n",
       "185330                   HOV                Hospital Encounter   \n",
       "185329                   HOV                          Elective   \n",
       "142164                   HOV            Cta Chest Wwo Contrast   \n",
       "92814                    HOV                          Elective   \n",
       "169355                   HOV                Hospital Encounter   \n",
       "181618                   HOV                 Nm Lung Vent/Perf   \n",
       "169356                   HOV                 Nm Lung Vent/Perf   \n",
       "169357                   HOV                          Elective   \n",
       "168398                   HOV                        Outpatient   \n",
       "181617                   HOV                        Outpatient   \n",
       "168397                   HOV                Hospital Encounter   \n",
       "142162  Support OP Encounter                         Telephone   \n",
       "181616  Support OP Encounter                         Telephone   \n",
       "181615           Appointment               New Patient Consult   \n",
       "168396           Appointment                      Office Visit   \n",
       "92813   Support OP Encounter                         Telephone   \n",
       "185327  Support OP Encounter                         Telephone   \n",
       "100967  Support OP Encounter                         Telephone   \n",
       "81805            Appointment        Established Patient Return   \n",
       "100966           Appointment                      Office Visit   \n",
       "185326  Support OP Encounter                            Refill   \n",
       "81804                    HOV                          Elective   \n",
       "92810                    HOV                     Xr General 15   \n",
       "92811                    HOV                        Outpatient   \n",
       "92812                    HOV                     Xr General 15   \n",
       "181614                   HOV                          Elective   \n",
       "142161                   HOV                Hospital Encounter   \n",
       "185325                   HOV                Hospital Encounter   \n",
       "81803                    HOV                        Outpatient   \n",
       "185324           Appointment               Immunization Clinic   \n",
       "181613           Appointment  COVID19 Moderna Bivalent Booster   \n",
       "\n",
       "                       start                   end  \\\n",
       "168404  2021-01-04T18:23:16Z  2021-01-05T07:59:00Z   \n",
       "169562  2021-01-04T18:23:16Z  2021-01-05T07:59:00Z   \n",
       "169563  2021-01-04T18:23:16Z  2021-01-05T07:59:00Z   \n",
       "169564  2021-01-04T18:23:16Z  2021-01-05T07:59:00Z   \n",
       "92825   2021-01-04T18:23:16Z  2021-01-05T07:59:00Z   \n",
       "181714  2021-01-04T18:23:16Z  2021-01-05T07:59:00Z   \n",
       "181713  2021-01-04T18:23:16Z  2021-01-05T07:59:00Z   \n",
       "92824   2021-01-04T18:23:16Z  2021-01-05T07:59:00Z   \n",
       "169560  2021-04-15T20:04:44Z  2021-04-16T06:59:00Z   \n",
       "169561  2021-04-15T20:04:44Z  2021-04-16T06:59:00Z   \n",
       "142498  2021-04-15T20:04:44Z  2021-04-16T06:59:00Z   \n",
       "142497  2021-04-15T20:04:44Z  2021-04-16T06:59:00Z   \n",
       "92823   2021-04-15T20:04:44Z  2021-04-16T06:59:00Z   \n",
       "92822   2021-04-15T20:04:44Z  2021-04-16T06:59:00Z   \n",
       "92821   2021-04-15T20:04:44Z  2021-04-16T06:59:00Z   \n",
       "185335  2021-04-15T20:04:44Z  2021-04-16T06:59:00Z   \n",
       "185334  2021-04-19T16:47:31Z  2021-04-20T06:59:00Z   \n",
       "92820   2021-04-19T16:47:31Z  2021-04-20T06:59:00Z   \n",
       "181711  2021-04-19T16:47:31Z  2021-04-20T06:59:00Z   \n",
       "181712  2021-04-19T16:47:31Z  2021-04-20T06:59:00Z   \n",
       "81809   2021-04-19T16:47:31Z  2021-04-20T06:59:00Z   \n",
       "81810   2021-04-19T16:47:31Z  2021-04-20T06:59:00Z   \n",
       "100974  2021-04-19T16:47:31Z  2021-04-20T06:59:00Z   \n",
       "100973  2021-04-19T16:47:31Z  2021-04-20T06:59:00Z   \n",
       "92818   2021-06-11T23:03:18Z  2021-06-12T06:59:00Z   \n",
       "169559  2021-06-11T23:03:18Z  2021-06-12T06:59:00Z   \n",
       "185333  2021-06-11T23:03:18Z  2021-06-12T06:59:00Z   \n",
       "142496  2021-06-11T23:03:18Z  2021-06-12T06:59:00Z   \n",
       "100972  2021-06-11T23:03:18Z  2021-06-12T06:59:00Z   \n",
       "181624  2021-06-11T23:03:18Z  2021-06-12T06:59:00Z   \n",
       "92819   2021-06-11T23:03:18Z  2021-06-12T06:59:00Z   \n",
       "181625  2021-06-11T23:03:18Z  2021-06-12T06:59:00Z   \n",
       "81807   2021-06-18T21:48:35Z  2021-06-19T06:59:00Z   \n",
       "92817   2021-06-18T21:48:35Z  2021-06-19T06:59:00Z   \n",
       "168403  2021-06-18T21:48:35Z  2021-06-19T06:59:00Z   \n",
       "81808   2021-06-18T21:48:35Z  2021-06-19T06:59:00Z   \n",
       "169360  2021-06-18T21:48:35Z  2021-06-19T06:59:00Z   \n",
       "185332  2021-06-18T21:48:35Z  2021-06-19T06:59:00Z   \n",
       "100971  2021-06-18T21:48:35Z  2021-06-19T06:59:00Z   \n",
       "185331  2021-06-18T21:48:35Z  2021-06-19T06:59:00Z   \n",
       "92816   2021-07-21T18:54:51Z  2021-07-22T06:59:00Z   \n",
       "92815   2021-07-21T18:54:51Z  2021-07-22T06:59:00Z   \n",
       "142166  2021-07-21T18:54:51Z  2021-07-22T06:59:00Z   \n",
       "142165  2021-07-21T18:54:51Z  2021-07-22T06:59:00Z   \n",
       "181623  2021-07-21T18:54:51Z  2021-07-22T06:59:00Z   \n",
       "181622  2021-07-21T18:54:51Z  2021-07-22T06:59:00Z   \n",
       "168402  2021-07-21T18:54:51Z  2021-07-22T06:59:00Z   \n",
       "169359  2021-07-21T18:54:51Z  2021-07-22T06:59:00Z   \n",
       "181620  2021-07-28T17:44:54Z  2021-07-29T06:59:00Z   \n",
       "185328  2021-07-28T17:44:54Z  2021-07-29T06:59:00Z   \n",
       "181619  2021-07-28T17:44:54Z  2021-07-29T06:59:00Z   \n",
       "168399  2021-07-28T17:44:54Z  2021-07-29T06:59:00Z   \n",
       "142163  2021-07-28T17:44:54Z  2021-07-29T06:59:00Z   \n",
       "100968  2021-07-28T17:44:54Z  2021-07-29T06:59:00Z   \n",
       "100969  2021-07-28T17:44:54Z  2021-07-29T06:59:00Z   \n",
       "100970  2021-07-28T17:44:54Z  2021-07-29T06:59:00Z   \n",
       "181621  2021-07-29T06:59:00Z  2021-07-29T06:59:00Z   \n",
       "81806   2021-07-29T06:59:00Z  2021-07-29T06:59:00Z   \n",
       "169358  2021-07-29T06:59:00Z  2021-07-29T06:59:00Z   \n",
       "168401  2021-07-29T06:59:00Z  2021-07-29T06:59:00Z   \n",
       "168400  2021-07-29T06:59:00Z  2021-07-29T06:59:00Z   \n",
       "185330  2021-07-29T06:59:00Z  2021-07-29T06:59:00Z   \n",
       "185329  2021-07-29T06:59:00Z  2021-07-29T06:59:00Z   \n",
       "142164  2021-07-29T06:59:00Z  2021-07-29T06:59:00Z   \n",
       "92814   2021-08-03T15:50:15Z  2021-08-04T06:59:00Z   \n",
       "169355  2021-08-03T15:50:15Z  2021-08-04T06:59:00Z   \n",
       "181618  2021-08-03T15:50:15Z  2021-08-04T06:59:00Z   \n",
       "169356  2021-08-03T15:50:15Z  2021-08-04T06:59:00Z   \n",
       "169357  2021-08-03T15:50:15Z  2021-08-04T06:59:00Z   \n",
       "168398  2021-08-03T15:50:15Z  2021-08-04T06:59:00Z   \n",
       "181617  2021-08-03T15:50:15Z  2021-08-04T06:59:00Z   \n",
       "168397  2021-08-03T15:50:15Z  2021-08-04T06:59:00Z   \n",
       "142162            2021-10-13            2021-10-13   \n",
       "181616            2021-11-02            2021-11-02   \n",
       "181615  2021-11-03T17:20:00Z  2021-11-03T18:00:00Z   \n",
       "168396  2021-11-03T17:20:00Z  2021-11-03T18:00:00Z   \n",
       "92813             2021-11-04            2021-11-04   \n",
       "185327            2021-11-05            2021-11-05   \n",
       "100967            2021-12-21            2021-12-21   \n",
       "81805   2021-12-22T18:40:00Z  2021-12-22T19:00:00Z   \n",
       "100966  2021-12-22T18:40:00Z  2021-12-22T19:00:00Z   \n",
       "185326            2022-01-18            2022-01-18   \n",
       "81804   2022-07-01T19:05:48Z  2022-07-02T06:59:00Z   \n",
       "92810   2022-07-01T19:05:48Z  2022-07-02T06:59:00Z   \n",
       "92811   2022-07-01T19:05:48Z  2022-07-02T06:59:00Z   \n",
       "92812   2022-07-01T19:05:48Z  2022-07-02T06:59:00Z   \n",
       "181614  2022-07-01T19:05:48Z  2022-07-02T06:59:00Z   \n",
       "142161  2022-07-01T19:05:48Z  2022-07-02T06:59:00Z   \n",
       "185325  2022-07-01T19:05:48Z  2022-07-02T06:59:00Z   \n",
       "81803   2022-07-01T19:05:48Z  2022-07-02T06:59:00Z   \n",
       "185324  2022-09-27T22:30:00Z  2022-09-27T22:45:00Z   \n",
       "181613  2022-09-27T22:30:00Z  2022-09-27T22:45:00Z   \n",
       "\n",
       "                                                   reference.1  \\\n",
       "168404  Location/e1a3.D7yMzJITc6VMHf.ZfqxJZdF7ph65rctjKOychxo3   \n",
       "169562  Location/e1a3.D7yMzJITc6VMHf.ZfqxJZdF7ph65rctjKOychxo3   \n",
       "169563                       Location/e-2yRijoQ0PTgRzoeQ.5pcA3   \n",
       "169564                       Location/e-2yRijoQ0PTgRzoeQ.5pcA3   \n",
       "92825                        Location/e-2yRijoQ0PTgRzoeQ.5pcA3   \n",
       "181714                       Location/e-2yRijoQ0PTgRzoeQ.5pcA3   \n",
       "181713  Location/e1a3.D7yMzJITc6VMHf.ZfqxJZdF7ph65rctjKOychxo3   \n",
       "92824   Location/e1a3.D7yMzJITc6VMHf.ZfqxJZdF7ph65rctjKOychxo3   \n",
       "169560  Location/e1a3.D7yMzJITc6VMHf.ZfuKPP6VECqzNPgPKNVX0ORo3   \n",
       "169561                       Location/e-2yRijoQ0PTgRzoeQ.5pcA3   \n",
       "142498                       Location/e-2yRijoQ0PTgRzoeQ.5pcA3   \n",
       "142497                       Location/e-2yRijoQ0PTgRzoeQ.5pcA3   \n",
       "92823                        Location/e-2yRijoQ0PTgRzoeQ.5pcA3   \n",
       "92822   Location/e1a3.D7yMzJITc6VMHf.ZfuKPP6VECqzNPgPKNVX0ORo3   \n",
       "92821   Location/e1a3.D7yMzJITc6VMHf.ZfuKPP6VECqzNPgPKNVX0ORo3   \n",
       "185335  Location/e1a3.D7yMzJITc6VMHf.ZfuKPP6VECqzNPgPKNVX0ORo3   \n",
       "185334  Location/egKeHLVY3ulbxQxSwbF0iiwfUMlmgT73oxSpVjd7uGLs3   \n",
       "92820                        Location/e-2yRijoQ0PTgRzoeQ.5pcA3   \n",
       "181711  Location/egKeHLVY3ulbxQxSwbF0iiwfUMlmgT73oxSpVjd7uGLs3   \n",
       "181712  Location/egKeHLVY3ulbxQxSwbF0iiwfUMlmgT73oxSpVjd7uGLs3   \n",
       "81809   Location/egKeHLVY3ulbxQxSwbF0iiwfUMlmgT73oxSpVjd7uGLs3   \n",
       "81810                        Location/e-2yRijoQ0PTgRzoeQ.5pcA3   \n",
       "100974                       Location/e-2yRijoQ0PTgRzoeQ.5pcA3   \n",
       "100973                       Location/e-2yRijoQ0PTgRzoeQ.5pcA3   \n",
       "92818   Location/e1a3.D7yMzJITc6VMHf.ZfuKPP6VECqzNPgPKNVX0ORo3   \n",
       "169559                       Location/e-2yRijoQ0PTgRzoeQ.5pcA3   \n",
       "185333  Location/e1a3.D7yMzJITc6VMHf.ZfuKPP6VECqzNPgPKNVX0ORo3   \n",
       "142496                       Location/e-2yRijoQ0PTgRzoeQ.5pcA3   \n",
       "100972  Location/e1a3.D7yMzJITc6VMHf.ZfuKPP6VECqzNPgPKNVX0ORo3   \n",
       "181624  Location/e1a3.D7yMzJITc6VMHf.ZfuKPP6VECqzNPgPKNVX0ORo3   \n",
       "92819                        Location/e-2yRijoQ0PTgRzoeQ.5pcA3   \n",
       "181625                       Location/e-2yRijoQ0PTgRzoeQ.5pcA3   \n",
       "81807   Location/e9.T1n-AhKdL5kUkKgW1XGIGuRxtzT32Sby5otR3Szs43   \n",
       "92817                        Location/e-2yRijoQ0PTgRzoeQ.5pcA3   \n",
       "168403  Location/e9.T1n-AhKdL5kUkKgW1XGIGuRxtzT32Sby5otR3Szs43   \n",
       "81808                        Location/e-2yRijoQ0PTgRzoeQ.5pcA3   \n",
       "169360                       Location/e-2yRijoQ0PTgRzoeQ.5pcA3   \n",
       "185332  Location/e9.T1n-AhKdL5kUkKgW1XGIGuRxtzT32Sby5otR3Szs43   \n",
       "100971                       Location/e-2yRijoQ0PTgRzoeQ.5pcA3   \n",
       "185331  Location/e9.T1n-AhKdL5kUkKgW1XGIGuRxtzT32Sby5otR3Szs43   \n",
       "92816                        Location/e-2yRijoQ0PTgRzoeQ.5pcA3   \n",
       "92815   Location/egKeHLVY3ulbxQxSwbF0iiwfUMlmgT73oxSpVjd7uGLs3   \n",
       "142166                       Location/e-2yRijoQ0PTgRzoeQ.5pcA3   \n",
       "142165  Location/egKeHLVY3ulbxQxSwbF0iiwfUMlmgT73oxSpVjd7uGLs3   \n",
       "181623  Location/egKeHLVY3ulbxQxSwbF0iiwfUMlmgT73oxSpVjd7uGLs3   \n",
       "181622  Location/egKeHLVY3ulbxQxSwbF0iiwfUMlmgT73oxSpVjd7uGLs3   \n",
       "168402                       Location/e-2yRijoQ0PTgRzoeQ.5pcA3   \n",
       "169359                       Location/e-2yRijoQ0PTgRzoeQ.5pcA3   \n",
       "181620                       Location/e-2yRijoQ0PTgRzoeQ.5pcA3   \n",
       "185328                       Location/e-2yRijoQ0PTgRzoeQ.5pcA3   \n",
       "181619  Location/e1a3.D7yMzJITc6VMHf.ZftFchIgfCXiDpAsIqc3xxP03   \n",
       "168399                       Location/e-2yRijoQ0PTgRzoeQ.5pcA3   \n",
       "142163  Location/e1a3.D7yMzJITc6VMHf.ZftFchIgfCXiDpAsIqc3xxP03   \n",
       "100968  Location/e1a3.D7yMzJITc6VMHf.ZftFchIgfCXiDpAsIqc3xxP03   \n",
       "100969  Location/e1a3.D7yMzJITc6VMHf.ZftFchIgfCXiDpAsIqc3xxP03   \n",
       "100970                       Location/e-2yRijoQ0PTgRzoeQ.5pcA3   \n",
       "181621  Location/e1a3.D7yMzJITc6VMHf.ZftFchIgfCXiDpAsIqc3xxP03   \n",
       "81806   Location/e1a3.D7yMzJITc6VMHf.ZftFchIgfCXiDpAsIqc3xxP03   \n",
       "169358  Location/e1a3.D7yMzJITc6VMHf.ZftFchIgfCXiDpAsIqc3xxP03   \n",
       "168401                       Location/e-2yRijoQ0PTgRzoeQ.5pcA3   \n",
       "168400                       Location/e-2yRijoQ0PTgRzoeQ.5pcA3   \n",
       "185330                       Location/e-2yRijoQ0PTgRzoeQ.5pcA3   \n",
       "185329  Location/e1a3.D7yMzJITc6VMHf.ZftFchIgfCXiDpAsIqc3xxP03   \n",
       "142164                       Location/e-2yRijoQ0PTgRzoeQ.5pcA3   \n",
       "92814   Location/e1a3.D7yMzJITc6VMHf.ZfqRYNMvN0OrFFXfXM9JUHSo3   \n",
       "169355                       Location/e-2yRijoQ0PTgRzoeQ.5pcA3   \n",
       "181618  Location/e1a3.D7yMzJITc6VMHf.ZfqRYNMvN0OrFFXfXM9JUHSo3   \n",
       "169356                       Location/e-2yRijoQ0PTgRzoeQ.5pcA3   \n",
       "169357                       Location/e-2yRijoQ0PTgRzoeQ.5pcA3   \n",
       "168398                       Location/e-2yRijoQ0PTgRzoeQ.5pcA3   \n",
       "181617  Location/e1a3.D7yMzJITc6VMHf.ZfqRYNMvN0OrFFXfXM9JUHSo3   \n",
       "168397  Location/e1a3.D7yMzJITc6VMHf.ZfqRYNMvN0OrFFXfXM9JUHSo3   \n",
       "142162                       Location/eiN6qC8YnZ1Eoewn7H99opA3   \n",
       "181616                       Location/eiN6qC8YnZ1Eoewn7H99opA3   \n",
       "181615                       Location/eiN6qC8YnZ1Eoewn7H99opA3   \n",
       "168396                       Location/eiN6qC8YnZ1Eoewn7H99opA3   \n",
       "92813                        Location/eHzfLhgDP4jbUeQq-uEBdtQ3   \n",
       "185327                       Location/eHzfLhgDP4jbUeQq-uEBdtQ3   \n",
       "100967                       Location/eiN6qC8YnZ1Eoewn7H99opA3   \n",
       "81805                        Location/eiN6qC8YnZ1Eoewn7H99opA3   \n",
       "100966                       Location/eiN6qC8YnZ1Eoewn7H99opA3   \n",
       "185326                       Location/eiN6qC8YnZ1Eoewn7H99opA3   \n",
       "81804   Location/ekdP6uri7jiVIkavEdSAHbyTpqVhDR8n7uPx9uRRMN2Q3   \n",
       "92810   Location/ekdP6uri7jiVIkavEdSAHbyTpqVhDR8n7uPx9uRRMN2Q3   \n",
       "92811                        Location/e-2yRijoQ0PTgRzoeQ.5pcA3   \n",
       "92812                        Location/e-2yRijoQ0PTgRzoeQ.5pcA3   \n",
       "181614                       Location/e-2yRijoQ0PTgRzoeQ.5pcA3   \n",
       "142161                       Location/e-2yRijoQ0PTgRzoeQ.5pcA3   \n",
       "185325  Location/ekdP6uri7jiVIkavEdSAHbyTpqVhDR8n7uPx9uRRMN2Q3   \n",
       "81803   Location/ekdP6uri7jiVIkavEdSAHbyTpqVhDR8n7uPx9uRRMN2Q3   \n",
       "185324                       Location/eXrhVmC8yKUUg-iCJetjM0Q3   \n",
       "181613                       Location/eXrhVmC8yKUUg-iCJetjM0Q3   \n",
       "\n",
       "                                                          display.1  \\\n",
       "168404              CPMC Van Ness Campus Lab Draw Site 2100 Webster   \n",
       "169562              CPMC Van Ness Campus Lab Draw Site 2100 Webster   \n",
       "169563                          WEST BAY REGION ACUTE CARE SERVICES   \n",
       "169564                          WEST BAY REGION ACUTE CARE SERVICES   \n",
       "92825                           WEST BAY REGION ACUTE CARE SERVICES   \n",
       "181714                          WEST BAY REGION ACUTE CARE SERVICES   \n",
       "181713              CPMC Van Ness Campus Lab Draw Site 2100 Webster   \n",
       "92824               CPMC Van Ness Campus Lab Draw Site 2100 Webster   \n",
       "169560  CPMC Van Ness Campus Lab Draw Site MOB 1100 Van Ness Avenue   \n",
       "169561                          WEST BAY REGION ACUTE CARE SERVICES   \n",
       "142498                          WEST BAY REGION ACUTE CARE SERVICES   \n",
       "142497                          WEST BAY REGION ACUTE CARE SERVICES   \n",
       "92823                           WEST BAY REGION ACUTE CARE SERVICES   \n",
       "92822   CPMC Van Ness Campus Lab Draw Site MOB 1100 Van Ness Avenue   \n",
       "92821   CPMC Van Ness Campus Lab Draw Site MOB 1100 Van Ness Avenue   \n",
       "185335  CPMC Van Ness Campus Lab Draw Site MOB 1100 Van Ness Avenue   \n",
       "185334            CPMC Mission Bernal Campus Pulmonary Function Lab   \n",
       "92820                           WEST BAY REGION ACUTE CARE SERVICES   \n",
       "181711            CPMC Mission Bernal Campus Pulmonary Function Lab   \n",
       "181712            CPMC Mission Bernal Campus Pulmonary Function Lab   \n",
       "81809             CPMC Mission Bernal Campus Pulmonary Function Lab   \n",
       "81810                           WEST BAY REGION ACUTE CARE SERVICES   \n",
       "100974                          WEST BAY REGION ACUTE CARE SERVICES   \n",
       "100973                          WEST BAY REGION ACUTE CARE SERVICES   \n",
       "92818   CPMC Van Ness Campus Lab Draw Site MOB 1100 Van Ness Avenue   \n",
       "169559                          WEST BAY REGION ACUTE CARE SERVICES   \n",
       "185333  CPMC Van Ness Campus Lab Draw Site MOB 1100 Van Ness Avenue   \n",
       "142496                          WEST BAY REGION ACUTE CARE SERVICES   \n",
       "100972  CPMC Van Ness Campus Lab Draw Site MOB 1100 Van Ness Avenue   \n",
       "181624  CPMC Van Ness Campus Lab Draw Site MOB 1100 Van Ness Avenue   \n",
       "92819                           WEST BAY REGION ACUTE CARE SERVICES   \n",
       "181625                          WEST BAY REGION ACUTE CARE SERVICES   \n",
       "81807                   CPMC Davies Campus Cardio Services Echo EKG   \n",
       "92817                           WEST BAY REGION ACUTE CARE SERVICES   \n",
       "168403                  CPMC Davies Campus Cardio Services Echo EKG   \n",
       "81808                           WEST BAY REGION ACUTE CARE SERVICES   \n",
       "169360                          WEST BAY REGION ACUTE CARE SERVICES   \n",
       "185332                  CPMC Davies Campus Cardio Services Echo EKG   \n",
       "100971                          WEST BAY REGION ACUTE CARE SERVICES   \n",
       "185331                  CPMC Davies Campus Cardio Services Echo EKG   \n",
       "92816                           WEST BAY REGION ACUTE CARE SERVICES   \n",
       "92815             CPMC Mission Bernal Campus Pulmonary Function Lab   \n",
       "142166                          WEST BAY REGION ACUTE CARE SERVICES   \n",
       "142165            CPMC Mission Bernal Campus Pulmonary Function Lab   \n",
       "181623            CPMC Mission Bernal Campus Pulmonary Function Lab   \n",
       "181622            CPMC Mission Bernal Campus Pulmonary Function Lab   \n",
       "168402                          WEST BAY REGION ACUTE CARE SERVICES   \n",
       "169359                          WEST BAY REGION ACUTE CARE SERVICES   \n",
       "181620                          WEST BAY REGION ACUTE CARE SERVICES   \n",
       "185328                          WEST BAY REGION ACUTE CARE SERVICES   \n",
       "181619                                      CPMC Van Ness Campus CT   \n",
       "168399                          WEST BAY REGION ACUTE CARE SERVICES   \n",
       "142163                                      CPMC Van Ness Campus CT   \n",
       "100968                                      CPMC Van Ness Campus CT   \n",
       "100969                                      CPMC Van Ness Campus CT   \n",
       "100970                          WEST BAY REGION ACUTE CARE SERVICES   \n",
       "181621                                      CPMC Van Ness Campus CT   \n",
       "81806                                       CPMC Van Ness Campus CT   \n",
       "169358                                      CPMC Van Ness Campus CT   \n",
       "168401                          WEST BAY REGION ACUTE CARE SERVICES   \n",
       "168400                          WEST BAY REGION ACUTE CARE SERVICES   \n",
       "185330                          WEST BAY REGION ACUTE CARE SERVICES   \n",
       "185329                                      CPMC Van Ness Campus CT   \n",
       "142164                          WEST BAY REGION ACUTE CARE SERVICES   \n",
       "92814                         CPMC Van Ness Campus Nuclear Medicine   \n",
       "169355                          WEST BAY REGION ACUTE CARE SERVICES   \n",
       "181618                        CPMC Van Ness Campus Nuclear Medicine   \n",
       "169356                          WEST BAY REGION ACUTE CARE SERVICES   \n",
       "169357                          WEST BAY REGION ACUTE CARE SERVICES   \n",
       "168398                          WEST BAY REGION ACUTE CARE SERVICES   \n",
       "181617                        CPMC Van Ness Campus Nuclear Medicine   \n",
       "168397                        CPMC Van Ness Campus Nuclear Medicine   \n",
       "142162                             Sutter Cardiology, San Francisco   \n",
       "181616                             Sutter Cardiology, San Francisco   \n",
       "181615                             Sutter Cardiology, San Francisco   \n",
       "168396                             Sutter Cardiology, San Francisco   \n",
       "92813                                  SPMF Cardiovascular Medicine   \n",
       "185327                                 SPMF Cardiovascular Medicine   \n",
       "100967                             Sutter Cardiology, San Francisco   \n",
       "81805                              Sutter Cardiology, San Francisco   \n",
       "100966                             Sutter Cardiology, San Francisco   \n",
       "185326                             Sutter Cardiology, San Francisco   \n",
       "81804                             CPMC Pacific Campus Radiology MOB   \n",
       "92810                             CPMC Pacific Campus Radiology MOB   \n",
       "92811                           WEST BAY REGION ACUTE CARE SERVICES   \n",
       "92812                           WEST BAY REGION ACUTE CARE SERVICES   \n",
       "181614                          WEST BAY REGION ACUTE CARE SERVICES   \n",
       "142161                          WEST BAY REGION ACUTE CARE SERVICES   \n",
       "185325                            CPMC Pacific Campus Radiology MOB   \n",
       "81803                             CPMC Pacific Campus Radiology MOB   \n",
       "185324                              Family Medicine 3838 California   \n",
       "181613                              Family Medicine 3838 California   \n",
       "\n",
       "                     resource_id              start_time_d     start_s  \\\n",
       "168404  eA47CZKxN6KOcnco3KHCLyQ3 2021-01-04 18:23:16+00:00  2021-01-04   \n",
       "169562  eA47CZKxN6KOcnco3KHCLyQ3 2021-01-04 18:23:16+00:00  2021-01-04   \n",
       "169563  eA47CZKxN6KOcnco3KHCLyQ3 2021-01-04 18:23:16+00:00  2021-01-04   \n",
       "169564  eA47CZKxN6KOcnco3KHCLyQ3 2021-01-04 18:23:16+00:00  2021-01-04   \n",
       "92825   eA47CZKxN6KOcnco3KHCLyQ3 2021-01-04 18:23:16+00:00  2021-01-04   \n",
       "181714  eA47CZKxN6KOcnco3KHCLyQ3 2021-01-04 18:23:16+00:00  2021-01-04   \n",
       "181713  eA47CZKxN6KOcnco3KHCLyQ3 2021-01-04 18:23:16+00:00  2021-01-04   \n",
       "92824   eA47CZKxN6KOcnco3KHCLyQ3 2021-01-04 18:23:16+00:00  2021-01-04   \n",
       "169560  eVu68Wir4jVDE-mCXTPvevQ3 2021-04-15 20:04:44+00:00  2021-04-15   \n",
       "169561  eVu68Wir4jVDE-mCXTPvevQ3 2021-04-15 20:04:44+00:00  2021-04-15   \n",
       "142498  eVu68Wir4jVDE-mCXTPvevQ3 2021-04-15 20:04:44+00:00  2021-04-15   \n",
       "142497  eVu68Wir4jVDE-mCXTPvevQ3 2021-04-15 20:04:44+00:00  2021-04-15   \n",
       "92823   eVu68Wir4jVDE-mCXTPvevQ3 2021-04-15 20:04:44+00:00  2021-04-15   \n",
       "92822   eVu68Wir4jVDE-mCXTPvevQ3 2021-04-15 20:04:44+00:00  2021-04-15   \n",
       "92821   eVu68Wir4jVDE-mCXTPvevQ3 2021-04-15 20:04:44+00:00  2021-04-15   \n",
       "185335  eVu68Wir4jVDE-mCXTPvevQ3 2021-04-15 20:04:44+00:00  2021-04-15   \n",
       "185334  eL-xWD2u-robzftIMdAbJxg3 2021-04-19 16:47:31+00:00  2021-04-19   \n",
       "92820   eL-xWD2u-robzftIMdAbJxg3 2021-04-19 16:47:31+00:00  2021-04-19   \n",
       "181711  eL-xWD2u-robzftIMdAbJxg3 2021-04-19 16:47:31+00:00  2021-04-19   \n",
       "181712  eL-xWD2u-robzftIMdAbJxg3 2021-04-19 16:47:31+00:00  2021-04-19   \n",
       "81809   eL-xWD2u-robzftIMdAbJxg3 2021-04-19 16:47:31+00:00  2021-04-19   \n",
       "81810   eL-xWD2u-robzftIMdAbJxg3 2021-04-19 16:47:31+00:00  2021-04-19   \n",
       "100974  eL-xWD2u-robzftIMdAbJxg3 2021-04-19 16:47:31+00:00  2021-04-19   \n",
       "100973  eL-xWD2u-robzftIMdAbJxg3 2021-04-19 16:47:31+00:00  2021-04-19   \n",
       "92818   e6Mx.R6h2UiUewW6WQGggzA3 2021-06-11 23:03:18+00:00  2021-06-11   \n",
       "169559  e6Mx.R6h2UiUewW6WQGggzA3 2021-06-11 23:03:18+00:00  2021-06-11   \n",
       "185333  e6Mx.R6h2UiUewW6WQGggzA3 2021-06-11 23:03:18+00:00  2021-06-11   \n",
       "142496  e6Mx.R6h2UiUewW6WQGggzA3 2021-06-11 23:03:18+00:00  2021-06-11   \n",
       "100972  e6Mx.R6h2UiUewW6WQGggzA3 2021-06-11 23:03:18+00:00  2021-06-11   \n",
       "181624  e6Mx.R6h2UiUewW6WQGggzA3 2021-06-11 23:03:18+00:00  2021-06-11   \n",
       "92819   e6Mx.R6h2UiUewW6WQGggzA3 2021-06-11 23:03:18+00:00  2021-06-11   \n",
       "181625  e6Mx.R6h2UiUewW6WQGggzA3 2021-06-11 23:03:18+00:00  2021-06-11   \n",
       "81807   eF-elTwbXU7J3JUpROp1I0Q3 2021-06-18 21:48:35+00:00  2021-06-18   \n",
       "92817   eF-elTwbXU7J3JUpROp1I0Q3 2021-06-18 21:48:35+00:00  2021-06-18   \n",
       "168403  eF-elTwbXU7J3JUpROp1I0Q3 2021-06-18 21:48:35+00:00  2021-06-18   \n",
       "81808   eF-elTwbXU7J3JUpROp1I0Q3 2021-06-18 21:48:35+00:00  2021-06-18   \n",
       "169360  eF-elTwbXU7J3JUpROp1I0Q3 2021-06-18 21:48:35+00:00  2021-06-18   \n",
       "185332  eF-elTwbXU7J3JUpROp1I0Q3 2021-06-18 21:48:35+00:00  2021-06-18   \n",
       "100971  eF-elTwbXU7J3JUpROp1I0Q3 2021-06-18 21:48:35+00:00  2021-06-18   \n",
       "185331  eF-elTwbXU7J3JUpROp1I0Q3 2021-06-18 21:48:35+00:00  2021-06-18   \n",
       "92816   eKW.qa9FCenjDi7W1MgSbpw3 2021-07-21 18:54:51+00:00  2021-07-21   \n",
       "92815   eKW.qa9FCenjDi7W1MgSbpw3 2021-07-21 18:54:51+00:00  2021-07-21   \n",
       "142166  eKW.qa9FCenjDi7W1MgSbpw3 2021-07-21 18:54:51+00:00  2021-07-21   \n",
       "142165  eKW.qa9FCenjDi7W1MgSbpw3 2021-07-21 18:54:51+00:00  2021-07-21   \n",
       "181623  eKW.qa9FCenjDi7W1MgSbpw3 2021-07-21 18:54:51+00:00  2021-07-21   \n",
       "181622  eKW.qa9FCenjDi7W1MgSbpw3 2021-07-21 18:54:51+00:00  2021-07-21   \n",
       "168402  eKW.qa9FCenjDi7W1MgSbpw3 2021-07-21 18:54:51+00:00  2021-07-21   \n",
       "169359  eKW.qa9FCenjDi7W1MgSbpw3 2021-07-21 18:54:51+00:00  2021-07-21   \n",
       "181620  ekys8nRWdQHVfCiZSXthxTw3 2021-07-28 17:44:54+00:00  2021-07-28   \n",
       "185328  ekys8nRWdQHVfCiZSXthxTw3 2021-07-28 17:44:54+00:00  2021-07-28   \n",
       "181619  ekys8nRWdQHVfCiZSXthxTw3 2021-07-28 17:44:54+00:00  2021-07-28   \n",
       "168399  ekys8nRWdQHVfCiZSXthxTw3 2021-07-28 17:44:54+00:00  2021-07-28   \n",
       "142163  ekys8nRWdQHVfCiZSXthxTw3 2021-07-28 17:44:54+00:00  2021-07-28   \n",
       "100968  ekys8nRWdQHVfCiZSXthxTw3 2021-07-28 17:44:54+00:00  2021-07-28   \n",
       "100969  ekys8nRWdQHVfCiZSXthxTw3 2021-07-28 17:44:54+00:00  2021-07-28   \n",
       "100970  ekys8nRWdQHVfCiZSXthxTw3 2021-07-28 17:44:54+00:00  2021-07-28   \n",
       "181621  eNh7JVOOWn3y7ozXFTtcZFg3 2021-07-29 06:59:00+00:00  2021-07-28   \n",
       "81806   eNh7JVOOWn3y7ozXFTtcZFg3 2021-07-29 06:59:00+00:00  2021-07-28   \n",
       "169358  eNh7JVOOWn3y7ozXFTtcZFg3 2021-07-29 06:59:00+00:00  2021-07-28   \n",
       "168401  eNh7JVOOWn3y7ozXFTtcZFg3 2021-07-29 06:59:00+00:00  2021-07-28   \n",
       "168400  eNh7JVOOWn3y7ozXFTtcZFg3 2021-07-29 06:59:00+00:00  2021-07-28   \n",
       "185330  eNh7JVOOWn3y7ozXFTtcZFg3 2021-07-29 06:59:00+00:00  2021-07-28   \n",
       "185329  eNh7JVOOWn3y7ozXFTtcZFg3 2021-07-29 06:59:00+00:00  2021-07-28   \n",
       "142164  eNh7JVOOWn3y7ozXFTtcZFg3 2021-07-29 06:59:00+00:00  2021-07-28   \n",
       "92814   eLt8K2eIuf0gzZLbe9ZLy7g3 2021-08-03 15:50:15+00:00  2021-08-03   \n",
       "169355  eLt8K2eIuf0gzZLbe9ZLy7g3 2021-08-03 15:50:15+00:00  2021-08-03   \n",
       "181618  eLt8K2eIuf0gzZLbe9ZLy7g3 2021-08-03 15:50:15+00:00  2021-08-03   \n",
       "169356  eLt8K2eIuf0gzZLbe9ZLy7g3 2021-08-03 15:50:15+00:00  2021-08-03   \n",
       "169357  eLt8K2eIuf0gzZLbe9ZLy7g3 2021-08-03 15:50:15+00:00  2021-08-03   \n",
       "168398  eLt8K2eIuf0gzZLbe9ZLy7g3 2021-08-03 15:50:15+00:00  2021-08-03   \n",
       "181617  eLt8K2eIuf0gzZLbe9ZLy7g3 2021-08-03 15:50:15+00:00  2021-08-03   \n",
       "168397  eLt8K2eIuf0gzZLbe9ZLy7g3 2021-08-03 15:50:15+00:00  2021-08-03   \n",
       "142162  eRHcB1ExGNvLOwvKNutyGQw3 2021-10-13 00:00:00+00:00  2021-10-12   \n",
       "181616  ekj6UncBy.MlpOEzAWEpIKw3 2021-11-02 00:00:00+00:00  2021-11-01   \n",
       "181615  eTy4hzRFikcA9jeOIaVcStQ3 2021-11-03 17:20:00+00:00  2021-11-03   \n",
       "168396  eTy4hzRFikcA9jeOIaVcStQ3 2021-11-03 17:20:00+00:00  2021-11-03   \n",
       "92813   ebp1kIVaE3xrWex4Q-HG.Rw3 2021-11-04 00:00:00+00:00  2021-11-03   \n",
       "185327  e7nkRQJK9oxpwWk6mJrH6jA3 2021-11-05 00:00:00+00:00  2021-11-04   \n",
       "100967  ee302ZYUl116JUoXAPp9xMA3 2021-12-21 00:00:00+00:00  2021-12-20   \n",
       "81805   eBmy3LOnT1co7Jd9Lp-0OIQ3 2021-12-22 18:40:00+00:00  2021-12-22   \n",
       "100966  eBmy3LOnT1co7Jd9Lp-0OIQ3 2021-12-22 18:40:00+00:00  2021-12-22   \n",
       "185326  e6MHzKWg5ji8FWGYnf-ngBw3 2022-01-18 00:00:00+00:00  2022-01-17   \n",
       "81804   eC7sVKjuIUk4b5vrzR6eepQ3 2022-07-01 19:05:48+00:00  2022-07-01   \n",
       "92810   eC7sVKjuIUk4b5vrzR6eepQ3 2022-07-01 19:05:48+00:00  2022-07-01   \n",
       "92811   eC7sVKjuIUk4b5vrzR6eepQ3 2022-07-01 19:05:48+00:00  2022-07-01   \n",
       "92812   eC7sVKjuIUk4b5vrzR6eepQ3 2022-07-01 19:05:48+00:00  2022-07-01   \n",
       "181614  eC7sVKjuIUk4b5vrzR6eepQ3 2022-07-01 19:05:48+00:00  2022-07-01   \n",
       "142161  eC7sVKjuIUk4b5vrzR6eepQ3 2022-07-01 19:05:48+00:00  2022-07-01   \n",
       "185325  eC7sVKjuIUk4b5vrzR6eepQ3 2022-07-01 19:05:48+00:00  2022-07-01   \n",
       "81803   eC7sVKjuIUk4b5vrzR6eepQ3 2022-07-01 19:05:48+00:00  2022-07-01   \n",
       "185324  eRgXSF5BC5-AbJMZpRZ5NMg3 2022-09-27 22:30:00+00:00  2022-09-27   \n",
       "181613  eRgXSF5BC5-AbJMZpRZ5NMg3 2022-09-27 22:30:00+00:00  2022-09-27   \n",
       "\n",
       "          start_d       end_d  \n",
       "168404 2021-01-04  2021-01-05  \n",
       "169562 2021-01-04  2021-01-05  \n",
       "169563 2021-01-04  2021-01-05  \n",
       "169564 2021-01-04  2021-01-05  \n",
       "92825  2021-01-04  2021-01-05  \n",
       "181714 2021-01-04  2021-01-05  \n",
       "181713 2021-01-04  2021-01-05  \n",
       "92824  2021-01-04  2021-01-05  \n",
       "169560 2021-04-15  2021-04-16  \n",
       "169561 2021-04-15  2021-04-16  \n",
       "142498 2021-04-15  2021-04-16  \n",
       "142497 2021-04-15  2021-04-16  \n",
       "92823  2021-04-15  2021-04-16  \n",
       "92822  2021-04-15  2021-04-16  \n",
       "92821  2021-04-15  2021-04-16  \n",
       "185335 2021-04-15  2021-04-16  \n",
       "185334 2021-04-19  2021-04-20  \n",
       "92820  2021-04-19  2021-04-20  \n",
       "181711 2021-04-19  2021-04-20  \n",
       "181712 2021-04-19  2021-04-20  \n",
       "81809  2021-04-19  2021-04-20  \n",
       "81810  2021-04-19  2021-04-20  \n",
       "100974 2021-04-19  2021-04-20  \n",
       "100973 2021-04-19  2021-04-20  \n",
       "92818  2021-06-11  2021-06-12  \n",
       "169559 2021-06-11  2021-06-12  \n",
       "185333 2021-06-11  2021-06-12  \n",
       "142496 2021-06-11  2021-06-12  \n",
       "100972 2021-06-11  2021-06-12  \n",
       "181624 2021-06-11  2021-06-12  \n",
       "92819  2021-06-11  2021-06-12  \n",
       "181625 2021-06-11  2021-06-12  \n",
       "81807  2021-06-18  2021-06-19  \n",
       "92817  2021-06-18  2021-06-19  \n",
       "168403 2021-06-18  2021-06-19  \n",
       "81808  2021-06-18  2021-06-19  \n",
       "169360 2021-06-18  2021-06-19  \n",
       "185332 2021-06-18  2021-06-19  \n",
       "100971 2021-06-18  2021-06-19  \n",
       "185331 2021-06-18  2021-06-19  \n",
       "92816  2021-07-21  2021-07-22  \n",
       "92815  2021-07-21  2021-07-22  \n",
       "142166 2021-07-21  2021-07-22  \n",
       "142165 2021-07-21  2021-07-22  \n",
       "181623 2021-07-21  2021-07-22  \n",
       "181622 2021-07-21  2021-07-22  \n",
       "168402 2021-07-21  2021-07-22  \n",
       "169359 2021-07-21  2021-07-22  \n",
       "181620 2021-07-28  2021-07-29  \n",
       "185328 2021-07-28  2021-07-29  \n",
       "181619 2021-07-28  2021-07-29  \n",
       "168399 2021-07-28  2021-07-29  \n",
       "142163 2021-07-28  2021-07-29  \n",
       "100968 2021-07-28  2021-07-29  \n",
       "100969 2021-07-28  2021-07-29  \n",
       "100970 2021-07-28  2021-07-29  \n",
       "181621 2021-07-28  2021-07-29  \n",
       "81806  2021-07-28  2021-07-29  \n",
       "169358 2021-07-28  2021-07-29  \n",
       "168401 2021-07-28  2021-07-29  \n",
       "168400 2021-07-28  2021-07-29  \n",
       "185330 2021-07-28  2021-07-29  \n",
       "185329 2021-07-28  2021-07-29  \n",
       "142164 2021-07-28  2021-07-29  \n",
       "92814  2021-08-03  2021-08-04  \n",
       "169355 2021-08-03  2021-08-04  \n",
       "181618 2021-08-03  2021-08-04  \n",
       "169356 2021-08-03  2021-08-04  \n",
       "169357 2021-08-03  2021-08-04  \n",
       "168398 2021-08-03  2021-08-04  \n",
       "181617 2021-08-03  2021-08-04  \n",
       "168397 2021-08-03  2021-08-04  \n",
       "142162 2021-10-12  2021-10-13  \n",
       "181616 2021-11-01  2021-11-02  \n",
       "181615 2021-11-03  2021-11-03  \n",
       "168396 2021-11-03  2021-11-03  \n",
       "92813  2021-11-03  2021-11-04  \n",
       "185327 2021-11-04  2021-11-05  \n",
       "100967 2021-12-20  2021-12-21  \n",
       "81805  2021-12-22  2021-12-22  \n",
       "100966 2021-12-22  2021-12-22  \n",
       "185326 2022-01-17  2022-01-18  \n",
       "81804  2022-07-01  2022-07-02  \n",
       "92810  2022-07-01  2022-07-02  \n",
       "92811  2022-07-01  2022-07-02  \n",
       "92812  2022-07-01  2022-07-02  \n",
       "181614 2022-07-01  2022-07-02  \n",
       "142161 2022-07-01  2022-07-02  \n",
       "185325 2022-07-01  2022-07-02  \n",
       "81803  2022-07-01  2022-07-02  \n",
       "185324 2022-09-27  2022-09-27  \n",
       "181613 2022-09-27  2022-09-27  "
      ]
     },
     "execution_count": 59,
     "metadata": {},
     "output_type": "execute_result"
    }
   ],
   "source": [
    "z = fhir_enc_raw[fhir_enc_raw['user_id'] == 465182].sort_values(['start_time_d'])\n",
    "z\n",
    "# z[z['user_id'] == 465182]"
   ]
  },
  {
   "cell_type": "code",
   "execution_count": 60,
   "id": "9c94c0da",
   "metadata": {},
   "outputs": [
    {
     "data": {
      "text/html": [
       "<div>\n",
       "<style scoped>\n",
       "    .dataframe tbody tr th:only-of-type {\n",
       "        vertical-align: middle;\n",
       "    }\n",
       "\n",
       "    .dataframe tbody tr th {\n",
       "        vertical-align: top;\n",
       "    }\n",
       "\n",
       "    .dataframe thead th {\n",
       "        text-align: right;\n",
       "    }\n",
       "</style>\n",
       "<table border=\"1\" class=\"dataframe\">\n",
       "  <thead>\n",
       "    <tr style=\"text-align: right;\">\n",
       "      <th></th>\n",
       "      <th>user_id</th>\n",
       "      <th>admit_date</th>\n",
       "      <th>encounter_type</th>\n",
       "      <th>code_source</th>\n",
       "      <th>Unnamed: 4</th>\n",
       "      <th>2021-01-01 and 2022-04-09 and document admit_date visit_type</th>\n",
       "      <th>admit_date_d</th>\n",
       "    </tr>\n",
       "  </thead>\n",
       "  <tbody>\n",
       "    <tr>\n",
       "      <th>2</th>\n",
       "      <td>35829</td>\n",
       "      <td>2021-03-31</td>\n",
       "      <td>Telephone</td>\n",
       "      <td>Chart Review Tab</td>\n",
       "      <td>NaN</td>\n",
       "      <td>NaN</td>\n",
       "      <td>2021-03-31</td>\n",
       "    </tr>\n",
       "    <tr>\n",
       "      <th>3</th>\n",
       "      <td>35829</td>\n",
       "      <td>2021-04-02</td>\n",
       "      <td>Imaging</td>\n",
       "      <td>Chart Review Tab</td>\n",
       "      <td>NaN</td>\n",
       "      <td>NaN</td>\n",
       "      <td>2021-04-02</td>\n",
       "    </tr>\n",
       "    <tr>\n",
       "      <th>4</th>\n",
       "      <td>35829</td>\n",
       "      <td>2021-04-06</td>\n",
       "      <td>Office Visit</td>\n",
       "      <td>Chart Review Tab</td>\n",
       "      <td>NaN</td>\n",
       "      <td>NaN</td>\n",
       "      <td>2021-04-06</td>\n",
       "    </tr>\n",
       "    <tr>\n",
       "      <th>5</th>\n",
       "      <td>35829</td>\n",
       "      <td>2021-04-06</td>\n",
       "      <td>Imaging</td>\n",
       "      <td>Chart Review Tab</td>\n",
       "      <td>NaN</td>\n",
       "      <td>NaN</td>\n",
       "      <td>2021-04-06</td>\n",
       "    </tr>\n",
       "    <tr>\n",
       "      <th>7</th>\n",
       "      <td>35829</td>\n",
       "      <td>2021-04-14</td>\n",
       "      <td>Procedure visit</td>\n",
       "      <td>Chart Review Tab</td>\n",
       "      <td>NaN</td>\n",
       "      <td>NaN</td>\n",
       "      <td>2021-04-14</td>\n",
       "    </tr>\n",
       "    <tr>\n",
       "      <th>8</th>\n",
       "      <td>35829</td>\n",
       "      <td>2021-04-16</td>\n",
       "      <td>Telephone</td>\n",
       "      <td>Chart Review Tab</td>\n",
       "      <td>NaN</td>\n",
       "      <td>NaN</td>\n",
       "      <td>2021-04-16</td>\n",
       "    </tr>\n",
       "    <tr>\n",
       "      <th>10</th>\n",
       "      <td>35829</td>\n",
       "      <td>2021-04-28</td>\n",
       "      <td>Imaging</td>\n",
       "      <td>Chart Review Tab</td>\n",
       "      <td>NaN</td>\n",
       "      <td>NaN</td>\n",
       "      <td>2021-04-28</td>\n",
       "    </tr>\n",
       "    <tr>\n",
       "      <th>11</th>\n",
       "      <td>35829</td>\n",
       "      <td>2021-04-29</td>\n",
       "      <td>Telephone</td>\n",
       "      <td>Chart Review Tab</td>\n",
       "      <td>NaN</td>\n",
       "      <td>NaN</td>\n",
       "      <td>2021-04-29</td>\n",
       "    </tr>\n",
       "    <tr>\n",
       "      <th>12</th>\n",
       "      <td>35829</td>\n",
       "      <td>2021-05-04</td>\n",
       "      <td>Telephone</td>\n",
       "      <td>Chart Review Tab</td>\n",
       "      <td>NaN</td>\n",
       "      <td>NaN</td>\n",
       "      <td>2021-05-04</td>\n",
       "    </tr>\n",
       "    <tr>\n",
       "      <th>13</th>\n",
       "      <td>35829</td>\n",
       "      <td>2021-05-05</td>\n",
       "      <td>Video Visit</td>\n",
       "      <td>Chart Review Tab</td>\n",
       "      <td>NaN</td>\n",
       "      <td>NaN</td>\n",
       "      <td>2021-05-05</td>\n",
       "    </tr>\n",
       "    <tr>\n",
       "      <th>14</th>\n",
       "      <td>35829</td>\n",
       "      <td>2021-05-10</td>\n",
       "      <td>Office Visit</td>\n",
       "      <td>Chart Review Tab</td>\n",
       "      <td>NaN</td>\n",
       "      <td>NaN</td>\n",
       "      <td>2021-05-10</td>\n",
       "    </tr>\n",
       "    <tr>\n",
       "      <th>16</th>\n",
       "      <td>35829</td>\n",
       "      <td>2021-06-02</td>\n",
       "      <td>Prepare Telephone Consult</td>\n",
       "      <td>Chart Review Tab</td>\n",
       "      <td>NaN</td>\n",
       "      <td>NaN</td>\n",
       "      <td>2021-06-02</td>\n",
       "    </tr>\n",
       "    <tr>\n",
       "      <th>18</th>\n",
       "      <td>35829</td>\n",
       "      <td>2021-06-08</td>\n",
       "      <td>Admission</td>\n",
       "      <td>Chart Review Tab</td>\n",
       "      <td>NaN</td>\n",
       "      <td>NaN</td>\n",
       "      <td>2021-06-08</td>\n",
       "    </tr>\n",
       "    <tr>\n",
       "      <th>19</th>\n",
       "      <td>35829</td>\n",
       "      <td>2021-06-08</td>\n",
       "      <td>Surgery</td>\n",
       "      <td>Chart Review Tab</td>\n",
       "      <td>NaN</td>\n",
       "      <td>NaN</td>\n",
       "      <td>2021-06-08</td>\n",
       "    </tr>\n",
       "    <tr>\n",
       "      <th>21</th>\n",
       "      <td>35829</td>\n",
       "      <td>2021-06-17</td>\n",
       "      <td>Office Visit</td>\n",
       "      <td>Chart Review Tab</td>\n",
       "      <td>NaN</td>\n",
       "      <td>NaN</td>\n",
       "      <td>2021-06-17</td>\n",
       "    </tr>\n",
       "    <tr>\n",
       "      <th>24</th>\n",
       "      <td>35829</td>\n",
       "      <td>2021-07-12</td>\n",
       "      <td>Video Visit</td>\n",
       "      <td>Chart Review Tab</td>\n",
       "      <td>NaN</td>\n",
       "      <td>NaN</td>\n",
       "      <td>2021-07-12</td>\n",
       "    </tr>\n",
       "    <tr>\n",
       "      <th>27</th>\n",
       "      <td>35829</td>\n",
       "      <td>2021-09-13</td>\n",
       "      <td>Telephone</td>\n",
       "      <td>Chart Review Tab</td>\n",
       "      <td>NaN</td>\n",
       "      <td>NaN</td>\n",
       "      <td>2021-09-13</td>\n",
       "    </tr>\n",
       "    <tr>\n",
       "      <th>31</th>\n",
       "      <td>35829</td>\n",
       "      <td>2021-10-19</td>\n",
       "      <td>Prepare Telephone Consult</td>\n",
       "      <td>Chart Review Tab</td>\n",
       "      <td>NaN</td>\n",
       "      <td>NaN</td>\n",
       "      <td>2021-10-19</td>\n",
       "    </tr>\n",
       "    <tr>\n",
       "      <th>32</th>\n",
       "      <td>35829</td>\n",
       "      <td>2021-10-26</td>\n",
       "      <td>Admission</td>\n",
       "      <td>Chart Review Tab</td>\n",
       "      <td>NaN</td>\n",
       "      <td>NaN</td>\n",
       "      <td>2021-10-26</td>\n",
       "    </tr>\n",
       "    <tr>\n",
       "      <th>33</th>\n",
       "      <td>35829</td>\n",
       "      <td>2021-10-26</td>\n",
       "      <td>Surgery</td>\n",
       "      <td>Chart Review Tab</td>\n",
       "      <td>NaN</td>\n",
       "      <td>NaN</td>\n",
       "      <td>2021-10-26</td>\n",
       "    </tr>\n",
       "    <tr>\n",
       "      <th>36</th>\n",
       "      <td>35829</td>\n",
       "      <td>2021-10-29</td>\n",
       "      <td>Telephone</td>\n",
       "      <td>Chart Review Tab</td>\n",
       "      <td>NaN</td>\n",
       "      <td>NaN</td>\n",
       "      <td>2021-10-29</td>\n",
       "    </tr>\n",
       "    <tr>\n",
       "      <th>37</th>\n",
       "      <td>35829</td>\n",
       "      <td>2021-11-01</td>\n",
       "      <td>Telephone</td>\n",
       "      <td>Chart Review Tab</td>\n",
       "      <td>NaN</td>\n",
       "      <td>NaN</td>\n",
       "      <td>2021-11-01</td>\n",
       "    </tr>\n",
       "    <tr>\n",
       "      <th>38</th>\n",
       "      <td>35829</td>\n",
       "      <td>2021-11-03</td>\n",
       "      <td>Office Visit</td>\n",
       "      <td>Chart Review Tab</td>\n",
       "      <td>NaN</td>\n",
       "      <td>NaN</td>\n",
       "      <td>2021-11-03</td>\n",
       "    </tr>\n",
       "    <tr>\n",
       "      <th>39</th>\n",
       "      <td>35829</td>\n",
       "      <td>2021-12-06</td>\n",
       "      <td>Video Visit</td>\n",
       "      <td>Chart Review Tab</td>\n",
       "      <td>NaN</td>\n",
       "      <td>NaN</td>\n",
       "      <td>2021-12-06</td>\n",
       "    </tr>\n",
       "    <tr>\n",
       "      <th>180</th>\n",
       "      <td>378622</td>\n",
       "      <td>2021-02-01</td>\n",
       "      <td>Immunization</td>\n",
       "      <td>Chart Review Tab</td>\n",
       "      <td>NaN</td>\n",
       "      <td>NaN</td>\n",
       "      <td>2021-02-01</td>\n",
       "    </tr>\n",
       "    <tr>\n",
       "      <th>182</th>\n",
       "      <td>378622</td>\n",
       "      <td>2021-03-01</td>\n",
       "      <td>Immunization</td>\n",
       "      <td>Chart Review Tab</td>\n",
       "      <td>NaN</td>\n",
       "      <td>NaN</td>\n",
       "      <td>2021-03-01</td>\n",
       "    </tr>\n",
       "    <tr>\n",
       "      <th>187</th>\n",
       "      <td>378622</td>\n",
       "      <td>2021-04-12</td>\n",
       "      <td>Office Visit</td>\n",
       "      <td>Chart Review Tab</td>\n",
       "      <td>NaN</td>\n",
       "      <td>NaN</td>\n",
       "      <td>2021-04-12</td>\n",
       "    </tr>\n",
       "    <tr>\n",
       "      <th>188</th>\n",
       "      <td>378622</td>\n",
       "      <td>2021-04-19</td>\n",
       "      <td>Office Visit</td>\n",
       "      <td>Chart Review Tab</td>\n",
       "      <td>NaN</td>\n",
       "      <td>NaN</td>\n",
       "      <td>2021-04-19</td>\n",
       "    </tr>\n",
       "    <tr>\n",
       "      <th>192</th>\n",
       "      <td>378622</td>\n",
       "      <td>2021-05-11</td>\n",
       "      <td>Imaging</td>\n",
       "      <td>Chart Review Tab</td>\n",
       "      <td>NaN</td>\n",
       "      <td>NaN</td>\n",
       "      <td>2021-05-11</td>\n",
       "    </tr>\n",
       "    <tr>\n",
       "      <th>206</th>\n",
       "      <td>378622</td>\n",
       "      <td>2021-11-20</td>\n",
       "      <td>Patient Self-Triage</td>\n",
       "      <td>Chart Review Tab</td>\n",
       "      <td>NaN</td>\n",
       "      <td>NaN</td>\n",
       "      <td>2021-11-20</td>\n",
       "    </tr>\n",
       "    <tr>\n",
       "      <th>209</th>\n",
       "      <td>378622</td>\n",
       "      <td>2021-12-10</td>\n",
       "      <td>Office Visit</td>\n",
       "      <td>Chart Review Tab</td>\n",
       "      <td>NaN</td>\n",
       "      <td>NaN</td>\n",
       "      <td>2021-12-10</td>\n",
       "    </tr>\n",
       "    <tr>\n",
       "      <th>213</th>\n",
       "      <td>378622</td>\n",
       "      <td>2022-02-25</td>\n",
       "      <td>Telephone</td>\n",
       "      <td>Chart Review Tab</td>\n",
       "      <td>NaN</td>\n",
       "      <td>NaN</td>\n",
       "      <td>2022-02-25</td>\n",
       "    </tr>\n",
       "    <tr>\n",
       "      <th>214</th>\n",
       "      <td>378622</td>\n",
       "      <td>2022-02-28</td>\n",
       "      <td>Telephone</td>\n",
       "      <td>Chart Review Tab</td>\n",
       "      <td>NaN</td>\n",
       "      <td>NaN</td>\n",
       "      <td>2022-02-28</td>\n",
       "    </tr>\n",
       "    <tr>\n",
       "      <th>369</th>\n",
       "      <td>433846</td>\n",
       "      <td>2021-06-15</td>\n",
       "      <td>Imaging</td>\n",
       "      <td>Chart Review Tab</td>\n",
       "      <td>NaN</td>\n",
       "      <td>NaN</td>\n",
       "      <td>2021-06-15</td>\n",
       "    </tr>\n",
       "    <tr>\n",
       "      <th>367</th>\n",
       "      <td>433846</td>\n",
       "      <td>2021-07-01</td>\n",
       "      <td>Video Visit</td>\n",
       "      <td>Chart Review Tab</td>\n",
       "      <td>NaN</td>\n",
       "      <td>NaN</td>\n",
       "      <td>2021-07-01</td>\n",
       "    </tr>\n",
       "    <tr>\n",
       "      <th>170</th>\n",
       "      <td>454596</td>\n",
       "      <td>2021-09-20</td>\n",
       "      <td>Office Visit</td>\n",
       "      <td>Chart Review Tab</td>\n",
       "      <td>NaN</td>\n",
       "      <td>NaN</td>\n",
       "      <td>2021-09-20</td>\n",
       "    </tr>\n",
       "    <tr>\n",
       "      <th>172</th>\n",
       "      <td>454596</td>\n",
       "      <td>2021-10-14</td>\n",
       "      <td>Imaging</td>\n",
       "      <td>Chart Review Tab</td>\n",
       "      <td>NaN</td>\n",
       "      <td>NaN</td>\n",
       "      <td>2021-10-14</td>\n",
       "    </tr>\n",
       "    <tr>\n",
       "      <th>440</th>\n",
       "      <td>457363</td>\n",
       "      <td>2021-02-25</td>\n",
       "      <td>Immunization</td>\n",
       "      <td>Chart Review Tab</td>\n",
       "      <td>NaN</td>\n",
       "      <td>NaN</td>\n",
       "      <td>2021-02-25</td>\n",
       "    </tr>\n",
       "    <tr>\n",
       "      <th>436</th>\n",
       "      <td>457363</td>\n",
       "      <td>2021-08-13</td>\n",
       "      <td>Imaging</td>\n",
       "      <td>Chart Review Tab</td>\n",
       "      <td>NaN</td>\n",
       "      <td>NaN</td>\n",
       "      <td>2021-08-13</td>\n",
       "    </tr>\n",
       "    <tr>\n",
       "      <th>438</th>\n",
       "      <td>457363</td>\n",
       "      <td>2021-08-13</td>\n",
       "      <td>Video Visit</td>\n",
       "      <td>Chart Review Tab</td>\n",
       "      <td>NaN</td>\n",
       "      <td>NaN</td>\n",
       "      <td>2021-08-13</td>\n",
       "    </tr>\n",
       "    <tr>\n",
       "      <th>433</th>\n",
       "      <td>457363</td>\n",
       "      <td>2021-09-20</td>\n",
       "      <td>Video Visit</td>\n",
       "      <td>Chart Review Tab</td>\n",
       "      <td>NaN</td>\n",
       "      <td>NaN</td>\n",
       "      <td>2021-09-20</td>\n",
       "    </tr>\n",
       "    <tr>\n",
       "      <th>430</th>\n",
       "      <td>457363</td>\n",
       "      <td>2021-10-06</td>\n",
       "      <td>Telephone</td>\n",
       "      <td>Chart Review Tab</td>\n",
       "      <td>NaN</td>\n",
       "      <td>NaN</td>\n",
       "      <td>2021-10-06</td>\n",
       "    </tr>\n",
       "    <tr>\n",
       "      <th>428</th>\n",
       "      <td>457363</td>\n",
       "      <td>2021-10-08</td>\n",
       "      <td>Imaging</td>\n",
       "      <td>Chart Review Tab</td>\n",
       "      <td>NaN</td>\n",
       "      <td>NaN</td>\n",
       "      <td>2021-10-08</td>\n",
       "    </tr>\n",
       "    <tr>\n",
       "      <th>424</th>\n",
       "      <td>457363</td>\n",
       "      <td>2022-02-10</td>\n",
       "      <td>Office Visit</td>\n",
       "      <td>Chart Review Tab</td>\n",
       "      <td>NaN</td>\n",
       "      <td>NaN</td>\n",
       "      <td>2022-02-10</td>\n",
       "    </tr>\n",
       "    <tr>\n",
       "      <th>418</th>\n",
       "      <td>457363</td>\n",
       "      <td>2022-02-22</td>\n",
       "      <td>Office Visit</td>\n",
       "      <td>Chart Review Tab</td>\n",
       "      <td>NaN</td>\n",
       "      <td>NaN</td>\n",
       "      <td>2022-02-22</td>\n",
       "    </tr>\n",
       "    <tr>\n",
       "      <th>419</th>\n",
       "      <td>457363</td>\n",
       "      <td>2022-02-22</td>\n",
       "      <td>Imaging</td>\n",
       "      <td>Chart Review Tab</td>\n",
       "      <td>NaN</td>\n",
       "      <td>NaN</td>\n",
       "      <td>2022-02-22</td>\n",
       "    </tr>\n",
       "    <tr>\n",
       "      <th>413</th>\n",
       "      <td>457363</td>\n",
       "      <td>2022-03-01</td>\n",
       "      <td>Video Visit</td>\n",
       "      <td>Chart Review Tab</td>\n",
       "      <td>NaN</td>\n",
       "      <td>NaN</td>\n",
       "      <td>2022-03-01</td>\n",
       "    </tr>\n",
       "    <tr>\n",
       "      <th>410</th>\n",
       "      <td>457363</td>\n",
       "      <td>2022-03-04</td>\n",
       "      <td>Telephone</td>\n",
       "      <td>Chart Review Tab</td>\n",
       "      <td>NaN</td>\n",
       "      <td>NaN</td>\n",
       "      <td>2022-03-04</td>\n",
       "    </tr>\n",
       "    <tr>\n",
       "      <th>405</th>\n",
       "      <td>457363</td>\n",
       "      <td>2022-03-29</td>\n",
       "      <td>Imaging</td>\n",
       "      <td>Chart Review Tab</td>\n",
       "      <td>NaN</td>\n",
       "      <td>NaN</td>\n",
       "      <td>2022-03-29</td>\n",
       "    </tr>\n",
       "    <tr>\n",
       "      <th>296</th>\n",
       "      <td>457587</td>\n",
       "      <td>2021-03-23</td>\n",
       "      <td>Telephone</td>\n",
       "      <td>Chart Review Tab</td>\n",
       "      <td>NaN</td>\n",
       "      <td>NaN</td>\n",
       "      <td>2021-03-23</td>\n",
       "    </tr>\n",
       "    <tr>\n",
       "      <th>294</th>\n",
       "      <td>457587</td>\n",
       "      <td>2021-04-29</td>\n",
       "      <td>Appointment</td>\n",
       "      <td>Chart Review Tab</td>\n",
       "      <td>NaN</td>\n",
       "      <td>NaN</td>\n",
       "      <td>2021-04-29</td>\n",
       "    </tr>\n",
       "    <tr>\n",
       "      <th>290</th>\n",
       "      <td>457587</td>\n",
       "      <td>2021-05-06</td>\n",
       "      <td>E-visit</td>\n",
       "      <td>Chart Review Tab</td>\n",
       "      <td>NaN</td>\n",
       "      <td>NaN</td>\n",
       "      <td>2021-05-06</td>\n",
       "    </tr>\n",
       "    <tr>\n",
       "      <th>288</th>\n",
       "      <td>457587</td>\n",
       "      <td>2021-05-25</td>\n",
       "      <td>Video Visit</td>\n",
       "      <td>Chart Review Tab</td>\n",
       "      <td>NaN</td>\n",
       "      <td>NaN</td>\n",
       "      <td>2021-05-25</td>\n",
       "    </tr>\n",
       "    <tr>\n",
       "      <th>280</th>\n",
       "      <td>457587</td>\n",
       "      <td>2021-09-08</td>\n",
       "      <td>Telephone</td>\n",
       "      <td>Chart Review Tab</td>\n",
       "      <td>NaN</td>\n",
       "      <td>NaN</td>\n",
       "      <td>2021-09-08</td>\n",
       "    </tr>\n",
       "    <tr>\n",
       "      <th>279</th>\n",
       "      <td>457587</td>\n",
       "      <td>2021-09-09</td>\n",
       "      <td>Telephone</td>\n",
       "      <td>Chart Review Tab</td>\n",
       "      <td>NaN</td>\n",
       "      <td>NaN</td>\n",
       "      <td>2021-09-09</td>\n",
       "    </tr>\n",
       "    <tr>\n",
       "      <th>277</th>\n",
       "      <td>457587</td>\n",
       "      <td>2021-09-17</td>\n",
       "      <td>Telephone</td>\n",
       "      <td>Chart Review Tab</td>\n",
       "      <td>NaN</td>\n",
       "      <td>NaN</td>\n",
       "      <td>2021-09-17</td>\n",
       "    </tr>\n",
       "    <tr>\n",
       "      <th>274</th>\n",
       "      <td>457587</td>\n",
       "      <td>2021-10-13</td>\n",
       "      <td>Telephone</td>\n",
       "      <td>Chart Review Tab</td>\n",
       "      <td>NaN</td>\n",
       "      <td>NaN</td>\n",
       "      <td>2021-10-13</td>\n",
       "    </tr>\n",
       "    <tr>\n",
       "      <th>272</th>\n",
       "      <td>457587</td>\n",
       "      <td>2021-10-15</td>\n",
       "      <td>Imaging</td>\n",
       "      <td>Chart Review Tab</td>\n",
       "      <td>NaN</td>\n",
       "      <td>NaN</td>\n",
       "      <td>2021-10-15</td>\n",
       "    </tr>\n",
       "    <tr>\n",
       "      <th>266</th>\n",
       "      <td>457587</td>\n",
       "      <td>2022-02-15</td>\n",
       "      <td>Video Visit</td>\n",
       "      <td>Chart Review Tab</td>\n",
       "      <td>NaN</td>\n",
       "      <td>NaN</td>\n",
       "      <td>2022-02-15</td>\n",
       "    </tr>\n",
       "    <tr>\n",
       "      <th>344</th>\n",
       "      <td>458578</td>\n",
       "      <td>2021-08-31</td>\n",
       "      <td>Office Visit</td>\n",
       "      <td>Chart Review Tab</td>\n",
       "      <td>NaN</td>\n",
       "      <td>NaN</td>\n",
       "      <td>2021-08-31</td>\n",
       "    </tr>\n",
       "    <tr>\n",
       "      <th>337</th>\n",
       "      <td>458578</td>\n",
       "      <td>2021-09-14</td>\n",
       "      <td>Surgery</td>\n",
       "      <td>Chart Review Tab</td>\n",
       "      <td>NaN</td>\n",
       "      <td>NaN</td>\n",
       "      <td>2021-09-14</td>\n",
       "    </tr>\n",
       "    <tr>\n",
       "      <th>338</th>\n",
       "      <td>458578</td>\n",
       "      <td>2021-09-14</td>\n",
       "      <td>Admission</td>\n",
       "      <td>Chart Review Tab</td>\n",
       "      <td>NaN</td>\n",
       "      <td>NaN</td>\n",
       "      <td>2021-09-14</td>\n",
       "    </tr>\n",
       "    <tr>\n",
       "      <th>336</th>\n",
       "      <td>458578</td>\n",
       "      <td>2021-09-23</td>\n",
       "      <td>Office Visit</td>\n",
       "      <td>Chart Review Tab</td>\n",
       "      <td>NaN</td>\n",
       "      <td>NaN</td>\n",
       "      <td>2021-09-23</td>\n",
       "    </tr>\n",
       "    <tr>\n",
       "      <th>335</th>\n",
       "      <td>458578</td>\n",
       "      <td>2021-10-22</td>\n",
       "      <td>Video Visit</td>\n",
       "      <td>Chart Review Tab</td>\n",
       "      <td>NaN</td>\n",
       "      <td>NaN</td>\n",
       "      <td>2021-10-22</td>\n",
       "    </tr>\n",
       "    <tr>\n",
       "      <th>89</th>\n",
       "      <td>462377</td>\n",
       "      <td>2021-02-04</td>\n",
       "      <td>Immunization</td>\n",
       "      <td>Chart Review Tab</td>\n",
       "      <td>NaN</td>\n",
       "      <td>NaN</td>\n",
       "      <td>2021-02-04</td>\n",
       "    </tr>\n",
       "    <tr>\n",
       "      <th>88</th>\n",
       "      <td>462377</td>\n",
       "      <td>2021-02-26</td>\n",
       "      <td>Immunization</td>\n",
       "      <td>Chart Review Tab</td>\n",
       "      <td>NaN</td>\n",
       "      <td>NaN</td>\n",
       "      <td>2021-02-26</td>\n",
       "    </tr>\n",
       "    <tr>\n",
       "      <th>85</th>\n",
       "      <td>462377</td>\n",
       "      <td>2021-06-07</td>\n",
       "      <td>Office Visit</td>\n",
       "      <td>Chart Review Tab</td>\n",
       "      <td>NaN</td>\n",
       "      <td>NaN</td>\n",
       "      <td>2021-06-07</td>\n",
       "    </tr>\n",
       "    <tr>\n",
       "      <th>81</th>\n",
       "      <td>462377</td>\n",
       "      <td>2021-11-29</td>\n",
       "      <td>Office Visit</td>\n",
       "      <td>Chart Review Tab</td>\n",
       "      <td>NaN</td>\n",
       "      <td>NaN</td>\n",
       "      <td>2021-11-29</td>\n",
       "    </tr>\n",
       "    <tr>\n",
       "      <th>80</th>\n",
       "      <td>462377</td>\n",
       "      <td>2021-12-17</td>\n",
       "      <td>Telephone</td>\n",
       "      <td>Chart Review Tab</td>\n",
       "      <td>NaN</td>\n",
       "      <td>NaN</td>\n",
       "      <td>2021-12-17</td>\n",
       "    </tr>\n",
       "    <tr>\n",
       "      <th>73</th>\n",
       "      <td>462377</td>\n",
       "      <td>2022-02-14</td>\n",
       "      <td>Video Visit</td>\n",
       "      <td>Chart Review Tab</td>\n",
       "      <td>NaN</td>\n",
       "      <td>NaN</td>\n",
       "      <td>2022-02-14</td>\n",
       "    </tr>\n",
       "    <tr>\n",
       "      <th>69</th>\n",
       "      <td>462377</td>\n",
       "      <td>2022-03-29</td>\n",
       "      <td>Telephone</td>\n",
       "      <td>Chart Review Tab</td>\n",
       "      <td>NaN</td>\n",
       "      <td>NaN</td>\n",
       "      <td>2022-03-29</td>\n",
       "    </tr>\n",
       "    <tr>\n",
       "      <th>399</th>\n",
       "      <td>462421</td>\n",
       "      <td>2021-03-11</td>\n",
       "      <td>Office Visit</td>\n",
       "      <td>Chart Review Tab</td>\n",
       "      <td>NaN</td>\n",
       "      <td>NaN</td>\n",
       "      <td>2021-03-11</td>\n",
       "    </tr>\n",
       "    <tr>\n",
       "      <th>397</th>\n",
       "      <td>462421</td>\n",
       "      <td>2021-03-19</td>\n",
       "      <td>Telephone</td>\n",
       "      <td>Chart Review Tab</td>\n",
       "      <td>NaN</td>\n",
       "      <td>NaN</td>\n",
       "      <td>2021-03-19</td>\n",
       "    </tr>\n",
       "    <tr>\n",
       "      <th>396</th>\n",
       "      <td>462421</td>\n",
       "      <td>2021-12-30</td>\n",
       "      <td>Patient Self-Triage</td>\n",
       "      <td>Chart Review Tab</td>\n",
       "      <td>NaN</td>\n",
       "      <td>NaN</td>\n",
       "      <td>2021-12-30</td>\n",
       "    </tr>\n",
       "    <tr>\n",
       "      <th>324</th>\n",
       "      <td>465182</td>\n",
       "      <td>2021-12-02</td>\n",
       "      <td>Immunization</td>\n",
       "      <td>Chart Review Tab</td>\n",
       "      <td>NaN</td>\n",
       "      <td>NaN</td>\n",
       "      <td>2021-12-02</td>\n",
       "    </tr>\n",
       "    <tr>\n",
       "      <th>134</th>\n",
       "      <td>477473</td>\n",
       "      <td>2021-08-10</td>\n",
       "      <td>Video Visit</td>\n",
       "      <td>Chart Review Tab</td>\n",
       "      <td>NaN</td>\n",
       "      <td>NaN</td>\n",
       "      <td>2021-08-10</td>\n",
       "    </tr>\n",
       "    <tr>\n",
       "      <th>131</th>\n",
       "      <td>477473</td>\n",
       "      <td>2021-08-23</td>\n",
       "      <td>Telephone</td>\n",
       "      <td>Chart Review Tab</td>\n",
       "      <td>NaN</td>\n",
       "      <td>NaN</td>\n",
       "      <td>2021-08-23</td>\n",
       "    </tr>\n",
       "    <tr>\n",
       "      <th>126</th>\n",
       "      <td>477473</td>\n",
       "      <td>2021-09-13</td>\n",
       "      <td>Telephone</td>\n",
       "      <td>Chart Review Tab</td>\n",
       "      <td>NaN</td>\n",
       "      <td>NaN</td>\n",
       "      <td>2021-09-13</td>\n",
       "    </tr>\n",
       "    <tr>\n",
       "      <th>125</th>\n",
       "      <td>477473</td>\n",
       "      <td>2021-09-15</td>\n",
       "      <td>Telephone</td>\n",
       "      <td>Chart Review Tab</td>\n",
       "      <td>NaN</td>\n",
       "      <td>NaN</td>\n",
       "      <td>2021-09-15</td>\n",
       "    </tr>\n",
       "    <tr>\n",
       "      <th>122</th>\n",
       "      <td>477473</td>\n",
       "      <td>2021-09-16</td>\n",
       "      <td>Office Visit</td>\n",
       "      <td>Chart Review Tab</td>\n",
       "      <td>NaN</td>\n",
       "      <td>NaN</td>\n",
       "      <td>2021-09-16</td>\n",
       "    </tr>\n",
       "    <tr>\n",
       "      <th>121</th>\n",
       "      <td>477473</td>\n",
       "      <td>2021-09-17</td>\n",
       "      <td>Imaging</td>\n",
       "      <td>Chart Review Tab</td>\n",
       "      <td>NaN</td>\n",
       "      <td>NaN</td>\n",
       "      <td>2021-09-17</td>\n",
       "    </tr>\n",
       "    <tr>\n",
       "      <th>120</th>\n",
       "      <td>477473</td>\n",
       "      <td>2021-09-21</td>\n",
       "      <td>Video Visit</td>\n",
       "      <td>Chart Review Tab</td>\n",
       "      <td>NaN</td>\n",
       "      <td>NaN</td>\n",
       "      <td>2021-09-21</td>\n",
       "    </tr>\n",
       "    <tr>\n",
       "      <th>118</th>\n",
       "      <td>477473</td>\n",
       "      <td>2021-10-22</td>\n",
       "      <td>Video Visit</td>\n",
       "      <td>Chart Review Tab</td>\n",
       "      <td>NaN</td>\n",
       "      <td>NaN</td>\n",
       "      <td>2021-10-22</td>\n",
       "    </tr>\n",
       "    <tr>\n",
       "      <th>113</th>\n",
       "      <td>477473</td>\n",
       "      <td>2021-12-02</td>\n",
       "      <td>Telephone</td>\n",
       "      <td>Chart Review Tab</td>\n",
       "      <td>NaN</td>\n",
       "      <td>NaN</td>\n",
       "      <td>2021-12-02</td>\n",
       "    </tr>\n",
       "    <tr>\n",
       "      <th>111</th>\n",
       "      <td>477473</td>\n",
       "      <td>2021-12-28</td>\n",
       "      <td>Video Visit</td>\n",
       "      <td>Chart Review Tab</td>\n",
       "      <td>NaN</td>\n",
       "      <td>NaN</td>\n",
       "      <td>2021-12-28</td>\n",
       "    </tr>\n",
       "    <tr>\n",
       "      <th>108</th>\n",
       "      <td>477473</td>\n",
       "      <td>2022-02-10</td>\n",
       "      <td>Ophthalmology Diag</td>\n",
       "      <td>Chart Review Tab</td>\n",
       "      <td>NaN</td>\n",
       "      <td>NaN</td>\n",
       "      <td>2022-02-10</td>\n",
       "    </tr>\n",
       "    <tr>\n",
       "      <th>109</th>\n",
       "      <td>477473</td>\n",
       "      <td>2022-02-10</td>\n",
       "      <td>Office Visit</td>\n",
       "      <td>Chart Review Tab</td>\n",
       "      <td>NaN</td>\n",
       "      <td>NaN</td>\n",
       "      <td>2022-02-10</td>\n",
       "    </tr>\n",
       "    <tr>\n",
       "      <th>107</th>\n",
       "      <td>477473</td>\n",
       "      <td>2022-02-14</td>\n",
       "      <td>Video Visit</td>\n",
       "      <td>Chart Review Tab</td>\n",
       "      <td>NaN</td>\n",
       "      <td>NaN</td>\n",
       "      <td>2022-02-14</td>\n",
       "    </tr>\n",
       "    <tr>\n",
       "      <th>106</th>\n",
       "      <td>477473</td>\n",
       "      <td>2022-03-08</td>\n",
       "      <td>Video Visit</td>\n",
       "      <td>Chart Review Tab</td>\n",
       "      <td>NaN</td>\n",
       "      <td>NaN</td>\n",
       "      <td>2022-03-08</td>\n",
       "    </tr>\n",
       "  </tbody>\n",
       "</table>\n",
       "</div>"
      ],
      "text/plain": [
       "     user_id admit_date             encounter_type       code_source  \\\n",
       "2      35829 2021-03-31                  Telephone  Chart Review Tab   \n",
       "3      35829 2021-04-02                    Imaging  Chart Review Tab   \n",
       "4      35829 2021-04-06               Office Visit  Chart Review Tab   \n",
       "5      35829 2021-04-06                    Imaging  Chart Review Tab   \n",
       "7      35829 2021-04-14            Procedure visit  Chart Review Tab   \n",
       "8      35829 2021-04-16                  Telephone  Chart Review Tab   \n",
       "10     35829 2021-04-28                    Imaging  Chart Review Tab   \n",
       "11     35829 2021-04-29                  Telephone  Chart Review Tab   \n",
       "12     35829 2021-05-04                  Telephone  Chart Review Tab   \n",
       "13     35829 2021-05-05                Video Visit  Chart Review Tab   \n",
       "14     35829 2021-05-10               Office Visit  Chart Review Tab   \n",
       "16     35829 2021-06-02  Prepare Telephone Consult  Chart Review Tab   \n",
       "18     35829 2021-06-08                  Admission  Chart Review Tab   \n",
       "19     35829 2021-06-08                    Surgery  Chart Review Tab   \n",
       "21     35829 2021-06-17               Office Visit  Chart Review Tab   \n",
       "24     35829 2021-07-12                Video Visit  Chart Review Tab   \n",
       "27     35829 2021-09-13                  Telephone  Chart Review Tab   \n",
       "31     35829 2021-10-19  Prepare Telephone Consult  Chart Review Tab   \n",
       "32     35829 2021-10-26                  Admission  Chart Review Tab   \n",
       "33     35829 2021-10-26                    Surgery  Chart Review Tab   \n",
       "36     35829 2021-10-29                  Telephone  Chart Review Tab   \n",
       "37     35829 2021-11-01                  Telephone  Chart Review Tab   \n",
       "38     35829 2021-11-03               Office Visit  Chart Review Tab   \n",
       "39     35829 2021-12-06                Video Visit  Chart Review Tab   \n",
       "180   378622 2021-02-01               Immunization  Chart Review Tab   \n",
       "182   378622 2021-03-01               Immunization  Chart Review Tab   \n",
       "187   378622 2021-04-12               Office Visit  Chart Review Tab   \n",
       "188   378622 2021-04-19               Office Visit  Chart Review Tab   \n",
       "192   378622 2021-05-11                    Imaging  Chart Review Tab   \n",
       "206   378622 2021-11-20        Patient Self-Triage  Chart Review Tab   \n",
       "209   378622 2021-12-10               Office Visit  Chart Review Tab   \n",
       "213   378622 2022-02-25                  Telephone  Chart Review Tab   \n",
       "214   378622 2022-02-28                  Telephone  Chart Review Tab   \n",
       "369   433846 2021-06-15                    Imaging  Chart Review Tab   \n",
       "367   433846 2021-07-01                Video Visit  Chart Review Tab   \n",
       "170   454596 2021-09-20               Office Visit  Chart Review Tab   \n",
       "172   454596 2021-10-14                    Imaging  Chart Review Tab   \n",
       "440   457363 2021-02-25               Immunization  Chart Review Tab   \n",
       "436   457363 2021-08-13                    Imaging  Chart Review Tab   \n",
       "438   457363 2021-08-13                Video Visit  Chart Review Tab   \n",
       "433   457363 2021-09-20                Video Visit  Chart Review Tab   \n",
       "430   457363 2021-10-06                  Telephone  Chart Review Tab   \n",
       "428   457363 2021-10-08                    Imaging  Chart Review Tab   \n",
       "424   457363 2022-02-10               Office Visit  Chart Review Tab   \n",
       "418   457363 2022-02-22               Office Visit  Chart Review Tab   \n",
       "419   457363 2022-02-22                    Imaging  Chart Review Tab   \n",
       "413   457363 2022-03-01                Video Visit  Chart Review Tab   \n",
       "410   457363 2022-03-04                  Telephone  Chart Review Tab   \n",
       "405   457363 2022-03-29                    Imaging  Chart Review Tab   \n",
       "296   457587 2021-03-23                  Telephone  Chart Review Tab   \n",
       "294   457587 2021-04-29                Appointment  Chart Review Tab   \n",
       "290   457587 2021-05-06                    E-visit  Chart Review Tab   \n",
       "288   457587 2021-05-25                Video Visit  Chart Review Tab   \n",
       "280   457587 2021-09-08                  Telephone  Chart Review Tab   \n",
       "279   457587 2021-09-09                  Telephone  Chart Review Tab   \n",
       "277   457587 2021-09-17                  Telephone  Chart Review Tab   \n",
       "274   457587 2021-10-13                  Telephone  Chart Review Tab   \n",
       "272   457587 2021-10-15                    Imaging  Chart Review Tab   \n",
       "266   457587 2022-02-15                Video Visit  Chart Review Tab   \n",
       "344   458578 2021-08-31               Office Visit  Chart Review Tab   \n",
       "337   458578 2021-09-14                    Surgery  Chart Review Tab   \n",
       "338   458578 2021-09-14                  Admission  Chart Review Tab   \n",
       "336   458578 2021-09-23               Office Visit  Chart Review Tab   \n",
       "335   458578 2021-10-22                Video Visit  Chart Review Tab   \n",
       "89    462377 2021-02-04               Immunization  Chart Review Tab   \n",
       "88    462377 2021-02-26               Immunization  Chart Review Tab   \n",
       "85    462377 2021-06-07               Office Visit  Chart Review Tab   \n",
       "81    462377 2021-11-29               Office Visit  Chart Review Tab   \n",
       "80    462377 2021-12-17                  Telephone  Chart Review Tab   \n",
       "73    462377 2022-02-14                Video Visit  Chart Review Tab   \n",
       "69    462377 2022-03-29                  Telephone  Chart Review Tab   \n",
       "399   462421 2021-03-11               Office Visit  Chart Review Tab   \n",
       "397   462421 2021-03-19                  Telephone  Chart Review Tab   \n",
       "396   462421 2021-12-30        Patient Self-Triage  Chart Review Tab   \n",
       "324   465182 2021-12-02               Immunization  Chart Review Tab   \n",
       "134   477473 2021-08-10                Video Visit  Chart Review Tab   \n",
       "131   477473 2021-08-23                  Telephone  Chart Review Tab   \n",
       "126   477473 2021-09-13                  Telephone  Chart Review Tab   \n",
       "125   477473 2021-09-15                  Telephone  Chart Review Tab   \n",
       "122   477473 2021-09-16               Office Visit  Chart Review Tab   \n",
       "121   477473 2021-09-17                    Imaging  Chart Review Tab   \n",
       "120   477473 2021-09-21                Video Visit  Chart Review Tab   \n",
       "118   477473 2021-10-22                Video Visit  Chart Review Tab   \n",
       "113   477473 2021-12-02                  Telephone  Chart Review Tab   \n",
       "111   477473 2021-12-28                Video Visit  Chart Review Tab   \n",
       "108   477473 2022-02-10         Ophthalmology Diag  Chart Review Tab   \n",
       "109   477473 2022-02-10               Office Visit  Chart Review Tab   \n",
       "107   477473 2022-02-14                Video Visit  Chart Review Tab   \n",
       "106   477473 2022-03-08                Video Visit  Chart Review Tab   \n",
       "\n",
       "     Unnamed: 4  2021-01-01 and 2022-04-09 and document admit_date visit_type  \\\n",
       "2           NaN                                                           NaN   \n",
       "3           NaN                                                           NaN   \n",
       "4           NaN                                                           NaN   \n",
       "5           NaN                                                           NaN   \n",
       "7           NaN                                                           NaN   \n",
       "8           NaN                                                           NaN   \n",
       "10          NaN                                                           NaN   \n",
       "11          NaN                                                           NaN   \n",
       "12          NaN                                                           NaN   \n",
       "13          NaN                                                           NaN   \n",
       "14          NaN                                                           NaN   \n",
       "16          NaN                                                           NaN   \n",
       "18          NaN                                                           NaN   \n",
       "19          NaN                                                           NaN   \n",
       "21          NaN                                                           NaN   \n",
       "24          NaN                                                           NaN   \n",
       "27          NaN                                                           NaN   \n",
       "31          NaN                                                           NaN   \n",
       "32          NaN                                                           NaN   \n",
       "33          NaN                                                           NaN   \n",
       "36          NaN                                                           NaN   \n",
       "37          NaN                                                           NaN   \n",
       "38          NaN                                                           NaN   \n",
       "39          NaN                                                           NaN   \n",
       "180         NaN                                                           NaN   \n",
       "182         NaN                                                           NaN   \n",
       "187         NaN                                                           NaN   \n",
       "188         NaN                                                           NaN   \n",
       "192         NaN                                                           NaN   \n",
       "206         NaN                                                           NaN   \n",
       "209         NaN                                                           NaN   \n",
       "213         NaN                                                           NaN   \n",
       "214         NaN                                                           NaN   \n",
       "369         NaN                                                           NaN   \n",
       "367         NaN                                                           NaN   \n",
       "170         NaN                                                           NaN   \n",
       "172         NaN                                                           NaN   \n",
       "440         NaN                                                           NaN   \n",
       "436         NaN                                                           NaN   \n",
       "438         NaN                                                           NaN   \n",
       "433         NaN                                                           NaN   \n",
       "430         NaN                                                           NaN   \n",
       "428         NaN                                                           NaN   \n",
       "424         NaN                                                           NaN   \n",
       "418         NaN                                                           NaN   \n",
       "419         NaN                                                           NaN   \n",
       "413         NaN                                                           NaN   \n",
       "410         NaN                                                           NaN   \n",
       "405         NaN                                                           NaN   \n",
       "296         NaN                                                           NaN   \n",
       "294         NaN                                                           NaN   \n",
       "290         NaN                                                           NaN   \n",
       "288         NaN                                                           NaN   \n",
       "280         NaN                                                           NaN   \n",
       "279         NaN                                                           NaN   \n",
       "277         NaN                                                           NaN   \n",
       "274         NaN                                                           NaN   \n",
       "272         NaN                                                           NaN   \n",
       "266         NaN                                                           NaN   \n",
       "344         NaN                                                           NaN   \n",
       "337         NaN                                                           NaN   \n",
       "338         NaN                                                           NaN   \n",
       "336         NaN                                                           NaN   \n",
       "335         NaN                                                           NaN   \n",
       "89          NaN                                                           NaN   \n",
       "88          NaN                                                           NaN   \n",
       "85          NaN                                                           NaN   \n",
       "81          NaN                                                           NaN   \n",
       "80          NaN                                                           NaN   \n",
       "73          NaN                                                           NaN   \n",
       "69          NaN                                                           NaN   \n",
       "399         NaN                                                           NaN   \n",
       "397         NaN                                                           NaN   \n",
       "396         NaN                                                           NaN   \n",
       "324         NaN                                                           NaN   \n",
       "134         NaN                                                           NaN   \n",
       "131         NaN                                                           NaN   \n",
       "126         NaN                                                           NaN   \n",
       "125         NaN                                                           NaN   \n",
       "122         NaN                                                           NaN   \n",
       "121         NaN                                                           NaN   \n",
       "120         NaN                                                           NaN   \n",
       "118         NaN                                                           NaN   \n",
       "113         NaN                                                           NaN   \n",
       "111         NaN                                                           NaN   \n",
       "108         NaN                                                           NaN   \n",
       "109         NaN                                                           NaN   \n",
       "107         NaN                                                           NaN   \n",
       "106         NaN                                                           NaN   \n",
       "\n",
       "    admit_date_d  \n",
       "2     2021-03-31  \n",
       "3     2021-04-02  \n",
       "4     2021-04-06  \n",
       "5     2021-04-06  \n",
       "7     2021-04-14  \n",
       "8     2021-04-16  \n",
       "10    2021-04-28  \n",
       "11    2021-04-29  \n",
       "12    2021-05-04  \n",
       "13    2021-05-05  \n",
       "14    2021-05-10  \n",
       "16    2021-06-02  \n",
       "18    2021-06-08  \n",
       "19    2021-06-08  \n",
       "21    2021-06-17  \n",
       "24    2021-07-12  \n",
       "27    2021-09-13  \n",
       "31    2021-10-19  \n",
       "32    2021-10-26  \n",
       "33    2021-10-26  \n",
       "36    2021-10-29  \n",
       "37    2021-11-01  \n",
       "38    2021-11-03  \n",
       "39    2021-12-06  \n",
       "180   2021-02-01  \n",
       "182   2021-03-01  \n",
       "187   2021-04-12  \n",
       "188   2021-04-19  \n",
       "192   2021-05-11  \n",
       "206   2021-11-20  \n",
       "209   2021-12-10  \n",
       "213   2022-02-25  \n",
       "214   2022-02-28  \n",
       "369   2021-06-15  \n",
       "367   2021-07-01  \n",
       "170   2021-09-20  \n",
       "172   2021-10-14  \n",
       "440   2021-02-25  \n",
       "436   2021-08-13  \n",
       "438   2021-08-13  \n",
       "433   2021-09-20  \n",
       "430   2021-10-06  \n",
       "428   2021-10-08  \n",
       "424   2022-02-10  \n",
       "418   2022-02-22  \n",
       "419   2022-02-22  \n",
       "413   2022-03-01  \n",
       "410   2022-03-04  \n",
       "405   2022-03-29  \n",
       "296   2021-03-23  \n",
       "294   2021-04-29  \n",
       "290   2021-05-06  \n",
       "288   2021-05-25  \n",
       "280   2021-09-08  \n",
       "279   2021-09-09  \n",
       "277   2021-09-17  \n",
       "274   2021-10-13  \n",
       "272   2021-10-15  \n",
       "266   2022-02-15  \n",
       "344   2021-08-31  \n",
       "337   2021-09-14  \n",
       "338   2021-09-14  \n",
       "336   2021-09-23  \n",
       "335   2021-10-22  \n",
       "89    2021-02-04  \n",
       "88    2021-02-26  \n",
       "85    2021-06-07  \n",
       "81    2021-11-29  \n",
       "80    2021-12-17  \n",
       "73    2022-02-14  \n",
       "69    2022-03-29  \n",
       "399   2021-03-11  \n",
       "397   2021-03-19  \n",
       "396   2021-12-30  \n",
       "324   2021-12-02  \n",
       "134   2021-08-10  \n",
       "131   2021-08-23  \n",
       "126   2021-09-13  \n",
       "125   2021-09-15  \n",
       "122   2021-09-16  \n",
       "121   2021-09-17  \n",
       "120   2021-09-21  \n",
       "118   2021-10-22  \n",
       "113   2021-12-02  \n",
       "111   2021-12-28  \n",
       "108   2022-02-10  \n",
       "109   2022-02-10  \n",
       "107   2022-02-14  \n",
       "106   2022-03-08  "
      ]
     },
     "execution_count": 60,
     "metadata": {},
     "output_type": "execute_result"
    }
   ],
   "source": [
    "cr_enc.sort_values(['user_id', 'admit_date_d'])"
   ]
  },
  {
   "cell_type": "markdown",
   "id": "16b979fc",
   "metadata": {},
   "source": [
    "# Compare PCORnet and OpenEpic without CR"
   ]
  },
  {
   "cell_type": "code",
   "execution_count": null,
   "id": "189b7709",
   "metadata": {},
   "outputs": [],
   "source": []
  },
  {
   "cell_type": "code",
   "execution_count": 46,
   "id": "c6c7d0ba",
   "metadata": {},
   "outputs": [],
   "source": [
    "pc_enc_sd = pc_enc\n",
    "\n",
    "pc_exclude_visits = ['Other Ambulatory Visit']\n",
    "pc_enc_sd = pc_enc_sd[~pc_enc_sd['enc_type'].isin(pc_exclude_visits)]\n",
    "pc_enc_sd = pc_enc_sd.drop_duplicates(subset=['user_id', 'admit_date'])\n",
    "\n",
    "fhir_exclude_visits = ['Lab', 'Clinical Support', 'Established Patient Return', 'Refill', 'Patient Message']\n",
    "fhir_enc_sd = fhir_enc_pcsites\n",
    "fhir_enc_sd = fhir_enc_sd.drop_duplicates(subset=['user_id', 'start'])\n",
    "fhir_enc_sd = fhir_enc_sd[~fhir_enc_sd['type_text'].isin(fhir_exclude_visits)]"
   ]
  },
  {
   "cell_type": "code",
   "execution_count": 47,
   "id": "59af65c6",
   "metadata": {},
   "outputs": [
    {
     "data": {
      "text/plain": [
       "both          4477\n",
       "left_only     2433\n",
       "right_only    1920\n",
       "Name: _merge, dtype: int64"
      ]
     },
     "execution_count": 47,
     "metadata": {},
     "output_type": "execute_result"
    }
   ],
   "source": [
    "pc_enc_sd['admit_date_s'] = pc_enc_sd['admit_date_d'].dt.strftime('%Y-%m-%d')\n",
    "# fhir_enc_sd['start_s'] = fhir_enc_sd['start_d'].dt.strftime('%Y-%m-%d')\n",
    "m = fhir_enc_sd.drop_duplicates(['user_id', 'start_s']).merge(pc_enc_sd.drop_duplicates(['user_id', 'admit_date_s']), left_on=['user_id','start_s'], right_on=['user_id','admit_date_s'], indicator=True, how=\"outer\")\n",
    "m['_merge'].value_counts()\n"
   ]
  },
  {
   "cell_type": "code",
   "execution_count": 48,
   "id": "6a5e2757",
   "metadata": {},
   "outputs": [
    {
     "data": {
      "image/png": "[encoded data removed]",
      "text/plain": [
       "<Figure size 640x480 with 1 Axes>"
      ]
     },
     "metadata": {},
     "output_type": "display_data"
    }
   ],
   "source": [
    "c = m['_merge'].value_counts().reset_index(name=\"Encounters\")\n",
    "c = c.replace({'index': {'both': 'Present in both', 'left_only': 'FHIR Only*', 'right_only': 'PCORnet Only'}})\n",
    "bars = plt.bar(c['index'], c['Encounters'])\n",
    "for bar in bars:\n",
    "    yval = bar.get_height()\n",
    "    plt.text(bar.get_x(), yval + 50, f'N = {yval} ({round(100*yval/(5760+3687+1953))}%)')\n",
    "plt.title('Encounters present by source (excluded other ambulatory visit)')\n",
    "plt.ylabel('N Unique Encounters')\n",
    "plt.show()"
   ]
  },
  {
   "cell_type": "code",
   "execution_count": 49,
   "id": "0b36a92e",
   "metadata": {},
   "outputs": [
    {
     "data": {
      "application/vnd.plotly.v1+json": {
       "config": {
        "plotlyServerURL": "https://plot.ly"
       },
       "data": [
        {
         "alignmentgroup": "True",
         "hovertemplate": "variable=PCORnet & OpenEpic<br>enc_type=%{x}<br>value=%{y}<extra></extra>",
         "legendgroup": "PCORnet & OpenEpic",
         "marker": {
          "color": "#636efa",
          "pattern": {
           "shape": ""
          }
         },
         "name": "PCORnet & OpenEpic",
         "offsetgroup": "PCORnet & OpenEpic",
         "orientation": "v",
         "showlegend": true,
         "textposition": "auto",
         "type": "bar",
         "x": [
          "Ambulatory Visit",
          "Telehealth",
          "Other",
          "Emergency Department",
          "Observation Stay",
          "Inpatient Hospital Stay",
          "No Information",
          "ED Admit to Inaptient"
         ],
         "xaxis": "x",
         "y": [
          889,
          599,
          363,
          26,
          21,
          10,
          9,
          3
         ],
         "yaxis": "y"
        },
        {
         "alignmentgroup": "True",
         "hovertemplate": "variable=PCORnet Only<br>enc_type=%{x}<br>value=%{y}<extra></extra>",
         "legendgroup": "PCORnet Only",
         "marker": {
          "color": "#EF553B",
          "pattern": {
           "shape": ""
          }
         },
         "name": "PCORnet Only",
         "offsetgroup": "PCORnet Only",
         "orientation": "v",
         "showlegend": true,
         "textposition": "auto",
         "type": "bar",
         "x": [
          "Ambulatory Visit",
          "Telehealth",
          "Other",
          "Emergency Department",
          "Observation Stay",
          "Inpatient Hospital Stay",
          "No Information",
          "ED Admit to Inaptient"
         ],
         "xaxis": "x",
         "y": [
          3559,
          751,
          23,
          44,
          57,
          19,
          24,
          0
         ],
         "yaxis": "y"
        }
       ],
       "layout": {
        "barmode": "relative",
        "legend": {
         "title": {
          "text": "variable"
         },
         "tracegroupgap": 0
        },
        "template": {
         "data": {
          "bar": [
           {
            "error_x": {
             "color": "#2a3f5f"
            },
            "error_y": {
             "color": "#2a3f5f"
            },
            "marker": {
             "line": {
              "color": "#E5ECF6",
              "width": 0.5
             },
             "pattern": {
              "fillmode": "overlay",
              "size": 10,
              "solidity": 0.2
             }
            },
            "type": "bar"
           }
          ],
          "barpolar": [
           {
            "marker": {
             "line": {
              "color": "#E5ECF6",
              "width": 0.5
             },
             "pattern": {
              "fillmode": "overlay",
              "size": 10,
              "solidity": 0.2
             }
            },
            "type": "barpolar"
           }
          ],
          "carpet": [
           {
            "aaxis": {
             "endlinecolor": "#2a3f5f",
             "gridcolor": "white",
             "linecolor": "white",
             "minorgridcolor": "white",
             "startlinecolor": "#2a3f5f"
            },
            "baxis": {
             "endlinecolor": "#2a3f5f",
             "gridcolor": "white",
             "linecolor": "white",
             "minorgridcolor": "white",
             "startlinecolor": "#2a3f5f"
            },
            "type": "carpet"
           }
          ],
          "choropleth": [
           {
            "colorbar": {
             "outlinewidth": 0,
             "ticks": ""
            },
            "type": "choropleth"
           }
          ],
          "contour": [
           {
            "colorbar": {
             "outlinewidth": 0,
             "ticks": ""
            },
            "colorscale": [
             [
              0,
              "#0d0887"
             ],
             [
              0.1111111111111111,
              "#46039f"
             ],
             [
              0.2222222222222222,
              "#7201a8"
             ],
             [
              0.3333333333333333,
              "#9c179e"
             ],
             [
              0.4444444444444444,
              "#bd3786"
             ],
             [
              0.5555555555555556,
              "#d8576b"
             ],
             [
              0.6666666666666666,
              "#ed7953"
             ],
             [
              0.7777777777777778,
              "#fb9f3a"
             ],
             [
              0.8888888888888888,
              "#fdca26"
             ],
             [
              1,
              "#f0f921"
             ]
            ],
            "type": "contour"
           }
          ],
          "contourcarpet": [
           {
            "colorbar": {
             "outlinewidth": 0,
             "ticks": ""
            },
            "type": "contourcarpet"
           }
          ],
          "heatmap": [
           {
            "colorbar": {
             "outlinewidth": 0,
             "ticks": ""
            },
            "colorscale": [
             [
              0,
              "#0d0887"
             ],
             [
              0.1111111111111111,
              "#46039f"
             ],
             [
              0.2222222222222222,
              "#7201a8"
             ],
             [
              0.3333333333333333,
              "#9c179e"
             ],
             [
              0.4444444444444444,
              "#bd3786"
             ],
             [
              0.5555555555555556,
              "#d8576b"
             ],
             [
              0.6666666666666666,
              "#ed7953"
             ],
             [
              0.7777777777777778,
              "#fb9f3a"
             ],
             [
              0.8888888888888888,
              "#fdca26"
             ],
             [
              1,
              "#f0f921"
             ]
            ],
            "type": "heatmap"
           }
          ],
          "heatmapgl": [
           {
            "colorbar": {
             "outlinewidth": 0,
             "ticks": ""
            },
            "colorscale": [
             [
              0,
              "#0d0887"
             ],
             [
              0.1111111111111111,
              "#46039f"
             ],
             [
              0.2222222222222222,
              "#7201a8"
             ],
             [
              0.3333333333333333,
              "#9c179e"
             ],
             [
              0.4444444444444444,
              "#bd3786"
             ],
             [
              0.5555555555555556,
              "#d8576b"
             ],
             [
              0.6666666666666666,
              "#ed7953"
             ],
             [
              0.7777777777777778,
              "#fb9f3a"
             ],
             [
              0.8888888888888888,
              "#fdca26"
             ],
             [
              1,
              "#f0f921"
             ]
            ],
            "type": "heatmapgl"
           }
          ],
          "histogram": [
           {
            "marker": {
             "pattern": {
              "fillmode": "overlay",
              "size": 10,
              "solidity": 0.2
             }
            },
            "type": "histogram"
           }
          ],
          "histogram2d": [
           {
            "colorbar": {
             "outlinewidth": 0,
             "ticks": ""
            },
            "colorscale": [
             [
              0,
              "#0d0887"
             ],
             [
              0.1111111111111111,
              "#46039f"
             ],
             [
              0.2222222222222222,
              "#7201a8"
             ],
             [
              0.3333333333333333,
              "#9c179e"
             ],
             [
              0.4444444444444444,
              "#bd3786"
             ],
             [
              0.5555555555555556,
              "#d8576b"
             ],
             [
              0.6666666666666666,
              "#ed7953"
             ],
             [
              0.7777777777777778,
              "#fb9f3a"
             ],
             [
              0.8888888888888888,
              "#fdca26"
             ],
             [
              1,
              "#f0f921"
             ]
            ],
            "type": "histogram2d"
           }
          ],
          "histogram2dcontour": [
           {
            "colorbar": {
             "outlinewidth": 0,
             "ticks": ""
            },
            "colorscale": [
             [
              0,
              "#0d0887"
             ],
             [
              0.1111111111111111,
              "#46039f"
             ],
             [
              0.2222222222222222,
              "#7201a8"
             ],
             [
              0.3333333333333333,
              "#9c179e"
             ],
             [
              0.4444444444444444,
              "#bd3786"
             ],
             [
              0.5555555555555556,
              "#d8576b"
             ],
             [
              0.6666666666666666,
              "#ed7953"
             ],
             [
              0.7777777777777778,
              "#fb9f3a"
             ],
             [
              0.8888888888888888,
              "#fdca26"
             ],
             [
              1,
              "#f0f921"
             ]
            ],
            "type": "histogram2dcontour"
           }
          ],
          "mesh3d": [
           {
            "colorbar": {
             "outlinewidth": 0,
             "ticks": ""
            },
            "type": "mesh3d"
           }
          ],
          "parcoords": [
           {
            "line": {
             "colorbar": {
              "outlinewidth": 0,
              "ticks": ""
             }
            },
            "type": "parcoords"
           }
          ],
          "pie": [
           {
            "automargin": true,
            "type": "pie"
           }
          ],
          "scatter": [
           {
            "fillpattern": {
             "fillmode": "overlay",
             "size": 10,
             "solidity": 0.2
            },
            "type": "scatter"
           }
          ],
          "scatter3d": [
           {
            "line": {
             "colorbar": {
              "outlinewidth": 0,
              "ticks": ""
             }
            },
            "marker": {
             "colorbar": {
              "outlinewidth": 0,
              "ticks": ""
             }
            },
            "type": "scatter3d"
           }
          ],
          "scattercarpet": [
           {
            "marker": {
             "colorbar": {
              "outlinewidth": 0,
              "ticks": ""
             }
            },
            "type": "scattercarpet"
           }
          ],
          "scattergeo": [
           {
            "marker": {
             "colorbar": {
              "outlinewidth": 0,
              "ticks": ""
             }
            },
            "type": "scattergeo"
           }
          ],
          "scattergl": [
           {
            "marker": {
             "colorbar": {
              "outlinewidth": 0,
              "ticks": ""
             }
            },
            "type": "scattergl"
           }
          ],
          "scattermapbox": [
           {
            "marker": {
             "colorbar": {
              "outlinewidth": 0,
              "ticks": ""
             }
            },
            "type": "scattermapbox"
           }
          ],
          "scatterpolar": [
           {
            "marker": {
             "colorbar": {
              "outlinewidth": 0,
              "ticks": ""
             }
            },
            "type": "scatterpolar"
           }
          ],
          "scatterpolargl": [
           {
            "marker": {
             "colorbar": {
              "outlinewidth": 0,
              "ticks": ""
             }
            },
            "type": "scatterpolargl"
           }
          ],
          "scatterternary": [
           {
            "marker": {
             "colorbar": {
              "outlinewidth": 0,
              "ticks": ""
             }
            },
            "type": "scatterternary"
           }
          ],
          "surface": [
           {
            "colorbar": {
             "outlinewidth": 0,
             "ticks": ""
            },
            "colorscale": [
             [
              0,
              "#0d0887"
             ],
             [
              0.1111111111111111,
              "#46039f"
             ],
             [
              0.2222222222222222,
              "#7201a8"
             ],
             [
              0.3333333333333333,
              "#9c179e"
             ],
             [
              0.4444444444444444,
              "#bd3786"
             ],
             [
              0.5555555555555556,
              "#d8576b"
             ],
             [
              0.6666666666666666,
              "#ed7953"
             ],
             [
              0.7777777777777778,
              "#fb9f3a"
             ],
             [
              0.8888888888888888,
              "#fdca26"
             ],
             [
              1,
              "#f0f921"
             ]
            ],
            "type": "surface"
           }
          ],
          "table": [
           {
            "cells": {
             "fill": {
              "color": "#EBF0F8"
             },
             "line": {
              "color": "white"
             }
            },
            "header": {
             "fill": {
              "color": "#C8D4E3"
             },
             "line": {
              "color": "white"
             }
            },
            "type": "table"
           }
          ]
         },
         "layout": {
          "annotationdefaults": {
           "arrowcolor": "#2a3f5f",
           "arrowhead": 0,
           "arrowwidth": 1
          },
          "autotypenumbers": "strict",
          "coloraxis": {
           "colorbar": {
            "outlinewidth": 0,
            "ticks": ""
           }
          },
          "colorscale": {
           "diverging": [
            [
             0,
             "#8e0152"
            ],
            [
             0.1,
             "#c51b7d"
            ],
            [
             0.2,
             "#de77ae"
            ],
            [
             0.3,
             "#f1b6da"
            ],
            [
             0.4,
             "#fde0ef"
            ],
            [
             0.5,
             "#f7f7f7"
            ],
            [
             0.6,
             "#e6f5d0"
            ],
            [
             0.7,
             "#b8e186"
            ],
            [
             0.8,
             "#7fbc41"
            ],
            [
             0.9,
             "#4d9221"
            ],
            [
             1,
             "#276419"
            ]
           ],
           "sequential": [
            [
             0,
             "#0d0887"
            ],
            [
             0.1111111111111111,
             "#46039f"
            ],
            [
             0.2222222222222222,
             "#7201a8"
            ],
            [
             0.3333333333333333,
             "#9c179e"
            ],
            [
             0.4444444444444444,
             "#bd3786"
            ],
            [
             0.5555555555555556,
             "#d8576b"
            ],
            [
             0.6666666666666666,
             "#ed7953"
            ],
            [
             0.7777777777777778,
             "#fb9f3a"
            ],
            [
             0.8888888888888888,
             "#fdca26"
            ],
            [
             1,
             "#f0f921"
            ]
           ],
           "sequentialminus": [
            [
             0,
             "#0d0887"
            ],
            [
             0.1111111111111111,
             "#46039f"
            ],
            [
             0.2222222222222222,
             "#7201a8"
            ],
            [
             0.3333333333333333,
             "#9c179e"
            ],
            [
             0.4444444444444444,
             "#bd3786"
            ],
            [
             0.5555555555555556,
             "#d8576b"
            ],
            [
             0.6666666666666666,
             "#ed7953"
            ],
            [
             0.7777777777777778,
             "#fb9f3a"
            ],
            [
             0.8888888888888888,
             "#fdca26"
            ],
            [
             1,
             "#f0f921"
            ]
           ]
          },
          "colorway": [
           "#636efa",
           "#EF553B",
           "#00cc96",
           "#ab63fa",
           "#FFA15A",
           "#19d3f3",
           "#FF6692",
           "#B6E880",
           "#FF97FF",
           "#FECB52"
          ],
          "font": {
           "color": "#2a3f5f"
          },
          "geo": {
           "bgcolor": "white",
           "lakecolor": "white",
           "landcolor": "#E5ECF6",
           "showlakes": true,
           "showland": true,
           "subunitcolor": "white"
          },
          "hoverlabel": {
           "align": "left"
          },
          "hovermode": "closest",
          "mapbox": {
           "style": "light"
          },
          "paper_bgcolor": "white",
          "plot_bgcolor": "#E5ECF6",
          "polar": {
           "angularaxis": {
            "gridcolor": "white",
            "linecolor": "white",
            "ticks": ""
           },
           "bgcolor": "#E5ECF6",
           "radialaxis": {
            "gridcolor": "white",
            "linecolor": "white",
            "ticks": ""
           }
          },
          "scene": {
           "xaxis": {
            "backgroundcolor": "#E5ECF6",
            "gridcolor": "white",
            "gridwidth": 2,
            "linecolor": "white",
            "showbackground": true,
            "ticks": "",
            "zerolinecolor": "white"
           },
           "yaxis": {
            "backgroundcolor": "#E5ECF6",
            "gridcolor": "white",
            "gridwidth": 2,
            "linecolor": "white",
            "showbackground": true,
            "ticks": "",
            "zerolinecolor": "white"
           },
           "zaxis": {
            "backgroundcolor": "#E5ECF6",
            "gridcolor": "white",
            "gridwidth": 2,
            "linecolor": "white",
            "showbackground": true,
            "ticks": "",
            "zerolinecolor": "white"
           }
          },
          "shapedefaults": {
           "line": {
            "color": "#2a3f5f"
           }
          },
          "ternary": {
           "aaxis": {
            "gridcolor": "white",
            "linecolor": "white",
            "ticks": ""
           },
           "baxis": {
            "gridcolor": "white",
            "linecolor": "white",
            "ticks": ""
           },
           "bgcolor": "#E5ECF6",
           "caxis": {
            "gridcolor": "white",
            "linecolor": "white",
            "ticks": ""
           }
          },
          "title": {
           "x": 0.05
          },
          "xaxis": {
           "automargin": true,
           "gridcolor": "white",
           "linecolor": "white",
           "ticks": "",
           "title": {
            "standoff": 15
           },
           "zerolinecolor": "white",
           "zerolinewidth": 2
          },
          "yaxis": {
           "automargin": true,
           "gridcolor": "white",
           "linecolor": "white",
           "ticks": "",
           "title": {
            "standoff": 15
           },
           "zerolinecolor": "white",
           "zerolinewidth": 2
          }
         }
        },
        "title": {
         "text": "PCORnet Encounters (stratified by whether or not they are identified by OpenEpic)"
        },
        "xaxis": {
         "anchor": "y",
         "domain": [
          0,
          1
         ],
         "title": {
          "text": "enc_type"
         }
        },
        "yaxis": {
         "anchor": "x",
         "domain": [
          0,
          1
         ],
         "title": {
          "text": "value"
         }
        }
       }
      },
      "text/html": [
       "<div>                            <div id=\"49f759c3-62fd-4558-af67-4599ecbd5005\" class=\"plotly-graph-div\" style=\"height:525px; width:100%;\"></div>            <script type=\"text/javascript\">                require([\"plotly\"], function(Plotly) {                    window.PLOTLYENV=window.PLOTLYENV || {};                                    if (document.getElementById(\"49f759c3-62fd-4558-af67-4599ecbd5005\")) {                    Plotly.newPlot(                        \"49f759c3-62fd-4558-af67-4599ecbd5005\",                        [{\"alignmentgroup\":\"True\",\"hovertemplate\":\"variable=PCORnet & OpenEpic<br>enc_type=%{x}<br>value=%{y}<extra></extra>\",\"legendgroup\":\"PCORnet & OpenEpic\",\"marker\":{\"color\":\"#636efa\",\"pattern\":{\"shape\":\"\"}},\"name\":\"PCORnet & OpenEpic\",\"offsetgroup\":\"PCORnet & OpenEpic\",\"orientation\":\"v\",\"showlegend\":true,\"textposition\":\"auto\",\"x\":[\"Ambulatory Visit\",\"Telehealth\",\"Other\",\"Emergency Department\",\"Observation Stay\",\"Inpatient Hospital Stay\",\"No Information\",\"ED Admit to Inaptient\"],\"xaxis\":\"x\",\"y\":[889,599,363,26,21,10,9,3],\"yaxis\":\"y\",\"type\":\"bar\"},{\"alignmentgroup\":\"True\",\"hovertemplate\":\"variable=PCORnet Only<br>enc_type=%{x}<br>value=%{y}<extra></extra>\",\"legendgroup\":\"PCORnet Only\",\"marker\":{\"color\":\"#EF553B\",\"pattern\":{\"shape\":\"\"}},\"name\":\"PCORnet Only\",\"offsetgroup\":\"PCORnet Only\",\"orientation\":\"v\",\"showlegend\":true,\"textposition\":\"auto\",\"x\":[\"Ambulatory Visit\",\"Telehealth\",\"Other\",\"Emergency Department\",\"Observation Stay\",\"Inpatient Hospital Stay\",\"No Information\",\"ED Admit to Inaptient\"],\"xaxis\":\"x\",\"y\":[3559,751,23,44,57,19,24,0],\"yaxis\":\"y\",\"type\":\"bar\"}],                        {\"template\":{\"data\":{\"histogram2dcontour\":[{\"type\":\"histogram2dcontour\",\"colorbar\":{\"outlinewidth\":0,\"ticks\":\"\"},\"colorscale\":[[0.0,\"#0d0887\"],[0.1111111111111111,\"#46039f\"],[0.2222222222222222,\"#7201a8\"],[0.3333333333333333,\"#9c179e\"],[0.4444444444444444,\"#bd3786\"],[0.5555555555555556,\"#d8576b\"],[0.6666666666666666,\"#ed7953\"],[0.7777777777777778,\"#fb9f3a\"],[0.8888888888888888,\"#fdca26\"],[1.0,\"#f0f921\"]]}],\"choropleth\":[{\"type\":\"choropleth\",\"colorbar\":{\"outlinewidth\":0,\"ticks\":\"\"}}],\"histogram2d\":[{\"type\":\"histogram2d\",\"colorbar\":{\"outlinewidth\":0,\"ticks\":\"\"},\"colorscale\":[[0.0,\"#0d0887\"],[0.1111111111111111,\"#46039f\"],[0.2222222222222222,\"#7201a8\"],[0.3333333333333333,\"#9c179e\"],[0.4444444444444444,\"#bd3786\"],[0.5555555555555556,\"#d8576b\"],[0.6666666666666666,\"#ed7953\"],[0.7777777777777778,\"#fb9f3a\"],[0.8888888888888888,\"#fdca26\"],[1.0,\"#f0f921\"]]}],\"heatmap\":[{\"type\":\"heatmap\",\"colorbar\":{\"outlinewidth\":0,\"ticks\":\"\"},\"colorscale\":[[0.0,\"#0d0887\"],[0.1111111111111111,\"#46039f\"],[0.2222222222222222,\"#7201a8\"],[0.3333333333333333,\"#9c179e\"],[0.4444444444444444,\"#bd3786\"],[0.5555555555555556,\"#d8576b\"],[0.6666666666666666,\"#ed7953\"],[0.7777777777777778,\"#fb9f3a\"],[0.8888888888888888,\"#fdca26\"],[1.0,\"#f0f921\"]]}],\"heatmapgl\":[{\"type\":\"heatmapgl\",\"colorbar\":{\"outlinewidth\":0,\"ticks\":\"\"},\"colorscale\":[[0.0,\"#0d0887\"],[0.1111111111111111,\"#46039f\"],[0.2222222222222222,\"#7201a8\"],[0.3333333333333333,\"#9c179e\"],[0.4444444444444444,\"#bd3786\"],[0.5555555555555556,\"#d8576b\"],[0.6666666666666666,\"#ed7953\"],[0.7777777777777778,\"#fb9f3a\"],[0.8888888888888888,\"#fdca26\"],[1.0,\"#f0f921\"]]}],\"contourcarpet\":[{\"type\":\"contourcarpet\",\"colorbar\":{\"outlinewidth\":0,\"ticks\":\"\"}}],\"contour\":[{\"type\":\"contour\",\"colorbar\":{\"outlinewidth\":0,\"ticks\":\"\"},\"colorscale\":[[0.0,\"#0d0887\"],[0.1111111111111111,\"#46039f\"],[0.2222222222222222,\"#7201a8\"],[0.3333333333333333,\"#9c179e\"],[0.4444444444444444,\"#bd3786\"],[0.5555555555555556,\"#d8576b\"],[0.6666666666666666,\"#ed7953\"],[0.7777777777777778,\"#fb9f3a\"],[0.8888888888888888,\"#fdca26\"],[1.0,\"#f0f921\"]]}],\"surface\":[{\"type\":\"surface\",\"colorbar\":{\"outlinewidth\":0,\"ticks\":\"\"},\"colorscale\":[[0.0,\"#0d0887\"],[0.1111111111111111,\"#46039f\"],[0.2222222222222222,\"#7201a8\"],[0.3333333333333333,\"#9c179e\"],[0.4444444444444444,\"#bd3786\"],[0.5555555555555556,\"#d8576b\"],[0.6666666666666666,\"#ed7953\"],[0.7777777777777778,\"#fb9f3a\"],[0.8888888888888888,\"#fdca26\"],[1.0,\"#f0f921\"]]}],\"mesh3d\":[{\"type\":\"mesh3d\",\"colorbar\":{\"outlinewidth\":0,\"ticks\":\"\"}}],\"scatter\":[{\"fillpattern\":{\"fillmode\":\"overlay\",\"size\":10,\"solidity\":0.2},\"type\":\"scatter\"}],\"parcoords\":[{\"type\":\"parcoords\",\"line\":{\"colorbar\":{\"outlinewidth\":0,\"ticks\":\"\"}}}],\"scatterpolargl\":[{\"type\":\"scatterpolargl\",\"marker\":{\"colorbar\":{\"outlinewidth\":0,\"ticks\":\"\"}}}],\"bar\":[{\"error_x\":{\"color\":\"#2a3f5f\"},\"error_y\":{\"color\":\"#2a3f5f\"},\"marker\":{\"line\":{\"color\":\"#E5ECF6\",\"width\":0.5},\"pattern\":{\"fillmode\":\"overlay\",\"size\":10,\"solidity\":0.2}},\"type\":\"bar\"}],\"scattergeo\":[{\"type\":\"scattergeo\",\"marker\":{\"colorbar\":{\"outlinewidth\":0,\"ticks\":\"\"}}}],\"scatterpolar\":[{\"type\":\"scatterpolar\",\"marker\":{\"colorbar\":{\"outlinewidth\":0,\"ticks\":\"\"}}}],\"histogram\":[{\"marker\":{\"pattern\":{\"fillmode\":\"overlay\",\"size\":10,\"solidity\":0.2}},\"type\":\"histogram\"}],\"scattergl\":[{\"type\":\"scattergl\",\"marker\":{\"colorbar\":{\"outlinewidth\":0,\"ticks\":\"\"}}}],\"scatter3d\":[{\"type\":\"scatter3d\",\"line\":{\"colorbar\":{\"outlinewidth\":0,\"ticks\":\"\"}},\"marker\":{\"colorbar\":{\"outlinewidth\":0,\"ticks\":\"\"}}}],\"scattermapbox\":[{\"type\":\"scattermapbox\",\"marker\":{\"colorbar\":{\"outlinewidth\":0,\"ticks\":\"\"}}}],\"scatterternary\":[{\"type\":\"scatterternary\",\"marker\":{\"colorbar\":{\"outlinewidth\":0,\"ticks\":\"\"}}}],\"scattercarpet\":[{\"type\":\"scattercarpet\",\"marker\":{\"colorbar\":{\"outlinewidth\":0,\"ticks\":\"\"}}}],\"carpet\":[{\"aaxis\":{\"endlinecolor\":\"#2a3f5f\",\"gridcolor\":\"white\",\"linecolor\":\"white\",\"minorgridcolor\":\"white\",\"startlinecolor\":\"#2a3f5f\"},\"baxis\":{\"endlinecolor\":\"#2a3f5f\",\"gridcolor\":\"white\",\"linecolor\":\"white\",\"minorgridcolor\":\"white\",\"startlinecolor\":\"#2a3f5f\"},\"type\":\"carpet\"}],\"table\":[{\"cells\":{\"fill\":{\"color\":\"#EBF0F8\"},\"line\":{\"color\":\"white\"}},\"header\":{\"fill\":{\"color\":\"#C8D4E3\"},\"line\":{\"color\":\"white\"}},\"type\":\"table\"}],\"barpolar\":[{\"marker\":{\"line\":{\"color\":\"#E5ECF6\",\"width\":0.5},\"pattern\":{\"fillmode\":\"overlay\",\"size\":10,\"solidity\":0.2}},\"type\":\"barpolar\"}],\"pie\":[{\"automargin\":true,\"type\":\"pie\"}]},\"layout\":{\"autotypenumbers\":\"strict\",\"colorway\":[\"#636efa\",\"#EF553B\",\"#00cc96\",\"#ab63fa\",\"#FFA15A\",\"#19d3f3\",\"#FF6692\",\"#B6E880\",\"#FF97FF\",\"#FECB52\"],\"font\":{\"color\":\"#2a3f5f\"},\"hovermode\":\"closest\",\"hoverlabel\":{\"align\":\"left\"},\"paper_bgcolor\":\"white\",\"plot_bgcolor\":\"#E5ECF6\",\"polar\":{\"bgcolor\":\"#E5ECF6\",\"angularaxis\":{\"gridcolor\":\"white\",\"linecolor\":\"white\",\"ticks\":\"\"},\"radialaxis\":{\"gridcolor\":\"white\",\"linecolor\":\"white\",\"ticks\":\"\"}},\"ternary\":{\"bgcolor\":\"#E5ECF6\",\"aaxis\":{\"gridcolor\":\"white\",\"linecolor\":\"white\",\"ticks\":\"\"},\"baxis\":{\"gridcolor\":\"white\",\"linecolor\":\"white\",\"ticks\":\"\"},\"caxis\":{\"gridcolor\":\"white\",\"linecolor\":\"white\",\"ticks\":\"\"}},\"coloraxis\":{\"colorbar\":{\"outlinewidth\":0,\"ticks\":\"\"}},\"colorscale\":{\"sequential\":[[0.0,\"#0d0887\"],[0.1111111111111111,\"#46039f\"],[0.2222222222222222,\"#7201a8\"],[0.3333333333333333,\"#9c179e\"],[0.4444444444444444,\"#bd3786\"],[0.5555555555555556,\"#d8576b\"],[0.6666666666666666,\"#ed7953\"],[0.7777777777777778,\"#fb9f3a\"],[0.8888888888888888,\"#fdca26\"],[1.0,\"#f0f921\"]],\"sequentialminus\":[[0.0,\"#0d0887\"],[0.1111111111111111,\"#46039f\"],[0.2222222222222222,\"#7201a8\"],[0.3333333333333333,\"#9c179e\"],[0.4444444444444444,\"#bd3786\"],[0.5555555555555556,\"#d8576b\"],[0.6666666666666666,\"#ed7953\"],[0.7777777777777778,\"#fb9f3a\"],[0.8888888888888888,\"#fdca26\"],[1.0,\"#f0f921\"]],\"diverging\":[[0,\"#8e0152\"],[0.1,\"#c51b7d\"],[0.2,\"#de77ae\"],[0.3,\"#f1b6da\"],[0.4,\"#fde0ef\"],[0.5,\"#f7f7f7\"],[0.6,\"#e6f5d0\"],[0.7,\"#b8e186\"],[0.8,\"#7fbc41\"],[0.9,\"#4d9221\"],[1,\"#276419\"]]},\"xaxis\":{\"gridcolor\":\"white\",\"linecolor\":\"white\",\"ticks\":\"\",\"title\":{\"standoff\":15},\"zerolinecolor\":\"white\",\"automargin\":true,\"zerolinewidth\":2},\"yaxis\":{\"gridcolor\":\"white\",\"linecolor\":\"white\",\"ticks\":\"\",\"title\":{\"standoff\":15},\"zerolinecolor\":\"white\",\"automargin\":true,\"zerolinewidth\":2},\"scene\":{\"xaxis\":{\"backgroundcolor\":\"#E5ECF6\",\"gridcolor\":\"white\",\"linecolor\":\"white\",\"showbackground\":true,\"ticks\":\"\",\"zerolinecolor\":\"white\",\"gridwidth\":2},\"yaxis\":{\"backgroundcolor\":\"#E5ECF6\",\"gridcolor\":\"white\",\"linecolor\":\"white\",\"showbackground\":true,\"ticks\":\"\",\"zerolinecolor\":\"white\",\"gridwidth\":2},\"zaxis\":{\"backgroundcolor\":\"#E5ECF6\",\"gridcolor\":\"white\",\"linecolor\":\"white\",\"showbackground\":true,\"ticks\":\"\",\"zerolinecolor\":\"white\",\"gridwidth\":2}},\"shapedefaults\":{\"line\":{\"color\":\"#2a3f5f\"}},\"annotationdefaults\":{\"arrowcolor\":\"#2a3f5f\",\"arrowhead\":0,\"arrowwidth\":1},\"geo\":{\"bgcolor\":\"white\",\"landcolor\":\"#E5ECF6\",\"subunitcolor\":\"white\",\"showland\":true,\"showlakes\":true,\"lakecolor\":\"white\"},\"title\":{\"x\":0.05},\"mapbox\":{\"style\":\"light\"}}},\"xaxis\":{\"anchor\":\"y\",\"domain\":[0.0,1.0],\"title\":{\"text\":\"enc_type\"}},\"yaxis\":{\"anchor\":\"x\",\"domain\":[0.0,1.0],\"title\":{\"text\":\"value\"}},\"legend\":{\"title\":{\"text\":\"variable\"},\"tracegroupgap\":0},\"title\":{\"text\":\"PCORnet Encounters (stratified by whether or not they are identified by OpenEpic)\"},\"barmode\":\"relative\"},                        {\"responsive\": true}                    ).then(function(){\n",
       "                            \n",
       "var gd = document.getElementById('49f759c3-62fd-4558-af67-4599ecbd5005');\n",
       "var x = new MutationObserver(function (mutations, observer) {{\n",
       "        var display = window.getComputedStyle(gd).display;\n",
       "        if (!display || display === 'none') {{\n",
       "            console.log([gd, 'removed!']);\n",
       "            Plotly.purge(gd);\n",
       "            observer.disconnect();\n",
       "        }}\n",
       "}});\n",
       "\n",
       "// Listen for the removal of the full notebook cells\n",
       "var notebookContainer = gd.closest('#notebook-container');\n",
       "if (notebookContainer) {{\n",
       "    x.observe(notebookContainer, {childList: true});\n",
       "}}\n",
       "\n",
       "// Listen for the clearing of the current output cell\n",
       "var outputEl = gd.closest('.output');\n",
       "if (outputEl) {{\n",
       "    x.observe(outputEl, {childList: true});\n",
       "}}\n",
       "\n",
       "                        })                };                });            </script>        </div>"
      ]
     },
     "metadata": {},
     "output_type": "display_data"
    },
    {
     "data": {
      "text/html": [
       "<div>\n",
       "<style scoped>\n",
       "    .dataframe tbody tr th:only-of-type {\n",
       "        vertical-align: middle;\n",
       "    }\n",
       "\n",
       "    .dataframe tbody tr th {\n",
       "        vertical-align: top;\n",
       "    }\n",
       "\n",
       "    .dataframe thead th {\n",
       "        text-align: right;\n",
       "    }\n",
       "</style>\n",
       "<table border=\"1\" class=\"dataframe\">\n",
       "  <thead>\n",
       "    <tr style=\"text-align: right;\">\n",
       "      <th></th>\n",
       "      <th>enc_type</th>\n",
       "      <th>PCORnet &amp; OpenEpic</th>\n",
       "      <th>total</th>\n",
       "      <th>_merge</th>\n",
       "      <th>PCORnet Only</th>\n",
       "    </tr>\n",
       "  </thead>\n",
       "  <tbody>\n",
       "    <tr>\n",
       "      <th>0</th>\n",
       "      <td>Ambulatory Visit</td>\n",
       "      <td>889</td>\n",
       "      <td>4448</td>\n",
       "      <td>both</td>\n",
       "      <td>3559</td>\n",
       "    </tr>\n",
       "    <tr>\n",
       "      <th>1</th>\n",
       "      <td>Telehealth</td>\n",
       "      <td>599</td>\n",
       "      <td>1350</td>\n",
       "      <td>both</td>\n",
       "      <td>751</td>\n",
       "    </tr>\n",
       "    <tr>\n",
       "      <th>2</th>\n",
       "      <td>Other</td>\n",
       "      <td>363</td>\n",
       "      <td>386</td>\n",
       "      <td>both</td>\n",
       "      <td>23</td>\n",
       "    </tr>\n",
       "    <tr>\n",
       "      <th>3</th>\n",
       "      <td>Emergency Department</td>\n",
       "      <td>26</td>\n",
       "      <td>70</td>\n",
       "      <td>both</td>\n",
       "      <td>44</td>\n",
       "    </tr>\n",
       "    <tr>\n",
       "      <th>4</th>\n",
       "      <td>Observation Stay</td>\n",
       "      <td>21</td>\n",
       "      <td>78</td>\n",
       "      <td>both</td>\n",
       "      <td>57</td>\n",
       "    </tr>\n",
       "    <tr>\n",
       "      <th>5</th>\n",
       "      <td>Inpatient Hospital Stay</td>\n",
       "      <td>10</td>\n",
       "      <td>29</td>\n",
       "      <td>both</td>\n",
       "      <td>19</td>\n",
       "    </tr>\n",
       "    <tr>\n",
       "      <th>6</th>\n",
       "      <td>No Information</td>\n",
       "      <td>9</td>\n",
       "      <td>33</td>\n",
       "      <td>both</td>\n",
       "      <td>24</td>\n",
       "    </tr>\n",
       "    <tr>\n",
       "      <th>7</th>\n",
       "      <td>ED Admit to Inaptient</td>\n",
       "      <td>3</td>\n",
       "      <td>3</td>\n",
       "      <td>both</td>\n",
       "      <td>0</td>\n",
       "    </tr>\n",
       "  </tbody>\n",
       "</table>\n",
       "</div>"
      ],
      "text/plain": [
       "                  enc_type  PCORnet & OpenEpic  total _merge  PCORnet Only\n",
       "0         Ambulatory Visit                 889   4448   both          3559\n",
       "1               Telehealth                 599   1350   both           751\n",
       "2                    Other                 363    386   both            23\n",
       "3     Emergency Department                  26     70   both            44\n",
       "4         Observation Stay                  21     78   both            57\n",
       "5  Inpatient Hospital Stay                  10     29   both            19\n",
       "6           No Information                   9     33   both            24\n",
       "7    ED Admit to Inaptient                   3      3   both             0"
      ]
     },
     "execution_count": 49,
     "metadata": {},
     "output_type": "execute_result"
    }
   ],
   "source": [
    "p = m[m['_merge']=='right_only']['enc_type'].value_counts().reset_index(name='counts')\n",
    "o = pc_enc_sd['enc_type'].value_counts().reset_index(name='counts')\n",
    "po = p.merge(o, on='index', indicator=True)\n",
    "\n",
    "po = po.rename(columns={'index': 'enc_type', 'counts_x': 'PCORnet & OpenEpic', 'counts_y':'total'})\n",
    "po['PCORnet Only'] = po['total']-po['PCORnet & OpenEpic']\n",
    "import plotly.express as px\n",
    "\n",
    "fig = px.bar(po, x=\"enc_type\", y=[\"PCORnet & OpenEpic\", \"PCORnet Only\"], title=\"PCORnet Encounters (stratified by whether or not they are identified by OpenEpic)\")\n",
    "fig.show()\n",
    "\n",
    "po"
   ]
  },
  {
   "cell_type": "code",
   "execution_count": 53,
   "id": "bcc6343c",
   "metadata": {},
   "outputs": [
    {
     "data": {
      "application/vnd.plotly.v1+json": {
       "config": {
        "plotlyServerURL": "https://plot.ly"
       },
       "data": [
        {
         "alignmentgroup": "True",
         "hovertemplate": "variable=PCORnet & OpenEpic<br>type_text=%{x}<br>value=%{y}<extra></extra>",
         "legendgroup": "PCORnet & OpenEpic",
         "marker": {
          "color": "#636efa",
          "pattern": {
           "shape": ""
          }
         },
         "name": "PCORnet & OpenEpic",
         "offsetgroup": "PCORnet & OpenEpic",
         "orientation": "v",
         "showlegend": true,
         "textposition": "auto",
         "type": "bar",
         "x": [
          "Telephone",
          "Outpatient",
          "Elective",
          "Office Visit",
          "Hospital Encounter",
          "Ancillary Visit",
          "Therapies Series",
          "Appointment",
          "Video Visit",
          "Immunization",
          "Specialty Pharmacy Visit",
          "Recurring Series - 30Days",
          "Return Office Visit",
          "OP- Series-Therapies",
          "Remote Monitoring"
         ],
         "xaxis": "x",
         "y": [
          502,
          228,
          210,
          196,
          179,
          75,
          66,
          58,
          57,
          51,
          34,
          29,
          27,
          26,
          25
         ],
         "yaxis": "y"
        },
        {
         "alignmentgroup": "True",
         "hovertemplate": "variable=OpenEpic Only<br>type_text=%{x}<br>value=%{y}<extra></extra>",
         "legendgroup": "OpenEpic Only",
         "marker": {
          "color": "#EF553B",
          "pattern": {
           "shape": ""
          }
         },
         "name": "OpenEpic Only",
         "offsetgroup": "OpenEpic Only",
         "orientation": "v",
         "showlegend": true,
         "textposition": "auto",
         "type": "bar",
         "x": [
          "Telephone",
          "Outpatient",
          "Elective",
          "Office Visit",
          "Hospital Encounter",
          "Ancillary Visit",
          "Therapies Series",
          "Appointment",
          "Video Visit",
          "Immunization",
          "Specialty Pharmacy Visit",
          "Recurring Series - 30Days",
          "Return Office Visit",
          "OP- Series-Therapies",
          "Remote Monitoring"
         ],
         "xaxis": "x",
         "y": [
          257,
          952,
          462,
          1193,
          349,
          41,
          49,
          61,
          168,
          21,
          8,
          4,
          46,
          13,
          0
         ],
         "yaxis": "y"
        }
       ],
       "layout": {
        "barmode": "relative",
        "legend": {
         "title": {
          "text": "variable"
         },
         "tracegroupgap": 0
        },
        "template": {
         "data": {
          "bar": [
           {
            "error_x": {
             "color": "#2a3f5f"
            },
            "error_y": {
             "color": "#2a3f5f"
            },
            "marker": {
             "line": {
              "color": "#E5ECF6",
              "width": 0.5
             },
             "pattern": {
              "fillmode": "overlay",
              "size": 10,
              "solidity": 0.2
             }
            },
            "type": "bar"
           }
          ],
          "barpolar": [
           {
            "marker": {
             "line": {
              "color": "#E5ECF6",
              "width": 0.5
             },
             "pattern": {
              "fillmode": "overlay",
              "size": 10,
              "solidity": 0.2
             }
            },
            "type": "barpolar"
           }
          ],
          "carpet": [
           {
            "aaxis": {
             "endlinecolor": "#2a3f5f",
             "gridcolor": "white",
             "linecolor": "white",
             "minorgridcolor": "white",
             "startlinecolor": "#2a3f5f"
            },
            "baxis": {
             "endlinecolor": "#2a3f5f",
             "gridcolor": "white",
             "linecolor": "white",
             "minorgridcolor": "white",
             "startlinecolor": "#2a3f5f"
            },
            "type": "carpet"
           }
          ],
          "choropleth": [
           {
            "colorbar": {
             "outlinewidth": 0,
             "ticks": ""
            },
            "type": "choropleth"
           }
          ],
          "contour": [
           {
            "colorbar": {
             "outlinewidth": 0,
             "ticks": ""
            },
            "colorscale": [
             [
              0,
              "#0d0887"
             ],
             [
              0.1111111111111111,
              "#46039f"
             ],
             [
              0.2222222222222222,
              "#7201a8"
             ],
             [
              0.3333333333333333,
              "#9c179e"
             ],
             [
              0.4444444444444444,
              "#bd3786"
             ],
             [
              0.5555555555555556,
              "#d8576b"
             ],
             [
              0.6666666666666666,
              "#ed7953"
             ],
             [
              0.7777777777777778,
              "#fb9f3a"
             ],
             [
              0.8888888888888888,
              "#fdca26"
             ],
             [
              1,
              "#f0f921"
             ]
            ],
            "type": "contour"
           }
          ],
          "contourcarpet": [
           {
            "colorbar": {
             "outlinewidth": 0,
             "ticks": ""
            },
            "type": "contourcarpet"
           }
          ],
          "heatmap": [
           {
            "colorbar": {
             "outlinewidth": 0,
             "ticks": ""
            },
            "colorscale": [
             [
              0,
              "#0d0887"
             ],
             [
              0.1111111111111111,
              "#46039f"
             ],
             [
              0.2222222222222222,
              "#7201a8"
             ],
             [
              0.3333333333333333,
              "#9c179e"
             ],
             [
              0.4444444444444444,
              "#bd3786"
             ],
             [
              0.5555555555555556,
              "#d8576b"
             ],
             [
              0.6666666666666666,
              "#ed7953"
             ],
             [
              0.7777777777777778,
              "#fb9f3a"
             ],
             [
              0.8888888888888888,
              "#fdca26"
             ],
             [
              1,
              "#f0f921"
             ]
            ],
            "type": "heatmap"
           }
          ],
          "heatmapgl": [
           {
            "colorbar": {
             "outlinewidth": 0,
             "ticks": ""
            },
            "colorscale": [
             [
              0,
              "#0d0887"
             ],
             [
              0.1111111111111111,
              "#46039f"
             ],
             [
              0.2222222222222222,
              "#7201a8"
             ],
             [
              0.3333333333333333,
              "#9c179e"
             ],
             [
              0.4444444444444444,
              "#bd3786"
             ],
             [
              0.5555555555555556,
              "#d8576b"
             ],
             [
              0.6666666666666666,
              "#ed7953"
             ],
             [
              0.7777777777777778,
              "#fb9f3a"
             ],
             [
              0.8888888888888888,
              "#fdca26"
             ],
             [
              1,
              "#f0f921"
             ]
            ],
            "type": "heatmapgl"
           }
          ],
          "histogram": [
           {
            "marker": {
             "pattern": {
              "fillmode": "overlay",
              "size": 10,
              "solidity": 0.2
             }
            },
            "type": "histogram"
           }
          ],
          "histogram2d": [
           {
            "colorbar": {
             "outlinewidth": 0,
             "ticks": ""
            },
            "colorscale": [
             [
              0,
              "#0d0887"
             ],
             [
              0.1111111111111111,
              "#46039f"
             ],
             [
              0.2222222222222222,
              "#7201a8"
             ],
             [
              0.3333333333333333,
              "#9c179e"
             ],
             [
              0.4444444444444444,
              "#bd3786"
             ],
             [
              0.5555555555555556,
              "#d8576b"
             ],
             [
              0.6666666666666666,
              "#ed7953"
             ],
             [
              0.7777777777777778,
              "#fb9f3a"
             ],
             [
              0.8888888888888888,
              "#fdca26"
             ],
             [
              1,
              "#f0f921"
             ]
            ],
            "type": "histogram2d"
           }
          ],
          "histogram2dcontour": [
           {
            "colorbar": {
             "outlinewidth": 0,
             "ticks": ""
            },
            "colorscale": [
             [
              0,
              "#0d0887"
             ],
             [
              0.1111111111111111,
              "#46039f"
             ],
             [
              0.2222222222222222,
              "#7201a8"
             ],
             [
              0.3333333333333333,
              "#9c179e"
             ],
             [
              0.4444444444444444,
              "#bd3786"
             ],
             [
              0.5555555555555556,
              "#d8576b"
             ],
             [
              0.6666666666666666,
              "#ed7953"
             ],
             [
              0.7777777777777778,
              "#fb9f3a"
             ],
             [
              0.8888888888888888,
              "#fdca26"
             ],
             [
              1,
              "#f0f921"
             ]
            ],
            "type": "histogram2dcontour"
           }
          ],
          "mesh3d": [
           {
            "colorbar": {
             "outlinewidth": 0,
             "ticks": ""
            },
            "type": "mesh3d"
           }
          ],
          "parcoords": [
           {
            "line": {
             "colorbar": {
              "outlinewidth": 0,
              "ticks": ""
             }
            },
            "type": "parcoords"
           }
          ],
          "pie": [
           {
            "automargin": true,
            "type": "pie"
           }
          ],
          "scatter": [
           {
            "fillpattern": {
             "fillmode": "overlay",
             "size": 10,
             "solidity": 0.2
            },
            "type": "scatter"
           }
          ],
          "scatter3d": [
           {
            "line": {
             "colorbar": {
              "outlinewidth": 0,
              "ticks": ""
             }
            },
            "marker": {
             "colorbar": {
              "outlinewidth": 0,
              "ticks": ""
             }
            },
            "type": "scatter3d"
           }
          ],
          "scattercarpet": [
           {
            "marker": {
             "colorbar": {
              "outlinewidth": 0,
              "ticks": ""
             }
            },
            "type": "scattercarpet"
           }
          ],
          "scattergeo": [
           {
            "marker": {
             "colorbar": {
              "outlinewidth": 0,
              "ticks": ""
             }
            },
            "type": "scattergeo"
           }
          ],
          "scattergl": [
           {
            "marker": {
             "colorbar": {
              "outlinewidth": 0,
              "ticks": ""
             }
            },
            "type": "scattergl"
           }
          ],
          "scattermapbox": [
           {
            "marker": {
             "colorbar": {
              "outlinewidth": 0,
              "ticks": ""
             }
            },
            "type": "scattermapbox"
           }
          ],
          "scatterpolar": [
           {
            "marker": {
             "colorbar": {
              "outlinewidth": 0,
              "ticks": ""
             }
            },
            "type": "scatterpolar"
           }
          ],
          "scatterpolargl": [
           {
            "marker": {
             "colorbar": {
              "outlinewidth": 0,
              "ticks": ""
             }
            },
            "type": "scatterpolargl"
           }
          ],
          "scatterternary": [
           {
            "marker": {
             "colorbar": {
              "outlinewidth": 0,
              "ticks": ""
             }
            },
            "type": "scatterternary"
           }
          ],
          "surface": [
           {
            "colorbar": {
             "outlinewidth": 0,
             "ticks": ""
            },
            "colorscale": [
             [
              0,
              "#0d0887"
             ],
             [
              0.1111111111111111,
              "#46039f"
             ],
             [
              0.2222222222222222,
              "#7201a8"
             ],
             [
              0.3333333333333333,
              "#9c179e"
             ],
             [
              0.4444444444444444,
              "#bd3786"
             ],
             [
              0.5555555555555556,
              "#d8576b"
             ],
             [
              0.6666666666666666,
              "#ed7953"
             ],
             [
              0.7777777777777778,
              "#fb9f3a"
             ],
             [
              0.8888888888888888,
              "#fdca26"
             ],
             [
              1,
              "#f0f921"
             ]
            ],
            "type": "surface"
           }
          ],
          "table": [
           {
            "cells": {
             "fill": {
              "color": "#EBF0F8"
             },
             "line": {
              "color": "white"
             }
            },
            "header": {
             "fill": {
              "color": "#C8D4E3"
             },
             "line": {
              "color": "white"
             }
            },
            "type": "table"
           }
          ]
         },
         "layout": {
          "annotationdefaults": {
           "arrowcolor": "#2a3f5f",
           "arrowhead": 0,
           "arrowwidth": 1
          },
          "autotypenumbers": "strict",
          "coloraxis": {
           "colorbar": {
            "outlinewidth": 0,
            "ticks": ""
           }
          },
          "colorscale": {
           "diverging": [
            [
             0,
             "#8e0152"
            ],
            [
             0.1,
             "#c51b7d"
            ],
            [
             0.2,
             "#de77ae"
            ],
            [
             0.3,
             "#f1b6da"
            ],
            [
             0.4,
             "#fde0ef"
            ],
            [
             0.5,
             "#f7f7f7"
            ],
            [
             0.6,
             "#e6f5d0"
            ],
            [
             0.7,
             "#b8e186"
            ],
            [
             0.8,
             "#7fbc41"
            ],
            [
             0.9,
             "#4d9221"
            ],
            [
             1,
             "#276419"
            ]
           ],
           "sequential": [
            [
             0,
             "#0d0887"
            ],
            [
             0.1111111111111111,
             "#46039f"
            ],
            [
             0.2222222222222222,
             "#7201a8"
            ],
            [
             0.3333333333333333,
             "#9c179e"
            ],
            [
             0.4444444444444444,
             "#bd3786"
            ],
            [
             0.5555555555555556,
             "#d8576b"
            ],
            [
             0.6666666666666666,
             "#ed7953"
            ],
            [
             0.7777777777777778,
             "#fb9f3a"
            ],
            [
             0.8888888888888888,
             "#fdca26"
            ],
            [
             1,
             "#f0f921"
            ]
           ],
           "sequentialminus": [
            [
             0,
             "#0d0887"
            ],
            [
             0.1111111111111111,
             "#46039f"
            ],
            [
             0.2222222222222222,
             "#7201a8"
            ],
            [
             0.3333333333333333,
             "#9c179e"
            ],
            [
             0.4444444444444444,
             "#bd3786"
            ],
            [
             0.5555555555555556,
             "#d8576b"
            ],
            [
             0.6666666666666666,
             "#ed7953"
            ],
            [
             0.7777777777777778,
             "#fb9f3a"
            ],
            [
             0.8888888888888888,
             "#fdca26"
            ],
            [
             1,
             "#f0f921"
            ]
           ]
          },
          "colorway": [
           "#636efa",
           "#EF553B",
           "#00cc96",
           "#ab63fa",
           "#FFA15A",
           "#19d3f3",
           "#FF6692",
           "#B6E880",
           "#FF97FF",
           "#FECB52"
          ],
          "font": {
           "color": "#2a3f5f"
          },
          "geo": {
           "bgcolor": "white",
           "lakecolor": "white",
           "landcolor": "#E5ECF6",
           "showlakes": true,
           "showland": true,
           "subunitcolor": "white"
          },
          "hoverlabel": {
           "align": "left"
          },
          "hovermode": "closest",
          "mapbox": {
           "style": "light"
          },
          "paper_bgcolor": "white",
          "plot_bgcolor": "#E5ECF6",
          "polar": {
           "angularaxis": {
            "gridcolor": "white",
            "linecolor": "white",
            "ticks": ""
           },
           "bgcolor": "#E5ECF6",
           "radialaxis": {
            "gridcolor": "white",
            "linecolor": "white",
            "ticks": ""
           }
          },
          "scene": {
           "xaxis": {
            "backgroundcolor": "#E5ECF6",
            "gridcolor": "white",
            "gridwidth": 2,
            "linecolor": "white",
            "showbackground": true,
            "ticks": "",
            "zerolinecolor": "white"
           },
           "yaxis": {
            "backgroundcolor": "#E5ECF6",
            "gridcolor": "white",
            "gridwidth": 2,
            "linecolor": "white",
            "showbackground": true,
            "ticks": "",
            "zerolinecolor": "white"
           },
           "zaxis": {
            "backgroundcolor": "#E5ECF6",
            "gridcolor": "white",
            "gridwidth": 2,
            "linecolor": "white",
            "showbackground": true,
            "ticks": "",
            "zerolinecolor": "white"
           }
          },
          "shapedefaults": {
           "line": {
            "color": "#2a3f5f"
           }
          },
          "ternary": {
           "aaxis": {
            "gridcolor": "white",
            "linecolor": "white",
            "ticks": ""
           },
           "baxis": {
            "gridcolor": "white",
            "linecolor": "white",
            "ticks": ""
           },
           "bgcolor": "#E5ECF6",
           "caxis": {
            "gridcolor": "white",
            "linecolor": "white",
            "ticks": ""
           }
          },
          "title": {
           "x": 0.05
          },
          "xaxis": {
           "automargin": true,
           "gridcolor": "white",
           "linecolor": "white",
           "ticks": "",
           "title": {
            "standoff": 15
           },
           "zerolinecolor": "white",
           "zerolinewidth": 2
          },
          "yaxis": {
           "automargin": true,
           "gridcolor": "white",
           "linecolor": "white",
           "ticks": "",
           "title": {
            "standoff": 15
           },
           "zerolinecolor": "white",
           "zerolinewidth": 2
          }
         }
        },
        "title": {
         "text": "OpenEpic Encounters (stratified by whether or not they are identified by PCORnet)"
        },
        "xaxis": {
         "anchor": "y",
         "domain": [
          0,
          1
         ],
         "title": {
          "text": "type_text"
         }
        },
        "yaxis": {
         "anchor": "x",
         "domain": [
          0,
          1
         ],
         "title": {
          "text": "value"
         }
        }
       }
      },
      "text/html": [
       "<div>                            <div id=\"86e5c608-0d30-448e-91fb-c071092a8065\" class=\"plotly-graph-div\" style=\"height:525px; width:100%;\"></div>            <script type=\"text/javascript\">                require([\"plotly\"], function(Plotly) {                    window.PLOTLYENV=window.PLOTLYENV || {};                                    if (document.getElementById(\"86e5c608-0d30-448e-91fb-c071092a8065\")) {                    Plotly.newPlot(                        \"86e5c608-0d30-448e-91fb-c071092a8065\",                        [{\"alignmentgroup\":\"True\",\"hovertemplate\":\"variable=PCORnet & OpenEpic<br>type_text=%{x}<br>value=%{y}<extra></extra>\",\"legendgroup\":\"PCORnet & OpenEpic\",\"marker\":{\"color\":\"#636efa\",\"pattern\":{\"shape\":\"\"}},\"name\":\"PCORnet & OpenEpic\",\"offsetgroup\":\"PCORnet & OpenEpic\",\"orientation\":\"v\",\"showlegend\":true,\"textposition\":\"auto\",\"x\":[\"Telephone\",\"Outpatient\",\"Elective\",\"Office Visit\",\"Hospital Encounter\",\"Ancillary Visit\",\"Therapies Series\",\"Appointment\",\"Video Visit\",\"Immunization\",\"Specialty Pharmacy Visit\",\"Recurring Series - 30Days\",\"Return Office Visit\",\"OP- Series-Therapies\",\"Remote Monitoring\"],\"xaxis\":\"x\",\"y\":[502,228,210,196,179,75,66,58,57,51,34,29,27,26,25],\"yaxis\":\"y\",\"type\":\"bar\"},{\"alignmentgroup\":\"True\",\"hovertemplate\":\"variable=OpenEpic Only<br>type_text=%{x}<br>value=%{y}<extra></extra>\",\"legendgroup\":\"OpenEpic Only\",\"marker\":{\"color\":\"#EF553B\",\"pattern\":{\"shape\":\"\"}},\"name\":\"OpenEpic Only\",\"offsetgroup\":\"OpenEpic Only\",\"orientation\":\"v\",\"showlegend\":true,\"textposition\":\"auto\",\"x\":[\"Telephone\",\"Outpatient\",\"Elective\",\"Office Visit\",\"Hospital Encounter\",\"Ancillary Visit\",\"Therapies Series\",\"Appointment\",\"Video Visit\",\"Immunization\",\"Specialty Pharmacy Visit\",\"Recurring Series - 30Days\",\"Return Office Visit\",\"OP- Series-Therapies\",\"Remote Monitoring\"],\"xaxis\":\"x\",\"y\":[257,952,462,1193,349,41,49,61,168,21,8,4,46,13,0],\"yaxis\":\"y\",\"type\":\"bar\"}],                        {\"template\":{\"data\":{\"histogram2dcontour\":[{\"type\":\"histogram2dcontour\",\"colorbar\":{\"outlinewidth\":0,\"ticks\":\"\"},\"colorscale\":[[0.0,\"#0d0887\"],[0.1111111111111111,\"#46039f\"],[0.2222222222222222,\"#7201a8\"],[0.3333333333333333,\"#9c179e\"],[0.4444444444444444,\"#bd3786\"],[0.5555555555555556,\"#d8576b\"],[0.6666666666666666,\"#ed7953\"],[0.7777777777777778,\"#fb9f3a\"],[0.8888888888888888,\"#fdca26\"],[1.0,\"#f0f921\"]]}],\"choropleth\":[{\"type\":\"choropleth\",\"colorbar\":{\"outlinewidth\":0,\"ticks\":\"\"}}],\"histogram2d\":[{\"type\":\"histogram2d\",\"colorbar\":{\"outlinewidth\":0,\"ticks\":\"\"},\"colorscale\":[[0.0,\"#0d0887\"],[0.1111111111111111,\"#46039f\"],[0.2222222222222222,\"#7201a8\"],[0.3333333333333333,\"#9c179e\"],[0.4444444444444444,\"#bd3786\"],[0.5555555555555556,\"#d8576b\"],[0.6666666666666666,\"#ed7953\"],[0.7777777777777778,\"#fb9f3a\"],[0.8888888888888888,\"#fdca26\"],[1.0,\"#f0f921\"]]}],\"heatmap\":[{\"type\":\"heatmap\",\"colorbar\":{\"outlinewidth\":0,\"ticks\":\"\"},\"colorscale\":[[0.0,\"#0d0887\"],[0.1111111111111111,\"#46039f\"],[0.2222222222222222,\"#7201a8\"],[0.3333333333333333,\"#9c179e\"],[0.4444444444444444,\"#bd3786\"],[0.5555555555555556,\"#d8576b\"],[0.6666666666666666,\"#ed7953\"],[0.7777777777777778,\"#fb9f3a\"],[0.8888888888888888,\"#fdca26\"],[1.0,\"#f0f921\"]]}],\"heatmapgl\":[{\"type\":\"heatmapgl\",\"colorbar\":{\"outlinewidth\":0,\"ticks\":\"\"},\"colorscale\":[[0.0,\"#0d0887\"],[0.1111111111111111,\"#46039f\"],[0.2222222222222222,\"#7201a8\"],[0.3333333333333333,\"#9c179e\"],[0.4444444444444444,\"#bd3786\"],[0.5555555555555556,\"#d8576b\"],[0.6666666666666666,\"#ed7953\"],[0.7777777777777778,\"#fb9f3a\"],[0.8888888888888888,\"#fdca26\"],[1.0,\"#f0f921\"]]}],\"contourcarpet\":[{\"type\":\"contourcarpet\",\"colorbar\":{\"outlinewidth\":0,\"ticks\":\"\"}}],\"contour\":[{\"type\":\"contour\",\"colorbar\":{\"outlinewidth\":0,\"ticks\":\"\"},\"colorscale\":[[0.0,\"#0d0887\"],[0.1111111111111111,\"#46039f\"],[0.2222222222222222,\"#7201a8\"],[0.3333333333333333,\"#9c179e\"],[0.4444444444444444,\"#bd3786\"],[0.5555555555555556,\"#d8576b\"],[0.6666666666666666,\"#ed7953\"],[0.7777777777777778,\"#fb9f3a\"],[0.8888888888888888,\"#fdca26\"],[1.0,\"#f0f921\"]]}],\"surface\":[{\"type\":\"surface\",\"colorbar\":{\"outlinewidth\":0,\"ticks\":\"\"},\"colorscale\":[[0.0,\"#0d0887\"],[0.1111111111111111,\"#46039f\"],[0.2222222222222222,\"#7201a8\"],[0.3333333333333333,\"#9c179e\"],[0.4444444444444444,\"#bd3786\"],[0.5555555555555556,\"#d8576b\"],[0.6666666666666666,\"#ed7953\"],[0.7777777777777778,\"#fb9f3a\"],[0.8888888888888888,\"#fdca26\"],[1.0,\"#f0f921\"]]}],\"mesh3d\":[{\"type\":\"mesh3d\",\"colorbar\":{\"outlinewidth\":0,\"ticks\":\"\"}}],\"scatter\":[{\"fillpattern\":{\"fillmode\":\"overlay\",\"size\":10,\"solidity\":0.2},\"type\":\"scatter\"}],\"parcoords\":[{\"type\":\"parcoords\",\"line\":{\"colorbar\":{\"outlinewidth\":0,\"ticks\":\"\"}}}],\"scatterpolargl\":[{\"type\":\"scatterpolargl\",\"marker\":{\"colorbar\":{\"outlinewidth\":0,\"ticks\":\"\"}}}],\"bar\":[{\"error_x\":{\"color\":\"#2a3f5f\"},\"error_y\":{\"color\":\"#2a3f5f\"},\"marker\":{\"line\":{\"color\":\"#E5ECF6\",\"width\":0.5},\"pattern\":{\"fillmode\":\"overlay\",\"size\":10,\"solidity\":0.2}},\"type\":\"bar\"}],\"scattergeo\":[{\"type\":\"scattergeo\",\"marker\":{\"colorbar\":{\"outlinewidth\":0,\"ticks\":\"\"}}}],\"scatterpolar\":[{\"type\":\"scatterpolar\",\"marker\":{\"colorbar\":{\"outlinewidth\":0,\"ticks\":\"\"}}}],\"histogram\":[{\"marker\":{\"pattern\":{\"fillmode\":\"overlay\",\"size\":10,\"solidity\":0.2}},\"type\":\"histogram\"}],\"scattergl\":[{\"type\":\"scattergl\",\"marker\":{\"colorbar\":{\"outlinewidth\":0,\"ticks\":\"\"}}}],\"scatter3d\":[{\"type\":\"scatter3d\",\"line\":{\"colorbar\":{\"outlinewidth\":0,\"ticks\":\"\"}},\"marker\":{\"colorbar\":{\"outlinewidth\":0,\"ticks\":\"\"}}}],\"scattermapbox\":[{\"type\":\"scattermapbox\",\"marker\":{\"colorbar\":{\"outlinewidth\":0,\"ticks\":\"\"}}}],\"scatterternary\":[{\"type\":\"scatterternary\",\"marker\":{\"colorbar\":{\"outlinewidth\":0,\"ticks\":\"\"}}}],\"scattercarpet\":[{\"type\":\"scattercarpet\",\"marker\":{\"colorbar\":{\"outlinewidth\":0,\"ticks\":\"\"}}}],\"carpet\":[{\"aaxis\":{\"endlinecolor\":\"#2a3f5f\",\"gridcolor\":\"white\",\"linecolor\":\"white\",\"minorgridcolor\":\"white\",\"startlinecolor\":\"#2a3f5f\"},\"baxis\":{\"endlinecolor\":\"#2a3f5f\",\"gridcolor\":\"white\",\"linecolor\":\"white\",\"minorgridcolor\":\"white\",\"startlinecolor\":\"#2a3f5f\"},\"type\":\"carpet\"}],\"table\":[{\"cells\":{\"fill\":{\"color\":\"#EBF0F8\"},\"line\":{\"color\":\"white\"}},\"header\":{\"fill\":{\"color\":\"#C8D4E3\"},\"line\":{\"color\":\"white\"}},\"type\":\"table\"}],\"barpolar\":[{\"marker\":{\"line\":{\"color\":\"#E5ECF6\",\"width\":0.5},\"pattern\":{\"fillmode\":\"overlay\",\"size\":10,\"solidity\":0.2}},\"type\":\"barpolar\"}],\"pie\":[{\"automargin\":true,\"type\":\"pie\"}]},\"layout\":{\"autotypenumbers\":\"strict\",\"colorway\":[\"#636efa\",\"#EF553B\",\"#00cc96\",\"#ab63fa\",\"#FFA15A\",\"#19d3f3\",\"#FF6692\",\"#B6E880\",\"#FF97FF\",\"#FECB52\"],\"font\":{\"color\":\"#2a3f5f\"},\"hovermode\":\"closest\",\"hoverlabel\":{\"align\":\"left\"},\"paper_bgcolor\":\"white\",\"plot_bgcolor\":\"#E5ECF6\",\"polar\":{\"bgcolor\":\"#E5ECF6\",\"angularaxis\":{\"gridcolor\":\"white\",\"linecolor\":\"white\",\"ticks\":\"\"},\"radialaxis\":{\"gridcolor\":\"white\",\"linecolor\":\"white\",\"ticks\":\"\"}},\"ternary\":{\"bgcolor\":\"#E5ECF6\",\"aaxis\":{\"gridcolor\":\"white\",\"linecolor\":\"white\",\"ticks\":\"\"},\"baxis\":{\"gridcolor\":\"white\",\"linecolor\":\"white\",\"ticks\":\"\"},\"caxis\":{\"gridcolor\":\"white\",\"linecolor\":\"white\",\"ticks\":\"\"}},\"coloraxis\":{\"colorbar\":{\"outlinewidth\":0,\"ticks\":\"\"}},\"colorscale\":{\"sequential\":[[0.0,\"#0d0887\"],[0.1111111111111111,\"#46039f\"],[0.2222222222222222,\"#7201a8\"],[0.3333333333333333,\"#9c179e\"],[0.4444444444444444,\"#bd3786\"],[0.5555555555555556,\"#d8576b\"],[0.6666666666666666,\"#ed7953\"],[0.7777777777777778,\"#fb9f3a\"],[0.8888888888888888,\"#fdca26\"],[1.0,\"#f0f921\"]],\"sequentialminus\":[[0.0,\"#0d0887\"],[0.1111111111111111,\"#46039f\"],[0.2222222222222222,\"#7201a8\"],[0.3333333333333333,\"#9c179e\"],[0.4444444444444444,\"#bd3786\"],[0.5555555555555556,\"#d8576b\"],[0.6666666666666666,\"#ed7953\"],[0.7777777777777778,\"#fb9f3a\"],[0.8888888888888888,\"#fdca26\"],[1.0,\"#f0f921\"]],\"diverging\":[[0,\"#8e0152\"],[0.1,\"#c51b7d\"],[0.2,\"#de77ae\"],[0.3,\"#f1b6da\"],[0.4,\"#fde0ef\"],[0.5,\"#f7f7f7\"],[0.6,\"#e6f5d0\"],[0.7,\"#b8e186\"],[0.8,\"#7fbc41\"],[0.9,\"#4d9221\"],[1,\"#276419\"]]},\"xaxis\":{\"gridcolor\":\"white\",\"linecolor\":\"white\",\"ticks\":\"\",\"title\":{\"standoff\":15},\"zerolinecolor\":\"white\",\"automargin\":true,\"zerolinewidth\":2},\"yaxis\":{\"gridcolor\":\"white\",\"linecolor\":\"white\",\"ticks\":\"\",\"title\":{\"standoff\":15},\"zerolinecolor\":\"white\",\"automargin\":true,\"zerolinewidth\":2},\"scene\":{\"xaxis\":{\"backgroundcolor\":\"#E5ECF6\",\"gridcolor\":\"white\",\"linecolor\":\"white\",\"showbackground\":true,\"ticks\":\"\",\"zerolinecolor\":\"white\",\"gridwidth\":2},\"yaxis\":{\"backgroundcolor\":\"#E5ECF6\",\"gridcolor\":\"white\",\"linecolor\":\"white\",\"showbackground\":true,\"ticks\":\"\",\"zerolinecolor\":\"white\",\"gridwidth\":2},\"zaxis\":{\"backgroundcolor\":\"#E5ECF6\",\"gridcolor\":\"white\",\"linecolor\":\"white\",\"showbackground\":true,\"ticks\":\"\",\"zerolinecolor\":\"white\",\"gridwidth\":2}},\"shapedefaults\":{\"line\":{\"color\":\"#2a3f5f\"}},\"annotationdefaults\":{\"arrowcolor\":\"#2a3f5f\",\"arrowhead\":0,\"arrowwidth\":1},\"geo\":{\"bgcolor\":\"white\",\"landcolor\":\"#E5ECF6\",\"subunitcolor\":\"white\",\"showland\":true,\"showlakes\":true,\"lakecolor\":\"white\"},\"title\":{\"x\":0.05},\"mapbox\":{\"style\":\"light\"}}},\"xaxis\":{\"anchor\":\"y\",\"domain\":[0.0,1.0],\"title\":{\"text\":\"type_text\"}},\"yaxis\":{\"anchor\":\"x\",\"domain\":[0.0,1.0],\"title\":{\"text\":\"value\"}},\"legend\":{\"title\":{\"text\":\"variable\"},\"tracegroupgap\":0},\"title\":{\"text\":\"OpenEpic Encounters (stratified by whether or not they are identified by PCORnet)\"},\"barmode\":\"relative\"},                        {\"responsive\": true}                    ).then(function(){\n",
       "                            \n",
       "var gd = document.getElementById('86e5c608-0d30-448e-91fb-c071092a8065');\n",
       "var x = new MutationObserver(function (mutations, observer) {{\n",
       "        var display = window.getComputedStyle(gd).display;\n",
       "        if (!display || display === 'none') {{\n",
       "            console.log([gd, 'removed!']);\n",
       "            Plotly.purge(gd);\n",
       "            observer.disconnect();\n",
       "        }}\n",
       "}});\n",
       "\n",
       "// Listen for the removal of the full notebook cells\n",
       "var notebookContainer = gd.closest('#notebook-container');\n",
       "if (notebookContainer) {{\n",
       "    x.observe(notebookContainer, {childList: true});\n",
       "}}\n",
       "\n",
       "// Listen for the clearing of the current output cell\n",
       "var outputEl = gd.closest('.output');\n",
       "if (outputEl) {{\n",
       "    x.observe(outputEl, {childList: true});\n",
       "}}\n",
       "\n",
       "                        })                };                });            </script>        </div>"
      ]
     },
     "metadata": {},
     "output_type": "display_data"
    },
    {
     "data": {
      "text/html": [
       "<div>\n",
       "<style scoped>\n",
       "    .dataframe tbody tr th:only-of-type {\n",
       "        vertical-align: middle;\n",
       "    }\n",
       "\n",
       "    .dataframe tbody tr th {\n",
       "        vertical-align: top;\n",
       "    }\n",
       "\n",
       "    .dataframe thead th {\n",
       "        text-align: right;\n",
       "    }\n",
       "</style>\n",
       "<table border=\"1\" class=\"dataframe\">\n",
       "  <thead>\n",
       "    <tr style=\"text-align: right;\">\n",
       "      <th></th>\n",
       "      <th>type_text</th>\n",
       "      <th>PCORnet &amp; OpenEpic</th>\n",
       "      <th>total</th>\n",
       "      <th>_merge</th>\n",
       "      <th>OpenEpic Only</th>\n",
       "    </tr>\n",
       "  </thead>\n",
       "  <tbody>\n",
       "    <tr>\n",
       "      <th>0</th>\n",
       "      <td>Telephone</td>\n",
       "      <td>502</td>\n",
       "      <td>759</td>\n",
       "      <td>both</td>\n",
       "      <td>257</td>\n",
       "    </tr>\n",
       "    <tr>\n",
       "      <th>1</th>\n",
       "      <td>Outpatient</td>\n",
       "      <td>228</td>\n",
       "      <td>1180</td>\n",
       "      <td>both</td>\n",
       "      <td>952</td>\n",
       "    </tr>\n",
       "    <tr>\n",
       "      <th>2</th>\n",
       "      <td>Elective</td>\n",
       "      <td>210</td>\n",
       "      <td>672</td>\n",
       "      <td>both</td>\n",
       "      <td>462</td>\n",
       "    </tr>\n",
       "    <tr>\n",
       "      <th>3</th>\n",
       "      <td>Office Visit</td>\n",
       "      <td>196</td>\n",
       "      <td>1389</td>\n",
       "      <td>both</td>\n",
       "      <td>1193</td>\n",
       "    </tr>\n",
       "    <tr>\n",
       "      <th>4</th>\n",
       "      <td>Hospital Encounter</td>\n",
       "      <td>179</td>\n",
       "      <td>528</td>\n",
       "      <td>both</td>\n",
       "      <td>349</td>\n",
       "    </tr>\n",
       "    <tr>\n",
       "      <th>5</th>\n",
       "      <td>Ancillary Visit</td>\n",
       "      <td>75</td>\n",
       "      <td>116</td>\n",
       "      <td>both</td>\n",
       "      <td>41</td>\n",
       "    </tr>\n",
       "    <tr>\n",
       "      <th>6</th>\n",
       "      <td>Therapies Series</td>\n",
       "      <td>66</td>\n",
       "      <td>115</td>\n",
       "      <td>both</td>\n",
       "      <td>49</td>\n",
       "    </tr>\n",
       "    <tr>\n",
       "      <th>7</th>\n",
       "      <td>Appointment</td>\n",
       "      <td>58</td>\n",
       "      <td>119</td>\n",
       "      <td>both</td>\n",
       "      <td>61</td>\n",
       "    </tr>\n",
       "    <tr>\n",
       "      <th>8</th>\n",
       "      <td>Video Visit</td>\n",
       "      <td>57</td>\n",
       "      <td>225</td>\n",
       "      <td>both</td>\n",
       "      <td>168</td>\n",
       "    </tr>\n",
       "    <tr>\n",
       "      <th>9</th>\n",
       "      <td>Immunization</td>\n",
       "      <td>51</td>\n",
       "      <td>72</td>\n",
       "      <td>both</td>\n",
       "      <td>21</td>\n",
       "    </tr>\n",
       "    <tr>\n",
       "      <th>10</th>\n",
       "      <td>Specialty Pharmacy Visit</td>\n",
       "      <td>34</td>\n",
       "      <td>42</td>\n",
       "      <td>both</td>\n",
       "      <td>8</td>\n",
       "    </tr>\n",
       "    <tr>\n",
       "      <th>11</th>\n",
       "      <td>Recurring Series - 30Days</td>\n",
       "      <td>29</td>\n",
       "      <td>33</td>\n",
       "      <td>both</td>\n",
       "      <td>4</td>\n",
       "    </tr>\n",
       "    <tr>\n",
       "      <th>12</th>\n",
       "      <td>Return Office Visit</td>\n",
       "      <td>27</td>\n",
       "      <td>73</td>\n",
       "      <td>both</td>\n",
       "      <td>46</td>\n",
       "    </tr>\n",
       "    <tr>\n",
       "      <th>13</th>\n",
       "      <td>OP- Series-Therapies</td>\n",
       "      <td>26</td>\n",
       "      <td>39</td>\n",
       "      <td>both</td>\n",
       "      <td>13</td>\n",
       "    </tr>\n",
       "    <tr>\n",
       "      <th>14</th>\n",
       "      <td>Remote Monitoring</td>\n",
       "      <td>25</td>\n",
       "      <td>25</td>\n",
       "      <td>both</td>\n",
       "      <td>0</td>\n",
       "    </tr>\n",
       "  </tbody>\n",
       "</table>\n",
       "</div>"
      ],
      "text/plain": [
       "                    type_text  PCORnet & OpenEpic  total _merge  OpenEpic Only\n",
       "0                   Telephone                 502    759   both            257\n",
       "1                  Outpatient                 228   1180   both            952\n",
       "2                    Elective                 210    672   both            462\n",
       "3                Office Visit                 196   1389   both           1193\n",
       "4          Hospital Encounter                 179    528   both            349\n",
       "5             Ancillary Visit                  75    116   both             41\n",
       "6            Therapies Series                  66    115   both             49\n",
       "7                 Appointment                  58    119   both             61\n",
       "8                 Video Visit                  57    225   both            168\n",
       "9                Immunization                  51     72   both             21\n",
       "10   Specialty Pharmacy Visit                  34     42   both              8\n",
       "11  Recurring Series - 30Days                  29     33   both              4\n",
       "12        Return Office Visit                  27     73   both             46\n",
       "13       OP- Series-Therapies                  26     39   both             13\n",
       "14          Remote Monitoring                  25     25   both              0"
      ]
     },
     "execution_count": 53,
     "metadata": {},
     "output_type": "execute_result"
    }
   ],
   "source": [
    "p = m[m['_merge']=='left_only']['type_text'].value_counts().reset_index(name='counts')\n",
    "o = fhir_enc_sd['type_text'].value_counts().reset_index(name='counts')\n",
    "po = p.merge(o, on='index', indicator=True)\n",
    "\n",
    "po = po.rename(columns={'index': 'type_text', 'counts_x': 'PCORnet & OpenEpic', 'counts_y':'total'})\n",
    "po['OpenEpic Only'] = po['total']-po['PCORnet & OpenEpic']\n",
    "po = po.head(15)\n",
    "import plotly.express as px\n",
    "\n",
    "fig = px.bar(po, x=\"type_text\", y=[\"PCORnet & OpenEpic\", \"OpenEpic Only\"], title=\"OpenEpic Encounters (stratified by whether or not they are identified by PCORnet)\")\n",
    "fig.show()\n",
    "\n",
    "po"
   ]
  },
  {
   "cell_type": "code",
   "execution_count": 45,
   "id": "e44c27f1",
   "metadata": {},
   "outputs": [
    {
     "data": {
      "text/plain": [
       "Office Visit                                                 1389\n",
       "Outpatient                                                   1180\n",
       "Telephone                                                     759\n",
       "Elective                                                      672\n",
       "Refill                                                        564\n",
       "Hospital Encounter                                            528\n",
       "Video Visit                                                   225\n",
       "Follow Up Appointment                                         158\n",
       "Telemedicine                                                  145\n",
       "OP- Hospital Outpatient Clinic                                142\n",
       "Appointment                                                   119\n",
       "Ancillary Visit                                               116\n",
       "Therapies Series                                              115\n",
       "Patient Message                                                88\n",
       "Nurse Visit                                                    88\n",
       "Surgery                                                        86\n",
       "Return Office Visit                                            73\n",
       "Immunization                                                   72\n",
       "Virtual Visit                                                  66\n",
       "Provider Based Billing                                         58\n",
       "Established Patient Visit                                      50\n",
       "Care Team Visit                                                44\n",
       "Immunization Clinic                                            43\n",
       "Specialty Pharmacy Visit                                       42\n",
       "Emergency                                                      40\n",
       "OP- Series-Therapies                                           39\n",
       "OP- Outpatient Diagnostic Testing                              35\n",
       "Recurring Series - 30Days                                      33\n",
       "New Patient Consult                                            33\n",
       "Therapy Visit                                                  32\n",
       "Lab Visit                                                      31\n",
       "New Patient Appointment                                        30\n",
       "Recurring                                                      30\n",
       "Urgent Care Office Visit                                       27\n",
       "New Patient                                                    26\n",
       "Ancillary Only Private Referred                                26\n",
       "Chart Note                                                     26\n",
       "Remote Monitoring                                              25\n",
       "Procedure visit                                                25\n",
       "Day Surgery                                                    24\n",
       "Acute Visit                                                    23\n",
       "MBHC                                                           23\n",
       "Resource Visit                                                 23\n",
       "VIDEO VISIT  (Video Visit)                                     22\n",
       "Routine/Elective                                               22\n",
       "Patient Outreach                                               21\n",
       "X-Ray Imaging Appointment                                      20\n",
       "Physical                                                       20\n",
       "Follow Up/Office Visit                                         18\n",
       "Outpatient Therapy Visit                                       18\n",
       "Injection                                                      18\n",
       "MyChart Video Televisit Follow Up                              17\n",
       "Health Maintenance Exam                                        17\n",
       "Ancillary Procedure                                            17\n",
       "Inpatient                                                      16\n",
       "Treatment                                                      14\n",
       "Established Physical Therapy                                   14\n",
       "XR GENERAL                                                     14\n",
       "Complex Return Visit                                           14\n",
       "Walk in Care                                                   14\n",
       "Other Therapies                                                13\n",
       "Virtual visit                                                  12\n",
       "Lab Scheduling MHO                                             12\n",
       "Covid19 Vaccine                                                12\n",
       "Pt Treatment                                                   12\n",
       "Medicare Wellness                                              12\n",
       "Seasonal Flu Shot                                              12\n",
       "OPD Clinic                                                     12\n",
       "Non Patient Lab                                                11\n",
       "Radiation/Oncology Series                                      11\n",
       "Treatment - General PT                                         11\n",
       "OPH OCT 15                                                     10\n",
       "NEW PATIENT VIDEO VISIT (Video Visit)                          10\n",
       "Minor Office Procedure Visit                                   10\n",
       "Infusion                                                       10\n",
       "NEW PATIENT VISIT                                              10\n",
       "Radiation Therapy Visit                                        10\n",
       "PUBLIC HEALTH SCREENING                                         9\n",
       "Clinical Visit                                                  9\n",
       "Evaluation                                                      9\n",
       "Post-Op                                                         9\n",
       "Established Patient Call                                        9\n",
       "OB Visit                                                        8\n",
       "Covid19 Vaccine Pfizer Dose 2                                   8\n",
       "Covid19 Vaccine Moderna Dose 2                                  8\n",
       "E-Consult                                                       8\n",
       "PT/OT/SP                                                        8\n",
       "Labs                                                            8\n",
       "Procedure Visit                                                 7\n",
       "New Patient Video                                               7\n",
       "MR Imaging Appointment                                          7\n",
       "Hospital Outpatient Surgery                                     7\n",
       "Return Gyn/Annual                                               7\n",
       "POST TRANSPLANT FOLLOW UP                                       7\n",
       "Virtual Urgent Care                                             7\n",
       "Ambulatory Surgery                                              7\n",
       "Video Visit (Video Visit)                                       7\n",
       "OP- Outpatient Procedures                                       7\n",
       "Xr General 15                                                   6\n",
       "Wellness Visit                                                  6\n",
       "COVID VACCINE                                                   6\n",
       "Mammography Imaging Appointment                                 6\n",
       "COVID VACCINE BOOSTER -PFIZER                                   6\n",
       "E-Visit                                                         6\n",
       "COVID19 Vaccine Booster Dose                                    6\n",
       "Office Visit/Established                                        6\n",
       "Basic Plain Film                                                6\n",
       "Post OP                                                         6\n",
       "Nurse Only                                                      5\n",
       "Infusion Visit                                                  5\n",
       "Specimen                                                        5\n",
       "Outpatient Special Procedure                                    5\n",
       "Consultation                                                    5\n",
       "Scheduled Telephone Encounter                                   5\n",
       "Pt Treat 45min Wb                                               5\n",
       "Anti-coag visit                                                 5\n",
       "Fluoroscopy Imaging Appointment                                 5\n",
       "CT Imaging Appointment                                          5\n",
       "FOLLOW UP                                                       5\n",
       "Minor Procedure                                                 5\n",
       "Transthoracic Echocardiogram                                    5\n",
       "COVID Vaccine - Second Dose                                     5\n",
       "Physical (18+ years old)                                        4\n",
       "COVID-19 - SCREENING                                            4\n",
       "IV Therapy                                                      4\n",
       "COVID19 Moderna Bivalent Booster                                4\n",
       "Nutrition                                                       4\n",
       "Dental Visit                                                    4\n",
       "MODERATE GYN                                                    4\n",
       "MyChart E-Visit                                                 4\n",
       "Pre-Op                                                          4\n",
       "Dexa Imaging Appointment                                        4\n",
       "Mntl Hlth Video Visit                                           4\n",
       "Complex New                                                     4\n",
       "VIDEO VISIT FUP (Video Visit)                                   4\n",
       "Established Occupational Therapy                                4\n",
       "Annual Checkup/Physical                                         4\n",
       "Ultrasound Imaging Appointment                                  4\n",
       "Endoscopy Visit                                                 4\n",
       "Urgent Care                                                     4\n",
       "Cognitive                                                       4\n",
       "Mammo Screen                                                    3\n",
       "CT NON-CONTRAST                                                 3\n",
       "COVID19 Pfizer Bivalent Booster                                 3\n",
       "Xr Misc                                                         3\n",
       "Transfer of Care                                                3\n",
       "External Film                                                   3\n",
       "Complex Established Patient Call                                3\n",
       "Prepare Telephone Consult                                       3\n",
       "US THYROID                                                      3\n",
       "Foot Care                                                       3\n",
       "Hospital                                                        3\n",
       "Nuclear Medicine Imaging Appointment                            3\n",
       "Cardiac Device Check Remote                                     3\n",
       "Sleep Study                                                     3\n",
       "Pre-Procedure Phone Call                                        3\n",
       "Vaccine                                                         3\n",
       "Xr Extremity                                                    3\n",
       "APPOINTMENT                                                     3\n",
       "New Patient PT Consult                                          3\n",
       "Outpatient Ambulatory Surgery                                   3\n",
       "MPI Delay                                                       3\n",
       "Transthoracic Echo (TTE) Appointment                            3\n",
       "Established Patient                                             3\n",
       "COVID-19 VACCINE - PFIZER 2ND DOSE                              3\n",
       "Outpatient Surgery                                              3\n",
       "Preop                                                           3\n",
       "Therapy                                                         3\n",
       "Colonoscopy                                                     3\n",
       "MRI LUMBOSACRAL SPINE WO IVC                                    3\n",
       "EKG                                                             2\n",
       "COVID VACCINE MODERNA BOOSTER                                   2\n",
       "Nutrition Follow Up Bari                                        2\n",
       "Flu Shot                                                        2\n",
       "XR Cervical Spine AP and Lateral                                2\n",
       "MG MAMMO TOM                                                    2\n",
       "Education                                                       2\n",
       "TREATMENT AMB                                                   2\n",
       "Hearing Aid Check                                               2\n",
       "New Patient Visit                                               2\n",
       "Hospital Follow Up                                              2\n",
       "Flu Shot Adult                                                  2\n",
       "Holter Monitor                                                  2\n",
       "INFUSION 60                                                     2\n",
       "e-visit                                                         2\n",
       "DEVICE CHECK                                                    2\n",
       "MR Cervical Spine with and without Contrast                     2\n",
       "Hep Fibroscan                                                   2\n",
       "SCREENING MAMMOGRAM                                             2\n",
       "US CAROTID DUPLEX                                               2\n",
       "OFFICE VISIT                                                    2\n",
       "Us Thyroid                                                      2\n",
       "Refraction                                                      2\n",
       "Bedded Outpatient                                               2\n",
       "IR BIOPSY LIVER RANDOM                                          2\n",
       "Return OB                                                       2\n",
       "COVID Vaccine - Third Dose/Booster                              2\n",
       "Echocardiogram                                                  2\n",
       "MRI VISCERAL PELVIS W&WO IVC                                    2\n",
       "US PELVIS                                                       2\n",
       "Office visit                                                    2\n",
       "Historical Conversion Encounter                                 2\n",
       "Walk in Lab                                                     2\n",
       "Observation                                                     2\n",
       "Same Day Virtual Visit                                          2\n",
       "OP- Outpatient Recovery                                         2\n",
       "MRI SHOULDER WO IVC LT                                          2\n",
       "Orders Only                                                     2\n",
       "Care Plan Oversight                                             2\n",
       "US HEAD AND NECK                                                2\n",
       "OP- Series-Chemo Infusion                                       2\n",
       "AMB Ref Lab HB Drop Off - Conv                                  2\n",
       "Cataract Evaluation                                             2\n",
       "HEALTHY BACK                                                    2\n",
       "Video Visit Follow Up                                           2\n",
       "Intravenous Treatment                                           2\n",
       "New Physical Therapy Patient                                    2\n",
       "Hrt Cards F/U                                                   2\n",
       "Mri Breast Cont                                                 2\n",
       "Off-Site Visit                                                  2\n",
       "Health Assessment                                               2\n",
       "REMOTE DEVICE MONITOR                                           2\n",
       "Xr Chest                                                        2\n",
       "Mapping 90                                                      2\n",
       "GYN YEARLY                                                      2\n",
       "New Patient                                                     2\n",
       "COVID-19 VACCINE DOSE 1                                         2\n",
       "Follow Up Extended                                              2\n",
       "Complete Eye Exam                                               2\n",
       "COVID19 Vaccine Additional Dose                                 2\n",
       "New Patient- GYN Yearly Exam                                    2\n",
       "Pain Management                                                 2\n",
       "Noninvasive Monitoring                                          2\n",
       "Office Visit OB Est                                             1\n",
       "XR KNEE 1-2                                                     1\n",
       "ESOPHAGRAM W CINE                                               1\n",
       "Oms Follow Up Bari                                              1\n",
       "COVID19 Vaccine                                                 1\n",
       "Cystoscopy                                                      1\n",
       "Covid19 Pfizer Addtl Dose                                       1\n",
       "Nurse Triage                                                    1\n",
       "New Con                                                         1\n",
       "ECG                                                             1\n",
       "MRI ELASTOGRAPHY W&WO IVC                                       1\n",
       "Follow Up                                                       1\n",
       "MRI WRIST WO IVC LT                                             1\n",
       "Patient Education                                               1\n",
       "Same Day                                                        1\n",
       "Ct Urogram                                                      1\n",
       "CT PARATHYROID 4D W/WO                                          1\n",
       "Video Visit SCC                                                 1\n",
       "XR Bone Survey, Complete                                        1\n",
       "Procedure                                                       1\n",
       "GI Consult                                                      1\n",
       "Neurology EEG Lab Appt                                          1\n",
       "Well Women Established Patient                                  1\n",
       "Hearing Evaluation/Test                                         1\n",
       "Anticoagulation - Warfarin Visit                                1\n",
       "Ultrasound                                                      1\n",
       "Medication Management                                           1\n",
       "Occ Med Visit                                                   1\n",
       "Evaluation - General PT                                         1\n",
       "Body Comp Analysis                                              1\n",
       "MRI FACE W&WO IVC                                               1\n",
       "Oms New Patient                                                 1\n",
       "EEG                                                             1\n",
       "Hand Treatment Np                                               1\n",
       "Ultrasound Abdomen                                              1\n",
       "XR Bone Density Spine/Hip                                       1\n",
       "CT ABDOMEN W & WO CONTRAST                                      1\n",
       "Botox Injection                                                 1\n",
       "Skin Test                                                       1\n",
       "Humphrey Visual Fields                                          1\n",
       "Mntl Hlth Office Visit                                          1\n",
       "Scoliosis                                                       1\n",
       "XR Knee Complete 4+ Views, Right                                1\n",
       "IR RF ABLATION NERVE SYMPATHETIC                                1\n",
       "Annual Assessment                                               1\n",
       "COVID-19 VACCINE DOSE2 PFIZER                                   1\n",
       "Urgent NP                                                       1\n",
       "NM MYOCARDIAL PERFUSION STRESS                                  1\n",
       "Hearing Test                                                    1\n",
       "US PDC Procedure                                                1\n",
       "Telephone Call (Telephone Visit)                                1\n",
       "Follow Up Dilation                                              1\n",
       "VIDEO VISIT                                                     1\n",
       "CT CALCIUM SCORING                                              1\n",
       "Telephone Visit                                                 1\n",
       "OP- Hospital Outpatient Surgery                                 1\n",
       "US BREAST                                                       1\n",
       "CT ABDOMEN CONTRAST                                             1\n",
       "MRI ABD/MRCP W&WO IVC                                           1\n",
       "Outpatient Needing Bed                                          1\n",
       "POST OPERATIVE VISIT                                            1\n",
       "Pre-Admission Testing Visit                                     1\n",
       "Chemotherapy                                                    1\n",
       "Us Aaa Screening                                                1\n",
       "Us Breast Unilat Limited                                        1\n",
       "Cast Room                                                       1\n",
       "Bone Density                                                    1\n",
       "Urgent Care Follow Up - No Charge                               1\n",
       "XR EOS                                                          1\n",
       "Mri L Spine Non Cont                                            1\n",
       "Electrocardiogram                                               1\n",
       "Initial Prenatal                                                1\n",
       "COVID-19 Vaccine (Third Dose)                                   1\n",
       "COVID Test                                                      1\n",
       "Covid19 Moderna Addtl Dose                                      1\n",
       "Visual Field                                                    1\n",
       "Walk In Visit                                                   1\n",
       "EMG/NCV TESTING                                                 1\n",
       "US Abdomen Limited with Doppler                                 1\n",
       "MR Breast with and without Contrast, Bilateral                  1\n",
       "COVID Vaccine - First Dose                                      1\n",
       "SC Consult                                                      1\n",
       "Care Management Visit                                           1\n",
       "Mri Non Contrast                                                1\n",
       "Derm Full Skin Exam                                             1\n",
       "Hospital Emergency Room                                         1\n",
       "Ct Cta                                                          1\n",
       "Xr Cerv Spine                                                   1\n",
       "Transthoracic Echo W Doppler                                    1\n",
       "Joint Injection                                                 1\n",
       "Surgical Consult                                                1\n",
       "Treatment - Cochlear                                            1\n",
       "Cochlear Implant Adult Re-Evaluation 90                         1\n",
       "Home Sleep Study                                                1\n",
       "Mri Pelvis Cont                                                 1\n",
       "Group Therapy Visit                                             1\n",
       "Non Billable Transplant Evaluation                              1\n",
       "Stereotactic Core Breast Biopsy, Left                           1\n",
       "Mammogram MyChart Screening 3D                                  1\n",
       "Routine Prenatal                                                1\n",
       "Ct Spine Noncon                                                 1\n",
       "Pt Evaluation                                                   1\n",
       "Post-OP                                                         1\n",
       "Status Check                                                    1\n",
       "Social Work Follow Up                                           1\n",
       "Pre-CT Simulation Visit                                         1\n",
       "PAT Outpatient                                                  1\n",
       "New Patient Call                                                1\n",
       "General Orthopedic Consult                                      1\n",
       "CT CHEST W C                                                    1\n",
       "Appointment (Telephone Visit)                                   1\n",
       "US INGUINAL CANAL                                               1\n",
       "Mammo Screen Dig Tomo Bilat                                     1\n",
       "Pulmonary Funct Test                                            1\n",
       "Video Visit - Consult                                           1\n",
       "OFFICE-POST COVID NEW PATIENT                                   1\n",
       "PFT Visit                                                       1\n",
       "Us Ob 1st Trimester                                             1\n",
       "Infusion 120 Min                                                1\n",
       "CT CHEST W/OUT CONTRAST                                         1\n",
       "Fl Ugi Sbft                                                     1\n",
       "CT Scan Chest without Contrast                                  1\n",
       "Social Work                                                     1\n",
       "Infusion 2 Hours                                                1\n",
       "US ABDOMEN                                                      1\n",
       "OP- Series-All Other Recurring                                  1\n",
       "CT Chest without contrast                                       1\n",
       "New Patient - Colon & Rectal Surgery                            1\n",
       "Ct Tavr Card                                                    1\n",
       "PETCT CTAC LIMITED low dose CT for attenuation correction       1\n",
       "PHYSICAL 30                                                     1\n",
       "XR Knee 3 Views, Bilateral                                      1\n",
       "INTEGRATED VIDEO VISIT NEW (Video Visit)                        1\n",
       "XR Foot 3+ Views, Right                                         1\n",
       "XR Hand 3+ Views, Left                                          1\n",
       "Audiogram                                                       1\n",
       "Nuclear Stress Test                                             1\n",
       "Transplant Follow-up Visit                                      1\n",
       "PULMONARY STRESS TEST                                           1\n",
       "Video Visit New Patient                                         1\n",
       "Cardioversion (Rad)                                             1\n",
       "CV Ultrasound Carotid                                           1\n",
       "Mri Brain W/Wo Cont                                             1\n",
       "New Patient Physical                                            1\n",
       "Stress Test                                                     1\n",
       "PRE ADMISSION TESTING VIDEO VISIT                               1\n",
       "MEDICAL CLEARANCE                                               1\n",
       "New Patient Dilation                                            1\n",
       "Follow-Up                                                       1\n",
       "Mammo Tomo Screening                                            1\n",
       "Genetic Counseling                                              1\n",
       "New Heart Failure                                               1\n",
       "Well Women Physical                                             1\n",
       "Us Scrotum                                                      1\n",
       "Flu Injection                                                   1\n",
       "Lifesteps Class                                                 1\n",
       "MR Total Spine with and without Contrast                        1\n",
       "CT UROGRAM ABD/PELV W/WO IVC 3D                                 1\n",
       "MR Thoracic Spine without Contrast                              1\n",
       "Simple Gyn                                                      1\n",
       "IR RF-ABLATION NERVE MEDIAL BRANCH                              1\n",
       "Physical Exam                                                   1\n",
       "MR Thoracic Spine with and without Contrast                     1\n",
       "Nutrition Consult Follow Up                                     1\n",
       "Anti-Coag                                                       1\n",
       "MEDICARE WELLNESS                                               1\n",
       "*Ambulatory Surgery Center Visit                                1\n",
       "VISUAL FIELD                                                    1\n",
       "Medical Oncology Series                                         1\n",
       "Botulinum Injection                                             1\n",
       "Evaluation - Cochlear                                           1\n",
       "Pre-Op Visit                                                    1\n",
       "Well Woman Visit                                                1\n",
       "Emergency New                                                   1\n",
       "Follow Up Visit                                                 1\n",
       "Oncology Consult                                                1\n",
       "MG MAMMO DIA                                                    1\n",
       "Elbow Minimum 3 Views, Left Including Radiocapitellar           1\n",
       "ESTABLISHED                                                     1\n",
       "MRI CARDIAC                                                     1\n",
       "Non-Oncology Infusion Series                                    1\n",
       "MR Prostate with and without Contrast                           1\n",
       "US Nerve Block (Anes OI)                                        1\n",
       "Prepare Office Visit                                            1\n",
       "Telephone Appointment (Telephone Visit)                         1\n",
       "Spirometry                                                      1\n",
       "Post-Lung Assessment                                            1\n",
       "XR Chest 2 Views PA and Lateral                                 1\n",
       "OPH FUNDUS PHOTOGRAPHY                                          1\n",
       "INTEGRATED VIDEO VISIT (Video Visit)                            1\n",
       "Pulmonary Functions Test                                        1\n",
       "SUTURE REMOVAL                                                  1\n",
       "Mammogram Diagnostic with Tomosynthesis, Bilateral              1\n",
       "Bariatric Pre Op Nutrition Class                                1\n",
       "Name: type_text, dtype: int64"
      ]
     },
     "execution_count": 45,
     "metadata": {},
     "output_type": "execute_result"
    }
   ],
   "source": [
    "fhir_enc_sd['type_text'].value_counts()"
   ]
  },
  {
   "cell_type": "code",
   "execution_count": 66,
   "id": "8be4d4be",
   "metadata": {},
   "outputs": [
    {
     "data": {
      "text/plain": [
       "Other Ambulatory Visit     2080\n",
       "Ambulatory Visit            698\n",
       "Telehealth                  513\n",
       "Other                       336\n",
       "Emergency Department         23\n",
       "Observation Stay             16\n",
       "Inpatient Hospital Stay      11\n",
       "No Information                7\n",
       "ED Admit to Inaptient         3\n",
       "Name: enc_type, dtype: int64"
      ]
     },
     "execution_count": 66,
     "metadata": {},
     "output_type": "execute_result"
    }
   ],
   "source": [
    "m[m['_merge']=='right_only']['enc_type'].value_counts()"
   ]
  },
  {
   "cell_type": "code",
   "execution_count": 43,
   "id": "1acc2a31",
   "metadata": {},
   "outputs": [
    {
     "data": {
      "text/plain": [
       "Ambulatory Visit           4086\n",
       "Other Ambulatory Visit     3622\n",
       "Telehealth                 1210\n",
       "Other                       348\n",
       "Emergency Department         64\n",
       "Observation Stay             55\n",
       "No Information               31\n",
       "Inpatient Hospital Stay      28\n",
       "ED Admit to Inaptient         3\n",
       "Name: enc_type, dtype: int64"
      ]
     },
     "execution_count": 43,
     "metadata": {},
     "output_type": "execute_result"
    }
   ],
   "source": [
    "pc_enc_sd['enc_type'].value_counts()"
   ]
  },
  {
   "cell_type": "code",
   "execution_count": 41,
   "id": "89b7218e",
   "metadata": {},
   "outputs": [
    {
     "data": {
      "text/plain": [
       "Appointment             877\n",
       "Support OP Encounter    847\n",
       "HOV                     213\n",
       "Discharge                44\n",
       "Preadmission              2\n",
       "Name: class_display, dtype: int64"
      ]
     },
     "execution_count": 41,
     "metadata": {},
     "output_type": "execute_result"
    }
   ],
   "source": [
    "m[m['_merge']=='left_only']['class_display'].value_counts()"
   ]
  },
  {
   "cell_type": "code",
   "execution_count": 42,
   "id": "0bfa514f",
   "metadata": {},
   "outputs": [
    {
     "data": {
      "text/plain": [
       "Appointment             5769\n",
       "Support OP Encounter    1565\n",
       "HOV                     1269\n",
       "Discharge                273\n",
       "Surgery Log               84\n",
       "Preadmission               2\n",
       "Name: class_display, dtype: int64"
      ]
     },
     "execution_count": 42,
     "metadata": {},
     "output_type": "execute_result"
    }
   ],
   "source": [
    "fhir_enc_sd['class_display'].value_counts()"
   ]
  },
  {
   "cell_type": "code",
   "execution_count": 90,
   "id": "d1e3fc68",
   "metadata": {},
   "outputs": [
    {
     "ename": "AttributeError",
     "evalue": "'DataFrame' object has no attribute 'site'",
     "output_type": "error",
     "traceback": [
      "\u001b[0;31m---------------------------------------------------------------------------\u001b[0m",
      "\u001b[0;31mAttributeError\u001b[0m                            Traceback (most recent call last)",
      "Cell \u001b[0;32mIn[90], line 1\u001b[0m\n\u001b[0;32m----> 1\u001b[0m m\u001b[38;5;241m.\u001b[39mprovider\u001b[38;5;241m.\u001b[39mfillna(\u001b[43mm\u001b[49m\u001b[38;5;241;43m.\u001b[39;49m\u001b[43msite\u001b[49m, inplace\u001b[38;5;241m=\u001b[39m\u001b[38;5;28;01mTrue\u001b[39;00m)\n\u001b[1;32m      2\u001b[0m m\u001b[38;5;241m.\u001b[39mstart_d\u001b[38;5;241m.\u001b[39mfillna(m\u001b[38;5;241m.\u001b[39madmit_date_d, inplace\u001b[38;5;241m=\u001b[39m\u001b[38;5;28;01mTrue\u001b[39;00m)\n\u001b[1;32m      3\u001b[0m \u001b[38;5;28;01mdel\u001b[39;00m m[\u001b[38;5;124m'\u001b[39m\u001b[38;5;124msite\u001b[39m\u001b[38;5;124m'\u001b[39m]\n",
      "File \u001b[0;32m/usr/local/lib/python3.9/site-packages/pandas/core/generic.py:5902\u001b[0m, in \u001b[0;36mNDFrame.__getattr__\u001b[0;34m(self, name)\u001b[0m\n\u001b[1;32m   5895\u001b[0m \u001b[38;5;28;01mif\u001b[39;00m (\n\u001b[1;32m   5896\u001b[0m     name \u001b[38;5;129;01mnot\u001b[39;00m \u001b[38;5;129;01min\u001b[39;00m \u001b[38;5;28mself\u001b[39m\u001b[38;5;241m.\u001b[39m_internal_names_set\n\u001b[1;32m   5897\u001b[0m     \u001b[38;5;129;01mand\u001b[39;00m name \u001b[38;5;129;01mnot\u001b[39;00m \u001b[38;5;129;01min\u001b[39;00m \u001b[38;5;28mself\u001b[39m\u001b[38;5;241m.\u001b[39m_metadata\n\u001b[1;32m   5898\u001b[0m     \u001b[38;5;129;01mand\u001b[39;00m name \u001b[38;5;129;01mnot\u001b[39;00m \u001b[38;5;129;01min\u001b[39;00m \u001b[38;5;28mself\u001b[39m\u001b[38;5;241m.\u001b[39m_accessors\n\u001b[1;32m   5899\u001b[0m     \u001b[38;5;129;01mand\u001b[39;00m \u001b[38;5;28mself\u001b[39m\u001b[38;5;241m.\u001b[39m_info_axis\u001b[38;5;241m.\u001b[39m_can_hold_identifiers_and_holds_name(name)\n\u001b[1;32m   5900\u001b[0m ):\n\u001b[1;32m   5901\u001b[0m     \u001b[38;5;28;01mreturn\u001b[39;00m \u001b[38;5;28mself\u001b[39m[name]\n\u001b[0;32m-> 5902\u001b[0m \u001b[38;5;28;01mreturn\u001b[39;00m \u001b[38;5;28;43mobject\u001b[39;49m\u001b[38;5;241;43m.\u001b[39;49m\u001b[38;5;21;43m__getattribute__\u001b[39;49m\u001b[43m(\u001b[49m\u001b[38;5;28;43mself\u001b[39;49m\u001b[43m,\u001b[49m\u001b[43m \u001b[49m\u001b[43mname\u001b[49m\u001b[43m)\u001b[49m\n",
      "\u001b[0;31mAttributeError\u001b[0m: 'DataFrame' object has no attribute 'site'"
     ]
    }
   ],
   "source": [
    "m.provider.fillna(m.site, inplace=True)\n",
    "m.start_d.fillna(m.admit_date_d, inplace=True)\n",
    "del m['site']\n",
    "m"
   ]
  },
  {
   "cell_type": "code",
   "execution_count": 169,
   "id": "1b27bd6c",
   "metadata": {},
   "outputs": [
    {
     "name": "stdout",
     "output_type": "stream",
     "text": [
      "5760\n",
      "1953\n",
      "3687\n"
     ]
    },
    {
     "data": {
      "text/html": [
       "<div>\n",
       "<style scoped>\n",
       "    .dataframe tbody tr th:only-of-type {\n",
       "        vertical-align: middle;\n",
       "    }\n",
       "\n",
       "    .dataframe tbody tr th {\n",
       "        vertical-align: top;\n",
       "    }\n",
       "\n",
       "    .dataframe thead th {\n",
       "        text-align: right;\n",
       "    }\n",
       "</style>\n",
       "<table border=\"1\" class=\"dataframe\">\n",
       "  <thead>\n",
       "    <tr style=\"text-align: right;\">\n",
       "      <th>_merge</th>\n",
       "      <th>provider</th>\n",
       "      <th>FHIR Only</th>\n",
       "      <th>PCORnet Only</th>\n",
       "      <th>Both</th>\n",
       "    </tr>\n",
       "  </thead>\n",
       "  <tbody>\n",
       "    <tr>\n",
       "      <th>4</th>\n",
       "      <td>sutter health</td>\n",
       "      <td>837 (29%)</td>\n",
       "      <td>468 (16%)</td>\n",
       "      <td>1552 (54%)</td>\n",
       "    </tr>\n",
       "    <tr>\n",
       "      <th>2</th>\n",
       "      <td>nyu langone medical center</td>\n",
       "      <td>488 (30%)</td>\n",
       "      <td>69 (4%)</td>\n",
       "      <td>1064 (66%)</td>\n",
       "    </tr>\n",
       "    <tr>\n",
       "      <th>6</th>\n",
       "      <td>university of utah healthcare</td>\n",
       "      <td>193 (10%)</td>\n",
       "      <td>328 (16%)</td>\n",
       "      <td>1490 (74%)</td>\n",
       "    </tr>\n",
       "    <tr>\n",
       "      <th>3</th>\n",
       "      <td>ochsner health system</td>\n",
       "      <td>175 (18%)</td>\n",
       "      <td>186 (19%)</td>\n",
       "      <td>621 (63%)</td>\n",
       "    </tr>\n",
       "    <tr>\n",
       "      <th>5</th>\n",
       "      <td>ucsf health</td>\n",
       "      <td>128 (4%)</td>\n",
       "      <td>2548 (78%)</td>\n",
       "      <td>597 (18%)</td>\n",
       "    </tr>\n",
       "    <tr>\n",
       "      <th>1</th>\n",
       "      <td>montefiore medical center</td>\n",
       "      <td>73 (16%)</td>\n",
       "      <td>46 (10%)</td>\n",
       "      <td>347 (74%)</td>\n",
       "    </tr>\n",
       "    <tr>\n",
       "      <th>0</th>\n",
       "      <td>baylor scott white</td>\n",
       "      <td>59 (31%)</td>\n",
       "      <td>42 (22%)</td>\n",
       "      <td>89 (47%)</td>\n",
       "    </tr>\n",
       "  </tbody>\n",
       "</table>\n",
       "</div>"
      ],
      "text/plain": [
       "_merge                       provider  FHIR Only PCORnet Only        Both\n",
       "4                       sutter health  837 (29%)    468 (16%)  1552 (54%)\n",
       "2          nyu langone medical center  488 (30%)      69 (4%)  1064 (66%)\n",
       "6       university of utah healthcare  193 (10%)    328 (16%)  1490 (74%)\n",
       "3               ochsner health system  175 (18%)    186 (19%)   621 (63%)\n",
       "5                         ucsf health   128 (4%)   2548 (78%)   597 (18%)\n",
       "1           montefiore medical center   73 (16%)     46 (10%)   347 (74%)\n",
       "0                  baylor scott white   59 (31%)     42 (22%)    89 (47%)"
      ]
     },
     "execution_count": 169,
     "metadata": {},
     "output_type": "execute_result"
    }
   ],
   "source": [
    "a = m\n",
    "g = a.groupby('provider')\n",
    "o = g['_merge'].value_counts().unstack(fill_value=0).reset_index()\n",
    "o = o.rename(columns={'left_only': 'FHIR_only', 'right_only': 'PCORnet_only'})\n",
    "o['% both'] = round(100*o['both']/(o['FHIR_only']+o['PCORnet_only']+o['both']))\n",
    "o['% FHIR_only'] = round(100*o['FHIR_only']/(o['FHIR_only']+o['PCORnet_only']+o['both']))\n",
    "o['% PCORnet_only'] = round(100*o['PCORnet_only']/(o['FHIR_only']+o['PCORnet_only']+o['both']))\n",
    "o['provider'] = o.apply(lambda r: r['provider'][16:].replace('_', ' '), axis=1)\n",
    "o['FHIR Only'] = o.apply(lambda r: f'{r[\"FHIR_only\"]} ({int(r[\"% FHIR_only\"])}%)', axis=1)\n",
    "o['PCORnet Only'] = o.apply(lambda r: f'{r[\"PCORnet_only\"]} ({int(r[\"% PCORnet_only\"])}%)', axis=1)\n",
    "o['Both'] = o.apply(lambda r: f'{r[\"both\"]} ({int(r[\"% both\"])}%)', axis=1)\n",
    "o = o.sort_values('FHIR_only', ascending=False)\n",
    "x = o['both'].sum()\n",
    "print(x)\n",
    "print(o['FHIR_only'].sum())\n",
    "print(o['PCORnet_only'].sum())\n",
    "o = o.drop(['FHIR_only', 'PCORnet_only', 'both', '% both', '% FHIR_only', '% PCORnet_only'], axis=1)\n",
    "o"
   ]
  },
  {
   "cell_type": "code",
   "execution_count": 63,
   "id": "4a79cb0f",
   "metadata": {},
   "outputs": [
    {
     "data": {
      "image/png": "[encoded data removed]",
      "text/plain": [
       "<Figure size 640x480 with 1 Axes>"
      ]
     },
     "metadata": {},
     "output_type": "display_data"
    },
    {
     "data": {
      "text/html": [
       "<div>\n",
       "<style scoped>\n",
       "    .dataframe tbody tr th:only-of-type {\n",
       "        vertical-align: middle;\n",
       "    }\n",
       "\n",
       "    .dataframe tbody tr th {\n",
       "        vertical-align: top;\n",
       "    }\n",
       "\n",
       "    .dataframe thead th {\n",
       "        text-align: right;\n",
       "    }\n",
       "</style>\n",
       "<table border=\"1\" class=\"dataframe\">\n",
       "  <thead>\n",
       "    <tr style=\"text-align: right;\">\n",
       "      <th></th>\n",
       "      <th>index</th>\n",
       "      <th>counts</th>\n",
       "    </tr>\n",
       "  </thead>\n",
       "  <tbody>\n",
       "    <tr>\n",
       "      <th>0</th>\n",
       "      <td>2021</td>\n",
       "      <td>2970</td>\n",
       "    </tr>\n",
       "    <tr>\n",
       "      <th>1</th>\n",
       "      <td>2022</td>\n",
       "      <td>717</td>\n",
       "    </tr>\n",
       "  </tbody>\n",
       "</table>\n",
       "</div>"
      ],
      "text/plain": [
       "   index  counts\n",
       "0   2021    2970\n",
       "1   2022     717"
      ]
     },
     "execution_count": 63,
     "metadata": {},
     "output_type": "execute_result"
    }
   ],
   "source": [
    "pc_unmatched = m[m['_merge'] == 'right_only']\n",
    "c = pc_unmatched['admit_date_d'].dt.year.value_counts().reset_index(name=\"counts\")\n",
    "bars = plt.bar(c['index'], c['counts'])\n",
    "plt.title('PCORNet Unmatched Encounter Counts By Year')\n",
    "plt.xlabel('Year')\n",
    "for bar in bars:\n",
    "    yval = bar.get_height()\n",
    "    plt.text(bar.get_x(), yval + 50, f'          N = {yval} ({round(100*yval/(len(pc_unmatched)))}%)')\n",
    "plt.xticks([2021, 2022])\n",
    "plt.ylabel('Encounters')\n",
    "plt.show()\n",
    "c"
   ]
  },
  {
   "cell_type": "code",
   "execution_count": 65,
   "id": "97c7dbe8",
   "metadata": {},
   "outputs": [
    {
     "data": {
      "image/png": "[encoded data removed]",
      "text/plain": [
       "<Figure size 640x480 with 1 Axes>"
      ]
     },
     "metadata": {},
     "output_type": "display_data"
    }
   ],
   "source": [
    "fhir_unmatched = m[m['_merge'] == 'left_only']\n",
    "c = fhir_unmatched['start_d'].dt.year.value_counts().reset_index(name=\"counts\")\n",
    "bars = plt.bar(c['index'], c['counts'])\n",
    "plt.title('FHIR Unmatched Encounter Counts by Year')\n",
    "plt.xlabel('Year')\n",
    "plt.xticks([2021, 2022])\n",
    "for bar in bars:\n",
    "    yval = bar.get_height()\n",
    "    plt.text(bar.get_x(), yval + 10, f'          N = {yval} ({round(100*yval/(len(pc_unmatched)))}%)')\n",
    "plt.ylabel('Encounters')\n",
    "plt.show()"
   ]
  },
  {
   "cell_type": "code",
   "execution_count": 66,
   "id": "45d34b3e",
   "metadata": {},
   "outputs": [
    {
     "data": {
      "text/html": [
       "<div>\n",
       "<style scoped>\n",
       "    .dataframe tbody tr th:only-of-type {\n",
       "        vertical-align: middle;\n",
       "    }\n",
       "\n",
       "    .dataframe tbody tr th {\n",
       "        vertical-align: top;\n",
       "    }\n",
       "\n",
       "    .dataframe thead th {\n",
       "        text-align: right;\n",
       "    }\n",
       "</style>\n",
       "<table border=\"1\" class=\"dataframe\">\n",
       "  <thead>\n",
       "    <tr style=\"text-align: right;\">\n",
       "      <th></th>\n",
       "      <th>encounterid</th>\n",
       "      <th>admit_date</th>\n",
       "      <th>discharge_date</th>\n",
       "      <th>enc_type</th>\n",
       "      <th>facility_type</th>\n",
       "      <th>site</th>\n",
       "    </tr>\n",
       "  </thead>\n",
       "  <tbody>\n",
       "    <tr>\n",
       "      <th>7713</th>\n",
       "      <td>1094147705</td>\n",
       "      <td>14apr2021</td>\n",
       "      <td>14apr2021</td>\n",
       "      <td>Telehealth</td>\n",
       "      <td>HOSPITAL_OUTPATIENT_FAMILY_MEDICINE_CLINIC</td>\n",
       "      <td>openepic_shared_sutter_health</td>\n",
       "    </tr>\n",
       "    <tr>\n",
       "      <th>7714</th>\n",
       "      <td>1078974997</td>\n",
       "      <td>29jan2021</td>\n",
       "      <td>29jan2021</td>\n",
       "      <td>Other Ambulatory Visit</td>\n",
       "      <td>HOSPITAL_OUTPATIENT_FAMILY_MEDICINE_CLINIC</td>\n",
       "      <td>openepic_shared_sutter_health</td>\n",
       "    </tr>\n",
       "    <tr>\n",
       "      <th>7715</th>\n",
       "      <td>1101089996</td>\n",
       "      <td>20may2021</td>\n",
       "      <td>20may2021</td>\n",
       "      <td>Telehealth</td>\n",
       "      <td>HOSPITAL_OUTPATIENT_FAMILY_MEDICINE_CLINIC</td>\n",
       "      <td>openepic_shared_sutter_health</td>\n",
       "    </tr>\n",
       "    <tr>\n",
       "      <th>7716</th>\n",
       "      <td>1099962937</td>\n",
       "      <td>22jun2021</td>\n",
       "      <td>22jun2021</td>\n",
       "      <td>Ambulatory Visit</td>\n",
       "      <td>FREE_STANDING_RADIOLOGY_FACILITY</td>\n",
       "      <td>openepic_shared_sutter_health</td>\n",
       "    </tr>\n",
       "    <tr>\n",
       "      <th>7717</th>\n",
       "      <td>1098341644</td>\n",
       "      <td>05may2021</td>\n",
       "      <td>05may2021</td>\n",
       "      <td>Telehealth</td>\n",
       "      <td>HOSPITAL_OUTPATIENT_FAMILY_MEDICINE_CLINIC</td>\n",
       "      <td>openepic_shared_sutter_health</td>\n",
       "    </tr>\n",
       "  </tbody>\n",
       "</table>\n",
       "</div>"
      ],
      "text/plain": [
       "     encounterid admit_date discharge_date                enc_type  \\\n",
       "7713  1094147705  14apr2021      14apr2021              Telehealth   \n",
       "7714  1078974997  29jan2021      29jan2021  Other Ambulatory Visit   \n",
       "7715  1101089996  20may2021      20may2021              Telehealth   \n",
       "7716  1099962937  22jun2021      22jun2021        Ambulatory Visit   \n",
       "7717  1098341644  05may2021      05may2021              Telehealth   \n",
       "\n",
       "                                   facility_type  \\\n",
       "7713  HOSPITAL_OUTPATIENT_FAMILY_MEDICINE_CLINIC   \n",
       "7714  HOSPITAL_OUTPATIENT_FAMILY_MEDICINE_CLINIC   \n",
       "7715  HOSPITAL_OUTPATIENT_FAMILY_MEDICINE_CLINIC   \n",
       "7716            FREE_STANDING_RADIOLOGY_FACILITY   \n",
       "7717  HOSPITAL_OUTPATIENT_FAMILY_MEDICINE_CLINIC   \n",
       "\n",
       "                               site  \n",
       "7713  openepic_shared_sutter_health  \n",
       "7714  openepic_shared_sutter_health  \n",
       "7715  openepic_shared_sutter_health  \n",
       "7716  openepic_shared_sutter_health  \n",
       "7717  openepic_shared_sutter_health  "
      ]
     },
     "execution_count": 66,
     "metadata": {},
     "output_type": "execute_result"
    }
   ],
   "source": [
    "pc_unmatched_f = pc_unmatched[pc_unmatched['user_id'] == 502639]\n",
    "pc_unmatched_f[list(pc_enc.columns)][['encounterid', 'admit_date', 'discharge_date', 'enc_type', 'facility_type', 'site']]\n"
   ]
  },
  {
   "cell_type": "code",
   "execution_count": 67,
   "id": "def1cbf0",
   "metadata": {},
   "outputs": [
    {
     "data": {
      "text/html": [
       "<div>\n",
       "<style scoped>\n",
       "    .dataframe tbody tr th:only-of-type {\n",
       "        vertical-align: middle;\n",
       "    }\n",
       "\n",
       "    .dataframe tbody tr th {\n",
       "        vertical-align: top;\n",
       "    }\n",
       "\n",
       "    .dataframe thead th {\n",
       "        text-align: right;\n",
       "    }\n",
       "</style>\n",
       "<table border=\"1\" class=\"dataframe\">\n",
       "  <thead>\n",
       "    <tr style=\"text-align: right;\">\n",
       "      <th></th>\n",
       "      <th>provider</th>\n",
       "      <th>resourcetype</th>\n",
       "      <th>class_display</th>\n",
       "      <th>type_text</th>\n",
       "      <th>start</th>\n",
       "      <th>end</th>\n",
       "    </tr>\n",
       "  </thead>\n",
       "  <tbody>\n",
       "    <tr>\n",
       "      <th>2249</th>\n",
       "      <td>openepic_shared_sutter_health</td>\n",
       "      <td>Encounter</td>\n",
       "      <td>Support OP Encounter</td>\n",
       "      <td>Telephone</td>\n",
       "      <td>2021-10-14</td>\n",
       "      <td>2021-10-14</td>\n",
       "    </tr>\n",
       "    <tr>\n",
       "      <th>2324</th>\n",
       "      <td>openepic_shared_sutter_health</td>\n",
       "      <td>Encounter</td>\n",
       "      <td>Support OP Encounter</td>\n",
       "      <td>Telephone</td>\n",
       "      <td>2021-11-29</td>\n",
       "      <td>2021-11-29</td>\n",
       "    </tr>\n",
       "    <tr>\n",
       "      <th>2383</th>\n",
       "      <td>openepic_shared_sutter_health</td>\n",
       "      <td>Encounter</td>\n",
       "      <td>Support OP Encounter</td>\n",
       "      <td>Telephone</td>\n",
       "      <td>2022-01-28</td>\n",
       "      <td>2022-01-28</td>\n",
       "    </tr>\n",
       "    <tr>\n",
       "      <th>2384</th>\n",
       "      <td>openepic_shared_sutter_health</td>\n",
       "      <td>Encounter</td>\n",
       "      <td>Support OP Encounter</td>\n",
       "      <td>Telephone</td>\n",
       "      <td>2021-01-20</td>\n",
       "      <td>2021-01-20</td>\n",
       "    </tr>\n",
       "  </tbody>\n",
       "</table>\n",
       "</div>"
      ],
      "text/plain": [
       "                           provider resourcetype         class_display  \\\n",
       "2249  openepic_shared_sutter_health    Encounter  Support OP Encounter   \n",
       "2324  openepic_shared_sutter_health    Encounter  Support OP Encounter   \n",
       "2383  openepic_shared_sutter_health    Encounter  Support OP Encounter   \n",
       "2384  openepic_shared_sutter_health    Encounter  Support OP Encounter   \n",
       "\n",
       "      type_text       start         end  \n",
       "2249  Telephone  2021-10-14  2021-10-14  \n",
       "2324  Telephone  2021-11-29  2021-11-29  \n",
       "2383  Telephone  2022-01-28  2022-01-28  \n",
       "2384  Telephone  2021-01-20  2021-01-20  "
      ]
     },
     "execution_count": 67,
     "metadata": {},
     "output_type": "execute_result"
    }
   ],
   "source": [
    "fhir_unmatched_f = fhir_unmatched[fhir_unmatched['user_id'] == 502639]\n",
    "fhir_unmatched_f[list(fhir_enc.columns)][['provider', 'resourcetype', 'class_display', 'type_text', 'start', 'end']]"
   ]
  },
  {
   "cell_type": "code",
   "execution_count": 78,
   "id": "c6478a21",
   "metadata": {},
   "outputs": [
    {
     "data": {
      "text/html": [
       "<div>\n",
       "<style scoped>\n",
       "    .dataframe tbody tr th:only-of-type {\n",
       "        vertical-align: middle;\n",
       "    }\n",
       "\n",
       "    .dataframe tbody tr th {\n",
       "        vertical-align: top;\n",
       "    }\n",
       "\n",
       "    .dataframe thead th {\n",
       "        text-align: right;\n",
       "    }\n",
       "</style>\n",
       "<table border=\"1\" class=\"dataframe\">\n",
       "  <thead>\n",
       "    <tr style=\"text-align: right;\">\n",
       "      <th></th>\n",
       "      <th>index</th>\n",
       "      <th>FHIR</th>\n",
       "    </tr>\n",
       "  </thead>\n",
       "  <tbody>\n",
       "    <tr>\n",
       "      <th>0</th>\n",
       "      <td>openepic_shared_sutter_health</td>\n",
       "      <td>837</td>\n",
       "    </tr>\n",
       "    <tr>\n",
       "      <th>1</th>\n",
       "      <td>openepic_shared_nyu_langone_medical_center</td>\n",
       "      <td>488</td>\n",
       "    </tr>\n",
       "    <tr>\n",
       "      <th>2</th>\n",
       "      <td>openepic_shared_university_of_utah_healthcare</td>\n",
       "      <td>193</td>\n",
       "    </tr>\n",
       "    <tr>\n",
       "      <th>3</th>\n",
       "      <td>openepic_shared_ochsner_health_system</td>\n",
       "      <td>175</td>\n",
       "    </tr>\n",
       "    <tr>\n",
       "      <th>4</th>\n",
       "      <td>openepic_shared_ucsf_health</td>\n",
       "      <td>128</td>\n",
       "    </tr>\n",
       "    <tr>\n",
       "      <th>5</th>\n",
       "      <td>openepic_shared_montefiore_medical_center</td>\n",
       "      <td>73</td>\n",
       "    </tr>\n",
       "    <tr>\n",
       "      <th>6</th>\n",
       "      <td>openepic_shared_baylor_scott_white</td>\n",
       "      <td>59</td>\n",
       "    </tr>\n",
       "  </tbody>\n",
       "</table>\n",
       "</div>"
      ],
      "text/plain": [
       "                                           index  FHIR\n",
       "0                  openepic_shared_sutter_health   837\n",
       "1     openepic_shared_nyu_langone_medical_center   488\n",
       "2  openepic_shared_university_of_utah_healthcare   193\n",
       "3          openepic_shared_ochsner_health_system   175\n",
       "4                    openepic_shared_ucsf_health   128\n",
       "5      openepic_shared_montefiore_medical_center    73\n",
       "6             openepic_shared_baylor_scott_white    59"
      ]
     },
     "execution_count": 78,
     "metadata": {},
     "output_type": "execute_result"
    }
   ],
   "source": [
    "fhir_unmatched['provider'].value_counts().reset_index(name=\"FHIR\")"
   ]
  },
  {
   "cell_type": "code",
   "execution_count": 77,
   "id": "a091a7b1",
   "metadata": {},
   "outputs": [
    {
     "data": {
      "text/html": [
       "<div>\n",
       "<style scoped>\n",
       "    .dataframe tbody tr th:only-of-type {\n",
       "        vertical-align: middle;\n",
       "    }\n",
       "\n",
       "    .dataframe tbody tr th {\n",
       "        vertical-align: top;\n",
       "    }\n",
       "\n",
       "    .dataframe thead th {\n",
       "        text-align: right;\n",
       "    }\n",
       "</style>\n",
       "<table border=\"1\" class=\"dataframe\">\n",
       "  <thead>\n",
       "    <tr style=\"text-align: right;\">\n",
       "      <th></th>\n",
       "      <th>index</th>\n",
       "      <th>PCORnet</th>\n",
       "    </tr>\n",
       "  </thead>\n",
       "  <tbody>\n",
       "    <tr>\n",
       "      <th>0</th>\n",
       "      <td>openepic_shared_ucsf_health</td>\n",
       "      <td>2548</td>\n",
       "    </tr>\n",
       "    <tr>\n",
       "      <th>1</th>\n",
       "      <td>openepic_shared_sutter_health</td>\n",
       "      <td>468</td>\n",
       "    </tr>\n",
       "    <tr>\n",
       "      <th>2</th>\n",
       "      <td>openepic_shared_university_of_utah_healthcare</td>\n",
       "      <td>328</td>\n",
       "    </tr>\n",
       "    <tr>\n",
       "      <th>3</th>\n",
       "      <td>openepic_shared_ochsner_health_system</td>\n",
       "      <td>186</td>\n",
       "    </tr>\n",
       "    <tr>\n",
       "      <th>4</th>\n",
       "      <td>openepic_shared_nyu_langone_medical_center</td>\n",
       "      <td>69</td>\n",
       "    </tr>\n",
       "    <tr>\n",
       "      <th>5</th>\n",
       "      <td>openepic_shared_montefiore_medical_center</td>\n",
       "      <td>46</td>\n",
       "    </tr>\n",
       "    <tr>\n",
       "      <th>6</th>\n",
       "      <td>openepic_shared_baylor_scott_white</td>\n",
       "      <td>42</td>\n",
       "    </tr>\n",
       "  </tbody>\n",
       "</table>\n",
       "</div>"
      ],
      "text/plain": [
       "                                           index  PCORnet\n",
       "0                    openepic_shared_ucsf_health     2548\n",
       "1                  openepic_shared_sutter_health      468\n",
       "2  openepic_shared_university_of_utah_healthcare      328\n",
       "3          openepic_shared_ochsner_health_system      186\n",
       "4     openepic_shared_nyu_langone_medical_center       69\n",
       "5      openepic_shared_montefiore_medical_center       46\n",
       "6             openepic_shared_baylor_scott_white       42"
      ]
     },
     "execution_count": 77,
     "metadata": {},
     "output_type": "execute_result"
    }
   ],
   "source": [
    "pc_unmatched['site'].value_counts().reset_index(name=\"PCORnet\")"
   ]
  },
  {
   "cell_type": "code",
   "execution_count": 81,
   "id": "023c90df",
   "metadata": {},
   "outputs": [
    {
     "data": {
      "text/html": [
       "<div>\n",
       "<style scoped>\n",
       "    .dataframe tbody tr th:only-of-type {\n",
       "        vertical-align: middle;\n",
       "    }\n",
       "\n",
       "    .dataframe tbody tr th {\n",
       "        vertical-align: top;\n",
       "    }\n",
       "\n",
       "    .dataframe thead th {\n",
       "        text-align: right;\n",
       "    }\n",
       "</style>\n",
       "<table border=\"1\" class=\"dataframe\">\n",
       "  <thead>\n",
       "    <tr style=\"text-align: right;\">\n",
       "      <th></th>\n",
       "      <th>Site</th>\n",
       "      <th>FHIR</th>\n",
       "      <th>PCORnet</th>\n",
       "    </tr>\n",
       "  </thead>\n",
       "  <tbody>\n",
       "    <tr>\n",
       "      <th>0</th>\n",
       "      <td>openepic_shared_sutter_health</td>\n",
       "      <td>837</td>\n",
       "      <td>468</td>\n",
       "    </tr>\n",
       "    <tr>\n",
       "      <th>1</th>\n",
       "      <td>openepic_shared_nyu_langone_medical_center</td>\n",
       "      <td>488</td>\n",
       "      <td>69</td>\n",
       "    </tr>\n",
       "    <tr>\n",
       "      <th>2</th>\n",
       "      <td>openepic_shared_university_of_utah_healthcare</td>\n",
       "      <td>193</td>\n",
       "      <td>328</td>\n",
       "    </tr>\n",
       "    <tr>\n",
       "      <th>3</th>\n",
       "      <td>openepic_shared_ochsner_health_system</td>\n",
       "      <td>175</td>\n",
       "      <td>186</td>\n",
       "    </tr>\n",
       "    <tr>\n",
       "      <th>4</th>\n",
       "      <td>openepic_shared_ucsf_health</td>\n",
       "      <td>128</td>\n",
       "      <td>2548</td>\n",
       "    </tr>\n",
       "    <tr>\n",
       "      <th>5</th>\n",
       "      <td>openepic_shared_montefiore_medical_center</td>\n",
       "      <td>73</td>\n",
       "      <td>46</td>\n",
       "    </tr>\n",
       "    <tr>\n",
       "      <th>6</th>\n",
       "      <td>openepic_shared_baylor_scott_white</td>\n",
       "      <td>59</td>\n",
       "      <td>42</td>\n",
       "    </tr>\n",
       "  </tbody>\n",
       "</table>\n",
       "</div>"
      ],
      "text/plain": [
       "                                            Site  FHIR  PCORnet\n",
       "0                  openepic_shared_sutter_health   837      468\n",
       "1     openepic_shared_nyu_langone_medical_center   488       69\n",
       "2  openepic_shared_university_of_utah_healthcare   193      328\n",
       "3          openepic_shared_ochsner_health_system   175      186\n",
       "4                    openepic_shared_ucsf_health   128     2548\n",
       "5      openepic_shared_montefiore_medical_center    73       46\n",
       "6             openepic_shared_baylor_scott_white    59       42"
      ]
     },
     "execution_count": 81,
     "metadata": {},
     "output_type": "execute_result"
    }
   ],
   "source": [
    "f.merge(p, on=\"index\", how=\"outer\").rename(columns={'index': 'Site'})"
   ]
  },
  {
   "cell_type": "code",
   "execution_count": 21,
   "id": "79cbdd0d",
   "metadata": {
    "scrolled": true
   },
   "outputs": [
    {
     "data": {
      "text/plain": [
       "Telephone                                481\n",
       "Refill                                   192\n",
       "Office Visit                             187\n",
       "Elective                                  96\n",
       "Outpatient                                93\n",
       "Hospital Encounter                        82\n",
       "Patient Message                           74\n",
       "Therapies Series                          65\n",
       "Video Visit                               49\n",
       "Established Patient Return                36\n",
       "Specialty Pharmacy Visit                  34\n",
       "Clinical Support                          30\n",
       "OP- Series-Therapies                      26\n",
       "Recurring                                 25\n",
       "Remote Monitoring                         25\n",
       "Appointment                               20\n",
       "Chart Note                                20\n",
       "Lab                                       19\n",
       "Ancillary Visit                           19\n",
       "Emergency                                 17\n",
       "Return Office Visit                       15\n",
       "Pt Treatment                              14\n",
       "OP- Hospital Outpatient Clinic            14\n",
       "Follow Up Appointment                     14\n",
       "Established Physical Therapy              12\n",
       "Virtual Visit                             10\n",
       "Treatment                                  9\n",
       "Acute Visit                                9\n",
       "Telemedicine                               9\n",
       "New Patient Consult                        8\n",
       "Immunization                               8\n",
       "VIDEO VISIT  (Video Visit)                 6\n",
       "Provider Based Billing                     6\n",
       "Nurse Visit                                6\n",
       "OP- Outpatient Diagnostic Testing          5\n",
       "REMOTE DEVICE MONITOR                      5\n",
       "PT/OT/SP                                   5\n",
       "Care Team Visit                            4\n",
       "OP- Series-Chemo Infusion                  4\n",
       "Health Maintenance Exam                    4\n",
       "Anti-coag visit                            4\n",
       "Routine/Elective                           4\n",
       "Injection                                  4\n",
       "Resource Visit                             4\n",
       "New Patient Appointment                    4\n",
       "Inpatient                                  4\n",
       "Complete Eye Exam                          3\n",
       "Foot Care                                  3\n",
       "Urgent Care Office Visit                   3\n",
       "Medicare Wellness                          3\n",
       "Physical                                   3\n",
       "VIDEO VISIT FUP (Video Visit)              3\n",
       "Patient Outreach                           3\n",
       "Immunization Clinic                        3\n",
       "Other Therapies                            3\n",
       "Established Patient Visit                  3\n",
       "Transfer of Care                           3\n",
       "Infusion                                   3\n",
       "Orders Only                                3\n",
       "Lab Visit                                  3\n",
       "Office Visit/Established                   3\n",
       "Video Visit (Video Visit)                  3\n",
       "Mntl Hlth Video Visit                      3\n",
       "Established Occupational Therapy           2\n",
       "Post-Op                                    2\n",
       "Established Patient Call                   2\n",
       "New Patient                                2\n",
       "New Patient Visit                          2\n",
       "Historical Conversion Encounter            2\n",
       "Complex Return Visit                       2\n",
       "Pt Treat 45min Wb                          2\n",
       "Pre-Procedure Phone Call                   2\n",
       "Recurring Series - 30Days                  2\n",
       "Specimen                                   2\n",
       "Procedure Visit                            2\n",
       "Care Plan Oversight                        2\n",
       "NEW PATIENT VISIT                          2\n",
       "MyChart Video Televisit Follow Up          2\n",
       "Non Patient Lab                            2\n",
       "Therapy Visit                              2\n",
       "E-Consult                                  2\n",
       "Pre-Op                                     2\n",
       "Healthy Eating Active Lifestyle Class      2\n",
       "Complex Established Patient Call           2\n",
       "AMB Ref Lab HB Drop Off - Conv             2\n",
       "Ancillary Procedure                        1\n",
       "XR Bone Density Spine/Hip                  1\n",
       "COVID-19 VACCINE DOSE 1                    1\n",
       "IP- Inpatient                              1\n",
       "Same Day                                   1\n",
       "MBHC                                       1\n",
       "Telephone Visit                            1\n",
       "MRI Spine                                  1\n",
       "Covid19 Vaccine Pfizer Dose 2              1\n",
       "Established New Patient                    1\n",
       "Nurse Triage                               1\n",
       "XR BONE DENSITY                            1\n",
       "COVID-19 - SCREENING                       1\n",
       "Infusion 90 Min                            1\n",
       "Outpatient Surgery                         1\n",
       "OPD Clinic                                 1\n",
       "Echocardiogram                             1\n",
       "MEDICARE WELLNESS                          1\n",
       "MG MAMMO TOM                               1\n",
       "XR KNEE 1-2                                1\n",
       "Urgent Care Follow Up - No Charge          1\n",
       "Lab Scheduling MHO                         1\n",
       "Off-Site Visit                             1\n",
       "Physical Exam                              1\n",
       "Covid19 Vaccine Moderna Dose 2             1\n",
       "Hrt Cards F/U                              1\n",
       "MRI BRAIN W&WO IVC                         1\n",
       "Post OP                                    1\n",
       "US THYROID                                 1\n",
       "US HEAD AND NECK                           1\n",
       "COVID19 Vaccine Booster Dose               1\n",
       "OFFICE VISIT                               1\n",
       "Pre-Admission Testing Visit                1\n",
       "Outpatient Ambulatory Surgery              1\n",
       "GYN YEARLY                                 1\n",
       "New Patient - Open Scheduling              1\n",
       "XR GENERAL                                 1\n",
       "Transthoracic Echo (TTE) Appointment       1\n",
       "Nurse Only                                 1\n",
       "US ABDOMEN                                 1\n",
       "Complex New                                1\n",
       "MRI CERVICAL SPINE WO IVC                  1\n",
       "New Patient Video                          1\n",
       "New Patient PT Consult                     1\n",
       "Follow Up Visit                            1\n",
       "Surgical Consult                           1\n",
       "Established Patient                        1\n",
       "Surgical Consultation                      1\n",
       "Hearing Test                               1\n",
       "Nutrition                                  1\n",
       "OP- Series-All Other Recurring             1\n",
       "Hand Treatment Np                          1\n",
       "COVID-19 Vaccine (First Dose)              1\n",
       "COVID-19 Vaccine (Booster)                 1\n",
       "E-Visit                                    1\n",
       "Physical (18+ years old)                   1\n",
       "Sleep Assessment                           1\n",
       "APPOINTMENT                                1\n",
       "Procedure visit                            1\n",
       "CT ABDOMEN CONTRAST                        1\n",
       "Wellness Visit                             1\n",
       "Noninvasive Monitoring                     1\n",
       "Pre-Admit Testing Visit                    1\n",
       "Ancillary Only Private Referred            1\n",
       "Endoscopy Visit                            1\n",
       "Covid19 Vaccine                            1\n",
       "Genetic Counseling                         1\n",
       "ECH Transesophageal                        1\n",
       "Group Appointment                          1\n",
       "Transthoracic Echocardiogram               1\n",
       "EMG/NCV TESTING                            1\n",
       "Lifesteps Class                            1\n",
       "Mammography Imaging Appointment            1\n",
       "OFFICE-POST COVID NEW PATIENT              1\n",
       "EVAL                                       1\n",
       "Labs                                       1\n",
       "Video Visit SCC                            1\n",
       "Name: type_text, dtype: int64"
      ]
     },
     "execution_count": 21,
     "metadata": {},
     "output_type": "execute_result"
    }
   ],
   "source": [
    "fhir_unmatched['type_text'].value_counts()"
   ]
  },
  {
   "cell_type": "code",
   "execution_count": 22,
   "id": "e4d5ab77",
   "metadata": {},
   "outputs": [
    {
     "data": {
      "text/plain": [
       "Other Ambulatory Visit     2080\n",
       "Ambulatory Visit            698\n",
       "Telehealth                  513\n",
       "Other                       336\n",
       "Emergency Department         23\n",
       "Observation Stay             16\n",
       "Inpatient Hospital Stay      11\n",
       "No Information                7\n",
       "ED Admit to Inaptient         3\n",
       "Name: enc_type, dtype: int64"
      ]
     },
     "execution_count": 22,
     "metadata": {},
     "output_type": "execute_result"
    }
   ],
   "source": [
    "\n",
    "pc_unmatched['enc_type'].value_counts()"
   ]
  }
 ],
 "metadata": {
  "kernelspec": {
   "display_name": "Python 3 (ipykernel)",
   "language": "python",
   "name": "python3"
  },
  "language_info": {
   "codemirror_mode": {
    "name": "ipython",
    "version": 3
   },
   "file_extension": ".py",
   "mimetype": "text/x-python",
   "name": "python",
   "nbconvert_exporter": "python",
   "pygments_lexer": "ipython3",
   "version": "3.9.16"
  }
 },
 "nbformat": 4,
 "nbformat_minor": 5
}
