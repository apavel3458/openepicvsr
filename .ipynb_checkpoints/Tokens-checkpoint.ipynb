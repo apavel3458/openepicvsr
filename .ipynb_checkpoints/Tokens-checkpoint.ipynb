{
 "cells": [
  {
   "cell_type": "code",
   "execution_count": 273,
   "id": "376fc329",
   "metadata": {},
   "outputs": [],
   "source": [
    "import pandas as pd\n",
    "import plotly.graph_objects as go\n",
    "import matplotlib.pyplot as plt\n",
    "import numpy as np\n",
    "\n",
    "tokens_file = 'input/tokens/expired-tokens.csv'\n",
    "tokens_valid_file = 'input/tokens/valid-tokens.csv'\n",
    "demo_file = 'input/fhir_20230423/fhir_demographics.csv'"
   ]
  },
  {
   "cell_type": "code",
   "execution_count": 297,
   "id": "07a90d26",
   "metadata": {},
   "outputs": [
    {
     "name": "stdout",
     "output_type": "stream",
     "text": [
      "number of tokens 1259\n",
      "fhir demographic records 29455\n",
      "fhir demographics after de-duplicating user_id 1603\n"
     ]
    }
   ],
   "source": [
    "provider_dict = {\n",
    "    'openepic_shared_university_of_utah_healthcare': 'University of Utah Healthcare',\n",
    "    'openepic_shared_sutter_health': 'Sutter Health',\n",
    "    'openepic_shared_ucsf_health': 'UCSF Health',\n",
    "    'openepic_shared_nyu_langone_medical_center': 'NYU Langone MC',\n",
    "    'openepic_shared_montefiore_medical_center': 'Montefiore MC',\n",
    "    'openepic_shared_mount_sinai_health_system': 'Mount Sinai Health System',\n",
    "    'openepic_shared_kaiser_permanente_california_northern': 'Kaiser Permanente Northern Ca.',\n",
    "    'openepic_shared_ochsner_health_system': 'Ochsner Health System',\n",
    "    'openepic_shared_brown_toland_physicians': 'Brown Toland Physicians',\n",
    "    'openepic_shared_penn_medicine': 'Penn Medicine'\n",
    "}\n",
    "\n",
    "tokens = pd.read_csv(tokens_file, on_bad_lines='warn', skipinitialspace=True)\n",
    "tokens['created_at'] = pd.to_datetime(tokens['CreatedAt'])\n",
    "tokens['expired_at'] = pd.to_datetime(tokens['ExpiredAt'])\n",
    "tokens = tokens.rename(columns={'ProviderName': 'provider_name', 'ProviderSlug': 'provider', 'UserId': 'user_id'})\n",
    "tokens = tokens.drop(['CreatedAt', 'ExpiredAt'], axis=1)\n",
    "tokens['days'] = (tokens['expired_at'] - tokens['created_at']).dt.days\n",
    "print('number of tokens', len(tokens))\n",
    "\n",
    "fhir_demo_raw = pd.read_csv(demo_file)\n",
    "print('fhir demographic records', len(fhir_demo_raw))\n",
    "fhir_demo = fhir_demo_raw.drop_duplicates('user_id')\n",
    "print('fhir demographics after de-duplicating user_id', len(fhir_demo))"
   ]
  },
  {
   "cell_type": "code",
   "execution_count": 298,
   "id": "c135fe07",
   "metadata": {},
   "outputs": [
    {
     "data": {
      "text/plain": [
       "left_only     1014\n",
       "both           589\n",
       "right_only       0\n",
       "Name: token_merge, dtype: int64"
      ]
     },
     "execution_count": 298,
     "metadata": {},
     "output_type": "execute_result"
    }
   ],
   "source": [
    "fhir_dt = fhir_demo.merge(tokens, on=['user_id', 'provider'], how='left', indicator='token_merge')\n",
    "fhir_dt['provider_name'] = fhir_dt['provider'].replace(provider_dict)\n",
    "fhir_dt['token_merge'].value_counts()"
   ]
  },
  {
   "cell_type": "code",
   "execution_count": 299,
   "id": "03bd9921",
   "metadata": {},
   "outputs": [
    {
     "data": {
      "text/html": [
       "<div>\n",
       "<style scoped>\n",
       "    .dataframe tbody tr th:only-of-type {\n",
       "        vertical-align: middle;\n",
       "    }\n",
       "\n",
       "    .dataframe tbody tr th {\n",
       "        vertical-align: top;\n",
       "    }\n",
       "\n",
       "    .dataframe thead th {\n",
       "        text-align: right;\n",
       "    }\n",
       "</style>\n",
       "<table border=\"1\" class=\"dataframe\">\n",
       "  <thead>\n",
       "    <tr style=\"text-align: right;\">\n",
       "      <th></th>\n",
       "      <th>user_id</th>\n",
       "      <th>uploaded_date</th>\n",
       "      <th>provider</th>\n",
       "      <th>text_name</th>\n",
       "      <th>family</th>\n",
       "      <th>name_given</th>\n",
       "      <th>birthdate</th>\n",
       "      <th>gender</th>\n",
       "      <th>deceasedboolean</th>\n",
       "      <th>text</th>\n",
       "      <th>active</th>\n",
       "      <th>display</th>\n",
       "      <th>postalcode</th>\n",
       "      <th>language_text</th>\n",
       "      <th>provider_name</th>\n",
       "      <th>created_at</th>\n",
       "      <th>expired_at</th>\n",
       "      <th>days</th>\n",
       "      <th>token_merge</th>\n",
       "    </tr>\n",
       "  </thead>\n",
       "  <tbody>\n",
       "    <tr>\n",
       "      <th>0</th>\n",
       "      <td>514661</td>\n",
       "      <td>2022-06-17</td>\n",
       "      <td>openepic_shared_university_of_utah_healthcare</td>\n",
       "      <td>Steven Petersen</td>\n",
       "      <td>Petersen</td>\n",
       "      <td>Steven</td>\n",
       "      <td>1982-05-25</td>\n",
       "      <td>male</td>\n",
       "      <td>f</td>\n",
       "      <td>Single</td>\n",
       "      <td>t</td>\n",
       "      <td>White</td>\n",
       "      <td>84107-4145</td>\n",
       "      <td>English</td>\n",
       "      <td>University of Utah Healthcare</td>\n",
       "      <td>2022-04-16</td>\n",
       "      <td>2022-08-17</td>\n",
       "      <td>123.0</td>\n",
       "      <td>both</td>\n",
       "    </tr>\n",
       "    <tr>\n",
       "      <th>1</th>\n",
       "      <td>440308</td>\n",
       "      <td>2022-08-11</td>\n",
       "      <td>openepic_shared_nyc_health_hospitals</td>\n",
       "      <td>CHESTER,KEN</td>\n",
       "      <td>Chester</td>\n",
       "      <td>Ken</td>\n",
       "      <td>1986-02-06</td>\n",
       "      <td>male</td>\n",
       "      <td>f</td>\n",
       "      <td>Single</td>\n",
       "      <td>t</td>\n",
       "      <td>White</td>\n",
       "      <td>10044</td>\n",
       "      <td>English</td>\n",
       "      <td>openepic_shared_nyc_health_hospitals</td>\n",
       "      <td>NaT</td>\n",
       "      <td>NaT</td>\n",
       "      <td>NaN</td>\n",
       "      <td>left_only</td>\n",
       "    </tr>\n",
       "    <tr>\n",
       "      <th>2</th>\n",
       "      <td>504643</td>\n",
       "      <td>2022-07-15</td>\n",
       "      <td>openepic_shared_montefiore_medical_center</td>\n",
       "      <td>Gianna M Gianoni</td>\n",
       "      <td>Gianoni</td>\n",
       "      <td>M</td>\n",
       "      <td>1957-10-27</td>\n",
       "      <td>female</td>\n",
       "      <td>f</td>\n",
       "      <td>Single</td>\n",
       "      <td>t</td>\n",
       "      <td>NaN</td>\n",
       "      <td>10462</td>\n",
       "      <td>English</td>\n",
       "      <td>Montefiore MC</td>\n",
       "      <td>2022-05-05</td>\n",
       "      <td>2022-08-17</td>\n",
       "      <td>104.0</td>\n",
       "      <td>both</td>\n",
       "    </tr>\n",
       "    <tr>\n",
       "      <th>3</th>\n",
       "      <td>197119</td>\n",
       "      <td>2022-11-15</td>\n",
       "      <td>openepic_shared_hackensack_meridian_health</td>\n",
       "      <td>Frank J Harczuk III</td>\n",
       "      <td>Harczuk</td>\n",
       "      <td>J</td>\n",
       "      <td>1964-05-22</td>\n",
       "      <td>male</td>\n",
       "      <td>f</td>\n",
       "      <td>Married</td>\n",
       "      <td>t</td>\n",
       "      <td>White</td>\n",
       "      <td>07724</td>\n",
       "      <td>English</td>\n",
       "      <td>openepic_shared_hackensack_meridian_health</td>\n",
       "      <td>NaT</td>\n",
       "      <td>NaT</td>\n",
       "      <td>NaN</td>\n",
       "      <td>left_only</td>\n",
       "    </tr>\n",
       "    <tr>\n",
       "      <th>4</th>\n",
       "      <td>516641</td>\n",
       "      <td>2022-12-29</td>\n",
       "      <td>openepic_shared_baylor_scott_white</td>\n",
       "      <td>VIRGIL,DAVID</td>\n",
       "      <td>Virgil</td>\n",
       "      <td>David</td>\n",
       "      <td>1951-11-17</td>\n",
       "      <td>male</td>\n",
       "      <td>f</td>\n",
       "      <td>Married</td>\n",
       "      <td>t</td>\n",
       "      <td>White</td>\n",
       "      <td>75044-7040</td>\n",
       "      <td>English</td>\n",
       "      <td>openepic_shared_baylor_scott_white</td>\n",
       "      <td>NaT</td>\n",
       "      <td>NaT</td>\n",
       "      <td>NaN</td>\n",
       "      <td>left_only</td>\n",
       "    </tr>\n",
       "    <tr>\n",
       "      <th>...</th>\n",
       "      <td>...</td>\n",
       "      <td>...</td>\n",
       "      <td>...</td>\n",
       "      <td>...</td>\n",
       "      <td>...</td>\n",
       "      <td>...</td>\n",
       "      <td>...</td>\n",
       "      <td>...</td>\n",
       "      <td>...</td>\n",
       "      <td>...</td>\n",
       "      <td>...</td>\n",
       "      <td>...</td>\n",
       "      <td>...</td>\n",
       "      <td>...</td>\n",
       "      <td>...</td>\n",
       "      <td>...</td>\n",
       "      <td>...</td>\n",
       "      <td>...</td>\n",
       "      <td>...</td>\n",
       "    </tr>\n",
       "    <tr>\n",
       "      <th>1598</th>\n",
       "      <td>404319</td>\n",
       "      <td>2022-08-27</td>\n",
       "      <td>openepic_shared_geisinger</td>\n",
       "      <td>John Dziak</td>\n",
       "      <td>Dziak</td>\n",
       "      <td>John</td>\n",
       "      <td>1977-05-21</td>\n",
       "      <td>male</td>\n",
       "      <td>f</td>\n",
       "      <td>Single</td>\n",
       "      <td>t</td>\n",
       "      <td>White</td>\n",
       "      <td>16801-4926</td>\n",
       "      <td>English</td>\n",
       "      <td>openepic_shared_geisinger</td>\n",
       "      <td>2022-08-26</td>\n",
       "      <td>2022-11-06</td>\n",
       "      <td>72.0</td>\n",
       "      <td>both</td>\n",
       "    </tr>\n",
       "    <tr>\n",
       "      <th>1599</th>\n",
       "      <td>442493</td>\n",
       "      <td>2023-01-03</td>\n",
       "      <td>openepic_shared_uw_medicine_washington</td>\n",
       "      <td>Kelsey Gross</td>\n",
       "      <td>Gross</td>\n",
       "      <td>Kelsey</td>\n",
       "      <td>1990-08-28</td>\n",
       "      <td>female</td>\n",
       "      <td>f</td>\n",
       "      <td>Single</td>\n",
       "      <td>t</td>\n",
       "      <td>White</td>\n",
       "      <td>98103</td>\n",
       "      <td>English</td>\n",
       "      <td>openepic_shared_uw_medicine_washington</td>\n",
       "      <td>NaT</td>\n",
       "      <td>NaT</td>\n",
       "      <td>NaN</td>\n",
       "      <td>left_only</td>\n",
       "    </tr>\n",
       "    <tr>\n",
       "      <th>1600</th>\n",
       "      <td>413581</td>\n",
       "      <td>2022-11-23</td>\n",
       "      <td>openepic_shared_university_of_california_san_d...</td>\n",
       "      <td>Elizabeth Marcano</td>\n",
       "      <td>Marcano</td>\n",
       "      <td>Elizabeth</td>\n",
       "      <td>1986-10-17</td>\n",
       "      <td>female</td>\n",
       "      <td>f</td>\n",
       "      <td>Married</td>\n",
       "      <td>t</td>\n",
       "      <td>White</td>\n",
       "      <td>92092</td>\n",
       "      <td>English</td>\n",
       "      <td>openepic_shared_university_of_california_san_d...</td>\n",
       "      <td>NaT</td>\n",
       "      <td>NaT</td>\n",
       "      <td>NaN</td>\n",
       "      <td>left_only</td>\n",
       "    </tr>\n",
       "    <tr>\n",
       "      <th>1601</th>\n",
       "      <td>503762</td>\n",
       "      <td>2022-06-22</td>\n",
       "      <td>openepic_shared_montefiore_medical_center</td>\n",
       "      <td>John Fix</td>\n",
       "      <td>Fix</td>\n",
       "      <td>John</td>\n",
       "      <td>1959-08-12</td>\n",
       "      <td>male</td>\n",
       "      <td>f</td>\n",
       "      <td>Married</td>\n",
       "      <td>t</td>\n",
       "      <td>White</td>\n",
       "      <td>10709</td>\n",
       "      <td>English</td>\n",
       "      <td>Montefiore MC</td>\n",
       "      <td>2022-04-25</td>\n",
       "      <td>2022-08-17</td>\n",
       "      <td>114.0</td>\n",
       "      <td>both</td>\n",
       "    </tr>\n",
       "    <tr>\n",
       "      <th>1602</th>\n",
       "      <td>461795</td>\n",
       "      <td>2022-12-09</td>\n",
       "      <td>openepic_shared_luminis_health</td>\n",
       "      <td>Kevin Reilly</td>\n",
       "      <td>Reilly</td>\n",
       "      <td>Kevin</td>\n",
       "      <td>1963-03-07</td>\n",
       "      <td>male</td>\n",
       "      <td>f</td>\n",
       "      <td>Married</td>\n",
       "      <td>t</td>\n",
       "      <td>White</td>\n",
       "      <td>20711</td>\n",
       "      <td>English</td>\n",
       "      <td>openepic_shared_luminis_health</td>\n",
       "      <td>NaT</td>\n",
       "      <td>NaT</td>\n",
       "      <td>NaN</td>\n",
       "      <td>left_only</td>\n",
       "    </tr>\n",
       "  </tbody>\n",
       "</table>\n",
       "<p>1603 rows × 19 columns</p>\n",
       "</div>"
      ],
      "text/plain": [
       "      user_id uploaded_date  \\\n",
       "0      514661    2022-06-17   \n",
       "1      440308    2022-08-11   \n",
       "2      504643    2022-07-15   \n",
       "3      197119    2022-11-15   \n",
       "4      516641    2022-12-29   \n",
       "...       ...           ...   \n",
       "1598   404319    2022-08-27   \n",
       "1599   442493    2023-01-03   \n",
       "1600   413581    2022-11-23   \n",
       "1601   503762    2022-06-22   \n",
       "1602   461795    2022-12-09   \n",
       "\n",
       "                                               provider            text_name  \\\n",
       "0         openepic_shared_university_of_utah_healthcare      Steven Petersen   \n",
       "1                  openepic_shared_nyc_health_hospitals          CHESTER,KEN   \n",
       "2             openepic_shared_montefiore_medical_center     Gianna M Gianoni   \n",
       "3            openepic_shared_hackensack_meridian_health  Frank J Harczuk III   \n",
       "4                    openepic_shared_baylor_scott_white         VIRGIL,DAVID   \n",
       "...                                                 ...                  ...   \n",
       "1598                          openepic_shared_geisinger           John Dziak   \n",
       "1599             openepic_shared_uw_medicine_washington         Kelsey Gross   \n",
       "1600  openepic_shared_university_of_california_san_d...    Elizabeth Marcano   \n",
       "1601          openepic_shared_montefiore_medical_center             John Fix   \n",
       "1602                     openepic_shared_luminis_health         Kevin Reilly   \n",
       "\n",
       "        family name_given   birthdate  gender deceasedboolean     text active  \\\n",
       "0     Petersen     Steven  1982-05-25    male               f   Single      t   \n",
       "1      Chester        Ken  1986-02-06    male               f   Single      t   \n",
       "2      Gianoni          M  1957-10-27  female               f   Single      t   \n",
       "3      Harczuk          J  1964-05-22    male               f  Married      t   \n",
       "4       Virgil      David  1951-11-17    male               f  Married      t   \n",
       "...        ...        ...         ...     ...             ...      ...    ...   \n",
       "1598     Dziak       John  1977-05-21    male               f   Single      t   \n",
       "1599     Gross     Kelsey  1990-08-28  female               f   Single      t   \n",
       "1600   Marcano  Elizabeth  1986-10-17  female               f  Married      t   \n",
       "1601       Fix       John  1959-08-12    male               f  Married      t   \n",
       "1602    Reilly      Kevin  1963-03-07    male               f  Married      t   \n",
       "\n",
       "     display  postalcode language_text  \\\n",
       "0      White  84107-4145       English   \n",
       "1      White       10044       English   \n",
       "2        NaN       10462       English   \n",
       "3      White       07724       English   \n",
       "4      White  75044-7040       English   \n",
       "...      ...         ...           ...   \n",
       "1598   White  16801-4926       English   \n",
       "1599   White       98103       English   \n",
       "1600   White       92092       English   \n",
       "1601   White       10709       English   \n",
       "1602   White       20711       English   \n",
       "\n",
       "                                          provider_name created_at expired_at  \\\n",
       "0                         University of Utah Healthcare 2022-04-16 2022-08-17   \n",
       "1                  openepic_shared_nyc_health_hospitals        NaT        NaT   \n",
       "2                                         Montefiore MC 2022-05-05 2022-08-17   \n",
       "3            openepic_shared_hackensack_meridian_health        NaT        NaT   \n",
       "4                    openepic_shared_baylor_scott_white        NaT        NaT   \n",
       "...                                                 ...        ...        ...   \n",
       "1598                          openepic_shared_geisinger 2022-08-26 2022-11-06   \n",
       "1599             openepic_shared_uw_medicine_washington        NaT        NaT   \n",
       "1600  openepic_shared_university_of_california_san_d...        NaT        NaT   \n",
       "1601                                      Montefiore MC 2022-04-25 2022-08-17   \n",
       "1602                     openepic_shared_luminis_health        NaT        NaT   \n",
       "\n",
       "       days token_merge  \n",
       "0     123.0        both  \n",
       "1       NaN   left_only  \n",
       "2     104.0        both  \n",
       "3       NaN   left_only  \n",
       "4       NaN   left_only  \n",
       "...     ...         ...  \n",
       "1598   72.0        both  \n",
       "1599    NaN   left_only  \n",
       "1600    NaN   left_only  \n",
       "1601  114.0        both  \n",
       "1602    NaN   left_only  \n",
       "\n",
       "[1603 rows x 19 columns]"
      ]
     },
     "execution_count": 299,
     "metadata": {},
     "output_type": "execute_result"
    }
   ],
   "source": [
    "fhir_dt"
   ]
  },
  {
   "cell_type": "code",
   "execution_count": 219,
   "id": "287d5fec",
   "metadata": {},
   "outputs": [
    {
     "data": {
      "text/html": [
       "<div>\n",
       "<style scoped>\n",
       "    .dataframe tbody tr th:only-of-type {\n",
       "        vertical-align: middle;\n",
       "    }\n",
       "\n",
       "    .dataframe tbody tr th {\n",
       "        vertical-align: top;\n",
       "    }\n",
       "\n",
       "    .dataframe thead th {\n",
       "        text-align: right;\n",
       "    }\n",
       "</style>\n",
       "<table border=\"1\" class=\"dataframe\">\n",
       "  <thead>\n",
       "    <tr style=\"text-align: right;\">\n",
       "      <th></th>\n",
       "      <th>provider</th>\n",
       "      <th>mean</th>\n",
       "      <th>std</th>\n",
       "      <th>expired</th>\n",
       "      <th>nonexpired</th>\n",
       "      <th>expired_percent</th>\n",
       "      <th>provider_d</th>\n",
       "    </tr>\n",
       "  </thead>\n",
       "  <tbody>\n",
       "    <tr>\n",
       "      <th>0</th>\n",
       "      <td>openepic_shared_university_of_utah_healthcare</td>\n",
       "      <td>103.621951</td>\n",
       "      <td>32.598559</td>\n",
       "      <td>164</td>\n",
       "      <td>2</td>\n",
       "      <td>0.987952</td>\n",
       "      <td>University of Utah Healthcare</td>\n",
       "    </tr>\n",
       "    <tr>\n",
       "      <th>1</th>\n",
       "      <td>openepic_shared_sutter_health</td>\n",
       "      <td>190.980000</td>\n",
       "      <td>80.373742</td>\n",
       "      <td>50</td>\n",
       "      <td>195</td>\n",
       "      <td>0.204082</td>\n",
       "      <td>Sutter Health</td>\n",
       "    </tr>\n",
       "    <tr>\n",
       "      <th>2</th>\n",
       "      <td>openepic_shared_ucsf_health</td>\n",
       "      <td>135.120000</td>\n",
       "      <td>63.037287</td>\n",
       "      <td>50</td>\n",
       "      <td>158</td>\n",
       "      <td>0.240385</td>\n",
       "      <td>UCSF Health</td>\n",
       "    </tr>\n",
       "    <tr>\n",
       "      <th>3</th>\n",
       "      <td>openepic_shared_nyu_langone_medical_center</td>\n",
       "      <td>141.000000</td>\n",
       "      <td>62.529104</td>\n",
       "      <td>37</td>\n",
       "      <td>81</td>\n",
       "      <td>0.313559</td>\n",
       "      <td>NYU Langone MC</td>\n",
       "    </tr>\n",
       "    <tr>\n",
       "      <th>4</th>\n",
       "      <td>openepic_shared_montefiore_medical_center</td>\n",
       "      <td>90.677419</td>\n",
       "      <td>36.583591</td>\n",
       "      <td>31</td>\n",
       "      <td>3</td>\n",
       "      <td>0.911765</td>\n",
       "      <td>Montefiore MC</td>\n",
       "    </tr>\n",
       "    <tr>\n",
       "      <th>5</th>\n",
       "      <td>openepic_shared_mount_sinai_health_system</td>\n",
       "      <td>90.777778</td>\n",
       "      <td>32.598368</td>\n",
       "      <td>18</td>\n",
       "      <td>2</td>\n",
       "      <td>0.900000</td>\n",
       "      <td>Mount Sinai Health System</td>\n",
       "    </tr>\n",
       "    <tr>\n",
       "      <th>6</th>\n",
       "      <td>openepic_shared_kaiser_permanente_california_n...</td>\n",
       "      <td>54.941176</td>\n",
       "      <td>26.761611</td>\n",
       "      <td>17</td>\n",
       "      <td>18</td>\n",
       "      <td>0.485714</td>\n",
       "      <td>Kaiser Permanente Northern Ca.</td>\n",
       "    </tr>\n",
       "    <tr>\n",
       "      <th>7</th>\n",
       "      <td>openepic_shared_ochsner_health_system</td>\n",
       "      <td>146.250000</td>\n",
       "      <td>45.483330</td>\n",
       "      <td>16</td>\n",
       "      <td>55</td>\n",
       "      <td>0.225352</td>\n",
       "      <td>Ochsner Health System</td>\n",
       "    </tr>\n",
       "    <tr>\n",
       "      <th>8</th>\n",
       "      <td>openepic_shared_brown_toland_physicians</td>\n",
       "      <td>97.400000</td>\n",
       "      <td>13.133503</td>\n",
       "      <td>10</td>\n",
       "      <td>4</td>\n",
       "      <td>0.714286</td>\n",
       "      <td>Brown Toland Physicians</td>\n",
       "    </tr>\n",
       "    <tr>\n",
       "      <th>9</th>\n",
       "      <td>openepic_shared_penn_medicine</td>\n",
       "      <td>82.600000</td>\n",
       "      <td>27.415324</td>\n",
       "      <td>10</td>\n",
       "      <td>1</td>\n",
       "      <td>0.909091</td>\n",
       "      <td>Penn Medicine</td>\n",
       "    </tr>\n",
       "  </tbody>\n",
       "</table>\n",
       "</div>"
      ],
      "text/plain": [
       "                                            provider        mean        std  \\\n",
       "0      openepic_shared_university_of_utah_healthcare  103.621951  32.598559   \n",
       "1                      openepic_shared_sutter_health  190.980000  80.373742   \n",
       "2                        openepic_shared_ucsf_health  135.120000  63.037287   \n",
       "3         openepic_shared_nyu_langone_medical_center  141.000000  62.529104   \n",
       "4          openepic_shared_montefiore_medical_center   90.677419  36.583591   \n",
       "5          openepic_shared_mount_sinai_health_system   90.777778  32.598368   \n",
       "6  openepic_shared_kaiser_permanente_california_n...   54.941176  26.761611   \n",
       "7              openepic_shared_ochsner_health_system  146.250000  45.483330   \n",
       "8            openepic_shared_brown_toland_physicians   97.400000  13.133503   \n",
       "9                      openepic_shared_penn_medicine   82.600000  27.415324   \n",
       "\n",
       "   expired  nonexpired  expired_percent                      provider_d  \n",
       "0      164           2         0.987952   University of Utah Healthcare  \n",
       "1       50         195         0.204082                   Sutter Health  \n",
       "2       50         158         0.240385                     UCSF Health  \n",
       "3       37          81         0.313559                  NYU Langone MC  \n",
       "4       31           3         0.911765                   Montefiore MC  \n",
       "5       18           2         0.900000       Mount Sinai Health System  \n",
       "6       17          18         0.485714  Kaiser Permanente Northern Ca.  \n",
       "7       16          55         0.225352           Ochsner Health System  \n",
       "8       10           4         0.714286         Brown Toland Physicians  \n",
       "9       10           1         0.909091                   Penn Medicine  "
      ]
     },
     "execution_count": 219,
     "metadata": {},
     "output_type": "execute_result"
    }
   ],
   "source": [
    "\n",
    "def nonexpired(x):\n",
    "    return x.isna().sum()\n",
    "grp = fhir_dt.groupby('provider')['days'].agg(['mean', 'std', 'count', nonexpired]).sort_values('count', ascending=False).head(10)\n",
    "grp['expired_percent'] = 1-(grp['nonexpired']/(grp['count']+grp['nonexpired']))\n",
    "grp = grp.rename(columns={'count': 'expired'})\n",
    "grp = grp.reset_index()\n",
    "grp['provider_d'] = grp['provider'].replace(provider_dict)\n",
    "grp.head(100)\n",
    "\n",
    "grp"
   ]
  },
  {
   "cell_type": "code",
   "execution_count": 221,
   "id": "81c95a8e",
   "metadata": {},
   "outputs": [
    {
     "data": {
      "application/vnd.plotly.v1+json": {
       "config": {
        "plotlyServerURL": "https://plot.ly"
       },
       "data": [
        {
         "error_y": {
          "array": [
           32.59855853032882,
           80.37374177769092,
           63.03728731343644,
           62.52910433461277,
           36.58359112751161,
           32.59836797711262,
           26.76161100399996,
           45.48333027971163,
           13.133502536981098,
           27.415324181924237
          ],
          "color": "black",
          "type": "data"
         },
         "name": "",
         "type": "bar",
         "x": [
          "University of Utah Healthcare",
          "Sutter Health",
          "UCSF Health",
          "NYU Langone MC",
          "Montefiore MC",
          "Mount Sinai Health System",
          "Kaiser Permanente Northern Ca.",
          "Ochsner Health System",
          "Brown Toland Physicians",
          "Penn Medicine"
         ],
         "y": [
          104,
          191,
          135,
          141,
          91,
          91,
          55,
          146,
          97,
          83
         ]
        }
       ],
       "layout": {
        "annotations": [
         {
          "font": {
           "color": "white"
          },
          "showarrow": false,
          "text": "103 days <br> N=164",
          "x": 0,
          "y": 90.6219512195122
         },
         {
          "font": {
           "color": "white"
          },
          "showarrow": false,
          "text": "190 days <br> N=50",
          "x": 1,
          "y": 177.98
         },
         {
          "font": {
           "color": "white"
          },
          "showarrow": false,
          "text": "135 days <br> N=50",
          "x": 2,
          "y": 122.12
         },
         {
          "font": {
           "color": "white"
          },
          "showarrow": false,
          "text": "141 days <br> N=37",
          "x": 3,
          "y": 128
         },
         {
          "font": {
           "color": "white"
          },
          "showarrow": false,
          "text": "90 days <br> N=31",
          "x": 4,
          "y": 77.6774193548387
         },
         {
          "font": {
           "color": "white"
          },
          "showarrow": false,
          "text": "90 days <br> N=18",
          "x": 5,
          "y": 77.77777777777777
         },
         {
          "font": {
           "color": "white"
          },
          "showarrow": false,
          "text": "54 days <br> N=17",
          "x": 6,
          "y": 41.94117647058823
         },
         {
          "font": {
           "color": "white"
          },
          "showarrow": false,
          "text": "146 days <br> N=16",
          "x": 7,
          "y": 133.25
         },
         {
          "font": {
           "color": "white"
          },
          "showarrow": false,
          "text": "97 days <br> N=10",
          "x": 8,
          "y": 84.4
         },
         {
          "font": {
           "color": "white"
          },
          "showarrow": false,
          "text": "82 days <br> N=10",
          "x": 9,
          "y": 69.6
         }
        ],
        "height": 700,
        "template": {
         "data": {
          "bar": [
           {
            "error_x": {
             "color": "#2a3f5f"
            },
            "error_y": {
             "color": "#2a3f5f"
            },
            "marker": {
             "line": {
              "color": "#E5ECF6",
              "width": 0.5
             },
             "pattern": {
              "fillmode": "overlay",
              "size": 10,
              "solidity": 0.2
             }
            },
            "type": "bar"
           }
          ],
          "barpolar": [
           {
            "marker": {
             "line": {
              "color": "#E5ECF6",
              "width": 0.5
             },
             "pattern": {
              "fillmode": "overlay",
              "size": 10,
              "solidity": 0.2
             }
            },
            "type": "barpolar"
           }
          ],
          "carpet": [
           {
            "aaxis": {
             "endlinecolor": "#2a3f5f",
             "gridcolor": "white",
             "linecolor": "white",
             "minorgridcolor": "white",
             "startlinecolor": "#2a3f5f"
            },
            "baxis": {
             "endlinecolor": "#2a3f5f",
             "gridcolor": "white",
             "linecolor": "white",
             "minorgridcolor": "white",
             "startlinecolor": "#2a3f5f"
            },
            "type": "carpet"
           }
          ],
          "choropleth": [
           {
            "colorbar": {
             "outlinewidth": 0,
             "ticks": ""
            },
            "type": "choropleth"
           }
          ],
          "contour": [
           {
            "colorbar": {
             "outlinewidth": 0,
             "ticks": ""
            },
            "colorscale": [
             [
              0,
              "#0d0887"
             ],
             [
              0.1111111111111111,
              "#46039f"
             ],
             [
              0.2222222222222222,
              "#7201a8"
             ],
             [
              0.3333333333333333,
              "#9c179e"
             ],
             [
              0.4444444444444444,
              "#bd3786"
             ],
             [
              0.5555555555555556,
              "#d8576b"
             ],
             [
              0.6666666666666666,
              "#ed7953"
             ],
             [
              0.7777777777777778,
              "#fb9f3a"
             ],
             [
              0.8888888888888888,
              "#fdca26"
             ],
             [
              1,
              "#f0f921"
             ]
            ],
            "type": "contour"
           }
          ],
          "contourcarpet": [
           {
            "colorbar": {
             "outlinewidth": 0,
             "ticks": ""
            },
            "type": "contourcarpet"
           }
          ],
          "heatmap": [
           {
            "colorbar": {
             "outlinewidth": 0,
             "ticks": ""
            },
            "colorscale": [
             [
              0,
              "#0d0887"
             ],
             [
              0.1111111111111111,
              "#46039f"
             ],
             [
              0.2222222222222222,
              "#7201a8"
             ],
             [
              0.3333333333333333,
              "#9c179e"
             ],
             [
              0.4444444444444444,
              "#bd3786"
             ],
             [
              0.5555555555555556,
              "#d8576b"
             ],
             [
              0.6666666666666666,
              "#ed7953"
             ],
             [
              0.7777777777777778,
              "#fb9f3a"
             ],
             [
              0.8888888888888888,
              "#fdca26"
             ],
             [
              1,
              "#f0f921"
             ]
            ],
            "type": "heatmap"
           }
          ],
          "heatmapgl": [
           {
            "colorbar": {
             "outlinewidth": 0,
             "ticks": ""
            },
            "colorscale": [
             [
              0,
              "#0d0887"
             ],
             [
              0.1111111111111111,
              "#46039f"
             ],
             [
              0.2222222222222222,
              "#7201a8"
             ],
             [
              0.3333333333333333,
              "#9c179e"
             ],
             [
              0.4444444444444444,
              "#bd3786"
             ],
             [
              0.5555555555555556,
              "#d8576b"
             ],
             [
              0.6666666666666666,
              "#ed7953"
             ],
             [
              0.7777777777777778,
              "#fb9f3a"
             ],
             [
              0.8888888888888888,
              "#fdca26"
             ],
             [
              1,
              "#f0f921"
             ]
            ],
            "type": "heatmapgl"
           }
          ],
          "histogram": [
           {
            "marker": {
             "pattern": {
              "fillmode": "overlay",
              "size": 10,
              "solidity": 0.2
             }
            },
            "type": "histogram"
           }
          ],
          "histogram2d": [
           {
            "colorbar": {
             "outlinewidth": 0,
             "ticks": ""
            },
            "colorscale": [
             [
              0,
              "#0d0887"
             ],
             [
              0.1111111111111111,
              "#46039f"
             ],
             [
              0.2222222222222222,
              "#7201a8"
             ],
             [
              0.3333333333333333,
              "#9c179e"
             ],
             [
              0.4444444444444444,
              "#bd3786"
             ],
             [
              0.5555555555555556,
              "#d8576b"
             ],
             [
              0.6666666666666666,
              "#ed7953"
             ],
             [
              0.7777777777777778,
              "#fb9f3a"
             ],
             [
              0.8888888888888888,
              "#fdca26"
             ],
             [
              1,
              "#f0f921"
             ]
            ],
            "type": "histogram2d"
           }
          ],
          "histogram2dcontour": [
           {
            "colorbar": {
             "outlinewidth": 0,
             "ticks": ""
            },
            "colorscale": [
             [
              0,
              "#0d0887"
             ],
             [
              0.1111111111111111,
              "#46039f"
             ],
             [
              0.2222222222222222,
              "#7201a8"
             ],
             [
              0.3333333333333333,
              "#9c179e"
             ],
             [
              0.4444444444444444,
              "#bd3786"
             ],
             [
              0.5555555555555556,
              "#d8576b"
             ],
             [
              0.6666666666666666,
              "#ed7953"
             ],
             [
              0.7777777777777778,
              "#fb9f3a"
             ],
             [
              0.8888888888888888,
              "#fdca26"
             ],
             [
              1,
              "#f0f921"
             ]
            ],
            "type": "histogram2dcontour"
           }
          ],
          "mesh3d": [
           {
            "colorbar": {
             "outlinewidth": 0,
             "ticks": ""
            },
            "type": "mesh3d"
           }
          ],
          "parcoords": [
           {
            "line": {
             "colorbar": {
              "outlinewidth": 0,
              "ticks": ""
             }
            },
            "type": "parcoords"
           }
          ],
          "pie": [
           {
            "automargin": true,
            "type": "pie"
           }
          ],
          "scatter": [
           {
            "fillpattern": {
             "fillmode": "overlay",
             "size": 10,
             "solidity": 0.2
            },
            "type": "scatter"
           }
          ],
          "scatter3d": [
           {
            "line": {
             "colorbar": {
              "outlinewidth": 0,
              "ticks": ""
             }
            },
            "marker": {
             "colorbar": {
              "outlinewidth": 0,
              "ticks": ""
             }
            },
            "type": "scatter3d"
           }
          ],
          "scattercarpet": [
           {
            "marker": {
             "colorbar": {
              "outlinewidth": 0,
              "ticks": ""
             }
            },
            "type": "scattercarpet"
           }
          ],
          "scattergeo": [
           {
            "marker": {
             "colorbar": {
              "outlinewidth": 0,
              "ticks": ""
             }
            },
            "type": "scattergeo"
           }
          ],
          "scattergl": [
           {
            "marker": {
             "colorbar": {
              "outlinewidth": 0,
              "ticks": ""
             }
            },
            "type": "scattergl"
           }
          ],
          "scattermapbox": [
           {
            "marker": {
             "colorbar": {
              "outlinewidth": 0,
              "ticks": ""
             }
            },
            "type": "scattermapbox"
           }
          ],
          "scatterpolar": [
           {
            "marker": {
             "colorbar": {
              "outlinewidth": 0,
              "ticks": ""
             }
            },
            "type": "scatterpolar"
           }
          ],
          "scatterpolargl": [
           {
            "marker": {
             "colorbar": {
              "outlinewidth": 0,
              "ticks": ""
             }
            },
            "type": "scatterpolargl"
           }
          ],
          "scatterternary": [
           {
            "marker": {
             "colorbar": {
              "outlinewidth": 0,
              "ticks": ""
             }
            },
            "type": "scatterternary"
           }
          ],
          "surface": [
           {
            "colorbar": {
             "outlinewidth": 0,
             "ticks": ""
            },
            "colorscale": [
             [
              0,
              "#0d0887"
             ],
             [
              0.1111111111111111,
              "#46039f"
             ],
             [
              0.2222222222222222,
              "#7201a8"
             ],
             [
              0.3333333333333333,
              "#9c179e"
             ],
             [
              0.4444444444444444,
              "#bd3786"
             ],
             [
              0.5555555555555556,
              "#d8576b"
             ],
             [
              0.6666666666666666,
              "#ed7953"
             ],
             [
              0.7777777777777778,
              "#fb9f3a"
             ],
             [
              0.8888888888888888,
              "#fdca26"
             ],
             [
              1,
              "#f0f921"
             ]
            ],
            "type": "surface"
           }
          ],
          "table": [
           {
            "cells": {
             "fill": {
              "color": "#EBF0F8"
             },
             "line": {
              "color": "white"
             }
            },
            "header": {
             "fill": {
              "color": "#C8D4E3"
             },
             "line": {
              "color": "white"
             }
            },
            "type": "table"
           }
          ]
         },
         "layout": {
          "annotationdefaults": {
           "arrowcolor": "#2a3f5f",
           "arrowhead": 0,
           "arrowwidth": 1
          },
          "autotypenumbers": "strict",
          "coloraxis": {
           "colorbar": {
            "outlinewidth": 0,
            "ticks": ""
           }
          },
          "colorscale": {
           "diverging": [
            [
             0,
             "#8e0152"
            ],
            [
             0.1,
             "#c51b7d"
            ],
            [
             0.2,
             "#de77ae"
            ],
            [
             0.3,
             "#f1b6da"
            ],
            [
             0.4,
             "#fde0ef"
            ],
            [
             0.5,
             "#f7f7f7"
            ],
            [
             0.6,
             "#e6f5d0"
            ],
            [
             0.7,
             "#b8e186"
            ],
            [
             0.8,
             "#7fbc41"
            ],
            [
             0.9,
             "#4d9221"
            ],
            [
             1,
             "#276419"
            ]
           ],
           "sequential": [
            [
             0,
             "#0d0887"
            ],
            [
             0.1111111111111111,
             "#46039f"
            ],
            [
             0.2222222222222222,
             "#7201a8"
            ],
            [
             0.3333333333333333,
             "#9c179e"
            ],
            [
             0.4444444444444444,
             "#bd3786"
            ],
            [
             0.5555555555555556,
             "#d8576b"
            ],
            [
             0.6666666666666666,
             "#ed7953"
            ],
            [
             0.7777777777777778,
             "#fb9f3a"
            ],
            [
             0.8888888888888888,
             "#fdca26"
            ],
            [
             1,
             "#f0f921"
            ]
           ],
           "sequentialminus": [
            [
             0,
             "#0d0887"
            ],
            [
             0.1111111111111111,
             "#46039f"
            ],
            [
             0.2222222222222222,
             "#7201a8"
            ],
            [
             0.3333333333333333,
             "#9c179e"
            ],
            [
             0.4444444444444444,
             "#bd3786"
            ],
            [
             0.5555555555555556,
             "#d8576b"
            ],
            [
             0.6666666666666666,
             "#ed7953"
            ],
            [
             0.7777777777777778,
             "#fb9f3a"
            ],
            [
             0.8888888888888888,
             "#fdca26"
            ],
            [
             1,
             "#f0f921"
            ]
           ]
          },
          "colorway": [
           "#636efa",
           "#EF553B",
           "#00cc96",
           "#ab63fa",
           "#FFA15A",
           "#19d3f3",
           "#FF6692",
           "#B6E880",
           "#FF97FF",
           "#FECB52"
          ],
          "font": {
           "color": "#2a3f5f"
          },
          "geo": {
           "bgcolor": "white",
           "lakecolor": "white",
           "landcolor": "#E5ECF6",
           "showlakes": true,
           "showland": true,
           "subunitcolor": "white"
          },
          "hoverlabel": {
           "align": "left"
          },
          "hovermode": "closest",
          "mapbox": {
           "style": "light"
          },
          "paper_bgcolor": "white",
          "plot_bgcolor": "#E5ECF6",
          "polar": {
           "angularaxis": {
            "gridcolor": "white",
            "linecolor": "white",
            "ticks": ""
           },
           "bgcolor": "#E5ECF6",
           "radialaxis": {
            "gridcolor": "white",
            "linecolor": "white",
            "ticks": ""
           }
          },
          "scene": {
           "xaxis": {
            "backgroundcolor": "#E5ECF6",
            "gridcolor": "white",
            "gridwidth": 2,
            "linecolor": "white",
            "showbackground": true,
            "ticks": "",
            "zerolinecolor": "white"
           },
           "yaxis": {
            "backgroundcolor": "#E5ECF6",
            "gridcolor": "white",
            "gridwidth": 2,
            "linecolor": "white",
            "showbackground": true,
            "ticks": "",
            "zerolinecolor": "white"
           },
           "zaxis": {
            "backgroundcolor": "#E5ECF6",
            "gridcolor": "white",
            "gridwidth": 2,
            "linecolor": "white",
            "showbackground": true,
            "ticks": "",
            "zerolinecolor": "white"
           }
          },
          "shapedefaults": {
           "line": {
            "color": "#2a3f5f"
           }
          },
          "ternary": {
           "aaxis": {
            "gridcolor": "white",
            "linecolor": "white",
            "ticks": ""
           },
           "baxis": {
            "gridcolor": "white",
            "linecolor": "white",
            "ticks": ""
           },
           "bgcolor": "#E5ECF6",
           "caxis": {
            "gridcolor": "white",
            "linecolor": "white",
            "ticks": ""
           }
          },
          "title": {
           "x": 0.05
          },
          "xaxis": {
           "automargin": true,
           "gridcolor": "white",
           "linecolor": "white",
           "ticks": "",
           "title": {
            "standoff": 15
           },
           "zerolinecolor": "white",
           "zerolinewidth": 2
          },
          "yaxis": {
           "automargin": true,
           "gridcolor": "white",
           "linecolor": "white",
           "ticks": "",
           "title": {
            "standoff": 15
           },
           "zerolinecolor": "white",
           "zerolinewidth": 2
          }
         }
        },
        "title": {
         "text": "Average Expired Token Lifespan by Site",
         "xanchor": "left"
        },
        "width": 1000,
        "yaxis": {
         "title": {
          "text": "Average Token Lifespan (days) (std)"
         }
        }
       }
      },
      "text/html": [
       "<div>                            <div id=\"b73065d4-2439-455f-aa00-dbab0edc7db9\" class=\"plotly-graph-div\" style=\"height:700px; width:1000px;\"></div>            <script type=\"text/javascript\">                require([\"plotly\"], function(Plotly) {                    window.PLOTLYENV=window.PLOTLYENV || {};                                    if (document.getElementById(\"b73065d4-2439-455f-aa00-dbab0edc7db9\")) {                    Plotly.newPlot(                        \"b73065d4-2439-455f-aa00-dbab0edc7db9\",                        [{\"error_y\":{\"array\":[32.59855853032882,80.37374177769092,63.03728731343644,62.52910433461277,36.58359112751161,32.59836797711262,26.76161100399996,45.48333027971163,13.133502536981098,27.415324181924237],\"color\":\"black\",\"type\":\"data\"},\"name\":\"\",\"x\":[\"University of Utah Healthcare\",\"Sutter Health\",\"UCSF Health\",\"NYU Langone MC\",\"Montefiore MC\",\"Mount Sinai Health System\",\"Kaiser Permanente Northern Ca.\",\"Ochsner Health System\",\"Brown Toland Physicians\",\"Penn Medicine\"],\"y\":[104.0,191.0,135.0,141.0,91.0,91.0,55.0,146.0,97.0,83.0],\"type\":\"bar\"}],                        {\"template\":{\"data\":{\"histogram2dcontour\":[{\"type\":\"histogram2dcontour\",\"colorbar\":{\"outlinewidth\":0,\"ticks\":\"\"},\"colorscale\":[[0.0,\"#0d0887\"],[0.1111111111111111,\"#46039f\"],[0.2222222222222222,\"#7201a8\"],[0.3333333333333333,\"#9c179e\"],[0.4444444444444444,\"#bd3786\"],[0.5555555555555556,\"#d8576b\"],[0.6666666666666666,\"#ed7953\"],[0.7777777777777778,\"#fb9f3a\"],[0.8888888888888888,\"#fdca26\"],[1.0,\"#f0f921\"]]}],\"choropleth\":[{\"type\":\"choropleth\",\"colorbar\":{\"outlinewidth\":0,\"ticks\":\"\"}}],\"histogram2d\":[{\"type\":\"histogram2d\",\"colorbar\":{\"outlinewidth\":0,\"ticks\":\"\"},\"colorscale\":[[0.0,\"#0d0887\"],[0.1111111111111111,\"#46039f\"],[0.2222222222222222,\"#7201a8\"],[0.3333333333333333,\"#9c179e\"],[0.4444444444444444,\"#bd3786\"],[0.5555555555555556,\"#d8576b\"],[0.6666666666666666,\"#ed7953\"],[0.7777777777777778,\"#fb9f3a\"],[0.8888888888888888,\"#fdca26\"],[1.0,\"#f0f921\"]]}],\"heatmap\":[{\"type\":\"heatmap\",\"colorbar\":{\"outlinewidth\":0,\"ticks\":\"\"},\"colorscale\":[[0.0,\"#0d0887\"],[0.1111111111111111,\"#46039f\"],[0.2222222222222222,\"#7201a8\"],[0.3333333333333333,\"#9c179e\"],[0.4444444444444444,\"#bd3786\"],[0.5555555555555556,\"#d8576b\"],[0.6666666666666666,\"#ed7953\"],[0.7777777777777778,\"#fb9f3a\"],[0.8888888888888888,\"#fdca26\"],[1.0,\"#f0f921\"]]}],\"heatmapgl\":[{\"type\":\"heatmapgl\",\"colorbar\":{\"outlinewidth\":0,\"ticks\":\"\"},\"colorscale\":[[0.0,\"#0d0887\"],[0.1111111111111111,\"#46039f\"],[0.2222222222222222,\"#7201a8\"],[0.3333333333333333,\"#9c179e\"],[0.4444444444444444,\"#bd3786\"],[0.5555555555555556,\"#d8576b\"],[0.6666666666666666,\"#ed7953\"],[0.7777777777777778,\"#fb9f3a\"],[0.8888888888888888,\"#fdca26\"],[1.0,\"#f0f921\"]]}],\"contourcarpet\":[{\"type\":\"contourcarpet\",\"colorbar\":{\"outlinewidth\":0,\"ticks\":\"\"}}],\"contour\":[{\"type\":\"contour\",\"colorbar\":{\"outlinewidth\":0,\"ticks\":\"\"},\"colorscale\":[[0.0,\"#0d0887\"],[0.1111111111111111,\"#46039f\"],[0.2222222222222222,\"#7201a8\"],[0.3333333333333333,\"#9c179e\"],[0.4444444444444444,\"#bd3786\"],[0.5555555555555556,\"#d8576b\"],[0.6666666666666666,\"#ed7953\"],[0.7777777777777778,\"#fb9f3a\"],[0.8888888888888888,\"#fdca26\"],[1.0,\"#f0f921\"]]}],\"surface\":[{\"type\":\"surface\",\"colorbar\":{\"outlinewidth\":0,\"ticks\":\"\"},\"colorscale\":[[0.0,\"#0d0887\"],[0.1111111111111111,\"#46039f\"],[0.2222222222222222,\"#7201a8\"],[0.3333333333333333,\"#9c179e\"],[0.4444444444444444,\"#bd3786\"],[0.5555555555555556,\"#d8576b\"],[0.6666666666666666,\"#ed7953\"],[0.7777777777777778,\"#fb9f3a\"],[0.8888888888888888,\"#fdca26\"],[1.0,\"#f0f921\"]]}],\"mesh3d\":[{\"type\":\"mesh3d\",\"colorbar\":{\"outlinewidth\":0,\"ticks\":\"\"}}],\"scatter\":[{\"fillpattern\":{\"fillmode\":\"overlay\",\"size\":10,\"solidity\":0.2},\"type\":\"scatter\"}],\"parcoords\":[{\"type\":\"parcoords\",\"line\":{\"colorbar\":{\"outlinewidth\":0,\"ticks\":\"\"}}}],\"scatterpolargl\":[{\"type\":\"scatterpolargl\",\"marker\":{\"colorbar\":{\"outlinewidth\":0,\"ticks\":\"\"}}}],\"bar\":[{\"error_x\":{\"color\":\"#2a3f5f\"},\"error_y\":{\"color\":\"#2a3f5f\"},\"marker\":{\"line\":{\"color\":\"#E5ECF6\",\"width\":0.5},\"pattern\":{\"fillmode\":\"overlay\",\"size\":10,\"solidity\":0.2}},\"type\":\"bar\"}],\"scattergeo\":[{\"type\":\"scattergeo\",\"marker\":{\"colorbar\":{\"outlinewidth\":0,\"ticks\":\"\"}}}],\"scatterpolar\":[{\"type\":\"scatterpolar\",\"marker\":{\"colorbar\":{\"outlinewidth\":0,\"ticks\":\"\"}}}],\"histogram\":[{\"marker\":{\"pattern\":{\"fillmode\":\"overlay\",\"size\":10,\"solidity\":0.2}},\"type\":\"histogram\"}],\"scattergl\":[{\"type\":\"scattergl\",\"marker\":{\"colorbar\":{\"outlinewidth\":0,\"ticks\":\"\"}}}],\"scatter3d\":[{\"type\":\"scatter3d\",\"line\":{\"colorbar\":{\"outlinewidth\":0,\"ticks\":\"\"}},\"marker\":{\"colorbar\":{\"outlinewidth\":0,\"ticks\":\"\"}}}],\"scattermapbox\":[{\"type\":\"scattermapbox\",\"marker\":{\"colorbar\":{\"outlinewidth\":0,\"ticks\":\"\"}}}],\"scatterternary\":[{\"type\":\"scatterternary\",\"marker\":{\"colorbar\":{\"outlinewidth\":0,\"ticks\":\"\"}}}],\"scattercarpet\":[{\"type\":\"scattercarpet\",\"marker\":{\"colorbar\":{\"outlinewidth\":0,\"ticks\":\"\"}}}],\"carpet\":[{\"aaxis\":{\"endlinecolor\":\"#2a3f5f\",\"gridcolor\":\"white\",\"linecolor\":\"white\",\"minorgridcolor\":\"white\",\"startlinecolor\":\"#2a3f5f\"},\"baxis\":{\"endlinecolor\":\"#2a3f5f\",\"gridcolor\":\"white\",\"linecolor\":\"white\",\"minorgridcolor\":\"white\",\"startlinecolor\":\"#2a3f5f\"},\"type\":\"carpet\"}],\"table\":[{\"cells\":{\"fill\":{\"color\":\"#EBF0F8\"},\"line\":{\"color\":\"white\"}},\"header\":{\"fill\":{\"color\":\"#C8D4E3\"},\"line\":{\"color\":\"white\"}},\"type\":\"table\"}],\"barpolar\":[{\"marker\":{\"line\":{\"color\":\"#E5ECF6\",\"width\":0.5},\"pattern\":{\"fillmode\":\"overlay\",\"size\":10,\"solidity\":0.2}},\"type\":\"barpolar\"}],\"pie\":[{\"automargin\":true,\"type\":\"pie\"}]},\"layout\":{\"autotypenumbers\":\"strict\",\"colorway\":[\"#636efa\",\"#EF553B\",\"#00cc96\",\"#ab63fa\",\"#FFA15A\",\"#19d3f3\",\"#FF6692\",\"#B6E880\",\"#FF97FF\",\"#FECB52\"],\"font\":{\"color\":\"#2a3f5f\"},\"hovermode\":\"closest\",\"hoverlabel\":{\"align\":\"left\"},\"paper_bgcolor\":\"white\",\"plot_bgcolor\":\"#E5ECF6\",\"polar\":{\"bgcolor\":\"#E5ECF6\",\"angularaxis\":{\"gridcolor\":\"white\",\"linecolor\":\"white\",\"ticks\":\"\"},\"radialaxis\":{\"gridcolor\":\"white\",\"linecolor\":\"white\",\"ticks\":\"\"}},\"ternary\":{\"bgcolor\":\"#E5ECF6\",\"aaxis\":{\"gridcolor\":\"white\",\"linecolor\":\"white\",\"ticks\":\"\"},\"baxis\":{\"gridcolor\":\"white\",\"linecolor\":\"white\",\"ticks\":\"\"},\"caxis\":{\"gridcolor\":\"white\",\"linecolor\":\"white\",\"ticks\":\"\"}},\"coloraxis\":{\"colorbar\":{\"outlinewidth\":0,\"ticks\":\"\"}},\"colorscale\":{\"sequential\":[[0.0,\"#0d0887\"],[0.1111111111111111,\"#46039f\"],[0.2222222222222222,\"#7201a8\"],[0.3333333333333333,\"#9c179e\"],[0.4444444444444444,\"#bd3786\"],[0.5555555555555556,\"#d8576b\"],[0.6666666666666666,\"#ed7953\"],[0.7777777777777778,\"#fb9f3a\"],[0.8888888888888888,\"#fdca26\"],[1.0,\"#f0f921\"]],\"sequentialminus\":[[0.0,\"#0d0887\"],[0.1111111111111111,\"#46039f\"],[0.2222222222222222,\"#7201a8\"],[0.3333333333333333,\"#9c179e\"],[0.4444444444444444,\"#bd3786\"],[0.5555555555555556,\"#d8576b\"],[0.6666666666666666,\"#ed7953\"],[0.7777777777777778,\"#fb9f3a\"],[0.8888888888888888,\"#fdca26\"],[1.0,\"#f0f921\"]],\"diverging\":[[0,\"#8e0152\"],[0.1,\"#c51b7d\"],[0.2,\"#de77ae\"],[0.3,\"#f1b6da\"],[0.4,\"#fde0ef\"],[0.5,\"#f7f7f7\"],[0.6,\"#e6f5d0\"],[0.7,\"#b8e186\"],[0.8,\"#7fbc41\"],[0.9,\"#4d9221\"],[1,\"#276419\"]]},\"xaxis\":{\"gridcolor\":\"white\",\"linecolor\":\"white\",\"ticks\":\"\",\"title\":{\"standoff\":15},\"zerolinecolor\":\"white\",\"automargin\":true,\"zerolinewidth\":2},\"yaxis\":{\"gridcolor\":\"white\",\"linecolor\":\"white\",\"ticks\":\"\",\"title\":{\"standoff\":15},\"zerolinecolor\":\"white\",\"automargin\":true,\"zerolinewidth\":2},\"scene\":{\"xaxis\":{\"backgroundcolor\":\"#E5ECF6\",\"gridcolor\":\"white\",\"linecolor\":\"white\",\"showbackground\":true,\"ticks\":\"\",\"zerolinecolor\":\"white\",\"gridwidth\":2},\"yaxis\":{\"backgroundcolor\":\"#E5ECF6\",\"gridcolor\":\"white\",\"linecolor\":\"white\",\"showbackground\":true,\"ticks\":\"\",\"zerolinecolor\":\"white\",\"gridwidth\":2},\"zaxis\":{\"backgroundcolor\":\"#E5ECF6\",\"gridcolor\":\"white\",\"linecolor\":\"white\",\"showbackground\":true,\"ticks\":\"\",\"zerolinecolor\":\"white\",\"gridwidth\":2}},\"shapedefaults\":{\"line\":{\"color\":\"#2a3f5f\"}},\"annotationdefaults\":{\"arrowcolor\":\"#2a3f5f\",\"arrowhead\":0,\"arrowwidth\":1},\"geo\":{\"bgcolor\":\"white\",\"landcolor\":\"#E5ECF6\",\"subunitcolor\":\"white\",\"showland\":true,\"showlakes\":true,\"lakecolor\":\"white\"},\"title\":{\"x\":0.05},\"mapbox\":{\"style\":\"light\"}}},\"title\":{\"text\":\"Average Expired Token Lifespan by Site\",\"xanchor\":\"left\"},\"height\":700,\"width\":1000,\"yaxis\":{\"title\":{\"text\":\"Average Token Lifespan (days) (std)\"}},\"annotations\":[{\"font\":{\"color\":\"white\"},\"showarrow\":false,\"text\":\"103 days <br> N=164\",\"x\":0,\"y\":90.6219512195122},{\"font\":{\"color\":\"white\"},\"showarrow\":false,\"text\":\"190 days <br> N=50\",\"x\":1,\"y\":177.98},{\"font\":{\"color\":\"white\"},\"showarrow\":false,\"text\":\"135 days <br> N=50\",\"x\":2,\"y\":122.12},{\"font\":{\"color\":\"white\"},\"showarrow\":false,\"text\":\"141 days <br> N=37\",\"x\":3,\"y\":128.0},{\"font\":{\"color\":\"white\"},\"showarrow\":false,\"text\":\"90 days <br> N=31\",\"x\":4,\"y\":77.6774193548387},{\"font\":{\"color\":\"white\"},\"showarrow\":false,\"text\":\"90 days <br> N=18\",\"x\":5,\"y\":77.77777777777777},{\"font\":{\"color\":\"white\"},\"showarrow\":false,\"text\":\"54 days <br> N=17\",\"x\":6,\"y\":41.94117647058823},{\"font\":{\"color\":\"white\"},\"showarrow\":false,\"text\":\"146 days <br> N=16\",\"x\":7,\"y\":133.25},{\"font\":{\"color\":\"white\"},\"showarrow\":false,\"text\":\"97 days <br> N=10\",\"x\":8,\"y\":84.4},{\"font\":{\"color\":\"white\"},\"showarrow\":false,\"text\":\"82 days <br> N=10\",\"x\":9,\"y\":69.6}]},                        {\"responsive\": true}                    ).then(function(){\n",
       "                            \n",
       "var gd = document.getElementById('b73065d4-2439-455f-aa00-dbab0edc7db9');\n",
       "var x = new MutationObserver(function (mutations, observer) {{\n",
       "        var display = window.getComputedStyle(gd).display;\n",
       "        if (!display || display === 'none') {{\n",
       "            console.log([gd, 'removed!']);\n",
       "            Plotly.purge(gd);\n",
       "            observer.disconnect();\n",
       "        }}\n",
       "}});\n",
       "\n",
       "// Listen for the removal of the full notebook cells\n",
       "var notebookContainer = gd.closest('#notebook-container');\n",
       "if (notebookContainer) {{\n",
       "    x.observe(notebookContainer, {childList: true});\n",
       "}}\n",
       "\n",
       "// Listen for the clearing of the current output cell\n",
       "var outputEl = gd.closest('.output');\n",
       "if (outputEl) {{\n",
       "    x.observe(outputEl, {childList: true});\n",
       "}}\n",
       "\n",
       "                        })                };                });            </script>        </div>"
      ]
     },
     "metadata": {},
     "output_type": "display_data"
    }
   ],
   "source": [
    "fig = go.Figure()\n",
    "fig.add_trace(go.Bar(\n",
    "    name='',\n",
    "    x=grp['provider_d'], y=grp['mean'].round(0), #text=grp['count'], texttemplate=\"%{y} d<br>N=%{text}\",\n",
    "    error_y=dict(type='data', array=grp['std'], color='black')\n",
    "))\n",
    "# fig.add_trace(go.Bar(\n",
    "#     name='Experimental',\n",
    "#     x=['Trial 1', 'Trial 2', 'Trial 3'], y=[4, 7, 3],\n",
    "#     error_y=dict(type='data', array=[0.5, 1, 2])\n",
    "# ))\n",
    "# fig.update_layout(barmode='group')\n",
    "fig.update_layout(\n",
    "#     xaxis_title=\"X Axis Title\",\n",
    "    height=700,\n",
    "    width=1000,\n",
    "    yaxis_title=\"Average Token Lifespan (days) (std)\",\n",
    "    title={\n",
    "        'text': \"Average Expired Token Lifespan by Site\",\n",
    "        'xanchor': 'left',\n",
    "    })\n",
    "i=0\n",
    "text_height = 5\n",
    "for i, x in enumerate(grp.index):\n",
    "    fig.add_annotation(\n",
    "        x=x,\n",
    "        y=grp['mean'][i]-13, \n",
    "        text=f\"{str(int(grp['mean'][i]))} days <br> N={str(grp['expired'][i])}\",\n",
    "        showarrow=False,\n",
    "        font=(dict(color='white'))\n",
    "    )\n",
    "    i = i+1\n",
    "fig.show()"
   ]
  },
  {
   "cell_type": "code",
   "execution_count": 223,
   "id": "98f1173f",
   "metadata": {},
   "outputs": [
    {
     "data": {
      "application/vnd.plotly.v1+json": {
       "config": {
        "plotlyServerURL": "https://plot.ly"
       },
       "data": [
        {
         "name": "Live",
         "type": "bar",
         "x": [
          "University of Utah Healthcare",
          "Sutter Health",
          "UCSF Health",
          "NYU Langone MC",
          "Montefiore MC",
          "Mount Sinai Health System",
          "Kaiser Permanente Northern Ca.",
          "Ochsner Health System",
          "Brown Toland Physicians",
          "Penn Medicine"
         ],
         "y": [
          0.010000000000000009,
          0.8,
          0.76,
          0.69,
          0.08999999999999997,
          0.09999999999999998,
          0.51,
          0.77,
          0.29000000000000004,
          0.08999999999999997
         ]
        },
        {
         "name": "Expired",
         "type": "bar",
         "x": [
          "University of Utah Healthcare",
          "Sutter Health",
          "UCSF Health",
          "NYU Langone MC",
          "Montefiore MC",
          "Mount Sinai Health System",
          "Kaiser Permanente Northern Ca.",
          "Ochsner Health System",
          "Brown Toland Physicians",
          "Penn Medicine"
         ],
         "y": [
          0.9879518072289156,
          0.20408163265306123,
          0.24038461538461542,
          0.31355932203389836,
          0.9117647058823529,
          0.9,
          0.48571428571428577,
          0.22535211267605637,
          0.7142857142857143,
          0.9090909090909091
         ]
        }
       ],
       "layout": {
        "annotations": [
         {
          "font": {
           "color": "white"
          },
          "showarrow": false,
          "text": "0.01",
          "x": "University of Utah Healthcare",
          "y": 0.05204819277108438
         },
         {
          "font": {
           "color": "white"
          },
          "showarrow": false,
          "text": "0.8",
          "x": "Sutter Health",
          "y": 0.8359183673469388
         },
         {
          "font": {
           "color": "white"
          },
          "showarrow": false,
          "text": "0.76",
          "x": "UCSF Health",
          "y": 0.7996153846153846
         },
         {
          "font": {
           "color": "white"
          },
          "showarrow": false,
          "text": "0.69",
          "x": "NYU Langone MC",
          "y": 0.7264406779661017
         },
         {
          "font": {
           "color": "white"
          },
          "showarrow": false,
          "text": "0.09",
          "x": "Montefiore MC",
          "y": 0.1282352941176471
         },
         {
          "font": {
           "color": "white"
          },
          "showarrow": false,
          "text": "0.1",
          "x": "Mount Sinai Health System",
          "y": 0.13999999999999999
         },
         {
          "font": {
           "color": "white"
          },
          "showarrow": false,
          "text": "0.51",
          "x": "Kaiser Permanente Northern Ca.",
          "y": 0.5542857142857143
         },
         {
          "font": {
           "color": "white"
          },
          "showarrow": false,
          "text": "0.77",
          "x": "Ochsner Health System",
          "y": 0.8146478873239437
         },
         {
          "font": {
           "color": "white"
          },
          "showarrow": false,
          "text": "0.29",
          "x": "Brown Toland Physicians",
          "y": 0.3257142857142857
         },
         {
          "font": {
           "color": "white"
          },
          "showarrow": false,
          "text": "0.09",
          "x": "Penn Medicine",
          "y": 0.13090909090909095
         }
        ],
        "barmode": "stack",
        "height": 500,
        "template": {
         "data": {
          "bar": [
           {
            "error_x": {
             "color": "#2a3f5f"
            },
            "error_y": {
             "color": "#2a3f5f"
            },
            "marker": {
             "line": {
              "color": "#E5ECF6",
              "width": 0.5
             },
             "pattern": {
              "fillmode": "overlay",
              "size": 10,
              "solidity": 0.2
             }
            },
            "type": "bar"
           }
          ],
          "barpolar": [
           {
            "marker": {
             "line": {
              "color": "#E5ECF6",
              "width": 0.5
             },
             "pattern": {
              "fillmode": "overlay",
              "size": 10,
              "solidity": 0.2
             }
            },
            "type": "barpolar"
           }
          ],
          "carpet": [
           {
            "aaxis": {
             "endlinecolor": "#2a3f5f",
             "gridcolor": "white",
             "linecolor": "white",
             "minorgridcolor": "white",
             "startlinecolor": "#2a3f5f"
            },
            "baxis": {
             "endlinecolor": "#2a3f5f",
             "gridcolor": "white",
             "linecolor": "white",
             "minorgridcolor": "white",
             "startlinecolor": "#2a3f5f"
            },
            "type": "carpet"
           }
          ],
          "choropleth": [
           {
            "colorbar": {
             "outlinewidth": 0,
             "ticks": ""
            },
            "type": "choropleth"
           }
          ],
          "contour": [
           {
            "colorbar": {
             "outlinewidth": 0,
             "ticks": ""
            },
            "colorscale": [
             [
              0,
              "#0d0887"
             ],
             [
              0.1111111111111111,
              "#46039f"
             ],
             [
              0.2222222222222222,
              "#7201a8"
             ],
             [
              0.3333333333333333,
              "#9c179e"
             ],
             [
              0.4444444444444444,
              "#bd3786"
             ],
             [
              0.5555555555555556,
              "#d8576b"
             ],
             [
              0.6666666666666666,
              "#ed7953"
             ],
             [
              0.7777777777777778,
              "#fb9f3a"
             ],
             [
              0.8888888888888888,
              "#fdca26"
             ],
             [
              1,
              "#f0f921"
             ]
            ],
            "type": "contour"
           }
          ],
          "contourcarpet": [
           {
            "colorbar": {
             "outlinewidth": 0,
             "ticks": ""
            },
            "type": "contourcarpet"
           }
          ],
          "heatmap": [
           {
            "colorbar": {
             "outlinewidth": 0,
             "ticks": ""
            },
            "colorscale": [
             [
              0,
              "#0d0887"
             ],
             [
              0.1111111111111111,
              "#46039f"
             ],
             [
              0.2222222222222222,
              "#7201a8"
             ],
             [
              0.3333333333333333,
              "#9c179e"
             ],
             [
              0.4444444444444444,
              "#bd3786"
             ],
             [
              0.5555555555555556,
              "#d8576b"
             ],
             [
              0.6666666666666666,
              "#ed7953"
             ],
             [
              0.7777777777777778,
              "#fb9f3a"
             ],
             [
              0.8888888888888888,
              "#fdca26"
             ],
             [
              1,
              "#f0f921"
             ]
            ],
            "type": "heatmap"
           }
          ],
          "heatmapgl": [
           {
            "colorbar": {
             "outlinewidth": 0,
             "ticks": ""
            },
            "colorscale": [
             [
              0,
              "#0d0887"
             ],
             [
              0.1111111111111111,
              "#46039f"
             ],
             [
              0.2222222222222222,
              "#7201a8"
             ],
             [
              0.3333333333333333,
              "#9c179e"
             ],
             [
              0.4444444444444444,
              "#bd3786"
             ],
             [
              0.5555555555555556,
              "#d8576b"
             ],
             [
              0.6666666666666666,
              "#ed7953"
             ],
             [
              0.7777777777777778,
              "#fb9f3a"
             ],
             [
              0.8888888888888888,
              "#fdca26"
             ],
             [
              1,
              "#f0f921"
             ]
            ],
            "type": "heatmapgl"
           }
          ],
          "histogram": [
           {
            "marker": {
             "pattern": {
              "fillmode": "overlay",
              "size": 10,
              "solidity": 0.2
             }
            },
            "type": "histogram"
           }
          ],
          "histogram2d": [
           {
            "colorbar": {
             "outlinewidth": 0,
             "ticks": ""
            },
            "colorscale": [
             [
              0,
              "#0d0887"
             ],
             [
              0.1111111111111111,
              "#46039f"
             ],
             [
              0.2222222222222222,
              "#7201a8"
             ],
             [
              0.3333333333333333,
              "#9c179e"
             ],
             [
              0.4444444444444444,
              "#bd3786"
             ],
             [
              0.5555555555555556,
              "#d8576b"
             ],
             [
              0.6666666666666666,
              "#ed7953"
             ],
             [
              0.7777777777777778,
              "#fb9f3a"
             ],
             [
              0.8888888888888888,
              "#fdca26"
             ],
             [
              1,
              "#f0f921"
             ]
            ],
            "type": "histogram2d"
           }
          ],
          "histogram2dcontour": [
           {
            "colorbar": {
             "outlinewidth": 0,
             "ticks": ""
            },
            "colorscale": [
             [
              0,
              "#0d0887"
             ],
             [
              0.1111111111111111,
              "#46039f"
             ],
             [
              0.2222222222222222,
              "#7201a8"
             ],
             [
              0.3333333333333333,
              "#9c179e"
             ],
             [
              0.4444444444444444,
              "#bd3786"
             ],
             [
              0.5555555555555556,
              "#d8576b"
             ],
             [
              0.6666666666666666,
              "#ed7953"
             ],
             [
              0.7777777777777778,
              "#fb9f3a"
             ],
             [
              0.8888888888888888,
              "#fdca26"
             ],
             [
              1,
              "#f0f921"
             ]
            ],
            "type": "histogram2dcontour"
           }
          ],
          "mesh3d": [
           {
            "colorbar": {
             "outlinewidth": 0,
             "ticks": ""
            },
            "type": "mesh3d"
           }
          ],
          "parcoords": [
           {
            "line": {
             "colorbar": {
              "outlinewidth": 0,
              "ticks": ""
             }
            },
            "type": "parcoords"
           }
          ],
          "pie": [
           {
            "automargin": true,
            "type": "pie"
           }
          ],
          "scatter": [
           {
            "fillpattern": {
             "fillmode": "overlay",
             "size": 10,
             "solidity": 0.2
            },
            "type": "scatter"
           }
          ],
          "scatter3d": [
           {
            "line": {
             "colorbar": {
              "outlinewidth": 0,
              "ticks": ""
             }
            },
            "marker": {
             "colorbar": {
              "outlinewidth": 0,
              "ticks": ""
             }
            },
            "type": "scatter3d"
           }
          ],
          "scattercarpet": [
           {
            "marker": {
             "colorbar": {
              "outlinewidth": 0,
              "ticks": ""
             }
            },
            "type": "scattercarpet"
           }
          ],
          "scattergeo": [
           {
            "marker": {
             "colorbar": {
              "outlinewidth": 0,
              "ticks": ""
             }
            },
            "type": "scattergeo"
           }
          ],
          "scattergl": [
           {
            "marker": {
             "colorbar": {
              "outlinewidth": 0,
              "ticks": ""
             }
            },
            "type": "scattergl"
           }
          ],
          "scattermapbox": [
           {
            "marker": {
             "colorbar": {
              "outlinewidth": 0,
              "ticks": ""
             }
            },
            "type": "scattermapbox"
           }
          ],
          "scatterpolar": [
           {
            "marker": {
             "colorbar": {
              "outlinewidth": 0,
              "ticks": ""
             }
            },
            "type": "scatterpolar"
           }
          ],
          "scatterpolargl": [
           {
            "marker": {
             "colorbar": {
              "outlinewidth": 0,
              "ticks": ""
             }
            },
            "type": "scatterpolargl"
           }
          ],
          "scatterternary": [
           {
            "marker": {
             "colorbar": {
              "outlinewidth": 0,
              "ticks": ""
             }
            },
            "type": "scatterternary"
           }
          ],
          "surface": [
           {
            "colorbar": {
             "outlinewidth": 0,
             "ticks": ""
            },
            "colorscale": [
             [
              0,
              "#0d0887"
             ],
             [
              0.1111111111111111,
              "#46039f"
             ],
             [
              0.2222222222222222,
              "#7201a8"
             ],
             [
              0.3333333333333333,
              "#9c179e"
             ],
             [
              0.4444444444444444,
              "#bd3786"
             ],
             [
              0.5555555555555556,
              "#d8576b"
             ],
             [
              0.6666666666666666,
              "#ed7953"
             ],
             [
              0.7777777777777778,
              "#fb9f3a"
             ],
             [
              0.8888888888888888,
              "#fdca26"
             ],
             [
              1,
              "#f0f921"
             ]
            ],
            "type": "surface"
           }
          ],
          "table": [
           {
            "cells": {
             "fill": {
              "color": "#EBF0F8"
             },
             "line": {
              "color": "white"
             }
            },
            "header": {
             "fill": {
              "color": "#C8D4E3"
             },
             "line": {
              "color": "white"
             }
            },
            "type": "table"
           }
          ]
         },
         "layout": {
          "annotationdefaults": {
           "arrowcolor": "#2a3f5f",
           "arrowhead": 0,
           "arrowwidth": 1
          },
          "autotypenumbers": "strict",
          "coloraxis": {
           "colorbar": {
            "outlinewidth": 0,
            "ticks": ""
           }
          },
          "colorscale": {
           "diverging": [
            [
             0,
             "#8e0152"
            ],
            [
             0.1,
             "#c51b7d"
            ],
            [
             0.2,
             "#de77ae"
            ],
            [
             0.3,
             "#f1b6da"
            ],
            [
             0.4,
             "#fde0ef"
            ],
            [
             0.5,
             "#f7f7f7"
            ],
            [
             0.6,
             "#e6f5d0"
            ],
            [
             0.7,
             "#b8e186"
            ],
            [
             0.8,
             "#7fbc41"
            ],
            [
             0.9,
             "#4d9221"
            ],
            [
             1,
             "#276419"
            ]
           ],
           "sequential": [
            [
             0,
             "#0d0887"
            ],
            [
             0.1111111111111111,
             "#46039f"
            ],
            [
             0.2222222222222222,
             "#7201a8"
            ],
            [
             0.3333333333333333,
             "#9c179e"
            ],
            [
             0.4444444444444444,
             "#bd3786"
            ],
            [
             0.5555555555555556,
             "#d8576b"
            ],
            [
             0.6666666666666666,
             "#ed7953"
            ],
            [
             0.7777777777777778,
             "#fb9f3a"
            ],
            [
             0.8888888888888888,
             "#fdca26"
            ],
            [
             1,
             "#f0f921"
            ]
           ],
           "sequentialminus": [
            [
             0,
             "#0d0887"
            ],
            [
             0.1111111111111111,
             "#46039f"
            ],
            [
             0.2222222222222222,
             "#7201a8"
            ],
            [
             0.3333333333333333,
             "#9c179e"
            ],
            [
             0.4444444444444444,
             "#bd3786"
            ],
            [
             0.5555555555555556,
             "#d8576b"
            ],
            [
             0.6666666666666666,
             "#ed7953"
            ],
            [
             0.7777777777777778,
             "#fb9f3a"
            ],
            [
             0.8888888888888888,
             "#fdca26"
            ],
            [
             1,
             "#f0f921"
            ]
           ]
          },
          "colorway": [
           "#636efa",
           "#EF553B",
           "#00cc96",
           "#ab63fa",
           "#FFA15A",
           "#19d3f3",
           "#FF6692",
           "#B6E880",
           "#FF97FF",
           "#FECB52"
          ],
          "font": {
           "color": "#2a3f5f"
          },
          "geo": {
           "bgcolor": "white",
           "lakecolor": "white",
           "landcolor": "#E5ECF6",
           "showlakes": true,
           "showland": true,
           "subunitcolor": "white"
          },
          "hoverlabel": {
           "align": "left"
          },
          "hovermode": "closest",
          "mapbox": {
           "style": "light"
          },
          "paper_bgcolor": "white",
          "plot_bgcolor": "#E5ECF6",
          "polar": {
           "angularaxis": {
            "gridcolor": "white",
            "linecolor": "white",
            "ticks": ""
           },
           "bgcolor": "#E5ECF6",
           "radialaxis": {
            "gridcolor": "white",
            "linecolor": "white",
            "ticks": ""
           }
          },
          "scene": {
           "xaxis": {
            "backgroundcolor": "#E5ECF6",
            "gridcolor": "white",
            "gridwidth": 2,
            "linecolor": "white",
            "showbackground": true,
            "ticks": "",
            "zerolinecolor": "white"
           },
           "yaxis": {
            "backgroundcolor": "#E5ECF6",
            "gridcolor": "white",
            "gridwidth": 2,
            "linecolor": "white",
            "showbackground": true,
            "ticks": "",
            "zerolinecolor": "white"
           },
           "zaxis": {
            "backgroundcolor": "#E5ECF6",
            "gridcolor": "white",
            "gridwidth": 2,
            "linecolor": "white",
            "showbackground": true,
            "ticks": "",
            "zerolinecolor": "white"
           }
          },
          "shapedefaults": {
           "line": {
            "color": "#2a3f5f"
           }
          },
          "ternary": {
           "aaxis": {
            "gridcolor": "white",
            "linecolor": "white",
            "ticks": ""
           },
           "baxis": {
            "gridcolor": "white",
            "linecolor": "white",
            "ticks": ""
           },
           "bgcolor": "#E5ECF6",
           "caxis": {
            "gridcolor": "white",
            "linecolor": "white",
            "ticks": ""
           }
          },
          "title": {
           "x": 0.05
          },
          "xaxis": {
           "automargin": true,
           "gridcolor": "white",
           "linecolor": "white",
           "ticks": "",
           "title": {
            "standoff": 15
           },
           "zerolinecolor": "white",
           "zerolinewidth": 2
          },
          "yaxis": {
           "automargin": true,
           "gridcolor": "white",
           "linecolor": "white",
           "ticks": "",
           "title": {
            "standoff": 15
           },
           "zerolinecolor": "white",
           "zerolinewidth": 2
          }
         }
        },
        "title": {
         "text": "Proportion of tokens expired by site",
         "xanchor": "left"
        },
        "width": 1000,
        "yaxis": {
         "title": {
          "text": "Propotion of tokens live/expired"
         }
        }
       }
      },
      "text/html": [
       "<div>                            <div id=\"e5cf6528-b1a9-450e-be02-5a30ac8d945b\" class=\"plotly-graph-div\" style=\"height:500px; width:1000px;\"></div>            <script type=\"text/javascript\">                require([\"plotly\"], function(Plotly) {                    window.PLOTLYENV=window.PLOTLYENV || {};                                    if (document.getElementById(\"e5cf6528-b1a9-450e-be02-5a30ac8d945b\")) {                    Plotly.newPlot(                        \"e5cf6528-b1a9-450e-be02-5a30ac8d945b\",                        [{\"name\":\"Live\",\"x\":[\"University of Utah Healthcare\",\"Sutter Health\",\"UCSF Health\",\"NYU Langone MC\",\"Montefiore MC\",\"Mount Sinai Health System\",\"Kaiser Permanente Northern Ca.\",\"Ochsner Health System\",\"Brown Toland Physicians\",\"Penn Medicine\"],\"y\":[0.010000000000000009,0.8,0.76,0.69,0.08999999999999997,0.09999999999999998,0.51,0.77,0.29000000000000004,0.08999999999999997],\"type\":\"bar\"},{\"name\":\"Expired\",\"x\":[\"University of Utah Healthcare\",\"Sutter Health\",\"UCSF Health\",\"NYU Langone MC\",\"Montefiore MC\",\"Mount Sinai Health System\",\"Kaiser Permanente Northern Ca.\",\"Ochsner Health System\",\"Brown Toland Physicians\",\"Penn Medicine\"],\"y\":[0.9879518072289156,0.20408163265306123,0.24038461538461542,0.31355932203389836,0.9117647058823529,0.9,0.48571428571428577,0.22535211267605637,0.7142857142857143,0.9090909090909091],\"type\":\"bar\"}],                        {\"template\":{\"data\":{\"histogram2dcontour\":[{\"type\":\"histogram2dcontour\",\"colorbar\":{\"outlinewidth\":0,\"ticks\":\"\"},\"colorscale\":[[0.0,\"#0d0887\"],[0.1111111111111111,\"#46039f\"],[0.2222222222222222,\"#7201a8\"],[0.3333333333333333,\"#9c179e\"],[0.4444444444444444,\"#bd3786\"],[0.5555555555555556,\"#d8576b\"],[0.6666666666666666,\"#ed7953\"],[0.7777777777777778,\"#fb9f3a\"],[0.8888888888888888,\"#fdca26\"],[1.0,\"#f0f921\"]]}],\"choropleth\":[{\"type\":\"choropleth\",\"colorbar\":{\"outlinewidth\":0,\"ticks\":\"\"}}],\"histogram2d\":[{\"type\":\"histogram2d\",\"colorbar\":{\"outlinewidth\":0,\"ticks\":\"\"},\"colorscale\":[[0.0,\"#0d0887\"],[0.1111111111111111,\"#46039f\"],[0.2222222222222222,\"#7201a8\"],[0.3333333333333333,\"#9c179e\"],[0.4444444444444444,\"#bd3786\"],[0.5555555555555556,\"#d8576b\"],[0.6666666666666666,\"#ed7953\"],[0.7777777777777778,\"#fb9f3a\"],[0.8888888888888888,\"#fdca26\"],[1.0,\"#f0f921\"]]}],\"heatmap\":[{\"type\":\"heatmap\",\"colorbar\":{\"outlinewidth\":0,\"ticks\":\"\"},\"colorscale\":[[0.0,\"#0d0887\"],[0.1111111111111111,\"#46039f\"],[0.2222222222222222,\"#7201a8\"],[0.3333333333333333,\"#9c179e\"],[0.4444444444444444,\"#bd3786\"],[0.5555555555555556,\"#d8576b\"],[0.6666666666666666,\"#ed7953\"],[0.7777777777777778,\"#fb9f3a\"],[0.8888888888888888,\"#fdca26\"],[1.0,\"#f0f921\"]]}],\"heatmapgl\":[{\"type\":\"heatmapgl\",\"colorbar\":{\"outlinewidth\":0,\"ticks\":\"\"},\"colorscale\":[[0.0,\"#0d0887\"],[0.1111111111111111,\"#46039f\"],[0.2222222222222222,\"#7201a8\"],[0.3333333333333333,\"#9c179e\"],[0.4444444444444444,\"#bd3786\"],[0.5555555555555556,\"#d8576b\"],[0.6666666666666666,\"#ed7953\"],[0.7777777777777778,\"#fb9f3a\"],[0.8888888888888888,\"#fdca26\"],[1.0,\"#f0f921\"]]}],\"contourcarpet\":[{\"type\":\"contourcarpet\",\"colorbar\":{\"outlinewidth\":0,\"ticks\":\"\"}}],\"contour\":[{\"type\":\"contour\",\"colorbar\":{\"outlinewidth\":0,\"ticks\":\"\"},\"colorscale\":[[0.0,\"#0d0887\"],[0.1111111111111111,\"#46039f\"],[0.2222222222222222,\"#7201a8\"],[0.3333333333333333,\"#9c179e\"],[0.4444444444444444,\"#bd3786\"],[0.5555555555555556,\"#d8576b\"],[0.6666666666666666,\"#ed7953\"],[0.7777777777777778,\"#fb9f3a\"],[0.8888888888888888,\"#fdca26\"],[1.0,\"#f0f921\"]]}],\"surface\":[{\"type\":\"surface\",\"colorbar\":{\"outlinewidth\":0,\"ticks\":\"\"},\"colorscale\":[[0.0,\"#0d0887\"],[0.1111111111111111,\"#46039f\"],[0.2222222222222222,\"#7201a8\"],[0.3333333333333333,\"#9c179e\"],[0.4444444444444444,\"#bd3786\"],[0.5555555555555556,\"#d8576b\"],[0.6666666666666666,\"#ed7953\"],[0.7777777777777778,\"#fb9f3a\"],[0.8888888888888888,\"#fdca26\"],[1.0,\"#f0f921\"]]}],\"mesh3d\":[{\"type\":\"mesh3d\",\"colorbar\":{\"outlinewidth\":0,\"ticks\":\"\"}}],\"scatter\":[{\"fillpattern\":{\"fillmode\":\"overlay\",\"size\":10,\"solidity\":0.2},\"type\":\"scatter\"}],\"parcoords\":[{\"type\":\"parcoords\",\"line\":{\"colorbar\":{\"outlinewidth\":0,\"ticks\":\"\"}}}],\"scatterpolargl\":[{\"type\":\"scatterpolargl\",\"marker\":{\"colorbar\":{\"outlinewidth\":0,\"ticks\":\"\"}}}],\"bar\":[{\"error_x\":{\"color\":\"#2a3f5f\"},\"error_y\":{\"color\":\"#2a3f5f\"},\"marker\":{\"line\":{\"color\":\"#E5ECF6\",\"width\":0.5},\"pattern\":{\"fillmode\":\"overlay\",\"size\":10,\"solidity\":0.2}},\"type\":\"bar\"}],\"scattergeo\":[{\"type\":\"scattergeo\",\"marker\":{\"colorbar\":{\"outlinewidth\":0,\"ticks\":\"\"}}}],\"scatterpolar\":[{\"type\":\"scatterpolar\",\"marker\":{\"colorbar\":{\"outlinewidth\":0,\"ticks\":\"\"}}}],\"histogram\":[{\"marker\":{\"pattern\":{\"fillmode\":\"overlay\",\"size\":10,\"solidity\":0.2}},\"type\":\"histogram\"}],\"scattergl\":[{\"type\":\"scattergl\",\"marker\":{\"colorbar\":{\"outlinewidth\":0,\"ticks\":\"\"}}}],\"scatter3d\":[{\"type\":\"scatter3d\",\"line\":{\"colorbar\":{\"outlinewidth\":0,\"ticks\":\"\"}},\"marker\":{\"colorbar\":{\"outlinewidth\":0,\"ticks\":\"\"}}}],\"scattermapbox\":[{\"type\":\"scattermapbox\",\"marker\":{\"colorbar\":{\"outlinewidth\":0,\"ticks\":\"\"}}}],\"scatterternary\":[{\"type\":\"scatterternary\",\"marker\":{\"colorbar\":{\"outlinewidth\":0,\"ticks\":\"\"}}}],\"scattercarpet\":[{\"type\":\"scattercarpet\",\"marker\":{\"colorbar\":{\"outlinewidth\":0,\"ticks\":\"\"}}}],\"carpet\":[{\"aaxis\":{\"endlinecolor\":\"#2a3f5f\",\"gridcolor\":\"white\",\"linecolor\":\"white\",\"minorgridcolor\":\"white\",\"startlinecolor\":\"#2a3f5f\"},\"baxis\":{\"endlinecolor\":\"#2a3f5f\",\"gridcolor\":\"white\",\"linecolor\":\"white\",\"minorgridcolor\":\"white\",\"startlinecolor\":\"#2a3f5f\"},\"type\":\"carpet\"}],\"table\":[{\"cells\":{\"fill\":{\"color\":\"#EBF0F8\"},\"line\":{\"color\":\"white\"}},\"header\":{\"fill\":{\"color\":\"#C8D4E3\"},\"line\":{\"color\":\"white\"}},\"type\":\"table\"}],\"barpolar\":[{\"marker\":{\"line\":{\"color\":\"#E5ECF6\",\"width\":0.5},\"pattern\":{\"fillmode\":\"overlay\",\"size\":10,\"solidity\":0.2}},\"type\":\"barpolar\"}],\"pie\":[{\"automargin\":true,\"type\":\"pie\"}]},\"layout\":{\"autotypenumbers\":\"strict\",\"colorway\":[\"#636efa\",\"#EF553B\",\"#00cc96\",\"#ab63fa\",\"#FFA15A\",\"#19d3f3\",\"#FF6692\",\"#B6E880\",\"#FF97FF\",\"#FECB52\"],\"font\":{\"color\":\"#2a3f5f\"},\"hovermode\":\"closest\",\"hoverlabel\":{\"align\":\"left\"},\"paper_bgcolor\":\"white\",\"plot_bgcolor\":\"#E5ECF6\",\"polar\":{\"bgcolor\":\"#E5ECF6\",\"angularaxis\":{\"gridcolor\":\"white\",\"linecolor\":\"white\",\"ticks\":\"\"},\"radialaxis\":{\"gridcolor\":\"white\",\"linecolor\":\"white\",\"ticks\":\"\"}},\"ternary\":{\"bgcolor\":\"#E5ECF6\",\"aaxis\":{\"gridcolor\":\"white\",\"linecolor\":\"white\",\"ticks\":\"\"},\"baxis\":{\"gridcolor\":\"white\",\"linecolor\":\"white\",\"ticks\":\"\"},\"caxis\":{\"gridcolor\":\"white\",\"linecolor\":\"white\",\"ticks\":\"\"}},\"coloraxis\":{\"colorbar\":{\"outlinewidth\":0,\"ticks\":\"\"}},\"colorscale\":{\"sequential\":[[0.0,\"#0d0887\"],[0.1111111111111111,\"#46039f\"],[0.2222222222222222,\"#7201a8\"],[0.3333333333333333,\"#9c179e\"],[0.4444444444444444,\"#bd3786\"],[0.5555555555555556,\"#d8576b\"],[0.6666666666666666,\"#ed7953\"],[0.7777777777777778,\"#fb9f3a\"],[0.8888888888888888,\"#fdca26\"],[1.0,\"#f0f921\"]],\"sequentialminus\":[[0.0,\"#0d0887\"],[0.1111111111111111,\"#46039f\"],[0.2222222222222222,\"#7201a8\"],[0.3333333333333333,\"#9c179e\"],[0.4444444444444444,\"#bd3786\"],[0.5555555555555556,\"#d8576b\"],[0.6666666666666666,\"#ed7953\"],[0.7777777777777778,\"#fb9f3a\"],[0.8888888888888888,\"#fdca26\"],[1.0,\"#f0f921\"]],\"diverging\":[[0,\"#8e0152\"],[0.1,\"#c51b7d\"],[0.2,\"#de77ae\"],[0.3,\"#f1b6da\"],[0.4,\"#fde0ef\"],[0.5,\"#f7f7f7\"],[0.6,\"#e6f5d0\"],[0.7,\"#b8e186\"],[0.8,\"#7fbc41\"],[0.9,\"#4d9221\"],[1,\"#276419\"]]},\"xaxis\":{\"gridcolor\":\"white\",\"linecolor\":\"white\",\"ticks\":\"\",\"title\":{\"standoff\":15},\"zerolinecolor\":\"white\",\"automargin\":true,\"zerolinewidth\":2},\"yaxis\":{\"gridcolor\":\"white\",\"linecolor\":\"white\",\"ticks\":\"\",\"title\":{\"standoff\":15},\"zerolinecolor\":\"white\",\"automargin\":true,\"zerolinewidth\":2},\"scene\":{\"xaxis\":{\"backgroundcolor\":\"#E5ECF6\",\"gridcolor\":\"white\",\"linecolor\":\"white\",\"showbackground\":true,\"ticks\":\"\",\"zerolinecolor\":\"white\",\"gridwidth\":2},\"yaxis\":{\"backgroundcolor\":\"#E5ECF6\",\"gridcolor\":\"white\",\"linecolor\":\"white\",\"showbackground\":true,\"ticks\":\"\",\"zerolinecolor\":\"white\",\"gridwidth\":2},\"zaxis\":{\"backgroundcolor\":\"#E5ECF6\",\"gridcolor\":\"white\",\"linecolor\":\"white\",\"showbackground\":true,\"ticks\":\"\",\"zerolinecolor\":\"white\",\"gridwidth\":2}},\"shapedefaults\":{\"line\":{\"color\":\"#2a3f5f\"}},\"annotationdefaults\":{\"arrowcolor\":\"#2a3f5f\",\"arrowhead\":0,\"arrowwidth\":1},\"geo\":{\"bgcolor\":\"white\",\"landcolor\":\"#E5ECF6\",\"subunitcolor\":\"white\",\"showland\":true,\"showlakes\":true,\"lakecolor\":\"white\"},\"title\":{\"x\":0.05},\"mapbox\":{\"style\":\"light\"}}},\"barmode\":\"stack\",\"title\":{\"text\":\"Proportion of tokens expired by site\",\"xanchor\":\"left\"},\"height\":500,\"width\":1000,\"yaxis\":{\"title\":{\"text\":\"Propotion of tokens live/expired\"}},\"annotations\":[{\"font\":{\"color\":\"white\"},\"showarrow\":false,\"text\":\"0.01\",\"x\":\"University of Utah Healthcare\",\"y\":0.05204819277108438},{\"font\":{\"color\":\"white\"},\"showarrow\":false,\"text\":\"0.8\",\"x\":\"Sutter Health\",\"y\":0.8359183673469388},{\"font\":{\"color\":\"white\"},\"showarrow\":false,\"text\":\"0.76\",\"x\":\"UCSF Health\",\"y\":0.7996153846153846},{\"font\":{\"color\":\"white\"},\"showarrow\":false,\"text\":\"0.69\",\"x\":\"NYU Langone MC\",\"y\":0.7264406779661017},{\"font\":{\"color\":\"white\"},\"showarrow\":false,\"text\":\"0.09\",\"x\":\"Montefiore MC\",\"y\":0.1282352941176471},{\"font\":{\"color\":\"white\"},\"showarrow\":false,\"text\":\"0.1\",\"x\":\"Mount Sinai Health System\",\"y\":0.13999999999999999},{\"font\":{\"color\":\"white\"},\"showarrow\":false,\"text\":\"0.51\",\"x\":\"Kaiser Permanente Northern Ca.\",\"y\":0.5542857142857143},{\"font\":{\"color\":\"white\"},\"showarrow\":false,\"text\":\"0.77\",\"x\":\"Ochsner Health System\",\"y\":0.8146478873239437},{\"font\":{\"color\":\"white\"},\"showarrow\":false,\"text\":\"0.29\",\"x\":\"Brown Toland Physicians\",\"y\":0.3257142857142857},{\"font\":{\"color\":\"white\"},\"showarrow\":false,\"text\":\"0.09\",\"x\":\"Penn Medicine\",\"y\":0.13090909090909095}]},                        {\"responsive\": true}                    ).then(function(){\n",
       "                            \n",
       "var gd = document.getElementById('e5cf6528-b1a9-450e-be02-5a30ac8d945b');\n",
       "var x = new MutationObserver(function (mutations, observer) {{\n",
       "        var display = window.getComputedStyle(gd).display;\n",
       "        if (!display || display === 'none') {{\n",
       "            console.log([gd, 'removed!']);\n",
       "            Plotly.purge(gd);\n",
       "            observer.disconnect();\n",
       "        }}\n",
       "}});\n",
       "\n",
       "// Listen for the removal of the full notebook cells\n",
       "var notebookContainer = gd.closest('#notebook-container');\n",
       "if (notebookContainer) {{\n",
       "    x.observe(notebookContainer, {childList: true});\n",
       "}}\n",
       "\n",
       "// Listen for the clearing of the current output cell\n",
       "var outputEl = gd.closest('.output');\n",
       "if (outputEl) {{\n",
       "    x.observe(outputEl, {childList: true});\n",
       "}}\n",
       "\n",
       "                        })                };                });            </script>        </div>"
      ]
     },
     "metadata": {},
     "output_type": "display_data"
    }
   ],
   "source": [
    "import plotly.graph_objects as go\n",
    "\n",
    "fig = go.Figure(data=[\n",
    "    go.Bar(name='Live', x=grp['provider_d'], y=1-grp['expired_percent'].round(2)),\n",
    "    go.Bar(name='Expired', x=grp['provider_d'], y=grp['expired_percent']),\n",
    "])\n",
    "# Change the bar mode\n",
    "fig.update_layout(barmode='stack')\n",
    "fig.update_layout(\n",
    "#     xaxis_title=\"X Axis Title\",\n",
    "    height=500,\n",
    "    width=1000,\n",
    "    yaxis_title=\"Propotion of tokens live/expired\",\n",
    "    title={\n",
    "        'text': \"Proportion of tokens expired by site\",\n",
    "        'xanchor': 'left',\n",
    "    })\n",
    "i=0\n",
    "text_height = 5\n",
    "for i, x in enumerate(grp['provider_d']):\n",
    "    fig.add_annotation(\n",
    "        x=x,\n",
    "        y=1-grp['expired_percent'][i]+0.04, \n",
    "        text=str((1-grp['expired_percent'][i]).round(2)),\n",
    "        showarrow=False,\n",
    "        font=(dict(color='white'))\n",
    "    )\n",
    "    i = i+1\n",
    "fig.show()"
   ]
  },
  {
   "cell_type": "code",
   "execution_count": 254,
   "id": "0a322daa",
   "metadata": {},
   "outputs": [
    {
     "data": {
      "application/vnd.plotly.v1+json": {
       "config": {
        "plotlyServerURL": "https://plot.ly"
       },
       "data": [
        {
         "name": "Live",
         "type": "bar",
         "x": [
          "University of Utah Healthcare",
          "Sutter Health",
          "UCSF Health",
          "NYU Langone MC",
          "Montefiore MC",
          "Mount Sinai Health System",
          "Kaiser Permanente Northern Ca.",
          "Ochsner Health System",
          "Brown Toland Physicians",
          "Penn Medicine"
         ],
         "y": [
          2,
          195,
          158,
          81,
          3,
          2,
          18,
          55,
          4,
          1
         ]
        },
        {
         "name": "Expired",
         "type": "bar",
         "x": [
          "University of Utah Healthcare",
          "Sutter Health",
          "UCSF Health",
          "NYU Langone MC",
          "Montefiore MC",
          "Mount Sinai Health System",
          "Kaiser Permanente Northern Ca.",
          "Ochsner Health System",
          "Brown Toland Physicians",
          "Penn Medicine"
         ],
         "y": [
          164,
          50,
          50,
          37,
          31,
          18,
          17,
          16,
          10,
          10
         ]
        }
       ],
       "layout": {
        "annotations": [
         {
          "font": {
           "color": "white"
          },
          "showarrow": false,
          "text": "164",
          "x": "University of Utah Healthcare",
          "y": 156
         },
         {
          "font": {
           "color": "white"
          },
          "showarrow": false,
          "text": "50",
          "x": "Sutter Health",
          "y": 235
         },
         {
          "font": {
           "color": "white"
          },
          "showarrow": false,
          "text": "195",
          "x": "Sutter Health",
          "y": 185
         },
         {
          "font": {
           "color": "white"
          },
          "showarrow": false,
          "text": "50",
          "x": "UCSF Health",
          "y": 198
         },
         {
          "font": {
           "color": "white"
          },
          "showarrow": false,
          "text": "158",
          "x": "UCSF Health",
          "y": 148
         },
         {
          "font": {
           "color": "white"
          },
          "showarrow": false,
          "text": "37",
          "x": "NYU Langone MC",
          "y": 108
         },
         {
          "font": {
           "color": "white"
          },
          "showarrow": false,
          "text": "81",
          "x": "NYU Langone MC",
          "y": 71
         },
         {
          "font": {
           "color": "black"
          },
          "showarrow": false,
          "text": "31",
          "x": "Montefiore MC",
          "y": 44
         },
         {
          "font": {
           "color": "white"
          },
          "showarrow": false,
          "text": "3",
          "x": "Montefiore MC",
          "y": 13
         },
         {
          "font": {
           "color": "black"
          },
          "showarrow": false,
          "text": "18",
          "x": "Mount Sinai Health System",
          "y": 30
         },
         {
          "font": {
           "color": "black"
          },
          "showarrow": false,
          "text": "17",
          "x": "Kaiser Permanente Northern Ca.",
          "y": 45
         },
         {
          "font": {
           "color": "white"
          },
          "showarrow": false,
          "text": "18",
          "x": "Kaiser Permanente Northern Ca.",
          "y": 8
         },
         {
          "font": {
           "color": "white"
          },
          "showarrow": false,
          "text": "16",
          "x": "Ochsner Health System",
          "y": 61
         },
         {
          "font": {
           "color": "white"
          },
          "showarrow": false,
          "text": "55",
          "x": "Ochsner Health System",
          "y": 45
         },
         {
          "font": {
           "color": "black"
          },
          "showarrow": false,
          "text": "10",
          "x": "Brown Toland Physicians",
          "y": 24
         },
         {
          "font": {
           "color": "white"
          },
          "showarrow": false,
          "text": "4",
          "x": "Brown Toland Physicians",
          "y": 14
         },
         {
          "font": {
           "color": "black"
          },
          "showarrow": false,
          "text": "10",
          "x": "Penn Medicine",
          "y": 21
         }
        ],
        "barmode": "stack",
        "height": 500,
        "template": {
         "data": {
          "bar": [
           {
            "error_x": {
             "color": "#2a3f5f"
            },
            "error_y": {
             "color": "#2a3f5f"
            },
            "marker": {
             "line": {
              "color": "#E5ECF6",
              "width": 0.5
             },
             "pattern": {
              "fillmode": "overlay",
              "size": 10,
              "solidity": 0.2
             }
            },
            "type": "bar"
           }
          ],
          "barpolar": [
           {
            "marker": {
             "line": {
              "color": "#E5ECF6",
              "width": 0.5
             },
             "pattern": {
              "fillmode": "overlay",
              "size": 10,
              "solidity": 0.2
             }
            },
            "type": "barpolar"
           }
          ],
          "carpet": [
           {
            "aaxis": {
             "endlinecolor": "#2a3f5f",
             "gridcolor": "white",
             "linecolor": "white",
             "minorgridcolor": "white",
             "startlinecolor": "#2a3f5f"
            },
            "baxis": {
             "endlinecolor": "#2a3f5f",
             "gridcolor": "white",
             "linecolor": "white",
             "minorgridcolor": "white",
             "startlinecolor": "#2a3f5f"
            },
            "type": "carpet"
           }
          ],
          "choropleth": [
           {
            "colorbar": {
             "outlinewidth": 0,
             "ticks": ""
            },
            "type": "choropleth"
           }
          ],
          "contour": [
           {
            "colorbar": {
             "outlinewidth": 0,
             "ticks": ""
            },
            "colorscale": [
             [
              0,
              "#0d0887"
             ],
             [
              0.1111111111111111,
              "#46039f"
             ],
             [
              0.2222222222222222,
              "#7201a8"
             ],
             [
              0.3333333333333333,
              "#9c179e"
             ],
             [
              0.4444444444444444,
              "#bd3786"
             ],
             [
              0.5555555555555556,
              "#d8576b"
             ],
             [
              0.6666666666666666,
              "#ed7953"
             ],
             [
              0.7777777777777778,
              "#fb9f3a"
             ],
             [
              0.8888888888888888,
              "#fdca26"
             ],
             [
              1,
              "#f0f921"
             ]
            ],
            "type": "contour"
           }
          ],
          "contourcarpet": [
           {
            "colorbar": {
             "outlinewidth": 0,
             "ticks": ""
            },
            "type": "contourcarpet"
           }
          ],
          "heatmap": [
           {
            "colorbar": {
             "outlinewidth": 0,
             "ticks": ""
            },
            "colorscale": [
             [
              0,
              "#0d0887"
             ],
             [
              0.1111111111111111,
              "#46039f"
             ],
             [
              0.2222222222222222,
              "#7201a8"
             ],
             [
              0.3333333333333333,
              "#9c179e"
             ],
             [
              0.4444444444444444,
              "#bd3786"
             ],
             [
              0.5555555555555556,
              "#d8576b"
             ],
             [
              0.6666666666666666,
              "#ed7953"
             ],
             [
              0.7777777777777778,
              "#fb9f3a"
             ],
             [
              0.8888888888888888,
              "#fdca26"
             ],
             [
              1,
              "#f0f921"
             ]
            ],
            "type": "heatmap"
           }
          ],
          "heatmapgl": [
           {
            "colorbar": {
             "outlinewidth": 0,
             "ticks": ""
            },
            "colorscale": [
             [
              0,
              "#0d0887"
             ],
             [
              0.1111111111111111,
              "#46039f"
             ],
             [
              0.2222222222222222,
              "#7201a8"
             ],
             [
              0.3333333333333333,
              "#9c179e"
             ],
             [
              0.4444444444444444,
              "#bd3786"
             ],
             [
              0.5555555555555556,
              "#d8576b"
             ],
             [
              0.6666666666666666,
              "#ed7953"
             ],
             [
              0.7777777777777778,
              "#fb9f3a"
             ],
             [
              0.8888888888888888,
              "#fdca26"
             ],
             [
              1,
              "#f0f921"
             ]
            ],
            "type": "heatmapgl"
           }
          ],
          "histogram": [
           {
            "marker": {
             "pattern": {
              "fillmode": "overlay",
              "size": 10,
              "solidity": 0.2
             }
            },
            "type": "histogram"
           }
          ],
          "histogram2d": [
           {
            "colorbar": {
             "outlinewidth": 0,
             "ticks": ""
            },
            "colorscale": [
             [
              0,
              "#0d0887"
             ],
             [
              0.1111111111111111,
              "#46039f"
             ],
             [
              0.2222222222222222,
              "#7201a8"
             ],
             [
              0.3333333333333333,
              "#9c179e"
             ],
             [
              0.4444444444444444,
              "#bd3786"
             ],
             [
              0.5555555555555556,
              "#d8576b"
             ],
             [
              0.6666666666666666,
              "#ed7953"
             ],
             [
              0.7777777777777778,
              "#fb9f3a"
             ],
             [
              0.8888888888888888,
              "#fdca26"
             ],
             [
              1,
              "#f0f921"
             ]
            ],
            "type": "histogram2d"
           }
          ],
          "histogram2dcontour": [
           {
            "colorbar": {
             "outlinewidth": 0,
             "ticks": ""
            },
            "colorscale": [
             [
              0,
              "#0d0887"
             ],
             [
              0.1111111111111111,
              "#46039f"
             ],
             [
              0.2222222222222222,
              "#7201a8"
             ],
             [
              0.3333333333333333,
              "#9c179e"
             ],
             [
              0.4444444444444444,
              "#bd3786"
             ],
             [
              0.5555555555555556,
              "#d8576b"
             ],
             [
              0.6666666666666666,
              "#ed7953"
             ],
             [
              0.7777777777777778,
              "#fb9f3a"
             ],
             [
              0.8888888888888888,
              "#fdca26"
             ],
             [
              1,
              "#f0f921"
             ]
            ],
            "type": "histogram2dcontour"
           }
          ],
          "mesh3d": [
           {
            "colorbar": {
             "outlinewidth": 0,
             "ticks": ""
            },
            "type": "mesh3d"
           }
          ],
          "parcoords": [
           {
            "line": {
             "colorbar": {
              "outlinewidth": 0,
              "ticks": ""
             }
            },
            "type": "parcoords"
           }
          ],
          "pie": [
           {
            "automargin": true,
            "type": "pie"
           }
          ],
          "scatter": [
           {
            "fillpattern": {
             "fillmode": "overlay",
             "size": 10,
             "solidity": 0.2
            },
            "type": "scatter"
           }
          ],
          "scatter3d": [
           {
            "line": {
             "colorbar": {
              "outlinewidth": 0,
              "ticks": ""
             }
            },
            "marker": {
             "colorbar": {
              "outlinewidth": 0,
              "ticks": ""
             }
            },
            "type": "scatter3d"
           }
          ],
          "scattercarpet": [
           {
            "marker": {
             "colorbar": {
              "outlinewidth": 0,
              "ticks": ""
             }
            },
            "type": "scattercarpet"
           }
          ],
          "scattergeo": [
           {
            "marker": {
             "colorbar": {
              "outlinewidth": 0,
              "ticks": ""
             }
            },
            "type": "scattergeo"
           }
          ],
          "scattergl": [
           {
            "marker": {
             "colorbar": {
              "outlinewidth": 0,
              "ticks": ""
             }
            },
            "type": "scattergl"
           }
          ],
          "scattermapbox": [
           {
            "marker": {
             "colorbar": {
              "outlinewidth": 0,
              "ticks": ""
             }
            },
            "type": "scattermapbox"
           }
          ],
          "scatterpolar": [
           {
            "marker": {
             "colorbar": {
              "outlinewidth": 0,
              "ticks": ""
             }
            },
            "type": "scatterpolar"
           }
          ],
          "scatterpolargl": [
           {
            "marker": {
             "colorbar": {
              "outlinewidth": 0,
              "ticks": ""
             }
            },
            "type": "scatterpolargl"
           }
          ],
          "scatterternary": [
           {
            "marker": {
             "colorbar": {
              "outlinewidth": 0,
              "ticks": ""
             }
            },
            "type": "scatterternary"
           }
          ],
          "surface": [
           {
            "colorbar": {
             "outlinewidth": 0,
             "ticks": ""
            },
            "colorscale": [
             [
              0,
              "#0d0887"
             ],
             [
              0.1111111111111111,
              "#46039f"
             ],
             [
              0.2222222222222222,
              "#7201a8"
             ],
             [
              0.3333333333333333,
              "#9c179e"
             ],
             [
              0.4444444444444444,
              "#bd3786"
             ],
             [
              0.5555555555555556,
              "#d8576b"
             ],
             [
              0.6666666666666666,
              "#ed7953"
             ],
             [
              0.7777777777777778,
              "#fb9f3a"
             ],
             [
              0.8888888888888888,
              "#fdca26"
             ],
             [
              1,
              "#f0f921"
             ]
            ],
            "type": "surface"
           }
          ],
          "table": [
           {
            "cells": {
             "fill": {
              "color": "#EBF0F8"
             },
             "line": {
              "color": "white"
             }
            },
            "header": {
             "fill": {
              "color": "#C8D4E3"
             },
             "line": {
              "color": "white"
             }
            },
            "type": "table"
           }
          ]
         },
         "layout": {
          "annotationdefaults": {
           "arrowcolor": "#2a3f5f",
           "arrowhead": 0,
           "arrowwidth": 1
          },
          "autotypenumbers": "strict",
          "coloraxis": {
           "colorbar": {
            "outlinewidth": 0,
            "ticks": ""
           }
          },
          "colorscale": {
           "diverging": [
            [
             0,
             "#8e0152"
            ],
            [
             0.1,
             "#c51b7d"
            ],
            [
             0.2,
             "#de77ae"
            ],
            [
             0.3,
             "#f1b6da"
            ],
            [
             0.4,
             "#fde0ef"
            ],
            [
             0.5,
             "#f7f7f7"
            ],
            [
             0.6,
             "#e6f5d0"
            ],
            [
             0.7,
             "#b8e186"
            ],
            [
             0.8,
             "#7fbc41"
            ],
            [
             0.9,
             "#4d9221"
            ],
            [
             1,
             "#276419"
            ]
           ],
           "sequential": [
            [
             0,
             "#0d0887"
            ],
            [
             0.1111111111111111,
             "#46039f"
            ],
            [
             0.2222222222222222,
             "#7201a8"
            ],
            [
             0.3333333333333333,
             "#9c179e"
            ],
            [
             0.4444444444444444,
             "#bd3786"
            ],
            [
             0.5555555555555556,
             "#d8576b"
            ],
            [
             0.6666666666666666,
             "#ed7953"
            ],
            [
             0.7777777777777778,
             "#fb9f3a"
            ],
            [
             0.8888888888888888,
             "#fdca26"
            ],
            [
             1,
             "#f0f921"
            ]
           ],
           "sequentialminus": [
            [
             0,
             "#0d0887"
            ],
            [
             0.1111111111111111,
             "#46039f"
            ],
            [
             0.2222222222222222,
             "#7201a8"
            ],
            [
             0.3333333333333333,
             "#9c179e"
            ],
            [
             0.4444444444444444,
             "#bd3786"
            ],
            [
             0.5555555555555556,
             "#d8576b"
            ],
            [
             0.6666666666666666,
             "#ed7953"
            ],
            [
             0.7777777777777778,
             "#fb9f3a"
            ],
            [
             0.8888888888888888,
             "#fdca26"
            ],
            [
             1,
             "#f0f921"
            ]
           ]
          },
          "colorway": [
           "#636efa",
           "#EF553B",
           "#00cc96",
           "#ab63fa",
           "#FFA15A",
           "#19d3f3",
           "#FF6692",
           "#B6E880",
           "#FF97FF",
           "#FECB52"
          ],
          "font": {
           "color": "#2a3f5f"
          },
          "geo": {
           "bgcolor": "white",
           "lakecolor": "white",
           "landcolor": "#E5ECF6",
           "showlakes": true,
           "showland": true,
           "subunitcolor": "white"
          },
          "hoverlabel": {
           "align": "left"
          },
          "hovermode": "closest",
          "mapbox": {
           "style": "light"
          },
          "paper_bgcolor": "white",
          "plot_bgcolor": "#E5ECF6",
          "polar": {
           "angularaxis": {
            "gridcolor": "white",
            "linecolor": "white",
            "ticks": ""
           },
           "bgcolor": "#E5ECF6",
           "radialaxis": {
            "gridcolor": "white",
            "linecolor": "white",
            "ticks": ""
           }
          },
          "scene": {
           "xaxis": {
            "backgroundcolor": "#E5ECF6",
            "gridcolor": "white",
            "gridwidth": 2,
            "linecolor": "white",
            "showbackground": true,
            "ticks": "",
            "zerolinecolor": "white"
           },
           "yaxis": {
            "backgroundcolor": "#E5ECF6",
            "gridcolor": "white",
            "gridwidth": 2,
            "linecolor": "white",
            "showbackground": true,
            "ticks": "",
            "zerolinecolor": "white"
           },
           "zaxis": {
            "backgroundcolor": "#E5ECF6",
            "gridcolor": "white",
            "gridwidth": 2,
            "linecolor": "white",
            "showbackground": true,
            "ticks": "",
            "zerolinecolor": "white"
           }
          },
          "shapedefaults": {
           "line": {
            "color": "#2a3f5f"
           }
          },
          "ternary": {
           "aaxis": {
            "gridcolor": "white",
            "linecolor": "white",
            "ticks": ""
           },
           "baxis": {
            "gridcolor": "white",
            "linecolor": "white",
            "ticks": ""
           },
           "bgcolor": "#E5ECF6",
           "caxis": {
            "gridcolor": "white",
            "linecolor": "white",
            "ticks": ""
           }
          },
          "title": {
           "x": 0.05
          },
          "xaxis": {
           "automargin": true,
           "gridcolor": "white",
           "linecolor": "white",
           "ticks": "",
           "title": {
            "standoff": 15
           },
           "zerolinecolor": "white",
           "zerolinewidth": 2
          },
          "yaxis": {
           "automargin": true,
           "gridcolor": "white",
           "linecolor": "white",
           "ticks": "",
           "title": {
            "standoff": 15
           },
           "zerolinecolor": "white",
           "zerolinewidth": 2
          }
         }
        },
        "title": {
         "text": "Tokens live/expired by site after 10 months",
         "xanchor": "left"
        },
        "width": 1000,
        "yaxis": {
         "title": {
          "text": "Tokens live/expired by site"
         }
        }
       }
      },
      "text/html": [
       "<div>                            <div id=\"6958b7b1-f662-412e-a033-ca17392d135b\" class=\"plotly-graph-div\" style=\"height:500px; width:1000px;\"></div>            <script type=\"text/javascript\">                require([\"plotly\"], function(Plotly) {                    window.PLOTLYENV=window.PLOTLYENV || {};                                    if (document.getElementById(\"6958b7b1-f662-412e-a033-ca17392d135b\")) {                    Plotly.newPlot(                        \"6958b7b1-f662-412e-a033-ca17392d135b\",                        [{\"name\":\"Live\",\"x\":[\"University of Utah Healthcare\",\"Sutter Health\",\"UCSF Health\",\"NYU Langone MC\",\"Montefiore MC\",\"Mount Sinai Health System\",\"Kaiser Permanente Northern Ca.\",\"Ochsner Health System\",\"Brown Toland Physicians\",\"Penn Medicine\"],\"y\":[2,195,158,81,3,2,18,55,4,1],\"type\":\"bar\"},{\"name\":\"Expired\",\"x\":[\"University of Utah Healthcare\",\"Sutter Health\",\"UCSF Health\",\"NYU Langone MC\",\"Montefiore MC\",\"Mount Sinai Health System\",\"Kaiser Permanente Northern Ca.\",\"Ochsner Health System\",\"Brown Toland Physicians\",\"Penn Medicine\"],\"y\":[164,50,50,37,31,18,17,16,10,10],\"type\":\"bar\"}],                        {\"template\":{\"data\":{\"histogram2dcontour\":[{\"type\":\"histogram2dcontour\",\"colorbar\":{\"outlinewidth\":0,\"ticks\":\"\"},\"colorscale\":[[0.0,\"#0d0887\"],[0.1111111111111111,\"#46039f\"],[0.2222222222222222,\"#7201a8\"],[0.3333333333333333,\"#9c179e\"],[0.4444444444444444,\"#bd3786\"],[0.5555555555555556,\"#d8576b\"],[0.6666666666666666,\"#ed7953\"],[0.7777777777777778,\"#fb9f3a\"],[0.8888888888888888,\"#fdca26\"],[1.0,\"#f0f921\"]]}],\"choropleth\":[{\"type\":\"choropleth\",\"colorbar\":{\"outlinewidth\":0,\"ticks\":\"\"}}],\"histogram2d\":[{\"type\":\"histogram2d\",\"colorbar\":{\"outlinewidth\":0,\"ticks\":\"\"},\"colorscale\":[[0.0,\"#0d0887\"],[0.1111111111111111,\"#46039f\"],[0.2222222222222222,\"#7201a8\"],[0.3333333333333333,\"#9c179e\"],[0.4444444444444444,\"#bd3786\"],[0.5555555555555556,\"#d8576b\"],[0.6666666666666666,\"#ed7953\"],[0.7777777777777778,\"#fb9f3a\"],[0.8888888888888888,\"#fdca26\"],[1.0,\"#f0f921\"]]}],\"heatmap\":[{\"type\":\"heatmap\",\"colorbar\":{\"outlinewidth\":0,\"ticks\":\"\"},\"colorscale\":[[0.0,\"#0d0887\"],[0.1111111111111111,\"#46039f\"],[0.2222222222222222,\"#7201a8\"],[0.3333333333333333,\"#9c179e\"],[0.4444444444444444,\"#bd3786\"],[0.5555555555555556,\"#d8576b\"],[0.6666666666666666,\"#ed7953\"],[0.7777777777777778,\"#fb9f3a\"],[0.8888888888888888,\"#fdca26\"],[1.0,\"#f0f921\"]]}],\"heatmapgl\":[{\"type\":\"heatmapgl\",\"colorbar\":{\"outlinewidth\":0,\"ticks\":\"\"},\"colorscale\":[[0.0,\"#0d0887\"],[0.1111111111111111,\"#46039f\"],[0.2222222222222222,\"#7201a8\"],[0.3333333333333333,\"#9c179e\"],[0.4444444444444444,\"#bd3786\"],[0.5555555555555556,\"#d8576b\"],[0.6666666666666666,\"#ed7953\"],[0.7777777777777778,\"#fb9f3a\"],[0.8888888888888888,\"#fdca26\"],[1.0,\"#f0f921\"]]}],\"contourcarpet\":[{\"type\":\"contourcarpet\",\"colorbar\":{\"outlinewidth\":0,\"ticks\":\"\"}}],\"contour\":[{\"type\":\"contour\",\"colorbar\":{\"outlinewidth\":0,\"ticks\":\"\"},\"colorscale\":[[0.0,\"#0d0887\"],[0.1111111111111111,\"#46039f\"],[0.2222222222222222,\"#7201a8\"],[0.3333333333333333,\"#9c179e\"],[0.4444444444444444,\"#bd3786\"],[0.5555555555555556,\"#d8576b\"],[0.6666666666666666,\"#ed7953\"],[0.7777777777777778,\"#fb9f3a\"],[0.8888888888888888,\"#fdca26\"],[1.0,\"#f0f921\"]]}],\"surface\":[{\"type\":\"surface\",\"colorbar\":{\"outlinewidth\":0,\"ticks\":\"\"},\"colorscale\":[[0.0,\"#0d0887\"],[0.1111111111111111,\"#46039f\"],[0.2222222222222222,\"#7201a8\"],[0.3333333333333333,\"#9c179e\"],[0.4444444444444444,\"#bd3786\"],[0.5555555555555556,\"#d8576b\"],[0.6666666666666666,\"#ed7953\"],[0.7777777777777778,\"#fb9f3a\"],[0.8888888888888888,\"#fdca26\"],[1.0,\"#f0f921\"]]}],\"mesh3d\":[{\"type\":\"mesh3d\",\"colorbar\":{\"outlinewidth\":0,\"ticks\":\"\"}}],\"scatter\":[{\"fillpattern\":{\"fillmode\":\"overlay\",\"size\":10,\"solidity\":0.2},\"type\":\"scatter\"}],\"parcoords\":[{\"type\":\"parcoords\",\"line\":{\"colorbar\":{\"outlinewidth\":0,\"ticks\":\"\"}}}],\"scatterpolargl\":[{\"type\":\"scatterpolargl\",\"marker\":{\"colorbar\":{\"outlinewidth\":0,\"ticks\":\"\"}}}],\"bar\":[{\"error_x\":{\"color\":\"#2a3f5f\"},\"error_y\":{\"color\":\"#2a3f5f\"},\"marker\":{\"line\":{\"color\":\"#E5ECF6\",\"width\":0.5},\"pattern\":{\"fillmode\":\"overlay\",\"size\":10,\"solidity\":0.2}},\"type\":\"bar\"}],\"scattergeo\":[{\"type\":\"scattergeo\",\"marker\":{\"colorbar\":{\"outlinewidth\":0,\"ticks\":\"\"}}}],\"scatterpolar\":[{\"type\":\"scatterpolar\",\"marker\":{\"colorbar\":{\"outlinewidth\":0,\"ticks\":\"\"}}}],\"histogram\":[{\"marker\":{\"pattern\":{\"fillmode\":\"overlay\",\"size\":10,\"solidity\":0.2}},\"type\":\"histogram\"}],\"scattergl\":[{\"type\":\"scattergl\",\"marker\":{\"colorbar\":{\"outlinewidth\":0,\"ticks\":\"\"}}}],\"scatter3d\":[{\"type\":\"scatter3d\",\"line\":{\"colorbar\":{\"outlinewidth\":0,\"ticks\":\"\"}},\"marker\":{\"colorbar\":{\"outlinewidth\":0,\"ticks\":\"\"}}}],\"scattermapbox\":[{\"type\":\"scattermapbox\",\"marker\":{\"colorbar\":{\"outlinewidth\":0,\"ticks\":\"\"}}}],\"scatterternary\":[{\"type\":\"scatterternary\",\"marker\":{\"colorbar\":{\"outlinewidth\":0,\"ticks\":\"\"}}}],\"scattercarpet\":[{\"type\":\"scattercarpet\",\"marker\":{\"colorbar\":{\"outlinewidth\":0,\"ticks\":\"\"}}}],\"carpet\":[{\"aaxis\":{\"endlinecolor\":\"#2a3f5f\",\"gridcolor\":\"white\",\"linecolor\":\"white\",\"minorgridcolor\":\"white\",\"startlinecolor\":\"#2a3f5f\"},\"baxis\":{\"endlinecolor\":\"#2a3f5f\",\"gridcolor\":\"white\",\"linecolor\":\"white\",\"minorgridcolor\":\"white\",\"startlinecolor\":\"#2a3f5f\"},\"type\":\"carpet\"}],\"table\":[{\"cells\":{\"fill\":{\"color\":\"#EBF0F8\"},\"line\":{\"color\":\"white\"}},\"header\":{\"fill\":{\"color\":\"#C8D4E3\"},\"line\":{\"color\":\"white\"}},\"type\":\"table\"}],\"barpolar\":[{\"marker\":{\"line\":{\"color\":\"#E5ECF6\",\"width\":0.5},\"pattern\":{\"fillmode\":\"overlay\",\"size\":10,\"solidity\":0.2}},\"type\":\"barpolar\"}],\"pie\":[{\"automargin\":true,\"type\":\"pie\"}]},\"layout\":{\"autotypenumbers\":\"strict\",\"colorway\":[\"#636efa\",\"#EF553B\",\"#00cc96\",\"#ab63fa\",\"#FFA15A\",\"#19d3f3\",\"#FF6692\",\"#B6E880\",\"#FF97FF\",\"#FECB52\"],\"font\":{\"color\":\"#2a3f5f\"},\"hovermode\":\"closest\",\"hoverlabel\":{\"align\":\"left\"},\"paper_bgcolor\":\"white\",\"plot_bgcolor\":\"#E5ECF6\",\"polar\":{\"bgcolor\":\"#E5ECF6\",\"angularaxis\":{\"gridcolor\":\"white\",\"linecolor\":\"white\",\"ticks\":\"\"},\"radialaxis\":{\"gridcolor\":\"white\",\"linecolor\":\"white\",\"ticks\":\"\"}},\"ternary\":{\"bgcolor\":\"#E5ECF6\",\"aaxis\":{\"gridcolor\":\"white\",\"linecolor\":\"white\",\"ticks\":\"\"},\"baxis\":{\"gridcolor\":\"white\",\"linecolor\":\"white\",\"ticks\":\"\"},\"caxis\":{\"gridcolor\":\"white\",\"linecolor\":\"white\",\"ticks\":\"\"}},\"coloraxis\":{\"colorbar\":{\"outlinewidth\":0,\"ticks\":\"\"}},\"colorscale\":{\"sequential\":[[0.0,\"#0d0887\"],[0.1111111111111111,\"#46039f\"],[0.2222222222222222,\"#7201a8\"],[0.3333333333333333,\"#9c179e\"],[0.4444444444444444,\"#bd3786\"],[0.5555555555555556,\"#d8576b\"],[0.6666666666666666,\"#ed7953\"],[0.7777777777777778,\"#fb9f3a\"],[0.8888888888888888,\"#fdca26\"],[1.0,\"#f0f921\"]],\"sequentialminus\":[[0.0,\"#0d0887\"],[0.1111111111111111,\"#46039f\"],[0.2222222222222222,\"#7201a8\"],[0.3333333333333333,\"#9c179e\"],[0.4444444444444444,\"#bd3786\"],[0.5555555555555556,\"#d8576b\"],[0.6666666666666666,\"#ed7953\"],[0.7777777777777778,\"#fb9f3a\"],[0.8888888888888888,\"#fdca26\"],[1.0,\"#f0f921\"]],\"diverging\":[[0,\"#8e0152\"],[0.1,\"#c51b7d\"],[0.2,\"#de77ae\"],[0.3,\"#f1b6da\"],[0.4,\"#fde0ef\"],[0.5,\"#f7f7f7\"],[0.6,\"#e6f5d0\"],[0.7,\"#b8e186\"],[0.8,\"#7fbc41\"],[0.9,\"#4d9221\"],[1,\"#276419\"]]},\"xaxis\":{\"gridcolor\":\"white\",\"linecolor\":\"white\",\"ticks\":\"\",\"title\":{\"standoff\":15},\"zerolinecolor\":\"white\",\"automargin\":true,\"zerolinewidth\":2},\"yaxis\":{\"gridcolor\":\"white\",\"linecolor\":\"white\",\"ticks\":\"\",\"title\":{\"standoff\":15},\"zerolinecolor\":\"white\",\"automargin\":true,\"zerolinewidth\":2},\"scene\":{\"xaxis\":{\"backgroundcolor\":\"#E5ECF6\",\"gridcolor\":\"white\",\"linecolor\":\"white\",\"showbackground\":true,\"ticks\":\"\",\"zerolinecolor\":\"white\",\"gridwidth\":2},\"yaxis\":{\"backgroundcolor\":\"#E5ECF6\",\"gridcolor\":\"white\",\"linecolor\":\"white\",\"showbackground\":true,\"ticks\":\"\",\"zerolinecolor\":\"white\",\"gridwidth\":2},\"zaxis\":{\"backgroundcolor\":\"#E5ECF6\",\"gridcolor\":\"white\",\"linecolor\":\"white\",\"showbackground\":true,\"ticks\":\"\",\"zerolinecolor\":\"white\",\"gridwidth\":2}},\"shapedefaults\":{\"line\":{\"color\":\"#2a3f5f\"}},\"annotationdefaults\":{\"arrowcolor\":\"#2a3f5f\",\"arrowhead\":0,\"arrowwidth\":1},\"geo\":{\"bgcolor\":\"white\",\"landcolor\":\"#E5ECF6\",\"subunitcolor\":\"white\",\"showland\":true,\"showlakes\":true,\"lakecolor\":\"white\"},\"title\":{\"x\":0.05},\"mapbox\":{\"style\":\"light\"}}},\"barmode\":\"stack\",\"title\":{\"text\":\"Tokens live/expired by site after 10 months\",\"xanchor\":\"left\"},\"height\":500,\"width\":1000,\"yaxis\":{\"title\":{\"text\":\"Tokens live/expired by site\"}},\"annotations\":[{\"font\":{\"color\":\"white\"},\"showarrow\":false,\"text\":\"164\",\"x\":\"University of Utah Healthcare\",\"y\":156},{\"font\":{\"color\":\"white\"},\"showarrow\":false,\"text\":\"50\",\"x\":\"Sutter Health\",\"y\":235},{\"font\":{\"color\":\"white\"},\"showarrow\":false,\"text\":\"195\",\"x\":\"Sutter Health\",\"y\":185},{\"font\":{\"color\":\"white\"},\"showarrow\":false,\"text\":\"50\",\"x\":\"UCSF Health\",\"y\":198},{\"font\":{\"color\":\"white\"},\"showarrow\":false,\"text\":\"158\",\"x\":\"UCSF Health\",\"y\":148},{\"font\":{\"color\":\"white\"},\"showarrow\":false,\"text\":\"37\",\"x\":\"NYU Langone MC\",\"y\":108},{\"font\":{\"color\":\"white\"},\"showarrow\":false,\"text\":\"81\",\"x\":\"NYU Langone MC\",\"y\":71},{\"font\":{\"color\":\"black\"},\"showarrow\":false,\"text\":\"31\",\"x\":\"Montefiore MC\",\"y\":44},{\"font\":{\"color\":\"white\"},\"showarrow\":false,\"text\":\"3\",\"x\":\"Montefiore MC\",\"y\":13},{\"font\":{\"color\":\"black\"},\"showarrow\":false,\"text\":\"18\",\"x\":\"Mount Sinai Health System\",\"y\":30},{\"font\":{\"color\":\"black\"},\"showarrow\":false,\"text\":\"17\",\"x\":\"Kaiser Permanente Northern Ca.\",\"y\":45},{\"font\":{\"color\":\"white\"},\"showarrow\":false,\"text\":\"18\",\"x\":\"Kaiser Permanente Northern Ca.\",\"y\":8},{\"font\":{\"color\":\"white\"},\"showarrow\":false,\"text\":\"16\",\"x\":\"Ochsner Health System\",\"y\":61},{\"font\":{\"color\":\"white\"},\"showarrow\":false,\"text\":\"55\",\"x\":\"Ochsner Health System\",\"y\":45},{\"font\":{\"color\":\"black\"},\"showarrow\":false,\"text\":\"10\",\"x\":\"Brown Toland Physicians\",\"y\":24},{\"font\":{\"color\":\"white\"},\"showarrow\":false,\"text\":\"4\",\"x\":\"Brown Toland Physicians\",\"y\":14},{\"font\":{\"color\":\"black\"},\"showarrow\":false,\"text\":\"10\",\"x\":\"Penn Medicine\",\"y\":21}]},                        {\"responsive\": true}                    ).then(function(){\n",
       "                            \n",
       "var gd = document.getElementById('6958b7b1-f662-412e-a033-ca17392d135b');\n",
       "var x = new MutationObserver(function (mutations, observer) {{\n",
       "        var display = window.getComputedStyle(gd).display;\n",
       "        if (!display || display === 'none') {{\n",
       "            console.log([gd, 'removed!']);\n",
       "            Plotly.purge(gd);\n",
       "            observer.disconnect();\n",
       "        }}\n",
       "}});\n",
       "\n",
       "// Listen for the removal of the full notebook cells\n",
       "var notebookContainer = gd.closest('#notebook-container');\n",
       "if (notebookContainer) {{\n",
       "    x.observe(notebookContainer, {childList: true});\n",
       "}}\n",
       "\n",
       "// Listen for the clearing of the current output cell\n",
       "var outputEl = gd.closest('.output');\n",
       "if (outputEl) {{\n",
       "    x.observe(outputEl, {childList: true});\n",
       "}}\n",
       "\n",
       "                        })                };                });            </script>        </div>"
      ]
     },
     "metadata": {},
     "output_type": "display_data"
    }
   ],
   "source": [
    "import plotly.graph_objects as go\n",
    "\n",
    "fig = go.Figure(data=[\n",
    "    go.Bar(name='Live', x=grp['provider_d'], y=grp['nonexpired'].round(2)),\n",
    "    go.Bar(name='Expired', x=grp['provider_d'], y=grp['expired']),\n",
    "])\n",
    "# Change the bar mode\n",
    "fig.update_layout(barmode='stack')\n",
    "fig.update_layout(\n",
    "#     xaxis_title=\"X Axis Title\",\n",
    "    height=500,\n",
    "    width=1000,\n",
    "    yaxis_title=\"Tokens live/expired by site\",\n",
    "    title={\n",
    "        'text': \"Tokens live/expired by site after 10 months\",\n",
    "        'xanchor': 'left',\n",
    "    })\n",
    "text_height = 5\n",
    "for i, x in enumerate(grp['provider_d']):\n",
    "    val = grp['expired'][i]+grp['nonexpired'][i]\n",
    "    color = 'white' if val >40 else 'black'\n",
    "    fig.add_annotation(\n",
    "        x=x,\n",
    "        y=val-10 if val>40 else val+10, \n",
    "        text=str(grp['expired'][i]),\n",
    "#         text=f\"{str(int((1-grp['expired_percent'][i]).round(2)*100))}% exp\",\n",
    "        showarrow=False,\n",
    "        font=(dict(color=color))\n",
    "    )\n",
    "    if grp['nonexpired'][i] > 2:\n",
    "        fig.add_annotation(\n",
    "            x=x,\n",
    "            y=grp['nonexpired'][i]-10 if grp['nonexpired'][i] > 10 else grp['nonexpired'][i]+10, \n",
    "            text=str(grp['nonexpired'][i]),\n",
    "    #         text=f\"{str(int((1-grp['expired_percent'][i]).round(2)*100))}% exp\",\n",
    "            showarrow=False,\n",
    "            font=(dict(color='white'))\n",
    "        )\n",
    "fig.show()"
   ]
  },
  {
   "cell_type": "code",
   "execution_count": 301,
   "id": "40489e96",
   "metadata": {},
   "outputs": [],
   "source": [
    "fhir_dt.loc[pd.isna(fhir_dt['days']),'expired'] = 0\n",
    "fhir_dt.loc[~pd.isna(fhir_dt['days']),'expired'] = 1\n",
    "def d(r):\n",
    "    if pd.isna(r['days']):\n",
    "        return (pd.to_datetime('2023-04-23') - pd.to_datetime(r['uploaded_date'])).days\n",
    "    else:\n",
    "        return r['days']\n",
    "fhir_dt['dayss'] = fhir_dt.apply(d, axis=1)"
   ]
  },
  {
   "cell_type": "code",
   "execution_count": 352,
   "id": "a88ff761",
   "metadata": {},
   "outputs": [
    {
     "data": {
      "text/html": [
       "<div>\n",
       "<style scoped>\n",
       "    .dataframe tbody tr th:only-of-type {\n",
       "        vertical-align: middle;\n",
       "    }\n",
       "\n",
       "    .dataframe tbody tr th {\n",
       "        vertical-align: top;\n",
       "    }\n",
       "\n",
       "    .dataframe thead th {\n",
       "        text-align: right;\n",
       "    }\n",
       "</style>\n",
       "<table border=\"1\" class=\"dataframe\">\n",
       "  <thead>\n",
       "    <tr style=\"text-align: right;\">\n",
       "      <th></th>\n",
       "      <th>user_id</th>\n",
       "      <th>provider</th>\n",
       "      <th>provider_name</th>\n",
       "      <th>created_at</th>\n",
       "      <th>expired_at</th>\n",
       "      <th>days_active</th>\n",
       "      <th>expired</th>\n",
       "    </tr>\n",
       "  </thead>\n",
       "  <tbody>\n",
       "    <tr>\n",
       "      <th>0</th>\n",
       "      <td>514661</td>\n",
       "      <td>openepic_shared_university_of_utah_healthcare</td>\n",
       "      <td>University of Utah Healthcare</td>\n",
       "      <td>2022-04-16</td>\n",
       "      <td>2022-08-17</td>\n",
       "      <td>123.0</td>\n",
       "      <td>1.0</td>\n",
       "    </tr>\n",
       "    <tr>\n",
       "      <th>1</th>\n",
       "      <td>440308</td>\n",
       "      <td>openepic_shared_nyc_health_hospitals</td>\n",
       "      <td>openepic_shared_nyc_health_hospitals</td>\n",
       "      <td>2022-08-11</td>\n",
       "      <td>NaT</td>\n",
       "      <td>255.0</td>\n",
       "      <td>0.0</td>\n",
       "    </tr>\n",
       "    <tr>\n",
       "      <th>2</th>\n",
       "      <td>504643</td>\n",
       "      <td>openepic_shared_montefiore_medical_center</td>\n",
       "      <td>Montefiore MC</td>\n",
       "      <td>2022-05-05</td>\n",
       "      <td>2022-08-17</td>\n",
       "      <td>104.0</td>\n",
       "      <td>1.0</td>\n",
       "    </tr>\n",
       "    <tr>\n",
       "      <th>3</th>\n",
       "      <td>197119</td>\n",
       "      <td>openepic_shared_hackensack_meridian_health</td>\n",
       "      <td>openepic_shared_hackensack_meridian_health</td>\n",
       "      <td>2022-11-15</td>\n",
       "      <td>NaT</td>\n",
       "      <td>159.0</td>\n",
       "      <td>0.0</td>\n",
       "    </tr>\n",
       "    <tr>\n",
       "      <th>4</th>\n",
       "      <td>516641</td>\n",
       "      <td>openepic_shared_baylor_scott_white</td>\n",
       "      <td>openepic_shared_baylor_scott_white</td>\n",
       "      <td>2022-12-29</td>\n",
       "      <td>NaT</td>\n",
       "      <td>115.0</td>\n",
       "      <td>0.0</td>\n",
       "    </tr>\n",
       "    <tr>\n",
       "      <th>...</th>\n",
       "      <td>...</td>\n",
       "      <td>...</td>\n",
       "      <td>...</td>\n",
       "      <td>...</td>\n",
       "      <td>...</td>\n",
       "      <td>...</td>\n",
       "      <td>...</td>\n",
       "    </tr>\n",
       "    <tr>\n",
       "      <th>1598</th>\n",
       "      <td>404319</td>\n",
       "      <td>openepic_shared_geisinger</td>\n",
       "      <td>openepic_shared_geisinger</td>\n",
       "      <td>2022-08-26</td>\n",
       "      <td>2022-11-06</td>\n",
       "      <td>72.0</td>\n",
       "      <td>1.0</td>\n",
       "    </tr>\n",
       "    <tr>\n",
       "      <th>1599</th>\n",
       "      <td>442493</td>\n",
       "      <td>openepic_shared_uw_medicine_washington</td>\n",
       "      <td>openepic_shared_uw_medicine_washington</td>\n",
       "      <td>2023-01-03</td>\n",
       "      <td>NaT</td>\n",
       "      <td>110.0</td>\n",
       "      <td>0.0</td>\n",
       "    </tr>\n",
       "    <tr>\n",
       "      <th>1600</th>\n",
       "      <td>413581</td>\n",
       "      <td>openepic_shared_university_of_california_san_d...</td>\n",
       "      <td>openepic_shared_university_of_california_san_d...</td>\n",
       "      <td>2022-11-23</td>\n",
       "      <td>NaT</td>\n",
       "      <td>151.0</td>\n",
       "      <td>0.0</td>\n",
       "    </tr>\n",
       "    <tr>\n",
       "      <th>1601</th>\n",
       "      <td>503762</td>\n",
       "      <td>openepic_shared_montefiore_medical_center</td>\n",
       "      <td>Montefiore MC</td>\n",
       "      <td>2022-04-25</td>\n",
       "      <td>2022-08-17</td>\n",
       "      <td>114.0</td>\n",
       "      <td>1.0</td>\n",
       "    </tr>\n",
       "    <tr>\n",
       "      <th>1602</th>\n",
       "      <td>461795</td>\n",
       "      <td>openepic_shared_luminis_health</td>\n",
       "      <td>openepic_shared_luminis_health</td>\n",
       "      <td>2022-12-09</td>\n",
       "      <td>NaT</td>\n",
       "      <td>135.0</td>\n",
       "      <td>0.0</td>\n",
       "    </tr>\n",
       "  </tbody>\n",
       "</table>\n",
       "<p>1603 rows × 7 columns</p>\n",
       "</div>"
      ],
      "text/plain": [
       "      user_id                                           provider  \\\n",
       "0      514661      openepic_shared_university_of_utah_healthcare   \n",
       "1      440308               openepic_shared_nyc_health_hospitals   \n",
       "2      504643          openepic_shared_montefiore_medical_center   \n",
       "3      197119         openepic_shared_hackensack_meridian_health   \n",
       "4      516641                 openepic_shared_baylor_scott_white   \n",
       "...       ...                                                ...   \n",
       "1598   404319                          openepic_shared_geisinger   \n",
       "1599   442493             openepic_shared_uw_medicine_washington   \n",
       "1600   413581  openepic_shared_university_of_california_san_d...   \n",
       "1601   503762          openepic_shared_montefiore_medical_center   \n",
       "1602   461795                     openepic_shared_luminis_health   \n",
       "\n",
       "                                          provider_name created_at expired_at  \\\n",
       "0                         University of Utah Healthcare 2022-04-16 2022-08-17   \n",
       "1                  openepic_shared_nyc_health_hospitals 2022-08-11        NaT   \n",
       "2                                         Montefiore MC 2022-05-05 2022-08-17   \n",
       "3            openepic_shared_hackensack_meridian_health 2022-11-15        NaT   \n",
       "4                    openepic_shared_baylor_scott_white 2022-12-29        NaT   \n",
       "...                                                 ...        ...        ...   \n",
       "1598                          openepic_shared_geisinger 2022-08-26 2022-11-06   \n",
       "1599             openepic_shared_uw_medicine_washington 2023-01-03        NaT   \n",
       "1600  openepic_shared_university_of_california_san_d... 2022-11-23        NaT   \n",
       "1601                                      Montefiore MC 2022-04-25 2022-08-17   \n",
       "1602                     openepic_shared_luminis_health 2022-12-09        NaT   \n",
       "\n",
       "      days_active  expired  \n",
       "0           123.0      1.0  \n",
       "1           255.0      0.0  \n",
       "2           104.0      1.0  \n",
       "3           159.0      0.0  \n",
       "4           115.0      0.0  \n",
       "...           ...      ...  \n",
       "1598         72.0      1.0  \n",
       "1599        110.0      0.0  \n",
       "1600        151.0      0.0  \n",
       "1601        114.0      1.0  \n",
       "1602        135.0      0.0  \n",
       "\n",
       "[1603 rows x 7 columns]"
      ]
     },
     "execution_count": 352,
     "metadata": {},
     "output_type": "execute_result"
    }
   ],
   "source": [
    "out = fhir_dt[['user_id', 'uploaded_date', 'provider', 'provider_name', 'created_at', 'expired_at', 'days', 'dayss', 'expired']]\n",
    "out.loc[pd.isna(out['created_at']), 'created_at'] = out['uploaded_date']\n",
    "out = out.rename(columns={'dayss': \"days_active\"})\n",
    "out = out.drop(['uploaded_date', 'days'], axis=1)\n",
    "out.to_csv('output/survival.csv')\n",
    "out\n",
    "# fhir_dt['provider'].value_counts().head(30)"
   ]
  },
  {
   "cell_type": "code",
   "execution_count": 355,
   "id": "8844e742",
   "metadata": {
    "scrolled": false
   },
   "outputs": [
    {
     "data": {
      "image/png": "[encoded data removed]",
      "text/plain": [
       "<Figure size 1200x600 with 1 Axes>"
      ]
     },
     "metadata": {},
     "output_type": "display_data"
    }
   ],
   "source": [
    "import lifelines\n",
    "# fig, ax = plt.subplots(1, 1, figsize=(12, 6))\n",
    "plt.figure(figsize=(12,6))\n",
    "\n",
    "for key, value in provider_dict.items():\n",
    "    kmf = lifelines.KaplanMeierFitter(label=\"Token Lifespan\")\n",
    "    subset = fhir_dt[fhir_dt['provider'] == key]\n",
    "    kmf.fit(subset['dayss'], event_observed=subset['expired'], timeline=range(0, 300), label=value)\n",
    "#     kmf.survival_function_\n",
    "    kmf.plot(ax=plt.gca(), ci_show=False, show_censors=True, ci_alpha=0.1) #at_risk_counts=True)\n",
    "#     kmf.plot_survival_function(ci_show=False, ax=ax)\n",
    "plt.ylabel('Token Survival Probability');\n",
    "plt.xlabel('Days')\n",
    "plt.title('Survival Analysis of FHIR Refresh Tokens')\n",
    "plt.show()"
   ]
  },
  {
   "cell_type": "code",
   "execution_count": 289,
   "id": "cc2b1ee9",
   "metadata": {},
   "outputs": [
    {
     "name": "stdout",
     "output_type": "stream",
     "text": [
      "          removed  observed  censored  entrance  at_risk\n",
      "event_at                                                \n",
      "0.0             0         0         0      1603     1603\n",
      "1.0             3         3         0         0     1603\n",
      "2.0             2         2         0         0     1600\n",
      "4.0             1         1         0         0     1598\n",
      "5.0             1         1         0         0     1597\n"
     ]
    }
   ],
   "source": [
    "table = lifelines.utils.survival_table_from_events(fhir_dt['dayss'], event_observed=fhir_dt['expired'])\n",
    "print(table.head())"
   ]
  },
  {
   "cell_type": "code",
   "execution_count": 282,
   "id": "94e7ee55",
   "metadata": {},
   "outputs": [
    {
     "data": {
      "image/png": "[encoded data removed]",
      "text/plain": [
       "<Figure size 640x480 with 1 Axes>"
      ]
     },
     "metadata": {},
     "output_type": "display_data"
    }
   ],
   "source": [
    "import numpy as np\n",
    "ci = kmf.confidence_interval_survival_function_\n",
    "ts = ci.index\n",
    "low, high = np.transpose(ci.values)\n",
    "\n",
    "plt.fill_between(ts, low, high, color='gray', alpha=0.1)\n",
    "kmf.survival_function_.plot(ax=plt.gca())\n",
    "plt.ylabel('Token Survival');"
   ]
  },
  {
   "cell_type": "code",
   "execution_count": null,
   "id": "be7abdd0",
   "metadata": {},
   "outputs": [],
   "source": []
  }
 ],
 "metadata": {
  "kernelspec": {
   "display_name": "Python 3 (ipykernel)",
   "language": "python",
   "name": "python3"
  },
  "language_info": {
   "codemirror_mode": {
    "name": "ipython",
    "version": 3
   },
   "file_extension": ".py",
   "mimetype": "text/x-python",
   "name": "python",
   "nbconvert_exporter": "python",
   "pygments_lexer": "ipython3",
   "version": "3.9.16"
  }
 },
 "nbformat": 4,
 "nbformat_minor": 5
}
