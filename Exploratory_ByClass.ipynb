{
 "cells": [
  {
   "cell_type": "code",
   "execution_count": 1,
   "id": "d52da426",
   "metadata": {},
   "outputs": [],
   "source": [
    "import pandas as pd\n",
    "import numpy as np\n",
    "import plotly.express as px\n",
    "from mylib import flatten, DrugUtil\n",
    "from IPython.display import display, HTML\n",
    "import time\n",
    "\n",
    "%load_ext autoreload\n",
    "%autoreload 2\n",
    "\n",
    "_rxnorm_ingredients_txt_path = \"input_static/RxTerms202203/RxTermsIngredients202203.txt\"\n",
    "_class_output_csv_path = \"output/rxclass.csv\"\n",
    "_class_input_file = \"input_static/_rxclass_2022-04-10.csv\"\n"
   ]
  },
  {
   "cell_type": "code",
   "execution_count": 8,
   "id": "72ec4b92",
   "metadata": {},
   "outputs": [],
   "source": [
    "# Renamed from EurekaUtil\n",
    "drug_util = DrugUtil(_rxnorm_ingredients_txt_path, rxclass_file=_class_input_file)\n",
    "rxclass = drug_util.rxclass.copy()"
   ]
  },
  {
   "cell_type": "code",
   "execution_count": 23,
   "id": "b0073fd5",
   "metadata": {},
   "outputs": [
    {
     "name": "stdout",
     "output_type": "stream",
     "text": [
      "   ING_RXCUI  INGREDIENT\n",
      "0       6918  metoprolol\n",
      "Using 6918\n",
      "{'classId': 'C07AB', 'className': 'Beta blocking agents, selective', 'classType': 'ATC1-4'}\n",
      "{'classId': 'N0000000161', 'className': 'Adrenergic beta-Antagonists', 'classType': 'MOA'}\n",
      "{'classId': 'N0000000161', 'className': 'Adrenergic beta-Antagonists', 'classType': 'MOA'}\n",
      "{'classId': 'N0000009923', 'className': 'Adrenergic beta1-Antagonists', 'classType': 'MOA'}\n"
     ]
    }
   ],
   "source": [
    "## Query RxClass API\n",
    "result = drug_util.queryClassAPI(queryStr='metoprolol', \n",
    "                                 rxcui=None, \n",
    "                                 verbose=True, \n",
    "                                 includeClassType=['MOA', 'ATC1-4'], \n",
    "                                 excludeClassTypes=[])"
   ]
  },
  {
   "cell_type": "code",
   "execution_count": 10,
   "id": "5d8527b2",
   "metadata": {},
   "outputs": [
    {
     "data": {
      "text/plain": [
       "['Unnamed: 0', 'rxcui', 'name', 'tty', 'classId', 'className', 'classType']"
      ]
     },
     "execution_count": 10,
     "metadata": {},
     "output_type": "execute_result"
    }
   ],
   "source": [
    "list(rxclass)"
   ]
  },
  {
   "cell_type": "code",
   "execution_count": 24,
   "id": "24c23405",
   "metadata": {},
   "outputs": [
    {
     "data": {
      "text/html": [
       "<div>\n",
       "<style scoped>\n",
       "    .dataframe tbody tr th:only-of-type {\n",
       "        vertical-align: middle;\n",
       "    }\n",
       "\n",
       "    .dataframe tbody tr th {\n",
       "        vertical-align: top;\n",
       "    }\n",
       "\n",
       "    .dataframe thead th {\n",
       "        text-align: right;\n",
       "    }\n",
       "</style>\n",
       "<table border=\"1\" class=\"dataframe\">\n",
       "  <thead>\n",
       "    <tr style=\"text-align: right;\">\n",
       "      <th></th>\n",
       "      <th>Unnamed: 0</th>\n",
       "      <th>rxcui</th>\n",
       "      <th>name</th>\n",
       "      <th>tty</th>\n",
       "      <th>classId</th>\n",
       "      <th>className</th>\n",
       "      <th>classType</th>\n",
       "    </tr>\n",
       "  </thead>\n",
       "  <tbody>\n",
       "    <tr>\n",
       "      <th>2403</th>\n",
       "      <td>2403</td>\n",
       "      <td>6918</td>\n",
       "      <td>metoprolol</td>\n",
       "      <td>IN</td>\n",
       "      <td>0</td>\n",
       "      <td>Anatomical Therapeutic Chemical (ATC1-4)</td>\n",
       "      <td>ATC1-4</td>\n",
       "    </tr>\n",
       "    <tr>\n",
       "      <th>5481</th>\n",
       "      <td>5481</td>\n",
       "      <td>6918</td>\n",
       "      <td>metoprolol</td>\n",
       "      <td>IN</td>\n",
       "      <td>C</td>\n",
       "      <td>CARDIOVASCULAR SYSTEM</td>\n",
       "      <td>ATC1-4</td>\n",
       "    </tr>\n",
       "    <tr>\n",
       "      <th>6197</th>\n",
       "      <td>6197</td>\n",
       "      <td>6918</td>\n",
       "      <td>metoprolol</td>\n",
       "      <td>IN</td>\n",
       "      <td>C07</td>\n",
       "      <td>BETA BLOCKING AGENTS</td>\n",
       "      <td>ATC1-4</td>\n",
       "    </tr>\n",
       "    <tr>\n",
       "      <th>6222</th>\n",
       "      <td>6222</td>\n",
       "      <td>6918</td>\n",
       "      <td>metoprolol</td>\n",
       "      <td>IN</td>\n",
       "      <td>C07A</td>\n",
       "      <td>BETA BLOCKING AGENTS</td>\n",
       "      <td>ATC1-4</td>\n",
       "    </tr>\n",
       "    <tr>\n",
       "      <th>6251</th>\n",
       "      <td>6251</td>\n",
       "      <td>6918</td>\n",
       "      <td>metoprolol</td>\n",
       "      <td>IN</td>\n",
       "      <td>C07AB</td>\n",
       "      <td>Beta blocking agents, selective</td>\n",
       "      <td>ATC1-4</td>\n",
       "    </tr>\n",
       "  </tbody>\n",
       "</table>\n",
       "</div>"
      ],
      "text/plain": [
       "      Unnamed: 0  rxcui        name tty classId  \\\n",
       "2403        2403   6918  metoprolol  IN       0   \n",
       "5481        5481   6918  metoprolol  IN       C   \n",
       "6197        6197   6918  metoprolol  IN     C07   \n",
       "6222        6222   6918  metoprolol  IN    C07A   \n",
       "6251        6251   6918  metoprolol  IN   C07AB   \n",
       "\n",
       "                                     className classType  \n",
       "2403  Anatomical Therapeutic Chemical (ATC1-4)    ATC1-4  \n",
       "5481                     CARDIOVASCULAR SYSTEM    ATC1-4  \n",
       "6197                      BETA BLOCKING AGENTS    ATC1-4  \n",
       "6222                      BETA BLOCKING AGENTS    ATC1-4  \n",
       "6251           Beta blocking agents, selective    ATC1-4  "
      ]
     },
     "execution_count": 24,
     "metadata": {},
     "output_type": "execute_result"
    }
   ],
   "source": [
    "rxclass[rxclass['rxcui'] ==  6918]"
   ]
  },
  {
   "cell_type": "code",
   "execution_count": null,
   "id": "095ee461",
   "metadata": {},
   "outputs": [],
   "source": []
  }
 ],
 "metadata": {
  "kernelspec": {
   "display_name": "Python 3.9.6 64-bit",
   "language": "python",
   "name": "python3"
  },
  "language_info": {
   "codemirror_mode": {
    "name": "ipython",
    "version": 3
   },
   "file_extension": ".py",
   "mimetype": "text/x-python",
   "name": "python",
   "nbconvert_exporter": "python",
   "pygments_lexer": "ipython3",
   "version": "3.9.6"
  },
  "vscode": {
   "interpreter": {
    "hash": "aee8b7b246df8f9039afb4144a1f6fd8d2ca17a180786b69acc140d282b71a49"
   }
  }
 },
 "nbformat": 4,
 "nbformat_minor": 5
}
