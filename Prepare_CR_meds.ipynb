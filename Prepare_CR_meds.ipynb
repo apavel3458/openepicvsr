{
 "cells": [
  {
   "cell_type": "code",
   "execution_count": 9,
   "id": "bec8ce0f",
   "metadata": {},
   "outputs": [
    {
     "name": "stdout",
     "output_type": "stream",
     "text": [
      "The autoreload extension is already loaded. To reload it, use:\n",
      "  %reload_ext autoreload\n"
     ]
    }
   ],
   "source": [
    "import pandas as pd\n",
    "import numpy as np\n",
    "import plotly.express as px\n",
    "from lib.DrugUtil import flatten, DrugUtil\n",
    "import matplotlib.pyplot as plt\n",
    "\n",
    "import plotly.express as px\n",
    "\n",
    "from lib.FhirDataUtil import FhirDataUtil\n",
    "from lib.CCSDataUtil import CCSDataUtil\n",
    "from IPython.display import display, HTML\n",
    "\n",
    "\n",
    "def printmd(string):\n",
    "    display(string)\n",
    "\n",
    "%load_ext autoreload\n",
    "%autoreload 2\n",
    "\n",
    "pd.set_option('display.max_columns', 50)\n",
    "pd.set_option('display.max_rows', 500)\n",
    "pd.set_option('display.max_colwidth', None)\n",
    "\n",
    "_output_dir = 'output/'\n",
    "\n",
    "_rxnorm_file = \"input_static/RxTerms202203/RxTerms202203.txt\"\n",
    "_rxnorm_ingredients_file = \"input_static/RxTerms202203/RxTermsIngredients202203.txt\"\n",
    "_rxclass_file = \"input_static/_rxclass_2022-04-10.csv\"\n",
    "\n",
    "_ccs_demographics_file = \"input/ccs/ccs_demographics.csv\"\n",
    "_ccs_medications_file = \"input/ccs/ccs_medications.csv\"\n",
    "_ccs_conditions_file = \"input/ccs/ccs_conditions.csv\"\n",
    "\n",
    "_fhir_demographics_file = \"input/fhir_20230423/fhir_demographics.csv\"\n",
    "\n",
    "_cr_file = 'input/chart_review/Chart_Review1.2c.xlsx'\n",
    "\n",
    "\n",
    "_cache_dir = 'cache/'"
   ]
  },
  {
   "cell_type": "code",
   "execution_count": 10,
   "id": "c579d7be",
   "metadata": {},
   "outputs": [
    {
     "name": "stdout",
     "output_type": "stream",
     "text": [
      "Reading rxclass file...\n",
      "Reading rxnorm file...\n"
     ]
    }
   ],
   "source": [
    "fhirUtil = FhirDataUtil()\n",
    "drugUtil = DrugUtil()\n",
    "drugUtil.load(rxnorm_file=_rxnorm_file,\n",
    "                        rxnorm_ingredients_file=_rxnorm_ingredients_file, \n",
    "                        rxclass_file=_rxclass_file)\n",
    "\n"
   ]
  },
  {
   "cell_type": "code",
   "execution_count": 14,
   "id": "53fb4c7d",
   "metadata": {},
   "outputs": [],
   "source": [
    "# Load chart review data\n",
    "from pathlib import Path\n",
    "xls = pd.ExcelFile(_cr_file, engine='openpyxl')\n",
    "# file = Path(_cr_file)\n",
    "# pd.read_excel(_cr_file, engine='openpyxl', sheet_name='Medications')\n",
    "\n",
    "cr_meds_raw = pd.read_excel(xls, 'Medications')\n",
    "cr_demo = pd.read_excel(xls, 'users_to_query')\n",
    "cr_meds_raw['start_date_d'] = pd.to_datetime(cr_meds_raw['start_date'], errors='coerce')\n",
    "cr_meds_raw['entered_on_d'] = pd.to_datetime(cr_meds_raw['entered_on'], errors='coerce')\n",
    "cr_meds = cr_meds_raw.copy()"
   ]
  },
  {
   "cell_type": "code",
   "execution_count": 15,
   "id": "3907f170",
   "metadata": {},
   "outputs": [
    {
     "data": {
      "image/png": "[encoded data removed]",
      "text/plain": [
       "<Figure size 640x480 with 1 Axes>"
      ]
     },
     "metadata": {},
     "output_type": "display_data"
    },
    {
     "data": {
      "text/plain": [
       "45    2011-09-21\n",
       "48    2011-09-21\n",
       "46    2011-09-21\n",
       "43    2011-09-21\n",
       "37    2011-09-21\n",
       "47    2012-01-05\n",
       "40    2012-01-05\n",
       "199   2013-10-03\n",
       "198   2013-10-03\n",
       "185   2013-10-03\n",
       "141   2014-02-09\n",
       "118   2014-03-03\n",
       "142   2014-03-13\n",
       "131   2014-03-13\n",
       "134   2014-03-13\n",
       "69    2014-05-08\n",
       "72    2014-05-09\n",
       "68    2014-07-21\n",
       "8     2015-01-09\n",
       "6     2015-02-23\n",
       "7     2015-02-23\n",
       "161   2015-03-02\n",
       "159   2015-03-08\n",
       "59    2017-02-21\n",
       "58    2017-03-07\n",
       "107   2017-04-17\n",
       "108   2017-04-17\n",
       "112   2017-04-17\n",
       "166   2017-08-25\n",
       "168   2017-08-25\n",
       "167   2017-08-25\n",
       "12    2018-03-27\n",
       "4     2018-03-27\n",
       "22    2018-03-27\n",
       "9     2018-04-02\n",
       "15    2018-04-02\n",
       "2     2018-04-02\n",
       "17    2018-05-02\n",
       "88    2018-06-05\n",
       "67    2018-12-03\n",
       "66    2018-12-03\n",
       "0     2019-01-15\n",
       "170   2019-01-16\n",
       "176   2019-01-17\n",
       "30    2019-03-12\n",
       "29    2019-03-12\n",
       "175   2019-07-15\n",
       "162   2019-10-28\n",
       "171   2019-11-20\n",
       "169   2019-11-26\n",
       "164   2020-03-02\n",
       "172   2020-04-16\n",
       "173   2020-04-16\n",
       "163   2020-05-15\n",
       "183   2020-10-01\n",
       "193   2021-01-20\n",
       "19    2021-04-02\n",
       "74    2021-04-12\n",
       "73    2021-04-12\n",
       "71    2021-04-12\n",
       "75    2021-04-19\n",
       "49    2021-04-26\n",
       "96    2021-04-29\n",
       "97    2021-04-29\n",
       "95    2021-04-29\n",
       "98    2021-04-29\n",
       "207   2021-05-10\n",
       "186   2021-05-14\n",
       "76    2021-05-18\n",
       "211   2021-05-24\n",
       "77    2021-05-25\n",
       "99    2021-05-25\n",
       "13    2021-06-08\n",
       "10    2021-06-08\n",
       "5     2021-06-08\n",
       "24    2021-06-08\n",
       "155   2021-06-15\n",
       "78    2021-06-22\n",
       "14    2021-06-30\n",
       "119   2021-08-06\n",
       "31    2021-08-10\n",
       "32    2021-08-10\n",
       "33    2021-08-23\n",
       "209   2021-08-27\n",
       "79    2021-08-30\n",
       "132   2021-08-31\n",
       "123   2021-09-09\n",
       "122   2021-09-09\n",
       "140   2021-09-09\n",
       "139   2021-09-09\n",
       "135   2021-09-09\n",
       "116   2021-09-09\n",
       "126   2021-09-09\n",
       "128   2021-09-09\n",
       "127   2021-09-09\n",
       "120   2021-09-09\n",
       "125   2021-09-09\n",
       "124   2021-09-09\n",
       "129   2021-09-09\n",
       "89    2021-09-13\n",
       "100   2021-09-13\n",
       "101   2021-09-13\n",
       "65    2021-09-20\n",
       "56    2021-09-20\n",
       "51    2021-09-26\n",
       "50    2021-09-26\n",
       "102   2021-10-15\n",
       "103   2021-10-15\n",
       "23    2021-10-26\n",
       "18    2021-10-26\n",
       "21    2021-10-26\n",
       "80    2021-11-17\n",
       "52    2021-11-29\n",
       "200   2021-12-14\n",
       "53    2021-12-17\n",
       "178   2022-01-24\n",
       "205   2022-01-25\n",
       "182   2022-01-25\n",
       "177   2022-02-04\n",
       "179   2022-02-10\n",
       "191   2022-02-22\n",
       "81    2022-03-10\n",
       "82    2022-03-10\n",
       "213   2022-03-29\n",
       "195   2022-06-17\n",
       "145   2022-07-05\n",
       "188   2022-07-06\n",
       "189   2022-07-06\n",
       "190   2022-07-06\n",
       "92    2022-07-13\n",
       "93    2022-07-13\n",
       "44    2022-07-13\n",
       "94    2022-07-13\n",
       "91    2022-07-13\n",
       "90    2022-07-13\n",
       "208   2022-07-20\n",
       "70    2022-09-16\n",
       "26    2022-09-30\n",
       "27    2022-09-30\n",
       "196   2022-10-11\n",
       "35    2022-11-19\n",
       "204   2022-12-16\n",
       "180   2022-12-16\n",
       "192   2022-12-20\n",
       "154   2022-12-21\n",
       "Name: start_date_d, dtype: datetime64[ns]"
      ]
     },
     "execution_count": 15,
     "metadata": {},
     "output_type": "execute_result"
    }
   ],
   "source": [
    "years = cr_meds['entered_on_d'].dt.year.value_counts().reset_index(name=\"Medications\")\n",
    "bar = plt.bar(years['index'], years['Medications'])\n",
    "plt.bar_label(bar)\n",
    "plt.title('Conditions by year from FHIR')\n",
    "plt.ylabel('N Unique conditions')\n",
    "plt.show()\n",
    "cr_meds['start_date_d'].dropna().sort_values()"
   ]
  },
  {
   "cell_type": "code",
   "execution_count": 16,
   "id": "268c7b0b",
   "metadata": {},
   "outputs": [
    {
     "name": "stdout",
     "output_type": "stream",
     "text": [
      "100 / 214\n",
      "200 / 214\n"
     ]
    }
   ],
   "source": [
    "cr_meds = drugUtil.add_ingredient_columns(cr_meds, 'medication_name', new_code_column='cr_ing_code', new_name_column='cr_name_code').explode(['cr_ing_code', 'cr_name_code'])\n"
   ]
  },
  {
   "cell_type": "code",
   "execution_count": 18,
   "id": "1f3ce511",
   "metadata": {},
   "outputs": [],
   "source": [
    "cr_meds.to_csv(_cache_dir+'cr_meds_mapped.csv')"
   ]
  },
  {
   "cell_type": "code",
   "execution_count": null,
   "id": "23eebecd",
   "metadata": {},
   "outputs": [],
   "source": []
  }
 ],
 "metadata": {
  "kernelspec": {
   "display_name": "Python 3 (ipykernel)",
   "language": "python",
   "name": "python3"
  },
  "language_info": {
   "codemirror_mode": {
    "name": "ipython",
    "version": 3
   },
   "file_extension": ".py",
   "mimetype": "text/x-python",
   "name": "python",
   "nbconvert_exporter": "python",
   "pygments_lexer": "ipython3",
   "version": "3.9.16"
  }
 },
 "nbformat": 4,
 "nbformat_minor": 5
}
