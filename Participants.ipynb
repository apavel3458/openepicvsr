{
 "cells": [
  {
   "cell_type": "code",
   "execution_count": 30,
   "id": "ba7e6680",
   "metadata": {},
   "outputs": [
    {
     "name": "stdout",
     "output_type": "stream",
     "text": [
      "The autoreload extension is already loaded. To reload it, use:\n",
      "  %reload_ext autoreload\n"
     ]
    }
   ],
   "source": [
    "import pandas as pd\n",
    "import numpy as np\n",
    "import plotly.express as px\n",
    "from lib.DrugUtil import flatten, DrugUtil\n",
    "\n",
    "import plotly.express as px\n",
    "from lib.FhirDataUtil import FhirDataUtil\n",
    "from lib.CCSDataUtil import CCSDataUtil\n",
    "from IPython.display import display, HTML\n",
    "\n",
    "\n",
    "def printmd(string):\n",
    "    display(string)\n",
    "\n",
    "%load_ext autoreload\n",
    "%autoreload 2\n",
    "\n",
    "pd.set_option('display.max_columns', 50)\n",
    "pd.set_option('display.max_rows', 500)\n",
    "pd.set_option('display.max_colwidth', None)\n",
    "\n",
    "_output_dir = 'output/'\n",
    "\n",
    "_rxnorm_file = \"input_static/RxTerms202203/RxTerms202203.txt\"\n",
    "_rxnorm_ingredients_file = \"input_static/RxTerms202203/RxTermsIngredients202203.txt\"\n",
    "_rxclass_file = \"input_static/_rxclass_2022-04-10.csv\"\n",
    "\n",
    "_ccs_demographics_file = \"input/ccs/ccs_demographics.csv\"\n",
    "_ccs_medications_file = \"input/ccs/ccs_medications.csv\"\n",
    "_ccs_conditions_file = \"input/ccs/ccs_conditions.csv\"\n",
    "\n",
    "_fhir_demographics_file = \"input/fhir_20230423/fhir_demographics.csv\"\n",
    "\n",
    "_pc_demographics_file = \"input/pcornet/demographic_fhir.csv\"\n",
    "_pc_conditions_file = \"input/pcornet2/diagnosis_fhir_v2.csv\"\n",
    "\n",
    "_cache_dir = 'cache/'"
   ]
  },
  {
   "cell_type": "code",
   "execution_count": 32,
   "id": "1f58e1d9",
   "metadata": {},
   "outputs": [
    {
     "name": "stdout",
     "output_type": "stream",
     "text": [
      "Reading rxclass file...\n",
      "Reading rxnorm file...\n",
      "Loaded demographics file with entries:  99064\n"
     ]
    },
    {
     "name": "stderr",
     "output_type": "stream",
     "text": [
      "/app/lib/CCSDataUtil.py:75: DtypeWarning: Columns (11,14,15) have mixed types. Specify dtype option on import or set low_memory=False.\n",
      "  self.demographics = pd.read_csv(ccs_demographics)\n",
      "/app/lib/CCSDataUtil.py:13: DtypeWarning: Columns (5,6,11,12,13,18) have mixed types. Specify dtype option on import or set low_memory=False.\n",
      "  self.conditions = pd.read_csv(ccs_conditions_file, delimiter=',')\n"
     ]
    },
    {
     "name": "stdout",
     "output_type": "stream",
     "text": [
      "Loaded CCS conditions records: 95301\n"
     ]
    }
   ],
   "source": [
    "fhirUtil = FhirDataUtil()\n",
    "drugUtil = DrugUtil()\n",
    "drugUtil.load(rxnorm_file=_rxnorm_file,\n",
    "                        rxnorm_ingredients_file=_rxnorm_ingredients_file, \n",
    "                        rxclass_file=_rxclass_file)\n",
    "\n",
    "ccsUtil = CCSDataUtil(drugUtil)\n",
    "ccsUtil.load_demographics(_ccs_demographics_file)\n",
    "ccs_demo = ccsUtil.demographics\n",
    "ccsUtil.load_conditions(_ccs_conditions_file)\n",
    "ccs_cond = ccsUtil.conditions\n",
    "\n",
    "fhirUtil.load_demographics(fhir_demographics_file=_fhir_demographics_file)\n",
    "fhir_demo = fhirUtil.demographics\n",
    "\n",
    "pc_demo = pd.read_csv(_pc_demographics_file, low_memory=False)\n",
    "pc_cond = pd.read_csv(_pc_conditions_file, low_memory=False)\n"
   ]
  },
  {
   "cell_type": "code",
   "execution_count": 33,
   "id": "413fa16b",
   "metadata": {},
   "outputs": [],
   "source": [
    "# Load PCORnet conditions\n",
    "\n",
    "pc_cond['dx_date_d'] = pd.to_datetime(pc_cond['dx_date'], format=\"%d%b%Y\", errors=\"coerce\").fillna(pd.to_datetime(pc_cond['admit_date'], format=\"%d%b%Y\", errors=\"coerce\"))\n",
    "# fhir_enc_raw['start_d'] = pd.to_datetime(fhir_enc_raw['start'], format=\"%Y-%m-%dT%H:%M:%SZ\", errors=\"coerce\").fillna(pd.to_datetime(fhir_enc_raw['start'], format=\"%Y-%m-%d\", errors=\"coerce\"))\n",
    "\n",
    "site_config = {\n",
    "    'UCSFHEALTHPARTN': 'openepic_shared_ucsf_health',\n",
    "    'UT1PARTNER': 'openepic_shared_university_of_utah_healthcare',\n",
    "    'NY1PARTNER': 'openepic_shared_nyu_langone_medical_center',\n",
    "    'SH2PARTNER': 'openepic_shared_sutter_health',\n",
    "    'OS2PARTNER': 'openepic_shared_ochsner_health_system',\n",
    "    'MF1PARTNER': 'openepic_shared_montefiore_medical_center',\n",
    "    'BA1PARTNER': 'openepic_shared_baylor_scott_white'\n",
    "}\n",
    "pc_cond['site'] = pc_cond['siteid']\n",
    "pc_cond = pc_cond.replace({'site': site_config})\n",
    "\n",
    "pc_demo['provider'] = pc_demo['siteid']\n",
    "pc_demo = pc_demo.replace({'provider': site_config})\n"
   ]
  },
  {
   "cell_type": "code",
   "execution_count": 5,
   "id": "e51a86a0",
   "metadata": {},
   "outputs": [
    {
     "data": {
      "text/plain": [
       "left_only     97508\n",
       "both           1555\n",
       "right_only       48\n",
       "Name: _merge, dtype: int64"
      ]
     },
     "execution_count": 5,
     "metadata": {},
     "output_type": "execute_result"
    }
   ],
   "source": [
    "\n",
    "ccs_demo.drop_duplicates('user_id').merge(fhir_demo.drop_duplicates('user_id'), on='user_id', how=\"outer\", indicator=True)['_merge'].value_counts()"
   ]
  },
  {
   "cell_type": "code",
   "execution_count": 6,
   "id": "24c83db4",
   "metadata": {},
   "outputs": [
    {
     "data": {
      "text/plain": [
       "left_only     98436\n",
       "both            627\n",
       "right_only        2\n",
       "Name: _merge, dtype: int64"
      ]
     },
     "execution_count": 6,
     "metadata": {},
     "output_type": "execute_result"
    }
   ],
   "source": [
    "\n",
    "ccs_demo.drop_duplicates('user_id').merge(pc_demo.drop_duplicates('user_id'), on='user_id', how=\"outer\", indicator=True)['_merge'].value_counts()\n"
   ]
  },
  {
   "cell_type": "code",
   "execution_count": 8,
   "id": "9f3ef9e7",
   "metadata": {},
   "outputs": [
    {
     "data": {
      "text/plain": [
       "left_only     985\n",
       "both          618\n",
       "right_only     11\n",
       "Name: _merge, dtype: int64"
      ]
     },
     "execution_count": 8,
     "metadata": {},
     "output_type": "execute_result"
    }
   ],
   "source": [
    "fhir_demo.drop_duplicates('user_id').merge(pc_demo.drop_duplicates('user_id'), on='user_id', how=\"outer\", indicator=True)['_merge'].value_counts()\n"
   ]
  },
  {
   "cell_type": "code",
   "execution_count": 7,
   "id": "7377fcc9",
   "metadata": {},
   "outputs": [
    {
     "data": {
      "text/plain": [
       "99063"
      ]
     },
     "execution_count": 7,
     "metadata": {},
     "output_type": "execute_result"
    }
   ],
   "source": [
    "ccs_demo['user_id'].nunique()"
   ]
  },
  {
   "cell_type": "code",
   "execution_count": 20,
   "id": "33242092",
   "metadata": {},
   "outputs": [
    {
     "data": {
      "text/plain": [
       "1603"
      ]
     },
     "execution_count": 20,
     "metadata": {},
     "output_type": "execute_result"
    }
   ],
   "source": [
    "fhir_demo['user_id'].nunique()"
   ]
  },
  {
   "cell_type": "code",
   "execution_count": 25,
   "id": "592cd797",
   "metadata": {},
   "outputs": [
    {
     "data": {
      "text/html": [
       "<div>\n",
       "<style scoped>\n",
       "    .dataframe tbody tr th:only-of-type {\n",
       "        vertical-align: middle;\n",
       "    }\n",
       "\n",
       "    .dataframe tbody tr th {\n",
       "        vertical-align: top;\n",
       "    }\n",
       "\n",
       "    .dataframe thead th {\n",
       "        text-align: right;\n",
       "    }\n",
       "</style>\n",
       "<table border=\"1\" class=\"dataframe\">\n",
       "  <thead>\n",
       "    <tr style=\"text-align: right;\">\n",
       "      <th></th>\n",
       "      <th>provider</th>\n",
       "      <th>count</th>\n",
       "    </tr>\n",
       "  </thead>\n",
       "  <tbody>\n",
       "    <tr>\n",
       "      <th>155</th>\n",
       "      <td>openepic_shared_sutter_health</td>\n",
       "      <td>272</td>\n",
       "    </tr>\n",
       "    <tr>\n",
       "      <th>173</th>\n",
       "      <td>openepic_shared_ucsf_health</td>\n",
       "      <td>234</td>\n",
       "    </tr>\n",
       "    <tr>\n",
       "      <th>189</th>\n",
       "      <td>openepic_shared_university_of_utah_healthcare</td>\n",
       "      <td>166</td>\n",
       "    </tr>\n",
       "    <tr>\n",
       "      <th>111</th>\n",
       "      <td>openepic_shared_nyu_langone_medical_center</td>\n",
       "      <td>130</td>\n",
       "    </tr>\n",
       "    <tr>\n",
       "      <th>113</th>\n",
       "      <td>openepic_shared_ochsner_health_system</td>\n",
       "      <td>73</td>\n",
       "    </tr>\n",
       "    <tr>\n",
       "      <th>74</th>\n",
       "      <td>openepic_shared_kaiser_permanente_california_northern</td>\n",
       "      <td>37</td>\n",
       "    </tr>\n",
       "    <tr>\n",
       "      <th>17</th>\n",
       "      <td>openepic_shared_baylor_scott_white</td>\n",
       "      <td>36</td>\n",
       "    </tr>\n",
       "    <tr>\n",
       "      <th>100</th>\n",
       "      <td>openepic_shared_montefiore_medical_center</td>\n",
       "      <td>36</td>\n",
       "    </tr>\n",
       "    <tr>\n",
       "      <th>154</th>\n",
       "      <td>openepic_shared_stanford_health_care</td>\n",
       "      <td>35</td>\n",
       "    </tr>\n",
       "    <tr>\n",
       "      <th>72</th>\n",
       "      <td>openepic_shared_john_muir_health</td>\n",
       "      <td>32</td>\n",
       "    </tr>\n",
       "    <tr>\n",
       "      <th>102</th>\n",
       "      <td>openepic_shared_mount_sinai_health_system</td>\n",
       "      <td>27</td>\n",
       "    </tr>\n",
       "    <tr>\n",
       "      <th>23</th>\n",
       "      <td>openepic_shared_brown_toland_physicians</td>\n",
       "      <td>24</td>\n",
       "    </tr>\n",
       "    <tr>\n",
       "      <th>110</th>\n",
       "      <td>openepic_shared_nyc_health_hospitals</td>\n",
       "      <td>19</td>\n",
       "    </tr>\n",
       "    <tr>\n",
       "      <th>157</th>\n",
       "      <td>openepic_shared_texas_health_resources</td>\n",
       "      <td>16</td>\n",
       "    </tr>\n",
       "    <tr>\n",
       "      <th>124</th>\n",
       "      <td>openepic_shared_penn_medicine</td>\n",
       "      <td>13</td>\n",
       "    </tr>\n",
       "  </tbody>\n",
       "</table>\n",
       "</div>"
      ],
      "text/plain": [
       "                                                  provider  count\n",
       "155                          openepic_shared_sutter_health    272\n",
       "173                            openepic_shared_ucsf_health    234\n",
       "189          openepic_shared_university_of_utah_healthcare    166\n",
       "111             openepic_shared_nyu_langone_medical_center    130\n",
       "113                  openepic_shared_ochsner_health_system     73\n",
       "74   openepic_shared_kaiser_permanente_california_northern     37\n",
       "17                      openepic_shared_baylor_scott_white     36\n",
       "100              openepic_shared_montefiore_medical_center     36\n",
       "154                   openepic_shared_stanford_health_care     35\n",
       "72                        openepic_shared_john_muir_health     32\n",
       "102              openepic_shared_mount_sinai_health_system     27\n",
       "23                 openepic_shared_brown_toland_physicians     24\n",
       "110                   openepic_shared_nyc_health_hospitals     19\n",
       "157                 openepic_shared_texas_health_resources     16\n",
       "124                          openepic_shared_penn_medicine     13"
      ]
     },
     "execution_count": 25,
     "metadata": {},
     "output_type": "execute_result"
    }
   ],
   "source": [
    "c = fhir_demo.drop_duplicates(['user_id','provider']).groupby(['provider'])['user_id'].count().reset_index(name=\"count\")\n",
    "c.sort_values('count', ascending=False).head(15)"
   ]
  },
  {
   "cell_type": "code",
   "execution_count": 35,
   "id": "f1ca1613",
   "metadata": {},
   "outputs": [
    {
     "data": {
      "text/plain": [
       "provider\n",
       "openepic_shared_baylor_scott_white                27\n",
       "openepic_shared_montefiore_medical_center         31\n",
       "openepic_shared_nyu_langone_medical_center       112\n",
       "openepic_shared_ochsner_health_system             56\n",
       "openepic_shared_sutter_health                    111\n",
       "openepic_shared_ucsf_health                      156\n",
       "openepic_shared_university_of_utah_healthcare    136\n",
       "Name: user_id, dtype: int64"
      ]
     },
     "execution_count": 35,
     "metadata": {},
     "output_type": "execute_result"
    }
   ],
   "source": [
    "pc_demo.groupby('provider')['user_id'].count()"
   ]
  },
  {
   "cell_type": "code",
   "execution_count": null,
   "id": "487d809f",
   "metadata": {},
   "outputs": [],
   "source": []
  }
 ],
 "metadata": {
  "kernelspec": {
   "display_name": "Python 3 (ipykernel)",
   "language": "python",
   "name": "python3"
  },
  "language_info": {
   "codemirror_mode": {
    "name": "ipython",
    "version": 3
   },
   "file_extension": ".py",
   "mimetype": "text/x-python",
   "name": "python",
   "nbconvert_exporter": "python",
   "pygments_lexer": "ipython3",
   "version": "3.9.16"
  }
 },
 "nbformat": 4,
 "nbformat_minor": 5
}
